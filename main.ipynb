{
 "cells": [
  {
   "cell_type": "markdown",
   "metadata": {},
   "source": [
    "# Библиотеки"
   ]
  },
  {
   "cell_type": "code",
   "execution_count": 57,
   "metadata": {},
   "outputs": [],
   "source": [
    "import pandas as pd\n",
    "import plotly.graph_objs as go\n",
    "import plotly.express as px\n",
    "from plotly.subplots import make_subplots\n",
    "import re\n",
    "from collections import Counter\n",
    "from dash import Dash, dcc, html, Input, Output, callback\n",
    "import plotly.express as px\n",
    "import numpy as np"
   ]
  },
  {
   "cell_type": "markdown",
   "metadata": {},
   "source": [
    "# Обзор данных "
   ]
  },
  {
   "cell_type": "code",
   "execution_count": 58,
   "metadata": {},
   "outputs": [],
   "source": [
    "data = pd.read_csv(\"vacancy_list_test.csv\")\n",
    "resume_data = pd.read_csv(\"resume_list_test.csv\")"
   ]
  },
  {
   "cell_type": "code",
   "execution_count": 59,
   "metadata": {},
   "outputs": [
    {
     "name": "stdout",
     "output_type": "stream",
     "text": [
      "<class 'pandas.core.frame.DataFrame'>\n",
      "RangeIndex: 3304 entries, 0 to 3303\n",
      "Data columns (total 13 columns):\n",
      " #   Column          Non-Null Count  Dtype \n",
      "---  ------          --------------  ----- \n",
      " 0   Unnamed: 0      3304 non-null   int64 \n",
      " 1   title           3304 non-null   object\n",
      " 2   salary          3304 non-null   object\n",
      " 3   experience      3304 non-null   object\n",
      " 4   gender          3304 non-null   object\n",
      " 5   age             3304 non-null   object\n",
      " 6   city            3304 non-null   object\n",
      " 7   tags_list       3304 non-null   object\n",
      " 8   tags_list_len   3304 non-null   int64 \n",
      " 9   skills-content  3064 non-null   object\n",
      " 10  language        3304 non-null   object\n",
      " 11  work_text       3301 non-null   object\n",
      " 12  specialization  3288 non-null   object\n",
      "dtypes: int64(2), object(11)\n",
      "memory usage: 335.7+ KB\n"
     ]
    },
    {
     "data": {
      "text/html": [
       "<div>\n",
       "<style scoped>\n",
       "    .dataframe tbody tr th:only-of-type {\n",
       "        vertical-align: middle;\n",
       "    }\n",
       "\n",
       "    .dataframe tbody tr th {\n",
       "        vertical-align: top;\n",
       "    }\n",
       "\n",
       "    .dataframe thead th {\n",
       "        text-align: right;\n",
       "    }\n",
       "</style>\n",
       "<table border=\"1\" class=\"dataframe\">\n",
       "  <thead>\n",
       "    <tr style=\"text-align: right;\">\n",
       "      <th></th>\n",
       "      <th>Unnamed: 0</th>\n",
       "      <th>title</th>\n",
       "      <th>salary</th>\n",
       "      <th>experience</th>\n",
       "      <th>gender</th>\n",
       "      <th>age</th>\n",
       "      <th>city</th>\n",
       "      <th>tags_list</th>\n",
       "      <th>tags_list_len</th>\n",
       "      <th>skills-content</th>\n",
       "      <th>language</th>\n",
       "      <th>work_text</th>\n",
       "      <th>specialization</th>\n",
       "    </tr>\n",
       "  </thead>\n",
       "  <tbody>\n",
       "    <tr>\n",
       "      <th>0</th>\n",
       "      <td>0</td>\n",
       "      <td>CMO, Head of marketing/digital marketing, дире...</td>\n",
       "      <td>200 000 руб.</td>\n",
       "      <td>Опыт работы 10 лет 10 месяцев</td>\n",
       "      <td>Мужчина</td>\n",
       "      <td>29 лет</td>\n",
       "      <td>Санкт-Петербург</td>\n",
       "      <td>['Adobe Illustrator', 'Adobe InDesign', 'Adobe...</td>\n",
       "      <td>26</td>\n",
       "      <td>Искренне люблю удобные цифровые проекты и клие...</td>\n",
       "      <td>['Русский — Родной', 'Английский — B1 — Средний']</td>\n",
       "      <td>Онлайн сервис для студентов\\nДиректор по марке...</td>\n",
       "      <td>Специализации:\\nРуководитель отдела маркетинга...</td>\n",
       "    </tr>\n",
       "    <tr>\n",
       "      <th>1</th>\n",
       "      <td>1</td>\n",
       "      <td>Директор по маркетингу e-commerce</td>\n",
       "      <td>350 000 руб.</td>\n",
       "      <td>Опыт работы 11 лет 8 месяцев</td>\n",
       "      <td>Мужчина</td>\n",
       "      <td>33 года</td>\n",
       "      <td>Санкт-Петербург</td>\n",
       "      <td>['E-Commerce', 'Internet Marketing', 'Ведение ...</td>\n",
       "      <td>15</td>\n",
       "      <td>В e-commerce прошел путь от менеджера интернет...</td>\n",
       "      <td>['Русский — Родной', 'Английский — C1 — Продви...</td>\n",
       "      <td>Kotofoto.ru\\nДиректор по маркетингу и электрон...</td>\n",
       "      <td>Специализации:\\nДиректор по маркетингу и PR (CMO)</td>\n",
       "    </tr>\n",
       "    <tr>\n",
       "      <th>2</th>\n",
       "      <td>2</td>\n",
       "      <td>Директор по маркетингу</td>\n",
       "      <td>200 000 руб.</td>\n",
       "      <td>Опыт работы 17 лет 6 месяцев</td>\n",
       "      <td>Женщина</td>\n",
       "      <td>38 лет</td>\n",
       "      <td>Санкт-Петербург</td>\n",
       "      <td>['B2B маркетинг', 'Internet Marketing', 'Бюдже...</td>\n",
       "      <td>17</td>\n",
       "      <td>1. 15 лет опыта в маркетинге: B2B &amp; B2C.\\n2. В...</td>\n",
       "      <td>['Русский — Родной', 'Английский — C1 — Продви...</td>\n",
       "      <td>Ренталформ\\nСанкт-Петербург, rentalform.ru/\\nД...</td>\n",
       "      <td>Специализации:\\nEvent-менеджер\\nМенеджер по ма...</td>\n",
       "    </tr>\n",
       "    <tr>\n",
       "      <th>3</th>\n",
       "      <td>3</td>\n",
       "      <td>Директор по маркетингу</td>\n",
       "      <td>185 000 руб.</td>\n",
       "      <td>Опыт работы 17 лет 6 месяцев</td>\n",
       "      <td>Женщина</td>\n",
       "      <td>39 лет</td>\n",
       "      <td>Санкт-Петербург</td>\n",
       "      <td>['Маркетинговые коммуникации', 'Бизнес-планиро...</td>\n",
       "      <td>22</td>\n",
       "      <td>Увлечения, хобби: театральное и изобразительно...</td>\n",
       "      <td>['Русский — Родной', 'Английский — C1 — Продви...</td>\n",
       "      <td>Рыбаков Плейскул (экосистема Игоря Рыбакова, м...</td>\n",
       "      <td>Специализации:\\nДиректор по маркетингу и PR (C...</td>\n",
       "    </tr>\n",
       "    <tr>\n",
       "      <th>4</th>\n",
       "      <td>4</td>\n",
       "      <td>Руководитель отдела маркетинга</td>\n",
       "      <td>150 000 руб.</td>\n",
       "      <td>Опыт работы 6 лет 11 месяцев</td>\n",
       "      <td>Женщина</td>\n",
       "      <td>40 лет</td>\n",
       "      <td>Москва</td>\n",
       "      <td>['Обучаемость']</td>\n",
       "      <td>1</td>\n",
       "      <td>MS Excel\\nГрафический дизайн (CorelDRAW)\\nКреа...</td>\n",
       "      <td>['Русский — Родной', 'Английский — B2 — Средне...</td>\n",
       "      <td>ГК \"Спецпродукт\"\\nМосква, savia.ru\\nРуководите...</td>\n",
       "      <td>Специализации:\\nДиректор по маркетингу и PR (C...</td>\n",
       "    </tr>\n",
       "  </tbody>\n",
       "</table>\n",
       "</div>"
      ],
      "text/plain": [
       "   Unnamed: 0                                              title  \\\n",
       "0           0  CMO, Head of marketing/digital marketing, дире...   \n",
       "1           1                  Директор по маркетингу e-commerce   \n",
       "2           2                             Директор по маркетингу   \n",
       "3           3                             Директор по маркетингу   \n",
       "4           4                     Руководитель отдела маркетинга   \n",
       "\n",
       "         salary                     experience   gender      age  \\\n",
       "0  200 000 руб.  Опыт работы 10 лет 10 месяцев  Мужчина   29 лет   \n",
       "1  350 000 руб.   Опыт работы 11 лет 8 месяцев  Мужчина  33 года   \n",
       "2  200 000 руб.   Опыт работы 17 лет 6 месяцев  Женщина   38 лет   \n",
       "3  185 000 руб.   Опыт работы 17 лет 6 месяцев  Женщина   39 лет   \n",
       "4  150 000 руб.   Опыт работы 6 лет 11 месяцев  Женщина   40 лет   \n",
       "\n",
       "              city                                          tags_list  \\\n",
       "0  Санкт-Петербург  ['Adobe Illustrator', 'Adobe InDesign', 'Adobe...   \n",
       "1  Санкт-Петербург  ['E-Commerce', 'Internet Marketing', 'Ведение ...   \n",
       "2  Санкт-Петербург  ['B2B маркетинг', 'Internet Marketing', 'Бюдже...   \n",
       "3  Санкт-Петербург  ['Маркетинговые коммуникации', 'Бизнес-планиро...   \n",
       "4           Москва                                    ['Обучаемость']   \n",
       "\n",
       "   tags_list_len                                     skills-content  \\\n",
       "0             26  Искренне люблю удобные цифровые проекты и клие...   \n",
       "1             15  В e-commerce прошел путь от менеджера интернет...   \n",
       "2             17  1. 15 лет опыта в маркетинге: B2B & B2C.\\n2. В...   \n",
       "3             22  Увлечения, хобби: театральное и изобразительно...   \n",
       "4              1  MS Excel\\nГрафический дизайн (CorelDRAW)\\nКреа...   \n",
       "\n",
       "                                            language  \\\n",
       "0  ['Русский — Родной', 'Английский — B1 — Средний']   \n",
       "1  ['Русский — Родной', 'Английский — C1 — Продви...   \n",
       "2  ['Русский — Родной', 'Английский — C1 — Продви...   \n",
       "3  ['Русский — Родной', 'Английский — C1 — Продви...   \n",
       "4  ['Русский — Родной', 'Английский — B2 — Средне...   \n",
       "\n",
       "                                           work_text  \\\n",
       "0  Онлайн сервис для студентов\\nДиректор по марке...   \n",
       "1  Kotofoto.ru\\nДиректор по маркетингу и электрон...   \n",
       "2  Ренталформ\\nСанкт-Петербург, rentalform.ru/\\nД...   \n",
       "3  Рыбаков Плейскул (экосистема Игоря Рыбакова, м...   \n",
       "4  ГК \"Спецпродукт\"\\nМосква, savia.ru\\nРуководите...   \n",
       "\n",
       "                                      specialization  \n",
       "0  Специализации:\\nРуководитель отдела маркетинга...  \n",
       "1  Специализации:\\nДиректор по маркетингу и PR (CMO)  \n",
       "2  Специализации:\\nEvent-менеджер\\nМенеджер по ма...  \n",
       "3  Специализации:\\nДиректор по маркетингу и PR (C...  \n",
       "4  Специализации:\\nДиректор по маркетингу и PR (C...  "
      ]
     },
     "execution_count": 59,
     "metadata": {},
     "output_type": "execute_result"
    }
   ],
   "source": [
    "resume_data.info()\n",
    "resume_data.head(5)"
   ]
  },
  {
   "cell_type": "code",
   "execution_count": 60,
   "metadata": {},
   "outputs": [
    {
     "data": {
      "text/plain": [
       "Unnamed: 0         int64\n",
       "title             object\n",
       "salary            object\n",
       "experience        object\n",
       "gender            object\n",
       "age               object\n",
       "city              object\n",
       "tags_list         object\n",
       "tags_list_len      int64\n",
       "skills-content    object\n",
       "language          object\n",
       "work_text         object\n",
       "specialization    object\n",
       "dtype: object"
      ]
     },
     "execution_count": 60,
     "metadata": {},
     "output_type": "execute_result"
    }
   ],
   "source": [
    "resume_data.dtypes"
   ]
  },
  {
   "cell_type": "code",
   "execution_count": 61,
   "metadata": {},
   "outputs": [
    {
     "name": "stdout",
     "output_type": "stream",
     "text": [
      "<class 'pandas.core.frame.DataFrame'>\n",
      "RangeIndex: 1709 entries, 0 to 1708\n",
      "Data columns (total 8 columns):\n",
      " #   Column         Non-Null Count  Dtype \n",
      "---  ------         --------------  ----- \n",
      " 0   Unnamed: 0     1709 non-null   int64 \n",
      " 1   city2          906 non-null    object\n",
      " 2   experience     1709 non-null   object\n",
      " 3   description    1709 non-null   object\n",
      " 4   salary         1709 non-null   object\n",
      " 5   tags_list      1709 non-null   object\n",
      " 6   tags_list_len  1709 non-null   int64 \n",
      " 7   city           803 non-null    object\n",
      "dtypes: int64(2), object(6)\n",
      "memory usage: 106.9+ KB\n"
     ]
    },
    {
     "data": {
      "text/html": [
       "<div>\n",
       "<style scoped>\n",
       "    .dataframe tbody tr th:only-of-type {\n",
       "        vertical-align: middle;\n",
       "    }\n",
       "\n",
       "    .dataframe tbody tr th {\n",
       "        vertical-align: top;\n",
       "    }\n",
       "\n",
       "    .dataframe thead th {\n",
       "        text-align: right;\n",
       "    }\n",
       "</style>\n",
       "<table border=\"1\" class=\"dataframe\">\n",
       "  <thead>\n",
       "    <tr style=\"text-align: right;\">\n",
       "      <th></th>\n",
       "      <th>Unnamed: 0</th>\n",
       "      <th>city2</th>\n",
       "      <th>experience</th>\n",
       "      <th>description</th>\n",
       "      <th>salary</th>\n",
       "      <th>tags_list</th>\n",
       "      <th>tags_list_len</th>\n",
       "      <th>city</th>\n",
       "    </tr>\n",
       "  </thead>\n",
       "  <tbody>\n",
       "    <tr>\n",
       "      <th>0</th>\n",
       "      <td>0</td>\n",
       "      <td>Улица 1905 года, Москва, улица 1905 года, 10с1</td>\n",
       "      <td>1–3 года</td>\n",
       "      <td>Привет наш будущий кандидат на должность марке...</td>\n",
       "      <td>от 120 000 руб. на руки</td>\n",
       "      <td>['SWOT анализ', 'Adobe Photoshop', 'Работа в к...</td>\n",
       "      <td>5</td>\n",
       "      <td>NaN</td>\n",
       "    </tr>\n",
       "    <tr>\n",
       "      <th>1</th>\n",
       "      <td>1</td>\n",
       "      <td>NaN</td>\n",
       "      <td>3–6 лет</td>\n",
       "      <td>Привет! Мы Семь Семян - онлайн супермаркет тов...</td>\n",
       "      <td>от 200 000 руб. на руки</td>\n",
       "      <td>['Медиапланирование', 'Интернет-реклама', 'Кон...</td>\n",
       "      <td>5</td>\n",
       "      <td>Москва, Румянцево</td>\n",
       "    </tr>\n",
       "    <tr>\n",
       "      <th>2</th>\n",
       "      <td>2</td>\n",
       "      <td>Электросталь, Строительный переулок, 10</td>\n",
       "      <td>более 6 лет</td>\n",
       "      <td>LEGRAND - производитель федерального уровня с ...</td>\n",
       "      <td>от 200 000 до 400 000 руб. на руки</td>\n",
       "      <td>['B2B маркетинг', 'unit-экономика', 'Запуск но...</td>\n",
       "      <td>12</td>\n",
       "      <td>NaN</td>\n",
       "    </tr>\n",
       "    <tr>\n",
       "      <th>3</th>\n",
       "      <td>3</td>\n",
       "      <td>NaN</td>\n",
       "      <td>1–3 года</td>\n",
       "      <td>Наша школа Футбола и спортивной психологии явл...</td>\n",
       "      <td>от 60 000 до 120 000 руб. на руки</td>\n",
       "      <td>['E-Mail Marketing', 'Стратегический маркетинг...</td>\n",
       "      <td>9</td>\n",
       "      <td>Москва</td>\n",
       "    </tr>\n",
       "    <tr>\n",
       "      <th>4</th>\n",
       "      <td>4</td>\n",
       "      <td>NaN</td>\n",
       "      <td>более 6 лет</td>\n",
       "      <td>Мы - международная FinTech компания AMarkets. ...</td>\n",
       "      <td>от 10 000 USD на руки</td>\n",
       "      <td>[]</td>\n",
       "      <td>0</td>\n",
       "      <td>Москва</td>\n",
       "    </tr>\n",
       "  </tbody>\n",
       "</table>\n",
       "</div>"
      ],
      "text/plain": [
       "   Unnamed: 0                                           city2   experience  \\\n",
       "0           0  Улица 1905 года, Москва, улица 1905 года, 10с1     1–3 года   \n",
       "1           1                                             NaN      3–6 лет   \n",
       "2           2         Электросталь, Строительный переулок, 10  более 6 лет   \n",
       "3           3                                             NaN     1–3 года   \n",
       "4           4                                             NaN  более 6 лет   \n",
       "\n",
       "                                         description  \\\n",
       "0  Привет наш будущий кандидат на должность марке...   \n",
       "1  Привет! Мы Семь Семян - онлайн супермаркет тов...   \n",
       "2  LEGRAND - производитель федерального уровня с ...   \n",
       "3  Наша школа Футбола и спортивной психологии явл...   \n",
       "4  Мы - международная FinTech компания AMarkets. ...   \n",
       "\n",
       "                               salary  \\\n",
       "0             от 120 000 руб. на руки   \n",
       "1             от 200 000 руб. на руки   \n",
       "2  от 200 000 до 400 000 руб. на руки   \n",
       "3   от 60 000 до 120 000 руб. на руки   \n",
       "4               от 10 000 USD на руки   \n",
       "\n",
       "                                           tags_list  tags_list_len  \\\n",
       "0  ['SWOT анализ', 'Adobe Photoshop', 'Работа в к...              5   \n",
       "1  ['Медиапланирование', 'Интернет-реклама', 'Кон...              5   \n",
       "2  ['B2B маркетинг', 'unit-экономика', 'Запуск но...             12   \n",
       "3  ['E-Mail Marketing', 'Стратегический маркетинг...              9   \n",
       "4                                                 []              0   \n",
       "\n",
       "                city  \n",
       "0                NaN  \n",
       "1  Москва, Румянцево  \n",
       "2                NaN  \n",
       "3             Москва  \n",
       "4             Москва  "
      ]
     },
     "execution_count": 61,
     "metadata": {},
     "output_type": "execute_result"
    }
   ],
   "source": [
    "data.info()\n",
    "data.head(5)"
   ]
  },
  {
   "cell_type": "code",
   "execution_count": 62,
   "metadata": {},
   "outputs": [
    {
     "data": {
      "text/plain": [
       "Unnamed: 0        int64\n",
       "city2            object\n",
       "experience       object\n",
       "description      object\n",
       "salary           object\n",
       "tags_list        object\n",
       "tags_list_len     int64\n",
       "city             object\n",
       "dtype: object"
      ]
     },
     "execution_count": 62,
     "metadata": {},
     "output_type": "execute_result"
    }
   ],
   "source": [
    "data.dtypes"
   ]
  },
  {
   "cell_type": "code",
   "execution_count": 63,
   "metadata": {},
   "outputs": [
    {
     "data": {
      "text/plain": [
       "Unnamed: 0         0\n",
       "city2            803\n",
       "experience         0\n",
       "description        0\n",
       "salary             0\n",
       "tags_list          0\n",
       "tags_list_len      0\n",
       "city             906\n",
       "dtype: int64"
      ]
     },
     "execution_count": 63,
     "metadata": {},
     "output_type": "execute_result"
    }
   ],
   "source": [
    "data.isna().sum()"
   ]
  },
  {
   "cell_type": "code",
   "execution_count": 64,
   "metadata": {},
   "outputs": [
    {
     "data": {
      "text/plain": [
       "Unnamed: 0          0\n",
       "title               0\n",
       "salary              0\n",
       "experience          0\n",
       "gender              0\n",
       "age                 0\n",
       "city                0\n",
       "tags_list           0\n",
       "tags_list_len       0\n",
       "skills-content    240\n",
       "language            0\n",
       "work_text           3\n",
       "specialization     16\n",
       "dtype: int64"
      ]
     },
     "execution_count": 64,
     "metadata": {},
     "output_type": "execute_result"
    }
   ],
   "source": [
    "resume_data.isna().sum()"
   ]
  },
  {
   "cell_type": "code",
   "execution_count": 65,
   "metadata": {},
   "outputs": [
    {
     "name": "stdout",
     "output_type": "stream",
     "text": [
      "Дубликаты: 0\n",
      "Дубликаты: 0\n"
     ]
    }
   ],
   "source": [
    "print(f\"Дубликаты: {resume_data.duplicated().sum()}\")\n",
    "print(f\"Дубликаты: {data.duplicated().sum()}\")"
   ]
  },
  {
   "cell_type": "markdown",
   "metadata": {},
   "source": [
    "Теперь в tags_list списки из строк, вместо строк"
   ]
  },
  {
   "cell_type": "code",
   "execution_count": 66,
   "metadata": {},
   "outputs": [],
   "source": [
    "def str_to_list(str_repr):\n",
    "  if str_repr == \" \":\n",
    "    return []\n",
    "  else:\n",
    "    return [s.strip().strip(\"'\") for s in str_repr[1:-1].split(\",\")]\n",
    "data[\"tags_list\"] = [str_to_list(i) for i in data[\"tags_list\"]]"
   ]
  },
  {
   "cell_type": "code",
   "execution_count": 67,
   "metadata": {},
   "outputs": [
    {
     "data": {
      "text/plain": [
       "Unnamed: 0         0\n",
       "city2            803\n",
       "experience         0\n",
       "description        0\n",
       "salary             0\n",
       "tags_list          0\n",
       "tags_list_len      0\n",
       "city             906\n",
       "dtype: int64"
      ]
     },
     "execution_count": 67,
     "metadata": {},
     "output_type": "execute_result"
    }
   ],
   "source": [
    "data.isnull().sum()"
   ]
  },
  {
   "cell_type": "code",
   "execution_count": 68,
   "metadata": {},
   "outputs": [
    {
     "data": {
      "text/plain": [
       "np.int64(1643)"
      ]
     },
     "execution_count": 68,
     "metadata": {},
     "output_type": "execute_result"
    }
   ],
   "source": [
    "data[\"city\"].duplicated().sum()"
   ]
  },
  {
   "cell_type": "code",
   "execution_count": 69,
   "metadata": {},
   "outputs": [],
   "source": [
    "data.fillna(\"\", inplace=True)"
   ]
  },
  {
   "cell_type": "code",
   "execution_count": 70,
   "metadata": {},
   "outputs": [
    {
     "name": "stdout",
     "output_type": "stream",
     "text": [
      "<class 'pandas.core.frame.DataFrame'>\n",
      "RangeIndex: 1709 entries, 0 to 1708\n",
      "Data columns (total 8 columns):\n",
      " #   Column         Non-Null Count  Dtype \n",
      "---  ------         --------------  ----- \n",
      " 0   Unnamed: 0     1709 non-null   int64 \n",
      " 1   city2          1709 non-null   object\n",
      " 2   experience     1709 non-null   object\n",
      " 3   description    1709 non-null   object\n",
      " 4   salary         1709 non-null   object\n",
      " 5   tags_list      1709 non-null   object\n",
      " 6   tags_list_len  1709 non-null   int64 \n",
      " 7   city           1709 non-null   object\n",
      "dtypes: int64(2), object(6)\n",
      "memory usage: 106.9+ KB\n"
     ]
    },
    {
     "data": {
      "text/html": [
       "<div>\n",
       "<style scoped>\n",
       "    .dataframe tbody tr th:only-of-type {\n",
       "        vertical-align: middle;\n",
       "    }\n",
       "\n",
       "    .dataframe tbody tr th {\n",
       "        vertical-align: top;\n",
       "    }\n",
       "\n",
       "    .dataframe thead th {\n",
       "        text-align: right;\n",
       "    }\n",
       "</style>\n",
       "<table border=\"1\" class=\"dataframe\">\n",
       "  <thead>\n",
       "    <tr style=\"text-align: right;\">\n",
       "      <th></th>\n",
       "      <th>Unnamed: 0</th>\n",
       "      <th>city2</th>\n",
       "      <th>experience</th>\n",
       "      <th>description</th>\n",
       "      <th>salary</th>\n",
       "      <th>tags_list</th>\n",
       "      <th>tags_list_len</th>\n",
       "      <th>city</th>\n",
       "    </tr>\n",
       "  </thead>\n",
       "  <tbody>\n",
       "    <tr>\n",
       "      <th>0</th>\n",
       "      <td>0</td>\n",
       "      <td>Улица 1905 года, Москва, улица 1905 года, 10с1</td>\n",
       "      <td>1–3 года</td>\n",
       "      <td>Привет наш будущий кандидат на должность марке...</td>\n",
       "      <td>от 120 000 руб. на руки</td>\n",
       "      <td>[SWOT анализ, Adobe Photoshop, Работа в команд...</td>\n",
       "      <td>5</td>\n",
       "      <td></td>\n",
       "    </tr>\n",
       "    <tr>\n",
       "      <th>1</th>\n",
       "      <td>1</td>\n",
       "      <td></td>\n",
       "      <td>3–6 лет</td>\n",
       "      <td>Привет! Мы Семь Семян - онлайн супермаркет тов...</td>\n",
       "      <td>от 200 000 руб. на руки</td>\n",
       "      <td>[Медиапланирование, Интернет-реклама, Контекст...</td>\n",
       "      <td>5</td>\n",
       "      <td>Москва, Румянцево</td>\n",
       "    </tr>\n",
       "    <tr>\n",
       "      <th>2</th>\n",
       "      <td>2</td>\n",
       "      <td>Электросталь, Строительный переулок, 10</td>\n",
       "      <td>более 6 лет</td>\n",
       "      <td>LEGRAND - производитель федерального уровня с ...</td>\n",
       "      <td>от 200 000 до 400 000 руб. на руки</td>\n",
       "      <td>[B2B маркетинг, unit-экономика, Запуск новых п...</td>\n",
       "      <td>12</td>\n",
       "      <td></td>\n",
       "    </tr>\n",
       "    <tr>\n",
       "      <th>3</th>\n",
       "      <td>3</td>\n",
       "      <td></td>\n",
       "      <td>1–3 года</td>\n",
       "      <td>Наша школа Футбола и спортивной психологии явл...</td>\n",
       "      <td>от 60 000 до 120 000 руб. на руки</td>\n",
       "      <td>[E-Mail Marketing, Стратегический маркетинг, А...</td>\n",
       "      <td>9</td>\n",
       "      <td>Москва</td>\n",
       "    </tr>\n",
       "    <tr>\n",
       "      <th>4</th>\n",
       "      <td>4</td>\n",
       "      <td></td>\n",
       "      <td>более 6 лет</td>\n",
       "      <td>Мы - международная FinTech компания AMarkets. ...</td>\n",
       "      <td>от 10 000 USD на руки</td>\n",
       "      <td>[]</td>\n",
       "      <td>0</td>\n",
       "      <td>Москва</td>\n",
       "    </tr>\n",
       "  </tbody>\n",
       "</table>\n",
       "</div>"
      ],
      "text/plain": [
       "   Unnamed: 0                                           city2   experience  \\\n",
       "0           0  Улица 1905 года, Москва, улица 1905 года, 10с1     1–3 года   \n",
       "1           1                                                      3–6 лет   \n",
       "2           2         Электросталь, Строительный переулок, 10  более 6 лет   \n",
       "3           3                                                     1–3 года   \n",
       "4           4                                                  более 6 лет   \n",
       "\n",
       "                                         description  \\\n",
       "0  Привет наш будущий кандидат на должность марке...   \n",
       "1  Привет! Мы Семь Семян - онлайн супермаркет тов...   \n",
       "2  LEGRAND - производитель федерального уровня с ...   \n",
       "3  Наша школа Футбола и спортивной психологии явл...   \n",
       "4  Мы - международная FinTech компания AMarkets. ...   \n",
       "\n",
       "                               salary  \\\n",
       "0             от 120 000 руб. на руки   \n",
       "1             от 200 000 руб. на руки   \n",
       "2  от 200 000 до 400 000 руб. на руки   \n",
       "3   от 60 000 до 120 000 руб. на руки   \n",
       "4               от 10 000 USD на руки   \n",
       "\n",
       "                                           tags_list  tags_list_len  \\\n",
       "0  [SWOT анализ, Adobe Photoshop, Работа в команд...              5   \n",
       "1  [Медиапланирование, Интернет-реклама, Контекст...              5   \n",
       "2  [B2B маркетинг, unit-экономика, Запуск новых п...             12   \n",
       "3  [E-Mail Marketing, Стратегический маркетинг, А...              9   \n",
       "4                                                 []              0   \n",
       "\n",
       "                city  \n",
       "0                     \n",
       "1  Москва, Румянцево  \n",
       "2                     \n",
       "3             Москва  \n",
       "4             Москва  "
      ]
     },
     "execution_count": 70,
     "metadata": {},
     "output_type": "execute_result"
    }
   ],
   "source": [
    "data.info()\n",
    "data.head(5)"
   ]
  },
  {
   "cell_type": "markdown",
   "metadata": {},
   "source": [
    "Интересно узнать какой опыт работы интересует работадателей"
   ]
  },
  {
   "cell_type": "code",
   "execution_count": 71,
   "metadata": {},
   "outputs": [
    {
     "data": {
      "text/html": [
       "<div>\n",
       "<style scoped>\n",
       "    .dataframe tbody tr th:only-of-type {\n",
       "        vertical-align: middle;\n",
       "    }\n",
       "\n",
       "    .dataframe tbody tr th {\n",
       "        vertical-align: top;\n",
       "    }\n",
       "\n",
       "    .dataframe thead th {\n",
       "        text-align: right;\n",
       "    }\n",
       "</style>\n",
       "<table border=\"1\" class=\"dataframe\">\n",
       "  <thead>\n",
       "    <tr style=\"text-align: right;\">\n",
       "      <th></th>\n",
       "      <th>experience</th>\n",
       "    </tr>\n",
       "  </thead>\n",
       "  <tbody>\n",
       "    <tr>\n",
       "      <th>0</th>\n",
       "      <td>1–3 года</td>\n",
       "    </tr>\n",
       "    <tr>\n",
       "      <th>1</th>\n",
       "      <td>3–6 лет</td>\n",
       "    </tr>\n",
       "    <tr>\n",
       "      <th>2</th>\n",
       "      <td>более 6 лет</td>\n",
       "    </tr>\n",
       "    <tr>\n",
       "      <th>3</th>\n",
       "      <td>не требуется</td>\n",
       "    </tr>\n",
       "  </tbody>\n",
       "</table>\n",
       "</div>"
      ],
      "text/plain": [
       "     experience\n",
       "0      1–3 года\n",
       "1       3–6 лет\n",
       "2   более 6 лет\n",
       "3  не требуется"
      ]
     },
     "execution_count": 71,
     "metadata": {},
     "output_type": "execute_result"
    }
   ],
   "source": [
    "pd.DataFrame(data[\"experience\"].unique(), columns=[\"experience\"])"
   ]
  },
  {
   "cell_type": "code",
   "execution_count": 72,
   "metadata": {},
   "outputs": [
    {
     "data": {
      "text/plain": [
       "{'',\n",
       " 'Прием и распределение телефонных звонков',\n",
       " 'Участие в обзорах заработных плат',\n",
       " 'Разработка сайтов',\n",
       " '1С: Склад',\n",
       " 'Ответственность и пунктуальность',\n",
       " 'Составление договоров',\n",
       " 'проведение переговоров с первыми лицами компании',\n",
       " 'Docker',\n",
       " 'входящая документация',\n",
       " '1С: Салон красоты',\n",
       " 'Инвентаризация',\n",
       " 'Сертификация',\n",
       " 'Продуктовые метрики',\n",
       " 'Дистрибьюция',\n",
       " 'PnL',\n",
       " 'Планирование закупок',\n",
       " 'Сервис',\n",
       " 'Эффективная коммуникация',\n",
       " 'CSS',\n",
       " 'Умение быстро находит общий язык с незнакомыми людьми',\n",
       " 'Активная жизненная позиция',\n",
       " 'Организационное развитие',\n",
       " 'аналитик',\n",
       " 'Проактивность',\n",
       " 'Коммуникабильность',\n",
       " 'владение техникой SPIN',\n",
       " 'Самостоятельное принятие решений и ответственность за них',\n",
       " 'Развитие партнерской сети',\n",
       " 'Клиентский сервис',\n",
       " 'BPMN',\n",
       " 'DIY',\n",
       " 'flutter',\n",
       " 'Планировать и оптимально организовывать рабочий процесс',\n",
       " 'Планирование бюджета',\n",
       " 'менеджер проекта',\n",
       " 'Основы маркетинга',\n",
       " 'Корпоративные продажи',\n",
       " 'Управление работой с ключевыми клиентами',\n",
       " 'SPA',\n",
       " 'Уверенный пользователь MS Office',\n",
       " 'Самозанятость',\n",
       " 'GitlabCI',\n",
       " 'Международный рынок',\n",
       " 'Навыки улаживания конфликтов',\n",
       " 'Управление командой',\n",
       " 'Согласование договоров',\n",
       " 'Деловая этика',\n",
       " 'Умение управлять временем',\n",
       " 'Scrum/Waterfall',\n",
       " 'Ценообразование',\n",
       " 'Системный подход',\n",
       " 'CPA',\n",
       " 'Английский — A2 — Элементарный',\n",
       " 'Продвижение мероприятий компании в социальных сетях',\n",
       " 'IT-аутстаффинг',\n",
       " 'Ипотечное кредитование',\n",
       " 'marketplace',\n",
       " 'HTML-верстка',\n",
       " 'Tasks Tracking Sytems',\n",
       " 'Развитие бренда',\n",
       " 'Joomla CMS',\n",
       " 'Гостиницы',\n",
       " 'Тайм-менеджмент',\n",
       " 'UX',\n",
       " 'Проведение маркетинговых исследований',\n",
       " 'Notion',\n",
       " 'Умение работать в команде и самостоятельно',\n",
       " 'Leadership Skills',\n",
       " 'Составление предложений о работе',\n",
       " '1С: Управление Торговлей',\n",
       " 'Умение вести переговоры на уровне ЛПР',\n",
       " 'Кроссбраузерная верстка',\n",
       " 'Спонсорский маркетинг',\n",
       " 'опытный пользователь пк',\n",
       " 'Юнит-экономика',\n",
       " 'Системное мышление',\n",
       " 'Опыт работы более 10 лет',\n",
       " 'Лидогенерация',\n",
       " 'Региональное развитие',\n",
       " 'Чувство стиля',\n",
       " 'регистрация документации',\n",
       " 'Репозиционирование',\n",
       " 'Планирование карьеры',\n",
       " 'Обучение отдела продаж',\n",
       " 'Телеграм',\n",
       " 'Blockchain',\n",
       " 'Организация встреч',\n",
       " 'Анализ ассортиментной линейки',\n",
       " 'Умение общаться с людьми',\n",
       " 'Построение команды',\n",
       " 'Производство строительно-монтажных работ',\n",
       " 'Product Management',\n",
       " 'Навыки разрешения спорных ситуаций',\n",
       " 'Программы лояльности для клиентов',\n",
       " 'GetCourse',\n",
       " 'Backend',\n",
       " 'Энтузиазм',\n",
       " 'Составление бизнес-плана',\n",
       " 'Ведение документооборота',\n",
       " 'Дебиторская задолженность',\n",
       " 'Организация конференций',\n",
       " 'React Native',\n",
       " 'Performance Marketing',\n",
       " 'AV',\n",
       " 'Знание 1 С',\n",
       " 'Навыки проведения эффективных офлайн и онлайн (телефонных) переговоров',\n",
       " 'Искренность',\n",
       " 'Работа с документами постоянного хранения',\n",
       " 'Работа с дебиторской задолженностью',\n",
       " 'Брокеридж',\n",
       " 'Внимательность',\n",
       " 'Администрирование приема',\n",
       " 'Контент-маркетинг',\n",
       " 'Работа с блогерами',\n",
       " 'Разрешение спорных ситуаций',\n",
       " 'Affiliate',\n",
       " 'Проведение инвентаризаций',\n",
       " 'Создание лендингов',\n",
       " 'online',\n",
       " 'исходящая корреспонденция',\n",
       " 'Умение легко находить контакт с людьми',\n",
       " 'Проведение тренингов для персонала розницы',\n",
       " 'Складской документооборот',\n",
       " 'Ипотечное страхование',\n",
       " 'Гражданское право',\n",
       " '1С: Розница',\n",
       " 'Подготовка комментарие для прессы',\n",
       " 'Элитная недвижимость',\n",
       " 'Lead Generation',\n",
       " 'находящимися в подчинении',\n",
       " 'JS',\n",
       " 'Управление интернет-проектами',\n",
       " 'Edtech',\n",
       " 'Аудит поисковой видимости сайта',\n",
       " 'Транспортная логистика',\n",
       " 'аналитика продукта',\n",
       " 'Стратегическое планирование',\n",
       " 'Google Ads',\n",
       " 'Творческое мышление',\n",
       " 'Работа с сайтами WIX',\n",
       " 'Тест гипотез',\n",
       " 'МАРКЕТ-ПЛЕЙСЫ',\n",
       " 'Atlassian Jira',\n",
       " 'Быстрое обучение',\n",
       " 'Декомпозиция',\n",
       " 'Figma;',\n",
       " 'Выбор провайдера по ДМС',\n",
       " 'Public Speaking',\n",
       " 'оптимизация рекламных кампаний',\n",
       " 'Умение договариваться',\n",
       " 'Анализ продаж',\n",
       " 'экспертные продажи',\n",
       " 'Умение формировать эффективную команду',\n",
       " 'Организация промо акций',\n",
       " 'Отличные переговорные навыки',\n",
       " 'Желание развиваться',\n",
       " 'вывод на рынок новых продуктов',\n",
       " 'Умение добиваться поставленных целей',\n",
       " 'Бюджетирование',\n",
       " 'инфобизнес',\n",
       " 'Умение работать с возражениями',\n",
       " 'Генерация идей',\n",
       " 'Ведение переговоров',\n",
       " 'Переговоры',\n",
       " 'Распаковка эксперта',\n",
       " '1C-Bitrix',\n",
       " 'Email маркетинг',\n",
       " 'nodejs',\n",
       " 'Управление ассортиментом',\n",
       " 'финансы',\n",
       " 'Стабильность',\n",
       " 'Английский язык (уровень Intermediate)',\n",
       " 'User Story',\n",
       " 'Спорт',\n",
       " 'Закупка рекламных материалов',\n",
       " 'BTL',\n",
       " 'Ретушь',\n",
       " 'PRO 100',\n",
       " 'Формирование стратегии',\n",
       " 'Анализ конкурентной среды',\n",
       " 'Телеграм Ads',\n",
       " 'Проектные продажи',\n",
       " 'Внешняя оптимизация сайта',\n",
       " 'развитие и ведение клиентской базы',\n",
       " 'Ресторанный менеджмент',\n",
       " 'Передача документации на исполнение',\n",
       " 'Работа в условиях многозадачности',\n",
       " 'ввод нового продукта',\n",
       " 'Конкурентная аналитика',\n",
       " 'unit-экономика',\n",
       " 'Традиционная розница',\n",
       " 'M&A',\n",
       " 'Целеустремленность',\n",
       " 'Навыки работы с возражениями',\n",
       " 'Грейдинг',\n",
       " 'Управление репутацией бренда',\n",
       " 'Веб-аналитика',\n",
       " 'Ведомственные ЛПУ',\n",
       " 'Развитие продаж',\n",
       " 'Кино',\n",
       " 'PR-консультирование',\n",
       " 'ОЗОН',\n",
       " 'Анализ торговой марки',\n",
       " 'Управление складом',\n",
       " 'Валютные операции',\n",
       " 'Удалённая работа',\n",
       " 'Teamplayer',\n",
       " 'Командообразование',\n",
       " 'Стремление к профессиональному росту',\n",
       " 'Key Collector',\n",
       " 'Сосредоточенность',\n",
       " 'Проведение переговоров',\n",
       " 'Client management',\n",
       " 'Vue',\n",
       " 'Водительские права категории В',\n",
       " 'Анализ целевой аудитории',\n",
       " 'внимание к деталям',\n",
       " 'Настройка таргетированной рекламы',\n",
       " 'Разрешать конфликтные ситуации',\n",
       " 'A/B тесты',\n",
       " 'Организационная осведомленность',\n",
       " 'Знание офисных программ',\n",
       " 'Гибкость мышления',\n",
       " 'Стандарты гостеприимства',\n",
       " 'Менеджмент',\n",
       " 'Эстетическая косметология',\n",
       " 'Расширение клиентской базы',\n",
       " 'Знание принципов работы в АМО СРМ',\n",
       " 'Продажи запчастей для иностранных автомобилей',\n",
       " 'Критическое мышление',\n",
       " 'Управление контентом',\n",
       " 'Знание английского языка',\n",
       " 'Арабский — A2 — Элементарный',\n",
       " 'Беттинг',\n",
       " 'Работа с таможенными органами',\n",
       " 'Подготовка отчетов',\n",
       " 'Навыки презентации',\n",
       " 'Активность',\n",
       " 'Обучение команды продаж',\n",
       " 'Внимательность к мелочам',\n",
       " 'знание основ маркетинга',\n",
       " 'Битрикс-24',\n",
       " 'Лекарственные препараты',\n",
       " 'Управленческая отчетность',\n",
       " 'Оперативное планирование',\n",
       " 'Массовый подбор персонала',\n",
       " 'Строительство',\n",
       " 'принимать решения и за их результаты отвечать самостоятельно',\n",
       " 'Английский — B1 — Средний',\n",
       " 'Формирование команды',\n",
       " 'B2G продажи',\n",
       " 'масштабирование',\n",
       " 'Python',\n",
       " 'User Story Mapping',\n",
       " 'WordPress',\n",
       " 'lumen 5.5',\n",
       " 'vuejs',\n",
       " 'Управление бизнес процессами',\n",
       " 'Фармацевтическая химия',\n",
       " 'SAP',\n",
       " 'Ведение календаря руководителя',\n",
       " 'NextJS',\n",
       " 'Оценка недвижимости',\n",
       " 'CJM',\n",
       " 'менеджер маркетплейса',\n",
       " 'Olap (online analytical processing)',\n",
       " 'Продажа услуг',\n",
       " 'Работа в Excel',\n",
       " 'Создание тз сайты',\n",
       " 'Ремонтные работы',\n",
       " 'Копирайт',\n",
       " 'PHP',\n",
       " 'Организаторские навыки',\n",
       " 'Внимание к деталям',\n",
       " 'Грамотный русский язык',\n",
       " 'Грамотная и поставленная речь',\n",
       " 'Управление продуктом',\n",
       " 'План продвижения',\n",
       " 'vue)',\n",
       " 'Деловые СМИ',\n",
       " 'Партнерский маркетинг',\n",
       " 'Preparing Board Meetings',\n",
       " 'Составление Roadmap',\n",
       " 'P&L',\n",
       " 'digital-маркетинг',\n",
       " 'Криптовалюта',\n",
       " '1C: Предприятие',\n",
       " 'менеджер проектов',\n",
       " 'Product Promotion',\n",
       " 'Операционное планирование',\n",
       " 'Журналистика',\n",
       " 'РСЯ',\n",
       " 'psp',\n",
       " 'Умение принимать решения',\n",
       " 'Юридическая поддержка',\n",
       " 'ПК',\n",
       " 'SERM',\n",
       " 'Видеосъемка',\n",
       " 'Графические редакторы',\n",
       " 'Лидерские качества',\n",
       " 'Betting',\n",
       " 'оформление заказов',\n",
       " 'Взаимодействие с Роспотребнадзором',\n",
       " 'Ведение мобильных рекламных кампаний',\n",
       " 'Аналитическое мышление',\n",
       " 'Высокая скорость печати',\n",
       " 'Проектная деятельность',\n",
       " 'Выставочная деятельность',\n",
       " 'AngularJS',\n",
       " 'affiliate marketing',\n",
       " 'Управление контентом интернет-магазина',\n",
       " 'перевода и увольнения сотрудников',\n",
       " 'Кадровая стратегия',\n",
       " 'Программное обеспечение',\n",
       " 'контроль выполнения плана продаж',\n",
       " 'Unreal Engine',\n",
       " 'Use Case Analysis',\n",
       " 'PR Events',\n",
       " 'Event Management',\n",
       " 'Коттеджное строительство',\n",
       " 'Управление системой наставничества',\n",
       " 'Контроль отгрузок',\n",
       " 'Опытный пользователь ПК',\n",
       " 'Формирование отдела маркетинга',\n",
       " 'Организация региональных трейд-маркетинговых кампаний',\n",
       " 'Электронная коммерция',\n",
       " '1С: Управление Закупками',\n",
       " 'Логическое мышление',\n",
       " 'Документооборот',\n",
       " 'Agile Project Management',\n",
       " 'Ответственность за результат',\n",
       " 'UI/UX дизайн',\n",
       " 'Упаковка продуктов',\n",
       " 'исходящие звонки',\n",
       " 'Вайлдберрис',\n",
       " 'Анализ конкурентов',\n",
       " 'План развития',\n",
       " 'PR первых лиц компании',\n",
       " 'Результативность',\n",
       " 'Создание телеграм ботов',\n",
       " 'Навыки планирования',\n",
       " 'Групповое обучение',\n",
       " 'навыки осуществления закупок товара',\n",
       " 'PowerBI',\n",
       " 'навыки статистической обработки данных',\n",
       " 'Торговля',\n",
       " 'Рекрутмент',\n",
       " 'Организация съемок',\n",
       " 'gitlab (git + ci)',\n",
       " 'внимательность',\n",
       " 'Account Management',\n",
       " 'Постановка задач',\n",
       " 'Планирование рекламных кампаний',\n",
       " 'финансовая аналитика',\n",
       " 'Автоворонка',\n",
       " 'Product Manager',\n",
       " 'Scrum',\n",
       " 'Разработка технических заданий',\n",
       " 'Asana',\n",
       " 'Redis',\n",
       " '1С: Предприятие: Розница',\n",
       " 'Графический дизайн',\n",
       " 'Этика и культура делового общения',\n",
       " 'Штатное расписание',\n",
       " 'Управление персоналом отдела продаж',\n",
       " 'Грамотная речь',\n",
       " 'Организация бизнес-завтраков',\n",
       " 'Дизайн полиграфии',\n",
       " 'найм команды',\n",
       " 'Продажи через дилеров',\n",
       " 'Микросхемы',\n",
       " 'Работа с аналитическими сервисами',\n",
       " 'Adobe After Effect',\n",
       " 'Управление производственным персоналом',\n",
       " 'Анализ рынка',\n",
       " 'Сопровождение клиентов',\n",
       " 'Работа с ключевыми клиентами',\n",
       " 'Дизайн интерфейсов',\n",
       " 'OpenOffice',\n",
       " 'Прямые продажи',\n",
       " 'Позиционирование бренда',\n",
       " 'Работа на выставках',\n",
       " 'IDEF',\n",
       " '1С: Зарплата и управление персоналом',\n",
       " 'сео',\n",
       " 'сувенирная продукция',\n",
       " 'Разнообразные задачи',\n",
       " 'менеджер по маркетплейсам',\n",
       " 'Фото',\n",
       " 'Корпоративные мероприятия',\n",
       " 'Teamleading',\n",
       " 'Испанский — B2 — Средне-продвинутый',\n",
       " 'Тренинги',\n",
       " 'Высокий уровень самоорганизации',\n",
       " 'Запуск федеральных рекламных кампаний',\n",
       " 'Знание Яндекс.Директа',\n",
       " 'Участие в Тендерах',\n",
       " 'Продающие тексты',\n",
       " 'Расчет заработной платы',\n",
       " 'Организация продуктового обучения',\n",
       " 'Детские стрижки',\n",
       " 'Управление предприятием',\n",
       " 'Базы данных',\n",
       " 'категорийный менеджмент',\n",
       " 'Организация обучения для отдела продаж',\n",
       " 'WEB аналитика',\n",
       " 'Shopify)',\n",
       " 'SMO',\n",
       " 'YouTube',\n",
       " 'Проведение собеседований',\n",
       " 'Готовность обучаться',\n",
       " 'Воронка продаж',\n",
       " 'Знание техник продаж',\n",
       " 'управление проектами строительства',\n",
       " 'работа с возражениями',\n",
       " 'Туроператор',\n",
       " 'Описание бизнес-процессов',\n",
       " 'Drupal)',\n",
       " 'REST API',\n",
       " 'KPI и OKR',\n",
       " 'Трейд-маркетинг',\n",
       " 'Сайтостроение',\n",
       " 'Холодные продажи',\n",
       " 'Автоматизация продаж',\n",
       " 'Рисерч',\n",
       " 'Проведение презентаций',\n",
       " 'Работа с партнерами',\n",
       " 'эффективно управлять временем и людьми',\n",
       " 'Сбор данных',\n",
       " 'проектные продажи',\n",
       " 'Системность',\n",
       " 'конкурентный анализ',\n",
       " 'Рекламная съемка',\n",
       " 'Русский — C1 — Продвинутый',\n",
       " 'Research',\n",
       " 'Навыки продаж',\n",
       " 'заинтересованность',\n",
       " 'Проведение вебинаров',\n",
       " 'Международные контакты',\n",
       " 'Продажи автомобилей премиум класса',\n",
       " 'Контроль исполнения решений',\n",
       " 'планировать и оптимально организовать рабочий процесс',\n",
       " 'MS Axapta',\n",
       " 'Французский — C1 — Продвинутый',\n",
       " 'Эмоциональная устойчивость',\n",
       " 'Customer Development',\n",
       " 'Умение работать с клиентами',\n",
       " 'Product Development',\n",
       " 'Руководство людьми',\n",
       " 'Общение с клиентами',\n",
       " 'Моделирование бизнес процессов',\n",
       " 'разработка сайта',\n",
       " 'Деловой этикет',\n",
       " 'API',\n",
       " 'Мониторинг упоминаемости компании в СМИ',\n",
       " 'Анализ данных',\n",
       " 'вебинары',\n",
       " 'Яндекс Директ',\n",
       " 'ВЭД',\n",
       " 'Emarsys',\n",
       " 'Управление маркетинговыми проектами',\n",
       " 'Adobe Premier Pro',\n",
       " 'Yandex Direct',\n",
       " 'озон',\n",
       " 'Тестирование гипотез',\n",
       " 'Блогеры',\n",
       " 'Умение организовать работу',\n",
       " 'Практическая психология',\n",
       " 'php7.0',\n",
       " 'Создание квизов',\n",
       " 'Проектирование пользовательских интерфейсов',\n",
       " 'Аренда офисных помещений',\n",
       " 'Работа с ТМЦ',\n",
       " 'Девелопмент',\n",
       " 'MS Paint',\n",
       " 'Маркетинговое планирование',\n",
       " 'ASA',\n",
       " 'Опыт продаж',\n",
       " 'Бумажный документооборот',\n",
       " 'продакт',\n",
       " 'Автоматизация',\n",
       " 'Оформление документов',\n",
       " 'субсидиарная ответственность',\n",
       " 'Недвижимость',\n",
       " 'Яндекс.Директ',\n",
       " 'Редакторская деятельность',\n",
       " 'Найм команды',\n",
       " 'Делегирование',\n",
       " 'ASO',\n",
       " 'Опыт работы с сетевыми клиентами',\n",
       " 'Соблюдение дедлайнов',\n",
       " 'Оптимизация бизнес процессов',\n",
       " 'Написание сценариев',\n",
       " 'Фотосъемка',\n",
       " 'Интернет-магазин',\n",
       " 'Copyrighting',\n",
       " 'Стоматология',\n",
       " 'Управление сотрудниками в регионах',\n",
       " 'Подбор недвижимости по запросу клиента',\n",
       " 'Постановка задач подрядчикам',\n",
       " 'E-Learning',\n",
       " 'Фото и видео съемка',\n",
       " 'Грамотная письменная речь',\n",
       " 'Планирование рабочего дня руководителя',\n",
       " 'онлайн-школа',\n",
       " 'Математика',\n",
       " 'дизайн проектов',\n",
       " 'Умение общаться с клиентами',\n",
       " 'Администрирование процесса обучения',\n",
       " 'Video Editing',\n",
       " 'Организация вебинаров',\n",
       " 'проектрирование сайтов',\n",
       " 'English',\n",
       " 'Canva',\n",
       " 'Контент',\n",
       " 'event-маркетинг',\n",
       " 'Составление планов по подбору',\n",
       " 'Управление личными ассистентами',\n",
       " 'менеджер маркетплейсов',\n",
       " 'Маркетинг',\n",
       " 'CDP',\n",
       " 'Прием и распределение звонков',\n",
       " 'Управление проектами',\n",
       " 'Информационные рассылки',\n",
       " 'Хорошее чувство юмора',\n",
       " 'Custdev',\n",
       " 'Tilda',\n",
       " 'Брокер',\n",
       " 'Работа с локальными сетями',\n",
       " 'Написание статей',\n",
       " 'Литературное редактирование',\n",
       " 'Проведение телефонных интервью',\n",
       " 'Анализ трафика',\n",
       " '1С-Битрикс',\n",
       " 'Подготовка коммерческих предложений',\n",
       " 'Монтаж оборудования',\n",
       " 'Постановка задач разработчикам',\n",
       " 'Методы инструментальной диагностики',\n",
       " 'Фото видео контент',\n",
       " 'битрикс',\n",
       " 'Обучаемость',\n",
       " 'Работа с магазинами премиум-класса',\n",
       " 'Big Data',\n",
       " 'Закупка товаров и услуг',\n",
       " 'Управление лояльностью потребителей',\n",
       " 'Продвинутый пользователь ПК',\n",
       " 'Уверенный пользователь ПК',\n",
       " 'таргет мафия',\n",
       " 'Грамотная речь и письмо',\n",
       " 'Android',\n",
       " 'Разработка нового продукта',\n",
       " 'запуск рекламных кампаний',\n",
       " 'Ориентация на хороший результат',\n",
       " 'Контроль ведения налоговой отчетности',\n",
       " 'Спортивный маркетинг',\n",
       " 'Vegas Pro',\n",
       " 'Самодисциплина',\n",
       " 'Размещение POS материалов',\n",
       " 'Лояльность',\n",
       " 'Умение работать в команде и обособленно',\n",
       " 'Оценка потребностей клиентов',\n",
       " 'Измерение эффективности',\n",
       " 'Обеспечение жизнедеятельности офиса',\n",
       " 'PR',\n",
       " 'Съемочный процесс',\n",
       " 'Яндекс Метрика',\n",
       " 'Тестирование',\n",
       " 'ООП',\n",
       " 'Укладка волос',\n",
       " 'Организация корпоративных мероприятий',\n",
       " 'Водительское удостоверение категории B',\n",
       " 'дружелюбие',\n",
       " 'ARIS',\n",
       " 'Входящая корреспонденция',\n",
       " 'Хорошие организаторские способности',\n",
       " 'Запуск региональных рекламных кампаний',\n",
       " 'Умение проявлять тактичность и толерантность',\n",
       " 'работа с договорами',\n",
       " 'Привлечение новых дистрибьюторов',\n",
       " 'Data Analysis',\n",
       " '1С',\n",
       " 'Ведение активных клиентов',\n",
       " 'Умение планировать',\n",
       " 'Tableau',\n",
       " 'Доработка сайта компании',\n",
       " 'PPC',\n",
       " 'Performance marketing',\n",
       " 'Долгосрочное бюджетирование и планирование',\n",
       " 'Экономический анализ',\n",
       " 'Участок \"Банк-Клиент\"',\n",
       " 'Postman',\n",
       " 'Продвижение сайтов',\n",
       " 'Запуск нового бренда',\n",
       " 'Грамотность',\n",
       " 'работа из дома',\n",
       " 'google sheets',\n",
       " 'Малоэтажное строительство',\n",
       " 'Работа с возражениями',\n",
       " 'Работа с большим объемом информации',\n",
       " 'Урегулирование конфликтов',\n",
       " 'Управление эффективностью',\n",
       " 'окупаемость трафика',\n",
       " 'Деловая коммуникация',\n",
       " 'Вежливость',\n",
       " 'Frontend',\n",
       " 'Работа с магазинами эконом-класса',\n",
       " 'Travel Support',\n",
       " 'Авиабилеты',\n",
       " 'SMM',\n",
       " 'Adobe Lightroom',\n",
       " 'Геткурс',\n",
       " 'директолог',\n",
       " 'Страхование',\n",
       " 'Лендинг',\n",
       " 'Управление отделом продаж',\n",
       " 'Прямой поиск',\n",
       " 'Операционный менеджмент',\n",
       " 'Креативность',\n",
       " 'Увеличение продаж',\n",
       " 'Управленческие навыки',\n",
       " 'Социальная психология',\n",
       " 'CustDev',\n",
       " 'структурное мышление',\n",
       " 'CTOR',\n",
       " 'Мониторинг рынка',\n",
       " 'Офисная недвижимость',\n",
       " 'обучаемость',\n",
       " 'Наличие контактов с журналистами',\n",
       " 'Косметология',\n",
       " 'Вирусный маркетинг',\n",
       " 'Привлечение лидов',\n",
       " 'Google AdWords',\n",
       " 'Формирование продуктовой линейки',\n",
       " 'Linux',\n",
       " 'Jira',\n",
       " 'Организация локальных трейд-маркетинговых кампаний',\n",
       " 'Макетирование',\n",
       " 'Закупки',\n",
       " 'Google Analytics.',\n",
       " 'Kamailio',\n",
       " 'управление ассортиментом',\n",
       " 'Обучение персонала',\n",
       " 'Венчурное финансирование',\n",
       " 'привлечение посетительской аудитории конгрессно-выставочных проектов',\n",
       " 'Написание скриптов',\n",
       " 'Умение работать с большим количеством информации',\n",
       " 'Управление контент-маркетингом',\n",
       " 'Организация стажировок',\n",
       " 'Развитие региональной сети продаж с «0»',\n",
       " 'Гостиничные системы',\n",
       " 'MS Access',\n",
       " 'Организация бизнес-процессов',\n",
       " 'развитие партнеров',\n",
       " 'товарная матрица',\n",
       " 'работа с подрядчиками',\n",
       " 'Редактирование',\n",
       " 'Клиентоориентированность',\n",
       " 'Teacher Training',\n",
       " 'Оптимизация кода',\n",
       " 'Bash',\n",
       " 'MS Office',\n",
       " '1C: Бухгалтерия',\n",
       " 'Miro',\n",
       " 'Адаптация персонала',\n",
       " 'Работа со СМИ',\n",
       " 'Организация выставок',\n",
       " 'Высокая энергичность и инициативность',\n",
       " 'Cоциальный маркетинг',\n",
       " 'продюсер онлайн запусков',\n",
       " 'Мотивация',\n",
       " 'Продвижение бренда',\n",
       " 'Администрирование',\n",
       " 'Веб-дизайн',\n",
       " 'Проведение опросов клиентов',\n",
       " 'Работа с клиентской базой',\n",
       " 'Умение анализировать',\n",
       " 'Работа с рекламными сетями',\n",
       " 'Сквозная аналитика',\n",
       " 'Adobe Illustrator',\n",
       " 'Разработка финансовых моделей',\n",
       " 'Бизнес-анализ',\n",
       " 'Оценка инвестиционных проектов',\n",
       " 'Оценка персонала',\n",
       " 'HTML5',\n",
       " 'Корректура текстов',\n",
       " 'Работа с системами аналитики',\n",
       " 'Поисковые системы',\n",
       " 'ассистент',\n",
       " 'Международный туризм',\n",
       " 'Нейминг',\n",
       " 'Программы лояльности',\n",
       " 'Вконтакте',\n",
       " 'коммуникация с клиентами',\n",
       " 'Планирование и организация',\n",
       " 'умение формировать команду',\n",
       " 'Умение находить контакт с людьми',\n",
       " 'Анализ поведения пользователей',\n",
       " 'Коммуникация',\n",
       " 'Лабораторная диагностика',\n",
       " 'Продажи запчастей для российских автомобилей',\n",
       " 'UI/UX',\n",
       " 'Разработка продукта RnD',\n",
       " 'Business communication',\n",
       " 'Media Buying',\n",
       " 'Sales Skills',\n",
       " 'Кадровая политика',\n",
       " 'Желание зарабатывать',\n",
       " 'Sendpluse',\n",
       " 'Графика',\n",
       " 'Техники продаж',\n",
       " 'Владение техникой продаж',\n",
       " 'Slack',\n",
       " 'арбитраж трафика',\n",
       " 'Техническая поддержка',\n",
       " 'Маржинальный анализ',\n",
       " 'Качественный анализ',\n",
       " 'FinTech',\n",
       " 'FMCG Продажи',\n",
       " 'Budgeting',\n",
       " 'Коучинг',\n",
       " 'Заключение договоров',\n",
       " 'Roistat',\n",
       " 'Французский — A1 — Начальный',\n",
       " 'Подбор сотрудников',\n",
       " 'Facebook',\n",
       " 'Исследование потребительских предпочтений',\n",
       " 'Работоспособность',\n",
       " 'Организация и планирование рабочего времени',\n",
       " 'Подбор ключевых слов',\n",
       " 'Отчеты',\n",
       " 'UX/UI',\n",
       " 'Управление отношениями с клиентами',\n",
       " 'Системная ананлитика',\n",
       " 'Внутренний туризм',\n",
       " 'Формирование пула лояльных СМИ',\n",
       " 'SAP Marketing',\n",
       " 'B2B Продажи',\n",
       " 'SaaS',\n",
       " 'Clickhouse',\n",
       " 'Business Planning',\n",
       " 'Режиссура',\n",
       " 'Ценовая политика',\n",
       " 'Подготовка договоров',\n",
       " 'Ребрендинг',\n",
       " 'Bizon365',\n",
       " 'Эмоциональный интеллект',\n",
       " 'Финансовая вертикаль',\n",
       " 'Готовность к командировкам',\n",
       " 'Cоциальная реклама',\n",
       " 'Маркетинговая аналитика',\n",
       " 'Проведение тендеров',\n",
       " 'Управление офисами компании',\n",
       " 'руководитель',\n",
       " 'знание MS Office',\n",
       " 'Поиск объектов',\n",
       " 'Инфопродукт',\n",
       " 'Бренд-менеджмент',\n",
       " 'Навыки ведения переговоров',\n",
       " 'Анализ PR стратегии конкурентов',\n",
       " 'Zoom',\n",
       " 'онлайн школа',\n",
       " 'Компьютер',\n",
       " 'Масштабирование гипотез',\n",
       " 'Facebook Ads',\n",
       " '1С: Документооборот',\n",
       " 'Закупки из Китая',\n",
       " 'Facebook API',\n",
       " 'Продажи медоборудования',\n",
       " '1С: Комплексная автоматизация',\n",
       " 'Первичная адаптация',\n",
       " 'Поиск информации в интернет',\n",
       " 'Работа с посадочными страницами',\n",
       " 'Adobe Flash',\n",
       " 'Типографика',\n",
       " 'SMS маркетинг',\n",
       " 'RTPengine',\n",
       " 'Корпоративная этика',\n",
       " 'Желание учиться новому',\n",
       " 'Работа с директ командером',\n",
       " 'Увеличение прибыли',\n",
       " 'Продвижение бренда компании',\n",
       " 'Рекрутинг',\n",
       " 'Организация работы приемной',\n",
       " 'Визовая поддержка',\n",
       " 'Опыт управления персоналом',\n",
       " 'Опыт работы с клиентами',\n",
       " 'Деловая комуникация',\n",
       " 'Стратегический анализ',\n",
       " '1С: Бухгалтерия',\n",
       " 'Управление временем',\n",
       " 'Digital Marketing',\n",
       " 'CPA-сети',\n",
       " 'Финансовый анализ',\n",
       " 'Анализ потребительских предпочтений',\n",
       " 'метрики эффективности контента',\n",
       " 'Soft skills',\n",
       " 'Организационная структура',\n",
       " 'HR',\n",
       " 'Управление по целям',\n",
       " 'Мужские стрижки',\n",
       " 'Проведение опросов',\n",
       " 'FMCG',\n",
       " 'франчайзинг',\n",
       " 'MS Word',\n",
       " 'Игровое оборудование',\n",
       " 'Маркетинговые коммуникации',\n",
       " 'nuxtjs',\n",
       " 'Слепая печать',\n",
       " 'HL-Блок',\n",
       " 'Поиск персонала в открытых источниках',\n",
       " 'анимация 3D-персонажей',\n",
       " 'Оптовая торговля',\n",
       " 'Логистика поставок',\n",
       " 'Финансовый менеджмент',\n",
       " 'Табель учета рабочего времени',\n",
       " 'Опыт управлени отдело продаж',\n",
       " 'MVC',\n",
       " 'Холодные звонки',\n",
       " 'CRM системы',\n",
       " 'Социальные сети',\n",
       " 'Работа с подрядчиками',\n",
       " 'Уверенный пользователь ПК и интернет',\n",
       " 'HADI-циклы',\n",
       " 'Проектный офис',\n",
       " 'Стремление к развитию и профессиональному росту',\n",
       " 'Продажи юридическим лицам',\n",
       " 'Опыт работы с большим количеством информации',\n",
       " 'Рассылка сообщений',\n",
       " 'грамотная письменная и устная речь',\n",
       " 'Наполнение контентом',\n",
       " 'Владение английским языком',\n",
       " 'Торговый маркетинг',\n",
       " 'SEO-копирайтинг',\n",
       " 'Вебинары',\n",
       " 'Успешный опыт создания эффективной команды',\n",
       " 'Trade Marketing',\n",
       " 'yii',\n",
       " 'Прототипирование',\n",
       " 'Работа с большими объемами данных',\n",
       " 'MS Exсel',\n",
       " 'Немецкий язык',\n",
       " 'Точность и внимательность к деталям',\n",
       " 'React',\n",
       " 'Adobe After Effects',\n",
       " 'Разработка эксплуатационной документации',\n",
       " 'Работа с маркетплейсами',\n",
       " 'Формирование технического задания для разработки',\n",
       " 'Инвестиционный анализ',\n",
       " 'Работа в CRM',\n",
       " 'RethinkDB',\n",
       " 'Продвижение за рубежом',\n",
       " 'Написание пресс-релизов',\n",
       " 'Составление семантического ядра',\n",
       " 'Поиск информации',\n",
       " 'Асинхронное программирование',\n",
       " 'instagram',\n",
       " 'Консультирование клиентов',\n",
       " 'реализация проектов на фреймворках',\n",
       " 'Адаптация трейд-маркетинговой стратегии',\n",
       " 'Работа с opinion лидерами в социальных сетях',\n",
       " 'CMS (1C-Битрикс',\n",
       " 'контент-менеджмент',\n",
       " 'Работа с платформой Tilda',\n",
       " 'Арбитраж трафика',\n",
       " 'Управление качеством',\n",
       " 'Нестандартное мышление',\n",
       " 'Статистика',\n",
       " 'Аренда недвижимости',\n",
       " 'розничные продажи',\n",
       " 'Умение быстро усваивать новую информацию',\n",
       " 'Сопровождение сделок',\n",
       " 'Формирование управленческой отчетности',\n",
       " 'Ремаркетинг',\n",
       " 'Mind Map',\n",
       " 'Comagic',\n",
       " 'Контент-план',\n",
       " 'Разработка программ лояльности для клиентов',\n",
       " 'телефонные продажи',\n",
       " 'Административно-хозяйственная деятельность',\n",
       " 'SWOT анализ',\n",
       " 'создание планограмм',\n",
       " 'Разработка мотивационных программ для персонала',\n",
       " 'CRM Bitrix',\n",
       " 'Работа с командой',\n",
       " 'Excel',\n",
       " 'Грамотная устная и письменная речь',\n",
       " 'Желание работать и зарабатывать',\n",
       " 'Marketing Analysis',\n",
       " 'Контент маркетинг',\n",
       " '3D Max',\n",
       " 'Разговорный английский',\n",
       " 'phalcon)',\n",
       " 'Spring Framework',\n",
       " '1С: CRM ПРОФ',\n",
       " 'уверенное пользование ПК',\n",
       " 'Работа по скриптам',\n",
       " 'GTM',\n",
       " 'Контроль и анализ ценообразования',\n",
       " 'Кадровое делопроизводство',\n",
       " 'Автоматизация процессов управления персоналом',\n",
       " 'Внешний аудит контекстной рекламы',\n",
       " 'Продуктивность',\n",
       " 'Разработка концепции',\n",
       " 'MS SQL',\n",
       " 'WILDBERRIES',\n",
       " 'Открытие торговых филиалов',\n",
       " 'Social Media Marketing',\n",
       " 'E-Commerce',\n",
       " 'Оптимизация логистических процессов',\n",
       " 'CRM',\n",
       " 'Обработка изображений',\n",
       " 'Электронный документооборот',\n",
       " 'Складская логистика',\n",
       " 'Технология продаж',\n",
       " 'Продажа страховых продуктов',\n",
       " 'HoReCa',\n",
       " 'Экоосознанность',\n",
       " 'Ozon',\n",
       " 'E-Mail Marketing',\n",
       " 'Дистанционное обучение',\n",
       " 'MS Dynamics',\n",
       " 'A/B тестирование',\n",
       " 'TypeScript',\n",
       " 'Exponea',\n",
       " 'Самоконтроль',\n",
       " 'Реклама',\n",
       " 'Работа с людьми',\n",
       " 'Достижение поставленных целей',\n",
       " 'NPS',\n",
       " 'Аккаунтинг',\n",
       " 'Универсальность',\n",
       " 'Поставленная речь',\n",
       " 'Marketing Events',\n",
       " 'СРМ',\n",
       " 'спецпроекты',\n",
       " 'Управление затратами',\n",
       " 'электронные компоненты',\n",
       " 'Полиграфия',\n",
       " 'План',\n",
       " 'Atlassian Confluence',\n",
       " 'Сводные таблицы',\n",
       " 'Управление закупками',\n",
       " 'Сложные окрашивания',\n",
       " 'Страховые продукты',\n",
       " 'CRM маркетинг',\n",
       " 'Банкротство',\n",
       " 'Работа с контекстными площадками',\n",
       " 'Терпеливость',\n",
       " 'Аудит SMM',\n",
       " 'Анализ ценообразования',\n",
       " 'Платежные поручения',\n",
       " 'прогрев аудитории',\n",
       " 'Анализ эффективности PR',\n",
       " 'Работа в режиме многозадачности',\n",
       " 'Java',\n",
       " 'Разработка регламентов',\n",
       " 'B2C исследования',\n",
       " 'Турецкий язык',\n",
       " 'Коммуникабельность',\n",
       " 'Business Development',\n",
       " 'Контроль хозяйственной деятельности',\n",
       " 'Способность обучать других',\n",
       " 'Опыт работы в телефонных или прямых продажах от 1 года',\n",
       " 'Работа с существующей базой клиентов',\n",
       " 'Skype',\n",
       " 'Франчайзинг',\n",
       " 'Работа с документами',\n",
       " 'Управление коммуникациями',\n",
       " 'Знание Google Analytics',\n",
       " 'Поддержка работы офиса',\n",
       " 'удаленная работа',\n",
       " 'знание маркетинга',\n",
       " 'Грамотное письмо',\n",
       " 'Управление цепочкой поставок',\n",
       " 'Стратегический менеджмент',\n",
       " 'Предприимчивость',\n",
       " 'Adobe Premier',\n",
       " 'Многофункциональный комплекс',\n",
       " 'Разработка маркетинговой стратегии',\n",
       " 'ведение АКБ',\n",
       " 'Работа с Tilda сайтом',\n",
       " 'Интернет маркетинг',\n",
       " 'составление штатного расписания',\n",
       " 'SOLID',\n",
       " 'Анализ текущих финансовых показателей',\n",
       " 'Первичная бухгалтерская документация',\n",
       " 'Обработка фотографий',\n",
       " 'Высокая степень ответственности',\n",
       " 'Верстка',\n",
       " 'MS PowerPoint',\n",
       " 'Творчество',\n",
       " 'трафик менеджер',\n",
       " 'Партнерские программы в социальных сетях',\n",
       " 'Ценные бумаги',\n",
       " 'Стратегии',\n",
       " 'Brand Development',\n",
       " 'Маркетинговая стратегия',\n",
       " 'Редактирование текстов',\n",
       " 'CorelDRAW',\n",
       " ...}"
      ]
     },
     "execution_count": 72,
     "metadata": {},
     "output_type": "execute_result"
    }
   ],
   "source": [
    "data_tags = set()\n",
    "s=0\n",
    "for i in data[\"tags_list\"]:\n",
    "    for j in i:\n",
    "        data_tags.add(j)\n",
    "data_tags"
   ]
  },
  {
   "cell_type": "markdown",
   "metadata": {},
   "source": [
    "# Предобработка данных\n",
    "\n",
    "В таблицах data и resume_data неудобный формат столбцов salary. Разделим salary на 3 отдельных столбца: from, upto и currency.\n",
    "* from - минимальная зарплата\n",
    "* upto - максимальная зарплата\n",
    "* currency - валюта\n",
    "  \n",
    "В resume_data везде указана одна зарплата вместо зарплатной вилки. Поэтому разделим salary на 2 отдельных столбца: salary и currency.\n",
    "* salary - зарплата\n",
    "* currency - валюта"
   ]
  },
  {
   "cell_type": "markdown",
   "metadata": {},
   "source": [
    "#### Data. Создаем from и upto"
   ]
  },
  {
   "cell_type": "code",
   "execution_count": 73,
   "metadata": {},
   "outputs": [
    {
     "data": {
      "text/html": [
       "<div>\n",
       "<style scoped>\n",
       "    .dataframe tbody tr th:only-of-type {\n",
       "        vertical-align: middle;\n",
       "    }\n",
       "\n",
       "    .dataframe tbody tr th {\n",
       "        vertical-align: top;\n",
       "    }\n",
       "\n",
       "    .dataframe thead th {\n",
       "        text-align: right;\n",
       "    }\n",
       "</style>\n",
       "<table border=\"1\" class=\"dataframe\">\n",
       "  <thead>\n",
       "    <tr style=\"text-align: right;\">\n",
       "      <th></th>\n",
       "      <th>from</th>\n",
       "      <th>upto</th>\n",
       "    </tr>\n",
       "  </thead>\n",
       "  <tbody>\n",
       "    <tr>\n",
       "      <th>0</th>\n",
       "      <td>120000.0</td>\n",
       "      <td>0.0</td>\n",
       "    </tr>\n",
       "    <tr>\n",
       "      <th>1</th>\n",
       "      <td>200000.0</td>\n",
       "      <td>0.0</td>\n",
       "    </tr>\n",
       "    <tr>\n",
       "      <th>2</th>\n",
       "      <td>200000.0</td>\n",
       "      <td>400000.0</td>\n",
       "    </tr>\n",
       "    <tr>\n",
       "      <th>3</th>\n",
       "      <td>60000.0</td>\n",
       "      <td>120000.0</td>\n",
       "    </tr>\n",
       "    <tr>\n",
       "      <th>4</th>\n",
       "      <td>10000.0</td>\n",
       "      <td>0.0</td>\n",
       "    </tr>\n",
       "    <tr>\n",
       "      <th>...</th>\n",
       "      <td>...</td>\n",
       "      <td>...</td>\n",
       "    </tr>\n",
       "    <tr>\n",
       "      <th>1704</th>\n",
       "      <td>60000.0</td>\n",
       "      <td>100000.0</td>\n",
       "    </tr>\n",
       "    <tr>\n",
       "      <th>1705</th>\n",
       "      <td>100000.0</td>\n",
       "      <td>0.0</td>\n",
       "    </tr>\n",
       "    <tr>\n",
       "      <th>1706</th>\n",
       "      <td>100000.0</td>\n",
       "      <td>0.0</td>\n",
       "    </tr>\n",
       "    <tr>\n",
       "      <th>1707</th>\n",
       "      <td>100000.0</td>\n",
       "      <td>0.0</td>\n",
       "    </tr>\n",
       "    <tr>\n",
       "      <th>1708</th>\n",
       "      <td>200000.0</td>\n",
       "      <td>0.0</td>\n",
       "    </tr>\n",
       "  </tbody>\n",
       "</table>\n",
       "<p>1709 rows × 2 columns</p>\n",
       "</div>"
      ],
      "text/plain": [
       "          from      upto\n",
       "0     120000.0       0.0\n",
       "1     200000.0       0.0\n",
       "2     200000.0  400000.0\n",
       "3      60000.0  120000.0\n",
       "4      10000.0       0.0\n",
       "...        ...       ...\n",
       "1704   60000.0  100000.0\n",
       "1705  100000.0       0.0\n",
       "1706  100000.0       0.0\n",
       "1707  100000.0       0.0\n",
       "1708  200000.0       0.0\n",
       "\n",
       "[1709 rows x 2 columns]"
      ]
     },
     "execution_count": 73,
     "metadata": {},
     "output_type": "execute_result"
    }
   ],
   "source": [
    "\n",
    "frac_data = data.sample(frac = 0.1)\n",
    "salarys = []\n",
    "for i in data[\"salary\"]:\n",
    "    salary = re.findall(r'\\d+\\s\\d+', i)\n",
    "    salarys.append([int(i.replace(\" \", \"\")) for i in salary])\n",
    "df = pd.DataFrame(salarys)\n",
    "df = df.fillna(0)\n",
    "\n",
    "data[\"from\"] = df[0]\n",
    "data[\"upto\"] = df[1]\n",
    "data[[\"from\",\"upto\"]]"
   ]
  },
  {
   "cell_type": "markdown",
   "metadata": {},
   "source": [
    "#### Data. Создаем currency"
   ]
  },
  {
   "cell_type": "code",
   "execution_count": 74,
   "metadata": {},
   "outputs": [
    {
     "data": {
      "text/html": [
       "<div>\n",
       "<style scoped>\n",
       "    .dataframe tbody tr th:only-of-type {\n",
       "        vertical-align: middle;\n",
       "    }\n",
       "\n",
       "    .dataframe tbody tr th {\n",
       "        vertical-align: top;\n",
       "    }\n",
       "\n",
       "    .dataframe thead th {\n",
       "        text-align: right;\n",
       "    }\n",
       "</style>\n",
       "<table border=\"1\" class=\"dataframe\">\n",
       "  <thead>\n",
       "    <tr style=\"text-align: right;\">\n",
       "      <th></th>\n",
       "      <th>Unnamed: 0</th>\n",
       "      <th>city2</th>\n",
       "      <th>experience</th>\n",
       "      <th>description</th>\n",
       "      <th>salary</th>\n",
       "      <th>tags_list</th>\n",
       "      <th>tags_list_len</th>\n",
       "      <th>city</th>\n",
       "      <th>from</th>\n",
       "      <th>upto</th>\n",
       "      <th>currency</th>\n",
       "    </tr>\n",
       "  </thead>\n",
       "  <tbody>\n",
       "    <tr>\n",
       "      <th>0</th>\n",
       "      <td>0</td>\n",
       "      <td>Улица 1905 года, Москва, улица 1905 года, 10с1</td>\n",
       "      <td>1–3 года</td>\n",
       "      <td>Привет наш будущий кандидат на должность марке...</td>\n",
       "      <td>от 120 000 руб. на руки</td>\n",
       "      <td>[SWOT анализ, Adobe Photoshop, Работа в команд...</td>\n",
       "      <td>5</td>\n",
       "      <td></td>\n",
       "      <td>120000.0</td>\n",
       "      <td>0.0</td>\n",
       "      <td>руб</td>\n",
       "    </tr>\n",
       "    <tr>\n",
       "      <th>1</th>\n",
       "      <td>1</td>\n",
       "      <td></td>\n",
       "      <td>3–6 лет</td>\n",
       "      <td>Привет! Мы Семь Семян - онлайн супермаркет тов...</td>\n",
       "      <td>от 200 000 руб. на руки</td>\n",
       "      <td>[Медиапланирование, Интернет-реклама, Контекст...</td>\n",
       "      <td>5</td>\n",
       "      <td>Москва, Румянцево</td>\n",
       "      <td>200000.0</td>\n",
       "      <td>0.0</td>\n",
       "      <td>руб</td>\n",
       "    </tr>\n",
       "  </tbody>\n",
       "</table>\n",
       "</div>"
      ],
      "text/plain": [
       "   Unnamed: 0                                           city2 experience  \\\n",
       "0           0  Улица 1905 года, Москва, улица 1905 года, 10с1   1–3 года   \n",
       "1           1                                                    3–6 лет   \n",
       "\n",
       "                                         description                   salary  \\\n",
       "0  Привет наш будущий кандидат на должность марке...  от 120 000 руб. на руки   \n",
       "1  Привет! Мы Семь Семян - онлайн супермаркет тов...  от 200 000 руб. на руки   \n",
       "\n",
       "                                           tags_list  tags_list_len  \\\n",
       "0  [SWOT анализ, Adobe Photoshop, Работа в команд...              5   \n",
       "1  [Медиапланирование, Интернет-реклама, Контекст...              5   \n",
       "\n",
       "                city      from  upto currency  \n",
       "0                     120000.0   0.0      руб  \n",
       "1  Москва, Румянцево  200000.0   0.0      руб  "
      ]
     },
     "execution_count": 74,
     "metadata": {},
     "output_type": "execute_result"
    }
   ],
   "source": [
    "\n",
    "curr = []\n",
    "for i in data[\"salary\"]:\n",
    "    temp = re.findall(r'руб|USD|EUR|не указана|сум', i)\n",
    "    curr.append(temp[0])\n",
    "\n",
    "data[\"currency\"] = curr\n",
    "data.head(2)"
   ]
  },
  {
   "cell_type": "markdown",
   "metadata": {},
   "source": [
    "Проверяем пересечения city и city2. Так как они отстутствуют можно спокойно их соединить"
   ]
  },
  {
   "cell_type": "code",
   "execution_count": 75,
   "metadata": {},
   "outputs": [
    {
     "data": {
      "text/html": [
       "<div>\n",
       "<style scoped>\n",
       "    .dataframe tbody tr th:only-of-type {\n",
       "        vertical-align: middle;\n",
       "    }\n",
       "\n",
       "    .dataframe tbody tr th {\n",
       "        vertical-align: top;\n",
       "    }\n",
       "\n",
       "    .dataframe thead th {\n",
       "        text-align: right;\n",
       "    }\n",
       "</style>\n",
       "<table border=\"1\" class=\"dataframe\">\n",
       "  <thead>\n",
       "    <tr style=\"text-align: right;\">\n",
       "      <th></th>\n",
       "      <th>Unnamed: 0</th>\n",
       "      <th>city2</th>\n",
       "      <th>experience</th>\n",
       "      <th>description</th>\n",
       "      <th>salary</th>\n",
       "      <th>tags_list</th>\n",
       "      <th>tags_list_len</th>\n",
       "      <th>city</th>\n",
       "      <th>from</th>\n",
       "      <th>upto</th>\n",
       "      <th>currency</th>\n",
       "    </tr>\n",
       "  </thead>\n",
       "  <tbody>\n",
       "  </tbody>\n",
       "</table>\n",
       "</div>"
      ],
      "text/plain": [
       "Empty DataFrame\n",
       "Columns: [Unnamed: 0, city2, experience, description, salary, tags_list, tags_list_len, city, from, upto, currency]\n",
       "Index: []"
      ]
     },
     "execution_count": 75,
     "metadata": {},
     "output_type": "execute_result"
    }
   ],
   "source": [
    "data[(data[\"city2\"]!=\"\") & (data[\"city\"]!=\"\")]"
   ]
  },
  {
   "cell_type": "markdown",
   "metadata": {},
   "source": [
    "Так как пересечения отсутствуют можно спокойно их соединить"
   ]
  },
  {
   "cell_type": "code",
   "execution_count": 76,
   "metadata": {},
   "outputs": [
    {
     "data": {
      "text/html": [
       "<div>\n",
       "<style scoped>\n",
       "    .dataframe tbody tr th:only-of-type {\n",
       "        vertical-align: middle;\n",
       "    }\n",
       "\n",
       "    .dataframe tbody tr th {\n",
       "        vertical-align: top;\n",
       "    }\n",
       "\n",
       "    .dataframe thead th {\n",
       "        text-align: right;\n",
       "    }\n",
       "</style>\n",
       "<table border=\"1\" class=\"dataframe\">\n",
       "  <thead>\n",
       "    <tr style=\"text-align: right;\">\n",
       "      <th></th>\n",
       "      <th>index</th>\n",
       "      <th>experience</th>\n",
       "      <th>description</th>\n",
       "      <th>salary</th>\n",
       "      <th>tags_list</th>\n",
       "      <th>tags_list_len</th>\n",
       "      <th>from</th>\n",
       "      <th>upto</th>\n",
       "      <th>currency</th>\n",
       "      <th>fulladress</th>\n",
       "    </tr>\n",
       "  </thead>\n",
       "  <tbody>\n",
       "    <tr>\n",
       "      <th>0</th>\n",
       "      <td>0</td>\n",
       "      <td>1–3 года</td>\n",
       "      <td>Привет наш будущий кандидат на должность марке...</td>\n",
       "      <td>от 120 000 руб. на руки</td>\n",
       "      <td>[SWOT анализ, Adobe Photoshop, Работа в команд...</td>\n",
       "      <td>5</td>\n",
       "      <td>120000.0</td>\n",
       "      <td>0.0</td>\n",
       "      <td>руб</td>\n",
       "      <td>Улица 1905 года, Москва, улица 1905 года, 10с1</td>\n",
       "    </tr>\n",
       "    <tr>\n",
       "      <th>1</th>\n",
       "      <td>1</td>\n",
       "      <td>3–6 лет</td>\n",
       "      <td>Привет! Мы Семь Семян - онлайн супермаркет тов...</td>\n",
       "      <td>от 200 000 руб. на руки</td>\n",
       "      <td>[Медиапланирование, Интернет-реклама, Контекст...</td>\n",
       "      <td>5</td>\n",
       "      <td>200000.0</td>\n",
       "      <td>0.0</td>\n",
       "      <td>руб</td>\n",
       "      <td>Москва, Румянцево</td>\n",
       "    </tr>\n",
       "    <tr>\n",
       "      <th>2</th>\n",
       "      <td>2</td>\n",
       "      <td>более 6 лет</td>\n",
       "      <td>LEGRAND - производитель федерального уровня с ...</td>\n",
       "      <td>от 200 000 до 400 000 руб. на руки</td>\n",
       "      <td>[B2B маркетинг, unit-экономика, Запуск новых п...</td>\n",
       "      <td>12</td>\n",
       "      <td>200000.0</td>\n",
       "      <td>400000.0</td>\n",
       "      <td>руб</td>\n",
       "      <td>Электросталь, Строительный переулок, 10</td>\n",
       "    </tr>\n",
       "    <tr>\n",
       "      <th>3</th>\n",
       "      <td>3</td>\n",
       "      <td>1–3 года</td>\n",
       "      <td>Наша школа Футбола и спортивной психологии явл...</td>\n",
       "      <td>от 60 000 до 120 000 руб. на руки</td>\n",
       "      <td>[E-Mail Marketing, Стратегический маркетинг, А...</td>\n",
       "      <td>9</td>\n",
       "      <td>60000.0</td>\n",
       "      <td>120000.0</td>\n",
       "      <td>руб</td>\n",
       "      <td>Москва</td>\n",
       "    </tr>\n",
       "    <tr>\n",
       "      <th>4</th>\n",
       "      <td>4</td>\n",
       "      <td>более 6 лет</td>\n",
       "      <td>Мы - международная FinTech компания AMarkets. ...</td>\n",
       "      <td>от 10 000 USD на руки</td>\n",
       "      <td>[]</td>\n",
       "      <td>0</td>\n",
       "      <td>10000.0</td>\n",
       "      <td>0.0</td>\n",
       "      <td>USD</td>\n",
       "      <td>Москва</td>\n",
       "    </tr>\n",
       "    <tr>\n",
       "      <th>...</th>\n",
       "      <td>...</td>\n",
       "      <td>...</td>\n",
       "      <td>...</td>\n",
       "      <td>...</td>\n",
       "      <td>...</td>\n",
       "      <td>...</td>\n",
       "      <td>...</td>\n",
       "      <td>...</td>\n",
       "      <td>...</td>\n",
       "      <td>...</td>\n",
       "    </tr>\n",
       "    <tr>\n",
       "      <th>1704</th>\n",
       "      <td>1704</td>\n",
       "      <td>3–6 лет</td>\n",
       "      <td>Мы ищем человека с активной жизненной позицией...</td>\n",
       "      <td>от 60 000 до 100 000 руб. на руки</td>\n",
       "      <td>[B2B маркетинг, Анализ бизнес показателей, Ори...</td>\n",
       "      <td>11</td>\n",
       "      <td>60000.0</td>\n",
       "      <td>100000.0</td>\n",
       "      <td>руб</td>\n",
       "      <td>Пенза, Стрельбищенская улица, 60</td>\n",
       "    </tr>\n",
       "    <tr>\n",
       "      <th>1705</th>\n",
       "      <td>1705</td>\n",
       "      <td>3–6 лет</td>\n",
       "      <td>Российский торгово-производственный холдинг КО...</td>\n",
       "      <td>от 100 000 руб. на руки</td>\n",
       "      <td>[маркетплейсы, SEO оптимизация, Аналитическое ...</td>\n",
       "      <td>10</td>\n",
       "      <td>100000.0</td>\n",
       "      <td>0.0</td>\n",
       "      <td>руб</td>\n",
       "      <td>Москва, Ферганская улица, 8А</td>\n",
       "    </tr>\n",
       "    <tr>\n",
       "      <th>1706</th>\n",
       "      <td>1706</td>\n",
       "      <td>1–3 года</td>\n",
       "      <td>Привет!\\nМы рады приветствовать тебя на страни...</td>\n",
       "      <td>от 100 000 руб. на руки</td>\n",
       "      <td>[Управление персоналом, Работа в команде, Анал...</td>\n",
       "      <td>7</td>\n",
       "      <td>100000.0</td>\n",
       "      <td>0.0</td>\n",
       "      <td>руб</td>\n",
       "      <td>Москва</td>\n",
       "    </tr>\n",
       "    <tr>\n",
       "      <th>1707</th>\n",
       "      <td>1707</td>\n",
       "      <td>3–6 лет</td>\n",
       "      <td>«Погрызухин» - это корма и лакомства для собак...</td>\n",
       "      <td>от 100 000 руб. на руки</td>\n",
       "      <td>[Активные продажи, Управление продажами, Разви...</td>\n",
       "      <td>4</td>\n",
       "      <td>100000.0</td>\n",
       "      <td>0.0</td>\n",
       "      <td>руб</td>\n",
       "      <td>Красногорск, Ильинское шоссе, 1А</td>\n",
       "    </tr>\n",
       "    <tr>\n",
       "      <th>1708</th>\n",
       "      <td>1708</td>\n",
       "      <td>3–6 лет</td>\n",
       "      <td>Привет! Мы Семь Семян - онлайн супермаркет тов...</td>\n",
       "      <td>от 200 000 руб. на руки</td>\n",
       "      <td>[Медиапланирование, Интернет-реклама, Контекст...</td>\n",
       "      <td>5</td>\n",
       "      <td>200000.0</td>\n",
       "      <td>0.0</td>\n",
       "      <td>руб</td>\n",
       "      <td>Москва, Румянцево</td>\n",
       "    </tr>\n",
       "  </tbody>\n",
       "</table>\n",
       "<p>1709 rows × 10 columns</p>\n",
       "</div>"
      ],
      "text/plain": [
       "      index   experience                                        description  \\\n",
       "0         0     1–3 года  Привет наш будущий кандидат на должность марке...   \n",
       "1         1      3–6 лет  Привет! Мы Семь Семян - онлайн супермаркет тов...   \n",
       "2         2  более 6 лет  LEGRAND - производитель федерального уровня с ...   \n",
       "3         3     1–3 года  Наша школа Футбола и спортивной психологии явл...   \n",
       "4         4  более 6 лет  Мы - международная FinTech компания AMarkets. ...   \n",
       "...     ...          ...                                                ...   \n",
       "1704   1704      3–6 лет  Мы ищем человека с активной жизненной позицией...   \n",
       "1705   1705      3–6 лет  Российский торгово-производственный холдинг КО...   \n",
       "1706   1706     1–3 года  Привет!\\nМы рады приветствовать тебя на страни...   \n",
       "1707   1707      3–6 лет  «Погрызухин» - это корма и лакомства для собак...   \n",
       "1708   1708      3–6 лет  Привет! Мы Семь Семян - онлайн супермаркет тов...   \n",
       "\n",
       "                                  salary  \\\n",
       "0                от 120 000 руб. на руки   \n",
       "1                от 200 000 руб. на руки   \n",
       "2     от 200 000 до 400 000 руб. на руки   \n",
       "3      от 60 000 до 120 000 руб. на руки   \n",
       "4                  от 10 000 USD на руки   \n",
       "...                                  ...   \n",
       "1704   от 60 000 до 100 000 руб. на руки   \n",
       "1705             от 100 000 руб. на руки   \n",
       "1706             от 100 000 руб. на руки   \n",
       "1707             от 100 000 руб. на руки   \n",
       "1708             от 200 000 руб. на руки   \n",
       "\n",
       "                                              tags_list  tags_list_len  \\\n",
       "0     [SWOT анализ, Adobe Photoshop, Работа в команд...              5   \n",
       "1     [Медиапланирование, Интернет-реклама, Контекст...              5   \n",
       "2     [B2B маркетинг, unit-экономика, Запуск новых п...             12   \n",
       "3     [E-Mail Marketing, Стратегический маркетинг, А...              9   \n",
       "4                                                    []              0   \n",
       "...                                                 ...            ...   \n",
       "1704  [B2B маркетинг, Анализ бизнес показателей, Ори...             11   \n",
       "1705  [маркетплейсы, SEO оптимизация, Аналитическое ...             10   \n",
       "1706  [Управление персоналом, Работа в команде, Анал...              7   \n",
       "1707  [Активные продажи, Управление продажами, Разви...              4   \n",
       "1708  [Медиапланирование, Интернет-реклама, Контекст...              5   \n",
       "\n",
       "          from      upto currency  \\\n",
       "0     120000.0       0.0      руб   \n",
       "1     200000.0       0.0      руб   \n",
       "2     200000.0  400000.0      руб   \n",
       "3      60000.0  120000.0      руб   \n",
       "4      10000.0       0.0      USD   \n",
       "...        ...       ...      ...   \n",
       "1704   60000.0  100000.0      руб   \n",
       "1705  100000.0       0.0      руб   \n",
       "1706  100000.0       0.0      руб   \n",
       "1707  100000.0       0.0      руб   \n",
       "1708  200000.0       0.0      руб   \n",
       "\n",
       "                                          fulladress  \n",
       "0     Улица 1905 года, Москва, улица 1905 года, 10с1  \n",
       "1                                  Москва, Румянцево  \n",
       "2            Электросталь, Строительный переулок, 10  \n",
       "3                                             Москва  \n",
       "4                                             Москва  \n",
       "...                                              ...  \n",
       "1704                Пенза, Стрельбищенская улица, 60  \n",
       "1705                    Москва, Ферганская улица, 8А  \n",
       "1706                                          Москва  \n",
       "1707                Красногорск, Ильинское шоссе, 1А  \n",
       "1708                               Москва, Румянцево  \n",
       "\n",
       "[1709 rows x 10 columns]"
      ]
     },
     "execution_count": 76,
     "metadata": {},
     "output_type": "execute_result"
    }
   ],
   "source": [
    "data = data.rename(columns={\"Unnamed: 0\": \"index\"})\n",
    "resume_data = resume_data.rename(columns={\"Unnamed: 0\": \"index\"})\n",
    "data[\"fulladress\"] = data[\"city\"] + data[\"city2\"]\n",
    "data.drop(['city', 'city2'], axis= 1 , inplace= True )\n",
    "data"
   ]
  },
  {
   "cell_type": "code",
   "execution_count": 77,
   "metadata": {},
   "outputs": [
    {
     "data": {
      "text/html": [
       "<div>\n",
       "<style scoped>\n",
       "    .dataframe tbody tr th:only-of-type {\n",
       "        vertical-align: middle;\n",
       "    }\n",
       "\n",
       "    .dataframe tbody tr th {\n",
       "        vertical-align: top;\n",
       "    }\n",
       "\n",
       "    .dataframe thead th {\n",
       "        text-align: right;\n",
       "    }\n",
       "</style>\n",
       "<table border=\"1\" class=\"dataframe\">\n",
       "  <thead>\n",
       "    <tr style=\"text-align: right;\">\n",
       "      <th></th>\n",
       "      <th>index</th>\n",
       "      <th>experience</th>\n",
       "      <th>description</th>\n",
       "      <th>salary</th>\n",
       "      <th>tags_list</th>\n",
       "      <th>tags_list_len</th>\n",
       "      <th>from</th>\n",
       "      <th>upto</th>\n",
       "      <th>currency</th>\n",
       "      <th>fulladress</th>\n",
       "    </tr>\n",
       "  </thead>\n",
       "  <tbody>\n",
       "    <tr>\n",
       "      <th>0</th>\n",
       "      <td>0</td>\n",
       "      <td>1–3 года</td>\n",
       "      <td>Привет наш будущий кандидат на должность марке...</td>\n",
       "      <td>от 120 000 руб. на руки</td>\n",
       "      <td>[SWOT анализ, Adobe Photoshop, Работа в команд...</td>\n",
       "      <td>5</td>\n",
       "      <td>120000.0</td>\n",
       "      <td>0.0</td>\n",
       "      <td>руб</td>\n",
       "      <td>Улица 1905 года, Москва, улица 1905 года, 10с1</td>\n",
       "    </tr>\n",
       "    <tr>\n",
       "      <th>1</th>\n",
       "      <td>1</td>\n",
       "      <td>3–6 лет</td>\n",
       "      <td>Привет! Мы Семь Семян - онлайн супермаркет тов...</td>\n",
       "      <td>от 200 000 руб. на руки</td>\n",
       "      <td>[Медиапланирование, Интернет-реклама, Контекст...</td>\n",
       "      <td>5</td>\n",
       "      <td>200000.0</td>\n",
       "      <td>0.0</td>\n",
       "      <td>руб</td>\n",
       "      <td>Москва, Румянцево</td>\n",
       "    </tr>\n",
       "    <tr>\n",
       "      <th>2</th>\n",
       "      <td>2</td>\n",
       "      <td>более 6 лет</td>\n",
       "      <td>LEGRAND - производитель федерального уровня с ...</td>\n",
       "      <td>от 200 000 до 400 000 руб. на руки</td>\n",
       "      <td>[B2B маркетинг, unit-экономика, Запуск новых п...</td>\n",
       "      <td>12</td>\n",
       "      <td>200000.0</td>\n",
       "      <td>400000.0</td>\n",
       "      <td>руб</td>\n",
       "      <td>Электросталь, Строительный переулок, 10</td>\n",
       "    </tr>\n",
       "    <tr>\n",
       "      <th>3</th>\n",
       "      <td>3</td>\n",
       "      <td>1–3 года</td>\n",
       "      <td>Наша школа Футбола и спортивной психологии явл...</td>\n",
       "      <td>от 60 000 до 120 000 руб. на руки</td>\n",
       "      <td>[E-Mail Marketing, Стратегический маркетинг, А...</td>\n",
       "      <td>9</td>\n",
       "      <td>60000.0</td>\n",
       "      <td>120000.0</td>\n",
       "      <td>руб</td>\n",
       "      <td>Москва</td>\n",
       "    </tr>\n",
       "    <tr>\n",
       "      <th>4</th>\n",
       "      <td>4</td>\n",
       "      <td>более 6 лет</td>\n",
       "      <td>Мы - международная FinTech компания AMarkets. ...</td>\n",
       "      <td>от 10 000 USD на руки</td>\n",
       "      <td>[]</td>\n",
       "      <td>0</td>\n",
       "      <td>10000.0</td>\n",
       "      <td>0.0</td>\n",
       "      <td>USD</td>\n",
       "      <td>Москва</td>\n",
       "    </tr>\n",
       "  </tbody>\n",
       "</table>\n",
       "</div>"
      ],
      "text/plain": [
       "   index   experience                                        description  \\\n",
       "0      0     1–3 года  Привет наш будущий кандидат на должность марке...   \n",
       "1      1      3–6 лет  Привет! Мы Семь Семян - онлайн супермаркет тов...   \n",
       "2      2  более 6 лет  LEGRAND - производитель федерального уровня с ...   \n",
       "3      3     1–3 года  Наша школа Футбола и спортивной психологии явл...   \n",
       "4      4  более 6 лет  Мы - международная FinTech компания AMarkets. ...   \n",
       "\n",
       "                               salary  \\\n",
       "0             от 120 000 руб. на руки   \n",
       "1             от 200 000 руб. на руки   \n",
       "2  от 200 000 до 400 000 руб. на руки   \n",
       "3   от 60 000 до 120 000 руб. на руки   \n",
       "4               от 10 000 USD на руки   \n",
       "\n",
       "                                           tags_list  tags_list_len      from  \\\n",
       "0  [SWOT анализ, Adobe Photoshop, Работа в команд...              5  120000.0   \n",
       "1  [Медиапланирование, Интернет-реклама, Контекст...              5  200000.0   \n",
       "2  [B2B маркетинг, unit-экономика, Запуск новых п...             12  200000.0   \n",
       "3  [E-Mail Marketing, Стратегический маркетинг, А...              9   60000.0   \n",
       "4                                                 []              0   10000.0   \n",
       "\n",
       "       upto currency                                      fulladress  \n",
       "0       0.0      руб  Улица 1905 года, Москва, улица 1905 года, 10с1  \n",
       "1       0.0      руб                               Москва, Румянцево  \n",
       "2  400000.0      руб         Электросталь, Строительный переулок, 10  \n",
       "3  120000.0      руб                                          Москва  \n",
       "4       0.0      USD                                          Москва  "
      ]
     },
     "execution_count": 77,
     "metadata": {},
     "output_type": "execute_result"
    }
   ],
   "source": [
    "data.head(5)"
   ]
  },
  {
   "cell_type": "markdown",
   "metadata": {},
   "source": [
    "#### Рассмотрим from и upto\n",
    "Так как подавляющее количество данных с currency = руб. То рассмотрим для удобства только эти данные.\n",
    "Видим, что половина вакансий указывает зарплату от, вторая половина указывает точную зарплатную вилку. Есть аномально большие зарплаты, но они слишком малочисленны, можем предположить о нерентабельности таких данных."
   ]
  },
  {
   "cell_type": "code",
   "execution_count": 78,
   "metadata": {},
   "outputs": [
    {
     "data": {
      "text/html": [
       "<div>\n",
       "<style scoped>\n",
       "    .dataframe tbody tr th:only-of-type {\n",
       "        vertical-align: middle;\n",
       "    }\n",
       "\n",
       "    .dataframe tbody tr th {\n",
       "        vertical-align: top;\n",
       "    }\n",
       "\n",
       "    .dataframe thead th {\n",
       "        text-align: right;\n",
       "    }\n",
       "</style>\n",
       "<table border=\"1\" class=\"dataframe\">\n",
       "  <thead>\n",
       "    <tr style=\"text-align: right;\">\n",
       "      <th></th>\n",
       "      <th>upto</th>\n",
       "      <th>from</th>\n",
       "    </tr>\n",
       "  </thead>\n",
       "  <tbody>\n",
       "    <tr>\n",
       "      <th>count</th>\n",
       "      <td>813.000000</td>\n",
       "      <td>1672.000000</td>\n",
       "    </tr>\n",
       "    <tr>\n",
       "      <th>mean</th>\n",
       "      <td>161744.650677</td>\n",
       "      <td>113004.729665</td>\n",
       "    </tr>\n",
       "    <tr>\n",
       "      <th>std</th>\n",
       "      <td>110354.960137</td>\n",
       "      <td>72081.174962</td>\n",
       "    </tr>\n",
       "    <tr>\n",
       "      <th>min</th>\n",
       "      <td>1000.000000</td>\n",
       "      <td>1000.000000</td>\n",
       "    </tr>\n",
       "    <tr>\n",
       "      <th>25%</th>\n",
       "      <td>90000.000000</td>\n",
       "      <td>65000.000000</td>\n",
       "    </tr>\n",
       "    <tr>\n",
       "      <th>50%</th>\n",
       "      <td>140000.000000</td>\n",
       "      <td>100000.000000</td>\n",
       "    </tr>\n",
       "    <tr>\n",
       "      <th>75%</th>\n",
       "      <td>200000.000000</td>\n",
       "      <td>150000.000000</td>\n",
       "    </tr>\n",
       "    <tr>\n",
       "      <th>max</th>\n",
       "      <td>800000.000000</td>\n",
       "      <td>700000.000000</td>\n",
       "    </tr>\n",
       "  </tbody>\n",
       "</table>\n",
       "</div>"
      ],
      "text/plain": [
       "                upto           from\n",
       "count     813.000000    1672.000000\n",
       "mean   161744.650677  113004.729665\n",
       "std    110354.960137   72081.174962\n",
       "min      1000.000000    1000.000000\n",
       "25%     90000.000000   65000.000000\n",
       "50%    140000.000000  100000.000000\n",
       "75%    200000.000000  150000.000000\n",
       "max    800000.000000  700000.000000"
      ]
     },
     "execution_count": 78,
     "metadata": {},
     "output_type": "execute_result"
    }
   ],
   "source": [
    "df = data[data[\"currency\"]==\"руб\"]\n",
    "df_upto = df[\"upto\"][df[\"upto\"] != 0]\n",
    "df_from = df[\"from\"][df['from'] != 0]\n",
    "pd.concat([df_upto, df_from], axis=1).describe()"
   ]
  },
  {
   "cell_type": "markdown",
   "metadata": {},
   "source": [
    "Взглянем на распределение возрастов. Заодно проверим нет ли особо древних или несовершеннолетних соискателей"
   ]
  },
  {
   "cell_type": "code",
   "execution_count": 79,
   "metadata": {},
   "outputs": [],
   "source": [
    "resume_data[\"age\"] = [int(i[:2]) for i in resume_data[\"age\"]]"
   ]
  },
  {
   "cell_type": "code",
   "execution_count": 80,
   "metadata": {},
   "outputs": [
    {
     "name": "stdout",
     "output_type": "stream",
     "text": [
      "36.0 37 37.21307506053269\n"
     ]
    },
    {
     "data": {
      "application/vnd.plotly.v1+json": {
       "config": {
        "plotlyServerURL": "https://plot.ly"
       },
       "data": [
        {
         "name": "Возраст",
         "type": "bar",
         "x": [
          19,
          20,
          21,
          22,
          23,
          24,
          25,
          26,
          27,
          28,
          29,
          30,
          31,
          32,
          33,
          34,
          35,
          36,
          37,
          38,
          39,
          40,
          41,
          42,
          43,
          44,
          45,
          46,
          47,
          48,
          49,
          50,
          51,
          52,
          53,
          54,
          55,
          56,
          57,
          58,
          59,
          60,
          61,
          62,
          63,
          65,
          66,
          67,
          68,
          71
         ],
         "y": [
          1,
          2,
          6,
          5,
          9,
          24,
          57,
          50,
          80,
          82,
          103,
          116,
          157,
          171,
          193,
          210,
          209,
          184,
          211,
          166,
          165,
          155,
          124,
          120,
          97,
          104,
          102,
          62,
          65,
          51,
          36,
          31,
          32,
          25,
          25,
          14,
          15,
          4,
          7,
          6,
          7,
          3,
          6,
          1,
          3,
          1,
          3,
          1,
          1,
          2
         ]
        }
       ],
       "layout": {
        "annotations": [
         {
          "font": {
           "color": "grey",
           "size": 16
          },
          "showarrow": false,
          "text": "\n      Медиана: 36.0\n      Мода: 37\n      Среднее значение: 37.21\n      ",
          "x": 0.2,
          "xanchor": "left",
          "xref": "paper",
          "y": -0.2,
          "yanchor": "top",
          "yref": "paper"
         },
         {
          "font": {
           "color": "grey",
           "size": 16
          },
          "showarrow": false,
          "text": "\n      Медиана: 36.0\n      Мода: 37\n      Среднее значение: 37.21\n      ",
          "x": 0.2,
          "xanchor": "left",
          "xref": "paper",
          "y": -0.2,
          "yanchor": "top",
          "yref": "paper"
         },
         {
          "font": {
           "color": "grey",
           "size": 16
          },
          "showarrow": false,
          "text": "\n      Медиана: 36.0\n      Мода: 37\n      Среднее значение: 37.21\n      ",
          "x": 0.2,
          "xanchor": "left",
          "xref": "paper",
          "y": -0.2,
          "yanchor": "top",
          "yref": "paper"
         }
        ],
        "barcornerradius": 7,
        "shapes": [
         {
          "legendrank": 1,
          "line": {
           "color": "red"
          },
          "name": "Медиана",
          "showlegend": true,
          "type": "line",
          "x0": 36,
          "x1": 36,
          "xref": "x",
          "y0": 0,
          "y1": 1,
          "yref": "y domain"
         },
         {
          "legendrank": 1,
          "line": {
           "color": "purple"
          },
          "name": "Мода",
          "showlegend": true,
          "type": "line",
          "x0": 37,
          "x1": 37,
          "xref": "x",
          "y0": 0,
          "y1": 1,
          "yref": "y domain"
         },
         {
          "legendrank": 1,
          "line": {
           "color": "orange"
          },
          "name": "Среднее значение",
          "showlegend": true,
          "type": "line",
          "x0": 37.21307506053269,
          "x1": 37.21307506053269,
          "xref": "x",
          "y0": 0,
          "y1": 1,
          "yref": "y domain"
         },
         {
          "legendrank": 1,
          "line": {
           "color": "black",
           "dash": "dash"
          },
          "name": "Q1",
          "showlegend": true,
          "type": "line",
          "x0": 32,
          "x1": 32,
          "xref": "x",
          "y0": 0,
          "y1": 1,
          "yref": "y domain"
         },
         {
          "legendrank": 1,
          "line": {
           "color": "black",
           "dash": "dash"
          },
          "name": "Q2",
          "showlegend": true,
          "type": "line",
          "x0": 36,
          "x1": 36,
          "xref": "x",
          "y0": 0,
          "y1": 1,
          "yref": "y domain"
         },
         {
          "legendrank": 1,
          "line": {
           "color": "black",
           "dash": "dash"
          },
          "name": "Q3",
          "showlegend": true,
          "type": "line",
          "x0": 41,
          "x1": 41,
          "xref": "x",
          "y0": 0,
          "y1": 1,
          "yref": "y domain"
         }
        ],
        "template": {
         "data": {
          "bar": [
           {
            "error_x": {
             "color": "#2a3f5f"
            },
            "error_y": {
             "color": "#2a3f5f"
            },
            "marker": {
             "line": {
              "color": "#E5ECF6",
              "width": 0.5
             },
             "pattern": {
              "fillmode": "overlay",
              "size": 10,
              "solidity": 0.2
             }
            },
            "type": "bar"
           }
          ],
          "barpolar": [
           {
            "marker": {
             "line": {
              "color": "#E5ECF6",
              "width": 0.5
             },
             "pattern": {
              "fillmode": "overlay",
              "size": 10,
              "solidity": 0.2
             }
            },
            "type": "barpolar"
           }
          ],
          "carpet": [
           {
            "aaxis": {
             "endlinecolor": "#2a3f5f",
             "gridcolor": "white",
             "linecolor": "white",
             "minorgridcolor": "white",
             "startlinecolor": "#2a3f5f"
            },
            "baxis": {
             "endlinecolor": "#2a3f5f",
             "gridcolor": "white",
             "linecolor": "white",
             "minorgridcolor": "white",
             "startlinecolor": "#2a3f5f"
            },
            "type": "carpet"
           }
          ],
          "choropleth": [
           {
            "colorbar": {
             "outlinewidth": 0,
             "ticks": ""
            },
            "type": "choropleth"
           }
          ],
          "contour": [
           {
            "colorbar": {
             "outlinewidth": 0,
             "ticks": ""
            },
            "colorscale": [
             [
              0,
              "#0d0887"
             ],
             [
              0.1111111111111111,
              "#46039f"
             ],
             [
              0.2222222222222222,
              "#7201a8"
             ],
             [
              0.3333333333333333,
              "#9c179e"
             ],
             [
              0.4444444444444444,
              "#bd3786"
             ],
             [
              0.5555555555555556,
              "#d8576b"
             ],
             [
              0.6666666666666666,
              "#ed7953"
             ],
             [
              0.7777777777777778,
              "#fb9f3a"
             ],
             [
              0.8888888888888888,
              "#fdca26"
             ],
             [
              1,
              "#f0f921"
             ]
            ],
            "type": "contour"
           }
          ],
          "contourcarpet": [
           {
            "colorbar": {
             "outlinewidth": 0,
             "ticks": ""
            },
            "type": "contourcarpet"
           }
          ],
          "heatmap": [
           {
            "colorbar": {
             "outlinewidth": 0,
             "ticks": ""
            },
            "colorscale": [
             [
              0,
              "#0d0887"
             ],
             [
              0.1111111111111111,
              "#46039f"
             ],
             [
              0.2222222222222222,
              "#7201a8"
             ],
             [
              0.3333333333333333,
              "#9c179e"
             ],
             [
              0.4444444444444444,
              "#bd3786"
             ],
             [
              0.5555555555555556,
              "#d8576b"
             ],
             [
              0.6666666666666666,
              "#ed7953"
             ],
             [
              0.7777777777777778,
              "#fb9f3a"
             ],
             [
              0.8888888888888888,
              "#fdca26"
             ],
             [
              1,
              "#f0f921"
             ]
            ],
            "type": "heatmap"
           }
          ],
          "heatmapgl": [
           {
            "colorbar": {
             "outlinewidth": 0,
             "ticks": ""
            },
            "colorscale": [
             [
              0,
              "#0d0887"
             ],
             [
              0.1111111111111111,
              "#46039f"
             ],
             [
              0.2222222222222222,
              "#7201a8"
             ],
             [
              0.3333333333333333,
              "#9c179e"
             ],
             [
              0.4444444444444444,
              "#bd3786"
             ],
             [
              0.5555555555555556,
              "#d8576b"
             ],
             [
              0.6666666666666666,
              "#ed7953"
             ],
             [
              0.7777777777777778,
              "#fb9f3a"
             ],
             [
              0.8888888888888888,
              "#fdca26"
             ],
             [
              1,
              "#f0f921"
             ]
            ],
            "type": "heatmapgl"
           }
          ],
          "histogram": [
           {
            "marker": {
             "pattern": {
              "fillmode": "overlay",
              "size": 10,
              "solidity": 0.2
             }
            },
            "type": "histogram"
           }
          ],
          "histogram2d": [
           {
            "colorbar": {
             "outlinewidth": 0,
             "ticks": ""
            },
            "colorscale": [
             [
              0,
              "#0d0887"
             ],
             [
              0.1111111111111111,
              "#46039f"
             ],
             [
              0.2222222222222222,
              "#7201a8"
             ],
             [
              0.3333333333333333,
              "#9c179e"
             ],
             [
              0.4444444444444444,
              "#bd3786"
             ],
             [
              0.5555555555555556,
              "#d8576b"
             ],
             [
              0.6666666666666666,
              "#ed7953"
             ],
             [
              0.7777777777777778,
              "#fb9f3a"
             ],
             [
              0.8888888888888888,
              "#fdca26"
             ],
             [
              1,
              "#f0f921"
             ]
            ],
            "type": "histogram2d"
           }
          ],
          "histogram2dcontour": [
           {
            "colorbar": {
             "outlinewidth": 0,
             "ticks": ""
            },
            "colorscale": [
             [
              0,
              "#0d0887"
             ],
             [
              0.1111111111111111,
              "#46039f"
             ],
             [
              0.2222222222222222,
              "#7201a8"
             ],
             [
              0.3333333333333333,
              "#9c179e"
             ],
             [
              0.4444444444444444,
              "#bd3786"
             ],
             [
              0.5555555555555556,
              "#d8576b"
             ],
             [
              0.6666666666666666,
              "#ed7953"
             ],
             [
              0.7777777777777778,
              "#fb9f3a"
             ],
             [
              0.8888888888888888,
              "#fdca26"
             ],
             [
              1,
              "#f0f921"
             ]
            ],
            "type": "histogram2dcontour"
           }
          ],
          "mesh3d": [
           {
            "colorbar": {
             "outlinewidth": 0,
             "ticks": ""
            },
            "type": "mesh3d"
           }
          ],
          "parcoords": [
           {
            "line": {
             "colorbar": {
              "outlinewidth": 0,
              "ticks": ""
             }
            },
            "type": "parcoords"
           }
          ],
          "pie": [
           {
            "automargin": true,
            "type": "pie"
           }
          ],
          "scatter": [
           {
            "fillpattern": {
             "fillmode": "overlay",
             "size": 10,
             "solidity": 0.2
            },
            "type": "scatter"
           }
          ],
          "scatter3d": [
           {
            "line": {
             "colorbar": {
              "outlinewidth": 0,
              "ticks": ""
             }
            },
            "marker": {
             "colorbar": {
              "outlinewidth": 0,
              "ticks": ""
             }
            },
            "type": "scatter3d"
           }
          ],
          "scattercarpet": [
           {
            "marker": {
             "colorbar": {
              "outlinewidth": 0,
              "ticks": ""
             }
            },
            "type": "scattercarpet"
           }
          ],
          "scattergeo": [
           {
            "marker": {
             "colorbar": {
              "outlinewidth": 0,
              "ticks": ""
             }
            },
            "type": "scattergeo"
           }
          ],
          "scattergl": [
           {
            "marker": {
             "colorbar": {
              "outlinewidth": 0,
              "ticks": ""
             }
            },
            "type": "scattergl"
           }
          ],
          "scattermapbox": [
           {
            "marker": {
             "colorbar": {
              "outlinewidth": 0,
              "ticks": ""
             }
            },
            "type": "scattermapbox"
           }
          ],
          "scatterpolar": [
           {
            "marker": {
             "colorbar": {
              "outlinewidth": 0,
              "ticks": ""
             }
            },
            "type": "scatterpolar"
           }
          ],
          "scatterpolargl": [
           {
            "marker": {
             "colorbar": {
              "outlinewidth": 0,
              "ticks": ""
             }
            },
            "type": "scatterpolargl"
           }
          ],
          "scatterternary": [
           {
            "marker": {
             "colorbar": {
              "outlinewidth": 0,
              "ticks": ""
             }
            },
            "type": "scatterternary"
           }
          ],
          "surface": [
           {
            "colorbar": {
             "outlinewidth": 0,
             "ticks": ""
            },
            "colorscale": [
             [
              0,
              "#0d0887"
             ],
             [
              0.1111111111111111,
              "#46039f"
             ],
             [
              0.2222222222222222,
              "#7201a8"
             ],
             [
              0.3333333333333333,
              "#9c179e"
             ],
             [
              0.4444444444444444,
              "#bd3786"
             ],
             [
              0.5555555555555556,
              "#d8576b"
             ],
             [
              0.6666666666666666,
              "#ed7953"
             ],
             [
              0.7777777777777778,
              "#fb9f3a"
             ],
             [
              0.8888888888888888,
              "#fdca26"
             ],
             [
              1,
              "#f0f921"
             ]
            ],
            "type": "surface"
           }
          ],
          "table": [
           {
            "cells": {
             "fill": {
              "color": "#EBF0F8"
             },
             "line": {
              "color": "white"
             }
            },
            "header": {
             "fill": {
              "color": "#C8D4E3"
             },
             "line": {
              "color": "white"
             }
            },
            "type": "table"
           }
          ]
         },
         "layout": {
          "annotationdefaults": {
           "arrowcolor": "#2a3f5f",
           "arrowhead": 0,
           "arrowwidth": 1
          },
          "autotypenumbers": "strict",
          "coloraxis": {
           "colorbar": {
            "outlinewidth": 0,
            "ticks": ""
           }
          },
          "colorscale": {
           "diverging": [
            [
             0,
             "#8e0152"
            ],
            [
             0.1,
             "#c51b7d"
            ],
            [
             0.2,
             "#de77ae"
            ],
            [
             0.3,
             "#f1b6da"
            ],
            [
             0.4,
             "#fde0ef"
            ],
            [
             0.5,
             "#f7f7f7"
            ],
            [
             0.6,
             "#e6f5d0"
            ],
            [
             0.7,
             "#b8e186"
            ],
            [
             0.8,
             "#7fbc41"
            ],
            [
             0.9,
             "#4d9221"
            ],
            [
             1,
             "#276419"
            ]
           ],
           "sequential": [
            [
             0,
             "#0d0887"
            ],
            [
             0.1111111111111111,
             "#46039f"
            ],
            [
             0.2222222222222222,
             "#7201a8"
            ],
            [
             0.3333333333333333,
             "#9c179e"
            ],
            [
             0.4444444444444444,
             "#bd3786"
            ],
            [
             0.5555555555555556,
             "#d8576b"
            ],
            [
             0.6666666666666666,
             "#ed7953"
            ],
            [
             0.7777777777777778,
             "#fb9f3a"
            ],
            [
             0.8888888888888888,
             "#fdca26"
            ],
            [
             1,
             "#f0f921"
            ]
           ],
           "sequentialminus": [
            [
             0,
             "#0d0887"
            ],
            [
             0.1111111111111111,
             "#46039f"
            ],
            [
             0.2222222222222222,
             "#7201a8"
            ],
            [
             0.3333333333333333,
             "#9c179e"
            ],
            [
             0.4444444444444444,
             "#bd3786"
            ],
            [
             0.5555555555555556,
             "#d8576b"
            ],
            [
             0.6666666666666666,
             "#ed7953"
            ],
            [
             0.7777777777777778,
             "#fb9f3a"
            ],
            [
             0.8888888888888888,
             "#fdca26"
            ],
            [
             1,
             "#f0f921"
            ]
           ]
          },
          "colorway": [
           "#636efa",
           "#EF553B",
           "#00cc96",
           "#ab63fa",
           "#FFA15A",
           "#19d3f3",
           "#FF6692",
           "#B6E880",
           "#FF97FF",
           "#FECB52"
          ],
          "font": {
           "color": "#2a3f5f"
          },
          "geo": {
           "bgcolor": "white",
           "lakecolor": "white",
           "landcolor": "#E5ECF6",
           "showlakes": true,
           "showland": true,
           "subunitcolor": "white"
          },
          "hoverlabel": {
           "align": "left"
          },
          "hovermode": "closest",
          "mapbox": {
           "style": "light"
          },
          "paper_bgcolor": "white",
          "plot_bgcolor": "#E5ECF6",
          "polar": {
           "angularaxis": {
            "gridcolor": "white",
            "linecolor": "white",
            "ticks": ""
           },
           "bgcolor": "#E5ECF6",
           "radialaxis": {
            "gridcolor": "white",
            "linecolor": "white",
            "ticks": ""
           }
          },
          "scene": {
           "xaxis": {
            "backgroundcolor": "#E5ECF6",
            "gridcolor": "white",
            "gridwidth": 2,
            "linecolor": "white",
            "showbackground": true,
            "ticks": "",
            "zerolinecolor": "white"
           },
           "yaxis": {
            "backgroundcolor": "#E5ECF6",
            "gridcolor": "white",
            "gridwidth": 2,
            "linecolor": "white",
            "showbackground": true,
            "ticks": "",
            "zerolinecolor": "white"
           },
           "zaxis": {
            "backgroundcolor": "#E5ECF6",
            "gridcolor": "white",
            "gridwidth": 2,
            "linecolor": "white",
            "showbackground": true,
            "ticks": "",
            "zerolinecolor": "white"
           }
          },
          "shapedefaults": {
           "line": {
            "color": "#2a3f5f"
           }
          },
          "ternary": {
           "aaxis": {
            "gridcolor": "white",
            "linecolor": "white",
            "ticks": ""
           },
           "baxis": {
            "gridcolor": "white",
            "linecolor": "white",
            "ticks": ""
           },
           "bgcolor": "#E5ECF6",
           "caxis": {
            "gridcolor": "white",
            "linecolor": "white",
            "ticks": ""
           }
          },
          "title": {
           "x": 0.05
          },
          "xaxis": {
           "automargin": true,
           "gridcolor": "white",
           "linecolor": "white",
           "ticks": "",
           "title": {
            "standoff": 15
           },
           "zerolinecolor": "white",
           "zerolinewidth": 2
          },
          "yaxis": {
           "automargin": true,
           "gridcolor": "white",
           "linecolor": "white",
           "ticks": "",
           "title": {
            "standoff": 15
           },
           "zerolinecolor": "white",
           "zerolinewidth": 2
          }
         }
        },
        "title": {
         "text": "Распределение возрастов"
        },
        "xaxis": {
         "title": {
          "text": "Возраст"
         }
        },
        "yaxis": {
         "title": {
          "text": "Количество соискателей"
         }
        }
       }
      }
     },
     "metadata": {},
     "output_type": "display_data"
    }
   ],
   "source": [
    "df = resume_data[\"age\"].groupby(resume_data[\"age\"]).count()\n",
    "median = resume_data[\"age\"].median()\n",
    "moda = resume_data[\"age\"].mode()\n",
    "mean = resume_data[\"age\"].mean()\n",
    "print(median, moda[0], mean)\n",
    "\n",
    "fig = go.Figure(layout=dict(barcornerradius=7,))\n",
    "quartiles = resume_data[\"age\"].quantile([0.25, 0.5, 0.75])\n",
    "fig.add_trace(go.Bar(name=\"Возраст\", x=df.index, y=df.values))\n",
    "fig.add_vline(name=\"Медиана\", legendrank=1, showlegend=True, x=median, line_color=\"red\")\n",
    "fig.add_vline(name=\"Мода\", legendrank=1, showlegend=True,x=moda[0], line_color=\"purple\")\n",
    "fig.add_vline(name=\"Среднее значение\", legendrank=1, showlegend=True,x=mean, line_color=\"orange\")\n",
    "\n",
    "fig.add_vline(name=\"Q1\", legendrank=1, showlegend=True,x=quartiles[0.25], line_dash=\"dash\", line_color=\"black\", annotation_text=\"Q1\")\n",
    "fig.add_vline(name=\"Q2\", legendrank=1, showlegend=True,x=quartiles[0.5], line_dash=\"dash\", line_color=\"black\", annotation_text=\"Q2\")\n",
    "fig.add_vline(name=\"Q3\", legendrank=1, showlegend=True,x=quartiles[0.75], line_dash=\"dash\", line_color=\"black\", annotation_text=\"Q3\")\n",
    "\n",
    "fig.update_layout(\n",
    "    title_text=\"Распределение возрастов\",\n",
    "    xaxis_title=\"Возраст\",\n",
    "    yaxis_title=\"Количество соискателей\",\n",
    "    annotations=[\n",
    "        dict(\n",
    "            xref=\"paper\",\n",
    "            yref=\"paper\",\n",
    "            x=.2,\n",
    "            y=-.2,\n",
    "            showarrow=False,\n",
    "            text=f\"\"\"\n",
    "      Медиана: {int(median*100)/100}\n",
    "      Мода: {moda[0]}\n",
    "      Среднее значение: {int(mean*100)/100}\n",
    "      \"\"\",\n",
    "            font=dict(size=16, color=\"grey\"),\n",
    "        )\n",
    "    ])\n",
    "fig.show()"
   ]
  },
  {
   "cell_type": "code",
   "execution_count": 81,
   "metadata": {},
   "outputs": [
    {
     "data": {
      "text/plain": [
       "np.int64(1945)"
      ]
     },
     "execution_count": 81,
     "metadata": {},
     "output_type": "execute_result"
    }
   ],
   "source": [
    "resume_data[\"age\"][resume_data[\"age\"].between(31,41)].count()"
   ]
  },
  {
   "cell_type": "markdown",
   "metadata": {},
   "source": [
    "Резюме:\n",
    "Аномалии, которые мы подозревали ранее отсутствуют.\n",
    "Видим, что 2 и 3 квартили состоят из людей от 31 до 41 года (1945 человек).\n",
    "Данные начиная с 55 лет малочисленны"
   ]
  },
  {
   "cell_type": "markdown",
   "metadata": {},
   "source": [
    "В столце gender присутствуеют слова на 2 языках. Переведем с английского на русский."
   ]
  },
  {
   "cell_type": "code",
   "execution_count": 82,
   "metadata": {},
   "outputs": [
    {
     "data": {
      "text/plain": [
       "array(['Мужчина', 'Женщина', 'Пол не указан'], dtype=object)"
      ]
     },
     "execution_count": 82,
     "metadata": {},
     "output_type": "execute_result"
    }
   ],
   "source": [
    "resume_data[\"gender\"] = [i.replace(\"Female\", \"Женщина\") for i in resume_data[\"gender\"]]\n",
    "resume_data[\"gender\"] = [i.replace(\"Male\", \"Мужчина\") for i in resume_data[\"gender\"]]\n",
    "resume_data[\"gender\"].unique()"
   ]
  },
  {
   "cell_type": "markdown",
   "metadata": {},
   "source": [
    "#### Resume_data. Создаем currency"
   ]
  },
  {
   "cell_type": "code",
   "execution_count": 83,
   "metadata": {},
   "outputs": [
    {
     "data": {
      "text/html": [
       "<div>\n",
       "<style scoped>\n",
       "    .dataframe tbody tr th:only-of-type {\n",
       "        vertical-align: middle;\n",
       "    }\n",
       "\n",
       "    .dataframe tbody tr th {\n",
       "        vertical-align: top;\n",
       "    }\n",
       "\n",
       "    .dataframe thead th {\n",
       "        text-align: right;\n",
       "    }\n",
       "</style>\n",
       "<table border=\"1\" class=\"dataframe\">\n",
       "  <thead>\n",
       "    <tr style=\"text-align: right;\">\n",
       "      <th></th>\n",
       "      <th>index</th>\n",
       "      <th>title</th>\n",
       "      <th>salary</th>\n",
       "      <th>experience</th>\n",
       "      <th>gender</th>\n",
       "      <th>age</th>\n",
       "      <th>city</th>\n",
       "      <th>tags_list</th>\n",
       "      <th>tags_list_len</th>\n",
       "      <th>skills-content</th>\n",
       "      <th>language</th>\n",
       "      <th>work_text</th>\n",
       "      <th>specialization</th>\n",
       "      <th>currency</th>\n",
       "    </tr>\n",
       "  </thead>\n",
       "  <tbody>\n",
       "    <tr>\n",
       "      <th>362</th>\n",
       "      <td>362</td>\n",
       "      <td>Директор по маркетингу</td>\n",
       "      <td>220 000 руб.</td>\n",
       "      <td>Опыт работы 18 лет 10 месяцев</td>\n",
       "      <td>Женщина</td>\n",
       "      <td>40</td>\n",
       "      <td>Москва</td>\n",
       "      <td>['Ответственность', 'Клиентоориентированность'...</td>\n",
       "      <td>27</td>\n",
       "      <td>Есть опыт управления распределенной командой (...</td>\n",
       "      <td>['Русский — Родной', 'Английский — B1 — Средний']</td>\n",
       "      <td>Медиагруппа «Актион-МЦФЭР»\\nМосква, action-med...</td>\n",
       "      <td>Специализации:\\nРуководитель отдела маркетинга...</td>\n",
       "      <td>RUB</td>\n",
       "    </tr>\n",
       "  </tbody>\n",
       "</table>\n",
       "</div>"
      ],
      "text/plain": [
       "     index                   title        salary  \\\n",
       "362    362  Директор по маркетингу  220 000 руб.   \n",
       "\n",
       "                        experience   gender  age    city  \\\n",
       "362  Опыт работы 18 лет 10 месяцев  Женщина   40  Москва   \n",
       "\n",
       "                                             tags_list  tags_list_len  \\\n",
       "362  ['Ответственность', 'Клиентоориентированность'...             27   \n",
       "\n",
       "                                        skills-content  \\\n",
       "362  Есть опыт управления распределенной командой (...   \n",
       "\n",
       "                                              language  \\\n",
       "362  ['Русский — Родной', 'Английский — B1 — Средний']   \n",
       "\n",
       "                                             work_text  \\\n",
       "362  Медиагруппа «Актион-МЦФЭР»\\nМосква, action-med...   \n",
       "\n",
       "                                        specialization currency  \n",
       "362  Специализации:\\nРуководитель отдела маркетинга...      RUB  "
      ]
     },
     "execution_count": 83,
     "metadata": {},
     "output_type": "execute_result"
    }
   ],
   "source": [
    "curr = []\n",
    "for i in resume_data[\"salary\"]:\n",
    "    temp = re.findall(r'руб|USD|EUR|RUB|KZT', i)\n",
    "    curr.append(temp[0])\n",
    "resume_data[\"currency\"] = curr\n",
    "resume_data[\"currency\"] = [i.replace(\"руб\", \"RUB\") for i in resume_data[\"currency\"]]\n",
    "resume_data.sample()"
   ]
  },
  {
   "cell_type": "markdown",
   "metadata": {},
   "source": [
    "#### Resume_data. Переопределим salary "
   ]
  },
  {
   "cell_type": "code",
   "execution_count": 84,
   "metadata": {},
   "outputs": [],
   "source": [
    "resume_data[\"salary\"] = [int(i.replace('\\u2009', '').split()[0]) for i in resume_data[\"salary\"] ]"
   ]
  },
  {
   "cell_type": "code",
   "execution_count": 85,
   "metadata": {},
   "outputs": [
    {
     "data": {
      "text/html": [
       "<div>\n",
       "<style scoped>\n",
       "    .dataframe tbody tr th:only-of-type {\n",
       "        vertical-align: middle;\n",
       "    }\n",
       "\n",
       "    .dataframe tbody tr th {\n",
       "        vertical-align: top;\n",
       "    }\n",
       "\n",
       "    .dataframe thead th {\n",
       "        text-align: right;\n",
       "    }\n",
       "</style>\n",
       "<table border=\"1\" class=\"dataframe\">\n",
       "  <thead>\n",
       "    <tr style=\"text-align: right;\">\n",
       "      <th></th>\n",
       "      <th>index</th>\n",
       "      <th>title</th>\n",
       "      <th>salary</th>\n",
       "      <th>experience</th>\n",
       "      <th>gender</th>\n",
       "      <th>age</th>\n",
       "      <th>city</th>\n",
       "      <th>tags_list</th>\n",
       "      <th>tags_list_len</th>\n",
       "      <th>skills-content</th>\n",
       "      <th>language</th>\n",
       "      <th>work_text</th>\n",
       "      <th>specialization</th>\n",
       "      <th>currency</th>\n",
       "    </tr>\n",
       "  </thead>\n",
       "  <tbody>\n",
       "    <tr>\n",
       "      <th>2643</th>\n",
       "      <td>2643</td>\n",
       "      <td>Руководитель отдела рекламы и PR</td>\n",
       "      <td>100000000</td>\n",
       "      <td>Обо мне</td>\n",
       "      <td>Женщина</td>\n",
       "      <td>21</td>\n",
       "      <td>Москва</td>\n",
       "      <td>[]</td>\n",
       "      <td>0</td>\n",
       "      <td>В последнее время нахожусь в поисках работы.\\nУ</td>\n",
       "      <td>['Русский — Родной', 'Английский — C1 — Продви...</td>\n",
       "      <td>NaN</td>\n",
       "      <td>Специализации:\\nРуководитель отдела маркетинга...</td>\n",
       "      <td>RUB</td>\n",
       "    </tr>\n",
       "    <tr>\n",
       "      <th>3041</th>\n",
       "      <td>3041</td>\n",
       "      <td>Инвестор в интернет-магазин женских аксессуаро...</td>\n",
       "      <td>30000000</td>\n",
       "      <td>Опыт работы 16 лет 10 месяцев</td>\n",
       "      <td>Женщина</td>\n",
       "      <td>39</td>\n",
       "      <td>Москва</td>\n",
       "      <td>['Управленческий учет', 'Бюджетирование', 'Опт...</td>\n",
       "      <td>17</td>\n",
       "      <td>Семейное положение: не замужем, детей нет\\n\\nХ...</td>\n",
       "      <td>['Русский — Родной', 'Английский — C1 — Продви...</td>\n",
       "      <td>Sorrisi\\nМосква, www.sorrisimilano.com\\nРуково...</td>\n",
       "      <td>Специализации:\\nДиректор по информационным тех...</td>\n",
       "      <td>RUB</td>\n",
       "    </tr>\n",
       "  </tbody>\n",
       "</table>\n",
       "</div>"
      ],
      "text/plain": [
       "      index                                              title     salary  \\\n",
       "2643   2643                   Руководитель отдела рекламы и PR  100000000   \n",
       "3041   3041  Инвестор в интернет-магазин женских аксессуаро...   30000000   \n",
       "\n",
       "                         experience   gender  age    city  \\\n",
       "2643                        Обо мне  Женщина   21  Москва   \n",
       "3041  Опыт работы 16 лет 10 месяцев  Женщина   39  Москва   \n",
       "\n",
       "                                              tags_list  tags_list_len  \\\n",
       "2643                                                 []              0   \n",
       "3041  ['Управленческий учет', 'Бюджетирование', 'Опт...             17   \n",
       "\n",
       "                                         skills-content  \\\n",
       "2643    В последнее время нахожусь в поисках работы.\\nУ   \n",
       "3041  Семейное положение: не замужем, детей нет\\n\\nХ...   \n",
       "\n",
       "                                               language  \\\n",
       "2643  ['Русский — Родной', 'Английский — C1 — Продви...   \n",
       "3041  ['Русский — Родной', 'Английский — C1 — Продви...   \n",
       "\n",
       "                                              work_text  \\\n",
       "2643                                                NaN   \n",
       "3041  Sorrisi\\nМосква, www.sorrisimilano.com\\nРуково...   \n",
       "\n",
       "                                         specialization currency  \n",
       "2643  Специализации:\\nРуководитель отдела маркетинга...      RUB  \n",
       "3041  Специализации:\\nДиректор по информационным тех...      RUB  "
      ]
     },
     "execution_count": 85,
     "metadata": {},
     "output_type": "execute_result"
    }
   ],
   "source": [
    "resume_data.loc[resume_data[\"salary\"] > 10_000_000]"
   ]
  },
  {
   "cell_type": "code",
   "execution_count": 86,
   "metadata": {},
   "outputs": [
    {
     "data": {
      "text/plain": [
       "count    3.079000e+03\n",
       "mean     2.962682e+05\n",
       "std      1.885941e+06\n",
       "min      8.000000e+04\n",
       "25%      1.200000e+05\n",
       "50%      1.800000e+05\n",
       "75%      3.500000e+05\n",
       "max      1.000000e+08\n",
       "Name: salary, dtype: float64"
      ]
     },
     "execution_count": 86,
     "metadata": {},
     "output_type": "execute_result"
    }
   ],
   "source": [
    "df = resume_data[resume_data[\"currency\"]==\"RUB\"]\n",
    "df = df.loc[df[\"salary\"] > 0]\n",
    "df[\"salary\"].describe()"
   ]
  },
  {
   "cell_type": "markdown",
   "metadata": {},
   "source": [
    "Видим вакансии с зарплатами около 100 млн. рублей без опыта и навыков🤡\n",
    "Смело удаляем такие вакансии из resume_data"
   ]
  },
  {
   "cell_type": "code",
   "execution_count": 87,
   "metadata": {},
   "outputs": [],
   "source": [
    "resume_data = resume_data.loc[resume_data[\"salary\"] <= 5_000_000]"
   ]
  },
  {
   "cell_type": "markdown",
   "metadata": {},
   "source": [
    "Для удобства работы с experience, переведем года и месяцы опыта работы в число месяцев работы"
   ]
  },
  {
   "cell_type": "code",
   "execution_count": 88,
   "metadata": {},
   "outputs": [
    {
     "data": {
      "text/html": [
       "<div>\n",
       "<style scoped>\n",
       "    .dataframe tbody tr th:only-of-type {\n",
       "        vertical-align: middle;\n",
       "    }\n",
       "\n",
       "    .dataframe tbody tr th {\n",
       "        vertical-align: top;\n",
       "    }\n",
       "\n",
       "    .dataframe thead th {\n",
       "        text-align: right;\n",
       "    }\n",
       "</style>\n",
       "<table border=\"1\" class=\"dataframe\">\n",
       "  <thead>\n",
       "    <tr style=\"text-align: right;\">\n",
       "      <th></th>\n",
       "      <th>index</th>\n",
       "      <th>title</th>\n",
       "      <th>salary</th>\n",
       "      <th>experience</th>\n",
       "      <th>gender</th>\n",
       "      <th>age</th>\n",
       "      <th>city</th>\n",
       "      <th>tags_list</th>\n",
       "      <th>tags_list_len</th>\n",
       "      <th>skills-content</th>\n",
       "      <th>language</th>\n",
       "      <th>work_text</th>\n",
       "      <th>specialization</th>\n",
       "      <th>currency</th>\n",
       "    </tr>\n",
       "  </thead>\n",
       "  <tbody>\n",
       "    <tr>\n",
       "      <th>1763</th>\n",
       "      <td>1763</td>\n",
       "      <td>Директор по маркетингу</td>\n",
       "      <td>500000</td>\n",
       "      <td>293</td>\n",
       "      <td>Женщина</td>\n",
       "      <td>45</td>\n",
       "      <td>Москва</td>\n",
       "      <td>['Системность', 'Лидерство', 'Стратегический м...</td>\n",
       "      <td>5</td>\n",
       "      <td>Лидер для своей команды, способный увидеть цел...</td>\n",
       "      <td>['Русский — Родной', 'Английский — C1 — Продви...</td>\n",
       "      <td>АО «Негосударственный Пенсионный Фонд «Открыти...</td>\n",
       "      <td>Специализации:\\nРуководитель отдела маркетинга...</td>\n",
       "      <td>RUB</td>\n",
       "    </tr>\n",
       "  </tbody>\n",
       "</table>\n",
       "</div>"
      ],
      "text/plain": [
       "      index                   title  salary  experience   gender  age    city  \\\n",
       "1763   1763  Директор по маркетингу  500000         293  Женщина   45  Москва   \n",
       "\n",
       "                                              tags_list  tags_list_len  \\\n",
       "1763  ['Системность', 'Лидерство', 'Стратегический м...              5   \n",
       "\n",
       "                                         skills-content  \\\n",
       "1763  Лидер для своей команды, способный увидеть цел...   \n",
       "\n",
       "                                               language  \\\n",
       "1763  ['Русский — Родной', 'Английский — C1 — Продви...   \n",
       "\n",
       "                                              work_text  \\\n",
       "1763  АО «Негосударственный Пенсионный Фонд «Открыти...   \n",
       "\n",
       "                                         specialization currency  \n",
       "1763  Специализации:\\nРуководитель отдела маркетинга...      RUB  "
      ]
     },
     "execution_count": 88,
     "metadata": {},
     "output_type": "execute_result"
    }
   ],
   "source": [
    "curr = []\n",
    "for i in resume_data[\"experience\"]:\n",
    "    temp= re.findall(r'\\d+', i)\n",
    "    temp = [int(i) for i in temp]\n",
    "    if temp == []:\n",
    "        temp.append(0)\n",
    "    temp[0] *= 12\n",
    "    curr.append(sum(temp))\n",
    "resume_data[\"experience\"] = curr\n",
    "resume_data.sample()"
   ]
  },
  {
   "cell_type": "markdown",
   "metadata": {},
   "source": [
    "В столбце language указывается список языков, разделенных запятыми, но в строковом формате. Исправим это"
   ]
  },
  {
   "cell_type": "code",
   "execution_count": 89,
   "metadata": {},
   "outputs": [
    {
     "data": {
      "text/html": [
       "<div>\n",
       "<style scoped>\n",
       "    .dataframe tbody tr th:only-of-type {\n",
       "        vertical-align: middle;\n",
       "    }\n",
       "\n",
       "    .dataframe tbody tr th {\n",
       "        vertical-align: top;\n",
       "    }\n",
       "\n",
       "    .dataframe thead th {\n",
       "        text-align: right;\n",
       "    }\n",
       "</style>\n",
       "<table border=\"1\" class=\"dataframe\">\n",
       "  <thead>\n",
       "    <tr style=\"text-align: right;\">\n",
       "      <th></th>\n",
       "      <th>index</th>\n",
       "      <th>title</th>\n",
       "      <th>salary</th>\n",
       "      <th>experience</th>\n",
       "      <th>gender</th>\n",
       "      <th>age</th>\n",
       "      <th>city</th>\n",
       "      <th>tags_list</th>\n",
       "      <th>tags_list_len</th>\n",
       "      <th>skills-content</th>\n",
       "      <th>language</th>\n",
       "      <th>work_text</th>\n",
       "      <th>specialization</th>\n",
       "      <th>currency</th>\n",
       "    </tr>\n",
       "  </thead>\n",
       "  <tbody>\n",
       "    <tr>\n",
       "      <th>2660</th>\n",
       "      <td>2660</td>\n",
       "      <td>Владелец продукта / Product owner</td>\n",
       "      <td>400000</td>\n",
       "      <td>149</td>\n",
       "      <td>Женщина</td>\n",
       "      <td>34</td>\n",
       "      <td>Москва</td>\n",
       "      <td>[Launching new products, Product Promotion, За...</td>\n",
       "      <td>16</td>\n",
       "      <td>Ориентированный на результат креативный экспер...</td>\n",
       "      <td>[Русский — Родной, Английский — C1 — Продвинутый]</td>\n",
       "      <td>Сбер\\nrabota.sber.ru/\\nФинансовый сектор... По...</td>\n",
       "      <td>Специализации:\\nМенеджер продукта\\nРуководител...</td>\n",
       "      <td>RUB</td>\n",
       "    </tr>\n",
       "  </tbody>\n",
       "</table>\n",
       "</div>"
      ],
      "text/plain": [
       "      index                              title  salary  experience   gender  \\\n",
       "2660   2660  Владелец продукта / Product owner  400000         149  Женщина   \n",
       "\n",
       "      age    city                                          tags_list  \\\n",
       "2660   34  Москва  [Launching new products, Product Promotion, За...   \n",
       "\n",
       "      tags_list_len                                     skills-content  \\\n",
       "2660             16  Ориентированный на результат креативный экспер...   \n",
       "\n",
       "                                               language  \\\n",
       "2660  [Русский — Родной, Английский — C1 — Продвинутый]   \n",
       "\n",
       "                                              work_text  \\\n",
       "2660  Сбер\\nrabota.sber.ru/\\nФинансовый сектор... По...   \n",
       "\n",
       "                                         specialization currency  \n",
       "2660  Специализации:\\nМенеджер продукта\\nРуководител...      RUB  "
      ]
     },
     "execution_count": 89,
     "metadata": {},
     "output_type": "execute_result"
    }
   ],
   "source": [
    "def str_to_list(str_repr):\n",
    "  if str_repr == \" \":\n",
    "    return []\n",
    "  else:\n",
    "    return [s.strip().strip(\"'\") for s in str_repr[1:-1].split(\",\")]\n",
    "resume_data[\"tags_list\"] = [str_to_list(i) for i in resume_data[\"tags_list\"]]\n",
    "resume_data[\"language\"] = [str_to_list(i) for i in resume_data[\"language\"]]\n",
    "resume_data.sample()"
   ]
  },
  {
   "cell_type": "markdown",
   "metadata": {},
   "source": [
    "# Вывод"
   ]
  },
  {
   "cell_type": "markdown",
   "metadata": {},
   "source": [
    "Переименовал столбцы в привычные для меня наименования. Большинство вакансий актуальны для Москвы, видим, что есть много пропусков в adress и city, предположим, что вакансии предполагают удаленку или находятся вне Москвы. В этих же столбцах есть дубликаты. Найдены аномальные данные, предполагаю, что некоторые вакансии и резюме фейковые.\n",
    "\n",
    "Кратко:\n",
    "* Переформатировал и разделил данные для удобной работы\n",
    "* Найдены и удалены аномальные данные *(н-р люди с зарплатой ~10M руб. и 1-3 летним опытом)*\n",
    "* Заполнил пропуски\n",
    "* Рассмотрели нормальное распределение возрастов"
   ]
  },
  {
   "cell_type": "markdown",
   "metadata": {},
   "source": [
    "# Анализируем данные"
   ]
  },
  {
   "cell_type": "markdown",
   "metadata": {},
   "source": [
    "### Data. Какие требования и условия у работадателей?🧐\n",
    "\n",
    "(1) Рассморим первое, что приходит в голову, злосчастный \"Опыт работы\". Ну и конечно нам интересна зарплатная вилка компаний"
   ]
  },
  {
   "cell_type": "code",
   "execution_count": 90,
   "metadata": {},
   "outputs": [
    {
     "data": {
      "application/vnd.plotly.v1+json": {
       "config": {
        "plotlyServerURL": "https://plot.ly"
       },
       "data": [
        {
         "hovertemplate": "experience=1–3 года<br>from=%{x}<br>upto=%{y}<extra></extra>",
         "legendgroup": "1–3 года",
         "marker": {
          "color": "#636efa",
          "symbol": "circle"
         },
         "mode": "markers",
         "name": "1–3 года",
         "showlegend": true,
         "type": "scattergl",
         "x": [
          120000,
          60000,
          100000,
          80000,
          200000,
          120000,
          150000,
          160000,
          200000,
          70000,
          80000,
          150000,
          100000,
          150000,
          300000,
          170000,
          80000,
          200000,
          50000,
          150000,
          70000,
          100000,
          80000,
          50000,
          150000,
          100000,
          100000,
          100000,
          200000,
          50000,
          100000,
          100000,
          90000,
          90000,
          100000,
          100000,
          100000,
          100000,
          150000,
          150000,
          90000,
          87000,
          100000,
          120000,
          75000,
          100000,
          70000,
          100000,
          50000,
          120000,
          120000,
          20000,
          150000,
          120000,
          70000,
          120000,
          80000,
          50000,
          75000,
          80000,
          100000,
          100000,
          80000,
          50000,
          25000,
          70000,
          100000,
          100000,
          150000,
          80000,
          150000,
          120000,
          80000,
          60000,
          70000,
          40000,
          100000,
          65000,
          100000,
          250000,
          150000,
          50000,
          70000,
          200000,
          70000,
          60000,
          130000,
          120000,
          50000,
          50000,
          150000,
          115000,
          80000,
          70000,
          100000,
          70000,
          60000,
          150000,
          70000,
          50000,
          70000,
          100000,
          70000,
          70000,
          22000,
          90000,
          80000,
          80000,
          90000,
          80000,
          60000,
          50000,
          15000,
          25000,
          150000,
          100000,
          70000,
          100000,
          80000,
          200000,
          150000,
          87000,
          80000,
          40000,
          150000,
          75000,
          50000,
          90000,
          50000,
          80000,
          150000,
          80000,
          150000,
          55000,
          150000,
          100000,
          70000,
          120000,
          130000,
          100000,
          64000,
          70000,
          40000,
          100000,
          115500,
          100000,
          60000,
          150000,
          95000,
          40000,
          100000,
          80000,
          120000,
          160000,
          200000,
          60000,
          100000,
          100000,
          80000,
          150000,
          90000,
          90000,
          120000,
          50000,
          100000,
          70000,
          50000,
          50000,
          100000,
          70000,
          60000,
          80000,
          50000,
          100000,
          300000,
          60000,
          150000,
          70000,
          135000,
          75000,
          50000,
          120000,
          80000,
          50000,
          150000,
          120000,
          100000,
          55000,
          45000,
          30000,
          90000,
          160000,
          70000,
          60000,
          80000,
          80000,
          80000,
          40000,
          80000,
          55000,
          100000,
          50000,
          60000,
          100000,
          150000,
          60000,
          40000,
          70000,
          80000,
          120000,
          40000,
          40000,
          300000,
          100000,
          60000,
          60000,
          40000,
          80000,
          50000,
          80000,
          90000,
          80000,
          140000,
          100000,
          100000,
          90000,
          40000,
          60000,
          250000,
          70000,
          50000,
          35000,
          70000,
          30000,
          70000,
          90000,
          40000,
          155000,
          40000,
          150000,
          25000,
          100000,
          80000,
          50000,
          70000,
          40000,
          70000,
          100000,
          70000,
          65000,
          80000,
          70000,
          50000,
          80460,
          100000,
          300000,
          60000,
          150000,
          40000,
          30000,
          100000,
          70000,
          80000,
          120000,
          80000,
          80000,
          70000,
          60000,
          65000,
          80000,
          100000,
          60000,
          60000,
          35000,
          20000,
          70000,
          60000,
          40000,
          50000,
          200000,
          50000,
          75000,
          50000,
          90000,
          120000,
          200000,
          50000,
          100000,
          50000,
          60000,
          140000,
          50000,
          90000,
          100000,
          80000,
          40000,
          90000,
          30000,
          150000,
          85000,
          115000,
          70000,
          90000,
          50000,
          70000,
          70000,
          140000,
          300000,
          80000,
          140000,
          70000,
          60000,
          30000,
          70000,
          40000,
          77000,
          50000,
          45000,
          149000,
          90000,
          45000,
          80000,
          80000,
          69000,
          70000,
          50000,
          50000,
          80000,
          60000,
          70000,
          70000,
          55000,
          150000,
          60000,
          100000,
          150000,
          50000,
          80000,
          70000,
          40000,
          120000,
          70000,
          65000,
          30000,
          60000,
          30000,
          50000,
          50000,
          50000,
          40000,
          100000,
          120000,
          100000,
          60000,
          80000,
          180000,
          50000,
          120000,
          50000,
          60000,
          100000,
          20000,
          80000,
          100000,
          60000,
          150000,
          100000,
          56000,
          50000,
          44500,
          40000,
          40000,
          120000,
          150000,
          70000,
          50000,
          20000,
          60000,
          45000,
          55000,
          50000,
          150000,
          80000,
          150000,
          80000,
          75000,
          90000,
          80000,
          50000,
          70000,
          80000,
          80000,
          80000,
          120000,
          120000,
          150000,
          100000,
          150000,
          50000,
          100000,
          40000,
          90000,
          70000,
          30000,
          60000,
          150000,
          100000,
          92000,
          45000,
          30000,
          100000,
          60000,
          50000,
          75000,
          65000,
          100000,
          80000,
          50000,
          200000,
          40000,
          150000,
          90000,
          60000,
          20000,
          50000,
          80000,
          50000,
          70000,
          60000,
          110000,
          60000,
          70000,
          120000,
          45000,
          60000,
          50000,
          30000,
          14000,
          20000,
          33000,
          80000,
          82000,
          250000,
          70000,
          40000,
          45000,
          45000,
          60000,
          60000,
          45000,
          200000,
          100000,
          40000,
          50000,
          100000,
          45000,
          60000,
          40000,
          55000,
          80000,
          80000,
          100000,
          110000,
          120000,
          40000,
          75000,
          100000,
          70000,
          80000,
          100000,
          200000,
          70000,
          90000,
          80000,
          80000,
          120000,
          80000,
          30000,
          60000,
          100000,
          60000,
          90000,
          100000,
          90000,
          70000,
          120000,
          200000,
          75000,
          100000,
          90000,
          200000,
          100000,
          150000,
          35000,
          52000,
          100000,
          92000,
          60000,
          40000,
          60000,
          50000,
          25000,
          90000,
          100000,
          60000,
          40000,
          60000,
          90000,
          30000,
          80000,
          100000,
          100000,
          50000,
          100000,
          60000,
          100000,
          65000,
          80000,
          80000,
          150000,
          100000,
          60000,
          200000,
          140000,
          60000,
          25000,
          15000,
          80000,
          100000,
          50000,
          40000,
          40000,
          150000,
          90000,
          60000,
          100000,
          120000,
          120000,
          121800,
          45000,
          50000,
          200000,
          60000,
          40000,
          100000,
          60000,
          90000,
          100000,
          45000,
          140000,
          30000,
          50000,
          30000,
          100000,
          130000,
          80000,
          80000,
          150000,
          65000,
          150000,
          180000,
          90000,
          140000,
          120000,
          71000,
          70000,
          200000,
          120000,
          45000,
          100000,
          50000,
          72000,
          100000,
          120000,
          70000,
          200000,
          55000,
          70000,
          100000,
          200000,
          40000,
          60000,
          60000,
          100000,
          60000,
          120000,
          50000,
          120000,
          30000,
          65000,
          150000,
          10000,
          55000,
          100000,
          47000,
          150000,
          140000,
          50000,
          140000,
          130000,
          100000,
          65000,
          70000,
          80000,
          60000,
          20000,
          15000,
          140000,
          60000,
          90000,
          70000,
          100000,
          0,
          50000,
          100000,
          66000,
          40000,
          80000,
          80000,
          50000,
          50000,
          60000,
          40000,
          30000,
          40000,
          80000,
          40000,
          50000,
          100000,
          60000,
          100000,
          80000,
          80000,
          150000,
          50000,
          70000,
          170000,
          80000,
          88600,
          300000,
          50000,
          75000,
          60000,
          150000,
          45000,
          110000,
          70000,
          100000,
          65000,
          80000,
          70000,
          15000,
          90000,
          100000,
          70000,
          70000,
          60000,
          150000,
          150000,
          32000,
          45000,
          70000,
          60000,
          60900,
          100000,
          100000,
          60000,
          75000,
          250000,
          100000,
          140000,
          105000,
          180000,
          60000,
          65000,
          50000,
          100000,
          85000,
          30000,
          150000,
          60000,
          100000,
          60000,
          69000,
          100000,
          40000,
          120000,
          80000,
          100000,
          90000,
          40000,
          15000,
          85000,
          75000,
          100000,
          300000,
          170000,
          60000,
          25000,
          100000,
          50000,
          120000,
          200000,
          99000,
          100000,
          70000,
          80000,
          40000,
          40000,
          90000,
          140000,
          30000,
          72000,
          100000,
          90000,
          70000,
          60000,
          80000,
          60000,
          250000,
          80000,
          60000,
          100000,
          250000,
          100000,
          80000,
          32000,
          80000,
          60000,
          60000,
          80000,
          130000,
          150000,
          90000,
          90000,
          30000,
          50000,
          100000,
          100000,
          60000,
          40000,
          100000,
          160000,
          60000,
          50000,
          50000,
          60000,
          70000,
          115000,
          105000,
          100000,
          50000,
          70000,
          60000,
          45000,
          70000,
          40000,
          80000,
          60000,
          50000,
          15000,
          75000,
          80000,
          80000,
          100000,
          300000,
          110000,
          200000,
          155000,
          50000,
          100000,
          100000,
          100000
         ],
         "xaxis": "x",
         "y": [
          0,
          120000,
          0,
          120000,
          0,
          0,
          0,
          200000,
          0,
          90000,
          150000,
          0,
          0,
          0,
          0,
          0,
          250000,
          0,
          140000,
          450000,
          0,
          250000,
          120000,
          150000,
          0,
          170000,
          150000,
          0,
          0,
          150000,
          140000,
          0,
          150000,
          130000,
          120000,
          120000,
          150000,
          200000,
          0,
          0,
          120000,
          0,
          150000,
          240000,
          100000,
          0,
          90000,
          150000,
          0,
          0,
          200000,
          0,
          200000,
          150000,
          0,
          0,
          0,
          80000,
          0,
          150000,
          0,
          120000,
          0,
          0,
          35000,
          0,
          0,
          0,
          200000,
          0,
          0,
          200000,
          0,
          90000,
          100000,
          0,
          0,
          100000,
          200000,
          0,
          300000,
          70000,
          90000,
          0,
          110000,
          75000,
          0,
          0,
          100000,
          150000,
          260000,
          0,
          0,
          100000,
          0,
          0,
          0,
          0,
          0,
          70000,
          0,
          0,
          100000,
          90000,
          40000,
          0,
          150000,
          90000,
          0,
          100000,
          90000,
          100000,
          150000,
          40000,
          0,
          0,
          110000,
          150000,
          150000,
          0,
          0,
          186000,
          120000,
          80000,
          180000,
          120000,
          140000,
          0,
          80000,
          120000,
          0,
          0,
          0,
          0,
          0,
          0,
          0,
          200000,
          150000,
          200000,
          0,
          80000,
          80000,
          0,
          148500,
          200000,
          80000,
          0,
          0,
          60000,
          0,
          130000,
          200000,
          0,
          0,
          180000,
          150000,
          250000,
          0,
          0,
          250000,
          150000,
          150000,
          75000,
          150000,
          70000,
          80000,
          80000,
          150000,
          0,
          0,
          100000,
          0,
          120000,
          0,
          0,
          0,
          0,
          0,
          130000,
          150000,
          0,
          130000,
          0,
          0,
          0,
          0,
          65000,
          0,
          50000,
          0,
          250000,
          0,
          0,
          0,
          150000,
          0,
          0,
          120000,
          65000,
          150000,
          300000,
          90000,
          120000,
          0,
          100000,
          0,
          100000,
          0,
          0,
          100000,
          0,
          0,
          250000,
          150000,
          100000,
          100000,
          0,
          200000,
          200000,
          0,
          200000,
          0,
          0,
          120000,
          0,
          0,
          0,
          0,
          150000,
          150000,
          0,
          100000,
          50000,
          0,
          105000,
          60000,
          0,
          60000,
          250000,
          40000,
          0,
          150000,
          120000,
          0,
          60000,
          100000,
          0,
          80000,
          100000,
          0,
          100000,
          90000,
          91954,
          150000,
          0,
          100000,
          0,
          100000,
          40000,
          0,
          120000,
          90000,
          0,
          0,
          200000,
          150000,
          120000,
          0,
          0,
          0,
          87000,
          120000,
          0,
          50000,
          0,
          88000,
          0,
          200000,
          0,
          150000,
          120000,
          0,
          0,
          0,
          0,
          0,
          0,
          0,
          90000,
          0,
          90000,
          0,
          150000,
          0,
          90000,
          130000,
          40000,
          0,
          150000,
          0,
          0,
          0,
          0,
          0,
          0,
          0,
          1500,
          0,
          0,
          80000,
          0,
          35000,
          112000,
          100000,
          120000,
          100000,
          80000,
          0,
          240000,
          0,
          80000,
          0,
          92000,
          0,
          50000,
          0,
          0,
          150000,
          0,
          150000,
          120000,
          0,
          120000,
          0,
          180000,
          70000,
          0,
          0,
          60000,
          0,
          0,
          100000,
          120000,
          0,
          0,
          55000,
          58300,
          0,
          55000,
          180000,
          0,
          150000,
          0,
          180000,
          230000,
          80000,
          0,
          70000,
          100000,
          0,
          40000,
          80000,
          130000,
          0,
          0,
          150000,
          0,
          70000,
          115000,
          200000,
          60000,
          0,
          0,
          0,
          180000,
          60000,
          0,
          120000,
          80000,
          80000,
          0,
          0,
          0,
          150000,
          320000,
          100000,
          0,
          120000,
          0,
          150000,
          200000,
          100000,
          0,
          0,
          220000,
          150000,
          0,
          0,
          0,
          70000,
          170000,
          100000,
          45000,
          100000,
          0,
          0,
          92000,
          55000,
          0,
          200000,
          0,
          50000,
          75000,
          75000,
          300000,
          0,
          70000,
          0,
          50000,
          300000,
          0,
          0,
          45000,
          0,
          120000,
          80000,
          120000,
          100000,
          0,
          0,
          120000,
          400000,
          0,
          0,
          0,
          40000,
          20000,
          0,
          0,
          0,
          150000,
          0,
          0,
          80000,
          0,
          0,
          110000,
          110000,
          70000,
          0,
          150000,
          0,
          0,
          150000,
          70000,
          65000,
          0,
          0,
          120000,
          0,
          150000,
          130000,
          0,
          50000,
          0,
          0,
          0,
          0,
          0,
          0,
          0,
          0,
          0,
          100000,
          0,
          0,
          45000,
          100000,
          0,
          0,
          0,
          0,
          150000,
          100000,
          0,
          0,
          120000,
          0,
          0,
          0,
          0,
          0,
          45000,
          0,
          200000,
          0,
          80000,
          120000,
          120000,
          80000,
          100000,
          0,
          380000,
          60000,
          60000,
          0,
          120000,
          0,
          0,
          150000,
          0,
          100000,
          0,
          80000,
          120000,
          75000,
          0,
          120000,
          0,
          0,
          0,
          0,
          0,
          80000,
          40000,
          50000,
          100000,
          0,
          70000,
          100000,
          80000,
          300000,
          0,
          0,
          0,
          0,
          0,
          0,
          0,
          0,
          0,
          70000,
          150000,
          0,
          80000,
          0,
          0,
          0,
          150000,
          40000,
          100000,
          40000,
          150000,
          0,
          0,
          120000,
          0,
          80000,
          0,
          0,
          120000,
          200000,
          140000,
          122800,
          200000,
          0,
          0,
          50000,
          180000,
          0,
          0,
          0,
          0,
          150000,
          0,
          0,
          150000,
          200000,
          0,
          40000,
          70000,
          80000,
          200000,
          150000,
          0,
          55000,
          0,
          40000,
          72000,
          0,
          90000,
          0,
          0,
          0,
          0,
          0,
          90000,
          0,
          150000,
          0,
          0,
          120000,
          120000,
          0,
          40000,
          45000,
          200000,
          0,
          120000,
          0,
          0,
          0,
          70000,
          0,
          72000,
          70000,
          0,
          0,
          95000,
          80000,
          100000,
          60000,
          140000,
          80000,
          100000,
          80000,
          70000,
          250000,
          80000,
          0,
          170000,
          120000,
          0,
          0,
          160000,
          0,
          150000,
          88600,
          1500,
          120000,
          0,
          80000,
          250000,
          75000,
          200000,
          80000,
          0,
          0,
          0,
          150000,
          25000,
          0,
          300000,
          0,
          0,
          90000,
          0,
          0,
          64000,
          0,
          150000,
          120000,
          73080,
          0,
          120000,
          0,
          125000,
          0,
          150000,
          0,
          0,
          0,
          85000,
          0,
          60000,
          0,
          0,
          60000,
          0,
          100000,
          0,
          0,
          0,
          0,
          60000,
          180000,
          0,
          0,
          0,
          150000,
          30000,
          0,
          0,
          0,
          0,
          0,
          80000,
          40000,
          170000,
          0,
          0,
          300000,
          249000,
          0,
          0,
          120000,
          60000,
          0,
          0,
          0,
          70000,
          0,
          0,
          0,
          0,
          0,
          0,
          80000,
          0,
          0,
          90000,
          130000,
          0,
          0,
          0,
          64000,
          120000,
          120000,
          90000,
          0,
          0,
          0,
          110000,
          0,
          0,
          0,
          0,
          0,
          100000,
          90000,
          0,
          0,
          0,
          80000,
          90000,
          0,
          90000,
          0,
          105000,
          180000,
          100000,
          85000,
          0,
          0,
          100000,
          0,
          0,
          0,
          60000,
          20000,
          150000,
          100000,
          0,
          150000,
          0,
          0,
          0,
          0,
          200000,
          120000,
          250000,
          0
         ],
         "yaxis": "y"
        },
        {
         "hovertemplate": "experience=3–6 лет<br>from=%{x}<br>upto=%{y}<extra></extra>",
         "legendgroup": "3–6 лет",
         "marker": {
          "color": "#EF553B",
          "symbol": "circle"
         },
         "mode": "markers",
         "name": "3–6 лет",
         "showlegend": true,
         "type": "scattergl",
         "x": [
          200000,
          300000,
          153000,
          140000,
          100000,
          100000,
          150000,
          150000,
          200000,
          170000,
          150000,
          150000,
          120000,
          200000,
          150000,
          100000,
          150000,
          100000,
          100000,
          130000,
          250000,
          250000,
          120000,
          250000,
          120000,
          120000,
          100000,
          130000,
          150000,
          120000,
          150000,
          100000,
          150000,
          150000,
          200000,
          150000,
          150000,
          150000,
          300000,
          200000,
          100000,
          100000,
          150000,
          130000,
          120000,
          150000,
          150000,
          80000,
          150000,
          100000,
          120000,
          150000,
          80000,
          200000,
          100000,
          150000,
          100000,
          85000,
          100000,
          150000,
          100000,
          150000,
          130000,
          130000,
          120000,
          100000,
          80000,
          80000,
          90000,
          80000,
          200000,
          65000,
          250000,
          70000,
          100000,
          100000,
          200000,
          35000,
          100000,
          50000,
          120000,
          100000,
          250000,
          150000,
          150000,
          80000,
          20000,
          100000,
          120000,
          300000,
          200000,
          200000,
          420000,
          150000,
          120000,
          300000,
          80000,
          190000,
          300000,
          150000,
          250000,
          180000,
          250000,
          90000,
          60000,
          100000,
          80000,
          150000,
          100000,
          100000,
          150000,
          250000,
          70000,
          100000,
          70000,
          160000,
          100000,
          150000,
          80000,
          110000,
          200000,
          250000,
          260000,
          125000,
          120000,
          250000,
          250000,
          131000,
          130000,
          100000,
          150000,
          150000,
          180000,
          105000,
          120000,
          180000,
          60000,
          200000,
          100000,
          150000,
          150000,
          80000,
          125000,
          150000,
          150000,
          100000,
          150000,
          200000,
          80000,
          80000,
          100000,
          80000,
          70000,
          141000,
          80000,
          200000,
          90000,
          150000,
          100000,
          110000,
          150000,
          200000,
          250000,
          120000,
          80000,
          190000,
          100000,
          100000,
          120000,
          150000,
          150000,
          100000,
          100000,
          200000,
          100000,
          100000,
          100000,
          100000,
          200000,
          100000,
          80000,
          100000,
          80000,
          120000,
          90000,
          150000,
          120000,
          140000,
          200000,
          60000,
          150000,
          90000,
          120000,
          150000,
          110000,
          110000,
          130000,
          180000,
          120000,
          100000,
          400000,
          400000,
          210000,
          200000,
          200000,
          300000,
          150000,
          250000,
          110000,
          250000,
          240000,
          250000,
          250000,
          150000,
          100000,
          120000,
          100000,
          200000,
          150000,
          100000,
          100000,
          70000,
          200000,
          100000,
          180000,
          90000,
          80000,
          200000,
          150000,
          450000,
          150000,
          90000,
          250000,
          200000,
          150000,
          70000,
          90000,
          80000,
          170000,
          50000,
          200000,
          70000,
          130000,
          100000,
          120000,
          80000,
          90000,
          150000,
          95000,
          150000,
          180000,
          100000,
          140000,
          20000,
          60000,
          130000,
          185000,
          270000,
          90000,
          50000,
          120000,
          100000,
          120000,
          200000,
          300000,
          70000,
          70000,
          80000,
          80000,
          150000,
          120000,
          70000,
          50000,
          150000,
          150000,
          80000,
          100000,
          70000,
          65000,
          200000,
          140000,
          400000,
          150000,
          120000,
          250000,
          250000,
          60000,
          50000,
          90000,
          200000,
          100000,
          70000,
          150000,
          130000,
          150000,
          150000,
          300000,
          250000,
          100000,
          100000,
          100000,
          80000,
          80000,
          100000,
          150000,
          300000,
          80000,
          200000,
          150000,
          40000,
          150000,
          60000,
          120000,
          90000,
          80000,
          80000,
          130000,
          80000,
          40000,
          220000,
          50000,
          180000,
          100000,
          200000,
          70000,
          80000,
          100000,
          50000,
          90000,
          140000,
          250000,
          120000,
          90000,
          40000,
          100000,
          180000,
          100000,
          120000,
          80000,
          200000,
          70000,
          130000,
          90000,
          120000,
          200000,
          100000,
          60000,
          150000,
          150000,
          150000,
          45000,
          50000,
          120000,
          200000,
          150000,
          250000,
          120000,
          100000,
          100000,
          70000,
          150000,
          180000,
          80000,
          100000,
          120000,
          70000,
          80000,
          150000,
          90000,
          200000,
          100000,
          90000,
          80000,
          70000,
          100000,
          120000,
          150000,
          70000,
          120000,
          101000,
          150000,
          100000,
          150000,
          150000,
          100000,
          100000,
          150000,
          50000,
          180000,
          120000,
          150000,
          70000,
          120000,
          130000,
          150000,
          70000,
          200000,
          150000,
          100000,
          140000,
          150000,
          100000,
          90000,
          70000,
          80000,
          80000,
          100000,
          150000,
          70000,
          100000,
          80000,
          30000,
          120000,
          70000,
          220000,
          50000,
          100000,
          180000,
          150000,
          60000,
          150000,
          350000,
          60000,
          80000,
          80000,
          100000,
          200000,
          120000,
          100000,
          80000,
          150000,
          110000,
          100000,
          150000,
          150000,
          80000,
          150000,
          150000,
          150000,
          80000,
          150000,
          150000,
          150000,
          250000,
          150000,
          150000,
          100000,
          200000,
          200000,
          110000,
          200000,
          150000,
          140000,
          120000,
          120000,
          300000,
          170000,
          200000,
          190000,
          70000,
          200000,
          177000,
          350000,
          100000,
          80000,
          180000,
          90000,
          100000,
          60000,
          150000,
          100000,
          70000,
          70000,
          250000,
          120000,
          200000,
          150000,
          70000,
          180000,
          70000,
          120000,
          70000,
          80000,
          150000,
          300000,
          250000,
          50000,
          90000,
          130000,
          150000,
          90000,
          150000,
          200000,
          150000,
          100000,
          90000,
          60000,
          45000,
          40000,
          100000,
          150000,
          70000,
          170000,
          100000,
          100000,
          150000,
          100000,
          150000,
          60000,
          180000,
          30000,
          200000,
          120000,
          250000,
          200000,
          40000,
          80000,
          120000,
          100000,
          100000,
          90000,
          200000,
          200000,
          85000,
          100000,
          50000,
          110000,
          140000,
          100000,
          110000,
          80000,
          110000,
          110000,
          120000,
          250000,
          100000,
          150000,
          50000,
          100000,
          300000,
          250000,
          150000,
          80000,
          120000,
          200000,
          100000,
          100000,
          80000,
          120000,
          200000,
          150000,
          50000,
          150000,
          150000,
          200000,
          60000,
          180000,
          180000,
          300000,
          100000,
          250000,
          140000,
          150000,
          150000,
          300000,
          90000,
          100000,
          70000,
          100000,
          120000,
          150000,
          140000,
          120000,
          100000,
          250000,
          100000,
          30000,
          80000,
          300000,
          60000,
          90000,
          40000,
          80000,
          100000,
          150000,
          120000,
          120000,
          120000,
          300000,
          200000,
          130000,
          150000,
          200000,
          120000,
          250000,
          1000,
          120000,
          200000,
          250000,
          150000,
          150000,
          200000,
          200000,
          200000,
          150000,
          150000,
          60000,
          100000,
          100000,
          200000
         ],
         "xaxis": "x",
         "y": [
          0,
          0,
          410000,
          0,
          150000,
          200000,
          0,
          0,
          0,
          0,
          0,
          0,
          150000,
          300000,
          250000,
          0,
          0,
          0,
          0,
          0,
          0,
          300000,
          0,
          1000,
          0,
          250000,
          0,
          300000,
          250000,
          200000,
          300000,
          200000,
          0,
          0,
          0,
          180000,
          300000,
          0,
          350000,
          0,
          250000,
          0,
          0,
          0,
          0,
          170000,
          0,
          120000,
          0,
          0,
          150000,
          0,
          100000,
          200000,
          0,
          150000,
          200000,
          95000,
          150000,
          250000,
          0,
          400000,
          0,
          0,
          0,
          150000,
          250000,
          0,
          250000,
          0,
          0,
          120000,
          0,
          0,
          150000,
          150000,
          300000,
          200000,
          0,
          200000,
          150000,
          0,
          0,
          250000,
          200000,
          150000,
          30000,
          0,
          0,
          0,
          200000,
          0,
          0,
          250000,
          200000,
          0,
          0,
          300000,
          0,
          180000,
          0,
          0,
          0,
          180000,
          0,
          0,
          0,
          0,
          0,
          200000,
          0,
          0,
          120000,
          150000,
          200000,
          0,
          0,
          0,
          120000,
          0,
          300000,
          0,
          0,
          0,
          150000,
          0,
          0,
          180000,
          180000,
          200000,
          0,
          250000,
          0,
          115000,
          200000,
          0,
          100000,
          250000,
          0,
          0,
          0,
          0,
          0,
          0,
          0,
          0,
          0,
          0,
          150000,
          200000,
          120000,
          0,
          120000,
          195167,
          0,
          0,
          0,
          0,
          0,
          143000,
          0,
          0,
          0,
          120000,
          200000,
          0,
          0,
          0,
          160000,
          0,
          300000,
          0,
          0,
          0,
          0,
          170000,
          0,
          0,
          0,
          0,
          150000,
          0,
          150000,
          0,
          0,
          0,
          150000,
          0,
          0,
          150000,
          200000,
          0,
          160000,
          0,
          130000,
          0,
          160000,
          300000,
          0,
          150000,
          0,
          0,
          230000,
          0,
          0,
          0,
          0,
          0,
          0,
          0,
          0,
          0,
          0,
          200000,
          150000,
          160000,
          0,
          300000,
          0,
          0,
          0,
          150000,
          0,
          0,
          0,
          160000,
          0,
          250000,
          0,
          0,
          0,
          0,
          0,
          0,
          0,
          0,
          130000,
          0,
          0,
          0,
          300000,
          0,
          0,
          180000,
          130000,
          0,
          0,
          0,
          0,
          300000,
          0,
          300000,
          0,
          50000,
          90000,
          0,
          220000,
          0,
          150000,
          80000,
          0,
          100000,
          250000,
          0,
          0,
          150000,
          0,
          150000,
          0,
          0,
          220000,
          0,
          70000,
          200000,
          200000,
          200000,
          0,
          100000,
          100000,
          0,
          140000,
          0,
          250000,
          0,
          0,
          0,
          200000,
          80000,
          150000,
          0,
          150000,
          150000,
          0,
          0,
          0,
          0,
          400000,
          0,
          180000,
          120000,
          0,
          0,
          0,
          0,
          0,
          0,
          0,
          400000,
          0,
          60000,
          0,
          100000,
          0,
          0,
          0,
          0,
          0,
          80000,
          70000,
          0,
          70000,
          0,
          130000,
          0,
          0,
          120000,
          150000,
          0,
          0,
          0,
          0,
          0,
          120000,
          60000,
          150000,
          0,
          0,
          0,
          100000,
          250000,
          85000,
          0,
          160000,
          160000,
          350000,
          120000,
          90000,
          0,
          200000,
          0,
          60000,
          0,
          200000,
          0,
          0,
          300000,
          120000,
          0,
          300000,
          150000,
          0,
          0,
          200000,
          0,
          0,
          0,
          300000,
          300000,
          150000,
          300000,
          100000,
          0,
          100000,
          0,
          300000,
          0,
          0,
          120000,
          200000,
          0,
          200000,
          0,
          200000,
          200000,
          140000,
          0,
          250000,
          150000,
          0,
          0,
          180000,
          80000,
          180000,
          350000,
          0,
          0,
          300000,
          250000,
          250000,
          0,
          0,
          0,
          0,
          90000,
          0,
          100000,
          0,
          0,
          0,
          0,
          0,
          150000,
          0,
          150000,
          0,
          0,
          0,
          0,
          180000,
          60000,
          250000,
          0,
          0,
          100000,
          0,
          120000,
          0,
          0,
          200000,
          0,
          0,
          0,
          150000,
          0,
          210000,
          110000,
          220000,
          0,
          180000,
          0,
          0,
          250000,
          0,
          0,
          0,
          300000,
          160000,
          0,
          0,
          0,
          270000,
          250000,
          140000,
          0,
          180000,
          0,
          300000,
          0,
          0,
          0,
          0,
          0,
          0,
          150000,
          250000,
          0,
          250000,
          0,
          0,
          0,
          200000,
          200000,
          0,
          0,
          0,
          300000,
          0,
          80000,
          200000,
          80000,
          150000,
          110000,
          100000,
          200000,
          400000,
          350000,
          180000,
          250000,
          0,
          0,
          120000,
          300000,
          0,
          350000,
          200000,
          120000,
          200000,
          90000,
          120000,
          0,
          0,
          170000,
          0,
          0,
          140000,
          300000,
          0,
          180000,
          0,
          0,
          60000,
          0,
          260000,
          0,
          0,
          65000,
          100000,
          0,
          0,
          0,
          200000,
          0,
          290000,
          0,
          0,
          250000,
          110000,
          0,
          0,
          0,
          130000,
          0,
          170000,
          0,
          0,
          120000,
          0,
          0,
          0,
          0,
          0,
          0,
          0,
          0,
          0,
          0,
          0,
          0,
          0,
          0,
          0,
          150000,
          0,
          0,
          0,
          100000,
          300000,
          250000,
          0,
          0,
          0,
          0,
          350000,
          200000,
          0,
          120000,
          0,
          110000,
          400000,
          150000,
          0,
          160000,
          0,
          0,
          0,
          0,
          150000,
          120000,
          0,
          0,
          90000,
          70000,
          0,
          0,
          180000,
          0,
          120000,
          0,
          400000,
          400000,
          0,
          300000,
          0,
          180000,
          0,
          0,
          0,
          0,
          0,
          200000,
          0,
          0,
          0,
          400000,
          0,
          0,
          100000,
          0,
          0,
          0
         ],
         "yaxis": "y"
        },
        {
         "hovertemplate": "experience=более 6 лет<br>from=%{x}<br>upto=%{y}<extra></extra>",
         "legendgroup": "более 6 лет",
         "marker": {
          "color": "#00cc96",
          "symbol": "circle"
         },
         "mode": "markers",
         "name": "более 6 лет",
         "showlegend": true,
         "type": "scattergl",
         "x": [
          200000,
          150000,
          250000,
          200000,
          120000,
          100000,
          120000,
          120000,
          172500,
          100000,
          200000,
          200000,
          150000,
          200000,
          180000,
          120000,
          340000,
          200000,
          150000,
          140000,
          150000,
          300000,
          85000,
          250000,
          100000,
          180000,
          150000,
          300000,
          150000,
          250000,
          200000,
          420000,
          250000,
          200000,
          180000,
          150000,
          150000,
          120000,
          250000,
          180000,
          100000,
          100000,
          150000,
          100000,
          75000,
          300000,
          200000,
          100000,
          120000,
          200000,
          220000,
          200000,
          300000,
          150000,
          150000,
          80000,
          250000,
          100000,
          120000,
          300000,
          200000,
          100000,
          130000,
          100000,
          180000,
          130000,
          100000,
          120000,
          170000,
          250000,
          150000,
          220000,
          100000,
          150000,
          100000,
          170000,
          300000,
          120000,
          300000,
          60000,
          300000,
          100000,
          150000,
          200000,
          140000,
          100000,
          300000,
          100000,
          150000,
          150000,
          220000,
          180000,
          100000,
          80000,
          103448,
          200000,
          80000,
          300000,
          250000,
          100000,
          300000,
          200000,
          300000,
          80000,
          220000,
          150000,
          200000,
          250000,
          250000,
          150000,
          250000,
          250000,
          150000
         ],
         "xaxis": "x",
         "y": [
          400000,
          250000,
          0,
          200000,
          200000,
          140000,
          0,
          200000,
          0,
          120000,
          0,
          0,
          200000,
          0,
          0,
          0,
          0,
          0,
          0,
          300000,
          0,
          0,
          130000,
          300000,
          200000,
          200000,
          0,
          0,
          300000,
          0,
          0,
          0,
          0,
          0,
          220000,
          250000,
          0,
          0,
          0,
          250000,
          300000,
          200000,
          0,
          150000,
          0,
          0,
          350000,
          120000,
          200000,
          300000,
          0,
          0,
          0,
          150000,
          400000,
          120000,
          0,
          150000,
          0,
          0,
          300000,
          0,
          150000,
          0,
          180000,
          0,
          0,
          240000,
          200000,
          0,
          0,
          0,
          0,
          0,
          220000,
          200000,
          450000,
          0,
          0,
          120000,
          0,
          130000,
          150000,
          0,
          0,
          120000,
          0,
          160000,
          0,
          200000,
          0,
          270000,
          0,
          0,
          0,
          0,
          150000,
          300000,
          0,
          250000,
          0,
          0,
          0,
          0,
          350000,
          0,
          0,
          0,
          350000,
          300000,
          0,
          0,
          200000
         ],
         "yaxis": "y"
        },
        {
         "hovertemplate": "experience=не требуется<br>from=%{x}<br>upto=%{y}<extra></extra>",
         "legendgroup": "не требуется",
         "marker": {
          "color": "#ab63fa",
          "symbol": "circle"
         },
         "mode": "markers",
         "name": "не требуется",
         "showlegend": true,
         "type": "scattergl",
         "x": [
          150000,
          130000,
          150000,
          70000,
          50000,
          120000,
          120000,
          50000,
          140000,
          40000,
          200000,
          45000,
          70000,
          15000,
          40000,
          55000,
          35000,
          34000,
          60000,
          25000,
          55000,
          140000,
          60000,
          70000,
          15000,
          70000,
          45000,
          50000,
          150000,
          150000,
          20000,
          50000,
          20000,
          52200,
          10000,
          60000,
          40000,
          40000,
          65000,
          15000,
          57000,
          100000,
          60000,
          100000,
          60000,
          50000,
          70000,
          60000,
          200000,
          65000,
          50000,
          50000,
          100000,
          100000,
          10000,
          20000,
          110000,
          80000,
          60000,
          20000,
          80000,
          35000,
          10000,
          65000,
          75000,
          15000,
          15000,
          25000,
          45000,
          50000,
          60000,
          40000,
          65000,
          60000,
          65000,
          30000,
          50000,
          30000,
          40000,
          150000,
          36000,
          60000,
          300000,
          25000,
          50000,
          100000,
          25000,
          185000,
          40000,
          40000,
          20000,
          5000,
          70000,
          120000,
          120000,
          55000,
          45000,
          100000,
          60000,
          60000,
          20000,
          50000,
          30000,
          25000,
          120000,
          30000,
          180000,
          45000,
          15000,
          80000,
          60000,
          50000,
          350000,
          5000,
          60000,
          15000,
          60000,
          50000,
          20000,
          25000,
          15000,
          150000,
          20000,
          45000,
          45000,
          30000,
          20000,
          25000,
          60000,
          60000,
          70000,
          100000,
          20000,
          60000,
          60000,
          150000,
          50000,
          80000,
          80000,
          150000,
          150000,
          42000,
          60000,
          15000,
          15000
         ],
         "xaxis": "x",
         "y": [
          180000,
          200000,
          200000,
          90000,
          0,
          150000,
          0,
          0,
          0,
          150000,
          0,
          60000,
          100000,
          0,
          120000,
          55000,
          0,
          0,
          80000,
          0,
          0,
          0,
          63000,
          150000,
          0,
          0,
          0,
          0,
          0,
          0,
          0,
          0,
          0,
          0,
          35000,
          80000,
          90000,
          60000,
          0,
          0,
          0,
          0,
          0,
          0,
          80000,
          90000,
          90000,
          70000,
          0,
          120000,
          0,
          130000,
          0,
          0,
          30000,
          0,
          300000,
          300000,
          120000,
          80000,
          150000,
          0,
          10000,
          120000,
          130000,
          35000,
          40500,
          0,
          65000,
          0,
          160000,
          60000,
          190000,
          0,
          130000,
          65000,
          60000,
          55000,
          40000,
          0,
          0,
          60000,
          1500,
          0,
          0,
          0,
          55000,
          0,
          0,
          0,
          25000,
          15000,
          0,
          0,
          0,
          60000,
          50000,
          0,
          80000,
          150000,
          40000,
          80000,
          0,
          0,
          0,
          0,
          0,
          0,
          40000,
          300000,
          80000,
          150000,
          0,
          70000,
          80000,
          0,
          80000,
          80000,
          60000,
          0,
          0,
          0,
          60000,
          0,
          90000,
          0,
          25000,
          50000,
          80000,
          60000,
          400000,
          0,
          0,
          75000,
          150000,
          0,
          0,
          400000,
          400000,
          0,
          0,
          60000,
          220000,
          35000,
          0
         ],
         "yaxis": "y"
        }
       ],
       "layout": {
        "legend": {
         "title": {
          "text": "experience"
         },
         "tracegroupgap": 0
        },
        "margin": {
         "t": 60
        },
        "template": {
         "data": {
          "bar": [
           {
            "error_x": {
             "color": "#2a3f5f"
            },
            "error_y": {
             "color": "#2a3f5f"
            },
            "marker": {
             "line": {
              "color": "#E5ECF6",
              "width": 0.5
             },
             "pattern": {
              "fillmode": "overlay",
              "size": 10,
              "solidity": 0.2
             }
            },
            "type": "bar"
           }
          ],
          "barpolar": [
           {
            "marker": {
             "line": {
              "color": "#E5ECF6",
              "width": 0.5
             },
             "pattern": {
              "fillmode": "overlay",
              "size": 10,
              "solidity": 0.2
             }
            },
            "type": "barpolar"
           }
          ],
          "carpet": [
           {
            "aaxis": {
             "endlinecolor": "#2a3f5f",
             "gridcolor": "white",
             "linecolor": "white",
             "minorgridcolor": "white",
             "startlinecolor": "#2a3f5f"
            },
            "baxis": {
             "endlinecolor": "#2a3f5f",
             "gridcolor": "white",
             "linecolor": "white",
             "minorgridcolor": "white",
             "startlinecolor": "#2a3f5f"
            },
            "type": "carpet"
           }
          ],
          "choropleth": [
           {
            "colorbar": {
             "outlinewidth": 0,
             "ticks": ""
            },
            "type": "choropleth"
           }
          ],
          "contour": [
           {
            "colorbar": {
             "outlinewidth": 0,
             "ticks": ""
            },
            "colorscale": [
             [
              0,
              "#0d0887"
             ],
             [
              0.1111111111111111,
              "#46039f"
             ],
             [
              0.2222222222222222,
              "#7201a8"
             ],
             [
              0.3333333333333333,
              "#9c179e"
             ],
             [
              0.4444444444444444,
              "#bd3786"
             ],
             [
              0.5555555555555556,
              "#d8576b"
             ],
             [
              0.6666666666666666,
              "#ed7953"
             ],
             [
              0.7777777777777778,
              "#fb9f3a"
             ],
             [
              0.8888888888888888,
              "#fdca26"
             ],
             [
              1,
              "#f0f921"
             ]
            ],
            "type": "contour"
           }
          ],
          "contourcarpet": [
           {
            "colorbar": {
             "outlinewidth": 0,
             "ticks": ""
            },
            "type": "contourcarpet"
           }
          ],
          "heatmap": [
           {
            "colorbar": {
             "outlinewidth": 0,
             "ticks": ""
            },
            "colorscale": [
             [
              0,
              "#0d0887"
             ],
             [
              0.1111111111111111,
              "#46039f"
             ],
             [
              0.2222222222222222,
              "#7201a8"
             ],
             [
              0.3333333333333333,
              "#9c179e"
             ],
             [
              0.4444444444444444,
              "#bd3786"
             ],
             [
              0.5555555555555556,
              "#d8576b"
             ],
             [
              0.6666666666666666,
              "#ed7953"
             ],
             [
              0.7777777777777778,
              "#fb9f3a"
             ],
             [
              0.8888888888888888,
              "#fdca26"
             ],
             [
              1,
              "#f0f921"
             ]
            ],
            "type": "heatmap"
           }
          ],
          "heatmapgl": [
           {
            "colorbar": {
             "outlinewidth": 0,
             "ticks": ""
            },
            "colorscale": [
             [
              0,
              "#0d0887"
             ],
             [
              0.1111111111111111,
              "#46039f"
             ],
             [
              0.2222222222222222,
              "#7201a8"
             ],
             [
              0.3333333333333333,
              "#9c179e"
             ],
             [
              0.4444444444444444,
              "#bd3786"
             ],
             [
              0.5555555555555556,
              "#d8576b"
             ],
             [
              0.6666666666666666,
              "#ed7953"
             ],
             [
              0.7777777777777778,
              "#fb9f3a"
             ],
             [
              0.8888888888888888,
              "#fdca26"
             ],
             [
              1,
              "#f0f921"
             ]
            ],
            "type": "heatmapgl"
           }
          ],
          "histogram": [
           {
            "marker": {
             "pattern": {
              "fillmode": "overlay",
              "size": 10,
              "solidity": 0.2
             }
            },
            "type": "histogram"
           }
          ],
          "histogram2d": [
           {
            "colorbar": {
             "outlinewidth": 0,
             "ticks": ""
            },
            "colorscale": [
             [
              0,
              "#0d0887"
             ],
             [
              0.1111111111111111,
              "#46039f"
             ],
             [
              0.2222222222222222,
              "#7201a8"
             ],
             [
              0.3333333333333333,
              "#9c179e"
             ],
             [
              0.4444444444444444,
              "#bd3786"
             ],
             [
              0.5555555555555556,
              "#d8576b"
             ],
             [
              0.6666666666666666,
              "#ed7953"
             ],
             [
              0.7777777777777778,
              "#fb9f3a"
             ],
             [
              0.8888888888888888,
              "#fdca26"
             ],
             [
              1,
              "#f0f921"
             ]
            ],
            "type": "histogram2d"
           }
          ],
          "histogram2dcontour": [
           {
            "colorbar": {
             "outlinewidth": 0,
             "ticks": ""
            },
            "colorscale": [
             [
              0,
              "#0d0887"
             ],
             [
              0.1111111111111111,
              "#46039f"
             ],
             [
              0.2222222222222222,
              "#7201a8"
             ],
             [
              0.3333333333333333,
              "#9c179e"
             ],
             [
              0.4444444444444444,
              "#bd3786"
             ],
             [
              0.5555555555555556,
              "#d8576b"
             ],
             [
              0.6666666666666666,
              "#ed7953"
             ],
             [
              0.7777777777777778,
              "#fb9f3a"
             ],
             [
              0.8888888888888888,
              "#fdca26"
             ],
             [
              1,
              "#f0f921"
             ]
            ],
            "type": "histogram2dcontour"
           }
          ],
          "mesh3d": [
           {
            "colorbar": {
             "outlinewidth": 0,
             "ticks": ""
            },
            "type": "mesh3d"
           }
          ],
          "parcoords": [
           {
            "line": {
             "colorbar": {
              "outlinewidth": 0,
              "ticks": ""
             }
            },
            "type": "parcoords"
           }
          ],
          "pie": [
           {
            "automargin": true,
            "type": "pie"
           }
          ],
          "scatter": [
           {
            "fillpattern": {
             "fillmode": "overlay",
             "size": 10,
             "solidity": 0.2
            },
            "type": "scatter"
           }
          ],
          "scatter3d": [
           {
            "line": {
             "colorbar": {
              "outlinewidth": 0,
              "ticks": ""
             }
            },
            "marker": {
             "colorbar": {
              "outlinewidth": 0,
              "ticks": ""
             }
            },
            "type": "scatter3d"
           }
          ],
          "scattercarpet": [
           {
            "marker": {
             "colorbar": {
              "outlinewidth": 0,
              "ticks": ""
             }
            },
            "type": "scattercarpet"
           }
          ],
          "scattergeo": [
           {
            "marker": {
             "colorbar": {
              "outlinewidth": 0,
              "ticks": ""
             }
            },
            "type": "scattergeo"
           }
          ],
          "scattergl": [
           {
            "marker": {
             "colorbar": {
              "outlinewidth": 0,
              "ticks": ""
             }
            },
            "type": "scattergl"
           }
          ],
          "scattermapbox": [
           {
            "marker": {
             "colorbar": {
              "outlinewidth": 0,
              "ticks": ""
             }
            },
            "type": "scattermapbox"
           }
          ],
          "scatterpolar": [
           {
            "marker": {
             "colorbar": {
              "outlinewidth": 0,
              "ticks": ""
             }
            },
            "type": "scatterpolar"
           }
          ],
          "scatterpolargl": [
           {
            "marker": {
             "colorbar": {
              "outlinewidth": 0,
              "ticks": ""
             }
            },
            "type": "scatterpolargl"
           }
          ],
          "scatterternary": [
           {
            "marker": {
             "colorbar": {
              "outlinewidth": 0,
              "ticks": ""
             }
            },
            "type": "scatterternary"
           }
          ],
          "surface": [
           {
            "colorbar": {
             "outlinewidth": 0,
             "ticks": ""
            },
            "colorscale": [
             [
              0,
              "#0d0887"
             ],
             [
              0.1111111111111111,
              "#46039f"
             ],
             [
              0.2222222222222222,
              "#7201a8"
             ],
             [
              0.3333333333333333,
              "#9c179e"
             ],
             [
              0.4444444444444444,
              "#bd3786"
             ],
             [
              0.5555555555555556,
              "#d8576b"
             ],
             [
              0.6666666666666666,
              "#ed7953"
             ],
             [
              0.7777777777777778,
              "#fb9f3a"
             ],
             [
              0.8888888888888888,
              "#fdca26"
             ],
             [
              1,
              "#f0f921"
             ]
            ],
            "type": "surface"
           }
          ],
          "table": [
           {
            "cells": {
             "fill": {
              "color": "#EBF0F8"
             },
             "line": {
              "color": "white"
             }
            },
            "header": {
             "fill": {
              "color": "#C8D4E3"
             },
             "line": {
              "color": "white"
             }
            },
            "type": "table"
           }
          ]
         },
         "layout": {
          "annotationdefaults": {
           "arrowcolor": "#2a3f5f",
           "arrowhead": 0,
           "arrowwidth": 1
          },
          "autotypenumbers": "strict",
          "coloraxis": {
           "colorbar": {
            "outlinewidth": 0,
            "ticks": ""
           }
          },
          "colorscale": {
           "diverging": [
            [
             0,
             "#8e0152"
            ],
            [
             0.1,
             "#c51b7d"
            ],
            [
             0.2,
             "#de77ae"
            ],
            [
             0.3,
             "#f1b6da"
            ],
            [
             0.4,
             "#fde0ef"
            ],
            [
             0.5,
             "#f7f7f7"
            ],
            [
             0.6,
             "#e6f5d0"
            ],
            [
             0.7,
             "#b8e186"
            ],
            [
             0.8,
             "#7fbc41"
            ],
            [
             0.9,
             "#4d9221"
            ],
            [
             1,
             "#276419"
            ]
           ],
           "sequential": [
            [
             0,
             "#0d0887"
            ],
            [
             0.1111111111111111,
             "#46039f"
            ],
            [
             0.2222222222222222,
             "#7201a8"
            ],
            [
             0.3333333333333333,
             "#9c179e"
            ],
            [
             0.4444444444444444,
             "#bd3786"
            ],
            [
             0.5555555555555556,
             "#d8576b"
            ],
            [
             0.6666666666666666,
             "#ed7953"
            ],
            [
             0.7777777777777778,
             "#fb9f3a"
            ],
            [
             0.8888888888888888,
             "#fdca26"
            ],
            [
             1,
             "#f0f921"
            ]
           ],
           "sequentialminus": [
            [
             0,
             "#0d0887"
            ],
            [
             0.1111111111111111,
             "#46039f"
            ],
            [
             0.2222222222222222,
             "#7201a8"
            ],
            [
             0.3333333333333333,
             "#9c179e"
            ],
            [
             0.4444444444444444,
             "#bd3786"
            ],
            [
             0.5555555555555556,
             "#d8576b"
            ],
            [
             0.6666666666666666,
             "#ed7953"
            ],
            [
             0.7777777777777778,
             "#fb9f3a"
            ],
            [
             0.8888888888888888,
             "#fdca26"
            ],
            [
             1,
             "#f0f921"
            ]
           ]
          },
          "colorway": [
           "#636efa",
           "#EF553B",
           "#00cc96",
           "#ab63fa",
           "#FFA15A",
           "#19d3f3",
           "#FF6692",
           "#B6E880",
           "#FF97FF",
           "#FECB52"
          ],
          "font": {
           "color": "#2a3f5f"
          },
          "geo": {
           "bgcolor": "white",
           "lakecolor": "white",
           "landcolor": "#E5ECF6",
           "showlakes": true,
           "showland": true,
           "subunitcolor": "white"
          },
          "hoverlabel": {
           "align": "left"
          },
          "hovermode": "closest",
          "mapbox": {
           "style": "light"
          },
          "paper_bgcolor": "white",
          "plot_bgcolor": "#E5ECF6",
          "polar": {
           "angularaxis": {
            "gridcolor": "white",
            "linecolor": "white",
            "ticks": ""
           },
           "bgcolor": "#E5ECF6",
           "radialaxis": {
            "gridcolor": "white",
            "linecolor": "white",
            "ticks": ""
           }
          },
          "scene": {
           "xaxis": {
            "backgroundcolor": "#E5ECF6",
            "gridcolor": "white",
            "gridwidth": 2,
            "linecolor": "white",
            "showbackground": true,
            "ticks": "",
            "zerolinecolor": "white"
           },
           "yaxis": {
            "backgroundcolor": "#E5ECF6",
            "gridcolor": "white",
            "gridwidth": 2,
            "linecolor": "white",
            "showbackground": true,
            "ticks": "",
            "zerolinecolor": "white"
           },
           "zaxis": {
            "backgroundcolor": "#E5ECF6",
            "gridcolor": "white",
            "gridwidth": 2,
            "linecolor": "white",
            "showbackground": true,
            "ticks": "",
            "zerolinecolor": "white"
           }
          },
          "shapedefaults": {
           "line": {
            "color": "#2a3f5f"
           }
          },
          "ternary": {
           "aaxis": {
            "gridcolor": "white",
            "linecolor": "white",
            "ticks": ""
           },
           "baxis": {
            "gridcolor": "white",
            "linecolor": "white",
            "ticks": ""
           },
           "bgcolor": "#E5ECF6",
           "caxis": {
            "gridcolor": "white",
            "linecolor": "white",
            "ticks": ""
           }
          },
          "title": {
           "x": 0.05
          },
          "xaxis": {
           "automargin": true,
           "gridcolor": "white",
           "linecolor": "white",
           "ticks": "",
           "title": {
            "standoff": 15
           },
           "zerolinecolor": "white",
           "zerolinewidth": 2
          },
          "yaxis": {
           "automargin": true,
           "gridcolor": "white",
           "linecolor": "white",
           "ticks": "",
           "title": {
            "standoff": 15
           },
           "zerolinecolor": "white",
           "zerolinewidth": 2
          }
         }
        },
        "xaxis": {
         "anchor": "y",
         "domain": [
          0,
          1
         ],
         "title": {
          "text": "from"
         }
        },
        "yaxis": {
         "anchor": "x",
         "domain": [
          0,
          1
         ],
         "title": {
          "text": "upto"
         }
        }
       }
      }
     },
     "metadata": {},
     "output_type": "display_data"
    }
   ],
   "source": [
    "df = data[data[\"currency\"]==\"руб\"]\n",
    "df = df.loc[(df[\"from\"] < 500_000) & (df[\"upto\"] < 500_000)] \n",
    "fig = px.scatter(df, color=\"experience\", x=\"from\", y=\"upto\")\n",
    "fig.show()"
   ]
  },
  {
   "cell_type": "markdown",
   "metadata": {},
   "source": [
    "В целом ожидаемо, видим, что с ростом опыта работы растет и размер заработной платы, однако видим также, что присутствуют странные вакансии предлагающие высокую зарплату при малом опыте и наоборот. Рассмотрим некоторую выборку из этих данных далее"
   ]
  },
  {
   "cell_type": "code",
   "execution_count": 91,
   "metadata": {},
   "outputs": [
    {
     "data": {
      "text/html": [
       "<div>\n",
       "<style scoped>\n",
       "    .dataframe tbody tr th:only-of-type {\n",
       "        vertical-align: middle;\n",
       "    }\n",
       "\n",
       "    .dataframe tbody tr th {\n",
       "        vertical-align: top;\n",
       "    }\n",
       "\n",
       "    .dataframe thead th {\n",
       "        text-align: right;\n",
       "    }\n",
       "</style>\n",
       "<table border=\"1\" class=\"dataframe\">\n",
       "  <thead>\n",
       "    <tr style=\"text-align: right;\">\n",
       "      <th></th>\n",
       "      <th>index</th>\n",
       "      <th>experience</th>\n",
       "      <th>description</th>\n",
       "      <th>salary</th>\n",
       "      <th>tags_list</th>\n",
       "      <th>tags_list_len</th>\n",
       "      <th>from</th>\n",
       "      <th>upto</th>\n",
       "      <th>currency</th>\n",
       "      <th>fulladress</th>\n",
       "    </tr>\n",
       "  </thead>\n",
       "  <tbody>\n",
       "    <tr>\n",
       "      <th>777</th>\n",
       "      <td>777</td>\n",
       "      <td>не требуется</td>\n",
       "      <td>MAD Estate\\nСоздаем лучшие сделки с недвижимос...</td>\n",
       "      <td>от 150 000 до 500 000 руб. на руки</td>\n",
       "      <td>[Ведение переговоров, Навыки продаж, Активные ...</td>\n",
       "      <td>17</td>\n",
       "      <td>150000.0</td>\n",
       "      <td>500000.0</td>\n",
       "      <td>руб</td>\n",
       "      <td>Москва, улица Неверовского, 10с3А</td>\n",
       "    </tr>\n",
       "    <tr>\n",
       "      <th>984</th>\n",
       "      <td>984</td>\n",
       "      <td>не требуется</td>\n",
       "      <td>Работа в агентстве недвижимости \"ВЛАДИС\" - это...</td>\n",
       "      <td>от 100 000 до 500 000 руб. до вычета налогов</td>\n",
       "      <td>[Администрирование, Ведение клиентской базы, В...</td>\n",
       "      <td>11</td>\n",
       "      <td>100000.0</td>\n",
       "      <td>500000.0</td>\n",
       "      <td>руб</td>\n",
       "      <td>Волгоградский проспект, Крестьянская застава, ...</td>\n",
       "    </tr>\n",
       "  </tbody>\n",
       "</table>\n",
       "</div>"
      ],
      "text/plain": [
       "     index    experience                                        description  \\\n",
       "777    777  не требуется  MAD Estate\\nСоздаем лучшие сделки с недвижимос...   \n",
       "984    984  не требуется  Работа в агентстве недвижимости \"ВЛАДИС\" - это...   \n",
       "\n",
       "                                           salary  \\\n",
       "777            от 150 000 до 500 000 руб. на руки   \n",
       "984  от 100 000 до 500 000 руб. до вычета налогов   \n",
       "\n",
       "                                             tags_list  tags_list_len  \\\n",
       "777  [Ведение переговоров, Навыки продаж, Активные ...             17   \n",
       "984  [Администрирование, Ведение клиентской базы, В...             11   \n",
       "\n",
       "         from      upto currency  \\\n",
       "777  150000.0  500000.0      руб   \n",
       "984  100000.0  500000.0      руб   \n",
       "\n",
       "                                            fulladress  \n",
       "777                  Москва, улица Неверовского, 10с3А  \n",
       "984  Волгоградский проспект, Крестьянская застава, ...  "
      ]
     },
     "execution_count": 91,
     "metadata": {},
     "output_type": "execute_result"
    }
   ],
   "source": [
    "df = data[data[\"experience\"]==\"не требуется\"]\n",
    "df = df[df[\"upto\"]>400000]\n",
    "df.sample(frac=0.5)"
   ]
  },
  {
   "cell_type": "code",
   "execution_count": 92,
   "metadata": {},
   "outputs": [
    {
     "data": {
      "text/html": [
       "<div>\n",
       "<style scoped>\n",
       "    .dataframe tbody tr th:only-of-type {\n",
       "        vertical-align: middle;\n",
       "    }\n",
       "\n",
       "    .dataframe tbody tr th {\n",
       "        vertical-align: top;\n",
       "    }\n",
       "\n",
       "    .dataframe thead th {\n",
       "        text-align: right;\n",
       "    }\n",
       "</style>\n",
       "<table border=\"1\" class=\"dataframe\">\n",
       "  <thead>\n",
       "    <tr style=\"text-align: right;\">\n",
       "      <th></th>\n",
       "      <th>index</th>\n",
       "      <th>experience</th>\n",
       "      <th>description</th>\n",
       "      <th>salary</th>\n",
       "      <th>tags_list</th>\n",
       "      <th>tags_list_len</th>\n",
       "      <th>from</th>\n",
       "      <th>upto</th>\n",
       "      <th>currency</th>\n",
       "      <th>fulladress</th>\n",
       "    </tr>\n",
       "  </thead>\n",
       "  <tbody>\n",
       "    <tr>\n",
       "      <th>947</th>\n",
       "      <td>947</td>\n",
       "      <td>1–3 года</td>\n",
       "      <td>Madestate - эффективное агентство элитной недв...</td>\n",
       "      <td>от 200 000 до 600 000 руб. на руки</td>\n",
       "      <td>[Элитная недвижимость, Жилая недвижимость, Вто...</td>\n",
       "      <td>15</td>\n",
       "      <td>200000.0</td>\n",
       "      <td>600000.0</td>\n",
       "      <td>руб</td>\n",
       "      <td>Москва, улица Неверовского, 10с3А</td>\n",
       "    </tr>\n",
       "    <tr>\n",
       "      <th>430</th>\n",
       "      <td>430</td>\n",
       "      <td>1–3 года</td>\n",
       "      <td>Требуется Управляющий/Операционный директор в ...</td>\n",
       "      <td>от 400 000 до 600 000 руб. на руки</td>\n",
       "      <td>[]</td>\n",
       "      <td>0</td>\n",
       "      <td>400000.0</td>\n",
       "      <td>600000.0</td>\n",
       "      <td>руб</td>\n",
       "      <td>Домодедовская, Москва, Замоскворецкая линия, м...</td>\n",
       "    </tr>\n",
       "    <tr>\n",
       "      <th>614</th>\n",
       "      <td>614</td>\n",
       "      <td>1–3 года</td>\n",
       "      <td>О компании:\\nГруппа компаний «Чистый Сервис» о...</td>\n",
       "      <td>от 300 000 до 500 000 руб. на руки</td>\n",
       "      <td>[Поиск и привлечение клиентов, Грамотная речь,...</td>\n",
       "      <td>4</td>\n",
       "      <td>300000.0</td>\n",
       "      <td>500000.0</td>\n",
       "      <td>руб</td>\n",
       "      <td>Москва, Пресненская набережная, 6с2</td>\n",
       "    </tr>\n",
       "    <tr>\n",
       "      <th>1621</th>\n",
       "      <td>1621</td>\n",
       "      <td>1–3 года</td>\n",
       "      <td>Обязанности:\\nразрабатывать и реализовывать ст...</td>\n",
       "      <td>от 150 000 до 500 000 руб. на руки</td>\n",
       "      <td>[арбитраж трафика, руководитель, affiliate mar...</td>\n",
       "      <td>6</td>\n",
       "      <td>150000.0</td>\n",
       "      <td>500000.0</td>\n",
       "      <td>руб</td>\n",
       "      <td>Москва</td>\n",
       "    </tr>\n",
       "  </tbody>\n",
       "</table>\n",
       "</div>"
      ],
      "text/plain": [
       "      index experience                                        description  \\\n",
       "947     947   1–3 года  Madestate - эффективное агентство элитной недв...   \n",
       "430     430   1–3 года  Требуется Управляющий/Операционный директор в ...   \n",
       "614     614   1–3 года  О компании:\\nГруппа компаний «Чистый Сервис» о...   \n",
       "1621   1621   1–3 года  Обязанности:\\nразрабатывать и реализовывать ст...   \n",
       "\n",
       "                                  salary  \\\n",
       "947   от 200 000 до 600 000 руб. на руки   \n",
       "430   от 400 000 до 600 000 руб. на руки   \n",
       "614   от 300 000 до 500 000 руб. на руки   \n",
       "1621  от 150 000 до 500 000 руб. на руки   \n",
       "\n",
       "                                              tags_list  tags_list_len  \\\n",
       "947   [Элитная недвижимость, Жилая недвижимость, Вто...             15   \n",
       "430                                                  []              0   \n",
       "614   [Поиск и привлечение клиентов, Грамотная речь,...              4   \n",
       "1621  [арбитраж трафика, руководитель, affiliate mar...              6   \n",
       "\n",
       "          from      upto currency  \\\n",
       "947   200000.0  600000.0      руб   \n",
       "430   400000.0  600000.0      руб   \n",
       "614   300000.0  500000.0      руб   \n",
       "1621  150000.0  500000.0      руб   \n",
       "\n",
       "                                             fulladress  \n",
       "947                   Москва, улица Неверовского, 10с3А  \n",
       "430   Домодедовская, Москва, Замоскворецкая линия, м...  \n",
       "614                 Москва, Пресненская набережная, 6с2  \n",
       "1621                                             Москва  "
      ]
     },
     "execution_count": 92,
     "metadata": {},
     "output_type": "execute_result"
    }
   ],
   "source": [
    "df = data[data[\"experience\"]==\"1–3 года\"]\n",
    "df = df[df[\"upto\"]>400000]\n",
    "df.sample(frac=0.5)"
   ]
  },
  {
   "cell_type": "markdown",
   "metadata": {},
   "source": [
    "Резюме: 1 из 2, либо в сфере продаж недвижимости и wildberries действительно наблюдается тендеция к высоким зарплатам с минимумом опыта, либо, как в случае с некоторыми такими объявлениями остальные условия и требования обсуждаются индивидуально"
   ]
  },
  {
   "cell_type": "markdown",
   "metadata": {},
   "source": [
    "(2) Второе на что хочется обратить внимание это теги, что за какие навыки работадатели готовы платить больше?"
   ]
  },
  {
   "cell_type": "markdown",
   "metadata": {},
   "source": [
    "Число уникальных тегов в вакансиях:"
   ]
  },
  {
   "cell_type": "code",
   "execution_count": 93,
   "metadata": {},
   "outputs": [
    {
     "data": {
      "text/plain": [
       "1865"
      ]
     },
     "execution_count": 93,
     "metadata": {},
     "output_type": "execute_result"
    }
   ],
   "source": [
    "df = data[data[\"tags_list_len\"] > 0][\"tags_list\"]\n",
    "tags_set = set()\n",
    "for i in df:\n",
    "    for j in i:\n",
    "        tags_set.add(j)\n",
    "len(tags_set)"
   ]
  },
  {
   "cell_type": "markdown",
   "metadata": {},
   "source": [
    "Число уникальных тегов в резюме:"
   ]
  },
  {
   "cell_type": "code",
   "execution_count": 94,
   "metadata": {},
   "outputs": [
    {
     "data": {
      "text/plain": [
       "4980"
      ]
     },
     "execution_count": 94,
     "metadata": {},
     "output_type": "execute_result"
    }
   ],
   "source": [
    "df = resume_data[resume_data[\"tags_list_len\"] > 0][\"tags_list\"]\n",
    "tags_set = set()\n",
    "for i in df:\n",
    "    for j in i:\n",
    "        tags_set.add(j)\n",
    "len(tags_set)"
   ]
  },
  {
   "cell_type": "code",
   "execution_count": 95,
   "metadata": {},
   "outputs": [
    {
     "data": {
      "text/html": [
       "<div>\n",
       "<style scoped>\n",
       "    .dataframe tbody tr th:only-of-type {\n",
       "        vertical-align: middle;\n",
       "    }\n",
       "\n",
       "    .dataframe tbody tr th {\n",
       "        vertical-align: top;\n",
       "    }\n",
       "\n",
       "    .dataframe thead th {\n",
       "        text-align: right;\n",
       "    }\n",
       "</style>\n",
       "<table border=\"1\" class=\"dataframe\">\n",
       "  <thead>\n",
       "    <tr style=\"text-align: right;\">\n",
       "      <th></th>\n",
       "      <th>index</th>\n",
       "      <th>experience</th>\n",
       "      <th>description</th>\n",
       "      <th>salary</th>\n",
       "      <th>tags_list</th>\n",
       "      <th>tags_list_len</th>\n",
       "      <th>from</th>\n",
       "      <th>upto</th>\n",
       "      <th>currency</th>\n",
       "      <th>fulladress</th>\n",
       "    </tr>\n",
       "  </thead>\n",
       "  <tbody>\n",
       "    <tr>\n",
       "      <th>607</th>\n",
       "      <td>607</td>\n",
       "      <td>не требуется</td>\n",
       "      <td>Если Вы новичок, мы готовы научить Вас всему, ...</td>\n",
       "      <td>от 150 000 руб. на руки</td>\n",
       "      <td>[Ведение переговоров, Обучение и развитие, Под...</td>\n",
       "      <td>18</td>\n",
       "      <td>150000.0</td>\n",
       "      <td>0.0</td>\n",
       "      <td>руб</td>\n",
       "      <td>Волгоградский проспект, Крестьянская застава, ...</td>\n",
       "    </tr>\n",
       "  </tbody>\n",
       "</table>\n",
       "</div>"
      ],
      "text/plain": [
       "     index    experience                                        description  \\\n",
       "607    607  не требуется  Если Вы новичок, мы готовы научить Вас всему, ...   \n",
       "\n",
       "                      salary  \\\n",
       "607  от 150 000 руб. на руки   \n",
       "\n",
       "                                             tags_list  tags_list_len  \\\n",
       "607  [Ведение переговоров, Обучение и развитие, Под...             18   \n",
       "\n",
       "         from  upto currency  \\\n",
       "607  150000.0   0.0      руб   \n",
       "\n",
       "                                            fulladress  \n",
       "607  Волгоградский проспект, Крестьянская застава, ...  "
      ]
     },
     "execution_count": 95,
     "metadata": {},
     "output_type": "execute_result"
    }
   ],
   "source": [
    "data.sample()"
   ]
  },
  {
   "cell_type": "code",
   "execution_count": 96,
   "metadata": {},
   "outputs": [
    {
     "data": {
      "application/vnd.plotly.v1+json": {
       "config": {
        "plotlyServerURL": "https://plot.ly"
       },
       "data": [
        {
         "name": "upto",
         "type": "bar",
         "x": [
          5,
          5,
          12,
          9,
          0,
          0,
          28,
          5,
          19,
          13,
          11,
          9,
          19,
          12,
          0,
          8,
          21,
          9,
          5,
          7,
          11,
          5,
          4,
          13,
          6,
          7,
          15,
          8,
          0,
          5,
          8,
          10,
          0,
          14,
          5,
          0,
          26,
          24,
          5,
          0,
          7,
          7,
          22,
          5,
          7,
          6,
          14,
          3,
          0,
          18,
          18,
          26,
          8,
          18,
          11,
          6,
          12,
          20,
          8,
          0,
          18,
          6,
          23,
          16,
          18,
          6,
          10,
          7,
          10,
          5,
          8,
          0,
          5,
          0,
          5,
          9,
          15,
          17,
          14,
          5,
          2,
          0,
          8,
          16,
          12,
          17,
          9,
          5,
          0,
          0,
          8,
          7,
          20,
          11,
          0,
          0,
          5,
          0,
          4,
          8,
          6,
          25,
          5,
          12,
          7,
          7,
          5,
          5,
          29,
          8,
          5,
          16,
          7,
          5,
          15,
          10,
          8,
          18,
          8,
          14,
          5,
          0,
          5,
          6,
          20,
          0,
          0,
          11,
          6,
          15,
          30,
          7,
          4,
          10,
          12,
          8,
          12,
          4,
          5,
          13,
          1,
          20,
          5,
          14,
          2,
          10,
          5,
          9,
          8,
          10,
          11,
          5,
          6,
          8,
          25,
          11,
          12,
          20,
          14,
          10,
          10,
          5,
          5,
          11,
          14,
          6,
          5,
          12,
          7,
          9,
          6,
          6,
          5,
          7,
          6,
          9,
          11,
          7,
          5,
          5,
          5,
          8,
          16,
          9,
          0,
          5,
          5,
          5,
          12,
          5,
          7,
          4,
          10,
          4,
          11,
          29,
          12,
          6,
          10,
          5,
          1,
          12,
          8,
          5,
          6,
          5,
          5,
          0,
          25,
          8,
          5,
          10,
          5,
          14,
          9,
          9,
          0,
          9,
          5,
          15,
          17,
          13,
          6,
          3,
          18,
          5,
          9,
          5,
          4,
          2,
          5,
          5,
          0,
          4,
          20,
          5,
          5,
          5,
          11,
          16,
          5,
          5,
          19,
          5,
          11,
          15,
          20,
          3,
          0,
          4,
          4,
          14,
          4,
          5,
          30,
          5,
          5,
          5,
          5,
          13,
          6,
          5,
          7,
          5,
          12,
          14,
          8,
          5,
          6,
          12,
          0,
          8,
          12,
          6,
          4,
          7,
          13,
          10,
          16,
          8,
          5,
          10,
          5,
          17,
          5,
          5,
          19,
          15,
          18,
          5,
          18,
          20,
          5,
          16,
          0,
          18,
          13,
          16,
          5,
          11,
          22,
          12,
          6,
          16,
          5,
          17,
          8,
          23,
          5,
          9,
          3,
          0,
          8,
          1,
          7,
          6,
          13,
          4,
          0,
          10,
          3,
          8,
          1,
          8,
          10,
          18,
          7,
          6,
          15,
          4,
          18,
          6,
          3,
          7,
          4,
          4,
          11,
          13,
          7,
          10,
          0,
          15,
          7,
          9,
          30,
          5,
          13,
          5,
          0,
          16,
          8,
          7,
          6,
          10,
          5,
          30,
          6,
          1,
          5,
          5,
          4,
          0,
          5,
          17,
          11,
          21,
          0,
          5,
          6,
          10,
          19,
          7,
          27,
          5,
          11,
          10,
          9,
          9,
          10,
          1,
          0,
          12,
          5,
          17,
          5,
          5,
          5,
          8,
          16,
          5,
          0,
          12,
          18,
          5,
          11,
          2,
          5,
          5,
          5,
          5,
          5,
          6,
          15,
          14,
          15,
          8,
          17,
          4,
          18,
          5,
          5,
          5,
          8,
          5,
          9,
          17,
          5,
          21,
          0,
          18,
          8,
          12,
          6,
          16,
          7,
          6,
          12,
          12,
          14,
          14,
          0,
          7,
          11,
          7,
          4,
          3,
          10,
          5,
          8,
          0,
          8,
          12,
          7,
          7,
          5,
          13,
          0,
          5,
          8,
          10,
          16,
          11,
          10,
          4,
          5,
          10,
          7,
          5,
          5,
          5,
          24,
          6,
          9,
          8,
          0,
          8,
          17,
          18,
          15,
          13,
          7,
          0,
          0,
          10,
          7,
          5,
          13,
          30,
          9,
          8,
          0,
          0,
          7,
          0,
          5,
          3,
          8,
          5,
          6,
          8,
          8,
          15,
          13,
          7,
          4,
          0,
          12,
          2,
          15,
          12,
          9,
          5,
          3,
          1,
          7,
          7,
          18,
          6,
          11,
          22,
          0,
          0,
          4,
          3,
          17,
          6,
          0,
          7,
          6,
          14,
          7,
          30,
          5,
          1,
          10,
          8,
          8,
          6,
          0,
          21,
          4,
          5,
          14,
          14,
          18,
          0,
          5,
          1,
          6,
          4,
          0,
          5,
          0,
          5,
          10,
          5,
          8,
          17,
          6,
          11,
          6,
          12,
          5,
          10,
          11,
          5,
          8,
          5,
          5,
          11,
          9,
          13,
          31,
          14,
          7,
          15,
          7,
          17,
          14,
          21,
          4,
          19,
          0,
          6,
          9,
          5,
          13,
          6,
          5,
          7,
          18,
          5,
          5,
          9,
          15,
          10,
          0,
          9,
          25,
          7,
          0,
          14,
          5,
          10,
          6,
          10,
          10,
          5,
          30,
          5,
          13,
          3,
          4,
          0,
          28,
          10,
          13,
          18,
          7,
          5,
          7,
          31,
          10,
          5,
          4,
          22,
          5,
          6,
          6,
          10,
          15,
          7,
          5,
          18,
          9,
          9,
          5,
          1,
          13,
          15,
          9,
          0,
          18,
          9,
          5,
          5,
          1,
          14,
          9,
          10,
          2,
          14,
          13,
          12,
          5,
          4,
          7,
          18,
          5,
          6,
          5,
          5,
          0,
          9,
          9,
          4,
          7,
          16,
          4,
          29,
          18,
          7,
          12,
          9,
          23,
          10,
          5,
          18,
          17,
          1,
          0,
          29,
          28,
          5,
          6,
          9,
          5,
          10,
          3,
          11,
          0,
          13,
          9,
          0,
          0,
          19,
          0,
          10,
          1,
          14,
          15,
          6,
          0,
          12,
          0,
          9,
          8,
          11,
          5,
          6,
          15,
          30,
          8,
          3,
          3,
          5,
          5,
          23,
          8,
          5,
          12,
          8,
          23,
          20,
          12,
          7,
          11,
          5,
          4,
          18,
          18,
          16,
          13,
          6,
          5,
          12,
          5,
          1,
          3,
          4,
          5,
          9,
          7,
          9,
          5,
          15,
          5,
          5,
          7,
          14,
          20,
          15,
          10,
          5,
          0,
          5,
          5,
          11,
          2,
          11,
          9,
          7,
          11,
          6,
          5,
          7,
          5,
          7,
          0,
          3,
          4,
          5,
          6,
          5,
          3,
          1,
          21,
          9,
          9,
          4,
          30,
          21,
          15,
          0,
          5,
          15,
          5,
          17,
          5,
          10,
          9,
          6,
          6,
          7,
          8,
          5,
          14,
          30,
          15,
          3,
          18,
          0,
          20,
          15,
          0,
          7,
          0,
          1,
          0,
          3,
          7,
          10,
          17,
          5,
          5,
          5,
          2,
          0,
          7,
          8,
          13,
          5,
          4,
          6,
          10,
          5,
          16,
          4,
          6,
          18,
          4,
          5,
          2,
          9,
          5,
          17,
          7,
          11,
          13,
          5,
          11,
          2,
          5,
          7,
          4,
          1,
          3,
          11,
          6,
          6,
          7,
          20,
          0,
          1,
          8,
          8,
          10,
          5,
          0,
          6,
          13,
          4,
          5,
          5,
          7,
          7,
          14,
          12,
          0,
          6,
          5,
          4,
          14,
          5,
          6,
          8,
          17,
          5,
          6,
          5,
          12,
          5,
          0,
          10,
          5,
          14,
          5,
          6,
          5,
          11,
          5,
          5,
          8,
          15,
          8,
          9,
          7,
          7,
          0,
          14,
          0,
          3,
          13,
          6,
          10,
          5,
          15,
          5,
          16,
          12,
          5,
          30,
          14,
          7,
          5,
          10,
          17,
          11,
          9,
          0,
          13,
          10,
          4,
          7,
          5,
          6,
          5,
          6,
          6,
          0,
          5,
          4,
          6,
          4,
          18,
          13,
          14,
          18,
          5,
          10,
          5,
          9,
          6,
          14,
          0,
          5,
          5,
          17,
          5,
          15,
          18,
          13,
          17,
          16,
          10,
          5,
          15,
          15,
          9,
          10,
          15,
          15,
          16,
          11,
          13,
          15,
          10,
          6,
          12,
          5,
          5,
          5,
          19,
          7,
          14,
          6,
          18,
          5,
          2,
          2,
          4,
          11,
          11,
          6,
          10,
          5,
          4,
          5,
          0,
          7,
          5,
          13,
          6,
          4,
          11,
          3,
          11,
          9,
          5,
          8,
          5,
          18,
          8,
          7,
          19,
          4,
          5,
          7,
          5,
          9,
          7,
          13,
          10,
          11,
          5,
          22,
          0,
          9,
          5,
          17,
          10,
          13,
          0,
          0,
          1,
          23,
          12,
          14,
          16,
          5,
          11,
          19,
          30,
          6,
          0,
          14,
          18,
          2,
          20,
          7,
          13,
          5,
          14,
          11,
          5,
          4,
          6,
          7,
          16,
          0,
          6,
          4,
          5,
          0,
          11,
          5,
          12,
          12,
          9,
          5,
          16,
          6,
          11,
          9,
          7,
          5,
          5,
          24,
          15,
          10,
          11,
          10,
          1,
          3,
          15,
          5,
          16,
          17,
          9,
          8,
          17,
          4,
          5,
          5,
          5,
          4,
          8,
          7,
          18,
          6,
          8,
          6,
          8,
          4,
          6,
          5,
          17,
          5,
          8,
          5,
          10,
          8,
          7,
          4,
          0,
          8,
          11,
          4,
          5,
          7,
          8,
          13,
          5,
          5,
          9,
          13,
          0,
          22,
          0,
          6,
          4,
          0,
          0,
          6,
          3,
          5,
          9,
          15,
          12,
          7,
          2,
          11,
          5,
          14,
          3,
          0,
          5,
          0,
          6,
          13,
          15,
          5,
          5,
          0,
          1,
          15,
          0,
          0,
          13,
          5,
          10,
          10,
          12,
          6,
          5,
          9,
          4,
          0,
          10,
          21,
          9,
          7,
          12,
          0,
          0,
          10,
          9,
          0,
          2,
          0,
          30,
          5,
          5,
          5,
          5,
          17,
          8,
          8,
          5,
          0,
          5,
          6,
          0,
          9,
          13,
          12,
          6,
          0,
          5,
          9,
          20,
          4,
          7,
          15,
          5,
          7,
          4,
          11,
          0,
          6,
          5,
          19,
          6,
          0,
          0,
          4,
          11,
          5,
          4,
          5,
          5,
          4,
          0,
          17,
          13,
          0,
          5,
          6,
          10,
          6,
          8,
          6,
          0,
          8,
          0,
          0,
          14,
          10,
          0,
          4,
          6,
          8,
          5,
          8,
          6,
          18,
          8,
          2,
          5,
          10,
          4,
          19,
          8,
          24,
          9,
          4,
          16,
          8,
          4,
          5,
          9,
          10,
          13,
          13,
          11,
          6,
          5,
          5,
          5,
          8,
          5,
          7,
          9,
          0,
          13,
          1,
          5,
          30,
          0,
          6,
          4,
          5,
          7,
          5,
          0,
          4,
          6,
          8,
          0,
          5,
          11,
          0,
          4,
          13,
          5,
          10,
          0,
          7,
          9,
          11,
          6,
          9,
          23,
          8,
          5,
          5,
          6,
          6,
          21,
          10,
          4,
          5,
          30,
          10,
          13,
          11,
          0,
          0,
          21,
          8,
          5,
          5,
          12,
          13,
          5,
          5,
          5,
          8,
          18,
          5,
          5,
          7,
          10,
          5,
          7,
          11,
          0,
          20,
          15,
          6,
          2,
          0,
          20,
          21,
          18,
          21,
          19,
          5,
          5,
          7,
          5,
          5,
          5,
          0,
          5,
          12,
          7,
          2,
          3,
          6,
          5,
          21,
          7,
          5,
          5,
          0,
          5,
          5,
          0,
          10,
          5,
          5,
          13,
          6,
          6,
          7,
          6,
          9,
          1,
          5,
          5,
          5,
          5,
          5,
          6,
          5,
          8,
          10,
          5,
          16,
          9,
          9,
          8,
          15,
          5,
          7,
          15,
          5,
          7,
          2,
          5,
          16,
          5,
          8,
          5,
          8,
          16,
          3,
          14,
          7,
          30,
          6,
          5,
          7,
          8,
          8,
          5,
          10,
          14,
          5,
          14,
          5,
          10,
          15,
          9,
          5,
          9,
          7,
          10,
          10,
          3,
          0,
          6,
          12,
          5,
          11,
          0,
          10,
          5,
          5,
          14,
          12,
          5,
          5,
          7,
          13,
          6,
          8,
          30,
          4,
          5,
          24,
          14,
          6,
          6,
          0,
          0,
          5,
          22,
          23,
          20,
          13,
          8,
          9,
          7,
          5,
          8,
          13,
          6,
          19,
          0,
          0,
          5,
          11,
          9,
          5,
          9,
          5,
          7,
          15,
          11,
          16,
          9,
          16,
          12,
          3,
          8,
          17,
          5,
          12,
          7,
          10,
          15,
          24,
          0,
          11,
          8,
          5,
          16,
          4,
          5,
          5,
          0,
          8,
          12,
          11,
          11,
          5,
          4,
          10,
          5,
          16,
          9,
          0,
          3,
          5,
          5,
          7,
          6,
          6,
          6,
          10,
          14,
          8,
          5,
          11,
          16,
          6,
          0,
          5,
          5,
          5,
          9,
          5,
          10,
          5,
          5,
          9,
          5,
          0,
          5,
          5,
          0,
          5,
          11,
          5,
          5,
          7,
          17,
          10,
          21,
          5,
          1,
          5,
          18,
          5,
          8,
          7,
          5,
          18,
          30,
          16,
          8,
          5,
          5,
          5,
          4,
          11,
          12,
          5,
          10,
          11,
          9,
          5,
          10,
          10,
          6,
          0,
          31,
          10,
          4,
          6,
          3,
          15,
          17,
          6,
          10,
          19,
          10,
          2,
          31,
          5,
          7,
          4,
          12,
          5,
          12,
          10,
          5,
          7,
          8,
          2,
          5,
          5,
          2,
          3,
          5,
          6,
          17,
          6,
          12,
          5,
          9,
          5,
          19,
          7,
          6,
          4,
          6,
          6,
          4,
          5,
          10,
          13,
          10,
          5,
          5,
          5,
          5,
          7,
          8,
          5,
          7,
          5,
          6,
          15,
          7,
          0,
          1,
          6,
          5,
          6,
          15,
          14,
          1,
          15,
          6,
          10,
          8,
          12,
          5,
          15,
          0,
          12,
          6,
          14,
          0,
          2,
          12,
          1,
          9,
          14,
          5,
          5,
          29,
          10,
          13,
          6,
          1,
          6,
          5,
          11,
          9,
          10,
          15,
          10,
          5,
          17,
          14,
          6,
          12,
          24,
          24,
          9,
          5,
          18,
          10,
          8,
          26,
          5,
          9,
          4,
          0,
          19,
          10,
          0,
          19,
          9,
          5,
          12,
          0,
          0,
          6,
          10,
          11,
          7,
          12,
          5,
          14,
          5,
          13,
          6,
          0,
          0,
          14,
          12,
          12,
          13,
          1,
          20,
          0,
          16,
          20,
          17,
          11,
          10,
          7,
          4,
          5
         ],
         "y": [
          0,
          0,
          400000,
          120000,
          0,
          0,
          410000,
          0,
          250000,
          150000,
          0,
          0,
          200000,
          200000,
          180000,
          0,
          200000,
          140000,
          0,
          0,
          120000,
          0,
          0,
          0,
          150000,
          300000,
          0,
          250000,
          0,
          0,
          0,
          0,
          0,
          0,
          200000,
          0,
          0,
          90000,
          150000,
          0,
          200000,
          0,
          300000,
          0,
          0,
          0,
          1000,
          0,
          120000,
          0,
          0,
          500000,
          0,
          200000,
          0,
          0,
          200000,
          0,
          0,
          0,
          250000,
          0,
          250000,
          0,
          300000,
          250000,
          200000,
          300000,
          200000,
          0,
          140000,
          0,
          200000,
          450000,
          0,
          0,
          600000,
          250000,
          180000,
          0,
          120000,
          150000,
          0,
          170000,
          300000,
          0,
          150000,
          350000,
          500000,
          0,
          0,
          0,
          150000,
          250000,
          140000,
          0,
          0,
          0,
          0,
          0,
          0,
          170000,
          0,
          0,
          0,
          150000,
          130000,
          120000,
          15000,
          120000,
          0,
          0,
          0,
          120000,
          150000,
          150000,
          200000,
          300000,
          0,
          100000,
          200000,
          0,
          0,
          150000,
          200000,
          95000,
          0,
          120000,
          0,
          150000,
          250000,
          150000,
          0,
          240000,
          400000,
          0,
          0,
          100000,
          0,
          90000,
          0,
          0,
          150000,
          0,
          0,
          0,
          200000,
          2000,
          150000,
          250000,
          0,
          200000,
          150000,
          0,
          0,
          0,
          250000,
          0,
          0,
          80000,
          0,
          0,
          150000,
          120000,
          130000,
          300000,
          0,
          0,
          0,
          0,
          200000,
          2000,
          120000,
          150000,
          0,
          0,
          150000,
          35000,
          300000,
          200000,
          0,
          200000,
          150000,
          0,
          0,
          250000,
          0,
          200000,
          200000,
          0,
          150000,
          0,
          300000,
          0,
          30000,
          0,
          0,
          0,
          0,
          0,
          200000,
          0,
          0,
          250000,
          0,
          200000,
          0,
          200000,
          0,
          0,
          300000,
          500000,
          0,
          0,
          180000,
          0,
          0,
          220000,
          0,
          0,
          0,
          250000,
          0,
          0,
          180000,
          0,
          0,
          200000,
          0,
          0,
          0,
          0,
          0,
          90000,
          0,
          200000,
          0,
          0,
          120000,
          150000,
          100000,
          200000,
          0,
          0,
          0,
          120000,
          0,
          0,
          300000,
          0,
          0,
          100000,
          0,
          200000,
          0,
          0,
          150000,
          0,
          0,
          300000,
          70000,
          500000,
          90000,
          90000,
          180000,
          180000,
          200000,
          0,
          110000,
          75000,
          0,
          0,
          0,
          250000,
          100000,
          0,
          115000,
          150000,
          200000,
          260000,
          0,
          0,
          100000,
          250000,
          0,
          0,
          0,
          0,
          0,
          0,
          100000,
          0,
          0,
          0,
          0,
          0,
          0,
          3000,
          0,
          0,
          70000,
          0,
          0,
          0,
          0,
          100000,
          250000,
          150000,
          200000,
          120000,
          300000,
          90000,
          40000,
          0,
          150000,
          0,
          120000,
          90000,
          0,
          100000,
          195167,
          0,
          0,
          0,
          0,
          0,
          90000,
          143000,
          100000,
          150000,
          40000,
          0,
          0,
          0,
          0,
          120000,
          200000,
          0,
          0,
          0,
          0,
          160000,
          0,
          0,
          300000,
          0,
          0,
          110000,
          0,
          0,
          170000,
          0,
          0,
          150000,
          150000,
          200000,
          0,
          0,
          0,
          150000,
          186000,
          120000,
          0,
          80000,
          180000,
          120000,
          0,
          140000,
          150000,
          0,
          150000,
          80000,
          0,
          150000,
          120000,
          0,
          0,
          0,
          0,
          0,
          0,
          0,
          0,
          0,
          150000,
          0,
          0,
          0,
          200000,
          0,
          150000,
          150000,
          200000,
          200000,
          0,
          160000,
          0,
          0,
          130000,
          80000,
          80000,
          0,
          0,
          160000,
          0,
          148500,
          200000,
          300000,
          80000,
          0,
          0,
          0,
          150000,
          60000,
          0,
          0,
          0,
          0,
          230000,
          0,
          0,
          0,
          0,
          350000,
          0,
          0,
          1500,
          130000,
          120000,
          0,
          600000,
          200000,
          0,
          0,
          0,
          0,
          500000,
          0,
          200000,
          0,
          200000,
          150000,
          300000,
          160000,
          0,
          180000,
          0,
          0,
          150000,
          250000,
          0,
          0,
          0,
          600000,
          800000,
          300000,
          0,
          0,
          250000,
          150000,
          400000,
          150000,
          0,
          150000,
          0,
          75000,
          0,
          150000,
          0,
          150000,
          0,
          70000,
          0,
          80000,
          0,
          80000,
          150000,
          0,
          160000,
          0,
          0,
          120000,
          0,
          100000,
          250000,
          0,
          0,
          0,
          120000,
          0,
          0,
          0,
          0,
          0,
          0,
          0,
          0,
          0,
          150000,
          0,
          150000,
          0,
          0,
          130000,
          150000,
          700000,
          0,
          130000,
          0,
          130000,
          0,
          0,
          0,
          0,
          0,
          0,
          0,
          0,
          300000,
          65000,
          0,
          0,
          0,
          50000,
          0,
          60000,
          180000,
          250000,
          130000,
          0,
          100000,
          0,
          120000,
          0,
          0,
          0,
          0,
          0,
          0,
          55000,
          0,
          0,
          150000,
          0,
          0,
          120000,
          65000,
          150000,
          300000,
          90000,
          120000,
          300000,
          0,
          0,
          0,
          0,
          100000,
          0,
          80000,
          300000,
          0,
          100000,
          50000,
          0,
          0,
          0,
          90000,
          0,
          100000,
          0,
          0,
          0,
          220000,
          63000,
          0,
          150000,
          0,
          0,
          0,
          250000,
          150000,
          150000,
          100000,
          100000,
          80000,
          0,
          0,
          100000,
          200000,
          300000,
          0,
          0,
          250000,
          200000,
          0,
          200000,
          0,
          0,
          0,
          0,
          0,
          0,
          120000,
          0,
          150000,
          0,
          0,
          0,
          0,
          0,
          150000,
          150000,
          0,
          150000,
          500000,
          0,
          0,
          100000,
          50000,
          220000,
          0,
          0,
          0,
          105000,
          60000,
          70000,
          0,
          200000,
          60000,
          200000,
          200000,
          250000,
          0,
          100000,
          100000,
          40000,
          0,
          0,
          140000,
          150000,
          0,
          250000,
          0,
          0,
          120000,
          0,
          0,
          700000,
          200000,
          0,
          60000,
          80000,
          150000,
          100000,
          0,
          150000,
          150000,
          0,
          0,
          0,
          0,
          80000,
          0,
          0,
          100000,
          0,
          400000,
          100000,
          90000,
          91954,
          150000,
          0,
          180000,
          120000,
          0,
          0,
          0,
          100000,
          0,
          0,
          0,
          100000,
          150000,
          40000,
          0,
          120000,
          0,
          0,
          90000,
          0,
          0,
          0,
          0,
          0,
          400000,
          0,
          200000,
          60000,
          0,
          150000,
          120000,
          0,
          0,
          4500,
          0,
          0,
          5000,
          87000,
          120000,
          0,
          50000,
          0,
          88000,
          0,
          0,
          100000,
          200000,
          0,
          0,
          150000,
          0,
          120000,
          0,
          0,
          0,
          0,
          0,
          180000,
          0,
          0,
          0,
          0,
          0,
          35000,
          80000,
          0,
          80000,
          70000,
          0,
          0,
          90000,
          0,
          90000,
          0,
          70000,
          0,
          130000,
          0,
          150000,
          0,
          90000,
          130000,
          40000,
          0,
          0,
          150000,
          0,
          120000,
          150000,
          0,
          0,
          0,
          0,
          0,
          0,
          0,
          0,
          0,
          1500,
          0,
          0,
          0,
          80000,
          0,
          35000,
          0,
          90000,
          500000,
          112000,
          100000,
          0,
          60000,
          120000,
          120000,
          100000,
          60000,
          0,
          80000,
          0,
          240000,
          150000,
          0,
          0,
          0,
          0,
          0,
          0,
          0,
          0,
          80000,
          0,
          92000,
          0,
          0,
          0,
          0,
          50000,
          100000,
          0,
          0,
          150000,
          0,
          80000,
          150000,
          250000,
          120000,
          85000,
          0,
          90000,
          0,
          160000,
          160000,
          350000,
          120000,
          90000,
          0,
          120000,
          180000,
          70000,
          0,
          240000,
          0,
          90000,
          60000,
          0,
          0,
          70000,
          200000,
          0,
          100000,
          0,
          120000,
          0,
          0,
          60000,
          0,
          0,
          55000,
          120000,
          58300,
          0,
          0,
          55000,
          0,
          180000,
          200000,
          0,
          0,
          200000,
          0,
          150000,
          300000,
          120000,
          0,
          180000,
          230000,
          80000,
          130000,
          0,
          70000,
          0,
          100000,
          0,
          300000,
          0,
          40000,
          0,
          80000,
          0,
          150000,
          0,
          0,
          130000,
          0,
          0,
          0,
          0,
          150000,
          0,
          0,
          70000,
          200000,
          115000,
          0,
          200000,
          0,
          0,
          0,
          60000,
          0,
          0,
          0,
          300000,
          0,
          180000,
          60000,
          0,
          120000,
          80000,
          80000,
          300000,
          0,
          150000,
          0,
          300000,
          100000,
          0,
          150000,
          0,
          320000,
          220000,
          30000,
          100000,
          0,
          0,
          100000,
          120000,
          0,
          150000,
          200000,
          100000,
          0,
          0,
          300000,
          0,
          0,
          220000,
          150000,
          0,
          120000,
          0,
          200000,
          0,
          0,
          300000,
          0,
          200000,
          600000,
          0,
          0,
          200000,
          70000,
          170000,
          100000,
          45000,
          200000,
          100000,
          140000,
          0,
          0,
          300000,
          120000,
          0,
          92000,
          55000,
          0,
          200000,
          0,
          50000,
          75000,
          250000,
          150000,
          0,
          75000,
          300000,
          0,
          0,
          70000,
          4000,
          0,
          50000,
          180000,
          80000,
          150000,
          500000,
          80000,
          180000,
          300000,
          0,
          0,
          350000,
          0,
          5000,
          45000,
          0,
          120000,
          0,
          300000,
          250000,
          250000,
          80000,
          120000,
          0,
          100000,
          0,
          0,
          0,
          0,
          4000,
          0,
          0,
          10000,
          120000,
          120000,
          90000,
          400000,
          0,
          130000,
          100000,
          35000,
          0,
          0,
          40500,
          0,
          0,
          0,
          0,
          40000,
          20000,
          0,
          0,
          0,
          65000,
          0,
          0,
          0,
          0,
          150000,
          0,
          0,
          80000,
          160000,
          0,
          200000,
          60000,
          0,
          110000,
          110000,
          150000,
          0,
          190000,
          70000,
          0,
          150000,
          0,
          0,
          0,
          150000,
          250000,
          150000,
          70000,
          0,
          65000,
          0,
          0,
          0,
          120000,
          0,
          0,
          0,
          150000,
          0,
          130000,
          0,
          50000,
          0,
          0,
          0,
          0,
          0,
          180000,
          60000,
          0,
          0,
          130000,
          0,
          0,
          65000,
          250000,
          0,
          60000,
          55000,
          0,
          100000,
          0,
          0,
          0,
          0,
          45000,
          100000,
          0,
          100000,
          0,
          40000,
          0,
          0,
          0,
          150000,
          100000,
          0,
          120000,
          0,
          0,
          60000,
          0,
          0,
          1500,
          0,
          120000,
          0,
          0,
          200000,
          0,
          0,
          0,
          0,
          0,
          0,
          0,
          150000,
          0,
          45000,
          0,
          450000,
          0,
          200000,
          0,
          80000,
          120000,
          120000,
          80000,
          100000,
          0,
          380000,
          0,
          60000,
          60000,
          0,
          0,
          210000,
          120000,
          110000,
          55000,
          0,
          220000,
          0,
          0,
          0,
          150000,
          0,
          100000,
          0,
          80000,
          120000,
          0,
          180000,
          75000,
          0,
          0,
          120000,
          0,
          120000,
          250000,
          0,
          0,
          0,
          0,
          0,
          0,
          0,
          0,
          0,
          80000,
          300000,
          40000,
          0,
          0,
          160000,
          50000,
          100000,
          0,
          0,
          0,
          70000,
          100000,
          500000,
          80000,
          0,
          300000,
          270000,
          0,
          0,
          250000,
          0,
          0,
          0,
          0,
          0,
          0,
          130000,
          25000,
          0,
          15000,
          140000,
          0,
          0,
          70000,
          150000,
          150000,
          0,
          80000,
          0,
          0,
          0,
          0,
          150000,
          180000,
          0,
          0,
          0,
          0,
          300000,
          0,
          40000,
          100000,
          0,
          0,
          0,
          40000,
          150000,
          0,
          0,
          500000,
          60000,
          50000,
          0,
          0,
          0,
          0,
          120000,
          150000,
          0,
          0,
          80000,
          250000,
          0,
          0,
          250000,
          0,
          0,
          0,
          200000,
          0,
          80000,
          200000,
          150000,
          120000,
          200000,
          0,
          140000,
          122800,
          0,
          0,
          200000,
          0,
          0,
          50000,
          180000,
          40000,
          80000,
          0,
          0,
          0,
          0,
          0,
          0,
          0,
          0,
          0,
          150000,
          0,
          0,
          150000,
          300000,
          200000,
          0,
          0,
          0,
          80000,
          0,
          0,
          40000,
          200000,
          80000,
          150000,
          70000,
          80000,
          200000,
          150000,
          0,
          55000,
          0,
          0,
          40000,
          110000,
          40000,
          72000,
          0,
          90000,
          0,
          0,
          0,
          0,
          0,
          90000,
          0,
          150000,
          0,
          0,
          120000,
          120000,
          100000,
          300000,
          200000,
          0,
          40000,
          400000,
          45000,
          200000,
          350000,
          80000,
          150000,
          0,
          70000,
          80000,
          180000,
          0,
          80000,
          250000,
          0,
          0,
          0,
          120000,
          0,
          0,
          0,
          120000,
          70000,
          120000,
          0,
          72000,
          70000,
          300000,
          0,
          0,
          350000,
          200000,
          120000,
          0,
          95000,
          80000,
          100000,
          200000,
          60000,
          140000,
          80000,
          0,
          100000,
          80000,
          70000,
          250000,
          0,
          80000,
          80000,
          0,
          4200,
          170000,
          60000,
          120000,
          90000,
          120000,
          160000,
          0,
          0,
          0,
          0,
          170000,
          0,
          0,
          160000,
          0,
          0,
          150000,
          200000,
          140000,
          88600,
          1500,
          300000,
          0,
          180000,
          120000,
          0,
          80000,
          250000,
          0,
          75000,
          0,
          270000,
          0,
          60000,
          0,
          0,
          200000,
          80000,
          0,
          0,
          260000,
          750000,
          0,
          0,
          150000,
          25000,
          0,
          0,
          300000,
          0,
          0,
          65000,
          90000,
          0,
          100000,
          0,
          0,
          0,
          0,
          200000,
          64000,
          0,
          150000,
          120000,
          0,
          73080,
          290000,
          0,
          0,
          0,
          0,
          120000,
          0,
          125000,
          0,
          0,
          250000,
          110000,
          150000,
          0,
          0,
          0,
          0,
          0,
          0,
          0,
          85000,
          0,
          150000,
          0,
          300000,
          0,
          60000,
          0,
          0,
          130000,
          0,
          60000,
          0,
          60000,
          170000,
          0,
          0,
          0,
          120000,
          0,
          100000,
          0,
          0,
          0,
          0,
          0,
          0,
          0,
          0,
          60000,
          250000,
          7000,
          0,
          0,
          180000,
          0,
          0,
          0,
          0,
          0,
          150000,
          30000,
          0,
          0,
          0,
          0,
          0,
          0,
          0,
          500000,
          90000,
          0,
          0,
          0,
          0,
          0,
          80000,
          0,
          40000,
          0,
          0,
          500000,
          170000,
          0,
          25000,
          0,
          50000,
          300000,
          249000,
          80000,
          60000,
          0,
          0,
          0,
          120000,
          60000,
          0,
          0,
          400000,
          150000,
          0,
          0,
          0,
          0,
          0,
          0,
          0,
          100000,
          300000,
          250000,
          0,
          70000,
          0,
          0,
          0,
          0,
          0,
          3000,
          0,
          0,
          0,
          0,
          80000,
          0,
          0,
          0,
          90000,
          350000,
          200000,
          0,
          130000,
          0,
          0,
          75000,
          0,
          64000,
          120000,
          150000,
          120000,
          120000,
          0,
          110000,
          400000,
          90000,
          0,
          150000,
          0,
          0,
          0,
          110000,
          0,
          0,
          160000,
          0,
          0,
          0,
          0,
          0,
          0,
          100000,
          90000,
          0,
          0,
          0,
          0,
          80000,
          0,
          500000,
          90000,
          500000,
          0,
          0,
          90000,
          400000,
          0,
          400000,
          0,
          105000,
          150000,
          0,
          180000,
          500000,
          100000,
          60000,
          85000,
          0,
          220000,
          35000,
          120000,
          0,
          0,
          90000,
          70000,
          0,
          0,
          0,
          100000,
          0,
          0,
          180000,
          0,
          60000,
          20000,
          0,
          0,
          150000,
          100000,
          0,
          0,
          0,
          150000,
          120000,
          4500,
          350000,
          0,
          0,
          500000,
          0,
          650000,
          400000,
          0,
          350000,
          0,
          400000,
          0,
          0,
          300000,
          0,
          300000,
          0,
          0,
          180000,
          650000,
          0,
          0,
          0,
          0,
          0,
          200000,
          0,
          200000,
          0,
          200000,
          0,
          0,
          0,
          0,
          400000,
          120000,
          0,
          0,
          250000,
          100000,
          0,
          0,
          0,
          0
         ]
        },
        {
         "name": "from",
         "type": "bar",
         "x": [
          5,
          5,
          12,
          9,
          0,
          0,
          28,
          5,
          19,
          13,
          11,
          9,
          19,
          12,
          0,
          8,
          21,
          9,
          5,
          7,
          11,
          5,
          4,
          13,
          6,
          7,
          15,
          8,
          0,
          5,
          8,
          10,
          0,
          14,
          5,
          0,
          26,
          24,
          5,
          0,
          7,
          7,
          22,
          5,
          7,
          6,
          14,
          3,
          0,
          18,
          18,
          26,
          8,
          18,
          11,
          6,
          12,
          20,
          8,
          0,
          18,
          6,
          23,
          16,
          18,
          6,
          10,
          7,
          10,
          5,
          8,
          0,
          5,
          0,
          5,
          9,
          15,
          17,
          14,
          5,
          2,
          0,
          8,
          16,
          12,
          17,
          9,
          5,
          0,
          0,
          8,
          7,
          20,
          11,
          0,
          0,
          5,
          0,
          4,
          8,
          6,
          25,
          5,
          12,
          7,
          7,
          5,
          5,
          29,
          8,
          5,
          16,
          7,
          5,
          15,
          10,
          8,
          18,
          8,
          14,
          5,
          0,
          5,
          6,
          20,
          0,
          0,
          11,
          6,
          15,
          30,
          7,
          4,
          10,
          12,
          8,
          12,
          4,
          5,
          13,
          1,
          20,
          5,
          14,
          2,
          10,
          5,
          9,
          8,
          10,
          11,
          5,
          6,
          8,
          25,
          11,
          12,
          20,
          14,
          10,
          10,
          5,
          5,
          11,
          14,
          6,
          5,
          12,
          7,
          9,
          6,
          6,
          5,
          7,
          6,
          9,
          11,
          7,
          5,
          5,
          5,
          8,
          16,
          9,
          0,
          5,
          5,
          5,
          12,
          5,
          7,
          4,
          10,
          4,
          11,
          29,
          12,
          6,
          10,
          5,
          1,
          12,
          8,
          5,
          6,
          5,
          5,
          0,
          25,
          8,
          5,
          10,
          5,
          14,
          9,
          9,
          0,
          9,
          5,
          15,
          17,
          13,
          6,
          3,
          18,
          5,
          9,
          5,
          4,
          2,
          5,
          5,
          0,
          4,
          20,
          5,
          5,
          5,
          11,
          16,
          5,
          5,
          19,
          5,
          11,
          15,
          20,
          3,
          0,
          4,
          4,
          14,
          4,
          5,
          30,
          5,
          5,
          5,
          5,
          13,
          6,
          5,
          7,
          5,
          12,
          14,
          8,
          5,
          6,
          12,
          0,
          8,
          12,
          6,
          4,
          7,
          13,
          10,
          16,
          8,
          5,
          10,
          5,
          17,
          5,
          5,
          19,
          15,
          18,
          5,
          18,
          20,
          5,
          16,
          0,
          18,
          13,
          16,
          5,
          11,
          22,
          12,
          6,
          16,
          5,
          17,
          8,
          23,
          5,
          9,
          3,
          0,
          8,
          1,
          7,
          6,
          13,
          4,
          0,
          10,
          3,
          8,
          1,
          8,
          10,
          18,
          7,
          6,
          15,
          4,
          18,
          6,
          3,
          7,
          4,
          4,
          11,
          13,
          7,
          10,
          0,
          15,
          7,
          9,
          30,
          5,
          13,
          5,
          0,
          16,
          8,
          7,
          6,
          10,
          5,
          30,
          6,
          1,
          5,
          5,
          4,
          0,
          5,
          17,
          11,
          21,
          0,
          5,
          6,
          10,
          19,
          7,
          27,
          5,
          11,
          10,
          9,
          9,
          10,
          1,
          0,
          12,
          5,
          17,
          5,
          5,
          5,
          8,
          16,
          5,
          0,
          12,
          18,
          5,
          11,
          2,
          5,
          5,
          5,
          5,
          5,
          6,
          15,
          14,
          15,
          8,
          17,
          4,
          18,
          5,
          5,
          5,
          8,
          5,
          9,
          17,
          5,
          21,
          0,
          18,
          8,
          12,
          6,
          16,
          7,
          6,
          12,
          12,
          14,
          14,
          0,
          7,
          11,
          7,
          4,
          3,
          10,
          5,
          8,
          0,
          8,
          12,
          7,
          7,
          5,
          13,
          0,
          5,
          8,
          10,
          16,
          11,
          10,
          4,
          5,
          10,
          7,
          5,
          5,
          5,
          24,
          6,
          9,
          8,
          0,
          8,
          17,
          18,
          15,
          13,
          7,
          0,
          0,
          10,
          7,
          5,
          13,
          30,
          9,
          8,
          0,
          0,
          7,
          0,
          5,
          3,
          8,
          5,
          6,
          8,
          8,
          15,
          13,
          7,
          4,
          0,
          12,
          2,
          15,
          12,
          9,
          5,
          3,
          1,
          7,
          7,
          18,
          6,
          11,
          22,
          0,
          0,
          4,
          3,
          17,
          6,
          0,
          7,
          6,
          14,
          7,
          30,
          5,
          1,
          10,
          8,
          8,
          6,
          0,
          21,
          4,
          5,
          14,
          14,
          18,
          0,
          5,
          1,
          6,
          4,
          0,
          5,
          0,
          5,
          10,
          5,
          8,
          17,
          6,
          11,
          6,
          12,
          5,
          10,
          11,
          5,
          8,
          5,
          5,
          11,
          9,
          13,
          31,
          14,
          7,
          15,
          7,
          17,
          14,
          21,
          4,
          19,
          0,
          6,
          9,
          5,
          13,
          6,
          5,
          7,
          18,
          5,
          5,
          9,
          15,
          10,
          0,
          9,
          25,
          7,
          0,
          14,
          5,
          10,
          6,
          10,
          10,
          5,
          30,
          5,
          13,
          3,
          4,
          0,
          28,
          10,
          13,
          18,
          7,
          5,
          7,
          31,
          10,
          5,
          4,
          22,
          5,
          6,
          6,
          10,
          15,
          7,
          5,
          18,
          9,
          9,
          5,
          1,
          13,
          15,
          9,
          0,
          18,
          9,
          5,
          5,
          1,
          14,
          9,
          10,
          2,
          14,
          13,
          12,
          5,
          4,
          7,
          18,
          5,
          6,
          5,
          5,
          0,
          9,
          9,
          4,
          7,
          16,
          4,
          29,
          18,
          7,
          12,
          9,
          23,
          10,
          5,
          18,
          17,
          1,
          0,
          29,
          28,
          5,
          6,
          9,
          5,
          10,
          3,
          11,
          0,
          13,
          9,
          0,
          0,
          19,
          0,
          10,
          1,
          14,
          15,
          6,
          0,
          12,
          0,
          9,
          8,
          11,
          5,
          6,
          15,
          30,
          8,
          3,
          3,
          5,
          5,
          23,
          8,
          5,
          12,
          8,
          23,
          20,
          12,
          7,
          11,
          5,
          4,
          18,
          18,
          16,
          13,
          6,
          5,
          12,
          5,
          1,
          3,
          4,
          5,
          9,
          7,
          9,
          5,
          15,
          5,
          5,
          7,
          14,
          20,
          15,
          10,
          5,
          0,
          5,
          5,
          11,
          2,
          11,
          9,
          7,
          11,
          6,
          5,
          7,
          5,
          7,
          0,
          3,
          4,
          5,
          6,
          5,
          3,
          1,
          21,
          9,
          9,
          4,
          30,
          21,
          15,
          0,
          5,
          15,
          5,
          17,
          5,
          10,
          9,
          6,
          6,
          7,
          8,
          5,
          14,
          30,
          15,
          3,
          18,
          0,
          20,
          15,
          0,
          7,
          0,
          1,
          0,
          3,
          7,
          10,
          17,
          5,
          5,
          5,
          2,
          0,
          7,
          8,
          13,
          5,
          4,
          6,
          10,
          5,
          16,
          4,
          6,
          18,
          4,
          5,
          2,
          9,
          5,
          17,
          7,
          11,
          13,
          5,
          11,
          2,
          5,
          7,
          4,
          1,
          3,
          11,
          6,
          6,
          7,
          20,
          0,
          1,
          8,
          8,
          10,
          5,
          0,
          6,
          13,
          4,
          5,
          5,
          7,
          7,
          14,
          12,
          0,
          6,
          5,
          4,
          14,
          5,
          6,
          8,
          17,
          5,
          6,
          5,
          12,
          5,
          0,
          10,
          5,
          14,
          5,
          6,
          5,
          11,
          5,
          5,
          8,
          15,
          8,
          9,
          7,
          7,
          0,
          14,
          0,
          3,
          13,
          6,
          10,
          5,
          15,
          5,
          16,
          12,
          5,
          30,
          14,
          7,
          5,
          10,
          17,
          11,
          9,
          0,
          13,
          10,
          4,
          7,
          5,
          6,
          5,
          6,
          6,
          0,
          5,
          4,
          6,
          4,
          18,
          13,
          14,
          18,
          5,
          10,
          5,
          9,
          6,
          14,
          0,
          5,
          5,
          17,
          5,
          15,
          18,
          13,
          17,
          16,
          10,
          5,
          15,
          15,
          9,
          10,
          15,
          15,
          16,
          11,
          13,
          15,
          10,
          6,
          12,
          5,
          5,
          5,
          19,
          7,
          14,
          6,
          18,
          5,
          2,
          2,
          4,
          11,
          11,
          6,
          10,
          5,
          4,
          5,
          0,
          7,
          5,
          13,
          6,
          4,
          11,
          3,
          11,
          9,
          5,
          8,
          5,
          18,
          8,
          7,
          19,
          4,
          5,
          7,
          5,
          9,
          7,
          13,
          10,
          11,
          5,
          22,
          0,
          9,
          5,
          17,
          10,
          13,
          0,
          0,
          1,
          23,
          12,
          14,
          16,
          5,
          11,
          19,
          30,
          6,
          0,
          14,
          18,
          2,
          20,
          7,
          13,
          5,
          14,
          11,
          5,
          4,
          6,
          7,
          16,
          0,
          6,
          4,
          5,
          0,
          11,
          5,
          12,
          12,
          9,
          5,
          16,
          6,
          11,
          9,
          7,
          5,
          5,
          24,
          15,
          10,
          11,
          10,
          1,
          3,
          15,
          5,
          16,
          17,
          9,
          8,
          17,
          4,
          5,
          5,
          5,
          4,
          8,
          7,
          18,
          6,
          8,
          6,
          8,
          4,
          6,
          5,
          17,
          5,
          8,
          5,
          10,
          8,
          7,
          4,
          0,
          8,
          11,
          4,
          5,
          7,
          8,
          13,
          5,
          5,
          9,
          13,
          0,
          22,
          0,
          6,
          4,
          0,
          0,
          6,
          3,
          5,
          9,
          15,
          12,
          7,
          2,
          11,
          5,
          14,
          3,
          0,
          5,
          0,
          6,
          13,
          15,
          5,
          5,
          0,
          1,
          15,
          0,
          0,
          13,
          5,
          10,
          10,
          12,
          6,
          5,
          9,
          4,
          0,
          10,
          21,
          9,
          7,
          12,
          0,
          0,
          10,
          9,
          0,
          2,
          0,
          30,
          5,
          5,
          5,
          5,
          17,
          8,
          8,
          5,
          0,
          5,
          6,
          0,
          9,
          13,
          12,
          6,
          0,
          5,
          9,
          20,
          4,
          7,
          15,
          5,
          7,
          4,
          11,
          0,
          6,
          5,
          19,
          6,
          0,
          0,
          4,
          11,
          5,
          4,
          5,
          5,
          4,
          0,
          17,
          13,
          0,
          5,
          6,
          10,
          6,
          8,
          6,
          0,
          8,
          0,
          0,
          14,
          10,
          0,
          4,
          6,
          8,
          5,
          8,
          6,
          18,
          8,
          2,
          5,
          10,
          4,
          19,
          8,
          24,
          9,
          4,
          16,
          8,
          4,
          5,
          9,
          10,
          13,
          13,
          11,
          6,
          5,
          5,
          5,
          8,
          5,
          7,
          9,
          0,
          13,
          1,
          5,
          30,
          0,
          6,
          4,
          5,
          7,
          5,
          0,
          4,
          6,
          8,
          0,
          5,
          11,
          0,
          4,
          13,
          5,
          10,
          0,
          7,
          9,
          11,
          6,
          9,
          23,
          8,
          5,
          5,
          6,
          6,
          21,
          10,
          4,
          5,
          30,
          10,
          13,
          11,
          0,
          0,
          21,
          8,
          5,
          5,
          12,
          13,
          5,
          5,
          5,
          8,
          18,
          5,
          5,
          7,
          10,
          5,
          7,
          11,
          0,
          20,
          15,
          6,
          2,
          0,
          20,
          21,
          18,
          21,
          19,
          5,
          5,
          7,
          5,
          5,
          5,
          0,
          5,
          12,
          7,
          2,
          3,
          6,
          5,
          21,
          7,
          5,
          5,
          0,
          5,
          5,
          0,
          10,
          5,
          5,
          13,
          6,
          6,
          7,
          6,
          9,
          1,
          5,
          5,
          5,
          5,
          5,
          6,
          5,
          8,
          10,
          5,
          16,
          9,
          9,
          8,
          15,
          5,
          7,
          15,
          5,
          7,
          2,
          5,
          16,
          5,
          8,
          5,
          8,
          16,
          3,
          14,
          7,
          30,
          6,
          5,
          7,
          8,
          8,
          5,
          10,
          14,
          5,
          14,
          5,
          10,
          15,
          9,
          5,
          9,
          7,
          10,
          10,
          3,
          0,
          6,
          12,
          5,
          11,
          0,
          10,
          5,
          5,
          14,
          12,
          5,
          5,
          7,
          13,
          6,
          8,
          30,
          4,
          5,
          24,
          14,
          6,
          6,
          0,
          0,
          5,
          22,
          23,
          20,
          13,
          8,
          9,
          7,
          5,
          8,
          13,
          6,
          19,
          0,
          0,
          5,
          11,
          9,
          5,
          9,
          5,
          7,
          15,
          11,
          16,
          9,
          16,
          12,
          3,
          8,
          17,
          5,
          12,
          7,
          10,
          15,
          24,
          0,
          11,
          8,
          5,
          16,
          4,
          5,
          5,
          0,
          8,
          12,
          11,
          11,
          5,
          4,
          10,
          5,
          16,
          9,
          0,
          3,
          5,
          5,
          7,
          6,
          6,
          6,
          10,
          14,
          8,
          5,
          11,
          16,
          6,
          0,
          5,
          5,
          5,
          9,
          5,
          10,
          5,
          5,
          9,
          5,
          0,
          5,
          5,
          0,
          5,
          11,
          5,
          5,
          7,
          17,
          10,
          21,
          5,
          1,
          5,
          18,
          5,
          8,
          7,
          5,
          18,
          30,
          16,
          8,
          5,
          5,
          5,
          4,
          11,
          12,
          5,
          10,
          11,
          9,
          5,
          10,
          10,
          6,
          0,
          31,
          10,
          4,
          6,
          3,
          15,
          17,
          6,
          10,
          19,
          10,
          2,
          31,
          5,
          7,
          4,
          12,
          5,
          12,
          10,
          5,
          7,
          8,
          2,
          5,
          5,
          2,
          3,
          5,
          6,
          17,
          6,
          12,
          5,
          9,
          5,
          19,
          7,
          6,
          4,
          6,
          6,
          4,
          5,
          10,
          13,
          10,
          5,
          5,
          5,
          5,
          7,
          8,
          5,
          7,
          5,
          6,
          15,
          7,
          0,
          1,
          6,
          5,
          6,
          15,
          14,
          1,
          15,
          6,
          10,
          8,
          12,
          5,
          15,
          0,
          12,
          6,
          14,
          0,
          2,
          12,
          1,
          9,
          14,
          5,
          5,
          29,
          10,
          13,
          6,
          1,
          6,
          5,
          11,
          9,
          10,
          15,
          10,
          5,
          17,
          14,
          6,
          12,
          24,
          24,
          9,
          5,
          18,
          10,
          8,
          26,
          5,
          9,
          4,
          0,
          19,
          10,
          0,
          19,
          9,
          5,
          12,
          0,
          0,
          6,
          10,
          11,
          7,
          12,
          5,
          14,
          5,
          13,
          6,
          0,
          0,
          14,
          12,
          12,
          13,
          1,
          20,
          0,
          16,
          20,
          17,
          11,
          10,
          7,
          4,
          5
         ],
         "y": [
          120000,
          200000,
          200000,
          60000,
          10000,
          300000,
          153000,
          140000,
          150000,
          100000,
          250000,
          100000,
          200000,
          100000,
          150000,
          150000,
          120000,
          100000,
          150000,
          200000,
          80000,
          170000,
          150000,
          150000,
          120000,
          200000,
          200000,
          150000,
          100000,
          150000,
          120000,
          100000,
          150000,
          100000,
          160000,
          120000,
          200000,
          70000,
          80000,
          130000,
          120000,
          250000,
          250000,
          172500,
          120000,
          150000,
          250000,
          100000,
          100000,
          200000,
          200000,
          100000,
          150000,
          150000,
          200000,
          180000,
          130000,
          300000,
          120000,
          170000,
          80000,
          200000,
          120000,
          100000,
          130000,
          150000,
          120000,
          150000,
          100000,
          150000,
          50000,
          150000,
          150000,
          150000,
          200000,
          70000,
          250000,
          100000,
          150000,
          120000,
          80000,
          50000,
          150000,
          100000,
          150000,
          150000,
          100000,
          300000,
          150000,
          200000,
          100000,
          200000,
          50000,
          100000,
          100000,
          100000,
          100000,
          150000,
          130000,
          120000,
          500000,
          150000,
          150000,
          340000,
          200000,
          90000,
          90000,
          100000,
          5000,
          80000,
          150000,
          100000,
          150000,
          100000,
          100000,
          120000,
          100000,
          140000,
          150000,
          80000,
          200000,
          100000,
          150000,
          150000,
          100000,
          85000,
          150000,
          90000,
          87000,
          100000,
          150000,
          100000,
          100000,
          120000,
          150000,
          150000,
          130000,
          75000,
          100000,
          70000,
          130000,
          120000,
          100000,
          300000,
          50000,
          120000,
          120000,
          1500,
          100000,
          80000,
          20000,
          150000,
          120000,
          70000,
          120000,
          80000,
          90000,
          80000,
          80000,
          50000,
          75000,
          200000,
          80000,
          65000,
          85000,
          250000,
          250000,
          100000,
          70000,
          2400,
          100000,
          1500,
          100000,
          100000,
          80000,
          50000,
          100000,
          25000,
          200000,
          35000,
          100000,
          50000,
          120000,
          100000,
          250000,
          150000,
          70000,
          150000,
          180000,
          150000,
          80000,
          300000,
          150000,
          250000,
          20000,
          100000,
          120000,
          300000,
          100000,
          100000,
          200000,
          200000,
          420000,
          150000,
          200000,
          150000,
          420000,
          120000,
          300000,
          80000,
          190000,
          300000,
          250000,
          300000,
          150000,
          200000,
          250000,
          180000,
          180000,
          80000,
          150000,
          150000,
          150000,
          250000,
          90000,
          60000,
          100000,
          120000,
          80000,
          80000,
          150000,
          120000,
          250000,
          60000,
          100000,
          100000,
          150000,
          250000,
          70000,
          100000,
          70000,
          70000,
          160000,
          100000,
          150000,
          80000,
          40000,
          110000,
          200000,
          250000,
          100000,
          65000,
          260000,
          100000,
          250000,
          125000,
          120000,
          250000,
          250000,
          150000,
          50000,
          120000,
          70000,
          70000,
          131000,
          130000,
          100000,
          200000,
          70000,
          60000,
          130000,
          120000,
          150000,
          150000,
          50000,
          180000,
          105000,
          50000,
          120000,
          150000,
          180000,
          115000,
          60000,
          200000,
          100000,
          150000,
          80000,
          150000,
          80000,
          125000,
          70000,
          150000,
          150000,
          100000,
          70000,
          100000,
          60000,
          1000,
          150000,
          70000,
          50000,
          150000,
          70000,
          100000,
          200000,
          70000,
          180000,
          80000,
          80000,
          100000,
          100000,
          70000,
          22000,
          90000,
          80000,
          80000,
          70000,
          80000,
          90000,
          80000,
          141000,
          80000,
          200000,
          90000,
          150000,
          100000,
          60000,
          110000,
          50000,
          15000,
          25000,
          150000,
          200000,
          250000,
          150000,
          120000,
          80000,
          50000,
          190000,
          100000,
          100000,
          120000,
          100000,
          150000,
          150000,
          100000,
          100000,
          70000,
          200000,
          100000,
          100000,
          100000,
          100000,
          100000,
          80000,
          100000,
          200000,
          200000,
          150000,
          120000,
          87000,
          80000,
          100000,
          40000,
          150000,
          75000,
          150000,
          50000,
          100000,
          90000,
          80000,
          50000,
          100000,
          80000,
          80000,
          150000,
          80000,
          4000,
          150000,
          120000,
          55000,
          90000,
          150000,
          150000,
          120000,
          100000,
          140000,
          70000,
          120000,
          200000,
          60000,
          130000,
          100000,
          150000,
          90000,
          120000,
          150000,
          64000,
          110000,
          70000,
          40000,
          110000,
          100000,
          130000,
          75000,
          115500,
          100000,
          180000,
          60000,
          120000,
          150000,
          95000,
          100000,
          40000,
          100000,
          400000,
          700000,
          400000,
          210000,
          300000,
          200000,
          500000,
          200000,
          200000,
          300000,
          150000,
          1000,
          80000,
          100000,
          250000,
          400000,
          120000,
          160000,
          110000,
          250000,
          240000,
          100000,
          250000,
          120000,
          250000,
          150000,
          100000,
          200000,
          120000,
          200000,
          60000,
          100000,
          220000,
          100000,
          100000,
          200000,
          80000,
          300000,
          300000,
          500000,
          200000,
          150000,
          150000,
          90000,
          150000,
          150000,
          90000,
          100000,
          120000,
          120000,
          50000,
          100000,
          70000,
          200000,
          100000,
          100000,
          70000,
          50000,
          50000,
          180000,
          50000,
          100000,
          140000,
          90000,
          70000,
          60000,
          80000,
          80000,
          80000,
          200000,
          50000,
          250000,
          150000,
          100000,
          450000,
          150000,
          300000,
          60000,
          150000,
          90000,
          70000,
          250000,
          200000,
          40000,
          135000,
          100000,
          150000,
          70000,
          75000,
          50000,
          500000,
          120000,
          80000,
          50000,
          90000,
          80000,
          120000,
          150000,
          170000,
          50000,
          120000,
          200000,
          100000,
          200000,
          55000,
          70000,
          45000,
          130000,
          30000,
          90000,
          45000,
          100000,
          160000,
          120000,
          300000,
          70000,
          15000,
          40000,
          80000,
          0,
          70000,
          90000,
          150000,
          95000,
          55000,
          60000,
          80000,
          80000,
          80000,
          40000,
          80000,
          55000,
          100000,
          50000,
          60000,
          100000,
          150000,
          180000,
          35000,
          34000,
          150000,
          60000,
          40000,
          60000,
          100000,
          140000,
          70000,
          20000,
          80000,
          25000,
          120000,
          60000,
          55000,
          40000,
          140000,
          130000,
          40000,
          185000,
          60000,
          270000,
          70000,
          15000,
          300000,
          0,
          100000,
          60000,
          90000,
          60000,
          40000,
          50000,
          120000,
          80000,
          100000,
          50000,
          200000,
          70000,
          100000,
          120000,
          80000,
          90000,
          80000,
          45000,
          140000,
          100000,
          200000,
          50000,
          300000,
          100000,
          90000,
          70000,
          40000,
          60000,
          150000,
          250000,
          70000,
          70000,
          50000,
          35000,
          80000,
          300000,
          80000,
          150000,
          70000,
          30000,
          120000,
          1500,
          70000,
          70000,
          90000,
          40000,
          50000,
          155000,
          150000,
          40000,
          150000,
          80000,
          150000,
          100000,
          70000,
          65000,
          25000,
          100000,
          200000,
          140000,
          80000,
          400000,
          150000,
          120000,
          150000,
          50000,
          250000,
          250000,
          150000,
          60000,
          70000,
          40000,
          50000,
          90000,
          70000,
          200000,
          100000,
          70000,
          150000,
          100000,
          130000,
          150000,
          70000,
          150000,
          20000,
          65000,
          80000,
          300000,
          70000,
          50000,
          80460,
          100000,
          250000,
          100000,
          100000,
          300000,
          100000,
          80000,
          60000,
          150000,
          80000,
          100000,
          40000,
          130000,
          30000,
          100000,
          70000,
          150000,
          300000,
          80000,
          120000,
          80000,
          500000,
          50000,
          80000,
          200000,
          150000,
          80000,
          40000,
          150000,
          70000,
          60000,
          65000,
          80000,
          3000,
          500000,
          100000,
          2000,
          60000,
          60000,
          35000,
          20000,
          70000,
          60000,
          40000,
          20000,
          60000,
          50000,
          200000,
          120000,
          50000,
          90000,
          75000,
          50000,
          80000,
          90000,
          100000,
          120000,
          180000,
          52200,
          80000,
          200000,
          130000,
          50000,
          10000,
          80000,
          100000,
          60000,
          40000,
          50000,
          220000,
          60000,
          140000,
          50000,
          90000,
          50000,
          180000,
          100000,
          200000,
          100000,
          80000,
          40000,
          90000,
          30000,
          150000,
          70000,
          85000,
          115000,
          80000,
          100000,
          70000,
          90000,
          50000,
          50000,
          90000,
          70000,
          70000,
          140000,
          140000,
          300000,
          130000,
          80000,
          140000,
          70000,
          60000,
          30000,
          250000,
          40000,
          150000,
          70000,
          40000,
          120000,
          40000,
          90000,
          77000,
          50000,
          40000,
          65000,
          45000,
          149000,
          90000,
          100000,
          180000,
          15000,
          57000,
          100000,
          100000,
          120000,
          60000,
          45000,
          80000,
          80000,
          69000,
          100000,
          100000,
          1000,
          70000,
          50000,
          80000,
          50000,
          80000,
          60000,
          70000,
          60000,
          70000,
          200000,
          55000,
          70000,
          130000,
          50000,
          150000,
          90000,
          120000,
          200000,
          60000,
          70000,
          100000,
          100000,
          150000,
          50000,
          80000,
          120000,
          70000,
          60000,
          40000,
          120000,
          150000,
          60000,
          150000,
          70000,
          65000,
          200000,
          30000,
          60000,
          150000,
          45000,
          30000,
          0,
          50000,
          65000,
          50000,
          50000,
          50000,
          40000,
          50000,
          100000,
          120000,
          120000,
          200000,
          170000,
          150000,
          100000,
          250000,
          120000,
          60000,
          80000,
          180000,
          50000,
          50000,
          120000,
          50000,
          100000,
          60000,
          250000,
          100000,
          100000,
          20000,
          100000,
          80000,
          150000,
          70000,
          150000,
          180000,
          100000,
          60000,
          220000,
          100000,
          150000,
          100000,
          56000,
          9000,
          50000,
          80000,
          44500,
          100000,
          40000,
          120000,
          70000,
          100000,
          40000,
          150000,
          120000,
          150000,
          80000,
          70000,
          50000,
          20000,
          60000,
          45000,
          55000,
          50000,
          150000,
          150000,
          90000,
          80000,
          200000,
          100000,
          150000,
          80000,
          8000,
          75000,
          100000,
          10000,
          90000,
          90000,
          80000,
          80000,
          50000,
          70000,
          80000,
          80000,
          80000,
          70000,
          120000,
          100000,
          120000,
          120000,
          150000,
          100000,
          150000,
          70000,
          150000,
          120000,
          20000,
          101000,
          110000,
          50000,
          150000,
          200000,
          100000,
          100000,
          150000,
          40000,
          90000,
          70000,
          30000,
          150000,
          60000,
          100000,
          100000,
          150000,
          80000,
          60000,
          100000,
          92000,
          45000,
          30000,
          100000,
          60000,
          50000,
          75000,
          150000,
          50000,
          180000,
          65000,
          100000,
          80000,
          120000,
          50000,
          3000,
          200000,
          40000,
          150000,
          20000,
          80000,
          100000,
          70000,
          120000,
          150000,
          90000,
          60000,
          130000,
          150000,
          3000,
          20000,
          50000,
          80000,
          70000,
          200000,
          150000,
          100000,
          50000,
          70000,
          35000,
          60000,
          110000,
          140000,
          60000,
          150000,
          3000,
          100000,
          90000,
          10000,
          65000,
          70000,
          70000,
          120000,
          80000,
          75000,
          80000,
          15000,
          45000,
          100000,
          15000,
          60000,
          150000,
          70000,
          50000,
          30000,
          14000,
          20000,
          100000,
          25000,
          45000,
          50000,
          33000,
          80000,
          80000,
          82000,
          250000,
          70000,
          40000,
          60000,
          45000,
          170000,
          40000,
          45000,
          60000,
          60000,
          30000,
          120000,
          65000,
          45000,
          200000,
          100000,
          40000,
          4000,
          50000,
          70000,
          70000,
          100000,
          45000,
          220000,
          60000,
          40000,
          50000,
          55000,
          80000,
          100000,
          180000,
          80000,
          100000,
          3000,
          110000,
          120000,
          40000,
          75000,
          3000,
          100000,
          60000,
          70000,
          150000,
          60000,
          80000,
          100000,
          65000,
          200000,
          70000,
          30000,
          150000,
          90000,
          50000,
          30000,
          80000,
          80000,
          350000,
          120000,
          60000,
          80000,
          30000,
          60000,
          100000,
          80000,
          60000,
          40000,
          90000,
          100000,
          80000,
          90000,
          70000,
          150000,
          100000,
          36000,
          200000,
          60000,
          120000,
          200000,
          300000,
          120000,
          75000,
          100000,
          25000,
          100000,
          90000,
          50000,
          80000,
          150000,
          200000,
          110000,
          100000,
          100000,
          150000,
          35000,
          150000,
          300000,
          52000,
          100000,
          92000,
          60000,
          40000,
          60000,
          50000,
          25000,
          90000,
          100000,
          100000,
          60000,
          40000,
          120000,
          60000,
          150000,
          90000,
          80000,
          25000,
          300000,
          150000,
          30000,
          80000,
          150000,
          100000,
          100000,
          50000,
          100000,
          60000,
          100000,
          500000,
          150000,
          65000,
          80000,
          80000,
          60000,
          150000,
          80000,
          150000,
          185000,
          150000,
          100000,
          150000,
          60000,
          200000,
          140000,
          250000,
          150000,
          60000,
          150000,
          25000,
          40000,
          40000,
          100000,
          15000,
          80000,
          200000,
          100000,
          200000,
          50000,
          40000,
          150000,
          40000,
          110000,
          150000,
          200000,
          90000,
          60000,
          150000,
          100000,
          120000,
          120000,
          121800,
          300000,
          45000,
          100000,
          20000,
          50000,
          5000,
          140000,
          70000,
          200000,
          60000,
          40000,
          150000,
          100000,
          60000,
          90000,
          100000,
          45000,
          120000,
          140000,
          120000,
          120000,
          300000,
          1500,
          120000,
          170000,
          200000,
          30000,
          50000,
          200000,
          190000,
          70000,
          30000,
          100000,
          200000,
          3000,
          120000,
          55000,
          45000,
          177000,
          130000,
          80000,
          350000,
          80000,
          100000,
          100000,
          150000,
          65000,
          80000,
          150000,
          180000,
          90000,
          100000,
          60000,
          150000,
          100000,
          180000,
          60000,
          70000,
          60000,
          90000,
          140000,
          140000,
          120000,
          71000,
          70000,
          2500,
          70000,
          200000,
          120000,
          45000,
          100000,
          20000,
          50000,
          50000,
          30000,
          72000,
          100000,
          250000,
          120000,
          25000,
          120000,
          120000,
          70000,
          200000,
          55000,
          70000,
          200000,
          100000,
          30000,
          150000,
          180000,
          70000,
          45000,
          200000,
          40000,
          180000,
          70000,
          120000,
          60000,
          60000,
          100000,
          60000,
          120000,
          50000,
          0,
          120000,
          15000,
          70000,
          30000,
          65000,
          150000,
          10000,
          55000,
          100000,
          47000,
          150000,
          140000,
          50000,
          140000,
          130000,
          100000,
          65000,
          70000,
          80000,
          80000,
          80000,
          150000,
          60000,
          20000,
          300000,
          15000,
          140000,
          250000,
          60000,
          50000,
          350000,
          5000,
          60000,
          50000,
          15000,
          60000,
          90000,
          130000,
          150000,
          60000,
          90000,
          70000,
          100000,
          0,
          90000,
          50000,
          100000,
          100000,
          66000,
          40000,
          150000,
          80000,
          200000,
          150000,
          100000,
          90000,
          80000,
          50000,
          50000,
          60000,
          60000,
          40000,
          30000,
          40000,
          300000,
          80000,
          40000,
          50000,
          100000,
          8000,
          50000,
          60000,
          100000,
          2400,
          80000,
          20000,
          80000,
          45000,
          40000,
          100000,
          100000,
          150000,
          150000,
          150000,
          70000,
          50000,
          170000,
          70000,
          170000,
          100000,
          80000,
          150000,
          100000,
          88600,
          300000,
          150000,
          100000,
          150000,
          50000,
          75000,
          60000,
          150000,
          220000,
          45000,
          60000,
          180000,
          180000,
          30000,
          200000,
          100000,
          110000,
          70000,
          100000,
          65000,
          120000,
          500000,
          80000,
          250000,
          70000,
          15000,
          90000,
          200000,
          100000,
          70000,
          70000,
          40000,
          60000,
          150000,
          80000,
          150000,
          120000,
          100000,
          100000,
          90000,
          32000,
          45000,
          70000,
          60000,
          200000,
          60900,
          200000,
          85000,
          100000,
          80000,
          100000,
          100000,
          60000,
          75000,
          25000,
          250000,
          50000,
          110000,
          100000,
          140000,
          15000,
          140000,
          103448,
          105000,
          200000,
          180000,
          60000,
          100000,
          80000,
          110000,
          300000,
          65000,
          50000,
          100000,
          150000,
          80000,
          85000,
          30000,
          110000,
          20000,
          110000,
          120000,
          150000,
          250000,
          100000,
          150000,
          60000,
          250000,
          50000,
          100000,
          60000,
          100000,
          69000,
          300000,
          100000,
          40000,
          100000,
          5000,
          250000,
          150000,
          120000,
          300000,
          80000,
          100000,
          80000,
          90000,
          40000,
          15000,
          85000,
          3500,
          45000,
          120000,
          75000,
          100000,
          200000,
          250000,
          45000,
          100000,
          300000,
          170000,
          100000,
          30000,
          60000,
          80000,
          25000,
          120000,
          200000,
          250000,
          100000,
          50000,
          20000,
          120000,
          25000,
          200000,
          99000,
          60000,
          60000,
          150000,
          100000,
          70000,
          80000,
          40000,
          40000,
          90000,
          70000,
          50000,
          140000,
          150000,
          150000,
          200000,
          100000,
          200000,
          3500,
          60000,
          180000,
          180000,
          20000,
          30000,
          300000,
          72000,
          100000,
          100000,
          250000,
          2000,
          90000,
          70000,
          60000,
          80000,
          60000,
          250000,
          80000,
          140000,
          60000,
          150000,
          150000,
          300000,
          100000,
          250000,
          100000,
          60000,
          80000,
          32000,
          80000,
          60000,
          60000,
          90000,
          100000,
          70000,
          100000,
          60000,
          80000,
          120000,
          130000,
          150000,
          150000,
          90000,
          90000,
          30000,
          140000,
          50000,
          100000,
          120000,
          100000,
          100000,
          250000,
          60000,
          40000,
          100000,
          160000,
          150000,
          60000,
          50000,
          50000,
          150000,
          50000,
          150000,
          100000,
          60000,
          70000,
          80000,
          115000,
          80000,
          150000,
          105000,
          30000,
          150000,
          100000,
          100000,
          50000,
          42000,
          70000,
          60000,
          60000,
          15000,
          80000,
          300000,
          60000,
          90000,
          40000,
          80000,
          100000,
          45000,
          70000,
          40000,
          80000,
          150000,
          60000,
          50000,
          15000,
          120000,
          15000,
          75000,
          80000,
          300000,
          80000,
          80000,
          100000,
          120000,
          3000,
          220000,
          150000,
          200000,
          150000,
          120000,
          250000,
          300000,
          250000,
          250000,
          300000,
          200000,
          130000,
          110000,
          150000,
          200000,
          150000,
          200000,
          250000,
          120000,
          250000,
          250000,
          250000,
          1000,
          120000,
          155000,
          150000,
          200000,
          50000,
          250000,
          150000,
          150000,
          3000,
          200000,
          200000,
          200000,
          100000,
          150000,
          150000,
          100000,
          60000,
          100000,
          100000,
          100000,
          200000
         ]
        }
       ],
       "layout": {
        "template": {
         "data": {
          "bar": [
           {
            "error_x": {
             "color": "#2a3f5f"
            },
            "error_y": {
             "color": "#2a3f5f"
            },
            "marker": {
             "line": {
              "color": "#E5ECF6",
              "width": 0.5
             },
             "pattern": {
              "fillmode": "overlay",
              "size": 10,
              "solidity": 0.2
             }
            },
            "type": "bar"
           }
          ],
          "barpolar": [
           {
            "marker": {
             "line": {
              "color": "#E5ECF6",
              "width": 0.5
             },
             "pattern": {
              "fillmode": "overlay",
              "size": 10,
              "solidity": 0.2
             }
            },
            "type": "barpolar"
           }
          ],
          "carpet": [
           {
            "aaxis": {
             "endlinecolor": "#2a3f5f",
             "gridcolor": "white",
             "linecolor": "white",
             "minorgridcolor": "white",
             "startlinecolor": "#2a3f5f"
            },
            "baxis": {
             "endlinecolor": "#2a3f5f",
             "gridcolor": "white",
             "linecolor": "white",
             "minorgridcolor": "white",
             "startlinecolor": "#2a3f5f"
            },
            "type": "carpet"
           }
          ],
          "choropleth": [
           {
            "colorbar": {
             "outlinewidth": 0,
             "ticks": ""
            },
            "type": "choropleth"
           }
          ],
          "contour": [
           {
            "colorbar": {
             "outlinewidth": 0,
             "ticks": ""
            },
            "colorscale": [
             [
              0,
              "#0d0887"
             ],
             [
              0.1111111111111111,
              "#46039f"
             ],
             [
              0.2222222222222222,
              "#7201a8"
             ],
             [
              0.3333333333333333,
              "#9c179e"
             ],
             [
              0.4444444444444444,
              "#bd3786"
             ],
             [
              0.5555555555555556,
              "#d8576b"
             ],
             [
              0.6666666666666666,
              "#ed7953"
             ],
             [
              0.7777777777777778,
              "#fb9f3a"
             ],
             [
              0.8888888888888888,
              "#fdca26"
             ],
             [
              1,
              "#f0f921"
             ]
            ],
            "type": "contour"
           }
          ],
          "contourcarpet": [
           {
            "colorbar": {
             "outlinewidth": 0,
             "ticks": ""
            },
            "type": "contourcarpet"
           }
          ],
          "heatmap": [
           {
            "colorbar": {
             "outlinewidth": 0,
             "ticks": ""
            },
            "colorscale": [
             [
              0,
              "#0d0887"
             ],
             [
              0.1111111111111111,
              "#46039f"
             ],
             [
              0.2222222222222222,
              "#7201a8"
             ],
             [
              0.3333333333333333,
              "#9c179e"
             ],
             [
              0.4444444444444444,
              "#bd3786"
             ],
             [
              0.5555555555555556,
              "#d8576b"
             ],
             [
              0.6666666666666666,
              "#ed7953"
             ],
             [
              0.7777777777777778,
              "#fb9f3a"
             ],
             [
              0.8888888888888888,
              "#fdca26"
             ],
             [
              1,
              "#f0f921"
             ]
            ],
            "type": "heatmap"
           }
          ],
          "heatmapgl": [
           {
            "colorbar": {
             "outlinewidth": 0,
             "ticks": ""
            },
            "colorscale": [
             [
              0,
              "#0d0887"
             ],
             [
              0.1111111111111111,
              "#46039f"
             ],
             [
              0.2222222222222222,
              "#7201a8"
             ],
             [
              0.3333333333333333,
              "#9c179e"
             ],
             [
              0.4444444444444444,
              "#bd3786"
             ],
             [
              0.5555555555555556,
              "#d8576b"
             ],
             [
              0.6666666666666666,
              "#ed7953"
             ],
             [
              0.7777777777777778,
              "#fb9f3a"
             ],
             [
              0.8888888888888888,
              "#fdca26"
             ],
             [
              1,
              "#f0f921"
             ]
            ],
            "type": "heatmapgl"
           }
          ],
          "histogram": [
           {
            "marker": {
             "pattern": {
              "fillmode": "overlay",
              "size": 10,
              "solidity": 0.2
             }
            },
            "type": "histogram"
           }
          ],
          "histogram2d": [
           {
            "colorbar": {
             "outlinewidth": 0,
             "ticks": ""
            },
            "colorscale": [
             [
              0,
              "#0d0887"
             ],
             [
              0.1111111111111111,
              "#46039f"
             ],
             [
              0.2222222222222222,
              "#7201a8"
             ],
             [
              0.3333333333333333,
              "#9c179e"
             ],
             [
              0.4444444444444444,
              "#bd3786"
             ],
             [
              0.5555555555555556,
              "#d8576b"
             ],
             [
              0.6666666666666666,
              "#ed7953"
             ],
             [
              0.7777777777777778,
              "#fb9f3a"
             ],
             [
              0.8888888888888888,
              "#fdca26"
             ],
             [
              1,
              "#f0f921"
             ]
            ],
            "type": "histogram2d"
           }
          ],
          "histogram2dcontour": [
           {
            "colorbar": {
             "outlinewidth": 0,
             "ticks": ""
            },
            "colorscale": [
             [
              0,
              "#0d0887"
             ],
             [
              0.1111111111111111,
              "#46039f"
             ],
             [
              0.2222222222222222,
              "#7201a8"
             ],
             [
              0.3333333333333333,
              "#9c179e"
             ],
             [
              0.4444444444444444,
              "#bd3786"
             ],
             [
              0.5555555555555556,
              "#d8576b"
             ],
             [
              0.6666666666666666,
              "#ed7953"
             ],
             [
              0.7777777777777778,
              "#fb9f3a"
             ],
             [
              0.8888888888888888,
              "#fdca26"
             ],
             [
              1,
              "#f0f921"
             ]
            ],
            "type": "histogram2dcontour"
           }
          ],
          "mesh3d": [
           {
            "colorbar": {
             "outlinewidth": 0,
             "ticks": ""
            },
            "type": "mesh3d"
           }
          ],
          "parcoords": [
           {
            "line": {
             "colorbar": {
              "outlinewidth": 0,
              "ticks": ""
             }
            },
            "type": "parcoords"
           }
          ],
          "pie": [
           {
            "automargin": true,
            "type": "pie"
           }
          ],
          "scatter": [
           {
            "fillpattern": {
             "fillmode": "overlay",
             "size": 10,
             "solidity": 0.2
            },
            "type": "scatter"
           }
          ],
          "scatter3d": [
           {
            "line": {
             "colorbar": {
              "outlinewidth": 0,
              "ticks": ""
             }
            },
            "marker": {
             "colorbar": {
              "outlinewidth": 0,
              "ticks": ""
             }
            },
            "type": "scatter3d"
           }
          ],
          "scattercarpet": [
           {
            "marker": {
             "colorbar": {
              "outlinewidth": 0,
              "ticks": ""
             }
            },
            "type": "scattercarpet"
           }
          ],
          "scattergeo": [
           {
            "marker": {
             "colorbar": {
              "outlinewidth": 0,
              "ticks": ""
             }
            },
            "type": "scattergeo"
           }
          ],
          "scattergl": [
           {
            "marker": {
             "colorbar": {
              "outlinewidth": 0,
              "ticks": ""
             }
            },
            "type": "scattergl"
           }
          ],
          "scattermapbox": [
           {
            "marker": {
             "colorbar": {
              "outlinewidth": 0,
              "ticks": ""
             }
            },
            "type": "scattermapbox"
           }
          ],
          "scatterpolar": [
           {
            "marker": {
             "colorbar": {
              "outlinewidth": 0,
              "ticks": ""
             }
            },
            "type": "scatterpolar"
           }
          ],
          "scatterpolargl": [
           {
            "marker": {
             "colorbar": {
              "outlinewidth": 0,
              "ticks": ""
             }
            },
            "type": "scatterpolargl"
           }
          ],
          "scatterternary": [
           {
            "marker": {
             "colorbar": {
              "outlinewidth": 0,
              "ticks": ""
             }
            },
            "type": "scatterternary"
           }
          ],
          "surface": [
           {
            "colorbar": {
             "outlinewidth": 0,
             "ticks": ""
            },
            "colorscale": [
             [
              0,
              "#0d0887"
             ],
             [
              0.1111111111111111,
              "#46039f"
             ],
             [
              0.2222222222222222,
              "#7201a8"
             ],
             [
              0.3333333333333333,
              "#9c179e"
             ],
             [
              0.4444444444444444,
              "#bd3786"
             ],
             [
              0.5555555555555556,
              "#d8576b"
             ],
             [
              0.6666666666666666,
              "#ed7953"
             ],
             [
              0.7777777777777778,
              "#fb9f3a"
             ],
             [
              0.8888888888888888,
              "#fdca26"
             ],
             [
              1,
              "#f0f921"
             ]
            ],
            "type": "surface"
           }
          ],
          "table": [
           {
            "cells": {
             "fill": {
              "color": "#EBF0F8"
             },
             "line": {
              "color": "white"
             }
            },
            "header": {
             "fill": {
              "color": "#C8D4E3"
             },
             "line": {
              "color": "white"
             }
            },
            "type": "table"
           }
          ]
         },
         "layout": {
          "annotationdefaults": {
           "arrowcolor": "#2a3f5f",
           "arrowhead": 0,
           "arrowwidth": 1
          },
          "autotypenumbers": "strict",
          "coloraxis": {
           "colorbar": {
            "outlinewidth": 0,
            "ticks": ""
           }
          },
          "colorscale": {
           "diverging": [
            [
             0,
             "#8e0152"
            ],
            [
             0.1,
             "#c51b7d"
            ],
            [
             0.2,
             "#de77ae"
            ],
            [
             0.3,
             "#f1b6da"
            ],
            [
             0.4,
             "#fde0ef"
            ],
            [
             0.5,
             "#f7f7f7"
            ],
            [
             0.6,
             "#e6f5d0"
            ],
            [
             0.7,
             "#b8e186"
            ],
            [
             0.8,
             "#7fbc41"
            ],
            [
             0.9,
             "#4d9221"
            ],
            [
             1,
             "#276419"
            ]
           ],
           "sequential": [
            [
             0,
             "#0d0887"
            ],
            [
             0.1111111111111111,
             "#46039f"
            ],
            [
             0.2222222222222222,
             "#7201a8"
            ],
            [
             0.3333333333333333,
             "#9c179e"
            ],
            [
             0.4444444444444444,
             "#bd3786"
            ],
            [
             0.5555555555555556,
             "#d8576b"
            ],
            [
             0.6666666666666666,
             "#ed7953"
            ],
            [
             0.7777777777777778,
             "#fb9f3a"
            ],
            [
             0.8888888888888888,
             "#fdca26"
            ],
            [
             1,
             "#f0f921"
            ]
           ],
           "sequentialminus": [
            [
             0,
             "#0d0887"
            ],
            [
             0.1111111111111111,
             "#46039f"
            ],
            [
             0.2222222222222222,
             "#7201a8"
            ],
            [
             0.3333333333333333,
             "#9c179e"
            ],
            [
             0.4444444444444444,
             "#bd3786"
            ],
            [
             0.5555555555555556,
             "#d8576b"
            ],
            [
             0.6666666666666666,
             "#ed7953"
            ],
            [
             0.7777777777777778,
             "#fb9f3a"
            ],
            [
             0.8888888888888888,
             "#fdca26"
            ],
            [
             1,
             "#f0f921"
            ]
           ]
          },
          "colorway": [
           "#636efa",
           "#EF553B",
           "#00cc96",
           "#ab63fa",
           "#FFA15A",
           "#19d3f3",
           "#FF6692",
           "#B6E880",
           "#FF97FF",
           "#FECB52"
          ],
          "font": {
           "color": "#2a3f5f"
          },
          "geo": {
           "bgcolor": "white",
           "lakecolor": "white",
           "landcolor": "#E5ECF6",
           "showlakes": true,
           "showland": true,
           "subunitcolor": "white"
          },
          "hoverlabel": {
           "align": "left"
          },
          "hovermode": "closest",
          "mapbox": {
           "style": "light"
          },
          "paper_bgcolor": "white",
          "plot_bgcolor": "#E5ECF6",
          "polar": {
           "angularaxis": {
            "gridcolor": "white",
            "linecolor": "white",
            "ticks": ""
           },
           "bgcolor": "#E5ECF6",
           "radialaxis": {
            "gridcolor": "white",
            "linecolor": "white",
            "ticks": ""
           }
          },
          "scene": {
           "xaxis": {
            "backgroundcolor": "#E5ECF6",
            "gridcolor": "white",
            "gridwidth": 2,
            "linecolor": "white",
            "showbackground": true,
            "ticks": "",
            "zerolinecolor": "white"
           },
           "yaxis": {
            "backgroundcolor": "#E5ECF6",
            "gridcolor": "white",
            "gridwidth": 2,
            "linecolor": "white",
            "showbackground": true,
            "ticks": "",
            "zerolinecolor": "white"
           },
           "zaxis": {
            "backgroundcolor": "#E5ECF6",
            "gridcolor": "white",
            "gridwidth": 2,
            "linecolor": "white",
            "showbackground": true,
            "ticks": "",
            "zerolinecolor": "white"
           }
          },
          "shapedefaults": {
           "line": {
            "color": "#2a3f5f"
           }
          },
          "ternary": {
           "aaxis": {
            "gridcolor": "white",
            "linecolor": "white",
            "ticks": ""
           },
           "baxis": {
            "gridcolor": "white",
            "linecolor": "white",
            "ticks": ""
           },
           "bgcolor": "#E5ECF6",
           "caxis": {
            "gridcolor": "white",
            "linecolor": "white",
            "ticks": ""
           }
          },
          "title": {
           "x": 0.05
          },
          "xaxis": {
           "automargin": true,
           "gridcolor": "white",
           "linecolor": "white",
           "ticks": "",
           "title": {
            "standoff": 15
           },
           "zerolinecolor": "white",
           "zerolinewidth": 2
          },
          "yaxis": {
           "automargin": true,
           "gridcolor": "white",
           "linecolor": "white",
           "ticks": "",
           "title": {
            "standoff": 15
           },
           "zerolinecolor": "white",
           "zerolinewidth": 2
          }
         }
        },
        "title": {
         "text": "Зависимость размера заработной платы от количества тегов"
        },
        "xaxis": {
         "title": {
          "text": "Число тегов"
         }
        },
        "yaxis": {
         "title": {
          "text": "Зарплаты"
         }
        }
       }
      }
     },
     "metadata": {},
     "output_type": "display_data"
    }
   ],
   "source": [
    "df = data[data[\"from\"]<1_000_000]\n",
    "\n",
    "fig = go.Figure()\n",
    "fig.add_trace(go.Bar(x=df[\"tags_list_len\"], y=df[\"upto\"], name=\"upto\"))\n",
    "fig.add_trace(go.Bar(x=df[\"tags_list_len\"], y=df[\"from\"], name=\"from\"))\n",
    "fig.update_layout(\n",
    "    title_text=\"Зависимость размера заработной платы от количества тегов\",\n",
    "    xaxis_title=\"Число тегов\",\n",
    "    yaxis_title=\"Зарплаты\")\n",
    "fig.show()\n"
   ]
  },
  {
   "cell_type": "markdown",
   "metadata": {},
   "source": [
    "Видим, что соискатели указывают чаще всего от 4 до 10 тегов"
   ]
  },
  {
   "cell_type": "code",
   "execution_count": 97,
   "metadata": {},
   "outputs": [
    {
     "data": {
      "application/vnd.plotly.v1+json": {
       "config": {
        "plotlyServerURL": "https://plot.ly"
       },
       "data": [
        {
         "type": "bar",
         "x": [
          5,
          4,
          4,
          2,
          2,
          1,
          9,
          2,
          2,
          4,
          2,
          1,
          5,
          1,
          16,
          19,
          1,
          13,
          27,
          2,
          1,
          1,
          6,
          1,
          57,
          1,
          1,
          25,
          1,
          101,
          1,
          1,
          11,
          1,
          1,
          111,
          1,
          1,
          18,
          1,
          2,
          106,
          1,
          2,
          15,
          1,
          141,
          1,
          1,
          6,
          2,
          1,
          61,
          2,
          2,
          1,
          243,
          1,
          1,
          3,
          16,
          3,
          1,
          106,
          1,
          2,
          23,
          1,
          1,
          26,
          1,
          1,
          198,
          1,
          2,
          5,
          9,
          1,
          1,
          26,
          2,
          3,
          97,
          1,
          6,
          1,
          55,
          1,
          1,
          40,
          1,
          3,
          4,
          2,
          1,
          8,
          1
         ],
         "y": [
          0,
          1000,
          1500,
          2000,
          2400,
          2500,
          3000,
          3500,
          4000,
          5000,
          8000,
          9000,
          10000,
          14000,
          15000,
          20000,
          22000,
          25000,
          30000,
          32000,
          33000,
          34000,
          35000,
          36000,
          40000,
          42000,
          44500,
          45000,
          47000,
          50000,
          52000,
          52200,
          55000,
          56000,
          57000,
          60000,
          60900,
          64000,
          65000,
          66000,
          69000,
          70000,
          71000,
          72000,
          75000,
          77000,
          80000,
          80460,
          82000,
          85000,
          87000,
          88600,
          90000,
          92000,
          95000,
          99000,
          100000,
          101000,
          103448,
          105000,
          110000,
          115000,
          115500,
          120000,
          121800,
          125000,
          130000,
          131000,
          135000,
          140000,
          141000,
          149000,
          150000,
          153000,
          155000,
          160000,
          170000,
          172500,
          177000,
          180000,
          185000,
          190000,
          200000,
          210000,
          220000,
          240000,
          250000,
          260000,
          270000,
          300000,
          340000,
          350000,
          400000,
          420000,
          450000,
          500000,
          700000
         ]
        }
       ],
       "layout": {
        "template": {
         "data": {
          "bar": [
           {
            "error_x": {
             "color": "#2a3f5f"
            },
            "error_y": {
             "color": "#2a3f5f"
            },
            "marker": {
             "line": {
              "color": "#E5ECF6",
              "width": 0.5
             },
             "pattern": {
              "fillmode": "overlay",
              "size": 10,
              "solidity": 0.2
             }
            },
            "type": "bar"
           }
          ],
          "barpolar": [
           {
            "marker": {
             "line": {
              "color": "#E5ECF6",
              "width": 0.5
             },
             "pattern": {
              "fillmode": "overlay",
              "size": 10,
              "solidity": 0.2
             }
            },
            "type": "barpolar"
           }
          ],
          "carpet": [
           {
            "aaxis": {
             "endlinecolor": "#2a3f5f",
             "gridcolor": "white",
             "linecolor": "white",
             "minorgridcolor": "white",
             "startlinecolor": "#2a3f5f"
            },
            "baxis": {
             "endlinecolor": "#2a3f5f",
             "gridcolor": "white",
             "linecolor": "white",
             "minorgridcolor": "white",
             "startlinecolor": "#2a3f5f"
            },
            "type": "carpet"
           }
          ],
          "choropleth": [
           {
            "colorbar": {
             "outlinewidth": 0,
             "ticks": ""
            },
            "type": "choropleth"
           }
          ],
          "contour": [
           {
            "colorbar": {
             "outlinewidth": 0,
             "ticks": ""
            },
            "colorscale": [
             [
              0,
              "#0d0887"
             ],
             [
              0.1111111111111111,
              "#46039f"
             ],
             [
              0.2222222222222222,
              "#7201a8"
             ],
             [
              0.3333333333333333,
              "#9c179e"
             ],
             [
              0.4444444444444444,
              "#bd3786"
             ],
             [
              0.5555555555555556,
              "#d8576b"
             ],
             [
              0.6666666666666666,
              "#ed7953"
             ],
             [
              0.7777777777777778,
              "#fb9f3a"
             ],
             [
              0.8888888888888888,
              "#fdca26"
             ],
             [
              1,
              "#f0f921"
             ]
            ],
            "type": "contour"
           }
          ],
          "contourcarpet": [
           {
            "colorbar": {
             "outlinewidth": 0,
             "ticks": ""
            },
            "type": "contourcarpet"
           }
          ],
          "heatmap": [
           {
            "colorbar": {
             "outlinewidth": 0,
             "ticks": ""
            },
            "colorscale": [
             [
              0,
              "#0d0887"
             ],
             [
              0.1111111111111111,
              "#46039f"
             ],
             [
              0.2222222222222222,
              "#7201a8"
             ],
             [
              0.3333333333333333,
              "#9c179e"
             ],
             [
              0.4444444444444444,
              "#bd3786"
             ],
             [
              0.5555555555555556,
              "#d8576b"
             ],
             [
              0.6666666666666666,
              "#ed7953"
             ],
             [
              0.7777777777777778,
              "#fb9f3a"
             ],
             [
              0.8888888888888888,
              "#fdca26"
             ],
             [
              1,
              "#f0f921"
             ]
            ],
            "type": "heatmap"
           }
          ],
          "heatmapgl": [
           {
            "colorbar": {
             "outlinewidth": 0,
             "ticks": ""
            },
            "colorscale": [
             [
              0,
              "#0d0887"
             ],
             [
              0.1111111111111111,
              "#46039f"
             ],
             [
              0.2222222222222222,
              "#7201a8"
             ],
             [
              0.3333333333333333,
              "#9c179e"
             ],
             [
              0.4444444444444444,
              "#bd3786"
             ],
             [
              0.5555555555555556,
              "#d8576b"
             ],
             [
              0.6666666666666666,
              "#ed7953"
             ],
             [
              0.7777777777777778,
              "#fb9f3a"
             ],
             [
              0.8888888888888888,
              "#fdca26"
             ],
             [
              1,
              "#f0f921"
             ]
            ],
            "type": "heatmapgl"
           }
          ],
          "histogram": [
           {
            "marker": {
             "pattern": {
              "fillmode": "overlay",
              "size": 10,
              "solidity": 0.2
             }
            },
            "type": "histogram"
           }
          ],
          "histogram2d": [
           {
            "colorbar": {
             "outlinewidth": 0,
             "ticks": ""
            },
            "colorscale": [
             [
              0,
              "#0d0887"
             ],
             [
              0.1111111111111111,
              "#46039f"
             ],
             [
              0.2222222222222222,
              "#7201a8"
             ],
             [
              0.3333333333333333,
              "#9c179e"
             ],
             [
              0.4444444444444444,
              "#bd3786"
             ],
             [
              0.5555555555555556,
              "#d8576b"
             ],
             [
              0.6666666666666666,
              "#ed7953"
             ],
             [
              0.7777777777777778,
              "#fb9f3a"
             ],
             [
              0.8888888888888888,
              "#fdca26"
             ],
             [
              1,
              "#f0f921"
             ]
            ],
            "type": "histogram2d"
           }
          ],
          "histogram2dcontour": [
           {
            "colorbar": {
             "outlinewidth": 0,
             "ticks": ""
            },
            "colorscale": [
             [
              0,
              "#0d0887"
             ],
             [
              0.1111111111111111,
              "#46039f"
             ],
             [
              0.2222222222222222,
              "#7201a8"
             ],
             [
              0.3333333333333333,
              "#9c179e"
             ],
             [
              0.4444444444444444,
              "#bd3786"
             ],
             [
              0.5555555555555556,
              "#d8576b"
             ],
             [
              0.6666666666666666,
              "#ed7953"
             ],
             [
              0.7777777777777778,
              "#fb9f3a"
             ],
             [
              0.8888888888888888,
              "#fdca26"
             ],
             [
              1,
              "#f0f921"
             ]
            ],
            "type": "histogram2dcontour"
           }
          ],
          "mesh3d": [
           {
            "colorbar": {
             "outlinewidth": 0,
             "ticks": ""
            },
            "type": "mesh3d"
           }
          ],
          "parcoords": [
           {
            "line": {
             "colorbar": {
              "outlinewidth": 0,
              "ticks": ""
             }
            },
            "type": "parcoords"
           }
          ],
          "pie": [
           {
            "automargin": true,
            "type": "pie"
           }
          ],
          "scatter": [
           {
            "fillpattern": {
             "fillmode": "overlay",
             "size": 10,
             "solidity": 0.2
            },
            "type": "scatter"
           }
          ],
          "scatter3d": [
           {
            "line": {
             "colorbar": {
              "outlinewidth": 0,
              "ticks": ""
             }
            },
            "marker": {
             "colorbar": {
              "outlinewidth": 0,
              "ticks": ""
             }
            },
            "type": "scatter3d"
           }
          ],
          "scattercarpet": [
           {
            "marker": {
             "colorbar": {
              "outlinewidth": 0,
              "ticks": ""
             }
            },
            "type": "scattercarpet"
           }
          ],
          "scattergeo": [
           {
            "marker": {
             "colorbar": {
              "outlinewidth": 0,
              "ticks": ""
             }
            },
            "type": "scattergeo"
           }
          ],
          "scattergl": [
           {
            "marker": {
             "colorbar": {
              "outlinewidth": 0,
              "ticks": ""
             }
            },
            "type": "scattergl"
           }
          ],
          "scattermapbox": [
           {
            "marker": {
             "colorbar": {
              "outlinewidth": 0,
              "ticks": ""
             }
            },
            "type": "scattermapbox"
           }
          ],
          "scatterpolar": [
           {
            "marker": {
             "colorbar": {
              "outlinewidth": 0,
              "ticks": ""
             }
            },
            "type": "scatterpolar"
           }
          ],
          "scatterpolargl": [
           {
            "marker": {
             "colorbar": {
              "outlinewidth": 0,
              "ticks": ""
             }
            },
            "type": "scatterpolargl"
           }
          ],
          "scatterternary": [
           {
            "marker": {
             "colorbar": {
              "outlinewidth": 0,
              "ticks": ""
             }
            },
            "type": "scatterternary"
           }
          ],
          "surface": [
           {
            "colorbar": {
             "outlinewidth": 0,
             "ticks": ""
            },
            "colorscale": [
             [
              0,
              "#0d0887"
             ],
             [
              0.1111111111111111,
              "#46039f"
             ],
             [
              0.2222222222222222,
              "#7201a8"
             ],
             [
              0.3333333333333333,
              "#9c179e"
             ],
             [
              0.4444444444444444,
              "#bd3786"
             ],
             [
              0.5555555555555556,
              "#d8576b"
             ],
             [
              0.6666666666666666,
              "#ed7953"
             ],
             [
              0.7777777777777778,
              "#fb9f3a"
             ],
             [
              0.8888888888888888,
              "#fdca26"
             ],
             [
              1,
              "#f0f921"
             ]
            ],
            "type": "surface"
           }
          ],
          "table": [
           {
            "cells": {
             "fill": {
              "color": "#EBF0F8"
             },
             "line": {
              "color": "white"
             }
            },
            "header": {
             "fill": {
              "color": "#C8D4E3"
             },
             "line": {
              "color": "white"
             }
            },
            "type": "table"
           }
          ]
         },
         "layout": {
          "annotationdefaults": {
           "arrowcolor": "#2a3f5f",
           "arrowhead": 0,
           "arrowwidth": 1
          },
          "autotypenumbers": "strict",
          "coloraxis": {
           "colorbar": {
            "outlinewidth": 0,
            "ticks": ""
           }
          },
          "colorscale": {
           "diverging": [
            [
             0,
             "#8e0152"
            ],
            [
             0.1,
             "#c51b7d"
            ],
            [
             0.2,
             "#de77ae"
            ],
            [
             0.3,
             "#f1b6da"
            ],
            [
             0.4,
             "#fde0ef"
            ],
            [
             0.5,
             "#f7f7f7"
            ],
            [
             0.6,
             "#e6f5d0"
            ],
            [
             0.7,
             "#b8e186"
            ],
            [
             0.8,
             "#7fbc41"
            ],
            [
             0.9,
             "#4d9221"
            ],
            [
             1,
             "#276419"
            ]
           ],
           "sequential": [
            [
             0,
             "#0d0887"
            ],
            [
             0.1111111111111111,
             "#46039f"
            ],
            [
             0.2222222222222222,
             "#7201a8"
            ],
            [
             0.3333333333333333,
             "#9c179e"
            ],
            [
             0.4444444444444444,
             "#bd3786"
            ],
            [
             0.5555555555555556,
             "#d8576b"
            ],
            [
             0.6666666666666666,
             "#ed7953"
            ],
            [
             0.7777777777777778,
             "#fb9f3a"
            ],
            [
             0.8888888888888888,
             "#fdca26"
            ],
            [
             1,
             "#f0f921"
            ]
           ],
           "sequentialminus": [
            [
             0,
             "#0d0887"
            ],
            [
             0.1111111111111111,
             "#46039f"
            ],
            [
             0.2222222222222222,
             "#7201a8"
            ],
            [
             0.3333333333333333,
             "#9c179e"
            ],
            [
             0.4444444444444444,
             "#bd3786"
            ],
            [
             0.5555555555555556,
             "#d8576b"
            ],
            [
             0.6666666666666666,
             "#ed7953"
            ],
            [
             0.7777777777777778,
             "#fb9f3a"
            ],
            [
             0.8888888888888888,
             "#fdca26"
            ],
            [
             1,
             "#f0f921"
            ]
           ]
          },
          "colorway": [
           "#636efa",
           "#EF553B",
           "#00cc96",
           "#ab63fa",
           "#FFA15A",
           "#19d3f3",
           "#FF6692",
           "#B6E880",
           "#FF97FF",
           "#FECB52"
          ],
          "font": {
           "color": "#2a3f5f"
          },
          "geo": {
           "bgcolor": "white",
           "lakecolor": "white",
           "landcolor": "#E5ECF6",
           "showlakes": true,
           "showland": true,
           "subunitcolor": "white"
          },
          "hoverlabel": {
           "align": "left"
          },
          "hovermode": "closest",
          "mapbox": {
           "style": "light"
          },
          "paper_bgcolor": "white",
          "plot_bgcolor": "#E5ECF6",
          "polar": {
           "angularaxis": {
            "gridcolor": "white",
            "linecolor": "white",
            "ticks": ""
           },
           "bgcolor": "#E5ECF6",
           "radialaxis": {
            "gridcolor": "white",
            "linecolor": "white",
            "ticks": ""
           }
          },
          "scene": {
           "xaxis": {
            "backgroundcolor": "#E5ECF6",
            "gridcolor": "white",
            "gridwidth": 2,
            "linecolor": "white",
            "showbackground": true,
            "ticks": "",
            "zerolinecolor": "white"
           },
           "yaxis": {
            "backgroundcolor": "#E5ECF6",
            "gridcolor": "white",
            "gridwidth": 2,
            "linecolor": "white",
            "showbackground": true,
            "ticks": "",
            "zerolinecolor": "white"
           },
           "zaxis": {
            "backgroundcolor": "#E5ECF6",
            "gridcolor": "white",
            "gridwidth": 2,
            "linecolor": "white",
            "showbackground": true,
            "ticks": "",
            "zerolinecolor": "white"
           }
          },
          "shapedefaults": {
           "line": {
            "color": "#2a3f5f"
           }
          },
          "ternary": {
           "aaxis": {
            "gridcolor": "white",
            "linecolor": "white",
            "ticks": ""
           },
           "baxis": {
            "gridcolor": "white",
            "linecolor": "white",
            "ticks": ""
           },
           "bgcolor": "#E5ECF6",
           "caxis": {
            "gridcolor": "white",
            "linecolor": "white",
            "ticks": ""
           }
          },
          "title": {
           "x": 0.05
          },
          "xaxis": {
           "automargin": true,
           "gridcolor": "white",
           "linecolor": "white",
           "ticks": "",
           "title": {
            "standoff": 15
           },
           "zerolinecolor": "white",
           "zerolinewidth": 2
          },
          "yaxis": {
           "automargin": true,
           "gridcolor": "white",
           "linecolor": "white",
           "ticks": "",
           "title": {
            "standoff": 15
           },
           "zerolinecolor": "white",
           "zerolinewidth": 2
          }
         }
        }
       }
      }
     },
     "metadata": {},
     "output_type": "display_data"
    }
   ],
   "source": [
    "df = data[data[\"from\"]<5_000_000]\n",
    "df = df.groupby(\"from\").agg({'tags_list': 'count'})\n",
    "df = df.sort_values(by=\"from\").reset_index()\n",
    "fig = go.Figure()\n",
    "fig.add_trace(go.Bar(x=df[\"tags_list\"], y=df[\"from\"]))\n",
    "fig.show()"
   ]
  },
  {
   "cell_type": "code",
   "execution_count": 98,
   "metadata": {},
   "outputs": [
    {
     "data": {
      "text/plain": [
       "array([ 5, 12,  9,  0, 28, 19, 13, 11,  8, 21,  7,  4,  6, 15, 10, 14, 26,\n",
       "       24, 22,  3, 18, 20, 23, 16, 17,  2, 25, 29, 30,  1, 27, 31])"
      ]
     },
     "execution_count": 98,
     "metadata": {},
     "output_type": "execute_result"
    }
   ],
   "source": [
    "data[\"tags_list_len\"].unique()"
   ]
  },
  {
   "cell_type": "code",
   "execution_count": 99,
   "metadata": {},
   "outputs": [
    {
     "data": {
      "text/plain": [
       "1865"
      ]
     },
     "execution_count": 99,
     "metadata": {},
     "output_type": "execute_result"
    }
   ],
   "source": [
    "\n",
    "all_tags = []\n",
    "for tags in data['tags_list']:\n",
    "    for tag in tags:\n",
    "        all_tags.append(tag)\n",
    "len(set(all_tags))"
   ]
  },
  {
   "cell_type": "code",
   "execution_count": 100,
   "metadata": {},
   "outputs": [
    {
     "data": {
      "text/html": [
       "<div>\n",
       "<style scoped>\n",
       "    .dataframe tbody tr th:only-of-type {\n",
       "        vertical-align: middle;\n",
       "    }\n",
       "\n",
       "    .dataframe tbody tr th {\n",
       "        vertical-align: top;\n",
       "    }\n",
       "\n",
       "    .dataframe thead th {\n",
       "        text-align: right;\n",
       "    }\n",
       "</style>\n",
       "<table border=\"1\" class=\"dataframe\">\n",
       "  <thead>\n",
       "    <tr style=\"text-align: right;\">\n",
       "      <th></th>\n",
       "      <th>index</th>\n",
       "      <th>experience</th>\n",
       "      <th>description</th>\n",
       "      <th>salary</th>\n",
       "      <th>tags_list</th>\n",
       "      <th>tags_list_len</th>\n",
       "      <th>from</th>\n",
       "      <th>upto</th>\n",
       "      <th>currency</th>\n",
       "      <th>fulladress</th>\n",
       "    </tr>\n",
       "  </thead>\n",
       "  <tbody>\n",
       "    <tr>\n",
       "      <th>1336</th>\n",
       "      <td>1336</td>\n",
       "      <td>3–6 лет</td>\n",
       "      <td>В фирме работает бонусная система при которой ...</td>\n",
       "      <td>от 300 000 до 400 000 руб. на руки</td>\n",
       "      <td>[M&amp;A, Английский язык, Транзакционная документ...</td>\n",
       "      <td>7</td>\n",
       "      <td>300000.0</td>\n",
       "      <td>400000.0</td>\n",
       "      <td>руб</td>\n",
       "      <td>Москва, Пушкинская</td>\n",
       "    </tr>\n",
       "  </tbody>\n",
       "</table>\n",
       "</div>"
      ],
      "text/plain": [
       "      index experience                                        description  \\\n",
       "1336   1336    3–6 лет  В фирме работает бонусная система при которой ...   \n",
       "\n",
       "                                  salary  \\\n",
       "1336  от 300 000 до 400 000 руб. на руки   \n",
       "\n",
       "                                              tags_list  tags_list_len  \\\n",
       "1336  [M&A, Английский язык, Транзакционная документ...              7   \n",
       "\n",
       "          from      upto currency          fulladress  \n",
       "1336  300000.0  400000.0      руб  Москва, Пушкинская  "
      ]
     },
     "execution_count": 100,
     "metadata": {},
     "output_type": "execute_result"
    }
   ],
   "source": [
    "data.sample()"
   ]
  },
  {
   "cell_type": "markdown",
   "metadata": {},
   "source": [
    "Нам очень интересна зависимость между зарплатой и необходимым стеком навыков. Построим график столбчатой диаграммы из средней начальной зарплаты, ее отклонения и уникальных тегов"
   ]
  },
  {
   "cell_type": "code",
   "execution_count": 101,
   "metadata": {},
   "outputs": [
    {
     "name": "stdout",
     "output_type": "stream",
     "text": [
      "Число уникальных тегов в data: 1865\n"
     ]
    },
    {
     "data": {
      "application/vnd.plotly.v1+json": {
       "config": {
        "plotlyServerURL": "https://plot.ly"
       },
       "data": [
        {
         "type": "bar",
         "x": [
          "perconadb",
          "js/css/html",
          "lumen 5.5",
          "jQuery",
          "gitlab (git + ci)",
          "Хорошие организаторские способности",
          "flutter",
          "elk",
          "Франщиза",
          "CDP",
          "Партнёрки",
          "CPA-сети",
          "COO",
          "Планирование бюджета",
          "DRY",
          "Опыт работы более 10 лет",
          "Продажа кредитных продуктов",
          "Продажа страховых продуктов",
          "Самодисциплина",
          "Привлечение новых дистрибьюторов",
          "Atlassian Confluence",
          "1c",
          "1С программирование",
          "Собственная розница",
          "Постановка задач",
          "Умение работать с большим количеством информации",
          "Ипотечное страхование",
          "продажа транспорта",
          "Увеличение прибыли",
          "Управление",
          "Госпитальные закупки",
          "HL-Блок",
          "Оптимизация каналов продаж",
          "EDT",
          "Redis",
          "ASA",
          "API",
          "RTPengine",
          "Openresty",
          "Teamplayer",
          "ASO",
          "1С: Управление предприятием",
          "Развитие сети присутствия",
          "C/C++",
          "Самозанятость",
          "БАДы",
          "Внимательность к деталям",
          "Венчурное финансирование",
          "Управление контентом интернет-магазина",
          "MC Excel",
          "M&A",
          "Французский — C1 — Продвинутый",
          "Франчайзинг",
          "Lua",
          "Kamailio",
          "Фармацевтическая химия",
          "Асинхронное программирование",
          "RethinkDB",
          "SHA",
          "Performance Marketing",
          "Разработка продукта RnD",
          "Разработка ПО",
          "Agile Project Management",
          "Product Development",
          "OpenOffice",
          "Юнит-экономика",
          "Творческий подход к продажам",
          "Опыт работы с сетевыми клиентами",
          "Лекарственные препараты",
          "Clickhouse",
          "Freeswitch",
          "Государственные структуры",
          "Моделирование бизнес процессов",
          "хороший соцпакет.",
          "релокация оплачивается",
          "Мобильные приложения",
          "Организационное развитие",
          "способность работать с большими массивами информации",
          "Backend",
          "Проектные продажи",
          "Опционы",
          "Международный рынок",
          "Транзакционная документация",
          "Планирование и формирование маркетингового бюджета",
          "Стратегический анализ",
          "Описание бизнес-процессов",
          "Оптимизация кода",
          "Стратегический менеджмент",
          "Affiliate",
          "Оптимизация логистических процессов",
          "Медиабаинг",
          "Логическое мышление",
          "AV",
          "Управление сервисом",
          "Tableau",
          "Дистрибьюция",
          "Логистический менеджмент",
          "Data Analysis",
          "Управление качеством",
          "Повышение KPIs"
         ],
         "y": [
          250000,
          250000,
          250000,
          250000,
          250000,
          250000,
          250000,
          250000,
          250000,
          250000,
          250000,
          250000,
          250000,
          250000,
          250000,
          250000,
          250000,
          250000,
          250000,
          250000,
          250000,
          250000,
          250000,
          250000,
          250000,
          250000,
          250000,
          250000,
          250000,
          250000,
          250000,
          250000,
          250000,
          250000,
          275000,
          300000,
          300000,
          300000,
          300000,
          300000,
          300000,
          300000,
          300000,
          300000,
          300000,
          300000,
          300000,
          300000,
          300000,
          300000,
          300000,
          300000,
          300000,
          300000,
          300000,
          300000,
          300000,
          300000,
          300000,
          300000,
          300000,
          300000,
          300000,
          300000,
          300000,
          300000,
          300000,
          300000,
          300000,
          300000,
          300000,
          300000,
          300000,
          300000,
          300000,
          300000,
          300000,
          300000,
          300000,
          300000,
          300000,
          300000,
          300000,
          300000,
          300000,
          300000,
          300000,
          306000,
          335000,
          350000,
          375000,
          375000,
          500000,
          500000,
          500000,
          500000,
          500000,
          500000,
          500000,
          500000
         ]
        },
        {
         "type": "scatter",
         "x": [
          "perconadb",
          "js/css/html",
          "lumen 5.5",
          "jQuery",
          "gitlab (git + ci)",
          "Хорошие организаторские способности",
          "flutter",
          "elk",
          "Франщиза",
          "CDP",
          "Партнёрки",
          "CPA-сети",
          "COO",
          "Планирование бюджета",
          "DRY",
          "Опыт работы более 10 лет",
          "Продажа кредитных продуктов",
          "Продажа страховых продуктов",
          "Самодисциплина",
          "Привлечение новых дистрибьюторов",
          "Atlassian Confluence",
          "1c",
          "1С программирование",
          "Собственная розница",
          "Постановка задач",
          "Умение работать с большим количеством информации",
          "Ипотечное страхование",
          "продажа транспорта",
          "Увеличение прибыли",
          "Управление",
          "Госпитальные закупки",
          "HL-Блок",
          "Оптимизация каналов продаж",
          "EDT",
          "Redis",
          "ASA",
          "API",
          "RTPengine",
          "Openresty",
          "Teamplayer",
          "ASO",
          "1С: Управление предприятием",
          "Развитие сети присутствия",
          "C/C++",
          "Самозанятость",
          "БАДы",
          "Внимательность к деталям",
          "Венчурное финансирование",
          "Управление контентом интернет-магазина",
          "MC Excel",
          "M&A",
          "Французский — C1 — Продвинутый",
          "Франчайзинг",
          "Lua",
          "Kamailio",
          "Фармацевтическая химия",
          "Асинхронное программирование",
          "RethinkDB",
          "SHA",
          "Performance Marketing",
          "Разработка продукта RnD",
          "Разработка ПО",
          "Agile Project Management",
          "Product Development",
          "OpenOffice",
          "Юнит-экономика",
          "Творческий подход к продажам",
          "Опыт работы с сетевыми клиентами",
          "Лекарственные препараты",
          "Clickhouse",
          "Freeswitch",
          "Государственные структуры",
          "Моделирование бизнес процессов",
          "хороший соцпакет.",
          "релокация оплачивается",
          "Мобильные приложения",
          "Организационное развитие",
          "способность работать с большими массивами информации",
          "Backend",
          "Проектные продажи",
          "Опционы",
          "Международный рынок",
          "Транзакционная документация",
          "Планирование и формирование маркетингового бюджета",
          "Стратегический анализ",
          "Описание бизнес-процессов",
          "Оптимизация кода",
          "Стратегический менеджмент",
          "Affiliate",
          "Оптимизация логистических процессов",
          "Медиабаинг",
          "Логическое мышление",
          "AV",
          "Управление сервисом",
          "Tableau",
          "Дистрибьюция",
          "Логистический менеджмент",
          "Data Analysis",
          "Управление качеством",
          "Повышение KPIs"
         ],
         "y": [
          0,
          0,
          0,
          0,
          0,
          0,
          0,
          0,
          0,
          0,
          0,
          0,
          0,
          0,
          0,
          0,
          0,
          0,
          0,
          0,
          0,
          0,
          0,
          0,
          0,
          0,
          0,
          0,
          0,
          0,
          0,
          0,
          0,
          0,
          25000,
          0,
          0,
          0,
          0,
          0,
          0,
          0,
          0,
          0,
          0,
          0,
          0,
          0,
          0,
          0,
          0,
          0,
          0,
          0,
          0,
          0,
          0,
          0,
          0,
          0,
          0,
          0,
          0,
          0,
          0,
          0,
          0,
          0,
          0,
          0,
          0,
          0,
          0,
          0,
          0,
          0,
          0,
          0,
          0,
          0,
          0,
          0,
          0,
          0,
          0,
          0,
          0,
          161691.0634512619,
          115000,
          150000,
          75000,
          125000,
          0,
          0,
          0,
          0,
          0,
          0,
          0,
          0
         ]
        }
       ],
       "layout": {
        "template": {
         "data": {
          "bar": [
           {
            "error_x": {
             "color": "#2a3f5f"
            },
            "error_y": {
             "color": "#2a3f5f"
            },
            "marker": {
             "line": {
              "color": "#E5ECF6",
              "width": 0.5
             },
             "pattern": {
              "fillmode": "overlay",
              "size": 10,
              "solidity": 0.2
             }
            },
            "type": "bar"
           }
          ],
          "barpolar": [
           {
            "marker": {
             "line": {
              "color": "#E5ECF6",
              "width": 0.5
             },
             "pattern": {
              "fillmode": "overlay",
              "size": 10,
              "solidity": 0.2
             }
            },
            "type": "barpolar"
           }
          ],
          "carpet": [
           {
            "aaxis": {
             "endlinecolor": "#2a3f5f",
             "gridcolor": "white",
             "linecolor": "white",
             "minorgridcolor": "white",
             "startlinecolor": "#2a3f5f"
            },
            "baxis": {
             "endlinecolor": "#2a3f5f",
             "gridcolor": "white",
             "linecolor": "white",
             "minorgridcolor": "white",
             "startlinecolor": "#2a3f5f"
            },
            "type": "carpet"
           }
          ],
          "choropleth": [
           {
            "colorbar": {
             "outlinewidth": 0,
             "ticks": ""
            },
            "type": "choropleth"
           }
          ],
          "contour": [
           {
            "colorbar": {
             "outlinewidth": 0,
             "ticks": ""
            },
            "colorscale": [
             [
              0,
              "#0d0887"
             ],
             [
              0.1111111111111111,
              "#46039f"
             ],
             [
              0.2222222222222222,
              "#7201a8"
             ],
             [
              0.3333333333333333,
              "#9c179e"
             ],
             [
              0.4444444444444444,
              "#bd3786"
             ],
             [
              0.5555555555555556,
              "#d8576b"
             ],
             [
              0.6666666666666666,
              "#ed7953"
             ],
             [
              0.7777777777777778,
              "#fb9f3a"
             ],
             [
              0.8888888888888888,
              "#fdca26"
             ],
             [
              1,
              "#f0f921"
             ]
            ],
            "type": "contour"
           }
          ],
          "contourcarpet": [
           {
            "colorbar": {
             "outlinewidth": 0,
             "ticks": ""
            },
            "type": "contourcarpet"
           }
          ],
          "heatmap": [
           {
            "colorbar": {
             "outlinewidth": 0,
             "ticks": ""
            },
            "colorscale": [
             [
              0,
              "#0d0887"
             ],
             [
              0.1111111111111111,
              "#46039f"
             ],
             [
              0.2222222222222222,
              "#7201a8"
             ],
             [
              0.3333333333333333,
              "#9c179e"
             ],
             [
              0.4444444444444444,
              "#bd3786"
             ],
             [
              0.5555555555555556,
              "#d8576b"
             ],
             [
              0.6666666666666666,
              "#ed7953"
             ],
             [
              0.7777777777777778,
              "#fb9f3a"
             ],
             [
              0.8888888888888888,
              "#fdca26"
             ],
             [
              1,
              "#f0f921"
             ]
            ],
            "type": "heatmap"
           }
          ],
          "heatmapgl": [
           {
            "colorbar": {
             "outlinewidth": 0,
             "ticks": ""
            },
            "colorscale": [
             [
              0,
              "#0d0887"
             ],
             [
              0.1111111111111111,
              "#46039f"
             ],
             [
              0.2222222222222222,
              "#7201a8"
             ],
             [
              0.3333333333333333,
              "#9c179e"
             ],
             [
              0.4444444444444444,
              "#bd3786"
             ],
             [
              0.5555555555555556,
              "#d8576b"
             ],
             [
              0.6666666666666666,
              "#ed7953"
             ],
             [
              0.7777777777777778,
              "#fb9f3a"
             ],
             [
              0.8888888888888888,
              "#fdca26"
             ],
             [
              1,
              "#f0f921"
             ]
            ],
            "type": "heatmapgl"
           }
          ],
          "histogram": [
           {
            "marker": {
             "pattern": {
              "fillmode": "overlay",
              "size": 10,
              "solidity": 0.2
             }
            },
            "type": "histogram"
           }
          ],
          "histogram2d": [
           {
            "colorbar": {
             "outlinewidth": 0,
             "ticks": ""
            },
            "colorscale": [
             [
              0,
              "#0d0887"
             ],
             [
              0.1111111111111111,
              "#46039f"
             ],
             [
              0.2222222222222222,
              "#7201a8"
             ],
             [
              0.3333333333333333,
              "#9c179e"
             ],
             [
              0.4444444444444444,
              "#bd3786"
             ],
             [
              0.5555555555555556,
              "#d8576b"
             ],
             [
              0.6666666666666666,
              "#ed7953"
             ],
             [
              0.7777777777777778,
              "#fb9f3a"
             ],
             [
              0.8888888888888888,
              "#fdca26"
             ],
             [
              1,
              "#f0f921"
             ]
            ],
            "type": "histogram2d"
           }
          ],
          "histogram2dcontour": [
           {
            "colorbar": {
             "outlinewidth": 0,
             "ticks": ""
            },
            "colorscale": [
             [
              0,
              "#0d0887"
             ],
             [
              0.1111111111111111,
              "#46039f"
             ],
             [
              0.2222222222222222,
              "#7201a8"
             ],
             [
              0.3333333333333333,
              "#9c179e"
             ],
             [
              0.4444444444444444,
              "#bd3786"
             ],
             [
              0.5555555555555556,
              "#d8576b"
             ],
             [
              0.6666666666666666,
              "#ed7953"
             ],
             [
              0.7777777777777778,
              "#fb9f3a"
             ],
             [
              0.8888888888888888,
              "#fdca26"
             ],
             [
              1,
              "#f0f921"
             ]
            ],
            "type": "histogram2dcontour"
           }
          ],
          "mesh3d": [
           {
            "colorbar": {
             "outlinewidth": 0,
             "ticks": ""
            },
            "type": "mesh3d"
           }
          ],
          "parcoords": [
           {
            "line": {
             "colorbar": {
              "outlinewidth": 0,
              "ticks": ""
             }
            },
            "type": "parcoords"
           }
          ],
          "pie": [
           {
            "automargin": true,
            "type": "pie"
           }
          ],
          "scatter": [
           {
            "fillpattern": {
             "fillmode": "overlay",
             "size": 10,
             "solidity": 0.2
            },
            "type": "scatter"
           }
          ],
          "scatter3d": [
           {
            "line": {
             "colorbar": {
              "outlinewidth": 0,
              "ticks": ""
             }
            },
            "marker": {
             "colorbar": {
              "outlinewidth": 0,
              "ticks": ""
             }
            },
            "type": "scatter3d"
           }
          ],
          "scattercarpet": [
           {
            "marker": {
             "colorbar": {
              "outlinewidth": 0,
              "ticks": ""
             }
            },
            "type": "scattercarpet"
           }
          ],
          "scattergeo": [
           {
            "marker": {
             "colorbar": {
              "outlinewidth": 0,
              "ticks": ""
             }
            },
            "type": "scattergeo"
           }
          ],
          "scattergl": [
           {
            "marker": {
             "colorbar": {
              "outlinewidth": 0,
              "ticks": ""
             }
            },
            "type": "scattergl"
           }
          ],
          "scattermapbox": [
           {
            "marker": {
             "colorbar": {
              "outlinewidth": 0,
              "ticks": ""
             }
            },
            "type": "scattermapbox"
           }
          ],
          "scatterpolar": [
           {
            "marker": {
             "colorbar": {
              "outlinewidth": 0,
              "ticks": ""
             }
            },
            "type": "scatterpolar"
           }
          ],
          "scatterpolargl": [
           {
            "marker": {
             "colorbar": {
              "outlinewidth": 0,
              "ticks": ""
             }
            },
            "type": "scatterpolargl"
           }
          ],
          "scatterternary": [
           {
            "marker": {
             "colorbar": {
              "outlinewidth": 0,
              "ticks": ""
             }
            },
            "type": "scatterternary"
           }
          ],
          "surface": [
           {
            "colorbar": {
             "outlinewidth": 0,
             "ticks": ""
            },
            "colorscale": [
             [
              0,
              "#0d0887"
             ],
             [
              0.1111111111111111,
              "#46039f"
             ],
             [
              0.2222222222222222,
              "#7201a8"
             ],
             [
              0.3333333333333333,
              "#9c179e"
             ],
             [
              0.4444444444444444,
              "#bd3786"
             ],
             [
              0.5555555555555556,
              "#d8576b"
             ],
             [
              0.6666666666666666,
              "#ed7953"
             ],
             [
              0.7777777777777778,
              "#fb9f3a"
             ],
             [
              0.8888888888888888,
              "#fdca26"
             ],
             [
              1,
              "#f0f921"
             ]
            ],
            "type": "surface"
           }
          ],
          "table": [
           {
            "cells": {
             "fill": {
              "color": "#EBF0F8"
             },
             "line": {
              "color": "white"
             }
            },
            "header": {
             "fill": {
              "color": "#C8D4E3"
             },
             "line": {
              "color": "white"
             }
            },
            "type": "table"
           }
          ]
         },
         "layout": {
          "annotationdefaults": {
           "arrowcolor": "#2a3f5f",
           "arrowhead": 0,
           "arrowwidth": 1
          },
          "autotypenumbers": "strict",
          "coloraxis": {
           "colorbar": {
            "outlinewidth": 0,
            "ticks": ""
           }
          },
          "colorscale": {
           "diverging": [
            [
             0,
             "#8e0152"
            ],
            [
             0.1,
             "#c51b7d"
            ],
            [
             0.2,
             "#de77ae"
            ],
            [
             0.3,
             "#f1b6da"
            ],
            [
             0.4,
             "#fde0ef"
            ],
            [
             0.5,
             "#f7f7f7"
            ],
            [
             0.6,
             "#e6f5d0"
            ],
            [
             0.7,
             "#b8e186"
            ],
            [
             0.8,
             "#7fbc41"
            ],
            [
             0.9,
             "#4d9221"
            ],
            [
             1,
             "#276419"
            ]
           ],
           "sequential": [
            [
             0,
             "#0d0887"
            ],
            [
             0.1111111111111111,
             "#46039f"
            ],
            [
             0.2222222222222222,
             "#7201a8"
            ],
            [
             0.3333333333333333,
             "#9c179e"
            ],
            [
             0.4444444444444444,
             "#bd3786"
            ],
            [
             0.5555555555555556,
             "#d8576b"
            ],
            [
             0.6666666666666666,
             "#ed7953"
            ],
            [
             0.7777777777777778,
             "#fb9f3a"
            ],
            [
             0.8888888888888888,
             "#fdca26"
            ],
            [
             1,
             "#f0f921"
            ]
           ],
           "sequentialminus": [
            [
             0,
             "#0d0887"
            ],
            [
             0.1111111111111111,
             "#46039f"
            ],
            [
             0.2222222222222222,
             "#7201a8"
            ],
            [
             0.3333333333333333,
             "#9c179e"
            ],
            [
             0.4444444444444444,
             "#bd3786"
            ],
            [
             0.5555555555555556,
             "#d8576b"
            ],
            [
             0.6666666666666666,
             "#ed7953"
            ],
            [
             0.7777777777777778,
             "#fb9f3a"
            ],
            [
             0.8888888888888888,
             "#fdca26"
            ],
            [
             1,
             "#f0f921"
            ]
           ]
          },
          "colorway": [
           "#636efa",
           "#EF553B",
           "#00cc96",
           "#ab63fa",
           "#FFA15A",
           "#19d3f3",
           "#FF6692",
           "#B6E880",
           "#FF97FF",
           "#FECB52"
          ],
          "font": {
           "color": "#2a3f5f"
          },
          "geo": {
           "bgcolor": "white",
           "lakecolor": "white",
           "landcolor": "#E5ECF6",
           "showlakes": true,
           "showland": true,
           "subunitcolor": "white"
          },
          "hoverlabel": {
           "align": "left"
          },
          "hovermode": "closest",
          "mapbox": {
           "style": "light"
          },
          "paper_bgcolor": "white",
          "plot_bgcolor": "#E5ECF6",
          "polar": {
           "angularaxis": {
            "gridcolor": "white",
            "linecolor": "white",
            "ticks": ""
           },
           "bgcolor": "#E5ECF6",
           "radialaxis": {
            "gridcolor": "white",
            "linecolor": "white",
            "ticks": ""
           }
          },
          "scene": {
           "xaxis": {
            "backgroundcolor": "#E5ECF6",
            "gridcolor": "white",
            "gridwidth": 2,
            "linecolor": "white",
            "showbackground": true,
            "ticks": "",
            "zerolinecolor": "white"
           },
           "yaxis": {
            "backgroundcolor": "#E5ECF6",
            "gridcolor": "white",
            "gridwidth": 2,
            "linecolor": "white",
            "showbackground": true,
            "ticks": "",
            "zerolinecolor": "white"
           },
           "zaxis": {
            "backgroundcolor": "#E5ECF6",
            "gridcolor": "white",
            "gridwidth": 2,
            "linecolor": "white",
            "showbackground": true,
            "ticks": "",
            "zerolinecolor": "white"
           }
          },
          "shapedefaults": {
           "line": {
            "color": "#2a3f5f"
           }
          },
          "ternary": {
           "aaxis": {
            "gridcolor": "white",
            "linecolor": "white",
            "ticks": ""
           },
           "baxis": {
            "gridcolor": "white",
            "linecolor": "white",
            "ticks": ""
           },
           "bgcolor": "#E5ECF6",
           "caxis": {
            "gridcolor": "white",
            "linecolor": "white",
            "ticks": ""
           }
          },
          "title": {
           "x": 0.05
          },
          "xaxis": {
           "automargin": true,
           "gridcolor": "white",
           "linecolor": "white",
           "ticks": "",
           "title": {
            "standoff": 15
           },
           "zerolinecolor": "white",
           "zerolinewidth": 2
          },
          "yaxis": {
           "automargin": true,
           "gridcolor": "white",
           "linecolor": "white",
           "ticks": "",
           "title": {
            "standoff": 15
           },
           "zerolinecolor": "white",
           "zerolinewidth": 2
          }
         }
        }
       }
      }
     },
     "metadata": {},
     "output_type": "display_data"
    }
   ],
   "source": [
    "df = data.explode('tags_list')\n",
    "\n",
    "grouped_df = df.groupby([\"tags_list\"]).agg({\"tags_list\": \"count\"})\n",
    "grouped_df.columns = [\"count\"]\n",
    "grouped_df['from_mean'] = df.groupby('tags_list')['from'].apply(lambda x: x.sum()/len(x)).values\n",
    "grouped_df['from_list'] = df.groupby('tags_list')['from'].apply(list).values\n",
    "grouped_df['from_std'] = grouped_df['from_list'].apply(np.std)\n",
    "print(f\"Число уникальных тегов в data: {len(grouped_df)}\")\n",
    "grouped_df = grouped_df.reset_index().sort_values(by=\"from_mean\")[-100:]\n",
    "fig = go.Figure()\n",
    "fig.add_trace(go.Bar(x=grouped_df[\"tags_list\"], y=grouped_df[\"from_mean\"]))\n",
    "fig.add_trace(go.Scatter(x=grouped_df[\"tags_list\"], y=grouped_df[\"from_std\"]))\n",
    "fig.show()"
   ]
  },
  {
   "cell_type": "markdown",
   "metadata": {},
   "source": [
    "Рассмотрим интересный случай поближе"
   ]
  },
  {
   "cell_type": "code",
   "execution_count": 102,
   "metadata": {},
   "outputs": [
    {
     "data": {
      "application/vnd.plotly.v1+json": {
       "config": {
        "plotlyServerURL": "https://plot.ly"
       },
       "data": [
        {
         "type": "bar",
         "x": [
          "Опционы",
          "Международный рынок",
          "Транзакционная документация",
          "Планирование и формирование маркетингового бюджета",
          "Стратегический анализ",
          "Описание бизнес-процессов",
          "Оптимизация кода",
          "Стратегический менеджмент",
          "Affiliate",
          "Оптимизация логистических процессов",
          "Медиабаинг",
          "Логическое мышление",
          "AV",
          "Управление сервисом",
          "Tableau",
          "Дистрибьюция",
          "Логистический менеджмент",
          "Data Analysis",
          "Управление качеством",
          "Повышение KPIs"
         ],
         "y": [
          300000,
          300000,
          300000,
          300000,
          300000,
          300000,
          300000,
          306000,
          335000,
          350000,
          375000,
          375000,
          500000,
          500000,
          500000,
          500000,
          500000,
          500000,
          500000,
          500000
         ]
        },
        {
         "type": "scatter",
         "x": [
          "Опционы",
          "Международный рынок",
          "Транзакционная документация",
          "Планирование и формирование маркетингового бюджета",
          "Стратегический анализ",
          "Описание бизнес-процессов",
          "Оптимизация кода",
          "Стратегический менеджмент",
          "Affiliate",
          "Оптимизация логистических процессов",
          "Медиабаинг",
          "Логическое мышление",
          "AV",
          "Управление сервисом",
          "Tableau",
          "Дистрибьюция",
          "Логистический менеджмент",
          "Data Analysis",
          "Управление качеством",
          "Повышение KPIs"
         ],
         "y": [
          0,
          0,
          0,
          0,
          0,
          0,
          0,
          161691.0634512619,
          115000,
          150000,
          75000,
          125000,
          0,
          0,
          0,
          0,
          0,
          0,
          0,
          0
         ]
        }
       ],
       "layout": {
        "template": {
         "data": {
          "bar": [
           {
            "error_x": {
             "color": "#2a3f5f"
            },
            "error_y": {
             "color": "#2a3f5f"
            },
            "marker": {
             "line": {
              "color": "#E5ECF6",
              "width": 0.5
             },
             "pattern": {
              "fillmode": "overlay",
              "size": 10,
              "solidity": 0.2
             }
            },
            "type": "bar"
           }
          ],
          "barpolar": [
           {
            "marker": {
             "line": {
              "color": "#E5ECF6",
              "width": 0.5
             },
             "pattern": {
              "fillmode": "overlay",
              "size": 10,
              "solidity": 0.2
             }
            },
            "type": "barpolar"
           }
          ],
          "carpet": [
           {
            "aaxis": {
             "endlinecolor": "#2a3f5f",
             "gridcolor": "white",
             "linecolor": "white",
             "minorgridcolor": "white",
             "startlinecolor": "#2a3f5f"
            },
            "baxis": {
             "endlinecolor": "#2a3f5f",
             "gridcolor": "white",
             "linecolor": "white",
             "minorgridcolor": "white",
             "startlinecolor": "#2a3f5f"
            },
            "type": "carpet"
           }
          ],
          "choropleth": [
           {
            "colorbar": {
             "outlinewidth": 0,
             "ticks": ""
            },
            "type": "choropleth"
           }
          ],
          "contour": [
           {
            "colorbar": {
             "outlinewidth": 0,
             "ticks": ""
            },
            "colorscale": [
             [
              0,
              "#0d0887"
             ],
             [
              0.1111111111111111,
              "#46039f"
             ],
             [
              0.2222222222222222,
              "#7201a8"
             ],
             [
              0.3333333333333333,
              "#9c179e"
             ],
             [
              0.4444444444444444,
              "#bd3786"
             ],
             [
              0.5555555555555556,
              "#d8576b"
             ],
             [
              0.6666666666666666,
              "#ed7953"
             ],
             [
              0.7777777777777778,
              "#fb9f3a"
             ],
             [
              0.8888888888888888,
              "#fdca26"
             ],
             [
              1,
              "#f0f921"
             ]
            ],
            "type": "contour"
           }
          ],
          "contourcarpet": [
           {
            "colorbar": {
             "outlinewidth": 0,
             "ticks": ""
            },
            "type": "contourcarpet"
           }
          ],
          "heatmap": [
           {
            "colorbar": {
             "outlinewidth": 0,
             "ticks": ""
            },
            "colorscale": [
             [
              0,
              "#0d0887"
             ],
             [
              0.1111111111111111,
              "#46039f"
             ],
             [
              0.2222222222222222,
              "#7201a8"
             ],
             [
              0.3333333333333333,
              "#9c179e"
             ],
             [
              0.4444444444444444,
              "#bd3786"
             ],
             [
              0.5555555555555556,
              "#d8576b"
             ],
             [
              0.6666666666666666,
              "#ed7953"
             ],
             [
              0.7777777777777778,
              "#fb9f3a"
             ],
             [
              0.8888888888888888,
              "#fdca26"
             ],
             [
              1,
              "#f0f921"
             ]
            ],
            "type": "heatmap"
           }
          ],
          "heatmapgl": [
           {
            "colorbar": {
             "outlinewidth": 0,
             "ticks": ""
            },
            "colorscale": [
             [
              0,
              "#0d0887"
             ],
             [
              0.1111111111111111,
              "#46039f"
             ],
             [
              0.2222222222222222,
              "#7201a8"
             ],
             [
              0.3333333333333333,
              "#9c179e"
             ],
             [
              0.4444444444444444,
              "#bd3786"
             ],
             [
              0.5555555555555556,
              "#d8576b"
             ],
             [
              0.6666666666666666,
              "#ed7953"
             ],
             [
              0.7777777777777778,
              "#fb9f3a"
             ],
             [
              0.8888888888888888,
              "#fdca26"
             ],
             [
              1,
              "#f0f921"
             ]
            ],
            "type": "heatmapgl"
           }
          ],
          "histogram": [
           {
            "marker": {
             "pattern": {
              "fillmode": "overlay",
              "size": 10,
              "solidity": 0.2
             }
            },
            "type": "histogram"
           }
          ],
          "histogram2d": [
           {
            "colorbar": {
             "outlinewidth": 0,
             "ticks": ""
            },
            "colorscale": [
             [
              0,
              "#0d0887"
             ],
             [
              0.1111111111111111,
              "#46039f"
             ],
             [
              0.2222222222222222,
              "#7201a8"
             ],
             [
              0.3333333333333333,
              "#9c179e"
             ],
             [
              0.4444444444444444,
              "#bd3786"
             ],
             [
              0.5555555555555556,
              "#d8576b"
             ],
             [
              0.6666666666666666,
              "#ed7953"
             ],
             [
              0.7777777777777778,
              "#fb9f3a"
             ],
             [
              0.8888888888888888,
              "#fdca26"
             ],
             [
              1,
              "#f0f921"
             ]
            ],
            "type": "histogram2d"
           }
          ],
          "histogram2dcontour": [
           {
            "colorbar": {
             "outlinewidth": 0,
             "ticks": ""
            },
            "colorscale": [
             [
              0,
              "#0d0887"
             ],
             [
              0.1111111111111111,
              "#46039f"
             ],
             [
              0.2222222222222222,
              "#7201a8"
             ],
             [
              0.3333333333333333,
              "#9c179e"
             ],
             [
              0.4444444444444444,
              "#bd3786"
             ],
             [
              0.5555555555555556,
              "#d8576b"
             ],
             [
              0.6666666666666666,
              "#ed7953"
             ],
             [
              0.7777777777777778,
              "#fb9f3a"
             ],
             [
              0.8888888888888888,
              "#fdca26"
             ],
             [
              1,
              "#f0f921"
             ]
            ],
            "type": "histogram2dcontour"
           }
          ],
          "mesh3d": [
           {
            "colorbar": {
             "outlinewidth": 0,
             "ticks": ""
            },
            "type": "mesh3d"
           }
          ],
          "parcoords": [
           {
            "line": {
             "colorbar": {
              "outlinewidth": 0,
              "ticks": ""
             }
            },
            "type": "parcoords"
           }
          ],
          "pie": [
           {
            "automargin": true,
            "type": "pie"
           }
          ],
          "scatter": [
           {
            "fillpattern": {
             "fillmode": "overlay",
             "size": 10,
             "solidity": 0.2
            },
            "type": "scatter"
           }
          ],
          "scatter3d": [
           {
            "line": {
             "colorbar": {
              "outlinewidth": 0,
              "ticks": ""
             }
            },
            "marker": {
             "colorbar": {
              "outlinewidth": 0,
              "ticks": ""
             }
            },
            "type": "scatter3d"
           }
          ],
          "scattercarpet": [
           {
            "marker": {
             "colorbar": {
              "outlinewidth": 0,
              "ticks": ""
             }
            },
            "type": "scattercarpet"
           }
          ],
          "scattergeo": [
           {
            "marker": {
             "colorbar": {
              "outlinewidth": 0,
              "ticks": ""
             }
            },
            "type": "scattergeo"
           }
          ],
          "scattergl": [
           {
            "marker": {
             "colorbar": {
              "outlinewidth": 0,
              "ticks": ""
             }
            },
            "type": "scattergl"
           }
          ],
          "scattermapbox": [
           {
            "marker": {
             "colorbar": {
              "outlinewidth": 0,
              "ticks": ""
             }
            },
            "type": "scattermapbox"
           }
          ],
          "scatterpolar": [
           {
            "marker": {
             "colorbar": {
              "outlinewidth": 0,
              "ticks": ""
             }
            },
            "type": "scatterpolar"
           }
          ],
          "scatterpolargl": [
           {
            "marker": {
             "colorbar": {
              "outlinewidth": 0,
              "ticks": ""
             }
            },
            "type": "scatterpolargl"
           }
          ],
          "scatterternary": [
           {
            "marker": {
             "colorbar": {
              "outlinewidth": 0,
              "ticks": ""
             }
            },
            "type": "scatterternary"
           }
          ],
          "surface": [
           {
            "colorbar": {
             "outlinewidth": 0,
             "ticks": ""
            },
            "colorscale": [
             [
              0,
              "#0d0887"
             ],
             [
              0.1111111111111111,
              "#46039f"
             ],
             [
              0.2222222222222222,
              "#7201a8"
             ],
             [
              0.3333333333333333,
              "#9c179e"
             ],
             [
              0.4444444444444444,
              "#bd3786"
             ],
             [
              0.5555555555555556,
              "#d8576b"
             ],
             [
              0.6666666666666666,
              "#ed7953"
             ],
             [
              0.7777777777777778,
              "#fb9f3a"
             ],
             [
              0.8888888888888888,
              "#fdca26"
             ],
             [
              1,
              "#f0f921"
             ]
            ],
            "type": "surface"
           }
          ],
          "table": [
           {
            "cells": {
             "fill": {
              "color": "#EBF0F8"
             },
             "line": {
              "color": "white"
             }
            },
            "header": {
             "fill": {
              "color": "#C8D4E3"
             },
             "line": {
              "color": "white"
             }
            },
            "type": "table"
           }
          ]
         },
         "layout": {
          "annotationdefaults": {
           "arrowcolor": "#2a3f5f",
           "arrowhead": 0,
           "arrowwidth": 1
          },
          "autotypenumbers": "strict",
          "coloraxis": {
           "colorbar": {
            "outlinewidth": 0,
            "ticks": ""
           }
          },
          "colorscale": {
           "diverging": [
            [
             0,
             "#8e0152"
            ],
            [
             0.1,
             "#c51b7d"
            ],
            [
             0.2,
             "#de77ae"
            ],
            [
             0.3,
             "#f1b6da"
            ],
            [
             0.4,
             "#fde0ef"
            ],
            [
             0.5,
             "#f7f7f7"
            ],
            [
             0.6,
             "#e6f5d0"
            ],
            [
             0.7,
             "#b8e186"
            ],
            [
             0.8,
             "#7fbc41"
            ],
            [
             0.9,
             "#4d9221"
            ],
            [
             1,
             "#276419"
            ]
           ],
           "sequential": [
            [
             0,
             "#0d0887"
            ],
            [
             0.1111111111111111,
             "#46039f"
            ],
            [
             0.2222222222222222,
             "#7201a8"
            ],
            [
             0.3333333333333333,
             "#9c179e"
            ],
            [
             0.4444444444444444,
             "#bd3786"
            ],
            [
             0.5555555555555556,
             "#d8576b"
            ],
            [
             0.6666666666666666,
             "#ed7953"
            ],
            [
             0.7777777777777778,
             "#fb9f3a"
            ],
            [
             0.8888888888888888,
             "#fdca26"
            ],
            [
             1,
             "#f0f921"
            ]
           ],
           "sequentialminus": [
            [
             0,
             "#0d0887"
            ],
            [
             0.1111111111111111,
             "#46039f"
            ],
            [
             0.2222222222222222,
             "#7201a8"
            ],
            [
             0.3333333333333333,
             "#9c179e"
            ],
            [
             0.4444444444444444,
             "#bd3786"
            ],
            [
             0.5555555555555556,
             "#d8576b"
            ],
            [
             0.6666666666666666,
             "#ed7953"
            ],
            [
             0.7777777777777778,
             "#fb9f3a"
            ],
            [
             0.8888888888888888,
             "#fdca26"
            ],
            [
             1,
             "#f0f921"
            ]
           ]
          },
          "colorway": [
           "#636efa",
           "#EF553B",
           "#00cc96",
           "#ab63fa",
           "#FFA15A",
           "#19d3f3",
           "#FF6692",
           "#B6E880",
           "#FF97FF",
           "#FECB52"
          ],
          "font": {
           "color": "#2a3f5f"
          },
          "geo": {
           "bgcolor": "white",
           "lakecolor": "white",
           "landcolor": "#E5ECF6",
           "showlakes": true,
           "showland": true,
           "subunitcolor": "white"
          },
          "hoverlabel": {
           "align": "left"
          },
          "hovermode": "closest",
          "mapbox": {
           "style": "light"
          },
          "paper_bgcolor": "white",
          "plot_bgcolor": "#E5ECF6",
          "polar": {
           "angularaxis": {
            "gridcolor": "white",
            "linecolor": "white",
            "ticks": ""
           },
           "bgcolor": "#E5ECF6",
           "radialaxis": {
            "gridcolor": "white",
            "linecolor": "white",
            "ticks": ""
           }
          },
          "scene": {
           "xaxis": {
            "backgroundcolor": "#E5ECF6",
            "gridcolor": "white",
            "gridwidth": 2,
            "linecolor": "white",
            "showbackground": true,
            "ticks": "",
            "zerolinecolor": "white"
           },
           "yaxis": {
            "backgroundcolor": "#E5ECF6",
            "gridcolor": "white",
            "gridwidth": 2,
            "linecolor": "white",
            "showbackground": true,
            "ticks": "",
            "zerolinecolor": "white"
           },
           "zaxis": {
            "backgroundcolor": "#E5ECF6",
            "gridcolor": "white",
            "gridwidth": 2,
            "linecolor": "white",
            "showbackground": true,
            "ticks": "",
            "zerolinecolor": "white"
           }
          },
          "shapedefaults": {
           "line": {
            "color": "#2a3f5f"
           }
          },
          "ternary": {
           "aaxis": {
            "gridcolor": "white",
            "linecolor": "white",
            "ticks": ""
           },
           "baxis": {
            "gridcolor": "white",
            "linecolor": "white",
            "ticks": ""
           },
           "bgcolor": "#E5ECF6",
           "caxis": {
            "gridcolor": "white",
            "linecolor": "white",
            "ticks": ""
           }
          },
          "title": {
           "x": 0.05
          },
          "xaxis": {
           "automargin": true,
           "gridcolor": "white",
           "linecolor": "white",
           "ticks": "",
           "title": {
            "standoff": 15
           },
           "zerolinecolor": "white",
           "zerolinewidth": 2
          },
          "yaxis": {
           "automargin": true,
           "gridcolor": "white",
           "linecolor": "white",
           "ticks": "",
           "title": {
            "standoff": 15
           },
           "zerolinecolor": "white",
           "zerolinewidth": 2
          }
         }
        }
       }
      }
     },
     "metadata": {},
     "output_type": "display_data"
    }
   ],
   "source": [
    "grouped_df = grouped_df.reset_index().sort_values(by=\"from_mean\")[-20:]\n",
    "fig = go.Figure()\n",
    "fig.add_trace(go.Bar(x=grouped_df[\"tags_list\"], y=grouped_df[\"from_mean\"]))\n",
    "fig.add_trace(go.Scatter(x=grouped_df[\"tags_list\"], y=grouped_df[\"from_std\"]))\n",
    "fig.show()"
   ]
  },
  {
   "cell_type": "markdown",
   "metadata": {},
   "source": [
    "Можем предположить, что навыки с большим отклонением средней заработной платы необходимы на разных уровнях должностей. Интересно, что самые \"дорогие\" теги связаны со сферами продаж, аналитики данных, менеджмента и управления"
   ]
  },
  {
   "cell_type": "markdown",
   "metadata": {},
   "source": [
    "Число людей без опыта"
   ]
  },
  {
   "cell_type": "code",
   "execution_count": 103,
   "metadata": {},
   "outputs": [
    {
     "data": {
      "text/plain": [
       "151"
      ]
     },
     "execution_count": 103,
     "metadata": {},
     "output_type": "execute_result"
    }
   ],
   "source": [
    "df = data[data[\"experience\"] == \"не требуется\"]\n",
    "len(df)"
   ]
  },
  {
   "cell_type": "markdown",
   "metadata": {},
   "source": [
    "Так как вакансий без тегов достаточно много, хочется рассмотреть и их"
   ]
  },
  {
   "cell_type": "code",
   "execution_count": 104,
   "metadata": {},
   "outputs": [
    {
     "name": "stdout",
     "output_type": "stream",
     "text": [
      "Index(['1–3 года', '3–6 лет', 'более 6 лет', 'не требуется'], dtype='object', name='experience') experience\n",
      "1–3 года        63\n",
      "3–6 лет         55\n",
      "более 6 лет     22\n",
      "не требуется    14\n",
      "Name: count, dtype: int64\n"
     ]
    },
    {
     "data": {
      "application/vnd.plotly.v1+json": {
       "config": {
        "plotlyServerURL": "https://plot.ly"
       },
       "data": [
        {
         "name": "С тегами",
         "type": "histogram",
         "x": [
          "1–3 года",
          "3–6 лет",
          "более 6 лет",
          "1–3 года",
          "более 6 лет",
          "3–6 лет",
          "3–6 лет",
          "3–6 лет",
          "более 6 лет",
          "3–6 лет",
          "более 6 лет",
          "1–3 года",
          "более 6 лет",
          "3–6 лет",
          "не требуется",
          "3–6 лет",
          "более 6 лет",
          "более 6 лет",
          "3–6 лет",
          "3–6 лет",
          "1–3 года",
          "3–6 лет",
          "3–6 лет",
          "3–6 лет",
          "3–6 лет",
          "3–6 лет",
          "1–3 года",
          "3–6 лет",
          "3–6 лет",
          "3–6 лет",
          "1–3 года",
          "3–6 лет",
          "1–3 года",
          "3–6 лет",
          "1–3 года",
          "более 6 лет",
          "1–3 года",
          "1–3 года",
          "1–3 года",
          "3–6 лет",
          "более 6 лет",
          "3–6 лет",
          "3–6 лет",
          "более 6 лет",
          "3–6 лет",
          "1–3 года",
          "3–6 лет",
          "1–3 года",
          "более 6 лет",
          "более 6 лет",
          "более 6 лет",
          "3–6 лет",
          "1–3 года",
          "более 6 лет",
          "более 6 лет",
          "более 6 лет",
          "не требуется",
          "1–3 года",
          "3–6 лет",
          "1–3 года",
          "1–3 года",
          "1–3 года",
          "3–6 лет",
          "3–6 лет",
          "3–6 лет",
          "3–6 лет",
          "3–6 лет",
          "3–6 лет",
          "3–6 лет",
          "3–6 лет",
          "1–3 года",
          "3–6 лет",
          "не требуется",
          "1–3 года",
          "3–6 лет",
          "1–3 года",
          "более 6 лет",
          "1–3 года",
          "3–6 лет",
          "более 6 лет",
          "1–3 года",
          "1–3 года",
          "1–3 года",
          "1–3 года",
          "3–6 лет",
          "3–6 лет",
          "1–3 года",
          "3–6 лет",
          "более 6 лет",
          "3–6 лет",
          "1–3 года",
          "1–3 года",
          "1–3 года",
          "3–6 лет",
          "1–3 года",
          "3–6 лет",
          "1–3 года",
          "3–6 лет",
          "3–6 лет",
          "3–6 лет",
          "3–6 лет",
          "3–6 лет",
          "3–6 лет",
          "более 6 лет",
          "более 6 лет",
          "1–3 года",
          "1–3 года",
          "1–3 года",
          "более 6 лет",
          "3–6 лет",
          "3–6 лет",
          "3–6 лет",
          "более 6 лет",
          "1–3 года",
          "1–3 года",
          "3–6 лет",
          "1–3 года",
          "более 6 лет",
          "3–6 лет",
          "3–6 лет",
          "3–6 лет",
          "3–6 лет",
          "1–3 года",
          "3–6 лет",
          "3–6 лет",
          "3–6 лет",
          "1–3 года",
          "1–3 года",
          "1–3 года",
          "3–6 лет",
          "3–6 лет",
          "1–3 года",
          "3–6 лет",
          "1–3 года",
          "3–6 лет",
          "более 6 лет",
          "3–6 лет",
          "1–3 года",
          "1–3 года",
          "1–3 года",
          "3–6 лет",
          "3–6 лет",
          "1–3 года",
          "более 6 лет",
          "1–3 года",
          "1–3 года",
          "1–3 года",
          "3–6 лет",
          "3–6 лет",
          "3–6 лет",
          "1–3 года",
          "1–3 года",
          "1–3 года",
          "1–3 года",
          "1–3 года",
          "3–6 лет",
          "3–6 лет",
          "3–6 лет",
          "1–3 года",
          "1–3 года",
          "1–3 года",
          "3–6 лет",
          "1–3 года",
          "3–6 лет",
          "более 6 лет",
          "более 6 лет",
          "3–6 лет",
          "1–3 года",
          "3–6 лет",
          "1–3 года",
          "более 6 лет",
          "3–6 лет",
          "1–3 года",
          "3–6 лет",
          "1–3 года",
          "1–3 года",
          "3–6 лет",
          "1–3 года",
          "3–6 лет",
          "3–6 лет",
          "3–6 лет",
          "3–6 лет",
          "3–6 лет",
          "3–6 лет",
          "3–6 лет",
          "3–6 лет",
          "1–3 года",
          "3–6 лет",
          "более 6 лет",
          "более 6 лет",
          "3–6 лет",
          "более 6 лет",
          "более 6 лет",
          "более 6 лет",
          "3–6 лет",
          "3–6 лет",
          "3–6 лет",
          "3–6 лет",
          "1–3 года",
          "1–3 года",
          "3–6 лет",
          "3–6 лет",
          "3–6 лет",
          "3–6 лет",
          "более 6 лет",
          "1–3 года",
          "более 6 лет",
          "3–6 лет",
          "3–6 лет",
          "3–6 лет",
          "3–6 лет",
          "3–6 лет",
          "более 6 лет",
          "3–6 лет",
          "3–6 лет",
          "более 6 лет",
          "3–6 лет",
          "более 6 лет",
          "3–6 лет",
          "1–3 года",
          "1–3 года",
          "более 6 лет",
          "более 6 лет",
          "3–6 лет",
          "3–6 лет",
          "3–6 лет",
          "3–6 лет",
          "1–3 года",
          "1–3 года",
          "3–6 лет",
          "3–6 лет",
          "более 6 лет",
          "более 6 лет",
          "1–3 года",
          "3–6 лет",
          "3–6 лет",
          "3–6 лет",
          "3–6 лет",
          "3–6 лет",
          "3–6 лет",
          "1–3 года",
          "3–6 лет",
          "3–6 лет",
          "3–6 лет",
          "3–6 лет",
          "3–6 лет",
          "1–3 года",
          "3–6 лет",
          "3–6 лет",
          "3–6 лет",
          "1–3 года",
          "1–3 года",
          "3–6 лет",
          "1–3 года",
          "1–3 года",
          "3–6 лет",
          "3–6 лет",
          "3–6 лет",
          "3–6 лет",
          "1–3 года",
          "1–3 года",
          "3–6 лет",
          "не требуется",
          "1–3 года",
          "3–6 лет",
          "3–6 лет",
          "3–6 лет",
          "1–3 года",
          "1–3 года",
          "1–3 года",
          "1–3 года",
          "1–3 года",
          "3–6 лет",
          "3–6 лет",
          "1–3 года",
          "3–6 лет",
          "3–6 лет",
          "1–3 года",
          "3–6 лет",
          "1–3 года",
          "3–6 лет",
          "1–3 года",
          "3–6 лет",
          "3–6 лет",
          "3–6 лет",
          "3–6 лет",
          "1–3 года",
          "3–6 лет",
          "3–6 лет",
          "3–6 лет",
          "1–3 года",
          "3–6 лет",
          "3–6 лет",
          "1–3 года",
          "1–3 года",
          "3–6 лет",
          "1–3 года",
          "3–6 лет",
          "1–3 года",
          "1–3 года",
          "1–3 года",
          "3–6 лет",
          "1–3 года",
          "1–3 года",
          "3–6 лет",
          "1–3 года",
          "более 6 лет",
          "3–6 лет",
          "3–6 лет",
          "3–6 лет",
          "более 6 лет",
          "1–3 года",
          "1–3 года",
          "1–3 года",
          "1–3 года",
          "3–6 лет",
          "3–6 лет",
          "1–3 года",
          "1–3 года",
          "1–3 года",
          "3–6 лет",
          "3–6 лет",
          "3–6 лет",
          "3–6 лет",
          "3–6 лет",
          "3–6 лет",
          "1–3 года",
          "3–6 лет",
          "1–3 года",
          "1–3 года",
          "1–3 года",
          "3–6 лет",
          "3–6 лет",
          "3–6 лет",
          "1–3 года",
          "3–6 лет",
          "3–6 лет",
          "не требуется",
          "3–6 лет",
          "3–6 лет",
          "3–6 лет",
          "3–6 лет",
          "1–3 года",
          "3–6 лет",
          "3–6 лет",
          "3–6 лет",
          "3–6 лет",
          "1–3 года",
          "3–6 лет",
          "3–6 лет",
          "3–6 лет",
          "3–6 лет",
          "3–6 лет",
          "1–3 года",
          "1–3 года",
          "более 6 лет",
          "3–6 лет",
          "1–3 года",
          "1–3 года",
          "не требуется",
          "1–3 года",
          "1–3 года",
          "3–6 лет",
          "1–3 года",
          "1–3 года",
          "1–3 года",
          "более 6 лет",
          "1–3 года",
          "более 6 лет",
          "1–3 года",
          "3–6 лет",
          "1–3 года",
          "3–6 лет",
          "3–6 лет",
          "1–3 года",
          "1–3 года",
          "1–3 года",
          "более 6 лет",
          "1–3 года",
          "3–6 лет",
          "1–3 года",
          "3–6 лет",
          "1–3 года",
          "3–6 лет",
          "3–6 лет",
          "1–3 года",
          "3–6 лет",
          "1–3 года",
          "1–3 года",
          "3–6 лет",
          "3–6 лет",
          "1–3 года",
          "1–3 года",
          "3–6 лет",
          "3–6 лет",
          "3–6 лет",
          "3–6 лет",
          "1–3 года",
          "3–6 лет",
          "1–3 года",
          "1–3 года",
          "3–6 лет",
          "1–3 года",
          "3–6 лет",
          "более 6 лет",
          "1–3 года",
          "1–3 года",
          "3–6 лет",
          "1–3 года",
          "3–6 лет",
          "1–3 года",
          "1–3 года",
          "3–6 лет",
          "1–3 года",
          "1–3 года",
          "3–6 лет",
          "более 6 лет",
          "3–6 лет",
          "3–6 лет",
          "более 6 лет",
          "3–6 лет",
          "более 6 лет",
          "3–6 лет",
          "более 6 лет",
          "3–6 лет",
          "3–6 лет",
          "1–3 года",
          "1–3 года",
          "более 6 лет",
          "3–6 лет",
          "1–3 года",
          "1–3 года",
          "1–3 года",
          "3–6 лет",
          "3–6 лет",
          "3–6 лет",
          "1–3 года",
          "3–6 лет",
          "более 6 лет",
          "3–6 лет",
          "3–6 лет",
          "3–6 лет",
          "более 6 лет",
          "3–6 лет",
          "1–3 года",
          "1–3 года",
          "3–6 лет",
          "более 6 лет",
          "1–3 года",
          "1–3 года",
          "более 6 лет",
          "1–3 года",
          "более 6 лет",
          "3–6 лет",
          "более 6 лет",
          "3–6 лет",
          "1–3 года",
          "3–6 лет",
          "1–3 года",
          "более 6 лет",
          "более 6 лет",
          "1–3 года",
          "3–6 лет",
          "1–3 года",
          "не требуется",
          "1–3 года",
          "3–6 лет",
          "3–6 лет",
          "3–6 лет",
          "1–3 года",
          "3–6 лет",
          "1–3 года",
          "не требуется",
          "1–3 года",
          "3–6 лет",
          "1–3 года",
          "1–3 года",
          "не требуется",
          "3–6 лет",
          "1–3 года",
          "1–3 года",
          "более 6 лет",
          "3–6 лет",
          "1–3 года",
          "3–6 лет",
          "1–3 года",
          "более 6 лет",
          "3–6 лет",
          "1–3 года",
          "3–6 лет",
          "3–6 лет",
          "1–3 года",
          "1–3 года",
          "1–3 года",
          "3–6 лет",
          "1–3 года",
          "3–6 лет",
          "3–6 лет",
          "не требуется",
          "1–3 года",
          "более 6 лет",
          "3–6 лет",
          "3–6 лет",
          "1–3 года",
          "1–3 года",
          "более 6 лет",
          "1–3 года",
          "1–3 года",
          "1–3 года",
          "3–6 лет",
          "3–6 лет",
          "более 6 лет",
          "1–3 года",
          "3–6 лет",
          "3–6 лет",
          "1–3 года",
          "не требуется",
          "1–3 года",
          "3–6 лет",
          "1–3 года",
          "3–6 лет",
          "1–3 года",
          "3–6 лет",
          "1–3 года",
          "1–3 года",
          "не требуется",
          "3–6 лет",
          "1–3 года",
          "3–6 лет",
          "более 6 лет",
          "не требуется",
          "не требуется",
          "не требуется",
          "3–6 лет",
          "1–3 года",
          "1–3 года",
          "3–6 лет",
          "3–6 лет",
          "3–6 лет",
          "не требуется",
          "1–3 года",
          "1–3 года",
          "1–3 года",
          "1–3 года",
          "1–3 года",
          "1–3 года",
          "1–3 года",
          "1–3 года",
          "1–3 года",
          "1–3 года",
          "1–3 года",
          "3–6 лет",
          "3–6 лет",
          "не требуется",
          "не требуется",
          "1–3 года",
          "1–3 года",
          "1–3 года",
          "не требуется",
          "3–6 лет",
          "3–6 лет",
          "1–3 года",
          "3–6 лет",
          "1–3 года",
          "не требуется",
          "1–3 года",
          "3–6 лет",
          "не требуется",
          "1–3 года",
          "не требуется",
          "3–6 лет",
          "1–3 года",
          "3–6 лет",
          "не требуется",
          "3–6 лет",
          "не требуется",
          "не требуется",
          "1–3 года",
          "не требуется",
          "1–3 года",
          "1–3 года",
          "3–6 лет",
          "1–3 года",
          "1–3 года",
          "3–6 лет",
          "3–6 лет",
          "1–3 года",
          "3–6 лет",
          "1–3 года",
          "более 6 лет",
          "не требуется",
          "более 6 лет",
          "3–6 лет",
          "1–3 года",
          "1–3 года",
          "1–3 года",
          "не требуется",
          "1–3 года",
          "1–3 года",
          "3–6 лет",
          "не требуется",
          "3–6 лет",
          "1–3 года",
          "1–3 года",
          "3–6 лет",
          "1–3 года",
          "1–3 года",
          "не требуется",
          "1–3 года",
          "3–6 лет",
          "1–3 года",
          "1–3 года",
          "1–3 года",
          "3–6 лет",
          "1–3 года",
          "3–6 лет",
          "3–6 лет",
          "1–3 года",
          "1–3 года",
          "3–6 лет",
          "3–6 лет",
          "3–6 лет",
          "1–3 года",
          "1–3 года",
          "1–3 года",
          "3–6 лет",
          "1–3 года",
          "3–6 лет",
          "1–3 года",
          "3–6 лет",
          "3–6 лет",
          "1–3 года",
          "3–6 лет",
          "3–6 лет",
          "3–6 лет",
          "1–3 года",
          "1–3 года",
          "3–6 лет",
          "3–6 лет",
          "1–3 года",
          "3–6 лет",
          "3–6 лет",
          "3–6 лет",
          "не требуется",
          "1–3 года",
          "3–6 лет",
          "3–6 лет",
          "не требуется",
          "3–6 лет",
          "1–3 года",
          "1–3 года",
          "3–6 лет",
          "3–6 лет",
          "1–3 года",
          "3–6 лет",
          "3–6 лет",
          "3–6 лет",
          "3–6 лет",
          "1–3 года",
          "3–6 лет",
          "3–6 лет",
          "1–3 года",
          "3–6 лет",
          "не требуется",
          "1–3 года",
          "1–3 года",
          "3–6 лет",
          "1–3 года",
          "1–3 года",
          "1–3 года",
          "1–3 года",
          "3–6 лет",
          "3–6 лет",
          "3–6 лет",
          "1–3 года",
          "3–6 лет",
          "3–6 лет",
          "1–3 года",
          "1–3 года",
          "3–6 лет",
          "3–6 лет",
          "1–3 года",
          "более 6 лет",
          "1–3 года",
          "1–3 года",
          "1–3 года",
          "3–6 лет",
          "3–6 лет",
          "1–3 года",
          "1–3 года",
          "1–3 года",
          "3–6 лет",
          "не требуется",
          "3–6 лет",
          "3–6 лет",
          "3–6 лет",
          "1–3 года",
          "3–6 лет",
          "3–6 лет",
          "1–3 года",
          "1–3 года",
          "1–3 года",
          "1–3 года",
          "3–6 лет",
          "более 6 лет",
          "1–3 года",
          "3–6 лет",
          "1–3 года",
          "1–3 года",
          "1–3 года",
          "1–3 года",
          "1–3 года",
          "1–3 года",
          "1–3 года",
          "не требуется",
          "3–6 лет",
          "1–3 года",
          "1–3 года",
          "3–6 лет",
          "1–3 года",
          "3–6 лет",
          "1–3 года",
          "1–3 года",
          "3–6 лет",
          "1–3 года",
          "более 6 лет",
          "1–3 года",
          "более 6 лет",
          "не требуется",
          "3–6 лет",
          "1–3 года",
          "3–6 лет",
          "1–3 года",
          "не требуется",
          "3–6 лет",
          "1–3 года",
          "не требуется",
          "3–6 лет",
          "1–3 года",
          "3–6 лет",
          "1–3 года",
          "1–3 года",
          "1–3 года",
          "1–3 года",
          "3–6 лет",
          "3–6 лет",
          "3–6 лет",
          "3–6 лет",
          "1–3 года",
          "1–3 года",
          "1–3 года",
          "1–3 года",
          "1–3 года",
          "1–3 года",
          "3–6 лет",
          "1–3 года",
          "1–3 года",
          "3–6 лет",
          "3–6 лет",
          "1–3 года",
          "1–3 года",
          "1–3 года",
          "3–6 лет",
          "3–6 лет",
          "1–3 года",
          "1–3 года",
          "1–3 года",
          "3–6 лет",
          "1–3 года",
          "более 6 лет",
          "1–3 года",
          "1–3 года",
          "1–3 года",
          "1–3 года",
          "1–3 года",
          "3–6 лет",
          "не требуется",
          "не требуется",
          "1–3 года",
          "1–3 года",
          "3–6 лет",
          "не требуется",
          "3–6 лет",
          "1–3 года",
          "1–3 года",
          "3–6 лет",
          "не требуется",
          "1–3 года",
          "1–3 года",
          "1–3 года",
          "3–6 лет",
          "3–6 лет",
          "не требуется",
          "не требуется",
          "не требуется",
          "3–6 лет",
          "3–6 лет",
          "не требуется",
          "1–3 года",
          "1–3 года",
          "1–3 года",
          "1–3 года",
          "не требуется",
          "более 6 лет",
          "1–3 года",
          "1–3 года",
          "1–3 года",
          "3–6 лет",
          "1–3 года",
          "1–3 года",
          "1–3 года",
          "1–3 года",
          "не требуется",
          "1–3 года",
          "3–6 лет",
          "1–3 года",
          "3–6 лет",
          "3–6 лет",
          "не требуется",
          "1–3 года",
          "3–6 лет",
          "3–6 лет",
          "3–6 лет",
          "1–3 года",
          "не требуется",
          "1–3 года",
          "3–6 лет",
          "1–3 года",
          "1–3 года",
          "1–3 года",
          "более 6 лет",
          "1–3 года",
          "3–6 лет",
          "1–3 года",
          "1–3 года",
          "3–6 лет",
          "не требуется",
          "3–6 лет",
          "1–3 года",
          "1–3 года",
          "не требуется",
          "1–3 года",
          "1–3 года",
          "3–6 лет",
          "3–6 лет",
          "1–3 года",
          "1–3 года",
          "1–3 года",
          "не требуется",
          "1–3 года",
          "1–3 года",
          "3–6 лет",
          "1–3 года",
          "не требуется",
          "1–3 года",
          "3–6 лет",
          "1–3 года",
          "3–6 лет",
          "более 6 лет",
          "3–6 лет",
          "1–3 года",
          "3–6 лет",
          "3–6 лет",
          "1–3 года",
          "1–3 года",
          "1–3 года",
          "1–3 года",
          "не требуется",
          "1–3 года",
          "1–3 года",
          "3–6 лет",
          "1–3 года",
          "более 6 лет",
          "3–6 лет",
          "1–3 года",
          "1–3 года",
          "не требуется",
          "1–3 года",
          "более 6 лет",
          "3–6 лет",
          "3–6 лет",
          "3–6 лет",
          "1–3 года",
          "1–3 года",
          "более 6 лет",
          "не требуется",
          "1–3 года",
          "1–3 года",
          "1–3 года",
          "1–3 года",
          "1–3 года",
          "3–6 лет",
          "1–3 года",
          "3–6 лет",
          "1–3 года",
          "3–6 лет",
          "3–6 лет",
          "более 6 лет",
          "1–3 года",
          "более 6 лет",
          "1–3 года",
          "1–3 года",
          "3–6 лет",
          "1–3 года",
          "1–3 года",
          "1–3 года",
          "1–3 года",
          "1–3 года",
          "1–3 года",
          "1–3 года",
          "3–6 лет",
          "1–3 года",
          "3–6 лет",
          "1–3 года",
          "3–6 лет",
          "3–6 лет",
          "1–3 года",
          "1–3 года",
          "более 6 лет",
          "1–3 года",
          "более 6 лет",
          "не требуется",
          "1–3 года",
          "3–6 лет",
          "1–3 года",
          "3–6 лет",
          "1–3 года",
          "1–3 года",
          "1–3 года",
          "1–3 года",
          "1–3 года",
          "3–6 лет",
          "1–3 года",
          "3–6 лет",
          "3–6 лет",
          "1–3 года",
          "1–3 года",
          "1–3 года",
          "3–6 лет",
          "3–6 лет",
          "1–3 года",
          "3–6 лет",
          "не требуется",
          "3–6 лет",
          "не требуется",
          "1–3 года",
          "3–6 лет",
          "1–3 года",
          "3–6 лет",
          "1–3 года",
          "3–6 лет",
          "1–3 года",
          "1–3 года",
          "1–3 года",
          "1–3 года",
          "3–6 лет",
          "1–3 года",
          "3–6 лет",
          "3–6 лет",
          "1–3 года",
          "не требуется",
          "не требуется",
          "1–3 года",
          "1–3 года",
          "1–3 года",
          "1–3 года",
          "1–3 года",
          "1–3 года",
          "1–3 года",
          "1–3 года",
          "3–6 лет",
          "3–6 лет",
          "3–6 лет",
          "1–3 года",
          "1–3 года",
          "1–3 года",
          "3–6 лет",
          "1–3 года",
          "3–6 лет",
          "1–3 года",
          "1–3 года",
          "3–6 лет",
          "не требуется",
          "не требуется",
          "не требуется",
          "3–6 лет",
          "3–6 лет",
          "1–3 года",
          "1–3 года",
          "1–3 года",
          "3–6 лет",
          "3–6 лет",
          "более 6 лет",
          "1–3 года",
          "1–3 года",
          "1–3 года",
          "3–6 лет",
          "3–6 лет",
          "3–6 лет",
          "3–6 лет",
          "1–3 года",
          "1–3 года",
          "не требуется",
          "1–3 года",
          "1–3 года",
          "3–6 лет",
          "1–3 года",
          "3–6 лет",
          "3–6 лет",
          "3–6 лет",
          "3–6 лет",
          "не требуется",
          "не требуется",
          "1–3 года",
          "3–6 лет",
          "1–3 года",
          "3–6 лет",
          "не требуется",
          "3–6 лет",
          "не требуется",
          "1–3 года",
          "3–6 лет",
          "не требуется",
          "1–3 года",
          "3–6 лет",
          "3–6 лет",
          "1–3 года",
          "1–3 года",
          "1–3 года",
          "1–3 года",
          "3–6 лет",
          "не требуется",
          "не требуется",
          "не требуется",
          "1–3 года",
          "1–3 года",
          "3–6 лет",
          "1–3 года",
          "1–3 года",
          "1–3 года",
          "1–3 года",
          "не требуется",
          "1–3 года",
          "более 6 лет",
          "не требуется",
          "1–3 года",
          "1–3 года",
          "1–3 года",
          "3–6 лет",
          "3–6 лет",
          "не требуется",
          "1–3 года",
          "1–3 года",
          "1–3 года",
          "1–3 года",
          "3–6 лет",
          "1–3 года",
          "3–6 лет",
          "1–3 года",
          "1–3 года",
          "1–3 года",
          "3–6 лет",
          "1–3 года",
          "1–3 года",
          "3–6 лет",
          "1–3 года",
          "1–3 года",
          "3–6 лет",
          "3–6 лет",
          "1–3 года",
          "1–3 года",
          "более 6 лет",
          "1–3 года",
          "1–3 года",
          "1–3 года",
          "1–3 года",
          "1–3 года",
          "1–3 года",
          "не требуется",
          "1–3 года",
          "3–6 лет",
          "3–6 лет",
          "1–3 года",
          "1–3 года",
          "не требуется",
          "1–3 года",
          "1–3 года",
          "не требуется",
          "3–6 лет",
          "1–3 года",
          "не требуется",
          "не требуется",
          "1–3 года",
          "1–3 года",
          "3–6 лет",
          "1–3 года",
          "3–6 лет",
          "1–3 года",
          "1–3 года",
          "1–3 года",
          "1–3 года",
          "3–6 лет",
          "1–3 года",
          "не требуется",
          "1–3 года",
          "1–3 года",
          "3–6 лет",
          "1–3 года",
          "1–3 года",
          "не требуется",
          "3–6 лет",
          "не требуется",
          "3–6 лет",
          "не требуется",
          "1–3 года",
          "1–3 года",
          "не требуется",
          "3–6 лет",
          "1–3 года",
          "1–3 года",
          "не требуется",
          "3–6 лет",
          "1–3 года",
          "не требуется",
          "3–6 лет",
          "3–6 лет",
          "1–3 года",
          "3–6 лет",
          "1–3 года",
          "3–6 лет",
          "1–3 года",
          "1–3 года",
          "3–6 лет",
          "более 6 лет",
          "1–3 года",
          "1–3 года",
          "1–3 года",
          "1–3 года",
          "1–3 года",
          "1–3 года",
          "1–3 года",
          "1–3 года",
          "1–3 года",
          "1–3 года",
          "не требуется",
          "1–3 года",
          "1–3 года",
          "более 6 лет",
          "1–3 года",
          "3–6 лет",
          "1–3 года",
          "3–6 лет",
          "не требуется",
          "более 6 лет",
          "3–6 лет",
          "1–3 года",
          "1–3 года",
          "3–6 лет",
          "1–3 года",
          "1–3 года",
          "1–3 года",
          "1–3 года",
          "1–3 года",
          "1–3 года",
          "не требуется",
          "3–6 лет",
          "1–3 года",
          "1–3 года",
          "3–6 лет",
          "более 6 лет",
          "3–6 лет",
          "1–3 года",
          "3–6 лет",
          "не требуется",
          "1–3 года",
          "1–3 года",
          "3–6 лет",
          "1–3 года",
          "1–3 года",
          "1–3 года",
          "3–6 лет",
          "3–6 лет",
          "1–3 года",
          "3–6 лет",
          "1–3 года",
          "не требуется",
          "не требуется",
          "3–6 лет",
          "1–3 года",
          "1–3 года",
          "3–6 лет",
          "1–3 года",
          "3–6 лет",
          "1–3 года",
          "1–3 года",
          "3–6 лет",
          "1–3 года",
          "3–6 лет",
          "1–3 года",
          "3–6 лет",
          "1–3 года",
          "1–3 года",
          "3–6 лет",
          "1–3 года",
          "1–3 года",
          "1–3 года",
          "1–3 года",
          "более 6 лет",
          "1–3 года",
          "более 6 лет",
          "не требуется",
          "1–3 года",
          "не требуется",
          "3–6 лет",
          "не требуется",
          "1–3 года",
          "1–3 года",
          "1–3 года",
          "более 6 лет",
          "1–3 года",
          "1–3 года",
          "1–3 года",
          "1–3 года",
          "1–3 года",
          "3–6 лет",
          "1–3 года",
          "3–6 лет",
          "не требуется",
          "3–6 лет",
          "1–3 года",
          "не требуется",
          "3–6 лет",
          "более 6 лет",
          "1–3 года",
          "1–3 года",
          "3–6 лет",
          "3–6 лет",
          "3–6 лет",
          "1–3 года",
          "1–3 года",
          "3–6 лет",
          "3–6 лет",
          "3–6 лет",
          "не требуется",
          "не требуется",
          "3–6 лет",
          "1–3 года",
          "1–3 года",
          "3–6 лет",
          "1–3 года",
          "3–6 лет",
          "не требуется",
          "1–3 года",
          "1–3 года",
          "3–6 лет",
          "1–3 года",
          "3–6 лет",
          "3–6 лет",
          "3–6 лет",
          "3–6 лет",
          "3–6 лет",
          "3–6 лет",
          "1–3 года",
          "не требуется",
          "3–6 лет",
          "не требуется",
          "1–3 года",
          "1–3 года",
          "более 6 лет",
          "1–3 года",
          "1–3 года",
          "3–6 лет",
          "1–3 года",
          "1–3 года",
          "1–3 года",
          "1–3 года",
          "1–3 года",
          "1–3 года",
          "не требуется",
          "не требуется",
          "1–3 года",
          "не требуется",
          "1–3 года",
          "1–3 года",
          "3–6 лет",
          "1–3 года",
          "не требуется",
          "3–6 лет",
          "не требуется",
          "1–3 года",
          "1–3 года",
          "1–3 года",
          "1–3 года",
          "3–6 лет",
          "1–3 года",
          "не требуется",
          "3–6 лет",
          "не требуется",
          "3–6 лет",
          "не требуется",
          "1–3 года",
          "1–3 года",
          "3–6 лет",
          "3–6 лет",
          "3–6 лет",
          "1–3 года",
          "1–3 года",
          "1–3 года",
          "1–3 года",
          "1–3 года",
          "1–3 года",
          "1–3 года",
          "1–3 года",
          "не требуется",
          "3–6 лет",
          "1–3 года",
          "1–3 года",
          "1–3 года",
          "1–3 года",
          "1–3 года",
          "1–3 года",
          "1–3 года",
          "1–3 года",
          "1–3 года",
          "1–3 года",
          "1–3 года",
          "1–3 года",
          "1–3 года",
          "1–3 года",
          "1–3 года",
          "1–3 года",
          "3–6 лет",
          "не требуется",
          "3–6 лет",
          "1–3 года",
          "1–3 года",
          "3–6 лет",
          "1–3 года",
          "1–3 года",
          "3–6 лет",
          "не требуется",
          "не требуется",
          "не требуется",
          "не требуется",
          "не требуется",
          "3–6 лет",
          "не требуется",
          "не требуется",
          "3–6 лет",
          "3–6 лет",
          "3–6 лет",
          "1–3 года",
          "1–3 года",
          "1–3 года",
          "1–3 года",
          "1–3 года",
          "3–6 лет",
          "1–3 года",
          "более 6 лет",
          "1–3 года",
          "1–3 года",
          "1–3 года",
          "3–6 лет",
          "1–3 года",
          "3–6 лет",
          "3–6 лет",
          "3–6 лет",
          "3–6 лет",
          "1–3 года",
          "1–3 года",
          "1–3 года",
          "1–3 года",
          "3–6 лет",
          "1–3 года",
          "1–3 года",
          "1–3 года",
          "более 6 лет",
          "1–3 года",
          "1–3 года",
          "1–3 года",
          "1–3 года",
          "1–3 года",
          "не требуется",
          "1–3 года",
          "1–3 года",
          "3–6 лет",
          "1–3 года",
          "не требуется",
          "1–3 года",
          "3–6 лет",
          "3–6 лет",
          "более 6 лет",
          "3–6 лет",
          "1–3 года",
          "3–6 лет",
          "более 6 лет",
          "3–6 лет",
          "1–3 года",
          "3–6 лет",
          "1–3 года",
          "1–3 года",
          "3–6 лет",
          "1–3 года",
          "более 6 лет",
          "3–6 лет",
          "1–3 года",
          "1–3 года",
          "3–6 лет",
          "3–6 лет",
          "3–6 лет",
          "1–3 года",
          "1–3 года",
          "1–3 года",
          "1–3 года",
          "более 6 лет",
          "1–3 года",
          "3–6 лет",
          "более 6 лет",
          "3–6 лет",
          "3–6 лет",
          "3–6 лет",
          "более 6 лет",
          "1–3 года",
          "1–3 года",
          "1–3 года",
          "1–3 года",
          "3–6 лет",
          "более 6 лет",
          "1–3 года",
          "3–6 лет",
          "1–3 года",
          "1–3 года",
          "1–3 года",
          "3–6 лет",
          "1–3 года",
          "1–3 года",
          "1–3 года",
          "3–6 лет",
          "1–3 года",
          "1–3 года",
          "3–6 лет",
          "1–3 года",
          "3–6 лет",
          "3–6 лет",
          "3–6 лет",
          "3–6 лет",
          "1–3 года",
          "1–3 года",
          "1–3 года",
          "1–3 года",
          "3–6 лет",
          "1–3 года",
          "3–6 лет",
          "3–6 лет",
          "3–6 лет",
          "более 6 лет",
          "1–3 года",
          "1–3 года",
          "1–3 года",
          "1–3 года",
          "не требуется",
          "1–3 года",
          "3–6 лет",
          "3–6 лет",
          "1–3 года",
          "3–6 лет",
          "не требуется",
          "1–3 года",
          "более 6 лет",
          "1–3 года",
          "более 6 лет",
          "1–3 года",
          "1–3 года",
          "3–6 лет",
          "более 6 лет",
          "3–6 лет",
          "более 6 лет",
          "1–3 года",
          "1–3 года",
          "1–3 года",
          "не требуется",
          "3–6 лет",
          "1–3 года",
          "1–3 года",
          "3–6 лет",
          "не требуется",
          "3–6 лет",
          "3–6 лет",
          "1–3 года",
          "3–6 лет",
          "3–6 лет",
          "3–6 лет",
          "1–3 года",
          "более 6 лет",
          "3–6 лет",
          "1–3 года",
          "1–3 года",
          "3–6 лет",
          "1–3 года",
          "3–6 лет",
          "1–3 года",
          "1–3 года",
          "более 6 лет",
          "более 6 лет",
          "3–6 лет",
          "3–6 лет",
          "1–3 года",
          "более 6 лет",
          "1–3 года",
          "1–3 года",
          "3–6 лет",
          "1–3 года",
          "1–3 года",
          "1–3 года",
          "1–3 года",
          "3–6 лет",
          "не требуется",
          "3–6 лет",
          "1–3 года",
          "1–3 года",
          "3–6 лет",
          "3–6 лет",
          "не требуется",
          "3–6 лет",
          "1–3 года",
          "1–3 года",
          "3–6 лет",
          "не требуется",
          "1–3 года",
          "3–6 лет",
          "1–3 года",
          "3–6 лет",
          "3–6 лет",
          "более 6 лет",
          "1–3 года",
          "1–3 года",
          "не требуется",
          "1–3 года",
          "не требуется",
          "1–3 года",
          "1–3 года",
          "не требуется",
          "не требуется",
          "3–6 лет",
          "1–3 года",
          "1–3 года",
          "1–3 года",
          "1–3 года",
          "1–3 года",
          "1–3 года",
          "не требуется",
          "3–6 лет",
          "1–3 года",
          "3–6 лет",
          "3–6 лет",
          "более 6 лет",
          "не требуется",
          "3–6 лет",
          "3–6 лет",
          "3–6 лет",
          "3–6 лет",
          "3–6 лет",
          "не требуется",
          "1–3 года",
          "3–6 лет",
          "1–3 года",
          "1–3 года",
          "3–6 лет",
          "3–6 лет",
          "1–3 года",
          "1–3 года",
          "1–3 года",
          "1–3 года",
          "1–3 года",
          "1–3 года",
          "1–3 года",
          "1–3 года",
          "3–6 лет",
          "1–3 года",
          "3–6 лет",
          "3–6 лет",
          "3–6 лет",
          "1–3 года",
          "1–3 года",
          "1–3 года",
          "не требуется",
          "1–3 года",
          "1–3 года",
          "1–3 года",
          "не требуется",
          "1–3 года",
          "3–6 лет",
          "3–6 лет",
          "3–6 лет",
          "3–6 лет",
          "1–3 года",
          "1–3 года",
          "3–6 лет",
          "1–3 года",
          "1–3 года",
          "3–6 лет",
          "1–3 года",
          "1–3 года",
          "1–3 года",
          "3–6 лет",
          "1–3 года",
          "1–3 года",
          "3–6 лет",
          "1–3 года",
          "3–6 лет",
          "3–6 лет",
          "1–3 года",
          "1–3 года",
          "1–3 года",
          "1–3 года",
          "не требуется",
          "1–3 года",
          "1–3 года",
          "не требуется",
          "1–3 года",
          "1–3 года",
          "1–3 года",
          "3–6 лет",
          "1–3 года",
          "1–3 года",
          "не требуется",
          "1–3 года",
          "не требуется",
          "не требуется",
          "1–3 года",
          "3–6 лет",
          "не требуется",
          "1–3 года",
          "не требуется",
          "1–3 года",
          "не требуется",
          "1–3 года",
          "1–3 года",
          "не требуется",
          "не требуется",
          "3–6 лет",
          "3–6 лет",
          "3–6 лет",
          "3–6 лет",
          "3–6 лет",
          "3–6 лет",
          "3–6 лет",
          "1–3 года",
          "1–3 года",
          "1–3 года",
          "1–3 года",
          "3–6 лет",
          "1–3 года",
          "1–3 года",
          "1–3 года",
          "3–6 лет",
          "не требуется",
          "1–3 года",
          "1–3 года",
          "более 6 лет",
          "1–3 года",
          "более 6 лет",
          "1–3 года",
          "3–6 лет",
          "3–6 лет",
          "более 6 лет",
          "более 6 лет",
          "более 6 лет",
          "3–6 лет",
          "3–6 лет",
          "3–6 лет",
          "3–6 лет",
          "более 6 лет",
          "более 6 лет",
          "1–3 года",
          "3–6 лет",
          "3–6 лет",
          "1–3 года",
          "3–6 лет",
          "3–6 лет",
          "более 6 лет",
          "1–3 года",
          "более 6 лет",
          "3–6 лет",
          "3–6 лет",
          "более 6 лет",
          "3–6 лет",
          "3–6 лет",
          "3–6 лет",
          "1–3 года",
          "более 6 лет",
          "3–6 лет",
          "1–3 года",
          "3–6 лет",
          "3–6 лет",
          "3–6 лет",
          "3–6 лет",
          "3–6 лет",
          "3–6 лет",
          "3–6 лет",
          "1–3 года",
          "3–6 лет",
          "3–6 лет",
          "1–3 года",
          "3–6 лет",
          "3–6 лет",
          "1–3 года",
          "3–6 лет",
          "3–6 лет"
         ]
        },
        {
         "name": "Без тегов",
         "type": "bar",
         "x": [
          "1–3 года",
          "3–6 лет",
          "более 6 лет",
          "не требуется"
         ],
         "y": [
          63,
          55,
          22,
          14
         ]
        }
       ],
       "layout": {
        "template": {
         "data": {
          "bar": [
           {
            "error_x": {
             "color": "#2a3f5f"
            },
            "error_y": {
             "color": "#2a3f5f"
            },
            "marker": {
             "line": {
              "color": "#E5ECF6",
              "width": 0.5
             },
             "pattern": {
              "fillmode": "overlay",
              "size": 10,
              "solidity": 0.2
             }
            },
            "type": "bar"
           }
          ],
          "barpolar": [
           {
            "marker": {
             "line": {
              "color": "#E5ECF6",
              "width": 0.5
             },
             "pattern": {
              "fillmode": "overlay",
              "size": 10,
              "solidity": 0.2
             }
            },
            "type": "barpolar"
           }
          ],
          "carpet": [
           {
            "aaxis": {
             "endlinecolor": "#2a3f5f",
             "gridcolor": "white",
             "linecolor": "white",
             "minorgridcolor": "white",
             "startlinecolor": "#2a3f5f"
            },
            "baxis": {
             "endlinecolor": "#2a3f5f",
             "gridcolor": "white",
             "linecolor": "white",
             "minorgridcolor": "white",
             "startlinecolor": "#2a3f5f"
            },
            "type": "carpet"
           }
          ],
          "choropleth": [
           {
            "colorbar": {
             "outlinewidth": 0,
             "ticks": ""
            },
            "type": "choropleth"
           }
          ],
          "contour": [
           {
            "colorbar": {
             "outlinewidth": 0,
             "ticks": ""
            },
            "colorscale": [
             [
              0,
              "#0d0887"
             ],
             [
              0.1111111111111111,
              "#46039f"
             ],
             [
              0.2222222222222222,
              "#7201a8"
             ],
             [
              0.3333333333333333,
              "#9c179e"
             ],
             [
              0.4444444444444444,
              "#bd3786"
             ],
             [
              0.5555555555555556,
              "#d8576b"
             ],
             [
              0.6666666666666666,
              "#ed7953"
             ],
             [
              0.7777777777777778,
              "#fb9f3a"
             ],
             [
              0.8888888888888888,
              "#fdca26"
             ],
             [
              1,
              "#f0f921"
             ]
            ],
            "type": "contour"
           }
          ],
          "contourcarpet": [
           {
            "colorbar": {
             "outlinewidth": 0,
             "ticks": ""
            },
            "type": "contourcarpet"
           }
          ],
          "heatmap": [
           {
            "colorbar": {
             "outlinewidth": 0,
             "ticks": ""
            },
            "colorscale": [
             [
              0,
              "#0d0887"
             ],
             [
              0.1111111111111111,
              "#46039f"
             ],
             [
              0.2222222222222222,
              "#7201a8"
             ],
             [
              0.3333333333333333,
              "#9c179e"
             ],
             [
              0.4444444444444444,
              "#bd3786"
             ],
             [
              0.5555555555555556,
              "#d8576b"
             ],
             [
              0.6666666666666666,
              "#ed7953"
             ],
             [
              0.7777777777777778,
              "#fb9f3a"
             ],
             [
              0.8888888888888888,
              "#fdca26"
             ],
             [
              1,
              "#f0f921"
             ]
            ],
            "type": "heatmap"
           }
          ],
          "heatmapgl": [
           {
            "colorbar": {
             "outlinewidth": 0,
             "ticks": ""
            },
            "colorscale": [
             [
              0,
              "#0d0887"
             ],
             [
              0.1111111111111111,
              "#46039f"
             ],
             [
              0.2222222222222222,
              "#7201a8"
             ],
             [
              0.3333333333333333,
              "#9c179e"
             ],
             [
              0.4444444444444444,
              "#bd3786"
             ],
             [
              0.5555555555555556,
              "#d8576b"
             ],
             [
              0.6666666666666666,
              "#ed7953"
             ],
             [
              0.7777777777777778,
              "#fb9f3a"
             ],
             [
              0.8888888888888888,
              "#fdca26"
             ],
             [
              1,
              "#f0f921"
             ]
            ],
            "type": "heatmapgl"
           }
          ],
          "histogram": [
           {
            "marker": {
             "pattern": {
              "fillmode": "overlay",
              "size": 10,
              "solidity": 0.2
             }
            },
            "type": "histogram"
           }
          ],
          "histogram2d": [
           {
            "colorbar": {
             "outlinewidth": 0,
             "ticks": ""
            },
            "colorscale": [
             [
              0,
              "#0d0887"
             ],
             [
              0.1111111111111111,
              "#46039f"
             ],
             [
              0.2222222222222222,
              "#7201a8"
             ],
             [
              0.3333333333333333,
              "#9c179e"
             ],
             [
              0.4444444444444444,
              "#bd3786"
             ],
             [
              0.5555555555555556,
              "#d8576b"
             ],
             [
              0.6666666666666666,
              "#ed7953"
             ],
             [
              0.7777777777777778,
              "#fb9f3a"
             ],
             [
              0.8888888888888888,
              "#fdca26"
             ],
             [
              1,
              "#f0f921"
             ]
            ],
            "type": "histogram2d"
           }
          ],
          "histogram2dcontour": [
           {
            "colorbar": {
             "outlinewidth": 0,
             "ticks": ""
            },
            "colorscale": [
             [
              0,
              "#0d0887"
             ],
             [
              0.1111111111111111,
              "#46039f"
             ],
             [
              0.2222222222222222,
              "#7201a8"
             ],
             [
              0.3333333333333333,
              "#9c179e"
             ],
             [
              0.4444444444444444,
              "#bd3786"
             ],
             [
              0.5555555555555556,
              "#d8576b"
             ],
             [
              0.6666666666666666,
              "#ed7953"
             ],
             [
              0.7777777777777778,
              "#fb9f3a"
             ],
             [
              0.8888888888888888,
              "#fdca26"
             ],
             [
              1,
              "#f0f921"
             ]
            ],
            "type": "histogram2dcontour"
           }
          ],
          "mesh3d": [
           {
            "colorbar": {
             "outlinewidth": 0,
             "ticks": ""
            },
            "type": "mesh3d"
           }
          ],
          "parcoords": [
           {
            "line": {
             "colorbar": {
              "outlinewidth": 0,
              "ticks": ""
             }
            },
            "type": "parcoords"
           }
          ],
          "pie": [
           {
            "automargin": true,
            "type": "pie"
           }
          ],
          "scatter": [
           {
            "fillpattern": {
             "fillmode": "overlay",
             "size": 10,
             "solidity": 0.2
            },
            "type": "scatter"
           }
          ],
          "scatter3d": [
           {
            "line": {
             "colorbar": {
              "outlinewidth": 0,
              "ticks": ""
             }
            },
            "marker": {
             "colorbar": {
              "outlinewidth": 0,
              "ticks": ""
             }
            },
            "type": "scatter3d"
           }
          ],
          "scattercarpet": [
           {
            "marker": {
             "colorbar": {
              "outlinewidth": 0,
              "ticks": ""
             }
            },
            "type": "scattercarpet"
           }
          ],
          "scattergeo": [
           {
            "marker": {
             "colorbar": {
              "outlinewidth": 0,
              "ticks": ""
             }
            },
            "type": "scattergeo"
           }
          ],
          "scattergl": [
           {
            "marker": {
             "colorbar": {
              "outlinewidth": 0,
              "ticks": ""
             }
            },
            "type": "scattergl"
           }
          ],
          "scattermapbox": [
           {
            "marker": {
             "colorbar": {
              "outlinewidth": 0,
              "ticks": ""
             }
            },
            "type": "scattermapbox"
           }
          ],
          "scatterpolar": [
           {
            "marker": {
             "colorbar": {
              "outlinewidth": 0,
              "ticks": ""
             }
            },
            "type": "scatterpolar"
           }
          ],
          "scatterpolargl": [
           {
            "marker": {
             "colorbar": {
              "outlinewidth": 0,
              "ticks": ""
             }
            },
            "type": "scatterpolargl"
           }
          ],
          "scatterternary": [
           {
            "marker": {
             "colorbar": {
              "outlinewidth": 0,
              "ticks": ""
             }
            },
            "type": "scatterternary"
           }
          ],
          "surface": [
           {
            "colorbar": {
             "outlinewidth": 0,
             "ticks": ""
            },
            "colorscale": [
             [
              0,
              "#0d0887"
             ],
             [
              0.1111111111111111,
              "#46039f"
             ],
             [
              0.2222222222222222,
              "#7201a8"
             ],
             [
              0.3333333333333333,
              "#9c179e"
             ],
             [
              0.4444444444444444,
              "#bd3786"
             ],
             [
              0.5555555555555556,
              "#d8576b"
             ],
             [
              0.6666666666666666,
              "#ed7953"
             ],
             [
              0.7777777777777778,
              "#fb9f3a"
             ],
             [
              0.8888888888888888,
              "#fdca26"
             ],
             [
              1,
              "#f0f921"
             ]
            ],
            "type": "surface"
           }
          ],
          "table": [
           {
            "cells": {
             "fill": {
              "color": "#EBF0F8"
             },
             "line": {
              "color": "white"
             }
            },
            "header": {
             "fill": {
              "color": "#C8D4E3"
             },
             "line": {
              "color": "white"
             }
            },
            "type": "table"
           }
          ]
         },
         "layout": {
          "annotationdefaults": {
           "arrowcolor": "#2a3f5f",
           "arrowhead": 0,
           "arrowwidth": 1
          },
          "autotypenumbers": "strict",
          "coloraxis": {
           "colorbar": {
            "outlinewidth": 0,
            "ticks": ""
           }
          },
          "colorscale": {
           "diverging": [
            [
             0,
             "#8e0152"
            ],
            [
             0.1,
             "#c51b7d"
            ],
            [
             0.2,
             "#de77ae"
            ],
            [
             0.3,
             "#f1b6da"
            ],
            [
             0.4,
             "#fde0ef"
            ],
            [
             0.5,
             "#f7f7f7"
            ],
            [
             0.6,
             "#e6f5d0"
            ],
            [
             0.7,
             "#b8e186"
            ],
            [
             0.8,
             "#7fbc41"
            ],
            [
             0.9,
             "#4d9221"
            ],
            [
             1,
             "#276419"
            ]
           ],
           "sequential": [
            [
             0,
             "#0d0887"
            ],
            [
             0.1111111111111111,
             "#46039f"
            ],
            [
             0.2222222222222222,
             "#7201a8"
            ],
            [
             0.3333333333333333,
             "#9c179e"
            ],
            [
             0.4444444444444444,
             "#bd3786"
            ],
            [
             0.5555555555555556,
             "#d8576b"
            ],
            [
             0.6666666666666666,
             "#ed7953"
            ],
            [
             0.7777777777777778,
             "#fb9f3a"
            ],
            [
             0.8888888888888888,
             "#fdca26"
            ],
            [
             1,
             "#f0f921"
            ]
           ],
           "sequentialminus": [
            [
             0,
             "#0d0887"
            ],
            [
             0.1111111111111111,
             "#46039f"
            ],
            [
             0.2222222222222222,
             "#7201a8"
            ],
            [
             0.3333333333333333,
             "#9c179e"
            ],
            [
             0.4444444444444444,
             "#bd3786"
            ],
            [
             0.5555555555555556,
             "#d8576b"
            ],
            [
             0.6666666666666666,
             "#ed7953"
            ],
            [
             0.7777777777777778,
             "#fb9f3a"
            ],
            [
             0.8888888888888888,
             "#fdca26"
            ],
            [
             1,
             "#f0f921"
            ]
           ]
          },
          "colorway": [
           "#636efa",
           "#EF553B",
           "#00cc96",
           "#ab63fa",
           "#FFA15A",
           "#19d3f3",
           "#FF6692",
           "#B6E880",
           "#FF97FF",
           "#FECB52"
          ],
          "font": {
           "color": "#2a3f5f"
          },
          "geo": {
           "bgcolor": "white",
           "lakecolor": "white",
           "landcolor": "#E5ECF6",
           "showlakes": true,
           "showland": true,
           "subunitcolor": "white"
          },
          "hoverlabel": {
           "align": "left"
          },
          "hovermode": "closest",
          "mapbox": {
           "style": "light"
          },
          "paper_bgcolor": "white",
          "plot_bgcolor": "#E5ECF6",
          "polar": {
           "angularaxis": {
            "gridcolor": "white",
            "linecolor": "white",
            "ticks": ""
           },
           "bgcolor": "#E5ECF6",
           "radialaxis": {
            "gridcolor": "white",
            "linecolor": "white",
            "ticks": ""
           }
          },
          "scene": {
           "xaxis": {
            "backgroundcolor": "#E5ECF6",
            "gridcolor": "white",
            "gridwidth": 2,
            "linecolor": "white",
            "showbackground": true,
            "ticks": "",
            "zerolinecolor": "white"
           },
           "yaxis": {
            "backgroundcolor": "#E5ECF6",
            "gridcolor": "white",
            "gridwidth": 2,
            "linecolor": "white",
            "showbackground": true,
            "ticks": "",
            "zerolinecolor": "white"
           },
           "zaxis": {
            "backgroundcolor": "#E5ECF6",
            "gridcolor": "white",
            "gridwidth": 2,
            "linecolor": "white",
            "showbackground": true,
            "ticks": "",
            "zerolinecolor": "white"
           }
          },
          "shapedefaults": {
           "line": {
            "color": "#2a3f5f"
           }
          },
          "ternary": {
           "aaxis": {
            "gridcolor": "white",
            "linecolor": "white",
            "ticks": ""
           },
           "baxis": {
            "gridcolor": "white",
            "linecolor": "white",
            "ticks": ""
           },
           "bgcolor": "#E5ECF6",
           "caxis": {
            "gridcolor": "white",
            "linecolor": "white",
            "ticks": ""
           }
          },
          "title": {
           "x": 0.05
          },
          "xaxis": {
           "automargin": true,
           "gridcolor": "white",
           "linecolor": "white",
           "ticks": "",
           "title": {
            "standoff": 15
           },
           "zerolinecolor": "white",
           "zerolinewidth": 2
          },
          "yaxis": {
           "automargin": true,
           "gridcolor": "white",
           "linecolor": "white",
           "ticks": "",
           "title": {
            "standoff": 15
           },
           "zerolinecolor": "white",
           "zerolinewidth": 2
          }
         }
        }
       }
      }
     },
     "metadata": {},
     "output_type": "display_data"
    }
   ],
   "source": [
    "df = data[data[\"tags_list\"].apply(lambda x: '' in x)]\n",
    "print(df[\"experience\"].value_counts().keys(), df[\"experience\"].value_counts())\n",
    "fig = go.Figure()\n",
    "fig.add_trace(go.Histogram(name=\"С тегами\", x=data[\"experience\"]))\n",
    "fig.add_trace(go.Bar(name=\"Без тегов\",x=df[\"experience\"].value_counts().keys(), y=df[\"experience\"].value_counts()))\n",
    "fig.show()"
   ]
  },
  {
   "cell_type": "markdown",
   "metadata": {},
   "source": [
    "### Resume_data."
   ]
  },
  {
   "cell_type": "code",
   "execution_count": 105,
   "metadata": {},
   "outputs": [
    {
     "data": {
      "text/html": [
       "<div>\n",
       "<style scoped>\n",
       "    .dataframe tbody tr th:only-of-type {\n",
       "        vertical-align: middle;\n",
       "    }\n",
       "\n",
       "    .dataframe tbody tr th {\n",
       "        vertical-align: top;\n",
       "    }\n",
       "\n",
       "    .dataframe thead th {\n",
       "        text-align: right;\n",
       "    }\n",
       "</style>\n",
       "<table border=\"1\" class=\"dataframe\">\n",
       "  <thead>\n",
       "    <tr style=\"text-align: right;\">\n",
       "      <th></th>\n",
       "      <th>currency</th>\n",
       "      <th>count</th>\n",
       "    </tr>\n",
       "  </thead>\n",
       "  <tbody>\n",
       "    <tr>\n",
       "      <th>0</th>\n",
       "      <td>EUR</td>\n",
       "      <td>5</td>\n",
       "    </tr>\n",
       "    <tr>\n",
       "      <th>1</th>\n",
       "      <td>USD</td>\n",
       "      <td>28</td>\n",
       "    </tr>\n",
       "    <tr>\n",
       "      <th>2</th>\n",
       "      <td>не указана</td>\n",
       "      <td>1</td>\n",
       "    </tr>\n",
       "    <tr>\n",
       "      <th>3</th>\n",
       "      <td>руб</td>\n",
       "      <td>1673</td>\n",
       "    </tr>\n",
       "    <tr>\n",
       "      <th>4</th>\n",
       "      <td>сум</td>\n",
       "      <td>2</td>\n",
       "    </tr>\n",
       "  </tbody>\n",
       "</table>\n",
       "</div>"
      ],
      "text/plain": [
       "     currency  count\n",
       "0         EUR      5\n",
       "1         USD     28\n",
       "2  не указана      1\n",
       "3         руб   1673\n",
       "4         сум      2"
      ]
     },
     "execution_count": 105,
     "metadata": {},
     "output_type": "execute_result"
    }
   ],
   "source": [
    "df = data.groupby(\"currency\").agg({\"currency\": \"count\"})\n",
    "df.columns = [\"count\"]\n",
    "df.reset_index()"
   ]
  },
  {
   "cell_type": "code",
   "execution_count": 106,
   "metadata": {},
   "outputs": [
    {
     "name": "stdout",
     "output_type": "stream",
     "text": [
      "Число уникальных заголовков в resume_data: 1285\n"
     ]
    },
    {
     "data": {
      "application/vnd.plotly.v1+json": {
       "config": {
        "plotlyServerURL": "https://plot.ly"
       },
       "data": [
        {
         "type": "bar",
         "x": [
          "Директор по маркетингу",
          "Руководитель отдела маркетинга",
          "Руководитель отдела маркетинга и рекламы",
          "Директор по маркетингу и рекламе",
          "Директор по маркетингу, рекламе и PR",
          "Директор по маркетингу и развитию",
          "Директор по продажам и маркетингу",
          "Руководитель отдела рекламы и маркетинга",
          "Маркетолог",
          "Директор по маркетингу и продажам",
          "Коммерческий директор",
          "Директор по маркетингу и PR",
          "Директор по развитию бизнеса",
          "Директор по развитию и маркетингу",
          "Руководитель отдела маркетинга и PR",
          "Директор по развитию",
          "Интернет-маркетолог",
          "Директор по продажам",
          "Marketing director",
          "Руководитель отдела маркетинга и развития"
         ],
         "y": [
          487,
          429,
          198,
          122,
          60,
          54,
          48,
          39,
          37,
          37,
          35,
          34,
          23,
          20,
          18,
          16,
          16,
          15,
          14,
          14
         ]
        }
       ],
       "layout": {
        "template": {
         "data": {
          "bar": [
           {
            "error_x": {
             "color": "#2a3f5f"
            },
            "error_y": {
             "color": "#2a3f5f"
            },
            "marker": {
             "line": {
              "color": "#E5ECF6",
              "width": 0.5
             },
             "pattern": {
              "fillmode": "overlay",
              "size": 10,
              "solidity": 0.2
             }
            },
            "type": "bar"
           }
          ],
          "barpolar": [
           {
            "marker": {
             "line": {
              "color": "#E5ECF6",
              "width": 0.5
             },
             "pattern": {
              "fillmode": "overlay",
              "size": 10,
              "solidity": 0.2
             }
            },
            "type": "barpolar"
           }
          ],
          "carpet": [
           {
            "aaxis": {
             "endlinecolor": "#2a3f5f",
             "gridcolor": "white",
             "linecolor": "white",
             "minorgridcolor": "white",
             "startlinecolor": "#2a3f5f"
            },
            "baxis": {
             "endlinecolor": "#2a3f5f",
             "gridcolor": "white",
             "linecolor": "white",
             "minorgridcolor": "white",
             "startlinecolor": "#2a3f5f"
            },
            "type": "carpet"
           }
          ],
          "choropleth": [
           {
            "colorbar": {
             "outlinewidth": 0,
             "ticks": ""
            },
            "type": "choropleth"
           }
          ],
          "contour": [
           {
            "colorbar": {
             "outlinewidth": 0,
             "ticks": ""
            },
            "colorscale": [
             [
              0,
              "#0d0887"
             ],
             [
              0.1111111111111111,
              "#46039f"
             ],
             [
              0.2222222222222222,
              "#7201a8"
             ],
             [
              0.3333333333333333,
              "#9c179e"
             ],
             [
              0.4444444444444444,
              "#bd3786"
             ],
             [
              0.5555555555555556,
              "#d8576b"
             ],
             [
              0.6666666666666666,
              "#ed7953"
             ],
             [
              0.7777777777777778,
              "#fb9f3a"
             ],
             [
              0.8888888888888888,
              "#fdca26"
             ],
             [
              1,
              "#f0f921"
             ]
            ],
            "type": "contour"
           }
          ],
          "contourcarpet": [
           {
            "colorbar": {
             "outlinewidth": 0,
             "ticks": ""
            },
            "type": "contourcarpet"
           }
          ],
          "heatmap": [
           {
            "colorbar": {
             "outlinewidth": 0,
             "ticks": ""
            },
            "colorscale": [
             [
              0,
              "#0d0887"
             ],
             [
              0.1111111111111111,
              "#46039f"
             ],
             [
              0.2222222222222222,
              "#7201a8"
             ],
             [
              0.3333333333333333,
              "#9c179e"
             ],
             [
              0.4444444444444444,
              "#bd3786"
             ],
             [
              0.5555555555555556,
              "#d8576b"
             ],
             [
              0.6666666666666666,
              "#ed7953"
             ],
             [
              0.7777777777777778,
              "#fb9f3a"
             ],
             [
              0.8888888888888888,
              "#fdca26"
             ],
             [
              1,
              "#f0f921"
             ]
            ],
            "type": "heatmap"
           }
          ],
          "heatmapgl": [
           {
            "colorbar": {
             "outlinewidth": 0,
             "ticks": ""
            },
            "colorscale": [
             [
              0,
              "#0d0887"
             ],
             [
              0.1111111111111111,
              "#46039f"
             ],
             [
              0.2222222222222222,
              "#7201a8"
             ],
             [
              0.3333333333333333,
              "#9c179e"
             ],
             [
              0.4444444444444444,
              "#bd3786"
             ],
             [
              0.5555555555555556,
              "#d8576b"
             ],
             [
              0.6666666666666666,
              "#ed7953"
             ],
             [
              0.7777777777777778,
              "#fb9f3a"
             ],
             [
              0.8888888888888888,
              "#fdca26"
             ],
             [
              1,
              "#f0f921"
             ]
            ],
            "type": "heatmapgl"
           }
          ],
          "histogram": [
           {
            "marker": {
             "pattern": {
              "fillmode": "overlay",
              "size": 10,
              "solidity": 0.2
             }
            },
            "type": "histogram"
           }
          ],
          "histogram2d": [
           {
            "colorbar": {
             "outlinewidth": 0,
             "ticks": ""
            },
            "colorscale": [
             [
              0,
              "#0d0887"
             ],
             [
              0.1111111111111111,
              "#46039f"
             ],
             [
              0.2222222222222222,
              "#7201a8"
             ],
             [
              0.3333333333333333,
              "#9c179e"
             ],
             [
              0.4444444444444444,
              "#bd3786"
             ],
             [
              0.5555555555555556,
              "#d8576b"
             ],
             [
              0.6666666666666666,
              "#ed7953"
             ],
             [
              0.7777777777777778,
              "#fb9f3a"
             ],
             [
              0.8888888888888888,
              "#fdca26"
             ],
             [
              1,
              "#f0f921"
             ]
            ],
            "type": "histogram2d"
           }
          ],
          "histogram2dcontour": [
           {
            "colorbar": {
             "outlinewidth": 0,
             "ticks": ""
            },
            "colorscale": [
             [
              0,
              "#0d0887"
             ],
             [
              0.1111111111111111,
              "#46039f"
             ],
             [
              0.2222222222222222,
              "#7201a8"
             ],
             [
              0.3333333333333333,
              "#9c179e"
             ],
             [
              0.4444444444444444,
              "#bd3786"
             ],
             [
              0.5555555555555556,
              "#d8576b"
             ],
             [
              0.6666666666666666,
              "#ed7953"
             ],
             [
              0.7777777777777778,
              "#fb9f3a"
             ],
             [
              0.8888888888888888,
              "#fdca26"
             ],
             [
              1,
              "#f0f921"
             ]
            ],
            "type": "histogram2dcontour"
           }
          ],
          "mesh3d": [
           {
            "colorbar": {
             "outlinewidth": 0,
             "ticks": ""
            },
            "type": "mesh3d"
           }
          ],
          "parcoords": [
           {
            "line": {
             "colorbar": {
              "outlinewidth": 0,
              "ticks": ""
             }
            },
            "type": "parcoords"
           }
          ],
          "pie": [
           {
            "automargin": true,
            "type": "pie"
           }
          ],
          "scatter": [
           {
            "fillpattern": {
             "fillmode": "overlay",
             "size": 10,
             "solidity": 0.2
            },
            "type": "scatter"
           }
          ],
          "scatter3d": [
           {
            "line": {
             "colorbar": {
              "outlinewidth": 0,
              "ticks": ""
             }
            },
            "marker": {
             "colorbar": {
              "outlinewidth": 0,
              "ticks": ""
             }
            },
            "type": "scatter3d"
           }
          ],
          "scattercarpet": [
           {
            "marker": {
             "colorbar": {
              "outlinewidth": 0,
              "ticks": ""
             }
            },
            "type": "scattercarpet"
           }
          ],
          "scattergeo": [
           {
            "marker": {
             "colorbar": {
              "outlinewidth": 0,
              "ticks": ""
             }
            },
            "type": "scattergeo"
           }
          ],
          "scattergl": [
           {
            "marker": {
             "colorbar": {
              "outlinewidth": 0,
              "ticks": ""
             }
            },
            "type": "scattergl"
           }
          ],
          "scattermapbox": [
           {
            "marker": {
             "colorbar": {
              "outlinewidth": 0,
              "ticks": ""
             }
            },
            "type": "scattermapbox"
           }
          ],
          "scatterpolar": [
           {
            "marker": {
             "colorbar": {
              "outlinewidth": 0,
              "ticks": ""
             }
            },
            "type": "scatterpolar"
           }
          ],
          "scatterpolargl": [
           {
            "marker": {
             "colorbar": {
              "outlinewidth": 0,
              "ticks": ""
             }
            },
            "type": "scatterpolargl"
           }
          ],
          "scatterternary": [
           {
            "marker": {
             "colorbar": {
              "outlinewidth": 0,
              "ticks": ""
             }
            },
            "type": "scatterternary"
           }
          ],
          "surface": [
           {
            "colorbar": {
             "outlinewidth": 0,
             "ticks": ""
            },
            "colorscale": [
             [
              0,
              "#0d0887"
             ],
             [
              0.1111111111111111,
              "#46039f"
             ],
             [
              0.2222222222222222,
              "#7201a8"
             ],
             [
              0.3333333333333333,
              "#9c179e"
             ],
             [
              0.4444444444444444,
              "#bd3786"
             ],
             [
              0.5555555555555556,
              "#d8576b"
             ],
             [
              0.6666666666666666,
              "#ed7953"
             ],
             [
              0.7777777777777778,
              "#fb9f3a"
             ],
             [
              0.8888888888888888,
              "#fdca26"
             ],
             [
              1,
              "#f0f921"
             ]
            ],
            "type": "surface"
           }
          ],
          "table": [
           {
            "cells": {
             "fill": {
              "color": "#EBF0F8"
             },
             "line": {
              "color": "white"
             }
            },
            "header": {
             "fill": {
              "color": "#C8D4E3"
             },
             "line": {
              "color": "white"
             }
            },
            "type": "table"
           }
          ]
         },
         "layout": {
          "annotationdefaults": {
           "arrowcolor": "#2a3f5f",
           "arrowhead": 0,
           "arrowwidth": 1
          },
          "autotypenumbers": "strict",
          "coloraxis": {
           "colorbar": {
            "outlinewidth": 0,
            "ticks": ""
           }
          },
          "colorscale": {
           "diverging": [
            [
             0,
             "#8e0152"
            ],
            [
             0.1,
             "#c51b7d"
            ],
            [
             0.2,
             "#de77ae"
            ],
            [
             0.3,
             "#f1b6da"
            ],
            [
             0.4,
             "#fde0ef"
            ],
            [
             0.5,
             "#f7f7f7"
            ],
            [
             0.6,
             "#e6f5d0"
            ],
            [
             0.7,
             "#b8e186"
            ],
            [
             0.8,
             "#7fbc41"
            ],
            [
             0.9,
             "#4d9221"
            ],
            [
             1,
             "#276419"
            ]
           ],
           "sequential": [
            [
             0,
             "#0d0887"
            ],
            [
             0.1111111111111111,
             "#46039f"
            ],
            [
             0.2222222222222222,
             "#7201a8"
            ],
            [
             0.3333333333333333,
             "#9c179e"
            ],
            [
             0.4444444444444444,
             "#bd3786"
            ],
            [
             0.5555555555555556,
             "#d8576b"
            ],
            [
             0.6666666666666666,
             "#ed7953"
            ],
            [
             0.7777777777777778,
             "#fb9f3a"
            ],
            [
             0.8888888888888888,
             "#fdca26"
            ],
            [
             1,
             "#f0f921"
            ]
           ],
           "sequentialminus": [
            [
             0,
             "#0d0887"
            ],
            [
             0.1111111111111111,
             "#46039f"
            ],
            [
             0.2222222222222222,
             "#7201a8"
            ],
            [
             0.3333333333333333,
             "#9c179e"
            ],
            [
             0.4444444444444444,
             "#bd3786"
            ],
            [
             0.5555555555555556,
             "#d8576b"
            ],
            [
             0.6666666666666666,
             "#ed7953"
            ],
            [
             0.7777777777777778,
             "#fb9f3a"
            ],
            [
             0.8888888888888888,
             "#fdca26"
            ],
            [
             1,
             "#f0f921"
            ]
           ]
          },
          "colorway": [
           "#636efa",
           "#EF553B",
           "#00cc96",
           "#ab63fa",
           "#FFA15A",
           "#19d3f3",
           "#FF6692",
           "#B6E880",
           "#FF97FF",
           "#FECB52"
          ],
          "font": {
           "color": "#2a3f5f"
          },
          "geo": {
           "bgcolor": "white",
           "lakecolor": "white",
           "landcolor": "#E5ECF6",
           "showlakes": true,
           "showland": true,
           "subunitcolor": "white"
          },
          "hoverlabel": {
           "align": "left"
          },
          "hovermode": "closest",
          "mapbox": {
           "style": "light"
          },
          "paper_bgcolor": "white",
          "plot_bgcolor": "#E5ECF6",
          "polar": {
           "angularaxis": {
            "gridcolor": "white",
            "linecolor": "white",
            "ticks": ""
           },
           "bgcolor": "#E5ECF6",
           "radialaxis": {
            "gridcolor": "white",
            "linecolor": "white",
            "ticks": ""
           }
          },
          "scene": {
           "xaxis": {
            "backgroundcolor": "#E5ECF6",
            "gridcolor": "white",
            "gridwidth": 2,
            "linecolor": "white",
            "showbackground": true,
            "ticks": "",
            "zerolinecolor": "white"
           },
           "yaxis": {
            "backgroundcolor": "#E5ECF6",
            "gridcolor": "white",
            "gridwidth": 2,
            "linecolor": "white",
            "showbackground": true,
            "ticks": "",
            "zerolinecolor": "white"
           },
           "zaxis": {
            "backgroundcolor": "#E5ECF6",
            "gridcolor": "white",
            "gridwidth": 2,
            "linecolor": "white",
            "showbackground": true,
            "ticks": "",
            "zerolinecolor": "white"
           }
          },
          "shapedefaults": {
           "line": {
            "color": "#2a3f5f"
           }
          },
          "ternary": {
           "aaxis": {
            "gridcolor": "white",
            "linecolor": "white",
            "ticks": ""
           },
           "baxis": {
            "gridcolor": "white",
            "linecolor": "white",
            "ticks": ""
           },
           "bgcolor": "#E5ECF6",
           "caxis": {
            "gridcolor": "white",
            "linecolor": "white",
            "ticks": ""
           }
          },
          "title": {
           "x": 0.05
          },
          "xaxis": {
           "automargin": true,
           "gridcolor": "white",
           "linecolor": "white",
           "ticks": "",
           "title": {
            "standoff": 15
           },
           "zerolinecolor": "white",
           "zerolinewidth": 2
          },
          "yaxis": {
           "automargin": true,
           "gridcolor": "white",
           "linecolor": "white",
           "ticks": "",
           "title": {
            "standoff": 15
           },
           "zerolinecolor": "white",
           "zerolinewidth": 2
          }
         }
        }
       }
      }
     },
     "metadata": {},
     "output_type": "display_data"
    }
   ],
   "source": [
    "resume_data.sample()\n",
    "df = resume_data.groupby(resume_data[\"title\"]).agg({\"title\": \"count\"})\n",
    "df.columns = [\"count\"]\n",
    "df = df.sort_values(by=\"count\", ascending=False).reset_index()\n",
    "print(f\"Число уникальных заголовков в resume_data: {len(df)}\")\n",
    "df = df[:20]\n",
    "fig = go.Figure()\n",
    "fig.add_trace(go.Bar(x=df[\"title\"], y=df[\"count\"]))\n",
    "fig.show()"
   ]
  },
  {
   "cell_type": "markdown",
   "metadata": {},
   "source": [
    "Видим, что значительное большинство соискателей нацелено на руководящие должности  и маркетинг"
   ]
  },
  {
   "cell_type": "markdown",
   "metadata": {},
   "source": [
    "На всякий случай рассмотрим и независящий от соискателей gender\n"
   ]
  },
  {
   "cell_type": "code",
   "execution_count": 107,
   "metadata": {},
   "outputs": [
    {
     "name": "stderr",
     "output_type": "stream",
     "text": [
      "C:\\Users\\leedm\\AppData\\Local\\Temp\\ipykernel_16056\\3655850233.py:7: SettingWithCopyWarning:\n",
      "\n",
      "\n",
      "A value is trying to be set on a copy of a slice from a DataFrame.\n",
      "Try using .loc[row_indexer,col_indexer] = value instead\n",
      "\n",
      "See the caveats in the documentation: https://pandas.pydata.org/pandas-docs/stable/user_guide/indexing.html#returning-a-view-versus-a-copy\n",
      "\n"
     ]
    },
    {
     "data": {
      "application/vnd.plotly.v1+json": {
       "config": {
        "plotlyServerURL": "https://plot.ly"
       },
       "data": [
        {
         "name": "Мужчины",
         "type": "bar",
         "x": [
          21,
          22,
          23,
          24,
          25,
          26,
          27,
          28,
          29,
          30,
          31,
          32,
          33,
          34,
          35,
          36,
          37,
          38,
          39,
          40,
          41,
          42,
          43,
          44,
          45,
          46,
          47,
          48,
          49,
          50,
          51,
          52,
          53,
          54,
          55,
          56,
          57,
          58,
          59,
          60,
          61,
          62,
          63,
          66,
          67,
          71
         ],
         "y": [
          21,
          22,
          23,
          24,
          25,
          26,
          27,
          28,
          29,
          30,
          31,
          32,
          33,
          34,
          35,
          36,
          37,
          38,
          39,
          40,
          41,
          42,
          43,
          44,
          45,
          46,
          47,
          48,
          49,
          50,
          51,
          52,
          53,
          54,
          55,
          56,
          57,
          58,
          59,
          60,
          61,
          62,
          63,
          66,
          67,
          71
         ]
        },
        {
         "name": "Женщины",
         "type": "bar",
         "x": [
          19,
          20,
          21,
          22,
          23,
          24,
          25,
          26,
          27,
          28,
          29,
          30,
          31,
          32,
          33,
          34,
          35,
          36,
          37,
          38,
          39,
          40,
          41,
          42,
          43,
          44,
          45,
          46,
          47,
          48,
          49,
          50,
          51,
          52,
          53,
          54,
          55,
          56,
          58,
          59,
          61,
          65
         ],
         "y": [
          19,
          20,
          21,
          22,
          23,
          24,
          25,
          26,
          27,
          28,
          29,
          30,
          31,
          32,
          33,
          34,
          35,
          36,
          37,
          38,
          39,
          40,
          41,
          42,
          43,
          44,
          45,
          46,
          47,
          48,
          49,
          50,
          51,
          52,
          53,
          54,
          55,
          56,
          58,
          59,
          61,
          65
         ]
        }
       ],
       "layout": {
        "template": {
         "data": {
          "bar": [
           {
            "error_x": {
             "color": "#2a3f5f"
            },
            "error_y": {
             "color": "#2a3f5f"
            },
            "marker": {
             "line": {
              "color": "#E5ECF6",
              "width": 0.5
             },
             "pattern": {
              "fillmode": "overlay",
              "size": 10,
              "solidity": 0.2
             }
            },
            "type": "bar"
           }
          ],
          "barpolar": [
           {
            "marker": {
             "line": {
              "color": "#E5ECF6",
              "width": 0.5
             },
             "pattern": {
              "fillmode": "overlay",
              "size": 10,
              "solidity": 0.2
             }
            },
            "type": "barpolar"
           }
          ],
          "carpet": [
           {
            "aaxis": {
             "endlinecolor": "#2a3f5f",
             "gridcolor": "white",
             "linecolor": "white",
             "minorgridcolor": "white",
             "startlinecolor": "#2a3f5f"
            },
            "baxis": {
             "endlinecolor": "#2a3f5f",
             "gridcolor": "white",
             "linecolor": "white",
             "minorgridcolor": "white",
             "startlinecolor": "#2a3f5f"
            },
            "type": "carpet"
           }
          ],
          "choropleth": [
           {
            "colorbar": {
             "outlinewidth": 0,
             "ticks": ""
            },
            "type": "choropleth"
           }
          ],
          "contour": [
           {
            "colorbar": {
             "outlinewidth": 0,
             "ticks": ""
            },
            "colorscale": [
             [
              0,
              "#0d0887"
             ],
             [
              0.1111111111111111,
              "#46039f"
             ],
             [
              0.2222222222222222,
              "#7201a8"
             ],
             [
              0.3333333333333333,
              "#9c179e"
             ],
             [
              0.4444444444444444,
              "#bd3786"
             ],
             [
              0.5555555555555556,
              "#d8576b"
             ],
             [
              0.6666666666666666,
              "#ed7953"
             ],
             [
              0.7777777777777778,
              "#fb9f3a"
             ],
             [
              0.8888888888888888,
              "#fdca26"
             ],
             [
              1,
              "#f0f921"
             ]
            ],
            "type": "contour"
           }
          ],
          "contourcarpet": [
           {
            "colorbar": {
             "outlinewidth": 0,
             "ticks": ""
            },
            "type": "contourcarpet"
           }
          ],
          "heatmap": [
           {
            "colorbar": {
             "outlinewidth": 0,
             "ticks": ""
            },
            "colorscale": [
             [
              0,
              "#0d0887"
             ],
             [
              0.1111111111111111,
              "#46039f"
             ],
             [
              0.2222222222222222,
              "#7201a8"
             ],
             [
              0.3333333333333333,
              "#9c179e"
             ],
             [
              0.4444444444444444,
              "#bd3786"
             ],
             [
              0.5555555555555556,
              "#d8576b"
             ],
             [
              0.6666666666666666,
              "#ed7953"
             ],
             [
              0.7777777777777778,
              "#fb9f3a"
             ],
             [
              0.8888888888888888,
              "#fdca26"
             ],
             [
              1,
              "#f0f921"
             ]
            ],
            "type": "heatmap"
           }
          ],
          "heatmapgl": [
           {
            "colorbar": {
             "outlinewidth": 0,
             "ticks": ""
            },
            "colorscale": [
             [
              0,
              "#0d0887"
             ],
             [
              0.1111111111111111,
              "#46039f"
             ],
             [
              0.2222222222222222,
              "#7201a8"
             ],
             [
              0.3333333333333333,
              "#9c179e"
             ],
             [
              0.4444444444444444,
              "#bd3786"
             ],
             [
              0.5555555555555556,
              "#d8576b"
             ],
             [
              0.6666666666666666,
              "#ed7953"
             ],
             [
              0.7777777777777778,
              "#fb9f3a"
             ],
             [
              0.8888888888888888,
              "#fdca26"
             ],
             [
              1,
              "#f0f921"
             ]
            ],
            "type": "heatmapgl"
           }
          ],
          "histogram": [
           {
            "marker": {
             "pattern": {
              "fillmode": "overlay",
              "size": 10,
              "solidity": 0.2
             }
            },
            "type": "histogram"
           }
          ],
          "histogram2d": [
           {
            "colorbar": {
             "outlinewidth": 0,
             "ticks": ""
            },
            "colorscale": [
             [
              0,
              "#0d0887"
             ],
             [
              0.1111111111111111,
              "#46039f"
             ],
             [
              0.2222222222222222,
              "#7201a8"
             ],
             [
              0.3333333333333333,
              "#9c179e"
             ],
             [
              0.4444444444444444,
              "#bd3786"
             ],
             [
              0.5555555555555556,
              "#d8576b"
             ],
             [
              0.6666666666666666,
              "#ed7953"
             ],
             [
              0.7777777777777778,
              "#fb9f3a"
             ],
             [
              0.8888888888888888,
              "#fdca26"
             ],
             [
              1,
              "#f0f921"
             ]
            ],
            "type": "histogram2d"
           }
          ],
          "histogram2dcontour": [
           {
            "colorbar": {
             "outlinewidth": 0,
             "ticks": ""
            },
            "colorscale": [
             [
              0,
              "#0d0887"
             ],
             [
              0.1111111111111111,
              "#46039f"
             ],
             [
              0.2222222222222222,
              "#7201a8"
             ],
             [
              0.3333333333333333,
              "#9c179e"
             ],
             [
              0.4444444444444444,
              "#bd3786"
             ],
             [
              0.5555555555555556,
              "#d8576b"
             ],
             [
              0.6666666666666666,
              "#ed7953"
             ],
             [
              0.7777777777777778,
              "#fb9f3a"
             ],
             [
              0.8888888888888888,
              "#fdca26"
             ],
             [
              1,
              "#f0f921"
             ]
            ],
            "type": "histogram2dcontour"
           }
          ],
          "mesh3d": [
           {
            "colorbar": {
             "outlinewidth": 0,
             "ticks": ""
            },
            "type": "mesh3d"
           }
          ],
          "parcoords": [
           {
            "line": {
             "colorbar": {
              "outlinewidth": 0,
              "ticks": ""
             }
            },
            "type": "parcoords"
           }
          ],
          "pie": [
           {
            "automargin": true,
            "type": "pie"
           }
          ],
          "scatter": [
           {
            "fillpattern": {
             "fillmode": "overlay",
             "size": 10,
             "solidity": 0.2
            },
            "type": "scatter"
           }
          ],
          "scatter3d": [
           {
            "line": {
             "colorbar": {
              "outlinewidth": 0,
              "ticks": ""
             }
            },
            "marker": {
             "colorbar": {
              "outlinewidth": 0,
              "ticks": ""
             }
            },
            "type": "scatter3d"
           }
          ],
          "scattercarpet": [
           {
            "marker": {
             "colorbar": {
              "outlinewidth": 0,
              "ticks": ""
             }
            },
            "type": "scattercarpet"
           }
          ],
          "scattergeo": [
           {
            "marker": {
             "colorbar": {
              "outlinewidth": 0,
              "ticks": ""
             }
            },
            "type": "scattergeo"
           }
          ],
          "scattergl": [
           {
            "marker": {
             "colorbar": {
              "outlinewidth": 0,
              "ticks": ""
             }
            },
            "type": "scattergl"
           }
          ],
          "scattermapbox": [
           {
            "marker": {
             "colorbar": {
              "outlinewidth": 0,
              "ticks": ""
             }
            },
            "type": "scattermapbox"
           }
          ],
          "scatterpolar": [
           {
            "marker": {
             "colorbar": {
              "outlinewidth": 0,
              "ticks": ""
             }
            },
            "type": "scatterpolar"
           }
          ],
          "scatterpolargl": [
           {
            "marker": {
             "colorbar": {
              "outlinewidth": 0,
              "ticks": ""
             }
            },
            "type": "scatterpolargl"
           }
          ],
          "scatterternary": [
           {
            "marker": {
             "colorbar": {
              "outlinewidth": 0,
              "ticks": ""
             }
            },
            "type": "scatterternary"
           }
          ],
          "surface": [
           {
            "colorbar": {
             "outlinewidth": 0,
             "ticks": ""
            },
            "colorscale": [
             [
              0,
              "#0d0887"
             ],
             [
              0.1111111111111111,
              "#46039f"
             ],
             [
              0.2222222222222222,
              "#7201a8"
             ],
             [
              0.3333333333333333,
              "#9c179e"
             ],
             [
              0.4444444444444444,
              "#bd3786"
             ],
             [
              0.5555555555555556,
              "#d8576b"
             ],
             [
              0.6666666666666666,
              "#ed7953"
             ],
             [
              0.7777777777777778,
              "#fb9f3a"
             ],
             [
              0.8888888888888888,
              "#fdca26"
             ],
             [
              1,
              "#f0f921"
             ]
            ],
            "type": "surface"
           }
          ],
          "table": [
           {
            "cells": {
             "fill": {
              "color": "#EBF0F8"
             },
             "line": {
              "color": "white"
             }
            },
            "header": {
             "fill": {
              "color": "#C8D4E3"
             },
             "line": {
              "color": "white"
             }
            },
            "type": "table"
           }
          ]
         },
         "layout": {
          "annotationdefaults": {
           "arrowcolor": "#2a3f5f",
           "arrowhead": 0,
           "arrowwidth": 1
          },
          "autotypenumbers": "strict",
          "coloraxis": {
           "colorbar": {
            "outlinewidth": 0,
            "ticks": ""
           }
          },
          "colorscale": {
           "diverging": [
            [
             0,
             "#8e0152"
            ],
            [
             0.1,
             "#c51b7d"
            ],
            [
             0.2,
             "#de77ae"
            ],
            [
             0.3,
             "#f1b6da"
            ],
            [
             0.4,
             "#fde0ef"
            ],
            [
             0.5,
             "#f7f7f7"
            ],
            [
             0.6,
             "#e6f5d0"
            ],
            [
             0.7,
             "#b8e186"
            ],
            [
             0.8,
             "#7fbc41"
            ],
            [
             0.9,
             "#4d9221"
            ],
            [
             1,
             "#276419"
            ]
           ],
           "sequential": [
            [
             0,
             "#0d0887"
            ],
            [
             0.1111111111111111,
             "#46039f"
            ],
            [
             0.2222222222222222,
             "#7201a8"
            ],
            [
             0.3333333333333333,
             "#9c179e"
            ],
            [
             0.4444444444444444,
             "#bd3786"
            ],
            [
             0.5555555555555556,
             "#d8576b"
            ],
            [
             0.6666666666666666,
             "#ed7953"
            ],
            [
             0.7777777777777778,
             "#fb9f3a"
            ],
            [
             0.8888888888888888,
             "#fdca26"
            ],
            [
             1,
             "#f0f921"
            ]
           ],
           "sequentialminus": [
            [
             0,
             "#0d0887"
            ],
            [
             0.1111111111111111,
             "#46039f"
            ],
            [
             0.2222222222222222,
             "#7201a8"
            ],
            [
             0.3333333333333333,
             "#9c179e"
            ],
            [
             0.4444444444444444,
             "#bd3786"
            ],
            [
             0.5555555555555556,
             "#d8576b"
            ],
            [
             0.6666666666666666,
             "#ed7953"
            ],
            [
             0.7777777777777778,
             "#fb9f3a"
            ],
            [
             0.8888888888888888,
             "#fdca26"
            ],
            [
             1,
             "#f0f921"
            ]
           ]
          },
          "colorway": [
           "#636efa",
           "#EF553B",
           "#00cc96",
           "#ab63fa",
           "#FFA15A",
           "#19d3f3",
           "#FF6692",
           "#B6E880",
           "#FF97FF",
           "#FECB52"
          ],
          "font": {
           "color": "#2a3f5f"
          },
          "geo": {
           "bgcolor": "white",
           "lakecolor": "white",
           "landcolor": "#E5ECF6",
           "showlakes": true,
           "showland": true,
           "subunitcolor": "white"
          },
          "hoverlabel": {
           "align": "left"
          },
          "hovermode": "closest",
          "mapbox": {
           "style": "light"
          },
          "paper_bgcolor": "white",
          "plot_bgcolor": "#E5ECF6",
          "polar": {
           "angularaxis": {
            "gridcolor": "white",
            "linecolor": "white",
            "ticks": ""
           },
           "bgcolor": "#E5ECF6",
           "radialaxis": {
            "gridcolor": "white",
            "linecolor": "white",
            "ticks": ""
           }
          },
          "scene": {
           "xaxis": {
            "backgroundcolor": "#E5ECF6",
            "gridcolor": "white",
            "gridwidth": 2,
            "linecolor": "white",
            "showbackground": true,
            "ticks": "",
            "zerolinecolor": "white"
           },
           "yaxis": {
            "backgroundcolor": "#E5ECF6",
            "gridcolor": "white",
            "gridwidth": 2,
            "linecolor": "white",
            "showbackground": true,
            "ticks": "",
            "zerolinecolor": "white"
           },
           "zaxis": {
            "backgroundcolor": "#E5ECF6",
            "gridcolor": "white",
            "gridwidth": 2,
            "linecolor": "white",
            "showbackground": true,
            "ticks": "",
            "zerolinecolor": "white"
           }
          },
          "shapedefaults": {
           "line": {
            "color": "#2a3f5f"
           }
          },
          "ternary": {
           "aaxis": {
            "gridcolor": "white",
            "linecolor": "white",
            "ticks": ""
           },
           "baxis": {
            "gridcolor": "white",
            "linecolor": "white",
            "ticks": ""
           },
           "bgcolor": "#E5ECF6",
           "caxis": {
            "gridcolor": "white",
            "linecolor": "white",
            "ticks": ""
           }
          },
          "title": {
           "x": 0.05
          },
          "xaxis": {
           "automargin": true,
           "gridcolor": "white",
           "linecolor": "white",
           "ticks": "",
           "title": {
            "standoff": 15
           },
           "zerolinecolor": "white",
           "zerolinewidth": 2
          },
          "yaxis": {
           "automargin": true,
           "gridcolor": "white",
           "linecolor": "white",
           "ticks": "",
           "title": {
            "standoff": 15
           },
           "zerolinecolor": "white",
           "zerolinewidth": 2
          }
         }
        }
       }
      }
     },
     "metadata": {},
     "output_type": "display_data"
    }
   ],
   "source": [
    "\n",
    "df = resume_data.loc[resume_data[\"salary\"]<1000000]\n",
    "df1 = df.loc[df[\"gender\"]==\"Мужчина\"]\n",
    "df2 = df.loc[df[\"gender\"]==\"Женщина\"]\n",
    "df1 = df1.groupby(\"age\").agg({\"age\": \"mean\"})\n",
    "df2 = df2.groupby(\"age\").agg({\"age\": \"mean\"})\n",
    "\n",
    "df[\"gender\"] = resume_data[\"gender\"]\n",
    "\n",
    "fig = go.Figure()\n",
    "fig.add_trace(go.Bar(name=\"Мужчины\", x=df1.index, y=df1[\"age\"]))\n",
    "fig.add_trace(go.Bar(name=\"Женщины\", x=df2.index, y=df2[\"age\"]))\n",
    "fig.show()"
   ]
  },
  {
   "cell_type": "code",
   "execution_count": 108,
   "metadata": {},
   "outputs": [
    {
     "data": {
      "text/html": [
       "<div>\n",
       "<style scoped>\n",
       "    .dataframe tbody tr th:only-of-type {\n",
       "        vertical-align: middle;\n",
       "    }\n",
       "\n",
       "    .dataframe tbody tr th {\n",
       "        vertical-align: top;\n",
       "    }\n",
       "\n",
       "    .dataframe thead th {\n",
       "        text-align: right;\n",
       "    }\n",
       "</style>\n",
       "<table border=\"1\" class=\"dataframe\">\n",
       "  <thead>\n",
       "    <tr style=\"text-align: right;\">\n",
       "      <th></th>\n",
       "      <th>gender</th>\n",
       "    </tr>\n",
       "    <tr>\n",
       "      <th>gender</th>\n",
       "      <th></th>\n",
       "    </tr>\n",
       "  </thead>\n",
       "  <tbody>\n",
       "    <tr>\n",
       "      <th>Женщина</th>\n",
       "      <td>1646</td>\n",
       "    </tr>\n",
       "    <tr>\n",
       "      <th>Мужчина</th>\n",
       "      <td>1653</td>\n",
       "    </tr>\n",
       "    <tr>\n",
       "      <th>Пол не указан</th>\n",
       "      <td>3</td>\n",
       "    </tr>\n",
       "  </tbody>\n",
       "</table>\n",
       "</div>"
      ],
      "text/plain": [
       "               gender\n",
       "gender               \n",
       "Женщина          1646\n",
       "Мужчина          1653\n",
       "Пол не указан       3"
      ]
     },
     "execution_count": 108,
     "metadata": {},
     "output_type": "execute_result"
    }
   ],
   "source": [
    "resume_data.groupby([\"gender\"]).agg({\"gender\": \"count\"})"
   ]
  },
  {
   "cell_type": "code",
   "execution_count": 109,
   "metadata": {},
   "outputs": [
    {
     "data": {
      "text/html": [
       "\n",
       "        <iframe\n",
       "            width=\"100%\"\n",
       "            height=\"650\"\n",
       "            src=\"http://127.0.0.1:8050/\"\n",
       "            frameborder=\"0\"\n",
       "            allowfullscreen\n",
       "            \n",
       "        ></iframe>\n",
       "        "
      ],
      "text/plain": [
       "<IPython.lib.display.IFrame at 0x1d141cb83b0>"
      ]
     },
     "metadata": {},
     "output_type": "display_data"
    }
   ],
   "source": [
    "df = resume_data[resume_data[\"salary\"]<1000000]\n",
    "\n",
    "app = Dash(\"Salary\")\n",
    "\n",
    "dropdown = dcc.Dropdown([100_000, 200_000, 300_000, 400_000, 1_000_000], clearable=False, value=200_000)\n",
    "\n",
    "graph = dcc.Graph()\n",
    "\n",
    "app.layout = html.Div([html.H4(\"Зависимость размера заработной платы от пола\"), dropdown, graph])\n",
    "\n",
    "@callback(Output(graph, \"figure\"), Input(dropdown, \"value\"))\n",
    "def update_bar_chart(salary):\n",
    "    mask = df[\"salary\"] < salary\n",
    "    fig = px.bar(df[mask], x=\"age\", y=\"salary\", color=\"gender\", barmode=\"group\")\n",
    "    return fig\n",
    "\n",
    "app.run_server(debug=True)"
   ]
  },
  {
   "cell_type": "code",
   "execution_count": 110,
   "metadata": {},
   "outputs": [
    {
     "data": {
      "text/html": [
       "<div>\n",
       "<style scoped>\n",
       "    .dataframe tbody tr th:only-of-type {\n",
       "        vertical-align: middle;\n",
       "    }\n",
       "\n",
       "    .dataframe tbody tr th {\n",
       "        vertical-align: top;\n",
       "    }\n",
       "\n",
       "    .dataframe thead th {\n",
       "        text-align: right;\n",
       "    }\n",
       "</style>\n",
       "<table border=\"1\" class=\"dataframe\">\n",
       "  <thead>\n",
       "    <tr style=\"text-align: right;\">\n",
       "      <th></th>\n",
       "      <th>gender</th>\n",
       "    </tr>\n",
       "    <tr>\n",
       "      <th>gender</th>\n",
       "      <th></th>\n",
       "    </tr>\n",
       "  </thead>\n",
       "  <tbody>\n",
       "    <tr>\n",
       "      <th>Женщина</th>\n",
       "      <td>1305</td>\n",
       "    </tr>\n",
       "    <tr>\n",
       "      <th>Мужчина</th>\n",
       "      <td>1060</td>\n",
       "    </tr>\n",
       "    <tr>\n",
       "      <th>Пол не указан</th>\n",
       "      <td>3</td>\n",
       "    </tr>\n",
       "  </tbody>\n",
       "</table>\n",
       "</div>"
      ],
      "text/plain": [
       "               gender\n",
       "gender               \n",
       "Женщина          1305\n",
       "Мужчина          1060\n",
       "Пол не указан       3"
      ]
     },
     "execution_count": 110,
     "metadata": {},
     "output_type": "execute_result"
    }
   ],
   "source": [
    "resume_data[resume_data[\"salary\"]<300000].groupby([\"gender\"]).agg({\"gender\": \"count\"})"
   ]
  },
  {
   "cell_type": "markdown",
   "metadata": {},
   "source": [
    "На первый взгляд кажется, что при равенстве количества мужских и женских вакансий, женщины оценивают свою зарплату меньше, чем мужчины. Однако в срезе зарплат до 300_000 рублей мужчины оценивают свою зарплату меньше, чем женщины, правда это также в силу того, что в этом срезе количество женщин на 30% больше, чем мужчин.\n",
    "\n",
    "Кроме того в пределах наших данных можно предположить, что в Москве женщины менее заинтересованны в поиске работы после 55 лет"
   ]
  },
  {
   "cell_type": "markdown",
   "metadata": {},
   "source": [
    "# Вывод\n",
    "\n",
    "### Данные и предобработка\n",
    "\n",
    "\n",
    "### Вакансии\n",
    "* Ожидаемо рост зарплаты напрямую зависит от опыта\n",
    "* В вакансиях с тегами оптимизация логистических операций, Affiliate, стратегический менеджмент, медиабаинг наблюдается повышенное отклонение std по среднему значению начальной зарплаты. Предположительно так как эти навыки могут пригодится сотрудникам самых разных уровней\n",
    "* С ростом зарплаты вакансии все чаще предполагают организационную деятельность\n",
    "\n",
    "### Резюме\n",
    "* Интересно, что большинство соискателей нацелено на руководящие должности и маркетинг\n",
    "* Половина соискателей в возрасте от 32 до 41 года\n",
    "* Равное количество мужчин и женщин\n",
    "* В основном соискатели указывают чаще всего от 4 до 10 тегов\n",
    "* Мужчины соискатели как правило оценивают свою зарплату больше, чем женщины\n",
    "* Удалены вакансии с неестественными параметрами (например, вакансии с зарплатой большей 5 млн при низком опыте)\n",
    "\n",
    "### Комментарий\n",
    "Можно еще провести анализ соответствия тегов из resume_data с тегами из data. В выводе получим отношение ожидания работодателей к возможностям соискателей(однако мы уже видим, что работадатели ищут людей с тегами, примущим руководящим должностям, см. Вывод.Вакансии и Вывод.Резюме). Также с помощью geopy можно переформатировать адреса из city и city2 в координаты и составить гексогональную карту"
   ]
  }
 ],
 "metadata": {
  "kernelspec": {
   "display_name": "Python 3",
   "language": "python",
   "name": "python3"
  },
  "language_info": {
   "codemirror_mode": {
    "name": "ipython",
    "version": 3
   },
   "file_extension": ".py",
   "mimetype": "text/x-python",
   "name": "python",
   "nbconvert_exporter": "python",
   "pygments_lexer": "ipython3",
   "version": "3.12.4"
  }
 },
 "nbformat": 4,
 "nbformat_minor": 2
}
