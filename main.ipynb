{
 "cells": [
  {
   "cell_type": "markdown",
   "metadata": {},
   "source": [
    "# Библиотеки"
   ]
  },
  {
   "cell_type": "code",
   "execution_count": 112,
   "metadata": {},
   "outputs": [],
   "source": [
    "import pandas as pd\n",
    "import plotly.graph_objs as go\n",
    "import plotly.express as px\n",
    "from plotly.subplots import make_subplots\n",
    "import re\n",
    "from collections import Counter\n",
    "from dash import Dash, dcc, html, Input, Output, callback\n",
    "import plotly.express as px\n",
    "import numpy as np"
   ]
  },
  {
   "cell_type": "markdown",
   "metadata": {},
   "source": [
    "# Обзор данных "
   ]
  },
  {
   "cell_type": "code",
   "execution_count": 113,
   "metadata": {},
   "outputs": [],
   "source": [
    "data = pd.read_csv(\"vacancy_list_test.csv\")\n",
    "resume_data = pd.read_csv(\"resume_list_test.csv\")"
   ]
  },
  {
   "cell_type": "code",
   "execution_count": 114,
   "metadata": {},
   "outputs": [
    {
     "name": "stdout",
     "output_type": "stream",
     "text": [
      "<class 'pandas.core.frame.DataFrame'>\n",
      "RangeIndex: 3304 entries, 0 to 3303\n",
      "Data columns (total 13 columns):\n",
      " #   Column          Non-Null Count  Dtype \n",
      "---  ------          --------------  ----- \n",
      " 0   Unnamed: 0      3304 non-null   int64 \n",
      " 1   title           3304 non-null   object\n",
      " 2   salary          3304 non-null   object\n",
      " 3   experience      3304 non-null   object\n",
      " 4   gender          3304 non-null   object\n",
      " 5   age             3304 non-null   object\n",
      " 6   city            3304 non-null   object\n",
      " 7   tags_list       3304 non-null   object\n",
      " 8   tags_list_len   3304 non-null   int64 \n",
      " 9   skills-content  3064 non-null   object\n",
      " 10  language        3304 non-null   object\n",
      " 11  work_text       3301 non-null   object\n",
      " 12  specialization  3288 non-null   object\n",
      "dtypes: int64(2), object(11)\n",
      "memory usage: 335.7+ KB\n"
     ]
    },
    {
     "data": {
      "text/html": [
       "<div>\n",
       "<style scoped>\n",
       "    .dataframe tbody tr th:only-of-type {\n",
       "        vertical-align: middle;\n",
       "    }\n",
       "\n",
       "    .dataframe tbody tr th {\n",
       "        vertical-align: top;\n",
       "    }\n",
       "\n",
       "    .dataframe thead th {\n",
       "        text-align: right;\n",
       "    }\n",
       "</style>\n",
       "<table border=\"1\" class=\"dataframe\">\n",
       "  <thead>\n",
       "    <tr style=\"text-align: right;\">\n",
       "      <th></th>\n",
       "      <th>Unnamed: 0</th>\n",
       "      <th>title</th>\n",
       "      <th>salary</th>\n",
       "      <th>experience</th>\n",
       "      <th>gender</th>\n",
       "      <th>age</th>\n",
       "      <th>city</th>\n",
       "      <th>tags_list</th>\n",
       "      <th>tags_list_len</th>\n",
       "      <th>skills-content</th>\n",
       "      <th>language</th>\n",
       "      <th>work_text</th>\n",
       "      <th>specialization</th>\n",
       "    </tr>\n",
       "  </thead>\n",
       "  <tbody>\n",
       "    <tr>\n",
       "      <th>0</th>\n",
       "      <td>0</td>\n",
       "      <td>CMO, Head of marketing/digital marketing, дире...</td>\n",
       "      <td>200 000 руб.</td>\n",
       "      <td>Опыт работы 10 лет 10 месяцев</td>\n",
       "      <td>Мужчина</td>\n",
       "      <td>29 лет</td>\n",
       "      <td>Санкт-Петербург</td>\n",
       "      <td>['Adobe Illustrator', 'Adobe InDesign', 'Adobe...</td>\n",
       "      <td>26</td>\n",
       "      <td>Искренне люблю удобные цифровые проекты и клие...</td>\n",
       "      <td>['Русский — Родной', 'Английский — B1 — Средний']</td>\n",
       "      <td>Онлайн сервис для студентов\\nДиректор по марке...</td>\n",
       "      <td>Специализации:\\nРуководитель отдела маркетинга...</td>\n",
       "    </tr>\n",
       "    <tr>\n",
       "      <th>1</th>\n",
       "      <td>1</td>\n",
       "      <td>Директор по маркетингу e-commerce</td>\n",
       "      <td>350 000 руб.</td>\n",
       "      <td>Опыт работы 11 лет 8 месяцев</td>\n",
       "      <td>Мужчина</td>\n",
       "      <td>33 года</td>\n",
       "      <td>Санкт-Петербург</td>\n",
       "      <td>['E-Commerce', 'Internet Marketing', 'Ведение ...</td>\n",
       "      <td>15</td>\n",
       "      <td>В e-commerce прошел путь от менеджера интернет...</td>\n",
       "      <td>['Русский — Родной', 'Английский — C1 — Продви...</td>\n",
       "      <td>Kotofoto.ru\\nДиректор по маркетингу и электрон...</td>\n",
       "      <td>Специализации:\\nДиректор по маркетингу и PR (CMO)</td>\n",
       "    </tr>\n",
       "    <tr>\n",
       "      <th>2</th>\n",
       "      <td>2</td>\n",
       "      <td>Директор по маркетингу</td>\n",
       "      <td>200 000 руб.</td>\n",
       "      <td>Опыт работы 17 лет 6 месяцев</td>\n",
       "      <td>Женщина</td>\n",
       "      <td>38 лет</td>\n",
       "      <td>Санкт-Петербург</td>\n",
       "      <td>['B2B маркетинг', 'Internet Marketing', 'Бюдже...</td>\n",
       "      <td>17</td>\n",
       "      <td>1. 15 лет опыта в маркетинге: B2B &amp; B2C.\\n2. В...</td>\n",
       "      <td>['Русский — Родной', 'Английский — C1 — Продви...</td>\n",
       "      <td>Ренталформ\\nСанкт-Петербург, rentalform.ru/\\nД...</td>\n",
       "      <td>Специализации:\\nEvent-менеджер\\nМенеджер по ма...</td>\n",
       "    </tr>\n",
       "    <tr>\n",
       "      <th>3</th>\n",
       "      <td>3</td>\n",
       "      <td>Директор по маркетингу</td>\n",
       "      <td>185 000 руб.</td>\n",
       "      <td>Опыт работы 17 лет 6 месяцев</td>\n",
       "      <td>Женщина</td>\n",
       "      <td>39 лет</td>\n",
       "      <td>Санкт-Петербург</td>\n",
       "      <td>['Маркетинговые коммуникации', 'Бизнес-планиро...</td>\n",
       "      <td>22</td>\n",
       "      <td>Увлечения, хобби: театральное и изобразительно...</td>\n",
       "      <td>['Русский — Родной', 'Английский — C1 — Продви...</td>\n",
       "      <td>Рыбаков Плейскул (экосистема Игоря Рыбакова, м...</td>\n",
       "      <td>Специализации:\\nДиректор по маркетингу и PR (C...</td>\n",
       "    </tr>\n",
       "    <tr>\n",
       "      <th>4</th>\n",
       "      <td>4</td>\n",
       "      <td>Руководитель отдела маркетинга</td>\n",
       "      <td>150 000 руб.</td>\n",
       "      <td>Опыт работы 6 лет 11 месяцев</td>\n",
       "      <td>Женщина</td>\n",
       "      <td>40 лет</td>\n",
       "      <td>Москва</td>\n",
       "      <td>['Обучаемость']</td>\n",
       "      <td>1</td>\n",
       "      <td>MS Excel\\nГрафический дизайн (CorelDRAW)\\nКреа...</td>\n",
       "      <td>['Русский — Родной', 'Английский — B2 — Средне...</td>\n",
       "      <td>ГК \"Спецпродукт\"\\nМосква, savia.ru\\nРуководите...</td>\n",
       "      <td>Специализации:\\nДиректор по маркетингу и PR (C...</td>\n",
       "    </tr>\n",
       "  </tbody>\n",
       "</table>\n",
       "</div>"
      ],
      "text/plain": [
       "   Unnamed: 0                                              title  \\\n",
       "0           0  CMO, Head of marketing/digital marketing, дире...   \n",
       "1           1                  Директор по маркетингу e-commerce   \n",
       "2           2                             Директор по маркетингу   \n",
       "3           3                             Директор по маркетингу   \n",
       "4           4                     Руководитель отдела маркетинга   \n",
       "\n",
       "         salary                     experience   gender      age  \\\n",
       "0  200 000 руб.  Опыт работы 10 лет 10 месяцев  Мужчина   29 лет   \n",
       "1  350 000 руб.   Опыт работы 11 лет 8 месяцев  Мужчина  33 года   \n",
       "2  200 000 руб.   Опыт работы 17 лет 6 месяцев  Женщина   38 лет   \n",
       "3  185 000 руб.   Опыт работы 17 лет 6 месяцев  Женщина   39 лет   \n",
       "4  150 000 руб.   Опыт работы 6 лет 11 месяцев  Женщина   40 лет   \n",
       "\n",
       "              city                                          tags_list  \\\n",
       "0  Санкт-Петербург  ['Adobe Illustrator', 'Adobe InDesign', 'Adobe...   \n",
       "1  Санкт-Петербург  ['E-Commerce', 'Internet Marketing', 'Ведение ...   \n",
       "2  Санкт-Петербург  ['B2B маркетинг', 'Internet Marketing', 'Бюдже...   \n",
       "3  Санкт-Петербург  ['Маркетинговые коммуникации', 'Бизнес-планиро...   \n",
       "4           Москва                                    ['Обучаемость']   \n",
       "\n",
       "   tags_list_len                                     skills-content  \\\n",
       "0             26  Искренне люблю удобные цифровые проекты и клие...   \n",
       "1             15  В e-commerce прошел путь от менеджера интернет...   \n",
       "2             17  1. 15 лет опыта в маркетинге: B2B & B2C.\\n2. В...   \n",
       "3             22  Увлечения, хобби: театральное и изобразительно...   \n",
       "4              1  MS Excel\\nГрафический дизайн (CorelDRAW)\\nКреа...   \n",
       "\n",
       "                                            language  \\\n",
       "0  ['Русский — Родной', 'Английский — B1 — Средний']   \n",
       "1  ['Русский — Родной', 'Английский — C1 — Продви...   \n",
       "2  ['Русский — Родной', 'Английский — C1 — Продви...   \n",
       "3  ['Русский — Родной', 'Английский — C1 — Продви...   \n",
       "4  ['Русский — Родной', 'Английский — B2 — Средне...   \n",
       "\n",
       "                                           work_text  \\\n",
       "0  Онлайн сервис для студентов\\nДиректор по марке...   \n",
       "1  Kotofoto.ru\\nДиректор по маркетингу и электрон...   \n",
       "2  Ренталформ\\nСанкт-Петербург, rentalform.ru/\\nД...   \n",
       "3  Рыбаков Плейскул (экосистема Игоря Рыбакова, м...   \n",
       "4  ГК \"Спецпродукт\"\\nМосква, savia.ru\\nРуководите...   \n",
       "\n",
       "                                      specialization  \n",
       "0  Специализации:\\nРуководитель отдела маркетинга...  \n",
       "1  Специализации:\\nДиректор по маркетингу и PR (CMO)  \n",
       "2  Специализации:\\nEvent-менеджер\\nМенеджер по ма...  \n",
       "3  Специализации:\\nДиректор по маркетингу и PR (C...  \n",
       "4  Специализации:\\nДиректор по маркетингу и PR (C...  "
      ]
     },
     "execution_count": 114,
     "metadata": {},
     "output_type": "execute_result"
    }
   ],
   "source": [
    "resume_data.info()\n",
    "resume_data.head(5)"
   ]
  },
  {
   "cell_type": "code",
   "execution_count": 115,
   "metadata": {},
   "outputs": [
    {
     "data": {
      "text/plain": [
       "Unnamed: 0         int64\n",
       "title             object\n",
       "salary            object\n",
       "experience        object\n",
       "gender            object\n",
       "age               object\n",
       "city              object\n",
       "tags_list         object\n",
       "tags_list_len      int64\n",
       "skills-content    object\n",
       "language          object\n",
       "work_text         object\n",
       "specialization    object\n",
       "dtype: object"
      ]
     },
     "execution_count": 115,
     "metadata": {},
     "output_type": "execute_result"
    }
   ],
   "source": [
    "resume_data.dtypes"
   ]
  },
  {
   "cell_type": "code",
   "execution_count": 116,
   "metadata": {},
   "outputs": [
    {
     "name": "stdout",
     "output_type": "stream",
     "text": [
      "<class 'pandas.core.frame.DataFrame'>\n",
      "RangeIndex: 1709 entries, 0 to 1708\n",
      "Data columns (total 8 columns):\n",
      " #   Column         Non-Null Count  Dtype \n",
      "---  ------         --------------  ----- \n",
      " 0   Unnamed: 0     1709 non-null   int64 \n",
      " 1   city2          906 non-null    object\n",
      " 2   experience     1709 non-null   object\n",
      " 3   description    1709 non-null   object\n",
      " 4   salary         1709 non-null   object\n",
      " 5   tags_list      1709 non-null   object\n",
      " 6   tags_list_len  1709 non-null   int64 \n",
      " 7   city           803 non-null    object\n",
      "dtypes: int64(2), object(6)\n",
      "memory usage: 106.9+ KB\n"
     ]
    },
    {
     "data": {
      "text/html": [
       "<div>\n",
       "<style scoped>\n",
       "    .dataframe tbody tr th:only-of-type {\n",
       "        vertical-align: middle;\n",
       "    }\n",
       "\n",
       "    .dataframe tbody tr th {\n",
       "        vertical-align: top;\n",
       "    }\n",
       "\n",
       "    .dataframe thead th {\n",
       "        text-align: right;\n",
       "    }\n",
       "</style>\n",
       "<table border=\"1\" class=\"dataframe\">\n",
       "  <thead>\n",
       "    <tr style=\"text-align: right;\">\n",
       "      <th></th>\n",
       "      <th>Unnamed: 0</th>\n",
       "      <th>city2</th>\n",
       "      <th>experience</th>\n",
       "      <th>description</th>\n",
       "      <th>salary</th>\n",
       "      <th>tags_list</th>\n",
       "      <th>tags_list_len</th>\n",
       "      <th>city</th>\n",
       "    </tr>\n",
       "  </thead>\n",
       "  <tbody>\n",
       "    <tr>\n",
       "      <th>0</th>\n",
       "      <td>0</td>\n",
       "      <td>Улица 1905 года, Москва, улица 1905 года, 10с1</td>\n",
       "      <td>1–3 года</td>\n",
       "      <td>Привет наш будущий кандидат на должность марке...</td>\n",
       "      <td>от 120 000 руб. на руки</td>\n",
       "      <td>['SWOT анализ', 'Adobe Photoshop', 'Работа в к...</td>\n",
       "      <td>5</td>\n",
       "      <td>NaN</td>\n",
       "    </tr>\n",
       "    <tr>\n",
       "      <th>1</th>\n",
       "      <td>1</td>\n",
       "      <td>NaN</td>\n",
       "      <td>3–6 лет</td>\n",
       "      <td>Привет! Мы Семь Семян - онлайн супермаркет тов...</td>\n",
       "      <td>от 200 000 руб. на руки</td>\n",
       "      <td>['Медиапланирование', 'Интернет-реклама', 'Кон...</td>\n",
       "      <td>5</td>\n",
       "      <td>Москва, Румянцево</td>\n",
       "    </tr>\n",
       "    <tr>\n",
       "      <th>2</th>\n",
       "      <td>2</td>\n",
       "      <td>Электросталь, Строительный переулок, 10</td>\n",
       "      <td>более 6 лет</td>\n",
       "      <td>LEGRAND - производитель федерального уровня с ...</td>\n",
       "      <td>от 200 000 до 400 000 руб. на руки</td>\n",
       "      <td>['B2B маркетинг', 'unit-экономика', 'Запуск но...</td>\n",
       "      <td>12</td>\n",
       "      <td>NaN</td>\n",
       "    </tr>\n",
       "    <tr>\n",
       "      <th>3</th>\n",
       "      <td>3</td>\n",
       "      <td>NaN</td>\n",
       "      <td>1–3 года</td>\n",
       "      <td>Наша школа Футбола и спортивной психологии явл...</td>\n",
       "      <td>от 60 000 до 120 000 руб. на руки</td>\n",
       "      <td>['E-Mail Marketing', 'Стратегический маркетинг...</td>\n",
       "      <td>9</td>\n",
       "      <td>Москва</td>\n",
       "    </tr>\n",
       "    <tr>\n",
       "      <th>4</th>\n",
       "      <td>4</td>\n",
       "      <td>NaN</td>\n",
       "      <td>более 6 лет</td>\n",
       "      <td>Мы - международная FinTech компания AMarkets. ...</td>\n",
       "      <td>от 10 000 USD на руки</td>\n",
       "      <td>[]</td>\n",
       "      <td>0</td>\n",
       "      <td>Москва</td>\n",
       "    </tr>\n",
       "  </tbody>\n",
       "</table>\n",
       "</div>"
      ],
      "text/plain": [
       "   Unnamed: 0                                           city2   experience  \\\n",
       "0           0  Улица 1905 года, Москва, улица 1905 года, 10с1     1–3 года   \n",
       "1           1                                             NaN      3–6 лет   \n",
       "2           2         Электросталь, Строительный переулок, 10  более 6 лет   \n",
       "3           3                                             NaN     1–3 года   \n",
       "4           4                                             NaN  более 6 лет   \n",
       "\n",
       "                                         description  \\\n",
       "0  Привет наш будущий кандидат на должность марке...   \n",
       "1  Привет! Мы Семь Семян - онлайн супермаркет тов...   \n",
       "2  LEGRAND - производитель федерального уровня с ...   \n",
       "3  Наша школа Футбола и спортивной психологии явл...   \n",
       "4  Мы - международная FinTech компания AMarkets. ...   \n",
       "\n",
       "                               salary  \\\n",
       "0             от 120 000 руб. на руки   \n",
       "1             от 200 000 руб. на руки   \n",
       "2  от 200 000 до 400 000 руб. на руки   \n",
       "3   от 60 000 до 120 000 руб. на руки   \n",
       "4               от 10 000 USD на руки   \n",
       "\n",
       "                                           tags_list  tags_list_len  \\\n",
       "0  ['SWOT анализ', 'Adobe Photoshop', 'Работа в к...              5   \n",
       "1  ['Медиапланирование', 'Интернет-реклама', 'Кон...              5   \n",
       "2  ['B2B маркетинг', 'unit-экономика', 'Запуск но...             12   \n",
       "3  ['E-Mail Marketing', 'Стратегический маркетинг...              9   \n",
       "4                                                 []              0   \n",
       "\n",
       "                city  \n",
       "0                NaN  \n",
       "1  Москва, Румянцево  \n",
       "2                NaN  \n",
       "3             Москва  \n",
       "4             Москва  "
      ]
     },
     "execution_count": 116,
     "metadata": {},
     "output_type": "execute_result"
    }
   ],
   "source": [
    "data.info()\n",
    "data.head(5)"
   ]
  },
  {
   "cell_type": "code",
   "execution_count": 117,
   "metadata": {},
   "outputs": [
    {
     "data": {
      "text/plain": [
       "Unnamed: 0        int64\n",
       "city2            object\n",
       "experience       object\n",
       "description      object\n",
       "salary           object\n",
       "tags_list        object\n",
       "tags_list_len     int64\n",
       "city             object\n",
       "dtype: object"
      ]
     },
     "execution_count": 117,
     "metadata": {},
     "output_type": "execute_result"
    }
   ],
   "source": [
    "data.dtypes"
   ]
  },
  {
   "cell_type": "code",
   "execution_count": 118,
   "metadata": {},
   "outputs": [
    {
     "data": {
      "text/plain": [
       "Unnamed: 0         0\n",
       "city2            803\n",
       "experience         0\n",
       "description        0\n",
       "salary             0\n",
       "tags_list          0\n",
       "tags_list_len      0\n",
       "city             906\n",
       "dtype: int64"
      ]
     },
     "execution_count": 118,
     "metadata": {},
     "output_type": "execute_result"
    }
   ],
   "source": [
    "data.isna().sum()"
   ]
  },
  {
   "cell_type": "code",
   "execution_count": 119,
   "metadata": {},
   "outputs": [
    {
     "data": {
      "text/plain": [
       "Unnamed: 0          0\n",
       "title               0\n",
       "salary              0\n",
       "experience          0\n",
       "gender              0\n",
       "age                 0\n",
       "city                0\n",
       "tags_list           0\n",
       "tags_list_len       0\n",
       "skills-content    240\n",
       "language            0\n",
       "work_text           3\n",
       "specialization     16\n",
       "dtype: int64"
      ]
     },
     "execution_count": 119,
     "metadata": {},
     "output_type": "execute_result"
    }
   ],
   "source": [
    "resume_data.isna().sum()"
   ]
  },
  {
   "cell_type": "code",
   "execution_count": 120,
   "metadata": {},
   "outputs": [
    {
     "name": "stdout",
     "output_type": "stream",
     "text": [
      "Дубликаты: 0\n",
      "Дубликаты: 0\n"
     ]
    }
   ],
   "source": [
    "print(f\"Дубликаты: {resume_data.duplicated().sum()}\")\n",
    "print(f\"Дубликаты: {data.duplicated().sum()}\")"
   ]
  },
  {
   "cell_type": "markdown",
   "metadata": {},
   "source": [
    "Теперь в tags_list списки из строк, вместо строк"
   ]
  },
  {
   "cell_type": "code",
   "execution_count": 121,
   "metadata": {},
   "outputs": [],
   "source": [
    "def str_to_list(str_repr):\n",
    "  if str_repr == \" \":\n",
    "    return []\n",
    "  else:\n",
    "    return [s.strip().strip(\"'\") for s in str_repr[1:-1].split(\",\")]\n",
    "data[\"tags_list\"] = [str_to_list(i) for i in data[\"tags_list\"]]"
   ]
  },
  {
   "cell_type": "code",
   "execution_count": 122,
   "metadata": {},
   "outputs": [
    {
     "data": {
      "text/plain": [
       "Unnamed: 0         0\n",
       "city2            803\n",
       "experience         0\n",
       "description        0\n",
       "salary             0\n",
       "tags_list          0\n",
       "tags_list_len      0\n",
       "city             906\n",
       "dtype: int64"
      ]
     },
     "execution_count": 122,
     "metadata": {},
     "output_type": "execute_result"
    }
   ],
   "source": [
    "data.isnull().sum()"
   ]
  },
  {
   "cell_type": "code",
   "execution_count": 123,
   "metadata": {},
   "outputs": [
    {
     "data": {
      "text/plain": [
       "np.int64(1643)"
      ]
     },
     "execution_count": 123,
     "metadata": {},
     "output_type": "execute_result"
    }
   ],
   "source": [
    "data[\"city\"].duplicated().sum()"
   ]
  },
  {
   "cell_type": "code",
   "execution_count": 124,
   "metadata": {},
   "outputs": [],
   "source": [
    "data.fillna(\"\", inplace=True)"
   ]
  },
  {
   "cell_type": "code",
   "execution_count": 125,
   "metadata": {},
   "outputs": [
    {
     "name": "stdout",
     "output_type": "stream",
     "text": [
      "<class 'pandas.core.frame.DataFrame'>\n",
      "RangeIndex: 1709 entries, 0 to 1708\n",
      "Data columns (total 8 columns):\n",
      " #   Column         Non-Null Count  Dtype \n",
      "---  ------         --------------  ----- \n",
      " 0   Unnamed: 0     1709 non-null   int64 \n",
      " 1   city2          1709 non-null   object\n",
      " 2   experience     1709 non-null   object\n",
      " 3   description    1709 non-null   object\n",
      " 4   salary         1709 non-null   object\n",
      " 5   tags_list      1709 non-null   object\n",
      " 6   tags_list_len  1709 non-null   int64 \n",
      " 7   city           1709 non-null   object\n",
      "dtypes: int64(2), object(6)\n",
      "memory usage: 106.9+ KB\n"
     ]
    },
    {
     "data": {
      "text/html": [
       "<div>\n",
       "<style scoped>\n",
       "    .dataframe tbody tr th:only-of-type {\n",
       "        vertical-align: middle;\n",
       "    }\n",
       "\n",
       "    .dataframe tbody tr th {\n",
       "        vertical-align: top;\n",
       "    }\n",
       "\n",
       "    .dataframe thead th {\n",
       "        text-align: right;\n",
       "    }\n",
       "</style>\n",
       "<table border=\"1\" class=\"dataframe\">\n",
       "  <thead>\n",
       "    <tr style=\"text-align: right;\">\n",
       "      <th></th>\n",
       "      <th>Unnamed: 0</th>\n",
       "      <th>city2</th>\n",
       "      <th>experience</th>\n",
       "      <th>description</th>\n",
       "      <th>salary</th>\n",
       "      <th>tags_list</th>\n",
       "      <th>tags_list_len</th>\n",
       "      <th>city</th>\n",
       "    </tr>\n",
       "  </thead>\n",
       "  <tbody>\n",
       "    <tr>\n",
       "      <th>0</th>\n",
       "      <td>0</td>\n",
       "      <td>Улица 1905 года, Москва, улица 1905 года, 10с1</td>\n",
       "      <td>1–3 года</td>\n",
       "      <td>Привет наш будущий кандидат на должность марке...</td>\n",
       "      <td>от 120 000 руб. на руки</td>\n",
       "      <td>[SWOT анализ, Adobe Photoshop, Работа в команд...</td>\n",
       "      <td>5</td>\n",
       "      <td></td>\n",
       "    </tr>\n",
       "    <tr>\n",
       "      <th>1</th>\n",
       "      <td>1</td>\n",
       "      <td></td>\n",
       "      <td>3–6 лет</td>\n",
       "      <td>Привет! Мы Семь Семян - онлайн супермаркет тов...</td>\n",
       "      <td>от 200 000 руб. на руки</td>\n",
       "      <td>[Медиапланирование, Интернет-реклама, Контекст...</td>\n",
       "      <td>5</td>\n",
       "      <td>Москва, Румянцево</td>\n",
       "    </tr>\n",
       "    <tr>\n",
       "      <th>2</th>\n",
       "      <td>2</td>\n",
       "      <td>Электросталь, Строительный переулок, 10</td>\n",
       "      <td>более 6 лет</td>\n",
       "      <td>LEGRAND - производитель федерального уровня с ...</td>\n",
       "      <td>от 200 000 до 400 000 руб. на руки</td>\n",
       "      <td>[B2B маркетинг, unit-экономика, Запуск новых п...</td>\n",
       "      <td>12</td>\n",
       "      <td></td>\n",
       "    </tr>\n",
       "    <tr>\n",
       "      <th>3</th>\n",
       "      <td>3</td>\n",
       "      <td></td>\n",
       "      <td>1–3 года</td>\n",
       "      <td>Наша школа Футбола и спортивной психологии явл...</td>\n",
       "      <td>от 60 000 до 120 000 руб. на руки</td>\n",
       "      <td>[E-Mail Marketing, Стратегический маркетинг, А...</td>\n",
       "      <td>9</td>\n",
       "      <td>Москва</td>\n",
       "    </tr>\n",
       "    <tr>\n",
       "      <th>4</th>\n",
       "      <td>4</td>\n",
       "      <td></td>\n",
       "      <td>более 6 лет</td>\n",
       "      <td>Мы - международная FinTech компания AMarkets. ...</td>\n",
       "      <td>от 10 000 USD на руки</td>\n",
       "      <td>[]</td>\n",
       "      <td>0</td>\n",
       "      <td>Москва</td>\n",
       "    </tr>\n",
       "  </tbody>\n",
       "</table>\n",
       "</div>"
      ],
      "text/plain": [
       "   Unnamed: 0                                           city2   experience  \\\n",
       "0           0  Улица 1905 года, Москва, улица 1905 года, 10с1     1–3 года   \n",
       "1           1                                                      3–6 лет   \n",
       "2           2         Электросталь, Строительный переулок, 10  более 6 лет   \n",
       "3           3                                                     1–3 года   \n",
       "4           4                                                  более 6 лет   \n",
       "\n",
       "                                         description  \\\n",
       "0  Привет наш будущий кандидат на должность марке...   \n",
       "1  Привет! Мы Семь Семян - онлайн супермаркет тов...   \n",
       "2  LEGRAND - производитель федерального уровня с ...   \n",
       "3  Наша школа Футбола и спортивной психологии явл...   \n",
       "4  Мы - международная FinTech компания AMarkets. ...   \n",
       "\n",
       "                               salary  \\\n",
       "0             от 120 000 руб. на руки   \n",
       "1             от 200 000 руб. на руки   \n",
       "2  от 200 000 до 400 000 руб. на руки   \n",
       "3   от 60 000 до 120 000 руб. на руки   \n",
       "4               от 10 000 USD на руки   \n",
       "\n",
       "                                           tags_list  tags_list_len  \\\n",
       "0  [SWOT анализ, Adobe Photoshop, Работа в команд...              5   \n",
       "1  [Медиапланирование, Интернет-реклама, Контекст...              5   \n",
       "2  [B2B маркетинг, unit-экономика, Запуск новых п...             12   \n",
       "3  [E-Mail Marketing, Стратегический маркетинг, А...              9   \n",
       "4                                                 []              0   \n",
       "\n",
       "                city  \n",
       "0                     \n",
       "1  Москва, Румянцево  \n",
       "2                     \n",
       "3             Москва  \n",
       "4             Москва  "
      ]
     },
     "execution_count": 125,
     "metadata": {},
     "output_type": "execute_result"
    }
   ],
   "source": [
    "data.info()\n",
    "data.head(5)"
   ]
  },
  {
   "cell_type": "markdown",
   "metadata": {},
   "source": [
    "Интересно узнать какой опыт работы интересует работадателей"
   ]
  },
  {
   "cell_type": "code",
   "execution_count": 126,
   "metadata": {},
   "outputs": [
    {
     "data": {
      "text/html": [
       "<div>\n",
       "<style scoped>\n",
       "    .dataframe tbody tr th:only-of-type {\n",
       "        vertical-align: middle;\n",
       "    }\n",
       "\n",
       "    .dataframe tbody tr th {\n",
       "        vertical-align: top;\n",
       "    }\n",
       "\n",
       "    .dataframe thead th {\n",
       "        text-align: right;\n",
       "    }\n",
       "</style>\n",
       "<table border=\"1\" class=\"dataframe\">\n",
       "  <thead>\n",
       "    <tr style=\"text-align: right;\">\n",
       "      <th></th>\n",
       "      <th>experience</th>\n",
       "    </tr>\n",
       "  </thead>\n",
       "  <tbody>\n",
       "    <tr>\n",
       "      <th>0</th>\n",
       "      <td>1–3 года</td>\n",
       "    </tr>\n",
       "    <tr>\n",
       "      <th>1</th>\n",
       "      <td>3–6 лет</td>\n",
       "    </tr>\n",
       "    <tr>\n",
       "      <th>2</th>\n",
       "      <td>более 6 лет</td>\n",
       "    </tr>\n",
       "    <tr>\n",
       "      <th>3</th>\n",
       "      <td>не требуется</td>\n",
       "    </tr>\n",
       "  </tbody>\n",
       "</table>\n",
       "</div>"
      ],
      "text/plain": [
       "     experience\n",
       "0      1–3 года\n",
       "1       3–6 лет\n",
       "2   более 6 лет\n",
       "3  не требуется"
      ]
     },
     "execution_count": 126,
     "metadata": {},
     "output_type": "execute_result"
    }
   ],
   "source": [
    "pd.DataFrame(data[\"experience\"].unique(), columns=[\"experience\"])"
   ]
  },
  {
   "cell_type": "code",
   "execution_count": 127,
   "metadata": {},
   "outputs": [
    {
     "data": {
      "text/plain": [
       "{'',\n",
       " 'Программное обеспечение',\n",
       " 'Дизайн-мышление',\n",
       " 'Протоколирование',\n",
       " 'Тестирование',\n",
       " 'Индивидуальное обучение',\n",
       " 'ассистент',\n",
       " 'Управление лояльностью потребителей',\n",
       " 'Дизайн интерфейсов',\n",
       " 'Оперативный поиск информации в сети Интернет',\n",
       " 'Jenkins',\n",
       " 'Ответственность и пунктуальность',\n",
       " 'Автоматизация продаж',\n",
       " 'Customer Journey Map',\n",
       " 'B2B Marketing',\n",
       " 'Наставничество',\n",
       " 'Key Collector',\n",
       " 'Коммуникативная стратегия',\n",
       " 'Высокая ответственность',\n",
       " 'Коучинг',\n",
       " 'Snapchat',\n",
       " 'Наружная реклама',\n",
       " 'Проведение маркетинговых исследований',\n",
       " 'продажа недвижимости',\n",
       " 'Прием посетителей',\n",
       " 'Торговля',\n",
       " 'Сопровождение сделок',\n",
       " 'Активная жизненная позиция',\n",
       " 'Поддержка работы офиса',\n",
       " 'Разработка продукта',\n",
       " 'Релокация иностранных сотрудников',\n",
       " 'Онлайн школа',\n",
       " 'Управленческая отчетность',\n",
       " 'HR',\n",
       " 'Исследования рынка',\n",
       " 'Автоматизация',\n",
       " 'Битрикс-24',\n",
       " 'Открытие и закрытие счетов',\n",
       " 'Спорт',\n",
       " 'продажи услуг',\n",
       " '1C: Бухгалтерия',\n",
       " 'Описание бизнес-процессов',\n",
       " 'Адаптация рекламных роликов',\n",
       " 'МАРКЕТ-ПЛЕЙСЫ',\n",
       " 'Интернет маркетинг',\n",
       " 'SAP Marketing',\n",
       " '\"Открутки\" в Яндексе',\n",
       " 'CRM Bitrix',\n",
       " 'Power BI',\n",
       " 'Развитие партнерской сети',\n",
       " 'Умение легко находить контакт с людьми',\n",
       " 'Slack',\n",
       " 'BPMN',\n",
       " 'vuejs',\n",
       " 'вывод на рынок новых категорий',\n",
       " 'Проектные продажи',\n",
       " 'Postman',\n",
       " 'СММ',\n",
       " 'Информационные технологии',\n",
       " '1С',\n",
       " 'Оптимизация каналов продаж',\n",
       " 'Способность анализировать проблемы',\n",
       " 'Активные продажи',\n",
       " 'товарная матрица',\n",
       " 'Внутренний туризм',\n",
       " 'WordPress',\n",
       " 'Управление закупками',\n",
       " 'Аренда офисных помещений',\n",
       " 'Budgeting',\n",
       " 'Account Management',\n",
       " 'Знание законодательства',\n",
       " 'Документооборот',\n",
       " 'Локальные бренды',\n",
       " 'Управление отделом',\n",
       " 'Типографика',\n",
       " 'менеджер маркетплейсов',\n",
       " 'Продажи корпоративным клиентам',\n",
       " 'Performance marketing',\n",
       " 'Турецкий язык',\n",
       " 'Умение работать в коллективе',\n",
       " 'онлайн-школа',\n",
       " 'Построение воронки',\n",
       " 'Внутренний контроль',\n",
       " 'Закупка товаров и услуг',\n",
       " 'Аналитика',\n",
       " 'Гостиничный менеджмент',\n",
       " 'Телеграм',\n",
       " 'Региональное развитие',\n",
       " 'CSS3',\n",
       " 'Логистика поставок',\n",
       " 'ведение АКБ',\n",
       " 'Английский',\n",
       " 'Литературное редактирование',\n",
       " 'Хорошая обучаемость',\n",
       " 'Грамотная речь',\n",
       " 'Оптимизация бизнес-процессов',\n",
       " 'Продажа страховых продуктов',\n",
       " 'Визовая поддержка',\n",
       " 'Психологическое консультирование',\n",
       " 'Уверенный пользователь ПК и интернет',\n",
       " 'CRM Bitrix24',\n",
       " 'Создание контента',\n",
       " 'Trade Marketing',\n",
       " 'Бренд-менеджмент',\n",
       " 'Sendpluse',\n",
       " 'Кадровое делопроизводство',\n",
       " 'Оценка эффективности промо акций',\n",
       " 'навыки осуществления закупок товара',\n",
       " 'Fintech',\n",
       " 'Увеличение прибыли',\n",
       " 'Девелопмент',\n",
       " 'Управление качеством',\n",
       " 'Трудовой кодекс РФ',\n",
       " 'Проведение тренинга для новых сотрудников',\n",
       " 'Управление маркетингом',\n",
       " 'vue)',\n",
       " 'Управление отношениями с клиентами',\n",
       " 'Профессиональный пользователь ПК',\n",
       " 'Мониторинг цен',\n",
       " 'Адаптация трейд-маркетинговой стратегии',\n",
       " 'Управление бизнес процессами',\n",
       " 'Импорт',\n",
       " 'Внимательность',\n",
       " 'Уверенный пользователь ПК',\n",
       " 'Составление семантического ядра',\n",
       " 'Miro',\n",
       " 'Gamedev',\n",
       " 'Scrum/Waterfall',\n",
       " 'unit-экономика',\n",
       " 'контроль выполнения плана продаж',\n",
       " 'Режиссура',\n",
       " 'CRM',\n",
       " '1C: Предприятие',\n",
       " 'Adobe Illustrator',\n",
       " 'Анализ финансовых показателей',\n",
       " 'Транспортная логистика',\n",
       " 'Федеральные СМИ',\n",
       " 'Банкротство',\n",
       " 'Современная розница',\n",
       " 'Запуск федеральных рекламных кампаний',\n",
       " 'Вечерние укладки',\n",
       " 'Bitrix24',\n",
       " 'MySQL',\n",
       " 'Электронные СМИ',\n",
       " 'Чат-боты',\n",
       " 'Гражданское право',\n",
       " 'Интеллект',\n",
       " 'Инвентаризация',\n",
       " 'Складской документооборот',\n",
       " 'Складская логистика',\n",
       " 'внешний аудит сайта',\n",
       " 'Методист',\n",
       " 'Adobe After Effects',\n",
       " 'CRM системы',\n",
       " 'Государственные структуры',\n",
       " 'Документальное сопровождение',\n",
       " 'Бизнес-консультирование',\n",
       " 'Бумажный документооборот',\n",
       " 'Контент-план',\n",
       " 'Производство рекламных материалов',\n",
       " 'электронные компоненты',\n",
       " 'Спортивный маркетинг',\n",
       " 'Публичные выступления',\n",
       " 'В2В продажи',\n",
       " 'YouTube',\n",
       " '1С: Склад',\n",
       " 'директолог',\n",
       " 'Инфостиль',\n",
       " 'Социальная психология',\n",
       " 'Android',\n",
       " 'Творчество',\n",
       " 'Работа с командой',\n",
       " 'Платежные поручения',\n",
       " 'SERM',\n",
       " 'Гостиницы',\n",
       " 'Целенаправленность',\n",
       " 'Страховые продукты',\n",
       " 'affiliate marketing',\n",
       " 'Работа с магазинами эконом-класса',\n",
       " 'Государственные закупки',\n",
       " 'digital маркетинг',\n",
       " 'SEO-копирайтинг',\n",
       " 'ozon',\n",
       " 'Vue.js',\n",
       " 'принимать решения и за их результаты отвечать самостоятельно',\n",
       " 'Автоматизация процессов управления персоналом',\n",
       " 'Владение английским языком',\n",
       " 'Умение добиваться поставленных целей',\n",
       " 'Грамотная устная и письменная речь',\n",
       " 'Размещение POS материалов',\n",
       " 'Управление контент-маркетингом',\n",
       " 'Canva',\n",
       " 'оптовые продажи',\n",
       " 'Внимание к деталям',\n",
       " 'Управление сотрудниками в регионах',\n",
       " 'Exponea',\n",
       " 'Переговоры',\n",
       " 'Работа с контекстными площадками',\n",
       " 'Оформление больничных листов и отпусков',\n",
       " 'Создание телеграм ботов',\n",
       " 'платежные системы',\n",
       " 'внешние коммуникации',\n",
       " 'Заинтересованность',\n",
       " 'Instagram',\n",
       " 'Многофункциональный комплекс',\n",
       " 'Google drive',\n",
       " 'Администрирование приема',\n",
       " 'Продажи B2C маркетинг',\n",
       " 'Понимание психологии клиента эстетической медицины',\n",
       " 'Привлечение новых клиентов',\n",
       " 'Обработка фотографий',\n",
       " 'instagram',\n",
       " 'Copyrighting',\n",
       " 'Опыт управлени отдело продаж',\n",
       " 'экспертные продажи',\n",
       " 'Контроль поставок',\n",
       " 'Планирование закупок',\n",
       " 'Критическое мышление',\n",
       " 'php7.0',\n",
       " 'Разработка маркетингового плана',\n",
       " 'Договорная работа',\n",
       " 'NPV',\n",
       " 'Kamailio',\n",
       " 'заинтересованность',\n",
       " 'B2C маркетинг',\n",
       " 'Творческое мышление',\n",
       " 'HoReCa',\n",
       " 'Делопроизводство',\n",
       " 'Программы лояльности для клиентов',\n",
       " 'Администрирование сайтов',\n",
       " 'Facebook',\n",
       " 'Контроль',\n",
       " 'Внутренние коммуникации',\n",
       " 'работа с текущей базой клиентов',\n",
       " 'Традиционная розница',\n",
       " 'Автоматизация процессов',\n",
       " 'CMS Wordpress',\n",
       " 'Немецкий — A1 — Начальный',\n",
       " 'Вайлдберриз',\n",
       " 'Руководство коллективом',\n",
       " 'Юрист',\n",
       " 'User Story',\n",
       " 'Ведение групп в социальных сетях',\n",
       " 'Руководство людьми',\n",
       " 'ORM',\n",
       " 'Работа с таможенными органами',\n",
       " 'Антикризисное управление',\n",
       " 'Обучение',\n",
       " 'Java',\n",
       " 'Проведение тестирований',\n",
       " 'Оптовые продажи',\n",
       " 'Вежливость',\n",
       " 'CTR',\n",
       " 'Трудоспособность',\n",
       " 'инструменты подбора',\n",
       " 'Терпеливость',\n",
       " 'Оперативность',\n",
       " 'Умение правильно расстанавливать приоритеты',\n",
       " 'CELTA',\n",
       " 'Поисковые системы',\n",
       " 'Развитие и организация команды',\n",
       " 'Сегментация покупателей',\n",
       " 'Работа с классифайдами',\n",
       " 'Лендинги',\n",
       " 'Openresty',\n",
       " 'Тендеры',\n",
       " 'Лидерство',\n",
       " 'FE (React',\n",
       " 'Тест гипотез',\n",
       " 'Google таблицы',\n",
       " 'Смм',\n",
       " 'SaaS',\n",
       " 'Финансовый анализ',\n",
       " 'Автоворонки',\n",
       " 'Продвижение',\n",
       " 'интервью по компетенциям',\n",
       " 'Анализ ценообразования',\n",
       " 'Навыки презентации',\n",
       " 'Умение проводить телефонные переговоры',\n",
       " 'Ведение календаря',\n",
       " 'Контекстная реклама',\n",
       " 'Битрикс 24',\n",
       " 'Google Sheets',\n",
       " 'GTM',\n",
       " 'Разработка интерфейсов',\n",
       " 'Big Data',\n",
       " 'Сторисмейкинг',\n",
       " 'UX',\n",
       " 'Вторичная недвижимость',\n",
       " 'Конкурентная аналитика',\n",
       " 'Оформление документов',\n",
       " 'Креативность',\n",
       " 'Адаптация',\n",
       " 'Работа с возражениями',\n",
       " 'Git',\n",
       " 'Продвижение в социальных группах',\n",
       " 'Joomla CMS',\n",
       " 'Привлечение лидов',\n",
       " 'Модерация',\n",
       " 'Работа с посадочными страницами',\n",
       " 'Продажа комплексных проектов',\n",
       " 'Маркетинговый анализ',\n",
       " 'Немецкий язык',\n",
       " 'Лендинг',\n",
       " 'работа из дома',\n",
       " 'SAP',\n",
       " 'Навыки работы с возражениями',\n",
       " 'Формирование бюджета',\n",
       " 'обучаемость',\n",
       " 'менеджер проекта',\n",
       " 'Декомпозиция',\n",
       " 'Мотивированность на результат',\n",
       " 'Разработка PR стратегии',\n",
       " 'Работа в режиме многозадачности',\n",
       " 'ТЗ',\n",
       " 'финансы',\n",
       " 'Компьютер',\n",
       " 'Figma',\n",
       " 'Формирование планов по подбору персонала',\n",
       " 'Brand Development',\n",
       " 'Жилая недвижимость',\n",
       " 'Работа с аналитическими сервисами',\n",
       " 'Мониторинг СМИ',\n",
       " 'Открытие торговых филиалов',\n",
       " 'опытный пользователь пк',\n",
       " 'Сквозная аналитика',\n",
       " 'Мерчандайзинг',\n",
       " 'Ставки на спорт',\n",
       " 'Расширение клиентской базы',\n",
       " 'Работа с доменами',\n",
       " 'Коммерческая недвижимость',\n",
       " 'Ориентация на результат',\n",
       " 'Постановка задач разработчикам',\n",
       " 'Работа с базами данных',\n",
       " 'Международный туризм',\n",
       " 'категорийный менеджмент',\n",
       " 'Развитие бизнеса',\n",
       " 'MS Exсel',\n",
       " 'бренд-менеджмент',\n",
       " 'CorelDRAW',\n",
       " 'Аренда помещений',\n",
       " 'Уходы для волос',\n",
       " 'Урегулирование конфликтов',\n",
       " 'Знание принципов работы в АМО СРМ',\n",
       " 'Подготовка комментарие для прессы',\n",
       " 'Составление Roadmap',\n",
       " 'Продажа кофемашин',\n",
       " 'Проведение телефонных интервью',\n",
       " 'Tasks Tracking Sytems',\n",
       " 'Закупка рекламных материалов',\n",
       " 'Онлайн исследования',\n",
       " 'Управление контентом интернет-магазина',\n",
       " 'онлайн курсы',\n",
       " 'пунктуальность',\n",
       " 'Оптимизация логистических процессов',\n",
       " 'Internet Marketing',\n",
       " 'Автоматизация склада',\n",
       " 'ERP-системы на базе 1С',\n",
       " 'РАБОТА С МАРКЕТ-ПЛЕЙСАМИ',\n",
       " 'Продвинутый пользователь ПК',\n",
       " 'Экономический анализ',\n",
       " 'перевода и увольнения сотрудников',\n",
       " 'Lead Generation',\n",
       " 'Clickhouse',\n",
       " 'Методы инструментальной диагностики',\n",
       " 'Взаимодействие с Роспотребнадзором',\n",
       " 'Yandex Direct',\n",
       " 'Вирусный маркетинг',\n",
       " 'Редактирование',\n",
       " 'Анализ поведения пользователей',\n",
       " 'CSS',\n",
       " 'CDP',\n",
       " 'Управление производственным персоналом',\n",
       " 'Должностные инструкции',\n",
       " 'team lead',\n",
       " 'Анализ рынка',\n",
       " 'B2C Marketing',\n",
       " 'Организация выставок',\n",
       " 'zend',\n",
       " 'Управление эффективностью',\n",
       " 'Отличные переговорные навыки',\n",
       " 'MVC',\n",
       " 'Учет ТМЦ',\n",
       " 'Teamleading',\n",
       " 'Опыт работы в телефонных или прямых продажах от 1 года',\n",
       " 'Розничная торговля',\n",
       " 'B2C продажи',\n",
       " 'Рассылка сообщений',\n",
       " 'Production',\n",
       " 'Маркетинговая аналитика',\n",
       " 'Мерчендайзинг',\n",
       " 'Бронирование билетов',\n",
       " 'работа с VIP клиентами',\n",
       " 'Технический надзор',\n",
       " 'Telegram',\n",
       " 'анимация 3D-персонажей',\n",
       " 'финансовая аналитика',\n",
       " 'MS CRM',\n",
       " 'удаленная работа',\n",
       " 'Графика',\n",
       " 'Психология Личности',\n",
       " 'Беттинг',\n",
       " 'Планирование и организация',\n",
       " 'Организация продуктового обучения',\n",
       " 'B2G продажи',\n",
       " 'Формирование пула лояльных СМИ',\n",
       " 'Photoshop',\n",
       " 'Ответственное отношение к работе',\n",
       " 'Работа на выставках',\n",
       " 'Разработка должностных инструкций',\n",
       " 'Пользователь ПК',\n",
       " 'Оценка потребностей клиентов',\n",
       " 'Умение расставлять приоритеты',\n",
       " 'Подбор подрядчиков',\n",
       " 'Реклама',\n",
       " 'Испанский — B2 — Средне-продвинутый',\n",
       " 'Деловой этикет',\n",
       " 'Генерация идей',\n",
       " 'Телефонное интервью',\n",
       " '1С программирование',\n",
       " 'Public Speaking',\n",
       " 'внимательность',\n",
       " 'Экоосознанность',\n",
       " 'Желание расти и развиваться',\n",
       " 'Подбор персонала',\n",
       " 'ривлечение целевой аудитории',\n",
       " 'Грейдинг',\n",
       " 'Управление проектами',\n",
       " 'Самодисциплина',\n",
       " 'ввод нового продукта',\n",
       " 'продажа транспорта',\n",
       " 'Упаковка',\n",
       " 'Influencer Marketing',\n",
       " 'Unreal Engine',\n",
       " 'Информационные рассылки',\n",
       " 'composer',\n",
       " 'МСФО',\n",
       " 'Google Docs',\n",
       " 'Коммуникация',\n",
       " 'Участие в обзорах заработных плат',\n",
       " 'знание основ маркетинга',\n",
       " 'Продажи через дистрибьюторов',\n",
       " 'Прогнозирование',\n",
       " 'Видеомонтаж',\n",
       " 'Вконтакте',\n",
       " 'коммерческая стратегия',\n",
       " 'JavaScript',\n",
       " 'Ассортиментная матрица',\n",
       " 'управление ассортиментом',\n",
       " 'Продающие тексты',\n",
       " 'Удалённая работа',\n",
       " 'Работа с оргтехникой',\n",
       " 'Виды страхования',\n",
       " 'Итальянский — B2 — Средне-продвинутый',\n",
       " 'Менеджер по продажам',\n",
       " 'Мотивационные программы',\n",
       " 'Эмоциональная устойчивость',\n",
       " 'Таргетированная реклама',\n",
       " 'Автоворонка',\n",
       " 'умение работать с программами Word',\n",
       " 'Складская недвижимость',\n",
       " 'Sales Skills',\n",
       " 'Работа в Excel',\n",
       " 'аналитик',\n",
       " 'Работоспособность',\n",
       " 'Direct Marketing',\n",
       " 'Постановка задач подрядчикам',\n",
       " 'Умение работать в режиме многозадачности',\n",
       " 'online',\n",
       " 'EdTech',\n",
       " 'методология курсов',\n",
       " 'Опыт работы с клиентами',\n",
       " 'Реализация проектов',\n",
       " 'Scrum',\n",
       " 'Статистический анализ',\n",
       " 'Управление контактным центром',\n",
       " 'Redis',\n",
       " 'Грамотная и поставленная речь',\n",
       " 'Умение проявлять тактичность и толерантность',\n",
       " 'опросников',\n",
       " 'озон',\n",
       " 'аналитика продукта',\n",
       " 'Выявление потребностей',\n",
       " 'Поставленная речь',\n",
       " 'Оперативное планирование',\n",
       " 'Умение слушать',\n",
       " 'Планирование запасов',\n",
       " 'контент-менеджмент',\n",
       " 'Телефонные переговоры',\n",
       " 'переговоры',\n",
       " 'Распаковка эксперта',\n",
       " 'Написание ТЗ',\n",
       " 'Работа с ТМЦ',\n",
       " 'Lucene',\n",
       " 'Журналистика',\n",
       " 'Визуальный мерчандайзинг',\n",
       " 'Формирование технического задания для разработки',\n",
       " 'Аналитика продаж',\n",
       " 'маркетинг',\n",
       " 'Ремаркетинг',\n",
       " 'Контроль отгрузок',\n",
       " 'OZON',\n",
       " 'Администрирование',\n",
       " 'Подбор недвижимости по запросу клиента',\n",
       " 'PHP',\n",
       " 'регистрация документации',\n",
       " 'Увеличение продаж',\n",
       " 'JS',\n",
       " 'Полиграфический дизайн',\n",
       " 'Желание учиться новому',\n",
       " 'проектрирование сайтов',\n",
       " 'Сводные таблицы',\n",
       " 'Анализ',\n",
       " 'Продуктивность',\n",
       " 'PSR',\n",
       " 'Прямой поиск',\n",
       " 'Точность и внимательность к деталям',\n",
       " 'информация по продукту',\n",
       " 'первичный документооборот',\n",
       " 'Выявление потребностей в обучении',\n",
       " '1С: Управление предприятием',\n",
       " 'Высокая скорость печати',\n",
       " 'Фотомонтаж',\n",
       " 'Рекламная съемка',\n",
       " 'Финансовый контроль',\n",
       " 'Складской Учет',\n",
       " 'Поиск персонала в открытых источниках',\n",
       " 'Business Development',\n",
       " 'Проектирование пользовательских интерфейсов',\n",
       " 'обучение сотрудников',\n",
       " 'Актерское мастерство',\n",
       " 'работа с текстом',\n",
       " 'тестирование гипотез',\n",
       " 'Навыки работы с клиентами',\n",
       " 'Дистанционное обучение',\n",
       " 'внимание к деталям',\n",
       " 'Позитивное мышление',\n",
       " 'навыки статистической обработки данных',\n",
       " 'Business English',\n",
       " 'Навыки межличностного общения',\n",
       " 'Навыки улаживания конфликтов',\n",
       " 'Косметология',\n",
       " 'Коммуникабельность',\n",
       " 'Активность',\n",
       " 'Электронный документооборот',\n",
       " 'Развитие образовательных курсов',\n",
       " 'MS PowerPoint',\n",
       " 'Знание 1 С',\n",
       " 'Работа по скриптам',\n",
       " 'CPA-сети',\n",
       " 'Исходящая документация',\n",
       " 'MS Excel',\n",
       " 'Ценообразование',\n",
       " 'Ребрендинг',\n",
       " 'масштабирование',\n",
       " 'Формирование стратегии',\n",
       " 'HR Business Strategy',\n",
       " 'Коммуникабелен',\n",
       " 'Способность к обучению и восприятию информации',\n",
       " 'Техническая документация',\n",
       " 'Корпоративная этика',\n",
       " 'ВЭД',\n",
       " 'Angular',\n",
       " 'Телеграм Ads',\n",
       " 'знание маркетинга',\n",
       " 'Анализ текущей ситуации',\n",
       " 'Web-дизайн',\n",
       " 'переговоры с первыми лицами компаний',\n",
       " 'MS Visio',\n",
       " '1С: Бухгалтерия',\n",
       " 'custdev',\n",
       " 'Сертификация продукции',\n",
       " 'Планирование продаж',\n",
       " 'Аренда недвижимости',\n",
       " 'Работа с партнерами',\n",
       " 'A/B тестирование',\n",
       " 'Стремление к профессиональному и личностному росту',\n",
       " 'менеджер проектов',\n",
       " 'Умение работать с CRM',\n",
       " 'Разработка мотивационных программ для персонала',\n",
       " 'Фармацевтическая химия',\n",
       " 'Разнообразные задачи',\n",
       " 'AV',\n",
       " 'Криптовалюта',\n",
       " 'Запуск международных рекламных кампаний',\n",
       " 'Внешний аудит контекстной рекламы',\n",
       " 'Стратегии',\n",
       " 'Брендинг',\n",
       " 'Профессионализим',\n",
       " 'Взаимодействие с поставщиками',\n",
       " 'E-Learning',\n",
       " 'Разработка воронок',\n",
       " 'Продажи запчастей для российских автомобилей',\n",
       " 'Nginx',\n",
       " 'Разрешение конфликтных ситуаций',\n",
       " 'сео',\n",
       " 'Умение работать в команде и самостоятельно',\n",
       " 'Навыки переговоров',\n",
       " 'теплые звонки',\n",
       " 'Tableau',\n",
       " 'Custdev',\n",
       " 'UI',\n",
       " 'MS Dynamics',\n",
       " 'Брокер',\n",
       " 'Запуск нового бренда',\n",
       " 'Долгосрочное бюджетирование и планирование',\n",
       " 'MS Project',\n",
       " 'франчайзинг',\n",
       " 'Мужские стрижки',\n",
       " 'Business Trips Organization',\n",
       " 'Трудовое законодательство РФ',\n",
       " 'B2B маркетинг',\n",
       " 'Техническая грамотность',\n",
       " 'Google Analytics.',\n",
       " 'M&A',\n",
       " 'Проведение рекламных кампаний',\n",
       " 'Мотивация сотрудников',\n",
       " 'Умение работать в условиях многозадачности',\n",
       " 'Маркетинговые коммуникации',\n",
       " 'HTML5',\n",
       " 'Владение MS Office',\n",
       " 'SPA',\n",
       " '1С: Торговля и склад',\n",
       " 'развитие бизнеса',\n",
       " 'Региональные сети',\n",
       " 'Управление временем',\n",
       " 'Командообразование',\n",
       " 'Анализ торговой марки',\n",
       " 'Cоциальная реклама',\n",
       " 'Управление талантами',\n",
       " 'HADI-циклы',\n",
       " 'БАДы',\n",
       " 'Travel Support',\n",
       " 'Работа с маркетплейсами',\n",
       " 'Свободное владение английским языком',\n",
       " 'Английский язык (уровень Intermediate)',\n",
       " 'Мотивированность на результат обучения',\n",
       " 'Первичные документы',\n",
       " 'Adobe Design',\n",
       " 'Планирование рекламных кампаний',\n",
       " 'Составление графиков работы',\n",
       " 'развитие и ведение клиентской базы',\n",
       " 'Контент',\n",
       " 'Вебинары',\n",
       " 'Айдентика',\n",
       " 'EDT',\n",
       " 'Яндекс Метрика',\n",
       " 'Показ объектов недвижимости',\n",
       " 'Adobe InDesign',\n",
       " 'Adobe After Effect',\n",
       " 'Высокая скорость работы',\n",
       " 'Перформанс маркетинг',\n",
       " 'GetCourse',\n",
       " 'Spring Framework',\n",
       " 'Китайский — C2 — В совершенстве',\n",
       " 'SEO',\n",
       " 'Массовый подбор персонала',\n",
       " 'создание планограмм',\n",
       " 'Составление договоров',\n",
       " 'Лабораторная диагностика',\n",
       " 'Адаптация персонала',\n",
       " 'Оценка инвестиционных проектов',\n",
       " 'bitrix24',\n",
       " 'Эффективная коммуникация',\n",
       " 'Планирование рабочего дня руководителя',\n",
       " 'Project management',\n",
       " 'Интернет-магазин',\n",
       " 'Reels',\n",
       " 'Проектный менеджмент',\n",
       " 'умение работать в команде',\n",
       " 'Teacher Training',\n",
       " 'Аналитические исследования',\n",
       " 'организаторские способности',\n",
       " 'Составление планов по подбору',\n",
       " 'SMM',\n",
       " 'Bitrix',\n",
       " 'Микросхемы',\n",
       " 'Лидерские качества',\n",
       " 'Стратегическое планирование',\n",
       " 'ДРР',\n",
       " 'PMBOK',\n",
       " 'желание работать',\n",
       " 'План',\n",
       " 'Финансовый менеджмент',\n",
       " 'Лояльность',\n",
       " 'Ведение документооборота',\n",
       " 'Marketing Events',\n",
       " 'Фотография',\n",
       " 'Английский — B1 — Средний',\n",
       " 'Team Lead',\n",
       " 'Распределенные команды',\n",
       " 'Высокий уровень эмпатии',\n",
       " 'Ораторское навыки: провидение презентаций',\n",
       " 'Самоконтроль',\n",
       " 'ERP',\n",
       " 'Организация съемок',\n",
       " 'Эмпатия',\n",
       " 'Продвижение бренда компании',\n",
       " 'таргетированная',\n",
       " 'Маркетинговая стратегия',\n",
       " 'elk',\n",
       " 'Внимательность к мелочам',\n",
       " 'Желание учиться и развиваться',\n",
       " 'Умение формировать эффективную команду',\n",
       " 'Фитнес',\n",
       " 'Подбор сотрудников',\n",
       " 'Вовлеченность',\n",
       " 'Сообразительность',\n",
       " 'Продажи',\n",
       " 'Разработка маркетинговой стратегии',\n",
       " 'релокация оплачивается',\n",
       " 'CR',\n",
       " 'телефонные продажи',\n",
       " 'Техническая поддержка',\n",
       " 'Зарубежный маркетинг',\n",
       " 'RTB',\n",
       " 'Развитие сети присутствия',\n",
       " 'Искренность',\n",
       " '223-ФЗ',\n",
       " 'Электронные книги',\n",
       " 'Skype',\n",
       " 'Автоматизация медицинских процессов',\n",
       " 'Стратегическое мышление',\n",
       " 'Инженерные системы',\n",
       " 'Интернет-реклама',\n",
       " 'Online teaching',\n",
       " 'Подготовка договоров',\n",
       " 'SMART',\n",
       " 'Достижение поставленных целей',\n",
       " 'Успешный опыт создания эффективной команды',\n",
       " 'Оценка стоимости бизнеса',\n",
       " 'FinTech',\n",
       " 'Wildberries',\n",
       " 'Marketing',\n",
       " 'Системная ананлитика',\n",
       " 'Анализ текущей рыночной ситуации',\n",
       " 'Умение работать в команде',\n",
       " 'Digital маркетинг',\n",
       " 'Bootstrap',\n",
       " 'Создание фото контента',\n",
       " 'Компенсации и льготы',\n",
       " 'Авиаперевозки',\n",
       " 'Франщиза',\n",
       " 'Игровое оборудование',\n",
       " 'Финансы',\n",
       " 'Таблицы',\n",
       " 'Движение денежных средств',\n",
       " 'Менеджмент',\n",
       " 'Моделирование бизнес процессов',\n",
       " 'Наполнение контентом',\n",
       " 'Знание офисных программ',\n",
       " 'event-маркетинг',\n",
       " 'владение техникой SPIN',\n",
       " 'Организационное развитие',\n",
       " 'Полиграфия',\n",
       " 'менеджер по маркетплейсам',\n",
       " 'Развитие продаж',\n",
       " 'Работа с поставщиками',\n",
       " 'инфобизнес',\n",
       " 'Отчеты',\n",
       " 'Решение конфликтов',\n",
       " 'Mathcad',\n",
       " 'Графические редакторы',\n",
       " 'IDEF',\n",
       " 'Масштабирование гипотез',\n",
       " 'Оценочная деятельность',\n",
       " 'Планировать и оптимально организовывать рабочий процесс',\n",
       " 'Digital Marketing',\n",
       " 'Управление продуктом',\n",
       " 'Google AdWords',\n",
       " 'Работа с текстом',\n",
       " 'MS SQL',\n",
       " 'REST API',\n",
       " 'Разработка партнерских программ',\n",
       " 'Электронная коммерция',\n",
       " 'Рекрутинг',\n",
       " 'Сбор данных',\n",
       " 'Умение планировать',\n",
       " 'марафонная воронка',\n",
       " 'Мобильный маркетинг',\n",
       " 'Написание статей',\n",
       " 'Поиск объектов',\n",
       " 'Bloomberg',\n",
       " 'И многое другое',\n",
       " 'COO',\n",
       " 'Первичная адаптация',\n",
       " 'Производство рекламных роликов',\n",
       " 'Продажи в интернете',\n",
       " 'Хорошее чувство юмора',\n",
       " 'Разговорный английский',\n",
       " 'Быстро учусь',\n",
       " 'Нестандартное мышление',\n",
       " 'Разработка SMM стратегии',\n",
       " 'Дистрибьюция',\n",
       " 'BE (Laravel',\n",
       " 'Привлечение партнеров',\n",
       " 'C/C++',\n",
       " 'Работа из дома',\n",
       " 'Высокая энергичность и инициативность',\n",
       " 'Системность',\n",
       " 'Работа с подрядчиками',\n",
       " 'Умение вести переговоры',\n",
       " 'Бухгалтерская отчетность',\n",
       " 'Организация PR кампаний',\n",
       " 'Детские стрижки',\n",
       " 'Медиабаинг',\n",
       " 'nuxtjs',\n",
       " 'Работа с клиентами',\n",
       " 'проведение групповых интервью',\n",
       " 'Расчет себестоимости',\n",
       " 'Работа с большим пулом запросов',\n",
       " 'Яндекс метрика',\n",
       " 'Логистика',\n",
       " 'Стратегический анализ',\n",
       " 'Планирование и формирование маркетингового бюджета',\n",
       " '1С: Салон красоты',\n",
       " 'Анализ трафика',\n",
       " 'Edtech',\n",
       " 'Vue',\n",
       " 'Формирование управленческой отчетности',\n",
       " 'Первичная недвижимость',\n",
       " 'Корпоративные продажи',\n",
       " 'Работа с клиентской базой',\n",
       " '3D Max',\n",
       " 'конкурентная разведка',\n",
       " 'Программы лояльности',\n",
       " 'Планирование ассортимента',\n",
       " 'Гибкость мышления',\n",
       " '1С: Управление персоналом',\n",
       " 'Leadership Skills',\n",
       " 'Аудит поисковой видимости сайта',\n",
       " 'Знание иностранных языков',\n",
       " 'Google Analytics',\n",
       " 'Data Analysis',\n",
       " 'первичная обработка документации',\n",
       " 'Контроль качества',\n",
       " 'Business Planning',\n",
       " 'Проведение инвентаризаций',\n",
       " 'Mind Map',\n",
       " 'Собеседование',\n",
       " 'Продажа дополнительных услуг и оборудования',\n",
       " '1С: Управление Закупками',\n",
       " 'Статистика',\n",
       " 'Проведение вебинаров',\n",
       " 'Организованность',\n",
       " 'Общественное питание',\n",
       " 'Веб-аналитика',\n",
       " 'Общение с клиентами',\n",
       " 'Разрешать конфликтные ситуации',\n",
       " 'Управление магазином',\n",
       " 'битрикс',\n",
       " 'Взаимодействие с контрольными органами',\n",
       " 'Формирование продуктовой линейки',\n",
       " 'Marketing Analysis',\n",
       " 'Performance Marketing',\n",
       " 'ASO',\n",
       " 'Венчурное финансирование',\n",
       " 'Анализ ассортиментной линейки',\n",
       " 'Умение прогнозировать риски и управлять ими',\n",
       " 'Написание скриптов',\n",
       " 'Мониторинг упоминаемости компании в СМИ',\n",
       " 'Продвижение мероприятий компании в социальных сетях',\n",
       " 'Французский — C1 — Продвинутый',\n",
       " 'Работа с Tilda сайтом',\n",
       " 'Drupal)',\n",
       " 'Русский — C1 — Продвинутый',\n",
       " 'Разработка финансовых моделей',\n",
       " 'Опыт работы более 10 лет',\n",
       " 'Trello',\n",
       " 'Маркетолог',\n",
       " 'Анализ конкурентов',\n",
       " 'AutoCAD',\n",
       " 'Выбор провайдера по ДМС',\n",
       " 'Организация встреч',\n",
       " 'Разработка регламентов',\n",
       " 'Амбициозность',\n",
       " 'GR',\n",
       " 'Прототипирование',\n",
       " 'lumen 5.5',\n",
       " 'Готовность обучаться',\n",
       " 'CPA',\n",
       " 'Бизнес-планирование',\n",
       " 'MS Outlook',\n",
       " 'Excel',\n",
       " 'Рерайтинг',\n",
       " 'English',\n",
       " 'Навыки работы в команде',\n",
       " 'gitlab (git + ci)',\n",
       " 'Работа в условиях многозадачности',\n",
       " 'MS Office',\n",
       " 'CTOR',\n",
       " 'Аналитический склад ума',\n",
       " 'оформление заказов',\n",
       " 'Умение работать с большим количеством информации',\n",
       " 'Manzana',\n",
       " 'Сайтостроение',\n",
       " 'исходящие звонки',\n",
       " 'Универсальность',\n",
       " 'Кассовые операции',\n",
       " 'Холодные продажи',\n",
       " 'MS Access',\n",
       " 'Ведение интернет магазина',\n",
       " 'Желание развиваться',\n",
       " 'Оценка кандидатов',\n",
       " 'Frontend',\n",
       " 'Управление работой с ключевыми клиентами',\n",
       " 'Планирование маркетинговых кампаний',\n",
       " 'Стратегия Развития',\n",
       " 'amazon',\n",
       " 'Монтаж звука',\n",
       " 'Организация и планирование рабочего времени',\n",
       " 'Asana',\n",
       " 'Системное мышление',\n",
       " 'Оценка должностей',\n",
       " 'Деловое общение',\n",
       " 'Продажи в сфере ИТ',\n",
       " 'P&L',\n",
       " '1C',\n",
       " 'Проведение мероприятий',\n",
       " 'найм команды',\n",
       " 'Английский — A1 — Начальный',\n",
       " 'электроника',\n",
       " 'Системный анализ',\n",
       " 'грамотная письменная и устная речь',\n",
       " 'UI/UX',\n",
       " 'Страхование',\n",
       " 'исходящая корреспонденция',\n",
       " 'User Story Mapping',\n",
       " 'PnL',\n",
       " 'Техники продаж',\n",
       " 'Прием и распределение телефонных звонков',\n",
       " 'Работа с большим объемом информации',\n",
       " 'Инвестиции',\n",
       " 'PowerBI',\n",
       " 'проведение интервью',\n",
       " 'Дебиторская задолженность',\n",
       " 'Умение договариваться',\n",
       " 'Vegas Pro',\n",
       " 'DELTA',\n",
       " 'Подбор оборудования',\n",
       " 'Водительское удостоверение категории B',\n",
       " 'Внешняя оптимизация сайта',\n",
       " 'Арабский — A2 — Элементарный',\n",
       " 'psp',\n",
       " 'Продвижение сайтов',\n",
       " 'Подготовка презентаций',\n",
       " 'Транзакционная документация',\n",
       " 'Mp Stat',\n",
       " 'Customer Development',\n",
       " 'Испанский язык',\n",
       " 'Google Таблицы',\n",
       " 'e-commers',\n",
       " 'Лидогенерация',\n",
       " 'API',\n",
       " 'Стилизация',\n",
       " 'Организация региональных трейд-маркетинговых кампаний',\n",
       " 'Работа с сайтами WIX',\n",
       " 'Холодные звонки',\n",
       " 'UML',\n",
       " 'ASA',\n",
       " 'CRM Битрикс 24',\n",
       " 'ПК',\n",
       " 'Ориентация на хороший результат',\n",
       " 'Авиабилеты',\n",
       " 'HRM',\n",
       " 'Управление коммуникациями',\n",
       " 'Atlassian Confluence',\n",
       " 'Коттеджное строительство',\n",
       " 'Продвижение за рубежом',\n",
       " 'Юридическая экспертиза договоров',\n",
       " 'СРМ',\n",
       " 'Привлечение клиентов',\n",
       " 'Управление сервисом',\n",
       " 'активность',\n",
       " 'Поисковая оптимизация сайтов',\n",
       " 'Организация промо акций',\n",
       " 'Коммуникации с инвесторами',\n",
       " 'web-сайт',\n",
       " 'Организация пресс-конференций',\n",
       " 'Строительный контроль',\n",
       " 'Инфографика',\n",
       " 'Video Editing',\n",
       " 'AngularJS',\n",
       " 'B2B Продажи',\n",
       " 'проведение переговоров с первыми лицами компании',\n",
       " 'работа со статистикой',\n",
       " 'Проведение тренингов для персонала розницы',\n",
       " 'HTML',\n",
       " 'Целеустремленность',\n",
       " 'Ведение клиентской базы',\n",
       " 'Agile Project Management',\n",
       " 'Market Research',\n",
       " 'развитие партнеров',\n",
       " 'Умение работать с клиентами',\n",
       " 'автоворонки',\n",
       " 'Управление системой наставничества',\n",
       " 'Внимательность к деталям',\n",
       " 'Продажи запчастей для иностранных автомобилей',\n",
       " 'Международные СМИ',\n",
       " 'MC Excel',\n",
       " ...}"
      ]
     },
     "execution_count": 127,
     "metadata": {},
     "output_type": "execute_result"
    }
   ],
   "source": [
    "data_tags = set()\n",
    "s=0\n",
    "for i in data[\"tags_list\"]:\n",
    "    for j in i:\n",
    "        data_tags.add(j)\n",
    "data_tags"
   ]
  },
  {
   "cell_type": "markdown",
   "metadata": {},
   "source": [
    "# Предобработка данных\n",
    "\n",
    "В таблицах data и resume_data неудобный формат столбцов salary. Разделим salary на 3 отдельных столбца: from, upto и currency.\n",
    "* from - минимальная зарплата\n",
    "* upto - максимальная зарплата\n",
    "* currency - валюта\n",
    "  \n",
    "В resume_data везде указана одна зарплата вместо зарплатной вилки. Поэтому разделим salary на 2 отдельных столбца: salary и currency.\n",
    "* salary - зарплата\n",
    "* currency - валюта"
   ]
  },
  {
   "cell_type": "markdown",
   "metadata": {},
   "source": [
    "#### Data. Создаем from и upto"
   ]
  },
  {
   "cell_type": "code",
   "execution_count": 128,
   "metadata": {},
   "outputs": [
    {
     "data": {
      "text/html": [
       "<div>\n",
       "<style scoped>\n",
       "    .dataframe tbody tr th:only-of-type {\n",
       "        vertical-align: middle;\n",
       "    }\n",
       "\n",
       "    .dataframe tbody tr th {\n",
       "        vertical-align: top;\n",
       "    }\n",
       "\n",
       "    .dataframe thead th {\n",
       "        text-align: right;\n",
       "    }\n",
       "</style>\n",
       "<table border=\"1\" class=\"dataframe\">\n",
       "  <thead>\n",
       "    <tr style=\"text-align: right;\">\n",
       "      <th></th>\n",
       "      <th>from</th>\n",
       "      <th>upto</th>\n",
       "    </tr>\n",
       "  </thead>\n",
       "  <tbody>\n",
       "    <tr>\n",
       "      <th>0</th>\n",
       "      <td>120000.0</td>\n",
       "      <td>0.0</td>\n",
       "    </tr>\n",
       "    <tr>\n",
       "      <th>1</th>\n",
       "      <td>200000.0</td>\n",
       "      <td>0.0</td>\n",
       "    </tr>\n",
       "    <tr>\n",
       "      <th>2</th>\n",
       "      <td>200000.0</td>\n",
       "      <td>400000.0</td>\n",
       "    </tr>\n",
       "    <tr>\n",
       "      <th>3</th>\n",
       "      <td>60000.0</td>\n",
       "      <td>120000.0</td>\n",
       "    </tr>\n",
       "    <tr>\n",
       "      <th>4</th>\n",
       "      <td>10000.0</td>\n",
       "      <td>0.0</td>\n",
       "    </tr>\n",
       "    <tr>\n",
       "      <th>...</th>\n",
       "      <td>...</td>\n",
       "      <td>...</td>\n",
       "    </tr>\n",
       "    <tr>\n",
       "      <th>1704</th>\n",
       "      <td>60000.0</td>\n",
       "      <td>100000.0</td>\n",
       "    </tr>\n",
       "    <tr>\n",
       "      <th>1705</th>\n",
       "      <td>100000.0</td>\n",
       "      <td>0.0</td>\n",
       "    </tr>\n",
       "    <tr>\n",
       "      <th>1706</th>\n",
       "      <td>100000.0</td>\n",
       "      <td>0.0</td>\n",
       "    </tr>\n",
       "    <tr>\n",
       "      <th>1707</th>\n",
       "      <td>100000.0</td>\n",
       "      <td>0.0</td>\n",
       "    </tr>\n",
       "    <tr>\n",
       "      <th>1708</th>\n",
       "      <td>200000.0</td>\n",
       "      <td>0.0</td>\n",
       "    </tr>\n",
       "  </tbody>\n",
       "</table>\n",
       "<p>1709 rows × 2 columns</p>\n",
       "</div>"
      ],
      "text/plain": [
       "          from      upto\n",
       "0     120000.0       0.0\n",
       "1     200000.0       0.0\n",
       "2     200000.0  400000.0\n",
       "3      60000.0  120000.0\n",
       "4      10000.0       0.0\n",
       "...        ...       ...\n",
       "1704   60000.0  100000.0\n",
       "1705  100000.0       0.0\n",
       "1706  100000.0       0.0\n",
       "1707  100000.0       0.0\n",
       "1708  200000.0       0.0\n",
       "\n",
       "[1709 rows x 2 columns]"
      ]
     },
     "execution_count": 128,
     "metadata": {},
     "output_type": "execute_result"
    }
   ],
   "source": [
    "\n",
    "frac_data = data.sample(frac = 0.1)\n",
    "salarys = []\n",
    "for i in data[\"salary\"]:\n",
    "    salary = re.findall(r'\\d+\\s\\d+', i)\n",
    "    salarys.append([int(i.replace(\" \", \"\")) for i in salary])\n",
    "df = pd.DataFrame(salarys)\n",
    "df = df.fillna(0)\n",
    "\n",
    "data[\"from\"] = df[0]\n",
    "data[\"upto\"] = df[1]\n",
    "data[[\"from\",\"upto\"]]"
   ]
  },
  {
   "cell_type": "markdown",
   "metadata": {},
   "source": [
    "#### Data. Создаем currency"
   ]
  },
  {
   "cell_type": "code",
   "execution_count": 129,
   "metadata": {},
   "outputs": [
    {
     "data": {
      "text/html": [
       "<div>\n",
       "<style scoped>\n",
       "    .dataframe tbody tr th:only-of-type {\n",
       "        vertical-align: middle;\n",
       "    }\n",
       "\n",
       "    .dataframe tbody tr th {\n",
       "        vertical-align: top;\n",
       "    }\n",
       "\n",
       "    .dataframe thead th {\n",
       "        text-align: right;\n",
       "    }\n",
       "</style>\n",
       "<table border=\"1\" class=\"dataframe\">\n",
       "  <thead>\n",
       "    <tr style=\"text-align: right;\">\n",
       "      <th></th>\n",
       "      <th>Unnamed: 0</th>\n",
       "      <th>city2</th>\n",
       "      <th>experience</th>\n",
       "      <th>description</th>\n",
       "      <th>salary</th>\n",
       "      <th>tags_list</th>\n",
       "      <th>tags_list_len</th>\n",
       "      <th>city</th>\n",
       "      <th>from</th>\n",
       "      <th>upto</th>\n",
       "      <th>currency</th>\n",
       "    </tr>\n",
       "  </thead>\n",
       "  <tbody>\n",
       "    <tr>\n",
       "      <th>0</th>\n",
       "      <td>0</td>\n",
       "      <td>Улица 1905 года, Москва, улица 1905 года, 10с1</td>\n",
       "      <td>1–3 года</td>\n",
       "      <td>Привет наш будущий кандидат на должность марке...</td>\n",
       "      <td>от 120 000 руб. на руки</td>\n",
       "      <td>[SWOT анализ, Adobe Photoshop, Работа в команд...</td>\n",
       "      <td>5</td>\n",
       "      <td></td>\n",
       "      <td>120000.0</td>\n",
       "      <td>0.0</td>\n",
       "      <td>руб</td>\n",
       "    </tr>\n",
       "    <tr>\n",
       "      <th>1</th>\n",
       "      <td>1</td>\n",
       "      <td></td>\n",
       "      <td>3–6 лет</td>\n",
       "      <td>Привет! Мы Семь Семян - онлайн супермаркет тов...</td>\n",
       "      <td>от 200 000 руб. на руки</td>\n",
       "      <td>[Медиапланирование, Интернет-реклама, Контекст...</td>\n",
       "      <td>5</td>\n",
       "      <td>Москва, Румянцево</td>\n",
       "      <td>200000.0</td>\n",
       "      <td>0.0</td>\n",
       "      <td>руб</td>\n",
       "    </tr>\n",
       "  </tbody>\n",
       "</table>\n",
       "</div>"
      ],
      "text/plain": [
       "   Unnamed: 0                                           city2 experience  \\\n",
       "0           0  Улица 1905 года, Москва, улица 1905 года, 10с1   1–3 года   \n",
       "1           1                                                    3–6 лет   \n",
       "\n",
       "                                         description                   salary  \\\n",
       "0  Привет наш будущий кандидат на должность марке...  от 120 000 руб. на руки   \n",
       "1  Привет! Мы Семь Семян - онлайн супермаркет тов...  от 200 000 руб. на руки   \n",
       "\n",
       "                                           tags_list  tags_list_len  \\\n",
       "0  [SWOT анализ, Adobe Photoshop, Работа в команд...              5   \n",
       "1  [Медиапланирование, Интернет-реклама, Контекст...              5   \n",
       "\n",
       "                city      from  upto currency  \n",
       "0                     120000.0   0.0      руб  \n",
       "1  Москва, Румянцево  200000.0   0.0      руб  "
      ]
     },
     "execution_count": 129,
     "metadata": {},
     "output_type": "execute_result"
    }
   ],
   "source": [
    "\n",
    "curr = []\n",
    "for i in data[\"salary\"]:\n",
    "    temp = re.findall(r'руб|USD|EUR|не указана|сум', i)\n",
    "    curr.append(temp[0])\n",
    "\n",
    "data[\"currency\"] = curr\n",
    "data.head(2)"
   ]
  },
  {
   "cell_type": "markdown",
   "metadata": {},
   "source": [
    "Проверяем пересечения city и city2. Так как они отстутствуют можно спокойно их соединить"
   ]
  },
  {
   "cell_type": "code",
   "execution_count": 130,
   "metadata": {},
   "outputs": [
    {
     "data": {
      "text/html": [
       "<div>\n",
       "<style scoped>\n",
       "    .dataframe tbody tr th:only-of-type {\n",
       "        vertical-align: middle;\n",
       "    }\n",
       "\n",
       "    .dataframe tbody tr th {\n",
       "        vertical-align: top;\n",
       "    }\n",
       "\n",
       "    .dataframe thead th {\n",
       "        text-align: right;\n",
       "    }\n",
       "</style>\n",
       "<table border=\"1\" class=\"dataframe\">\n",
       "  <thead>\n",
       "    <tr style=\"text-align: right;\">\n",
       "      <th></th>\n",
       "      <th>Unnamed: 0</th>\n",
       "      <th>city2</th>\n",
       "      <th>experience</th>\n",
       "      <th>description</th>\n",
       "      <th>salary</th>\n",
       "      <th>tags_list</th>\n",
       "      <th>tags_list_len</th>\n",
       "      <th>city</th>\n",
       "      <th>from</th>\n",
       "      <th>upto</th>\n",
       "      <th>currency</th>\n",
       "    </tr>\n",
       "  </thead>\n",
       "  <tbody>\n",
       "  </tbody>\n",
       "</table>\n",
       "</div>"
      ],
      "text/plain": [
       "Empty DataFrame\n",
       "Columns: [Unnamed: 0, city2, experience, description, salary, tags_list, tags_list_len, city, from, upto, currency]\n",
       "Index: []"
      ]
     },
     "execution_count": 130,
     "metadata": {},
     "output_type": "execute_result"
    }
   ],
   "source": [
    "data[(data[\"city2\"]!=\"\") & (data[\"city\"]!=\"\")]"
   ]
  },
  {
   "cell_type": "markdown",
   "metadata": {},
   "source": [
    "Так как пересечения отсутствуют можно спокойно их соединить"
   ]
  },
  {
   "cell_type": "code",
   "execution_count": 131,
   "metadata": {},
   "outputs": [
    {
     "data": {
      "text/html": [
       "<div>\n",
       "<style scoped>\n",
       "    .dataframe tbody tr th:only-of-type {\n",
       "        vertical-align: middle;\n",
       "    }\n",
       "\n",
       "    .dataframe tbody tr th {\n",
       "        vertical-align: top;\n",
       "    }\n",
       "\n",
       "    .dataframe thead th {\n",
       "        text-align: right;\n",
       "    }\n",
       "</style>\n",
       "<table border=\"1\" class=\"dataframe\">\n",
       "  <thead>\n",
       "    <tr style=\"text-align: right;\">\n",
       "      <th></th>\n",
       "      <th>index</th>\n",
       "      <th>experience</th>\n",
       "      <th>description</th>\n",
       "      <th>salary</th>\n",
       "      <th>tags_list</th>\n",
       "      <th>tags_list_len</th>\n",
       "      <th>from</th>\n",
       "      <th>upto</th>\n",
       "      <th>currency</th>\n",
       "      <th>fulladress</th>\n",
       "    </tr>\n",
       "  </thead>\n",
       "  <tbody>\n",
       "    <tr>\n",
       "      <th>0</th>\n",
       "      <td>0</td>\n",
       "      <td>1–3 года</td>\n",
       "      <td>Привет наш будущий кандидат на должность марке...</td>\n",
       "      <td>от 120 000 руб. на руки</td>\n",
       "      <td>[SWOT анализ, Adobe Photoshop, Работа в команд...</td>\n",
       "      <td>5</td>\n",
       "      <td>120000.0</td>\n",
       "      <td>0.0</td>\n",
       "      <td>руб</td>\n",
       "      <td>Улица 1905 года, Москва, улица 1905 года, 10с1</td>\n",
       "    </tr>\n",
       "    <tr>\n",
       "      <th>1</th>\n",
       "      <td>1</td>\n",
       "      <td>3–6 лет</td>\n",
       "      <td>Привет! Мы Семь Семян - онлайн супермаркет тов...</td>\n",
       "      <td>от 200 000 руб. на руки</td>\n",
       "      <td>[Медиапланирование, Интернет-реклама, Контекст...</td>\n",
       "      <td>5</td>\n",
       "      <td>200000.0</td>\n",
       "      <td>0.0</td>\n",
       "      <td>руб</td>\n",
       "      <td>Москва, Румянцево</td>\n",
       "    </tr>\n",
       "    <tr>\n",
       "      <th>2</th>\n",
       "      <td>2</td>\n",
       "      <td>более 6 лет</td>\n",
       "      <td>LEGRAND - производитель федерального уровня с ...</td>\n",
       "      <td>от 200 000 до 400 000 руб. на руки</td>\n",
       "      <td>[B2B маркетинг, unit-экономика, Запуск новых п...</td>\n",
       "      <td>12</td>\n",
       "      <td>200000.0</td>\n",
       "      <td>400000.0</td>\n",
       "      <td>руб</td>\n",
       "      <td>Электросталь, Строительный переулок, 10</td>\n",
       "    </tr>\n",
       "    <tr>\n",
       "      <th>3</th>\n",
       "      <td>3</td>\n",
       "      <td>1–3 года</td>\n",
       "      <td>Наша школа Футбола и спортивной психологии явл...</td>\n",
       "      <td>от 60 000 до 120 000 руб. на руки</td>\n",
       "      <td>[E-Mail Marketing, Стратегический маркетинг, А...</td>\n",
       "      <td>9</td>\n",
       "      <td>60000.0</td>\n",
       "      <td>120000.0</td>\n",
       "      <td>руб</td>\n",
       "      <td>Москва</td>\n",
       "    </tr>\n",
       "    <tr>\n",
       "      <th>4</th>\n",
       "      <td>4</td>\n",
       "      <td>более 6 лет</td>\n",
       "      <td>Мы - международная FinTech компания AMarkets. ...</td>\n",
       "      <td>от 10 000 USD на руки</td>\n",
       "      <td>[]</td>\n",
       "      <td>0</td>\n",
       "      <td>10000.0</td>\n",
       "      <td>0.0</td>\n",
       "      <td>USD</td>\n",
       "      <td>Москва</td>\n",
       "    </tr>\n",
       "    <tr>\n",
       "      <th>...</th>\n",
       "      <td>...</td>\n",
       "      <td>...</td>\n",
       "      <td>...</td>\n",
       "      <td>...</td>\n",
       "      <td>...</td>\n",
       "      <td>...</td>\n",
       "      <td>...</td>\n",
       "      <td>...</td>\n",
       "      <td>...</td>\n",
       "      <td>...</td>\n",
       "    </tr>\n",
       "    <tr>\n",
       "      <th>1704</th>\n",
       "      <td>1704</td>\n",
       "      <td>3–6 лет</td>\n",
       "      <td>Мы ищем человека с активной жизненной позицией...</td>\n",
       "      <td>от 60 000 до 100 000 руб. на руки</td>\n",
       "      <td>[B2B маркетинг, Анализ бизнес показателей, Ори...</td>\n",
       "      <td>11</td>\n",
       "      <td>60000.0</td>\n",
       "      <td>100000.0</td>\n",
       "      <td>руб</td>\n",
       "      <td>Пенза, Стрельбищенская улица, 60</td>\n",
       "    </tr>\n",
       "    <tr>\n",
       "      <th>1705</th>\n",
       "      <td>1705</td>\n",
       "      <td>3–6 лет</td>\n",
       "      <td>Российский торгово-производственный холдинг КО...</td>\n",
       "      <td>от 100 000 руб. на руки</td>\n",
       "      <td>[маркетплейсы, SEO оптимизация, Аналитическое ...</td>\n",
       "      <td>10</td>\n",
       "      <td>100000.0</td>\n",
       "      <td>0.0</td>\n",
       "      <td>руб</td>\n",
       "      <td>Москва, Ферганская улица, 8А</td>\n",
       "    </tr>\n",
       "    <tr>\n",
       "      <th>1706</th>\n",
       "      <td>1706</td>\n",
       "      <td>1–3 года</td>\n",
       "      <td>Привет!\\nМы рады приветствовать тебя на страни...</td>\n",
       "      <td>от 100 000 руб. на руки</td>\n",
       "      <td>[Управление персоналом, Работа в команде, Анал...</td>\n",
       "      <td>7</td>\n",
       "      <td>100000.0</td>\n",
       "      <td>0.0</td>\n",
       "      <td>руб</td>\n",
       "      <td>Москва</td>\n",
       "    </tr>\n",
       "    <tr>\n",
       "      <th>1707</th>\n",
       "      <td>1707</td>\n",
       "      <td>3–6 лет</td>\n",
       "      <td>«Погрызухин» - это корма и лакомства для собак...</td>\n",
       "      <td>от 100 000 руб. на руки</td>\n",
       "      <td>[Активные продажи, Управление продажами, Разви...</td>\n",
       "      <td>4</td>\n",
       "      <td>100000.0</td>\n",
       "      <td>0.0</td>\n",
       "      <td>руб</td>\n",
       "      <td>Красногорск, Ильинское шоссе, 1А</td>\n",
       "    </tr>\n",
       "    <tr>\n",
       "      <th>1708</th>\n",
       "      <td>1708</td>\n",
       "      <td>3–6 лет</td>\n",
       "      <td>Привет! Мы Семь Семян - онлайн супермаркет тов...</td>\n",
       "      <td>от 200 000 руб. на руки</td>\n",
       "      <td>[Медиапланирование, Интернет-реклама, Контекст...</td>\n",
       "      <td>5</td>\n",
       "      <td>200000.0</td>\n",
       "      <td>0.0</td>\n",
       "      <td>руб</td>\n",
       "      <td>Москва, Румянцево</td>\n",
       "    </tr>\n",
       "  </tbody>\n",
       "</table>\n",
       "<p>1709 rows × 10 columns</p>\n",
       "</div>"
      ],
      "text/plain": [
       "      index   experience                                        description  \\\n",
       "0         0     1–3 года  Привет наш будущий кандидат на должность марке...   \n",
       "1         1      3–6 лет  Привет! Мы Семь Семян - онлайн супермаркет тов...   \n",
       "2         2  более 6 лет  LEGRAND - производитель федерального уровня с ...   \n",
       "3         3     1–3 года  Наша школа Футбола и спортивной психологии явл...   \n",
       "4         4  более 6 лет  Мы - международная FinTech компания AMarkets. ...   \n",
       "...     ...          ...                                                ...   \n",
       "1704   1704      3–6 лет  Мы ищем человека с активной жизненной позицией...   \n",
       "1705   1705      3–6 лет  Российский торгово-производственный холдинг КО...   \n",
       "1706   1706     1–3 года  Привет!\\nМы рады приветствовать тебя на страни...   \n",
       "1707   1707      3–6 лет  «Погрызухин» - это корма и лакомства для собак...   \n",
       "1708   1708      3–6 лет  Привет! Мы Семь Семян - онлайн супермаркет тов...   \n",
       "\n",
       "                                  salary  \\\n",
       "0                от 120 000 руб. на руки   \n",
       "1                от 200 000 руб. на руки   \n",
       "2     от 200 000 до 400 000 руб. на руки   \n",
       "3      от 60 000 до 120 000 руб. на руки   \n",
       "4                  от 10 000 USD на руки   \n",
       "...                                  ...   \n",
       "1704   от 60 000 до 100 000 руб. на руки   \n",
       "1705             от 100 000 руб. на руки   \n",
       "1706             от 100 000 руб. на руки   \n",
       "1707             от 100 000 руб. на руки   \n",
       "1708             от 200 000 руб. на руки   \n",
       "\n",
       "                                              tags_list  tags_list_len  \\\n",
       "0     [SWOT анализ, Adobe Photoshop, Работа в команд...              5   \n",
       "1     [Медиапланирование, Интернет-реклама, Контекст...              5   \n",
       "2     [B2B маркетинг, unit-экономика, Запуск новых п...             12   \n",
       "3     [E-Mail Marketing, Стратегический маркетинг, А...              9   \n",
       "4                                                    []              0   \n",
       "...                                                 ...            ...   \n",
       "1704  [B2B маркетинг, Анализ бизнес показателей, Ори...             11   \n",
       "1705  [маркетплейсы, SEO оптимизация, Аналитическое ...             10   \n",
       "1706  [Управление персоналом, Работа в команде, Анал...              7   \n",
       "1707  [Активные продажи, Управление продажами, Разви...              4   \n",
       "1708  [Медиапланирование, Интернет-реклама, Контекст...              5   \n",
       "\n",
       "          from      upto currency  \\\n",
       "0     120000.0       0.0      руб   \n",
       "1     200000.0       0.0      руб   \n",
       "2     200000.0  400000.0      руб   \n",
       "3      60000.0  120000.0      руб   \n",
       "4      10000.0       0.0      USD   \n",
       "...        ...       ...      ...   \n",
       "1704   60000.0  100000.0      руб   \n",
       "1705  100000.0       0.0      руб   \n",
       "1706  100000.0       0.0      руб   \n",
       "1707  100000.0       0.0      руб   \n",
       "1708  200000.0       0.0      руб   \n",
       "\n",
       "                                          fulladress  \n",
       "0     Улица 1905 года, Москва, улица 1905 года, 10с1  \n",
       "1                                  Москва, Румянцево  \n",
       "2            Электросталь, Строительный переулок, 10  \n",
       "3                                             Москва  \n",
       "4                                             Москва  \n",
       "...                                              ...  \n",
       "1704                Пенза, Стрельбищенская улица, 60  \n",
       "1705                    Москва, Ферганская улица, 8А  \n",
       "1706                                          Москва  \n",
       "1707                Красногорск, Ильинское шоссе, 1А  \n",
       "1708                               Москва, Румянцево  \n",
       "\n",
       "[1709 rows x 10 columns]"
      ]
     },
     "execution_count": 131,
     "metadata": {},
     "output_type": "execute_result"
    }
   ],
   "source": [
    "data = data.rename(columns={\"Unnamed: 0\": \"index\"})\n",
    "resume_data = resume_data.rename(columns={\"Unnamed: 0\": \"index\"})\n",
    "data[\"fulladress\"] = data[\"city\"] + data[\"city2\"]\n",
    "data.drop(['city', 'city2'], axis= 1 , inplace= True )\n",
    "data"
   ]
  },
  {
   "cell_type": "code",
   "execution_count": 132,
   "metadata": {},
   "outputs": [
    {
     "data": {
      "text/html": [
       "<div>\n",
       "<style scoped>\n",
       "    .dataframe tbody tr th:only-of-type {\n",
       "        vertical-align: middle;\n",
       "    }\n",
       "\n",
       "    .dataframe tbody tr th {\n",
       "        vertical-align: top;\n",
       "    }\n",
       "\n",
       "    .dataframe thead th {\n",
       "        text-align: right;\n",
       "    }\n",
       "</style>\n",
       "<table border=\"1\" class=\"dataframe\">\n",
       "  <thead>\n",
       "    <tr style=\"text-align: right;\">\n",
       "      <th></th>\n",
       "      <th>index</th>\n",
       "      <th>experience</th>\n",
       "      <th>description</th>\n",
       "      <th>salary</th>\n",
       "      <th>tags_list</th>\n",
       "      <th>tags_list_len</th>\n",
       "      <th>from</th>\n",
       "      <th>upto</th>\n",
       "      <th>currency</th>\n",
       "      <th>fulladress</th>\n",
       "    </tr>\n",
       "  </thead>\n",
       "  <tbody>\n",
       "    <tr>\n",
       "      <th>0</th>\n",
       "      <td>0</td>\n",
       "      <td>1–3 года</td>\n",
       "      <td>Привет наш будущий кандидат на должность марке...</td>\n",
       "      <td>от 120 000 руб. на руки</td>\n",
       "      <td>[SWOT анализ, Adobe Photoshop, Работа в команд...</td>\n",
       "      <td>5</td>\n",
       "      <td>120000.0</td>\n",
       "      <td>0.0</td>\n",
       "      <td>руб</td>\n",
       "      <td>Улица 1905 года, Москва, улица 1905 года, 10с1</td>\n",
       "    </tr>\n",
       "    <tr>\n",
       "      <th>1</th>\n",
       "      <td>1</td>\n",
       "      <td>3–6 лет</td>\n",
       "      <td>Привет! Мы Семь Семян - онлайн супермаркет тов...</td>\n",
       "      <td>от 200 000 руб. на руки</td>\n",
       "      <td>[Медиапланирование, Интернет-реклама, Контекст...</td>\n",
       "      <td>5</td>\n",
       "      <td>200000.0</td>\n",
       "      <td>0.0</td>\n",
       "      <td>руб</td>\n",
       "      <td>Москва, Румянцево</td>\n",
       "    </tr>\n",
       "    <tr>\n",
       "      <th>2</th>\n",
       "      <td>2</td>\n",
       "      <td>более 6 лет</td>\n",
       "      <td>LEGRAND - производитель федерального уровня с ...</td>\n",
       "      <td>от 200 000 до 400 000 руб. на руки</td>\n",
       "      <td>[B2B маркетинг, unit-экономика, Запуск новых п...</td>\n",
       "      <td>12</td>\n",
       "      <td>200000.0</td>\n",
       "      <td>400000.0</td>\n",
       "      <td>руб</td>\n",
       "      <td>Электросталь, Строительный переулок, 10</td>\n",
       "    </tr>\n",
       "    <tr>\n",
       "      <th>3</th>\n",
       "      <td>3</td>\n",
       "      <td>1–3 года</td>\n",
       "      <td>Наша школа Футбола и спортивной психологии явл...</td>\n",
       "      <td>от 60 000 до 120 000 руб. на руки</td>\n",
       "      <td>[E-Mail Marketing, Стратегический маркетинг, А...</td>\n",
       "      <td>9</td>\n",
       "      <td>60000.0</td>\n",
       "      <td>120000.0</td>\n",
       "      <td>руб</td>\n",
       "      <td>Москва</td>\n",
       "    </tr>\n",
       "    <tr>\n",
       "      <th>4</th>\n",
       "      <td>4</td>\n",
       "      <td>более 6 лет</td>\n",
       "      <td>Мы - международная FinTech компания AMarkets. ...</td>\n",
       "      <td>от 10 000 USD на руки</td>\n",
       "      <td>[]</td>\n",
       "      <td>0</td>\n",
       "      <td>10000.0</td>\n",
       "      <td>0.0</td>\n",
       "      <td>USD</td>\n",
       "      <td>Москва</td>\n",
       "    </tr>\n",
       "  </tbody>\n",
       "</table>\n",
       "</div>"
      ],
      "text/plain": [
       "   index   experience                                        description  \\\n",
       "0      0     1–3 года  Привет наш будущий кандидат на должность марке...   \n",
       "1      1      3–6 лет  Привет! Мы Семь Семян - онлайн супермаркет тов...   \n",
       "2      2  более 6 лет  LEGRAND - производитель федерального уровня с ...   \n",
       "3      3     1–3 года  Наша школа Футбола и спортивной психологии явл...   \n",
       "4      4  более 6 лет  Мы - международная FinTech компания AMarkets. ...   \n",
       "\n",
       "                               salary  \\\n",
       "0             от 120 000 руб. на руки   \n",
       "1             от 200 000 руб. на руки   \n",
       "2  от 200 000 до 400 000 руб. на руки   \n",
       "3   от 60 000 до 120 000 руб. на руки   \n",
       "4               от 10 000 USD на руки   \n",
       "\n",
       "                                           tags_list  tags_list_len      from  \\\n",
       "0  [SWOT анализ, Adobe Photoshop, Работа в команд...              5  120000.0   \n",
       "1  [Медиапланирование, Интернет-реклама, Контекст...              5  200000.0   \n",
       "2  [B2B маркетинг, unit-экономика, Запуск новых п...             12  200000.0   \n",
       "3  [E-Mail Marketing, Стратегический маркетинг, А...              9   60000.0   \n",
       "4                                                 []              0   10000.0   \n",
       "\n",
       "       upto currency                                      fulladress  \n",
       "0       0.0      руб  Улица 1905 года, Москва, улица 1905 года, 10с1  \n",
       "1       0.0      руб                               Москва, Румянцево  \n",
       "2  400000.0      руб         Электросталь, Строительный переулок, 10  \n",
       "3  120000.0      руб                                          Москва  \n",
       "4       0.0      USD                                          Москва  "
      ]
     },
     "execution_count": 132,
     "metadata": {},
     "output_type": "execute_result"
    }
   ],
   "source": [
    "data.head(5)"
   ]
  },
  {
   "cell_type": "markdown",
   "metadata": {},
   "source": [
    "#### Рассмотрим from и upto\n",
    "Так как подавляющее количество данных с currency = руб. То рассмотрим для удобства только эти данные.\n",
    "Видим, что половина вакансий указывает зарплату от, вторая половина указывает точную зарплатную вилку. Есть аномально большие зарплаты, но они слишком малочисленны, можем предположить о нерентабельности таких данных."
   ]
  },
  {
   "cell_type": "code",
   "execution_count": 133,
   "metadata": {},
   "outputs": [
    {
     "data": {
      "text/html": [
       "<div>\n",
       "<style scoped>\n",
       "    .dataframe tbody tr th:only-of-type {\n",
       "        vertical-align: middle;\n",
       "    }\n",
       "\n",
       "    .dataframe tbody tr th {\n",
       "        vertical-align: top;\n",
       "    }\n",
       "\n",
       "    .dataframe thead th {\n",
       "        text-align: right;\n",
       "    }\n",
       "</style>\n",
       "<table border=\"1\" class=\"dataframe\">\n",
       "  <thead>\n",
       "    <tr style=\"text-align: right;\">\n",
       "      <th></th>\n",
       "      <th>upto</th>\n",
       "      <th>from</th>\n",
       "    </tr>\n",
       "  </thead>\n",
       "  <tbody>\n",
       "    <tr>\n",
       "      <th>count</th>\n",
       "      <td>813.000000</td>\n",
       "      <td>1672.000000</td>\n",
       "    </tr>\n",
       "    <tr>\n",
       "      <th>mean</th>\n",
       "      <td>161744.650677</td>\n",
       "      <td>113004.729665</td>\n",
       "    </tr>\n",
       "    <tr>\n",
       "      <th>std</th>\n",
       "      <td>110354.960137</td>\n",
       "      <td>72081.174962</td>\n",
       "    </tr>\n",
       "    <tr>\n",
       "      <th>min</th>\n",
       "      <td>1000.000000</td>\n",
       "      <td>1000.000000</td>\n",
       "    </tr>\n",
       "    <tr>\n",
       "      <th>25%</th>\n",
       "      <td>90000.000000</td>\n",
       "      <td>65000.000000</td>\n",
       "    </tr>\n",
       "    <tr>\n",
       "      <th>50%</th>\n",
       "      <td>140000.000000</td>\n",
       "      <td>100000.000000</td>\n",
       "    </tr>\n",
       "    <tr>\n",
       "      <th>75%</th>\n",
       "      <td>200000.000000</td>\n",
       "      <td>150000.000000</td>\n",
       "    </tr>\n",
       "    <tr>\n",
       "      <th>max</th>\n",
       "      <td>800000.000000</td>\n",
       "      <td>700000.000000</td>\n",
       "    </tr>\n",
       "  </tbody>\n",
       "</table>\n",
       "</div>"
      ],
      "text/plain": [
       "                upto           from\n",
       "count     813.000000    1672.000000\n",
       "mean   161744.650677  113004.729665\n",
       "std    110354.960137   72081.174962\n",
       "min      1000.000000    1000.000000\n",
       "25%     90000.000000   65000.000000\n",
       "50%    140000.000000  100000.000000\n",
       "75%    200000.000000  150000.000000\n",
       "max    800000.000000  700000.000000"
      ]
     },
     "execution_count": 133,
     "metadata": {},
     "output_type": "execute_result"
    }
   ],
   "source": [
    "df = data[data[\"currency\"]==\"руб\"]\n",
    "df_upto = df[\"upto\"][df[\"upto\"] != 0]\n",
    "df_from = df[\"from\"][df['from'] != 0]\n",
    "pd.concat([df_upto, df_from], axis=1).describe()"
   ]
  },
  {
   "cell_type": "markdown",
   "metadata": {},
   "source": [
    "Взглянем на распределение возрастов. Заодно проверим нет ли особо древних или несовершеннолетних соискателей"
   ]
  },
  {
   "cell_type": "code",
   "execution_count": 134,
   "metadata": {},
   "outputs": [],
   "source": [
    "resume_data[\"age\"] = [int(i[:2]) for i in resume_data[\"age\"]]"
   ]
  },
  {
   "cell_type": "code",
   "execution_count": 135,
   "metadata": {},
   "outputs": [
    {
     "name": "stdout",
     "output_type": "stream",
     "text": [
      "36.0 37 37.21307506053269\n"
     ]
    },
    {
     "data": {
      "application/vnd.plotly.v1+json": {
       "config": {
        "plotlyServerURL": "https://plot.ly"
       },
       "data": [
        {
         "name": "Возраст",
         "type": "bar",
         "x": [
          19,
          20,
          21,
          22,
          23,
          24,
          25,
          26,
          27,
          28,
          29,
          30,
          31,
          32,
          33,
          34,
          35,
          36,
          37,
          38,
          39,
          40,
          41,
          42,
          43,
          44,
          45,
          46,
          47,
          48,
          49,
          50,
          51,
          52,
          53,
          54,
          55,
          56,
          57,
          58,
          59,
          60,
          61,
          62,
          63,
          65,
          66,
          67,
          68,
          71
         ],
         "y": [
          1,
          2,
          6,
          5,
          9,
          24,
          57,
          50,
          80,
          82,
          103,
          116,
          157,
          171,
          193,
          210,
          209,
          184,
          211,
          166,
          165,
          155,
          124,
          120,
          97,
          104,
          102,
          62,
          65,
          51,
          36,
          31,
          32,
          25,
          25,
          14,
          15,
          4,
          7,
          6,
          7,
          3,
          6,
          1,
          3,
          1,
          3,
          1,
          1,
          2
         ]
        }
       ],
       "layout": {
        "annotations": [
         {
          "font": {
           "color": "grey",
           "size": 16
          },
          "showarrow": false,
          "text": "\n      Медиана: 36.0\n      Мода: 37\n      Среднее значение: 37.21\n      ",
          "x": 0.2,
          "xanchor": "left",
          "xref": "paper",
          "y": -0.2,
          "yanchor": "top",
          "yref": "paper"
         },
         {
          "font": {
           "color": "grey",
           "size": 16
          },
          "showarrow": false,
          "text": "\n      Медиана: 36.0\n      Мода: 37\n      Среднее значение: 37.21\n      ",
          "x": 0.2,
          "xanchor": "left",
          "xref": "paper",
          "y": -0.2,
          "yanchor": "top",
          "yref": "paper"
         },
         {
          "font": {
           "color": "grey",
           "size": 16
          },
          "showarrow": false,
          "text": "\n      Медиана: 36.0\n      Мода: 37\n      Среднее значение: 37.21\n      ",
          "x": 0.2,
          "xanchor": "left",
          "xref": "paper",
          "y": -0.2,
          "yanchor": "top",
          "yref": "paper"
         }
        ],
        "barcornerradius": 7,
        "shapes": [
         {
          "legendrank": 1,
          "line": {
           "color": "red"
          },
          "name": "Медиана",
          "showlegend": true,
          "type": "line",
          "x0": 36,
          "x1": 36,
          "xref": "x",
          "y0": 0,
          "y1": 1,
          "yref": "y domain"
         },
         {
          "legendrank": 1,
          "line": {
           "color": "purple"
          },
          "name": "Мода",
          "showlegend": true,
          "type": "line",
          "x0": 37,
          "x1": 37,
          "xref": "x",
          "y0": 0,
          "y1": 1,
          "yref": "y domain"
         },
         {
          "legendrank": 1,
          "line": {
           "color": "orange"
          },
          "name": "Среднее значение",
          "showlegend": true,
          "type": "line",
          "x0": 37.21307506053269,
          "x1": 37.21307506053269,
          "xref": "x",
          "y0": 0,
          "y1": 1,
          "yref": "y domain"
         },
         {
          "legendrank": 1,
          "line": {
           "color": "black",
           "dash": "dash"
          },
          "name": "Q1",
          "showlegend": true,
          "type": "line",
          "x0": 32,
          "x1": 32,
          "xref": "x",
          "y0": 0,
          "y1": 1,
          "yref": "y domain"
         },
         {
          "legendrank": 1,
          "line": {
           "color": "black",
           "dash": "dash"
          },
          "name": "Q2",
          "showlegend": true,
          "type": "line",
          "x0": 36,
          "x1": 36,
          "xref": "x",
          "y0": 0,
          "y1": 1,
          "yref": "y domain"
         },
         {
          "legendrank": 1,
          "line": {
           "color": "black",
           "dash": "dash"
          },
          "name": "Q3",
          "showlegend": true,
          "type": "line",
          "x0": 41,
          "x1": 41,
          "xref": "x",
          "y0": 0,
          "y1": 1,
          "yref": "y domain"
         }
        ],
        "template": {
         "data": {
          "bar": [
           {
            "error_x": {
             "color": "#2a3f5f"
            },
            "error_y": {
             "color": "#2a3f5f"
            },
            "marker": {
             "line": {
              "color": "#E5ECF6",
              "width": 0.5
             },
             "pattern": {
              "fillmode": "overlay",
              "size": 10,
              "solidity": 0.2
             }
            },
            "type": "bar"
           }
          ],
          "barpolar": [
           {
            "marker": {
             "line": {
              "color": "#E5ECF6",
              "width": 0.5
             },
             "pattern": {
              "fillmode": "overlay",
              "size": 10,
              "solidity": 0.2
             }
            },
            "type": "barpolar"
           }
          ],
          "carpet": [
           {
            "aaxis": {
             "endlinecolor": "#2a3f5f",
             "gridcolor": "white",
             "linecolor": "white",
             "minorgridcolor": "white",
             "startlinecolor": "#2a3f5f"
            },
            "baxis": {
             "endlinecolor": "#2a3f5f",
             "gridcolor": "white",
             "linecolor": "white",
             "minorgridcolor": "white",
             "startlinecolor": "#2a3f5f"
            },
            "type": "carpet"
           }
          ],
          "choropleth": [
           {
            "colorbar": {
             "outlinewidth": 0,
             "ticks": ""
            },
            "type": "choropleth"
           }
          ],
          "contour": [
           {
            "colorbar": {
             "outlinewidth": 0,
             "ticks": ""
            },
            "colorscale": [
             [
              0,
              "#0d0887"
             ],
             [
              0.1111111111111111,
              "#46039f"
             ],
             [
              0.2222222222222222,
              "#7201a8"
             ],
             [
              0.3333333333333333,
              "#9c179e"
             ],
             [
              0.4444444444444444,
              "#bd3786"
             ],
             [
              0.5555555555555556,
              "#d8576b"
             ],
             [
              0.6666666666666666,
              "#ed7953"
             ],
             [
              0.7777777777777778,
              "#fb9f3a"
             ],
             [
              0.8888888888888888,
              "#fdca26"
             ],
             [
              1,
              "#f0f921"
             ]
            ],
            "type": "contour"
           }
          ],
          "contourcarpet": [
           {
            "colorbar": {
             "outlinewidth": 0,
             "ticks": ""
            },
            "type": "contourcarpet"
           }
          ],
          "heatmap": [
           {
            "colorbar": {
             "outlinewidth": 0,
             "ticks": ""
            },
            "colorscale": [
             [
              0,
              "#0d0887"
             ],
             [
              0.1111111111111111,
              "#46039f"
             ],
             [
              0.2222222222222222,
              "#7201a8"
             ],
             [
              0.3333333333333333,
              "#9c179e"
             ],
             [
              0.4444444444444444,
              "#bd3786"
             ],
             [
              0.5555555555555556,
              "#d8576b"
             ],
             [
              0.6666666666666666,
              "#ed7953"
             ],
             [
              0.7777777777777778,
              "#fb9f3a"
             ],
             [
              0.8888888888888888,
              "#fdca26"
             ],
             [
              1,
              "#f0f921"
             ]
            ],
            "type": "heatmap"
           }
          ],
          "heatmapgl": [
           {
            "colorbar": {
             "outlinewidth": 0,
             "ticks": ""
            },
            "colorscale": [
             [
              0,
              "#0d0887"
             ],
             [
              0.1111111111111111,
              "#46039f"
             ],
             [
              0.2222222222222222,
              "#7201a8"
             ],
             [
              0.3333333333333333,
              "#9c179e"
             ],
             [
              0.4444444444444444,
              "#bd3786"
             ],
             [
              0.5555555555555556,
              "#d8576b"
             ],
             [
              0.6666666666666666,
              "#ed7953"
             ],
             [
              0.7777777777777778,
              "#fb9f3a"
             ],
             [
              0.8888888888888888,
              "#fdca26"
             ],
             [
              1,
              "#f0f921"
             ]
            ],
            "type": "heatmapgl"
           }
          ],
          "histogram": [
           {
            "marker": {
             "pattern": {
              "fillmode": "overlay",
              "size": 10,
              "solidity": 0.2
             }
            },
            "type": "histogram"
           }
          ],
          "histogram2d": [
           {
            "colorbar": {
             "outlinewidth": 0,
             "ticks": ""
            },
            "colorscale": [
             [
              0,
              "#0d0887"
             ],
             [
              0.1111111111111111,
              "#46039f"
             ],
             [
              0.2222222222222222,
              "#7201a8"
             ],
             [
              0.3333333333333333,
              "#9c179e"
             ],
             [
              0.4444444444444444,
              "#bd3786"
             ],
             [
              0.5555555555555556,
              "#d8576b"
             ],
             [
              0.6666666666666666,
              "#ed7953"
             ],
             [
              0.7777777777777778,
              "#fb9f3a"
             ],
             [
              0.8888888888888888,
              "#fdca26"
             ],
             [
              1,
              "#f0f921"
             ]
            ],
            "type": "histogram2d"
           }
          ],
          "histogram2dcontour": [
           {
            "colorbar": {
             "outlinewidth": 0,
             "ticks": ""
            },
            "colorscale": [
             [
              0,
              "#0d0887"
             ],
             [
              0.1111111111111111,
              "#46039f"
             ],
             [
              0.2222222222222222,
              "#7201a8"
             ],
             [
              0.3333333333333333,
              "#9c179e"
             ],
             [
              0.4444444444444444,
              "#bd3786"
             ],
             [
              0.5555555555555556,
              "#d8576b"
             ],
             [
              0.6666666666666666,
              "#ed7953"
             ],
             [
              0.7777777777777778,
              "#fb9f3a"
             ],
             [
              0.8888888888888888,
              "#fdca26"
             ],
             [
              1,
              "#f0f921"
             ]
            ],
            "type": "histogram2dcontour"
           }
          ],
          "mesh3d": [
           {
            "colorbar": {
             "outlinewidth": 0,
             "ticks": ""
            },
            "type": "mesh3d"
           }
          ],
          "parcoords": [
           {
            "line": {
             "colorbar": {
              "outlinewidth": 0,
              "ticks": ""
             }
            },
            "type": "parcoords"
           }
          ],
          "pie": [
           {
            "automargin": true,
            "type": "pie"
           }
          ],
          "scatter": [
           {
            "fillpattern": {
             "fillmode": "overlay",
             "size": 10,
             "solidity": 0.2
            },
            "type": "scatter"
           }
          ],
          "scatter3d": [
           {
            "line": {
             "colorbar": {
              "outlinewidth": 0,
              "ticks": ""
             }
            },
            "marker": {
             "colorbar": {
              "outlinewidth": 0,
              "ticks": ""
             }
            },
            "type": "scatter3d"
           }
          ],
          "scattercarpet": [
           {
            "marker": {
             "colorbar": {
              "outlinewidth": 0,
              "ticks": ""
             }
            },
            "type": "scattercarpet"
           }
          ],
          "scattergeo": [
           {
            "marker": {
             "colorbar": {
              "outlinewidth": 0,
              "ticks": ""
             }
            },
            "type": "scattergeo"
           }
          ],
          "scattergl": [
           {
            "marker": {
             "colorbar": {
              "outlinewidth": 0,
              "ticks": ""
             }
            },
            "type": "scattergl"
           }
          ],
          "scattermapbox": [
           {
            "marker": {
             "colorbar": {
              "outlinewidth": 0,
              "ticks": ""
             }
            },
            "type": "scattermapbox"
           }
          ],
          "scatterpolar": [
           {
            "marker": {
             "colorbar": {
              "outlinewidth": 0,
              "ticks": ""
             }
            },
            "type": "scatterpolar"
           }
          ],
          "scatterpolargl": [
           {
            "marker": {
             "colorbar": {
              "outlinewidth": 0,
              "ticks": ""
             }
            },
            "type": "scatterpolargl"
           }
          ],
          "scatterternary": [
           {
            "marker": {
             "colorbar": {
              "outlinewidth": 0,
              "ticks": ""
             }
            },
            "type": "scatterternary"
           }
          ],
          "surface": [
           {
            "colorbar": {
             "outlinewidth": 0,
             "ticks": ""
            },
            "colorscale": [
             [
              0,
              "#0d0887"
             ],
             [
              0.1111111111111111,
              "#46039f"
             ],
             [
              0.2222222222222222,
              "#7201a8"
             ],
             [
              0.3333333333333333,
              "#9c179e"
             ],
             [
              0.4444444444444444,
              "#bd3786"
             ],
             [
              0.5555555555555556,
              "#d8576b"
             ],
             [
              0.6666666666666666,
              "#ed7953"
             ],
             [
              0.7777777777777778,
              "#fb9f3a"
             ],
             [
              0.8888888888888888,
              "#fdca26"
             ],
             [
              1,
              "#f0f921"
             ]
            ],
            "type": "surface"
           }
          ],
          "table": [
           {
            "cells": {
             "fill": {
              "color": "#EBF0F8"
             },
             "line": {
              "color": "white"
             }
            },
            "header": {
             "fill": {
              "color": "#C8D4E3"
             },
             "line": {
              "color": "white"
             }
            },
            "type": "table"
           }
          ]
         },
         "layout": {
          "annotationdefaults": {
           "arrowcolor": "#2a3f5f",
           "arrowhead": 0,
           "arrowwidth": 1
          },
          "autotypenumbers": "strict",
          "coloraxis": {
           "colorbar": {
            "outlinewidth": 0,
            "ticks": ""
           }
          },
          "colorscale": {
           "diverging": [
            [
             0,
             "#8e0152"
            ],
            [
             0.1,
             "#c51b7d"
            ],
            [
             0.2,
             "#de77ae"
            ],
            [
             0.3,
             "#f1b6da"
            ],
            [
             0.4,
             "#fde0ef"
            ],
            [
             0.5,
             "#f7f7f7"
            ],
            [
             0.6,
             "#e6f5d0"
            ],
            [
             0.7,
             "#b8e186"
            ],
            [
             0.8,
             "#7fbc41"
            ],
            [
             0.9,
             "#4d9221"
            ],
            [
             1,
             "#276419"
            ]
           ],
           "sequential": [
            [
             0,
             "#0d0887"
            ],
            [
             0.1111111111111111,
             "#46039f"
            ],
            [
             0.2222222222222222,
             "#7201a8"
            ],
            [
             0.3333333333333333,
             "#9c179e"
            ],
            [
             0.4444444444444444,
             "#bd3786"
            ],
            [
             0.5555555555555556,
             "#d8576b"
            ],
            [
             0.6666666666666666,
             "#ed7953"
            ],
            [
             0.7777777777777778,
             "#fb9f3a"
            ],
            [
             0.8888888888888888,
             "#fdca26"
            ],
            [
             1,
             "#f0f921"
            ]
           ],
           "sequentialminus": [
            [
             0,
             "#0d0887"
            ],
            [
             0.1111111111111111,
             "#46039f"
            ],
            [
             0.2222222222222222,
             "#7201a8"
            ],
            [
             0.3333333333333333,
             "#9c179e"
            ],
            [
             0.4444444444444444,
             "#bd3786"
            ],
            [
             0.5555555555555556,
             "#d8576b"
            ],
            [
             0.6666666666666666,
             "#ed7953"
            ],
            [
             0.7777777777777778,
             "#fb9f3a"
            ],
            [
             0.8888888888888888,
             "#fdca26"
            ],
            [
             1,
             "#f0f921"
            ]
           ]
          },
          "colorway": [
           "#636efa",
           "#EF553B",
           "#00cc96",
           "#ab63fa",
           "#FFA15A",
           "#19d3f3",
           "#FF6692",
           "#B6E880",
           "#FF97FF",
           "#FECB52"
          ],
          "font": {
           "color": "#2a3f5f"
          },
          "geo": {
           "bgcolor": "white",
           "lakecolor": "white",
           "landcolor": "#E5ECF6",
           "showlakes": true,
           "showland": true,
           "subunitcolor": "white"
          },
          "hoverlabel": {
           "align": "left"
          },
          "hovermode": "closest",
          "mapbox": {
           "style": "light"
          },
          "paper_bgcolor": "white",
          "plot_bgcolor": "#E5ECF6",
          "polar": {
           "angularaxis": {
            "gridcolor": "white",
            "linecolor": "white",
            "ticks": ""
           },
           "bgcolor": "#E5ECF6",
           "radialaxis": {
            "gridcolor": "white",
            "linecolor": "white",
            "ticks": ""
           }
          },
          "scene": {
           "xaxis": {
            "backgroundcolor": "#E5ECF6",
            "gridcolor": "white",
            "gridwidth": 2,
            "linecolor": "white",
            "showbackground": true,
            "ticks": "",
            "zerolinecolor": "white"
           },
           "yaxis": {
            "backgroundcolor": "#E5ECF6",
            "gridcolor": "white",
            "gridwidth": 2,
            "linecolor": "white",
            "showbackground": true,
            "ticks": "",
            "zerolinecolor": "white"
           },
           "zaxis": {
            "backgroundcolor": "#E5ECF6",
            "gridcolor": "white",
            "gridwidth": 2,
            "linecolor": "white",
            "showbackground": true,
            "ticks": "",
            "zerolinecolor": "white"
           }
          },
          "shapedefaults": {
           "line": {
            "color": "#2a3f5f"
           }
          },
          "ternary": {
           "aaxis": {
            "gridcolor": "white",
            "linecolor": "white",
            "ticks": ""
           },
           "baxis": {
            "gridcolor": "white",
            "linecolor": "white",
            "ticks": ""
           },
           "bgcolor": "#E5ECF6",
           "caxis": {
            "gridcolor": "white",
            "linecolor": "white",
            "ticks": ""
           }
          },
          "title": {
           "x": 0.05
          },
          "xaxis": {
           "automargin": true,
           "gridcolor": "white",
           "linecolor": "white",
           "ticks": "",
           "title": {
            "standoff": 15
           },
           "zerolinecolor": "white",
           "zerolinewidth": 2
          },
          "yaxis": {
           "automargin": true,
           "gridcolor": "white",
           "linecolor": "white",
           "ticks": "",
           "title": {
            "standoff": 15
           },
           "zerolinecolor": "white",
           "zerolinewidth": 2
          }
         }
        },
        "title": {
         "text": "Распределение возрастов"
        },
        "xaxis": {
         "title": {
          "text": "Возраст"
         }
        },
        "yaxis": {
         "title": {
          "text": "Количество соискателей"
         }
        }
       }
      }
     },
     "metadata": {},
     "output_type": "display_data"
    }
   ],
   "source": [
    "df = resume_data[\"age\"].groupby(resume_data[\"age\"]).count()\n",
    "median = resume_data[\"age\"].median()\n",
    "moda = resume_data[\"age\"].mode()\n",
    "mean = resume_data[\"age\"].mean()\n",
    "print(median, moda[0], mean)\n",
    "\n",
    "fig = go.Figure(layout=dict(barcornerradius=7,))\n",
    "quartiles = resume_data[\"age\"].quantile([0.25, 0.5, 0.75])\n",
    "fig.add_trace(go.Bar(name=\"Возраст\", x=df.index, y=df.values))\n",
    "fig.add_vline(name=\"Медиана\", legendrank=1, showlegend=True, x=median, line_color=\"red\")\n",
    "fig.add_vline(name=\"Мода\", legendrank=1, showlegend=True,x=moda[0], line_color=\"purple\")\n",
    "fig.add_vline(name=\"Среднее значение\", legendrank=1, showlegend=True,x=mean, line_color=\"orange\")\n",
    "\n",
    "fig.add_vline(name=\"Q1\", legendrank=1, showlegend=True,x=quartiles[0.25], line_dash=\"dash\", line_color=\"black\", annotation_text=\"Q1\")\n",
    "fig.add_vline(name=\"Q2\", legendrank=1, showlegend=True,x=quartiles[0.5], line_dash=\"dash\", line_color=\"black\", annotation_text=\"Q2\")\n",
    "fig.add_vline(name=\"Q3\", legendrank=1, showlegend=True,x=quartiles[0.75], line_dash=\"dash\", line_color=\"black\", annotation_text=\"Q3\")\n",
    "\n",
    "fig.update_layout(\n",
    "    title_text=\"Распределение возрастов\",\n",
    "    xaxis_title=\"Возраст\",\n",
    "    yaxis_title=\"Количество соискателей\",\n",
    "    annotations=[\n",
    "        dict(\n",
    "            xref=\"paper\",\n",
    "            yref=\"paper\",\n",
    "            x=.2,\n",
    "            y=-.2,\n",
    "            showarrow=False,\n",
    "            text=f\"\"\"\n",
    "      Медиана: {int(median*100)/100}\n",
    "      Мода: {moda[0]}\n",
    "      Среднее значение: {int(mean*100)/100}\n",
    "      \"\"\",\n",
    "            font=dict(size=16, color=\"grey\"),\n",
    "        )\n",
    "    ])\n",
    "fig.show()"
   ]
  },
  {
   "cell_type": "code",
   "execution_count": 136,
   "metadata": {},
   "outputs": [
    {
     "data": {
      "text/plain": [
       "np.int64(1945)"
      ]
     },
     "execution_count": 136,
     "metadata": {},
     "output_type": "execute_result"
    }
   ],
   "source": [
    "resume_data[\"age\"][resume_data[\"age\"].between(31,41)].count()"
   ]
  },
  {
   "cell_type": "markdown",
   "metadata": {},
   "source": [
    "Резюме:\n",
    "Аномалии, которые мы подозревали ранее отсутствуют.\n",
    "Видим, что 2 и 3 квартили состоят из людей от 31 до 41 года (1945 человек).\n",
    "Данные начиная с 55 лет малочисленны"
   ]
  },
  {
   "cell_type": "markdown",
   "metadata": {},
   "source": [
    "В столце gender присутствуеют слова на 2 языках. Переведем с английского на русский."
   ]
  },
  {
   "cell_type": "code",
   "execution_count": 137,
   "metadata": {},
   "outputs": [
    {
     "data": {
      "text/plain": [
       "array(['Мужчина', 'Женщина', 'Пол не указан'], dtype=object)"
      ]
     },
     "execution_count": 137,
     "metadata": {},
     "output_type": "execute_result"
    }
   ],
   "source": [
    "resume_data[\"gender\"] = [i.replace(\"Female\", \"Женщина\") for i in resume_data[\"gender\"]]\n",
    "resume_data[\"gender\"] = [i.replace(\"Male\", \"Мужчина\") for i in resume_data[\"gender\"]]\n",
    "resume_data[\"gender\"].unique()"
   ]
  },
  {
   "cell_type": "markdown",
   "metadata": {},
   "source": [
    "#### Resume_data. Создаем currency"
   ]
  },
  {
   "cell_type": "code",
   "execution_count": 138,
   "metadata": {},
   "outputs": [
    {
     "data": {
      "text/html": [
       "<div>\n",
       "<style scoped>\n",
       "    .dataframe tbody tr th:only-of-type {\n",
       "        vertical-align: middle;\n",
       "    }\n",
       "\n",
       "    .dataframe tbody tr th {\n",
       "        vertical-align: top;\n",
       "    }\n",
       "\n",
       "    .dataframe thead th {\n",
       "        text-align: right;\n",
       "    }\n",
       "</style>\n",
       "<table border=\"1\" class=\"dataframe\">\n",
       "  <thead>\n",
       "    <tr style=\"text-align: right;\">\n",
       "      <th></th>\n",
       "      <th>index</th>\n",
       "      <th>title</th>\n",
       "      <th>salary</th>\n",
       "      <th>experience</th>\n",
       "      <th>gender</th>\n",
       "      <th>age</th>\n",
       "      <th>city</th>\n",
       "      <th>tags_list</th>\n",
       "      <th>tags_list_len</th>\n",
       "      <th>skills-content</th>\n",
       "      <th>language</th>\n",
       "      <th>work_text</th>\n",
       "      <th>specialization</th>\n",
       "      <th>currency</th>\n",
       "    </tr>\n",
       "  </thead>\n",
       "  <tbody>\n",
       "    <tr>\n",
       "      <th>2874</th>\n",
       "      <td>2874</td>\n",
       "      <td>Коммерческий директор</td>\n",
       "      <td>400 000 руб.</td>\n",
       "      <td>Опыт работы 22 года 8 месяцев</td>\n",
       "      <td>Женщина</td>\n",
       "      <td>43</td>\n",
       "      <td>Москва</td>\n",
       "      <td>['Продвижение бренда', 'Стратегический маркети...</td>\n",
       "      <td>10</td>\n",
       "      <td>Опыт работы с ПК: Уверенный пользователь - Win...</td>\n",
       "      <td>['Русский — Родной', 'Английский — C2 — В сове...</td>\n",
       "      <td>Баркли\\nМосква, barkli.ru\\nСтроительство, недв...</td>\n",
       "      <td>Специализации:\\nКоммерческий директор (CCO)</td>\n",
       "      <td>RUB</td>\n",
       "    </tr>\n",
       "  </tbody>\n",
       "</table>\n",
       "</div>"
      ],
      "text/plain": [
       "      index                  title        salary  \\\n",
       "2874   2874  Коммерческий директор  400 000 руб.   \n",
       "\n",
       "                         experience   gender  age    city  \\\n",
       "2874  Опыт работы 22 года 8 месяцев  Женщина   43  Москва   \n",
       "\n",
       "                                              tags_list  tags_list_len  \\\n",
       "2874  ['Продвижение бренда', 'Стратегический маркети...             10   \n",
       "\n",
       "                                         skills-content  \\\n",
       "2874  Опыт работы с ПК: Уверенный пользователь - Win...   \n",
       "\n",
       "                                               language  \\\n",
       "2874  ['Русский — Родной', 'Английский — C2 — В сове...   \n",
       "\n",
       "                                              work_text  \\\n",
       "2874  Баркли\\nМосква, barkli.ru\\nСтроительство, недв...   \n",
       "\n",
       "                                   specialization currency  \n",
       "2874  Специализации:\\nКоммерческий директор (CCO)      RUB  "
      ]
     },
     "execution_count": 138,
     "metadata": {},
     "output_type": "execute_result"
    }
   ],
   "source": [
    "curr = []\n",
    "for i in resume_data[\"salary\"]:\n",
    "    temp = re.findall(r'руб|USD|EUR|RUB|KZT', i)\n",
    "    curr.append(temp[0])\n",
    "resume_data[\"currency\"] = curr\n",
    "resume_data[\"currency\"] = [i.replace(\"руб\", \"RUB\") for i in resume_data[\"currency\"]]\n",
    "resume_data.sample()"
   ]
  },
  {
   "cell_type": "markdown",
   "metadata": {},
   "source": [
    "#### Resume_data. Переопределим salary "
   ]
  },
  {
   "cell_type": "code",
   "execution_count": 139,
   "metadata": {},
   "outputs": [],
   "source": [
    "resume_data[\"salary\"] = [int(i.replace('\\u2009', '').split()[0]) for i in resume_data[\"salary\"] ]"
   ]
  },
  {
   "cell_type": "code",
   "execution_count": 140,
   "metadata": {},
   "outputs": [
    {
     "data": {
      "text/html": [
       "<div>\n",
       "<style scoped>\n",
       "    .dataframe tbody tr th:only-of-type {\n",
       "        vertical-align: middle;\n",
       "    }\n",
       "\n",
       "    .dataframe tbody tr th {\n",
       "        vertical-align: top;\n",
       "    }\n",
       "\n",
       "    .dataframe thead th {\n",
       "        text-align: right;\n",
       "    }\n",
       "</style>\n",
       "<table border=\"1\" class=\"dataframe\">\n",
       "  <thead>\n",
       "    <tr style=\"text-align: right;\">\n",
       "      <th></th>\n",
       "      <th>index</th>\n",
       "      <th>title</th>\n",
       "      <th>salary</th>\n",
       "      <th>experience</th>\n",
       "      <th>gender</th>\n",
       "      <th>age</th>\n",
       "      <th>city</th>\n",
       "      <th>tags_list</th>\n",
       "      <th>tags_list_len</th>\n",
       "      <th>skills-content</th>\n",
       "      <th>language</th>\n",
       "      <th>work_text</th>\n",
       "      <th>specialization</th>\n",
       "      <th>currency</th>\n",
       "    </tr>\n",
       "  </thead>\n",
       "  <tbody>\n",
       "    <tr>\n",
       "      <th>2643</th>\n",
       "      <td>2643</td>\n",
       "      <td>Руководитель отдела рекламы и PR</td>\n",
       "      <td>100000000</td>\n",
       "      <td>Обо мне</td>\n",
       "      <td>Женщина</td>\n",
       "      <td>21</td>\n",
       "      <td>Москва</td>\n",
       "      <td>[]</td>\n",
       "      <td>0</td>\n",
       "      <td>В последнее время нахожусь в поисках работы.\\nУ</td>\n",
       "      <td>['Русский — Родной', 'Английский — C1 — Продви...</td>\n",
       "      <td>NaN</td>\n",
       "      <td>Специализации:\\nРуководитель отдела маркетинга...</td>\n",
       "      <td>RUB</td>\n",
       "    </tr>\n",
       "    <tr>\n",
       "      <th>3041</th>\n",
       "      <td>3041</td>\n",
       "      <td>Инвестор в интернет-магазин женских аксессуаро...</td>\n",
       "      <td>30000000</td>\n",
       "      <td>Опыт работы 16 лет 10 месяцев</td>\n",
       "      <td>Женщина</td>\n",
       "      <td>39</td>\n",
       "      <td>Москва</td>\n",
       "      <td>['Управленческий учет', 'Бюджетирование', 'Опт...</td>\n",
       "      <td>17</td>\n",
       "      <td>Семейное положение: не замужем, детей нет\\n\\nХ...</td>\n",
       "      <td>['Русский — Родной', 'Английский — C1 — Продви...</td>\n",
       "      <td>Sorrisi\\nМосква, www.sorrisimilano.com\\nРуково...</td>\n",
       "      <td>Специализации:\\nДиректор по информационным тех...</td>\n",
       "      <td>RUB</td>\n",
       "    </tr>\n",
       "  </tbody>\n",
       "</table>\n",
       "</div>"
      ],
      "text/plain": [
       "      index                                              title     salary  \\\n",
       "2643   2643                   Руководитель отдела рекламы и PR  100000000   \n",
       "3041   3041  Инвестор в интернет-магазин женских аксессуаро...   30000000   \n",
       "\n",
       "                         experience   gender  age    city  \\\n",
       "2643                        Обо мне  Женщина   21  Москва   \n",
       "3041  Опыт работы 16 лет 10 месяцев  Женщина   39  Москва   \n",
       "\n",
       "                                              tags_list  tags_list_len  \\\n",
       "2643                                                 []              0   \n",
       "3041  ['Управленческий учет', 'Бюджетирование', 'Опт...             17   \n",
       "\n",
       "                                         skills-content  \\\n",
       "2643    В последнее время нахожусь в поисках работы.\\nУ   \n",
       "3041  Семейное положение: не замужем, детей нет\\n\\nХ...   \n",
       "\n",
       "                                               language  \\\n",
       "2643  ['Русский — Родной', 'Английский — C1 — Продви...   \n",
       "3041  ['Русский — Родной', 'Английский — C1 — Продви...   \n",
       "\n",
       "                                              work_text  \\\n",
       "2643                                                NaN   \n",
       "3041  Sorrisi\\nМосква, www.sorrisimilano.com\\nРуково...   \n",
       "\n",
       "                                         specialization currency  \n",
       "2643  Специализации:\\nРуководитель отдела маркетинга...      RUB  \n",
       "3041  Специализации:\\nДиректор по информационным тех...      RUB  "
      ]
     },
     "execution_count": 140,
     "metadata": {},
     "output_type": "execute_result"
    }
   ],
   "source": [
    "resume_data.loc[resume_data[\"salary\"] > 10_000_000]"
   ]
  },
  {
   "cell_type": "code",
   "execution_count": 141,
   "metadata": {},
   "outputs": [
    {
     "data": {
      "text/plain": [
       "count    3.079000e+03\n",
       "mean     2.962682e+05\n",
       "std      1.885941e+06\n",
       "min      8.000000e+04\n",
       "25%      1.200000e+05\n",
       "50%      1.800000e+05\n",
       "75%      3.500000e+05\n",
       "max      1.000000e+08\n",
       "Name: salary, dtype: float64"
      ]
     },
     "execution_count": 141,
     "metadata": {},
     "output_type": "execute_result"
    }
   ],
   "source": [
    "df = resume_data[resume_data[\"currency\"]==\"RUB\"]\n",
    "df = df.loc[df[\"salary\"] > 0]\n",
    "df[\"salary\"].describe()"
   ]
  },
  {
   "cell_type": "markdown",
   "metadata": {},
   "source": [
    "Видим вакансии с зарплатами около 100 млн. рублей без опыта и навыков🤡\n",
    "Смело удаляем такие вакансии из resume_data"
   ]
  },
  {
   "cell_type": "code",
   "execution_count": 142,
   "metadata": {},
   "outputs": [],
   "source": [
    "resume_data = resume_data.loc[resume_data[\"salary\"] <= 5_000_000]"
   ]
  },
  {
   "cell_type": "markdown",
   "metadata": {},
   "source": [
    "Для удобства работы с experience, переведем года и месяцы опыта работы в число месяцев работы"
   ]
  },
  {
   "cell_type": "code",
   "execution_count": 143,
   "metadata": {},
   "outputs": [
    {
     "data": {
      "text/html": [
       "<div>\n",
       "<style scoped>\n",
       "    .dataframe tbody tr th:only-of-type {\n",
       "        vertical-align: middle;\n",
       "    }\n",
       "\n",
       "    .dataframe tbody tr th {\n",
       "        vertical-align: top;\n",
       "    }\n",
       "\n",
       "    .dataframe thead th {\n",
       "        text-align: right;\n",
       "    }\n",
       "</style>\n",
       "<table border=\"1\" class=\"dataframe\">\n",
       "  <thead>\n",
       "    <tr style=\"text-align: right;\">\n",
       "      <th></th>\n",
       "      <th>index</th>\n",
       "      <th>title</th>\n",
       "      <th>salary</th>\n",
       "      <th>experience</th>\n",
       "      <th>gender</th>\n",
       "      <th>age</th>\n",
       "      <th>city</th>\n",
       "      <th>tags_list</th>\n",
       "      <th>tags_list_len</th>\n",
       "      <th>skills-content</th>\n",
       "      <th>language</th>\n",
       "      <th>work_text</th>\n",
       "      <th>specialization</th>\n",
       "      <th>currency</th>\n",
       "    </tr>\n",
       "  </thead>\n",
       "  <tbody>\n",
       "    <tr>\n",
       "      <th>605</th>\n",
       "      <td>605</td>\n",
       "      <td>Директор по интернет-маркетингу</td>\n",
       "      <td>150000</td>\n",
       "      <td>181</td>\n",
       "      <td>Женщина</td>\n",
       "      <td>34</td>\n",
       "      <td>Санкт-Петербург</td>\n",
       "      <td>['SEO', 'SEO оптимизация', 'SEO-копирайтинг', ...</td>\n",
       "      <td>27</td>\n",
       "      <td>Только белая з/п!\\nДополнительная информация:\\...</td>\n",
       "      <td>['Русский — Родной', 'Английский — B1 — Средни...</td>\n",
       "      <td>ООО Инпромконсалт\\nСанкт-Петербург\\nИнформацио...</td>\n",
       "      <td>Специализации:\\nДиректор по маркетингу и PR (C...</td>\n",
       "      <td>RUB</td>\n",
       "    </tr>\n",
       "  </tbody>\n",
       "</table>\n",
       "</div>"
      ],
      "text/plain": [
       "     index                            title  salary  experience   gender  age  \\\n",
       "605    605  Директор по интернет-маркетингу  150000         181  Женщина   34   \n",
       "\n",
       "                city                                          tags_list  \\\n",
       "605  Санкт-Петербург  ['SEO', 'SEO оптимизация', 'SEO-копирайтинг', ...   \n",
       "\n",
       "     tags_list_len                                     skills-content  \\\n",
       "605             27  Только белая з/п!\\nДополнительная информация:\\...   \n",
       "\n",
       "                                              language  \\\n",
       "605  ['Русский — Родной', 'Английский — B1 — Средни...   \n",
       "\n",
       "                                             work_text  \\\n",
       "605  ООО Инпромконсалт\\nСанкт-Петербург\\nИнформацио...   \n",
       "\n",
       "                                        specialization currency  \n",
       "605  Специализации:\\nДиректор по маркетингу и PR (C...      RUB  "
      ]
     },
     "execution_count": 143,
     "metadata": {},
     "output_type": "execute_result"
    }
   ],
   "source": [
    "curr = []\n",
    "for i in resume_data[\"experience\"]:\n",
    "    temp= re.findall(r'\\d+', i)\n",
    "    temp = [int(i) for i in temp]\n",
    "    if temp == []:\n",
    "        temp.append(0)\n",
    "    temp[0] *= 12\n",
    "    curr.append(sum(temp))\n",
    "resume_data[\"experience\"] = curr\n",
    "resume_data.sample()"
   ]
  },
  {
   "cell_type": "markdown",
   "metadata": {},
   "source": [
    "В столбце language указывается список языков, разделенных запятыми, но в строковом формате. Исправим это"
   ]
  },
  {
   "cell_type": "code",
   "execution_count": 144,
   "metadata": {},
   "outputs": [
    {
     "data": {
      "text/html": [
       "<div>\n",
       "<style scoped>\n",
       "    .dataframe tbody tr th:only-of-type {\n",
       "        vertical-align: middle;\n",
       "    }\n",
       "\n",
       "    .dataframe tbody tr th {\n",
       "        vertical-align: top;\n",
       "    }\n",
       "\n",
       "    .dataframe thead th {\n",
       "        text-align: right;\n",
       "    }\n",
       "</style>\n",
       "<table border=\"1\" class=\"dataframe\">\n",
       "  <thead>\n",
       "    <tr style=\"text-align: right;\">\n",
       "      <th></th>\n",
       "      <th>index</th>\n",
       "      <th>title</th>\n",
       "      <th>salary</th>\n",
       "      <th>experience</th>\n",
       "      <th>gender</th>\n",
       "      <th>age</th>\n",
       "      <th>city</th>\n",
       "      <th>tags_list</th>\n",
       "      <th>tags_list_len</th>\n",
       "      <th>skills-content</th>\n",
       "      <th>language</th>\n",
       "      <th>work_text</th>\n",
       "      <th>specialization</th>\n",
       "      <th>currency</th>\n",
       "    </tr>\n",
       "  </thead>\n",
       "  <tbody>\n",
       "    <tr>\n",
       "      <th>1720</th>\n",
       "      <td>1720</td>\n",
       "      <td>Руководитель отдела маркетинга</td>\n",
       "      <td>180000</td>\n",
       "      <td>125</td>\n",
       "      <td>Мужчина</td>\n",
       "      <td>33</td>\n",
       "      <td>Москва</td>\n",
       "      <td>[Планирование маркетинговых кампаний, Маркетин...</td>\n",
       "      <td>7</td>\n",
       "      <td>Графика (Figma, Adobe Photoshop, CorelDRAW).\\n...</td>\n",
       "      <td>[Русский — Родной, Английский — B1 — Средний]</td>\n",
       "      <td>Digital.tools\\nМосква, digital.tools/\\nКоммерч...</td>\n",
       "      <td>Специализации:\\nДиректор по маркетингу и PR (C...</td>\n",
       "      <td>RUB</td>\n",
       "    </tr>\n",
       "  </tbody>\n",
       "</table>\n",
       "</div>"
      ],
      "text/plain": [
       "      index                           title  salary  experience   gender  age  \\\n",
       "1720   1720  Руководитель отдела маркетинга  180000         125  Мужчина   33   \n",
       "\n",
       "        city                                          tags_list  \\\n",
       "1720  Москва  [Планирование маркетинговых кампаний, Маркетин...   \n",
       "\n",
       "      tags_list_len                                     skills-content  \\\n",
       "1720              7  Графика (Figma, Adobe Photoshop, CorelDRAW).\\n...   \n",
       "\n",
       "                                           language  \\\n",
       "1720  [Русский — Родной, Английский — B1 — Средний]   \n",
       "\n",
       "                                              work_text  \\\n",
       "1720  Digital.tools\\nМосква, digital.tools/\\nКоммерч...   \n",
       "\n",
       "                                         specialization currency  \n",
       "1720  Специализации:\\nДиректор по маркетингу и PR (C...      RUB  "
      ]
     },
     "execution_count": 144,
     "metadata": {},
     "output_type": "execute_result"
    }
   ],
   "source": [
    "def str_to_list(str_repr):\n",
    "  if str_repr == \" \":\n",
    "    return []\n",
    "  else:\n",
    "    return [s.strip().strip(\"'\") for s in str_repr[1:-1].split(\",\")]\n",
    "resume_data[\"tags_list\"] = [str_to_list(i) for i in resume_data[\"tags_list\"]]\n",
    "resume_data[\"language\"] = [str_to_list(i) for i in resume_data[\"language\"]]\n",
    "resume_data.sample()"
   ]
  },
  {
   "cell_type": "markdown",
   "metadata": {},
   "source": [
    "# Вывод"
   ]
  },
  {
   "cell_type": "markdown",
   "metadata": {},
   "source": [
    "Переименовал столбцы в привычные для меня наименования. Большинство вакансий актуальны для Москвы, видим, что есть много пропусков в adress и city, предположим, что вакансии предполагают удаленку или находятся вне Москвы. В этих же столбцах есть дубликаты. Найдены аномальные данные, предполагаю, что некоторые вакансии и резюме фейковые.\n",
    "\n",
    "Кратко:\n",
    "* Переформатировал и разделил данные для удобной работы\n",
    "* Найдены и удалены аномальные данные *(н-р люди с зарплатой ~10M руб. и 1-3 летним опытом)*\n",
    "* Заполнил пропуски\n",
    "* Рассмотрели нормальное распределение возрастов"
   ]
  },
  {
   "cell_type": "markdown",
   "metadata": {},
   "source": [
    "# Анализируем данные"
   ]
  },
  {
   "cell_type": "markdown",
   "metadata": {},
   "source": [
    "### Data. Какие требования и условия у работадателей?🧐\n",
    "\n",
    "(1) Рассморим первое, что приходит в голову, злосчастный \"Опыт работы\". Ну и конечно нам интересна зарплатная вилка компаний"
   ]
  },
  {
   "cell_type": "code",
   "execution_count": 145,
   "metadata": {},
   "outputs": [
    {
     "data": {
      "application/vnd.plotly.v1+json": {
       "config": {
        "plotlyServerURL": "https://plot.ly"
       },
       "data": [
        {
         "hovertemplate": "experience=1–3 года<br>from=%{x}<br>upto=%{y}<extra></extra>",
         "legendgroup": "1–3 года",
         "marker": {
          "color": "#636efa",
          "symbol": "circle"
         },
         "mode": "markers",
         "name": "1–3 года",
         "showlegend": true,
         "type": "scattergl",
         "x": [
          120000,
          60000,
          100000,
          80000,
          200000,
          120000,
          150000,
          160000,
          200000,
          70000,
          80000,
          150000,
          100000,
          150000,
          300000,
          170000,
          80000,
          200000,
          50000,
          150000,
          70000,
          100000,
          80000,
          50000,
          150000,
          100000,
          100000,
          100000,
          200000,
          50000,
          100000,
          100000,
          90000,
          90000,
          100000,
          100000,
          100000,
          100000,
          150000,
          150000,
          90000,
          87000,
          100000,
          120000,
          75000,
          100000,
          70000,
          100000,
          50000,
          120000,
          120000,
          20000,
          150000,
          120000,
          70000,
          120000,
          80000,
          50000,
          75000,
          80000,
          100000,
          100000,
          80000,
          50000,
          25000,
          70000,
          100000,
          100000,
          150000,
          80000,
          150000,
          120000,
          80000,
          60000,
          70000,
          40000,
          100000,
          65000,
          100000,
          250000,
          150000,
          50000,
          70000,
          200000,
          70000,
          60000,
          130000,
          120000,
          50000,
          50000,
          150000,
          115000,
          80000,
          70000,
          100000,
          70000,
          60000,
          150000,
          70000,
          50000,
          70000,
          100000,
          70000,
          70000,
          22000,
          90000,
          80000,
          80000,
          90000,
          80000,
          60000,
          50000,
          15000,
          25000,
          150000,
          100000,
          70000,
          100000,
          80000,
          200000,
          150000,
          87000,
          80000,
          40000,
          150000,
          75000,
          50000,
          90000,
          50000,
          80000,
          150000,
          80000,
          150000,
          55000,
          150000,
          100000,
          70000,
          120000,
          130000,
          100000,
          64000,
          70000,
          40000,
          100000,
          115500,
          100000,
          60000,
          150000,
          95000,
          40000,
          100000,
          80000,
          120000,
          160000,
          200000,
          60000,
          100000,
          100000,
          80000,
          150000,
          90000,
          90000,
          120000,
          50000,
          100000,
          70000,
          50000,
          50000,
          100000,
          70000,
          60000,
          80000,
          50000,
          100000,
          300000,
          60000,
          150000,
          70000,
          135000,
          75000,
          50000,
          120000,
          80000,
          50000,
          150000,
          120000,
          100000,
          55000,
          45000,
          30000,
          90000,
          160000,
          70000,
          60000,
          80000,
          80000,
          80000,
          40000,
          80000,
          55000,
          100000,
          50000,
          60000,
          100000,
          150000,
          60000,
          40000,
          70000,
          80000,
          120000,
          40000,
          40000,
          300000,
          100000,
          60000,
          60000,
          40000,
          80000,
          50000,
          80000,
          90000,
          80000,
          140000,
          100000,
          100000,
          90000,
          40000,
          60000,
          250000,
          70000,
          50000,
          35000,
          70000,
          30000,
          70000,
          90000,
          40000,
          155000,
          40000,
          150000,
          25000,
          100000,
          80000,
          50000,
          70000,
          40000,
          70000,
          100000,
          70000,
          65000,
          80000,
          70000,
          50000,
          80460,
          100000,
          300000,
          60000,
          150000,
          40000,
          30000,
          100000,
          70000,
          80000,
          120000,
          80000,
          80000,
          70000,
          60000,
          65000,
          80000,
          100000,
          60000,
          60000,
          35000,
          20000,
          70000,
          60000,
          40000,
          50000,
          200000,
          50000,
          75000,
          50000,
          90000,
          120000,
          200000,
          50000,
          100000,
          50000,
          60000,
          140000,
          50000,
          90000,
          100000,
          80000,
          40000,
          90000,
          30000,
          150000,
          85000,
          115000,
          70000,
          90000,
          50000,
          70000,
          70000,
          140000,
          300000,
          80000,
          140000,
          70000,
          60000,
          30000,
          70000,
          40000,
          77000,
          50000,
          45000,
          149000,
          90000,
          45000,
          80000,
          80000,
          69000,
          70000,
          50000,
          50000,
          80000,
          60000,
          70000,
          70000,
          55000,
          150000,
          60000,
          100000,
          150000,
          50000,
          80000,
          70000,
          40000,
          120000,
          70000,
          65000,
          30000,
          60000,
          30000,
          50000,
          50000,
          50000,
          40000,
          100000,
          120000,
          100000,
          60000,
          80000,
          180000,
          50000,
          120000,
          50000,
          60000,
          100000,
          20000,
          80000,
          100000,
          60000,
          150000,
          100000,
          56000,
          50000,
          44500,
          40000,
          40000,
          120000,
          150000,
          70000,
          50000,
          20000,
          60000,
          45000,
          55000,
          50000,
          150000,
          80000,
          150000,
          80000,
          75000,
          90000,
          80000,
          50000,
          70000,
          80000,
          80000,
          80000,
          120000,
          120000,
          150000,
          100000,
          150000,
          50000,
          100000,
          40000,
          90000,
          70000,
          30000,
          60000,
          150000,
          100000,
          92000,
          45000,
          30000,
          100000,
          60000,
          50000,
          75000,
          65000,
          100000,
          80000,
          50000,
          200000,
          40000,
          150000,
          90000,
          60000,
          20000,
          50000,
          80000,
          50000,
          70000,
          60000,
          110000,
          60000,
          70000,
          120000,
          45000,
          60000,
          50000,
          30000,
          14000,
          20000,
          33000,
          80000,
          82000,
          250000,
          70000,
          40000,
          45000,
          45000,
          60000,
          60000,
          45000,
          200000,
          100000,
          40000,
          50000,
          100000,
          45000,
          60000,
          40000,
          55000,
          80000,
          80000,
          100000,
          110000,
          120000,
          40000,
          75000,
          100000,
          70000,
          80000,
          100000,
          200000,
          70000,
          90000,
          80000,
          80000,
          120000,
          80000,
          30000,
          60000,
          100000,
          60000,
          90000,
          100000,
          90000,
          70000,
          120000,
          200000,
          75000,
          100000,
          90000,
          200000,
          100000,
          150000,
          35000,
          52000,
          100000,
          92000,
          60000,
          40000,
          60000,
          50000,
          25000,
          90000,
          100000,
          60000,
          40000,
          60000,
          90000,
          30000,
          80000,
          100000,
          100000,
          50000,
          100000,
          60000,
          100000,
          65000,
          80000,
          80000,
          150000,
          100000,
          60000,
          200000,
          140000,
          60000,
          25000,
          15000,
          80000,
          100000,
          50000,
          40000,
          40000,
          150000,
          90000,
          60000,
          100000,
          120000,
          120000,
          121800,
          45000,
          50000,
          200000,
          60000,
          40000,
          100000,
          60000,
          90000,
          100000,
          45000,
          140000,
          30000,
          50000,
          30000,
          100000,
          130000,
          80000,
          80000,
          150000,
          65000,
          150000,
          180000,
          90000,
          140000,
          120000,
          71000,
          70000,
          200000,
          120000,
          45000,
          100000,
          50000,
          72000,
          100000,
          120000,
          70000,
          200000,
          55000,
          70000,
          100000,
          200000,
          40000,
          60000,
          60000,
          100000,
          60000,
          120000,
          50000,
          120000,
          30000,
          65000,
          150000,
          10000,
          55000,
          100000,
          47000,
          150000,
          140000,
          50000,
          140000,
          130000,
          100000,
          65000,
          70000,
          80000,
          60000,
          20000,
          15000,
          140000,
          60000,
          90000,
          70000,
          100000,
          0,
          50000,
          100000,
          66000,
          40000,
          80000,
          80000,
          50000,
          50000,
          60000,
          40000,
          30000,
          40000,
          80000,
          40000,
          50000,
          100000,
          60000,
          100000,
          80000,
          80000,
          150000,
          50000,
          70000,
          170000,
          80000,
          88600,
          300000,
          50000,
          75000,
          60000,
          150000,
          45000,
          110000,
          70000,
          100000,
          65000,
          80000,
          70000,
          15000,
          90000,
          100000,
          70000,
          70000,
          60000,
          150000,
          150000,
          32000,
          45000,
          70000,
          60000,
          60900,
          100000,
          100000,
          60000,
          75000,
          250000,
          100000,
          140000,
          105000,
          180000,
          60000,
          65000,
          50000,
          100000,
          85000,
          30000,
          150000,
          60000,
          100000,
          60000,
          69000,
          100000,
          40000,
          120000,
          80000,
          100000,
          90000,
          40000,
          15000,
          85000,
          75000,
          100000,
          300000,
          170000,
          60000,
          25000,
          100000,
          50000,
          120000,
          200000,
          99000,
          100000,
          70000,
          80000,
          40000,
          40000,
          90000,
          140000,
          30000,
          72000,
          100000,
          90000,
          70000,
          60000,
          80000,
          60000,
          250000,
          80000,
          60000,
          100000,
          250000,
          100000,
          80000,
          32000,
          80000,
          60000,
          60000,
          80000,
          130000,
          150000,
          90000,
          90000,
          30000,
          50000,
          100000,
          100000,
          60000,
          40000,
          100000,
          160000,
          60000,
          50000,
          50000,
          60000,
          70000,
          115000,
          105000,
          100000,
          50000,
          70000,
          60000,
          45000,
          70000,
          40000,
          80000,
          60000,
          50000,
          15000,
          75000,
          80000,
          80000,
          100000,
          300000,
          110000,
          200000,
          155000,
          50000,
          100000,
          100000,
          100000
         ],
         "xaxis": "x",
         "y": [
          0,
          120000,
          0,
          120000,
          0,
          0,
          0,
          200000,
          0,
          90000,
          150000,
          0,
          0,
          0,
          0,
          0,
          250000,
          0,
          140000,
          450000,
          0,
          250000,
          120000,
          150000,
          0,
          170000,
          150000,
          0,
          0,
          150000,
          140000,
          0,
          150000,
          130000,
          120000,
          120000,
          150000,
          200000,
          0,
          0,
          120000,
          0,
          150000,
          240000,
          100000,
          0,
          90000,
          150000,
          0,
          0,
          200000,
          0,
          200000,
          150000,
          0,
          0,
          0,
          80000,
          0,
          150000,
          0,
          120000,
          0,
          0,
          35000,
          0,
          0,
          0,
          200000,
          0,
          0,
          200000,
          0,
          90000,
          100000,
          0,
          0,
          100000,
          200000,
          0,
          300000,
          70000,
          90000,
          0,
          110000,
          75000,
          0,
          0,
          100000,
          150000,
          260000,
          0,
          0,
          100000,
          0,
          0,
          0,
          0,
          0,
          70000,
          0,
          0,
          100000,
          90000,
          40000,
          0,
          150000,
          90000,
          0,
          100000,
          90000,
          100000,
          150000,
          40000,
          0,
          0,
          110000,
          150000,
          150000,
          0,
          0,
          186000,
          120000,
          80000,
          180000,
          120000,
          140000,
          0,
          80000,
          120000,
          0,
          0,
          0,
          0,
          0,
          0,
          0,
          200000,
          150000,
          200000,
          0,
          80000,
          80000,
          0,
          148500,
          200000,
          80000,
          0,
          0,
          60000,
          0,
          130000,
          200000,
          0,
          0,
          180000,
          150000,
          250000,
          0,
          0,
          250000,
          150000,
          150000,
          75000,
          150000,
          70000,
          80000,
          80000,
          150000,
          0,
          0,
          100000,
          0,
          120000,
          0,
          0,
          0,
          0,
          0,
          130000,
          150000,
          0,
          130000,
          0,
          0,
          0,
          0,
          65000,
          0,
          50000,
          0,
          250000,
          0,
          0,
          0,
          150000,
          0,
          0,
          120000,
          65000,
          150000,
          300000,
          90000,
          120000,
          0,
          100000,
          0,
          100000,
          0,
          0,
          100000,
          0,
          0,
          250000,
          150000,
          100000,
          100000,
          0,
          200000,
          200000,
          0,
          200000,
          0,
          0,
          120000,
          0,
          0,
          0,
          0,
          150000,
          150000,
          0,
          100000,
          50000,
          0,
          105000,
          60000,
          0,
          60000,
          250000,
          40000,
          0,
          150000,
          120000,
          0,
          60000,
          100000,
          0,
          80000,
          100000,
          0,
          100000,
          90000,
          91954,
          150000,
          0,
          100000,
          0,
          100000,
          40000,
          0,
          120000,
          90000,
          0,
          0,
          200000,
          150000,
          120000,
          0,
          0,
          0,
          87000,
          120000,
          0,
          50000,
          0,
          88000,
          0,
          200000,
          0,
          150000,
          120000,
          0,
          0,
          0,
          0,
          0,
          0,
          0,
          90000,
          0,
          90000,
          0,
          150000,
          0,
          90000,
          130000,
          40000,
          0,
          150000,
          0,
          0,
          0,
          0,
          0,
          0,
          0,
          1500,
          0,
          0,
          80000,
          0,
          35000,
          112000,
          100000,
          120000,
          100000,
          80000,
          0,
          240000,
          0,
          80000,
          0,
          92000,
          0,
          50000,
          0,
          0,
          150000,
          0,
          150000,
          120000,
          0,
          120000,
          0,
          180000,
          70000,
          0,
          0,
          60000,
          0,
          0,
          100000,
          120000,
          0,
          0,
          55000,
          58300,
          0,
          55000,
          180000,
          0,
          150000,
          0,
          180000,
          230000,
          80000,
          0,
          70000,
          100000,
          0,
          40000,
          80000,
          130000,
          0,
          0,
          150000,
          0,
          70000,
          115000,
          200000,
          60000,
          0,
          0,
          0,
          180000,
          60000,
          0,
          120000,
          80000,
          80000,
          0,
          0,
          0,
          150000,
          320000,
          100000,
          0,
          120000,
          0,
          150000,
          200000,
          100000,
          0,
          0,
          220000,
          150000,
          0,
          0,
          0,
          70000,
          170000,
          100000,
          45000,
          100000,
          0,
          0,
          92000,
          55000,
          0,
          200000,
          0,
          50000,
          75000,
          75000,
          300000,
          0,
          70000,
          0,
          50000,
          300000,
          0,
          0,
          45000,
          0,
          120000,
          80000,
          120000,
          100000,
          0,
          0,
          120000,
          400000,
          0,
          0,
          0,
          40000,
          20000,
          0,
          0,
          0,
          150000,
          0,
          0,
          80000,
          0,
          0,
          110000,
          110000,
          70000,
          0,
          150000,
          0,
          0,
          150000,
          70000,
          65000,
          0,
          0,
          120000,
          0,
          150000,
          130000,
          0,
          50000,
          0,
          0,
          0,
          0,
          0,
          0,
          0,
          0,
          0,
          100000,
          0,
          0,
          45000,
          100000,
          0,
          0,
          0,
          0,
          150000,
          100000,
          0,
          0,
          120000,
          0,
          0,
          0,
          0,
          0,
          45000,
          0,
          200000,
          0,
          80000,
          120000,
          120000,
          80000,
          100000,
          0,
          380000,
          60000,
          60000,
          0,
          120000,
          0,
          0,
          150000,
          0,
          100000,
          0,
          80000,
          120000,
          75000,
          0,
          120000,
          0,
          0,
          0,
          0,
          0,
          80000,
          40000,
          50000,
          100000,
          0,
          70000,
          100000,
          80000,
          300000,
          0,
          0,
          0,
          0,
          0,
          0,
          0,
          0,
          0,
          70000,
          150000,
          0,
          80000,
          0,
          0,
          0,
          150000,
          40000,
          100000,
          40000,
          150000,
          0,
          0,
          120000,
          0,
          80000,
          0,
          0,
          120000,
          200000,
          140000,
          122800,
          200000,
          0,
          0,
          50000,
          180000,
          0,
          0,
          0,
          0,
          150000,
          0,
          0,
          150000,
          200000,
          0,
          40000,
          70000,
          80000,
          200000,
          150000,
          0,
          55000,
          0,
          40000,
          72000,
          0,
          90000,
          0,
          0,
          0,
          0,
          0,
          90000,
          0,
          150000,
          0,
          0,
          120000,
          120000,
          0,
          40000,
          45000,
          200000,
          0,
          120000,
          0,
          0,
          0,
          70000,
          0,
          72000,
          70000,
          0,
          0,
          95000,
          80000,
          100000,
          60000,
          140000,
          80000,
          100000,
          80000,
          70000,
          250000,
          80000,
          0,
          170000,
          120000,
          0,
          0,
          160000,
          0,
          150000,
          88600,
          1500,
          120000,
          0,
          80000,
          250000,
          75000,
          200000,
          80000,
          0,
          0,
          0,
          150000,
          25000,
          0,
          300000,
          0,
          0,
          90000,
          0,
          0,
          64000,
          0,
          150000,
          120000,
          73080,
          0,
          120000,
          0,
          125000,
          0,
          150000,
          0,
          0,
          0,
          85000,
          0,
          60000,
          0,
          0,
          60000,
          0,
          100000,
          0,
          0,
          0,
          0,
          60000,
          180000,
          0,
          0,
          0,
          150000,
          30000,
          0,
          0,
          0,
          0,
          0,
          80000,
          40000,
          170000,
          0,
          0,
          300000,
          249000,
          0,
          0,
          120000,
          60000,
          0,
          0,
          0,
          70000,
          0,
          0,
          0,
          0,
          0,
          0,
          80000,
          0,
          0,
          90000,
          130000,
          0,
          0,
          0,
          64000,
          120000,
          120000,
          90000,
          0,
          0,
          0,
          110000,
          0,
          0,
          0,
          0,
          0,
          100000,
          90000,
          0,
          0,
          0,
          80000,
          90000,
          0,
          90000,
          0,
          105000,
          180000,
          100000,
          85000,
          0,
          0,
          100000,
          0,
          0,
          0,
          60000,
          20000,
          150000,
          100000,
          0,
          150000,
          0,
          0,
          0,
          0,
          200000,
          120000,
          250000,
          0
         ],
         "yaxis": "y"
        },
        {
         "hovertemplate": "experience=3–6 лет<br>from=%{x}<br>upto=%{y}<extra></extra>",
         "legendgroup": "3–6 лет",
         "marker": {
          "color": "#EF553B",
          "symbol": "circle"
         },
         "mode": "markers",
         "name": "3–6 лет",
         "showlegend": true,
         "type": "scattergl",
         "x": [
          200000,
          300000,
          153000,
          140000,
          100000,
          100000,
          150000,
          150000,
          200000,
          170000,
          150000,
          150000,
          120000,
          200000,
          150000,
          100000,
          150000,
          100000,
          100000,
          130000,
          250000,
          250000,
          120000,
          250000,
          120000,
          120000,
          100000,
          130000,
          150000,
          120000,
          150000,
          100000,
          150000,
          150000,
          200000,
          150000,
          150000,
          150000,
          300000,
          200000,
          100000,
          100000,
          150000,
          130000,
          120000,
          150000,
          150000,
          80000,
          150000,
          100000,
          120000,
          150000,
          80000,
          200000,
          100000,
          150000,
          100000,
          85000,
          100000,
          150000,
          100000,
          150000,
          130000,
          130000,
          120000,
          100000,
          80000,
          80000,
          90000,
          80000,
          200000,
          65000,
          250000,
          70000,
          100000,
          100000,
          200000,
          35000,
          100000,
          50000,
          120000,
          100000,
          250000,
          150000,
          150000,
          80000,
          20000,
          100000,
          120000,
          300000,
          200000,
          200000,
          420000,
          150000,
          120000,
          300000,
          80000,
          190000,
          300000,
          150000,
          250000,
          180000,
          250000,
          90000,
          60000,
          100000,
          80000,
          150000,
          100000,
          100000,
          150000,
          250000,
          70000,
          100000,
          70000,
          160000,
          100000,
          150000,
          80000,
          110000,
          200000,
          250000,
          260000,
          125000,
          120000,
          250000,
          250000,
          131000,
          130000,
          100000,
          150000,
          150000,
          180000,
          105000,
          120000,
          180000,
          60000,
          200000,
          100000,
          150000,
          150000,
          80000,
          125000,
          150000,
          150000,
          100000,
          150000,
          200000,
          80000,
          80000,
          100000,
          80000,
          70000,
          141000,
          80000,
          200000,
          90000,
          150000,
          100000,
          110000,
          150000,
          200000,
          250000,
          120000,
          80000,
          190000,
          100000,
          100000,
          120000,
          150000,
          150000,
          100000,
          100000,
          200000,
          100000,
          100000,
          100000,
          100000,
          200000,
          100000,
          80000,
          100000,
          80000,
          120000,
          90000,
          150000,
          120000,
          140000,
          200000,
          60000,
          150000,
          90000,
          120000,
          150000,
          110000,
          110000,
          130000,
          180000,
          120000,
          100000,
          400000,
          400000,
          210000,
          200000,
          200000,
          300000,
          150000,
          250000,
          110000,
          250000,
          240000,
          250000,
          250000,
          150000,
          100000,
          120000,
          100000,
          200000,
          150000,
          100000,
          100000,
          70000,
          200000,
          100000,
          180000,
          90000,
          80000,
          200000,
          150000,
          450000,
          150000,
          90000,
          250000,
          200000,
          150000,
          70000,
          90000,
          80000,
          170000,
          50000,
          200000,
          70000,
          130000,
          100000,
          120000,
          80000,
          90000,
          150000,
          95000,
          150000,
          180000,
          100000,
          140000,
          20000,
          60000,
          130000,
          185000,
          270000,
          90000,
          50000,
          120000,
          100000,
          120000,
          200000,
          300000,
          70000,
          70000,
          80000,
          80000,
          150000,
          120000,
          70000,
          50000,
          150000,
          150000,
          80000,
          100000,
          70000,
          65000,
          200000,
          140000,
          400000,
          150000,
          120000,
          250000,
          250000,
          60000,
          50000,
          90000,
          200000,
          100000,
          70000,
          150000,
          130000,
          150000,
          150000,
          300000,
          250000,
          100000,
          100000,
          100000,
          80000,
          80000,
          100000,
          150000,
          300000,
          80000,
          200000,
          150000,
          40000,
          150000,
          60000,
          120000,
          90000,
          80000,
          80000,
          130000,
          80000,
          40000,
          220000,
          50000,
          180000,
          100000,
          200000,
          70000,
          80000,
          100000,
          50000,
          90000,
          140000,
          250000,
          120000,
          90000,
          40000,
          100000,
          180000,
          100000,
          120000,
          80000,
          200000,
          70000,
          130000,
          90000,
          120000,
          200000,
          100000,
          60000,
          150000,
          150000,
          150000,
          45000,
          50000,
          120000,
          200000,
          150000,
          250000,
          120000,
          100000,
          100000,
          70000,
          150000,
          180000,
          80000,
          100000,
          120000,
          70000,
          80000,
          150000,
          90000,
          200000,
          100000,
          90000,
          80000,
          70000,
          100000,
          120000,
          150000,
          70000,
          120000,
          101000,
          150000,
          100000,
          150000,
          150000,
          100000,
          100000,
          150000,
          50000,
          180000,
          120000,
          150000,
          70000,
          120000,
          130000,
          150000,
          70000,
          200000,
          150000,
          100000,
          140000,
          150000,
          100000,
          90000,
          70000,
          80000,
          80000,
          100000,
          150000,
          70000,
          100000,
          80000,
          30000,
          120000,
          70000,
          220000,
          50000,
          100000,
          180000,
          150000,
          60000,
          150000,
          350000,
          60000,
          80000,
          80000,
          100000,
          200000,
          120000,
          100000,
          80000,
          150000,
          110000,
          100000,
          150000,
          150000,
          80000,
          150000,
          150000,
          150000,
          80000,
          150000,
          150000,
          150000,
          250000,
          150000,
          150000,
          100000,
          200000,
          200000,
          110000,
          200000,
          150000,
          140000,
          120000,
          120000,
          300000,
          170000,
          200000,
          190000,
          70000,
          200000,
          177000,
          350000,
          100000,
          80000,
          180000,
          90000,
          100000,
          60000,
          150000,
          100000,
          70000,
          70000,
          250000,
          120000,
          200000,
          150000,
          70000,
          180000,
          70000,
          120000,
          70000,
          80000,
          150000,
          300000,
          250000,
          50000,
          90000,
          130000,
          150000,
          90000,
          150000,
          200000,
          150000,
          100000,
          90000,
          60000,
          45000,
          40000,
          100000,
          150000,
          70000,
          170000,
          100000,
          100000,
          150000,
          100000,
          150000,
          60000,
          180000,
          30000,
          200000,
          120000,
          250000,
          200000,
          40000,
          80000,
          120000,
          100000,
          100000,
          90000,
          200000,
          200000,
          85000,
          100000,
          50000,
          110000,
          140000,
          100000,
          110000,
          80000,
          110000,
          110000,
          120000,
          250000,
          100000,
          150000,
          50000,
          100000,
          300000,
          250000,
          150000,
          80000,
          120000,
          200000,
          100000,
          100000,
          80000,
          120000,
          200000,
          150000,
          50000,
          150000,
          150000,
          200000,
          60000,
          180000,
          180000,
          300000,
          100000,
          250000,
          140000,
          150000,
          150000,
          300000,
          90000,
          100000,
          70000,
          100000,
          120000,
          150000,
          140000,
          120000,
          100000,
          250000,
          100000,
          30000,
          80000,
          300000,
          60000,
          90000,
          40000,
          80000,
          100000,
          150000,
          120000,
          120000,
          120000,
          300000,
          200000,
          130000,
          150000,
          200000,
          120000,
          250000,
          1000,
          120000,
          200000,
          250000,
          150000,
          150000,
          200000,
          200000,
          200000,
          150000,
          150000,
          60000,
          100000,
          100000,
          200000
         ],
         "xaxis": "x",
         "y": [
          0,
          0,
          410000,
          0,
          150000,
          200000,
          0,
          0,
          0,
          0,
          0,
          0,
          150000,
          300000,
          250000,
          0,
          0,
          0,
          0,
          0,
          0,
          300000,
          0,
          1000,
          0,
          250000,
          0,
          300000,
          250000,
          200000,
          300000,
          200000,
          0,
          0,
          0,
          180000,
          300000,
          0,
          350000,
          0,
          250000,
          0,
          0,
          0,
          0,
          170000,
          0,
          120000,
          0,
          0,
          150000,
          0,
          100000,
          200000,
          0,
          150000,
          200000,
          95000,
          150000,
          250000,
          0,
          400000,
          0,
          0,
          0,
          150000,
          250000,
          0,
          250000,
          0,
          0,
          120000,
          0,
          0,
          150000,
          150000,
          300000,
          200000,
          0,
          200000,
          150000,
          0,
          0,
          250000,
          200000,
          150000,
          30000,
          0,
          0,
          0,
          200000,
          0,
          0,
          250000,
          200000,
          0,
          0,
          300000,
          0,
          180000,
          0,
          0,
          0,
          180000,
          0,
          0,
          0,
          0,
          0,
          200000,
          0,
          0,
          120000,
          150000,
          200000,
          0,
          0,
          0,
          120000,
          0,
          300000,
          0,
          0,
          0,
          150000,
          0,
          0,
          180000,
          180000,
          200000,
          0,
          250000,
          0,
          115000,
          200000,
          0,
          100000,
          250000,
          0,
          0,
          0,
          0,
          0,
          0,
          0,
          0,
          0,
          0,
          150000,
          200000,
          120000,
          0,
          120000,
          195167,
          0,
          0,
          0,
          0,
          0,
          143000,
          0,
          0,
          0,
          120000,
          200000,
          0,
          0,
          0,
          160000,
          0,
          300000,
          0,
          0,
          0,
          0,
          170000,
          0,
          0,
          0,
          0,
          150000,
          0,
          150000,
          0,
          0,
          0,
          150000,
          0,
          0,
          150000,
          200000,
          0,
          160000,
          0,
          130000,
          0,
          160000,
          300000,
          0,
          150000,
          0,
          0,
          230000,
          0,
          0,
          0,
          0,
          0,
          0,
          0,
          0,
          0,
          0,
          200000,
          150000,
          160000,
          0,
          300000,
          0,
          0,
          0,
          150000,
          0,
          0,
          0,
          160000,
          0,
          250000,
          0,
          0,
          0,
          0,
          0,
          0,
          0,
          0,
          130000,
          0,
          0,
          0,
          300000,
          0,
          0,
          180000,
          130000,
          0,
          0,
          0,
          0,
          300000,
          0,
          300000,
          0,
          50000,
          90000,
          0,
          220000,
          0,
          150000,
          80000,
          0,
          100000,
          250000,
          0,
          0,
          150000,
          0,
          150000,
          0,
          0,
          220000,
          0,
          70000,
          200000,
          200000,
          200000,
          0,
          100000,
          100000,
          0,
          140000,
          0,
          250000,
          0,
          0,
          0,
          200000,
          80000,
          150000,
          0,
          150000,
          150000,
          0,
          0,
          0,
          0,
          400000,
          0,
          180000,
          120000,
          0,
          0,
          0,
          0,
          0,
          0,
          0,
          400000,
          0,
          60000,
          0,
          100000,
          0,
          0,
          0,
          0,
          0,
          80000,
          70000,
          0,
          70000,
          0,
          130000,
          0,
          0,
          120000,
          150000,
          0,
          0,
          0,
          0,
          0,
          120000,
          60000,
          150000,
          0,
          0,
          0,
          100000,
          250000,
          85000,
          0,
          160000,
          160000,
          350000,
          120000,
          90000,
          0,
          200000,
          0,
          60000,
          0,
          200000,
          0,
          0,
          300000,
          120000,
          0,
          300000,
          150000,
          0,
          0,
          200000,
          0,
          0,
          0,
          300000,
          300000,
          150000,
          300000,
          100000,
          0,
          100000,
          0,
          300000,
          0,
          0,
          120000,
          200000,
          0,
          200000,
          0,
          200000,
          200000,
          140000,
          0,
          250000,
          150000,
          0,
          0,
          180000,
          80000,
          180000,
          350000,
          0,
          0,
          300000,
          250000,
          250000,
          0,
          0,
          0,
          0,
          90000,
          0,
          100000,
          0,
          0,
          0,
          0,
          0,
          150000,
          0,
          150000,
          0,
          0,
          0,
          0,
          180000,
          60000,
          250000,
          0,
          0,
          100000,
          0,
          120000,
          0,
          0,
          200000,
          0,
          0,
          0,
          150000,
          0,
          210000,
          110000,
          220000,
          0,
          180000,
          0,
          0,
          250000,
          0,
          0,
          0,
          300000,
          160000,
          0,
          0,
          0,
          270000,
          250000,
          140000,
          0,
          180000,
          0,
          300000,
          0,
          0,
          0,
          0,
          0,
          0,
          150000,
          250000,
          0,
          250000,
          0,
          0,
          0,
          200000,
          200000,
          0,
          0,
          0,
          300000,
          0,
          80000,
          200000,
          80000,
          150000,
          110000,
          100000,
          200000,
          400000,
          350000,
          180000,
          250000,
          0,
          0,
          120000,
          300000,
          0,
          350000,
          200000,
          120000,
          200000,
          90000,
          120000,
          0,
          0,
          170000,
          0,
          0,
          140000,
          300000,
          0,
          180000,
          0,
          0,
          60000,
          0,
          260000,
          0,
          0,
          65000,
          100000,
          0,
          0,
          0,
          200000,
          0,
          290000,
          0,
          0,
          250000,
          110000,
          0,
          0,
          0,
          130000,
          0,
          170000,
          0,
          0,
          120000,
          0,
          0,
          0,
          0,
          0,
          0,
          0,
          0,
          0,
          0,
          0,
          0,
          0,
          0,
          0,
          150000,
          0,
          0,
          0,
          100000,
          300000,
          250000,
          0,
          0,
          0,
          0,
          350000,
          200000,
          0,
          120000,
          0,
          110000,
          400000,
          150000,
          0,
          160000,
          0,
          0,
          0,
          0,
          150000,
          120000,
          0,
          0,
          90000,
          70000,
          0,
          0,
          180000,
          0,
          120000,
          0,
          400000,
          400000,
          0,
          300000,
          0,
          180000,
          0,
          0,
          0,
          0,
          0,
          200000,
          0,
          0,
          0,
          400000,
          0,
          0,
          100000,
          0,
          0,
          0
         ],
         "yaxis": "y"
        },
        {
         "hovertemplate": "experience=более 6 лет<br>from=%{x}<br>upto=%{y}<extra></extra>",
         "legendgroup": "более 6 лет",
         "marker": {
          "color": "#00cc96",
          "symbol": "circle"
         },
         "mode": "markers",
         "name": "более 6 лет",
         "showlegend": true,
         "type": "scattergl",
         "x": [
          200000,
          150000,
          250000,
          200000,
          120000,
          100000,
          120000,
          120000,
          172500,
          100000,
          200000,
          200000,
          150000,
          200000,
          180000,
          120000,
          340000,
          200000,
          150000,
          140000,
          150000,
          300000,
          85000,
          250000,
          100000,
          180000,
          150000,
          300000,
          150000,
          250000,
          200000,
          420000,
          250000,
          200000,
          180000,
          150000,
          150000,
          120000,
          250000,
          180000,
          100000,
          100000,
          150000,
          100000,
          75000,
          300000,
          200000,
          100000,
          120000,
          200000,
          220000,
          200000,
          300000,
          150000,
          150000,
          80000,
          250000,
          100000,
          120000,
          300000,
          200000,
          100000,
          130000,
          100000,
          180000,
          130000,
          100000,
          120000,
          170000,
          250000,
          150000,
          220000,
          100000,
          150000,
          100000,
          170000,
          300000,
          120000,
          300000,
          60000,
          300000,
          100000,
          150000,
          200000,
          140000,
          100000,
          300000,
          100000,
          150000,
          150000,
          220000,
          180000,
          100000,
          80000,
          103448,
          200000,
          80000,
          300000,
          250000,
          100000,
          300000,
          200000,
          300000,
          80000,
          220000,
          150000,
          200000,
          250000,
          250000,
          150000,
          250000,
          250000,
          150000
         ],
         "xaxis": "x",
         "y": [
          400000,
          250000,
          0,
          200000,
          200000,
          140000,
          0,
          200000,
          0,
          120000,
          0,
          0,
          200000,
          0,
          0,
          0,
          0,
          0,
          0,
          300000,
          0,
          0,
          130000,
          300000,
          200000,
          200000,
          0,
          0,
          300000,
          0,
          0,
          0,
          0,
          0,
          220000,
          250000,
          0,
          0,
          0,
          250000,
          300000,
          200000,
          0,
          150000,
          0,
          0,
          350000,
          120000,
          200000,
          300000,
          0,
          0,
          0,
          150000,
          400000,
          120000,
          0,
          150000,
          0,
          0,
          300000,
          0,
          150000,
          0,
          180000,
          0,
          0,
          240000,
          200000,
          0,
          0,
          0,
          0,
          0,
          220000,
          200000,
          450000,
          0,
          0,
          120000,
          0,
          130000,
          150000,
          0,
          0,
          120000,
          0,
          160000,
          0,
          200000,
          0,
          270000,
          0,
          0,
          0,
          0,
          150000,
          300000,
          0,
          250000,
          0,
          0,
          0,
          0,
          350000,
          0,
          0,
          0,
          350000,
          300000,
          0,
          0,
          200000
         ],
         "yaxis": "y"
        },
        {
         "hovertemplate": "experience=не требуется<br>from=%{x}<br>upto=%{y}<extra></extra>",
         "legendgroup": "не требуется",
         "marker": {
          "color": "#ab63fa",
          "symbol": "circle"
         },
         "mode": "markers",
         "name": "не требуется",
         "showlegend": true,
         "type": "scattergl",
         "x": [
          150000,
          130000,
          150000,
          70000,
          50000,
          120000,
          120000,
          50000,
          140000,
          40000,
          200000,
          45000,
          70000,
          15000,
          40000,
          55000,
          35000,
          34000,
          60000,
          25000,
          55000,
          140000,
          60000,
          70000,
          15000,
          70000,
          45000,
          50000,
          150000,
          150000,
          20000,
          50000,
          20000,
          52200,
          10000,
          60000,
          40000,
          40000,
          65000,
          15000,
          57000,
          100000,
          60000,
          100000,
          60000,
          50000,
          70000,
          60000,
          200000,
          65000,
          50000,
          50000,
          100000,
          100000,
          10000,
          20000,
          110000,
          80000,
          60000,
          20000,
          80000,
          35000,
          10000,
          65000,
          75000,
          15000,
          15000,
          25000,
          45000,
          50000,
          60000,
          40000,
          65000,
          60000,
          65000,
          30000,
          50000,
          30000,
          40000,
          150000,
          36000,
          60000,
          300000,
          25000,
          50000,
          100000,
          25000,
          185000,
          40000,
          40000,
          20000,
          5000,
          70000,
          120000,
          120000,
          55000,
          45000,
          100000,
          60000,
          60000,
          20000,
          50000,
          30000,
          25000,
          120000,
          30000,
          180000,
          45000,
          15000,
          80000,
          60000,
          50000,
          350000,
          5000,
          60000,
          15000,
          60000,
          50000,
          20000,
          25000,
          15000,
          150000,
          20000,
          45000,
          45000,
          30000,
          20000,
          25000,
          60000,
          60000,
          70000,
          100000,
          20000,
          60000,
          60000,
          150000,
          50000,
          80000,
          80000,
          150000,
          150000,
          42000,
          60000,
          15000,
          15000
         ],
         "xaxis": "x",
         "y": [
          180000,
          200000,
          200000,
          90000,
          0,
          150000,
          0,
          0,
          0,
          150000,
          0,
          60000,
          100000,
          0,
          120000,
          55000,
          0,
          0,
          80000,
          0,
          0,
          0,
          63000,
          150000,
          0,
          0,
          0,
          0,
          0,
          0,
          0,
          0,
          0,
          0,
          35000,
          80000,
          90000,
          60000,
          0,
          0,
          0,
          0,
          0,
          0,
          80000,
          90000,
          90000,
          70000,
          0,
          120000,
          0,
          130000,
          0,
          0,
          30000,
          0,
          300000,
          300000,
          120000,
          80000,
          150000,
          0,
          10000,
          120000,
          130000,
          35000,
          40500,
          0,
          65000,
          0,
          160000,
          60000,
          190000,
          0,
          130000,
          65000,
          60000,
          55000,
          40000,
          0,
          0,
          60000,
          1500,
          0,
          0,
          0,
          55000,
          0,
          0,
          0,
          25000,
          15000,
          0,
          0,
          0,
          60000,
          50000,
          0,
          80000,
          150000,
          40000,
          80000,
          0,
          0,
          0,
          0,
          0,
          0,
          40000,
          300000,
          80000,
          150000,
          0,
          70000,
          80000,
          0,
          80000,
          80000,
          60000,
          0,
          0,
          0,
          60000,
          0,
          90000,
          0,
          25000,
          50000,
          80000,
          60000,
          400000,
          0,
          0,
          75000,
          150000,
          0,
          0,
          400000,
          400000,
          0,
          0,
          60000,
          220000,
          35000,
          0
         ],
         "yaxis": "y"
        }
       ],
       "layout": {
        "legend": {
         "title": {
          "text": "experience"
         },
         "tracegroupgap": 0
        },
        "margin": {
         "t": 60
        },
        "template": {
         "data": {
          "bar": [
           {
            "error_x": {
             "color": "#2a3f5f"
            },
            "error_y": {
             "color": "#2a3f5f"
            },
            "marker": {
             "line": {
              "color": "#E5ECF6",
              "width": 0.5
             },
             "pattern": {
              "fillmode": "overlay",
              "size": 10,
              "solidity": 0.2
             }
            },
            "type": "bar"
           }
          ],
          "barpolar": [
           {
            "marker": {
             "line": {
              "color": "#E5ECF6",
              "width": 0.5
             },
             "pattern": {
              "fillmode": "overlay",
              "size": 10,
              "solidity": 0.2
             }
            },
            "type": "barpolar"
           }
          ],
          "carpet": [
           {
            "aaxis": {
             "endlinecolor": "#2a3f5f",
             "gridcolor": "white",
             "linecolor": "white",
             "minorgridcolor": "white",
             "startlinecolor": "#2a3f5f"
            },
            "baxis": {
             "endlinecolor": "#2a3f5f",
             "gridcolor": "white",
             "linecolor": "white",
             "minorgridcolor": "white",
             "startlinecolor": "#2a3f5f"
            },
            "type": "carpet"
           }
          ],
          "choropleth": [
           {
            "colorbar": {
             "outlinewidth": 0,
             "ticks": ""
            },
            "type": "choropleth"
           }
          ],
          "contour": [
           {
            "colorbar": {
             "outlinewidth": 0,
             "ticks": ""
            },
            "colorscale": [
             [
              0,
              "#0d0887"
             ],
             [
              0.1111111111111111,
              "#46039f"
             ],
             [
              0.2222222222222222,
              "#7201a8"
             ],
             [
              0.3333333333333333,
              "#9c179e"
             ],
             [
              0.4444444444444444,
              "#bd3786"
             ],
             [
              0.5555555555555556,
              "#d8576b"
             ],
             [
              0.6666666666666666,
              "#ed7953"
             ],
             [
              0.7777777777777778,
              "#fb9f3a"
             ],
             [
              0.8888888888888888,
              "#fdca26"
             ],
             [
              1,
              "#f0f921"
             ]
            ],
            "type": "contour"
           }
          ],
          "contourcarpet": [
           {
            "colorbar": {
             "outlinewidth": 0,
             "ticks": ""
            },
            "type": "contourcarpet"
           }
          ],
          "heatmap": [
           {
            "colorbar": {
             "outlinewidth": 0,
             "ticks": ""
            },
            "colorscale": [
             [
              0,
              "#0d0887"
             ],
             [
              0.1111111111111111,
              "#46039f"
             ],
             [
              0.2222222222222222,
              "#7201a8"
             ],
             [
              0.3333333333333333,
              "#9c179e"
             ],
             [
              0.4444444444444444,
              "#bd3786"
             ],
             [
              0.5555555555555556,
              "#d8576b"
             ],
             [
              0.6666666666666666,
              "#ed7953"
             ],
             [
              0.7777777777777778,
              "#fb9f3a"
             ],
             [
              0.8888888888888888,
              "#fdca26"
             ],
             [
              1,
              "#f0f921"
             ]
            ],
            "type": "heatmap"
           }
          ],
          "heatmapgl": [
           {
            "colorbar": {
             "outlinewidth": 0,
             "ticks": ""
            },
            "colorscale": [
             [
              0,
              "#0d0887"
             ],
             [
              0.1111111111111111,
              "#46039f"
             ],
             [
              0.2222222222222222,
              "#7201a8"
             ],
             [
              0.3333333333333333,
              "#9c179e"
             ],
             [
              0.4444444444444444,
              "#bd3786"
             ],
             [
              0.5555555555555556,
              "#d8576b"
             ],
             [
              0.6666666666666666,
              "#ed7953"
             ],
             [
              0.7777777777777778,
              "#fb9f3a"
             ],
             [
              0.8888888888888888,
              "#fdca26"
             ],
             [
              1,
              "#f0f921"
             ]
            ],
            "type": "heatmapgl"
           }
          ],
          "histogram": [
           {
            "marker": {
             "pattern": {
              "fillmode": "overlay",
              "size": 10,
              "solidity": 0.2
             }
            },
            "type": "histogram"
           }
          ],
          "histogram2d": [
           {
            "colorbar": {
             "outlinewidth": 0,
             "ticks": ""
            },
            "colorscale": [
             [
              0,
              "#0d0887"
             ],
             [
              0.1111111111111111,
              "#46039f"
             ],
             [
              0.2222222222222222,
              "#7201a8"
             ],
             [
              0.3333333333333333,
              "#9c179e"
             ],
             [
              0.4444444444444444,
              "#bd3786"
             ],
             [
              0.5555555555555556,
              "#d8576b"
             ],
             [
              0.6666666666666666,
              "#ed7953"
             ],
             [
              0.7777777777777778,
              "#fb9f3a"
             ],
             [
              0.8888888888888888,
              "#fdca26"
             ],
             [
              1,
              "#f0f921"
             ]
            ],
            "type": "histogram2d"
           }
          ],
          "histogram2dcontour": [
           {
            "colorbar": {
             "outlinewidth": 0,
             "ticks": ""
            },
            "colorscale": [
             [
              0,
              "#0d0887"
             ],
             [
              0.1111111111111111,
              "#46039f"
             ],
             [
              0.2222222222222222,
              "#7201a8"
             ],
             [
              0.3333333333333333,
              "#9c179e"
             ],
             [
              0.4444444444444444,
              "#bd3786"
             ],
             [
              0.5555555555555556,
              "#d8576b"
             ],
             [
              0.6666666666666666,
              "#ed7953"
             ],
             [
              0.7777777777777778,
              "#fb9f3a"
             ],
             [
              0.8888888888888888,
              "#fdca26"
             ],
             [
              1,
              "#f0f921"
             ]
            ],
            "type": "histogram2dcontour"
           }
          ],
          "mesh3d": [
           {
            "colorbar": {
             "outlinewidth": 0,
             "ticks": ""
            },
            "type": "mesh3d"
           }
          ],
          "parcoords": [
           {
            "line": {
             "colorbar": {
              "outlinewidth": 0,
              "ticks": ""
             }
            },
            "type": "parcoords"
           }
          ],
          "pie": [
           {
            "automargin": true,
            "type": "pie"
           }
          ],
          "scatter": [
           {
            "fillpattern": {
             "fillmode": "overlay",
             "size": 10,
             "solidity": 0.2
            },
            "type": "scatter"
           }
          ],
          "scatter3d": [
           {
            "line": {
             "colorbar": {
              "outlinewidth": 0,
              "ticks": ""
             }
            },
            "marker": {
             "colorbar": {
              "outlinewidth": 0,
              "ticks": ""
             }
            },
            "type": "scatter3d"
           }
          ],
          "scattercarpet": [
           {
            "marker": {
             "colorbar": {
              "outlinewidth": 0,
              "ticks": ""
             }
            },
            "type": "scattercarpet"
           }
          ],
          "scattergeo": [
           {
            "marker": {
             "colorbar": {
              "outlinewidth": 0,
              "ticks": ""
             }
            },
            "type": "scattergeo"
           }
          ],
          "scattergl": [
           {
            "marker": {
             "colorbar": {
              "outlinewidth": 0,
              "ticks": ""
             }
            },
            "type": "scattergl"
           }
          ],
          "scattermapbox": [
           {
            "marker": {
             "colorbar": {
              "outlinewidth": 0,
              "ticks": ""
             }
            },
            "type": "scattermapbox"
           }
          ],
          "scatterpolar": [
           {
            "marker": {
             "colorbar": {
              "outlinewidth": 0,
              "ticks": ""
             }
            },
            "type": "scatterpolar"
           }
          ],
          "scatterpolargl": [
           {
            "marker": {
             "colorbar": {
              "outlinewidth": 0,
              "ticks": ""
             }
            },
            "type": "scatterpolargl"
           }
          ],
          "scatterternary": [
           {
            "marker": {
             "colorbar": {
              "outlinewidth": 0,
              "ticks": ""
             }
            },
            "type": "scatterternary"
           }
          ],
          "surface": [
           {
            "colorbar": {
             "outlinewidth": 0,
             "ticks": ""
            },
            "colorscale": [
             [
              0,
              "#0d0887"
             ],
             [
              0.1111111111111111,
              "#46039f"
             ],
             [
              0.2222222222222222,
              "#7201a8"
             ],
             [
              0.3333333333333333,
              "#9c179e"
             ],
             [
              0.4444444444444444,
              "#bd3786"
             ],
             [
              0.5555555555555556,
              "#d8576b"
             ],
             [
              0.6666666666666666,
              "#ed7953"
             ],
             [
              0.7777777777777778,
              "#fb9f3a"
             ],
             [
              0.8888888888888888,
              "#fdca26"
             ],
             [
              1,
              "#f0f921"
             ]
            ],
            "type": "surface"
           }
          ],
          "table": [
           {
            "cells": {
             "fill": {
              "color": "#EBF0F8"
             },
             "line": {
              "color": "white"
             }
            },
            "header": {
             "fill": {
              "color": "#C8D4E3"
             },
             "line": {
              "color": "white"
             }
            },
            "type": "table"
           }
          ]
         },
         "layout": {
          "annotationdefaults": {
           "arrowcolor": "#2a3f5f",
           "arrowhead": 0,
           "arrowwidth": 1
          },
          "autotypenumbers": "strict",
          "coloraxis": {
           "colorbar": {
            "outlinewidth": 0,
            "ticks": ""
           }
          },
          "colorscale": {
           "diverging": [
            [
             0,
             "#8e0152"
            ],
            [
             0.1,
             "#c51b7d"
            ],
            [
             0.2,
             "#de77ae"
            ],
            [
             0.3,
             "#f1b6da"
            ],
            [
             0.4,
             "#fde0ef"
            ],
            [
             0.5,
             "#f7f7f7"
            ],
            [
             0.6,
             "#e6f5d0"
            ],
            [
             0.7,
             "#b8e186"
            ],
            [
             0.8,
             "#7fbc41"
            ],
            [
             0.9,
             "#4d9221"
            ],
            [
             1,
             "#276419"
            ]
           ],
           "sequential": [
            [
             0,
             "#0d0887"
            ],
            [
             0.1111111111111111,
             "#46039f"
            ],
            [
             0.2222222222222222,
             "#7201a8"
            ],
            [
             0.3333333333333333,
             "#9c179e"
            ],
            [
             0.4444444444444444,
             "#bd3786"
            ],
            [
             0.5555555555555556,
             "#d8576b"
            ],
            [
             0.6666666666666666,
             "#ed7953"
            ],
            [
             0.7777777777777778,
             "#fb9f3a"
            ],
            [
             0.8888888888888888,
             "#fdca26"
            ],
            [
             1,
             "#f0f921"
            ]
           ],
           "sequentialminus": [
            [
             0,
             "#0d0887"
            ],
            [
             0.1111111111111111,
             "#46039f"
            ],
            [
             0.2222222222222222,
             "#7201a8"
            ],
            [
             0.3333333333333333,
             "#9c179e"
            ],
            [
             0.4444444444444444,
             "#bd3786"
            ],
            [
             0.5555555555555556,
             "#d8576b"
            ],
            [
             0.6666666666666666,
             "#ed7953"
            ],
            [
             0.7777777777777778,
             "#fb9f3a"
            ],
            [
             0.8888888888888888,
             "#fdca26"
            ],
            [
             1,
             "#f0f921"
            ]
           ]
          },
          "colorway": [
           "#636efa",
           "#EF553B",
           "#00cc96",
           "#ab63fa",
           "#FFA15A",
           "#19d3f3",
           "#FF6692",
           "#B6E880",
           "#FF97FF",
           "#FECB52"
          ],
          "font": {
           "color": "#2a3f5f"
          },
          "geo": {
           "bgcolor": "white",
           "lakecolor": "white",
           "landcolor": "#E5ECF6",
           "showlakes": true,
           "showland": true,
           "subunitcolor": "white"
          },
          "hoverlabel": {
           "align": "left"
          },
          "hovermode": "closest",
          "mapbox": {
           "style": "light"
          },
          "paper_bgcolor": "white",
          "plot_bgcolor": "#E5ECF6",
          "polar": {
           "angularaxis": {
            "gridcolor": "white",
            "linecolor": "white",
            "ticks": ""
           },
           "bgcolor": "#E5ECF6",
           "radialaxis": {
            "gridcolor": "white",
            "linecolor": "white",
            "ticks": ""
           }
          },
          "scene": {
           "xaxis": {
            "backgroundcolor": "#E5ECF6",
            "gridcolor": "white",
            "gridwidth": 2,
            "linecolor": "white",
            "showbackground": true,
            "ticks": "",
            "zerolinecolor": "white"
           },
           "yaxis": {
            "backgroundcolor": "#E5ECF6",
            "gridcolor": "white",
            "gridwidth": 2,
            "linecolor": "white",
            "showbackground": true,
            "ticks": "",
            "zerolinecolor": "white"
           },
           "zaxis": {
            "backgroundcolor": "#E5ECF6",
            "gridcolor": "white",
            "gridwidth": 2,
            "linecolor": "white",
            "showbackground": true,
            "ticks": "",
            "zerolinecolor": "white"
           }
          },
          "shapedefaults": {
           "line": {
            "color": "#2a3f5f"
           }
          },
          "ternary": {
           "aaxis": {
            "gridcolor": "white",
            "linecolor": "white",
            "ticks": ""
           },
           "baxis": {
            "gridcolor": "white",
            "linecolor": "white",
            "ticks": ""
           },
           "bgcolor": "#E5ECF6",
           "caxis": {
            "gridcolor": "white",
            "linecolor": "white",
            "ticks": ""
           }
          },
          "title": {
           "x": 0.05
          },
          "xaxis": {
           "automargin": true,
           "gridcolor": "white",
           "linecolor": "white",
           "ticks": "",
           "title": {
            "standoff": 15
           },
           "zerolinecolor": "white",
           "zerolinewidth": 2
          },
          "yaxis": {
           "automargin": true,
           "gridcolor": "white",
           "linecolor": "white",
           "ticks": "",
           "title": {
            "standoff": 15
           },
           "zerolinecolor": "white",
           "zerolinewidth": 2
          }
         }
        },
        "xaxis": {
         "anchor": "y",
         "domain": [
          0,
          1
         ],
         "title": {
          "text": "from"
         }
        },
        "yaxis": {
         "anchor": "x",
         "domain": [
          0,
          1
         ],
         "title": {
          "text": "upto"
         }
        }
       }
      }
     },
     "metadata": {},
     "output_type": "display_data"
    }
   ],
   "source": [
    "df = data[data[\"currency\"]==\"руб\"]\n",
    "df = df.loc[(df[\"from\"] < 500_000) & (df[\"upto\"] < 500_000)] \n",
    "fig = px.scatter(df, color=\"experience\", x=\"from\", y=\"upto\")\n",
    "fig.show()"
   ]
  },
  {
   "cell_type": "markdown",
   "metadata": {},
   "source": [
    "В целом ожидаемо, видим, что с ростом опыта работы растет и размер заработной платы, однако видим также, что присутствуют странные вакансии предлагающие высокую зарплату при малом опыте и наоборот. Рассмотрим некоторую выборку из этих данных далее"
   ]
  },
  {
   "cell_type": "code",
   "execution_count": 146,
   "metadata": {},
   "outputs": [
    {
     "data": {
      "text/html": [
       "<div>\n",
       "<style scoped>\n",
       "    .dataframe tbody tr th:only-of-type {\n",
       "        vertical-align: middle;\n",
       "    }\n",
       "\n",
       "    .dataframe tbody tr th {\n",
       "        vertical-align: top;\n",
       "    }\n",
       "\n",
       "    .dataframe thead th {\n",
       "        text-align: right;\n",
       "    }\n",
       "</style>\n",
       "<table border=\"1\" class=\"dataframe\">\n",
       "  <thead>\n",
       "    <tr style=\"text-align: right;\">\n",
       "      <th></th>\n",
       "      <th>index</th>\n",
       "      <th>experience</th>\n",
       "      <th>description</th>\n",
       "      <th>salary</th>\n",
       "      <th>tags_list</th>\n",
       "      <th>tags_list_len</th>\n",
       "      <th>from</th>\n",
       "      <th>upto</th>\n",
       "      <th>currency</th>\n",
       "      <th>fulladress</th>\n",
       "    </tr>\n",
       "  </thead>\n",
       "  <tbody>\n",
       "    <tr>\n",
       "      <th>1633</th>\n",
       "      <td>1633</td>\n",
       "      <td>не требуется</td>\n",
       "      <td>Крупное агентство недвижимости «Владис» пригла...</td>\n",
       "      <td>от 100 000 до 500 000 руб. на руки</td>\n",
       "      <td>[Жилая недвижимость, Ведение переговоров, Обуч...</td>\n",
       "      <td>12</td>\n",
       "      <td>100000.0</td>\n",
       "      <td>500000.0</td>\n",
       "      <td>руб</td>\n",
       "      <td>Достоевская, Менделеевская, Новослободская, Мо...</td>\n",
       "    </tr>\n",
       "    <tr>\n",
       "      <th>777</th>\n",
       "      <td>777</td>\n",
       "      <td>не требуется</td>\n",
       "      <td>MAD Estate\\nСоздаем лучшие сделки с недвижимос...</td>\n",
       "      <td>от 150 000 до 500 000 руб. на руки</td>\n",
       "      <td>[Ведение переговоров, Навыки продаж, Активные ...</td>\n",
       "      <td>17</td>\n",
       "      <td>150000.0</td>\n",
       "      <td>500000.0</td>\n",
       "      <td>руб</td>\n",
       "      <td>Москва, улица Неверовского, 10с3А</td>\n",
       "    </tr>\n",
       "  </tbody>\n",
       "</table>\n",
       "</div>"
      ],
      "text/plain": [
       "      index    experience                                        description  \\\n",
       "1633   1633  не требуется  Крупное агентство недвижимости «Владис» пригла...   \n",
       "777     777  не требуется  MAD Estate\\nСоздаем лучшие сделки с недвижимос...   \n",
       "\n",
       "                                  salary  \\\n",
       "1633  от 100 000 до 500 000 руб. на руки   \n",
       "777   от 150 000 до 500 000 руб. на руки   \n",
       "\n",
       "                                              tags_list  tags_list_len  \\\n",
       "1633  [Жилая недвижимость, Ведение переговоров, Обуч...             12   \n",
       "777   [Ведение переговоров, Навыки продаж, Активные ...             17   \n",
       "\n",
       "          from      upto currency  \\\n",
       "1633  100000.0  500000.0      руб   \n",
       "777   150000.0  500000.0      руб   \n",
       "\n",
       "                                             fulladress  \n",
       "1633  Достоевская, Менделеевская, Новослободская, Мо...  \n",
       "777                   Москва, улица Неверовского, 10с3А  "
      ]
     },
     "execution_count": 146,
     "metadata": {},
     "output_type": "execute_result"
    }
   ],
   "source": [
    "df = data[data[\"experience\"]==\"не требуется\"]\n",
    "df = df[df[\"upto\"]>400000]\n",
    "df.sample(frac=0.5)"
   ]
  },
  {
   "cell_type": "code",
   "execution_count": 147,
   "metadata": {},
   "outputs": [
    {
     "data": {
      "text/html": [
       "<div>\n",
       "<style scoped>\n",
       "    .dataframe tbody tr th:only-of-type {\n",
       "        vertical-align: middle;\n",
       "    }\n",
       "\n",
       "    .dataframe tbody tr th {\n",
       "        vertical-align: top;\n",
       "    }\n",
       "\n",
       "    .dataframe thead th {\n",
       "        text-align: right;\n",
       "    }\n",
       "</style>\n",
       "<table border=\"1\" class=\"dataframe\">\n",
       "  <thead>\n",
       "    <tr style=\"text-align: right;\">\n",
       "      <th></th>\n",
       "      <th>index</th>\n",
       "      <th>experience</th>\n",
       "      <th>description</th>\n",
       "      <th>salary</th>\n",
       "      <th>tags_list</th>\n",
       "      <th>tags_list_len</th>\n",
       "      <th>from</th>\n",
       "      <th>upto</th>\n",
       "      <th>currency</th>\n",
       "      <th>fulladress</th>\n",
       "    </tr>\n",
       "  </thead>\n",
       "  <tbody>\n",
       "    <tr>\n",
       "      <th>947</th>\n",
       "      <td>947</td>\n",
       "      <td>1–3 года</td>\n",
       "      <td>Madestate - эффективное агентство элитной недв...</td>\n",
       "      <td>от 200 000 до 600 000 руб. на руки</td>\n",
       "      <td>[Элитная недвижимость, Жилая недвижимость, Вто...</td>\n",
       "      <td>15</td>\n",
       "      <td>200000.0</td>\n",
       "      <td>600000.0</td>\n",
       "      <td>руб</td>\n",
       "      <td>Москва, улица Неверовского, 10с3А</td>\n",
       "    </tr>\n",
       "    <tr>\n",
       "      <th>436</th>\n",
       "      <td>436</td>\n",
       "      <td>1–3 года</td>\n",
       "      <td>Мы - Университет Удаленных Профессий UNINEW. О...</td>\n",
       "      <td>от 100 000 до 500 000 руб. на руки</td>\n",
       "      <td>[Анализ трафика, Ведение мобильных рекламных к...</td>\n",
       "      <td>10</td>\n",
       "      <td>100000.0</td>\n",
       "      <td>500000.0</td>\n",
       "      <td>руб</td>\n",
       "      <td>Москва</td>\n",
       "    </tr>\n",
       "    <tr>\n",
       "      <th>1619</th>\n",
       "      <td>1619</td>\n",
       "      <td>1–3 года</td>\n",
       "      <td>Обязанности:\\nразрабатывать и реализовывать ст...</td>\n",
       "      <td>от 150 000 до 500 000 руб. на руки</td>\n",
       "      <td>[арбитраж трафика, руководитель, affiliate mar...</td>\n",
       "      <td>6</td>\n",
       "      <td>150000.0</td>\n",
       "      <td>500000.0</td>\n",
       "      <td>руб</td>\n",
       "      <td>деревня Новая Купавна, микрорайон Лагуна, 39/2</td>\n",
       "    </tr>\n",
       "    <tr>\n",
       "      <th>430</th>\n",
       "      <td>430</td>\n",
       "      <td>1–3 года</td>\n",
       "      <td>Требуется Управляющий/Операционный директор в ...</td>\n",
       "      <td>от 400 000 до 600 000 руб. на руки</td>\n",
       "      <td>[]</td>\n",
       "      <td>0</td>\n",
       "      <td>400000.0</td>\n",
       "      <td>600000.0</td>\n",
       "      <td>руб</td>\n",
       "      <td>Домодедовская, Москва, Замоскворецкая линия, м...</td>\n",
       "    </tr>\n",
       "  </tbody>\n",
       "</table>\n",
       "</div>"
      ],
      "text/plain": [
       "      index experience                                        description  \\\n",
       "947     947   1–3 года  Madestate - эффективное агентство элитной недв...   \n",
       "436     436   1–3 года  Мы - Университет Удаленных Профессий UNINEW. О...   \n",
       "1619   1619   1–3 года  Обязанности:\\nразрабатывать и реализовывать ст...   \n",
       "430     430   1–3 года  Требуется Управляющий/Операционный директор в ...   \n",
       "\n",
       "                                  salary  \\\n",
       "947   от 200 000 до 600 000 руб. на руки   \n",
       "436   от 100 000 до 500 000 руб. на руки   \n",
       "1619  от 150 000 до 500 000 руб. на руки   \n",
       "430   от 400 000 до 600 000 руб. на руки   \n",
       "\n",
       "                                              tags_list  tags_list_len  \\\n",
       "947   [Элитная недвижимость, Жилая недвижимость, Вто...             15   \n",
       "436   [Анализ трафика, Ведение мобильных рекламных к...             10   \n",
       "1619  [арбитраж трафика, руководитель, affiliate mar...              6   \n",
       "430                                                  []              0   \n",
       "\n",
       "          from      upto currency  \\\n",
       "947   200000.0  600000.0      руб   \n",
       "436   100000.0  500000.0      руб   \n",
       "1619  150000.0  500000.0      руб   \n",
       "430   400000.0  600000.0      руб   \n",
       "\n",
       "                                             fulladress  \n",
       "947                   Москва, улица Неверовского, 10с3А  \n",
       "436                                              Москва  \n",
       "1619     деревня Новая Купавна, микрорайон Лагуна, 39/2  \n",
       "430   Домодедовская, Москва, Замоскворецкая линия, м...  "
      ]
     },
     "execution_count": 147,
     "metadata": {},
     "output_type": "execute_result"
    }
   ],
   "source": [
    "df = data[data[\"experience\"]==\"1–3 года\"]\n",
    "df = df[df[\"upto\"]>400000]\n",
    "df.sample(frac=0.5)"
   ]
  },
  {
   "cell_type": "markdown",
   "metadata": {},
   "source": [
    "Резюме: 1 из 2, либо в сфере продаж недвижимости и wildberries действительно наблюдается тендеция к высоким зарплатам с минимумом опыта, либо, как в случае с некоторыми такими объявлениями остальные условия и требования обсуждаются индивидуально"
   ]
  },
  {
   "cell_type": "markdown",
   "metadata": {},
   "source": [
    "(2) Второе на что хочется обратить внимание это теги, что за какие навыки работадатели готовы платить больше?"
   ]
  },
  {
   "cell_type": "markdown",
   "metadata": {},
   "source": [
    "Число уникальных тегов в вакансиях:"
   ]
  },
  {
   "cell_type": "code",
   "execution_count": 148,
   "metadata": {},
   "outputs": [
    {
     "data": {
      "text/plain": [
       "1865"
      ]
     },
     "execution_count": 148,
     "metadata": {},
     "output_type": "execute_result"
    }
   ],
   "source": [
    "df = data[data[\"tags_list_len\"] > 0][\"tags_list\"]\n",
    "tags_set = set()\n",
    "for i in df:\n",
    "    for j in i:\n",
    "        tags_set.add(j)\n",
    "len(tags_set)"
   ]
  },
  {
   "cell_type": "markdown",
   "metadata": {},
   "source": [
    "Число уникальных тегов в резюме:"
   ]
  },
  {
   "cell_type": "code",
   "execution_count": 149,
   "metadata": {},
   "outputs": [
    {
     "data": {
      "text/plain": [
       "4980"
      ]
     },
     "execution_count": 149,
     "metadata": {},
     "output_type": "execute_result"
    }
   ],
   "source": [
    "df = resume_data[resume_data[\"tags_list_len\"] > 0][\"tags_list\"]\n",
    "tags_set = set()\n",
    "for i in df:\n",
    "    for j in i:\n",
    "        tags_set.add(j)\n",
    "len(tags_set)"
   ]
  },
  {
   "cell_type": "code",
   "execution_count": 150,
   "metadata": {},
   "outputs": [
    {
     "data": {
      "text/html": [
       "<div>\n",
       "<style scoped>\n",
       "    .dataframe tbody tr th:only-of-type {\n",
       "        vertical-align: middle;\n",
       "    }\n",
       "\n",
       "    .dataframe tbody tr th {\n",
       "        vertical-align: top;\n",
       "    }\n",
       "\n",
       "    .dataframe thead th {\n",
       "        text-align: right;\n",
       "    }\n",
       "</style>\n",
       "<table border=\"1\" class=\"dataframe\">\n",
       "  <thead>\n",
       "    <tr style=\"text-align: right;\">\n",
       "      <th></th>\n",
       "      <th>index</th>\n",
       "      <th>experience</th>\n",
       "      <th>description</th>\n",
       "      <th>salary</th>\n",
       "      <th>tags_list</th>\n",
       "      <th>tags_list_len</th>\n",
       "      <th>from</th>\n",
       "      <th>upto</th>\n",
       "      <th>currency</th>\n",
       "      <th>fulladress</th>\n",
       "    </tr>\n",
       "  </thead>\n",
       "  <tbody>\n",
       "    <tr>\n",
       "      <th>1010</th>\n",
       "      <td>1010</td>\n",
       "      <td>3–6 лет</td>\n",
       "      <td>Центр речевой неврологии Федора Краминова «Док...</td>\n",
       "      <td>от 90 000 руб. на руки</td>\n",
       "      <td>[Управление персоналом, Организаторские навыки...</td>\n",
       "      <td>10</td>\n",
       "      <td>90000.0</td>\n",
       "      <td>0.0</td>\n",
       "      <td>руб</td>\n",
       "      <td>Москва</td>\n",
       "    </tr>\n",
       "  </tbody>\n",
       "</table>\n",
       "</div>"
      ],
      "text/plain": [
       "      index experience                                        description  \\\n",
       "1010   1010    3–6 лет  Центр речевой неврологии Федора Краминова «Док...   \n",
       "\n",
       "                      salary  \\\n",
       "1010  от 90 000 руб. на руки   \n",
       "\n",
       "                                              tags_list  tags_list_len  \\\n",
       "1010  [Управление персоналом, Организаторские навыки...             10   \n",
       "\n",
       "         from  upto currency fulladress  \n",
       "1010  90000.0   0.0      руб     Москва  "
      ]
     },
     "execution_count": 150,
     "metadata": {},
     "output_type": "execute_result"
    }
   ],
   "source": [
    "data.sample()"
   ]
  },
  {
   "cell_type": "code",
   "execution_count": 151,
   "metadata": {},
   "outputs": [
    {
     "data": {
      "application/vnd.plotly.v1+json": {
       "config": {
        "plotlyServerURL": "https://plot.ly"
       },
       "data": [
        {
         "name": "upto",
         "type": "bar",
         "x": [
          5,
          5,
          12,
          9,
          0,
          0,
          28,
          5,
          19,
          13,
          11,
          9,
          19,
          12,
          0,
          8,
          21,
          9,
          5,
          7,
          11,
          5,
          4,
          13,
          6,
          7,
          15,
          8,
          0,
          5,
          8,
          10,
          0,
          14,
          5,
          0,
          26,
          24,
          5,
          0,
          7,
          7,
          22,
          5,
          7,
          6,
          14,
          3,
          0,
          18,
          18,
          26,
          8,
          18,
          11,
          6,
          12,
          20,
          8,
          0,
          18,
          6,
          23,
          16,
          18,
          6,
          10,
          7,
          10,
          5,
          8,
          0,
          5,
          0,
          5,
          9,
          15,
          17,
          14,
          5,
          2,
          0,
          8,
          16,
          12,
          17,
          9,
          5,
          0,
          0,
          8,
          7,
          20,
          11,
          0,
          0,
          5,
          0,
          4,
          8,
          6,
          25,
          5,
          12,
          7,
          7,
          5,
          5,
          29,
          8,
          5,
          16,
          7,
          5,
          15,
          10,
          8,
          18,
          8,
          14,
          5,
          0,
          5,
          6,
          20,
          0,
          0,
          11,
          6,
          15,
          30,
          7,
          4,
          10,
          12,
          8,
          12,
          4,
          5,
          13,
          1,
          20,
          5,
          14,
          2,
          10,
          5,
          9,
          8,
          10,
          11,
          5,
          6,
          8,
          25,
          11,
          12,
          20,
          14,
          10,
          10,
          5,
          5,
          11,
          14,
          6,
          5,
          12,
          7,
          9,
          6,
          6,
          5,
          7,
          6,
          9,
          11,
          7,
          5,
          5,
          5,
          8,
          16,
          9,
          0,
          5,
          5,
          5,
          12,
          5,
          7,
          4,
          10,
          4,
          11,
          29,
          12,
          6,
          10,
          5,
          1,
          12,
          8,
          5,
          6,
          5,
          5,
          0,
          25,
          8,
          5,
          10,
          5,
          14,
          9,
          9,
          0,
          9,
          5,
          15,
          17,
          13,
          6,
          3,
          18,
          5,
          9,
          5,
          4,
          2,
          5,
          5,
          0,
          4,
          20,
          5,
          5,
          5,
          11,
          16,
          5,
          5,
          19,
          5,
          11,
          15,
          20,
          3,
          0,
          4,
          4,
          14,
          4,
          5,
          30,
          5,
          5,
          5,
          5,
          13,
          6,
          5,
          7,
          5,
          12,
          14,
          8,
          5,
          6,
          12,
          0,
          8,
          12,
          6,
          4,
          7,
          13,
          10,
          16,
          8,
          5,
          10,
          5,
          17,
          5,
          5,
          19,
          15,
          18,
          5,
          18,
          20,
          5,
          16,
          0,
          18,
          13,
          16,
          5,
          11,
          22,
          12,
          6,
          16,
          5,
          17,
          8,
          23,
          5,
          9,
          3,
          0,
          8,
          1,
          7,
          6,
          13,
          4,
          0,
          10,
          3,
          8,
          1,
          8,
          10,
          18,
          7,
          6,
          15,
          4,
          18,
          6,
          3,
          7,
          4,
          4,
          11,
          13,
          7,
          10,
          0,
          15,
          7,
          9,
          30,
          5,
          13,
          5,
          0,
          16,
          8,
          7,
          6,
          10,
          5,
          30,
          6,
          1,
          5,
          5,
          4,
          0,
          5,
          17,
          11,
          21,
          0,
          5,
          6,
          10,
          19,
          7,
          27,
          5,
          11,
          10,
          9,
          9,
          10,
          1,
          0,
          12,
          5,
          17,
          5,
          5,
          5,
          8,
          16,
          5,
          0,
          12,
          18,
          5,
          11,
          2,
          5,
          5,
          5,
          5,
          5,
          6,
          15,
          14,
          15,
          8,
          17,
          4,
          18,
          5,
          5,
          5,
          8,
          5,
          9,
          17,
          5,
          21,
          0,
          18,
          8,
          12,
          6,
          16,
          7,
          6,
          12,
          12,
          14,
          14,
          0,
          7,
          11,
          7,
          4,
          3,
          10,
          5,
          8,
          0,
          8,
          12,
          7,
          7,
          5,
          13,
          0,
          5,
          8,
          10,
          16,
          11,
          10,
          4,
          5,
          10,
          7,
          5,
          5,
          5,
          24,
          6,
          9,
          8,
          0,
          8,
          17,
          18,
          15,
          13,
          7,
          0,
          0,
          10,
          7,
          5,
          13,
          30,
          9,
          8,
          0,
          0,
          7,
          0,
          5,
          3,
          8,
          5,
          6,
          8,
          8,
          15,
          13,
          7,
          4,
          0,
          12,
          2,
          15,
          12,
          9,
          5,
          3,
          1,
          7,
          7,
          18,
          6,
          11,
          22,
          0,
          0,
          4,
          3,
          17,
          6,
          0,
          7,
          6,
          14,
          7,
          30,
          5,
          1,
          10,
          8,
          8,
          6,
          0,
          21,
          4,
          5,
          14,
          14,
          18,
          0,
          5,
          1,
          6,
          4,
          0,
          5,
          0,
          5,
          10,
          5,
          8,
          17,
          6,
          11,
          6,
          12,
          5,
          10,
          11,
          5,
          8,
          5,
          5,
          11,
          9,
          13,
          31,
          14,
          7,
          15,
          7,
          17,
          14,
          21,
          4,
          19,
          0,
          6,
          9,
          5,
          13,
          6,
          5,
          7,
          18,
          5,
          5,
          9,
          15,
          10,
          0,
          9,
          25,
          7,
          0,
          14,
          5,
          10,
          6,
          10,
          10,
          5,
          30,
          5,
          13,
          3,
          4,
          0,
          28,
          10,
          13,
          18,
          7,
          5,
          7,
          31,
          10,
          5,
          4,
          22,
          5,
          6,
          6,
          10,
          15,
          7,
          5,
          18,
          9,
          9,
          5,
          1,
          13,
          15,
          9,
          0,
          18,
          9,
          5,
          5,
          1,
          14,
          9,
          10,
          2,
          14,
          13,
          12,
          5,
          4,
          7,
          18,
          5,
          6,
          5,
          5,
          0,
          9,
          9,
          4,
          7,
          16,
          4,
          29,
          18,
          7,
          12,
          9,
          23,
          10,
          5,
          18,
          17,
          1,
          0,
          29,
          28,
          5,
          6,
          9,
          5,
          10,
          3,
          11,
          0,
          13,
          9,
          0,
          0,
          19,
          0,
          10,
          1,
          14,
          15,
          6,
          0,
          12,
          0,
          9,
          8,
          11,
          5,
          6,
          15,
          30,
          8,
          3,
          3,
          5,
          5,
          23,
          8,
          5,
          12,
          8,
          23,
          20,
          12,
          7,
          11,
          5,
          4,
          18,
          18,
          16,
          13,
          6,
          5,
          12,
          5,
          1,
          3,
          4,
          5,
          9,
          7,
          9,
          5,
          15,
          5,
          5,
          7,
          14,
          20,
          15,
          10,
          5,
          0,
          5,
          5,
          11,
          2,
          11,
          9,
          7,
          11,
          6,
          5,
          7,
          5,
          7,
          0,
          3,
          4,
          5,
          6,
          5,
          3,
          1,
          21,
          9,
          9,
          4,
          30,
          21,
          15,
          0,
          5,
          15,
          5,
          17,
          5,
          10,
          9,
          6,
          6,
          7,
          8,
          5,
          14,
          30,
          15,
          3,
          18,
          0,
          20,
          15,
          0,
          7,
          0,
          1,
          0,
          3,
          7,
          10,
          17,
          5,
          5,
          5,
          2,
          0,
          7,
          8,
          13,
          5,
          4,
          6,
          10,
          5,
          16,
          4,
          6,
          18,
          4,
          5,
          2,
          9,
          5,
          17,
          7,
          11,
          13,
          5,
          11,
          2,
          5,
          7,
          4,
          1,
          3,
          11,
          6,
          6,
          7,
          20,
          0,
          1,
          8,
          8,
          10,
          5,
          0,
          6,
          13,
          4,
          5,
          5,
          7,
          7,
          14,
          12,
          0,
          6,
          5,
          4,
          14,
          5,
          6,
          8,
          17,
          5,
          6,
          5,
          12,
          5,
          0,
          10,
          5,
          14,
          5,
          6,
          5,
          11,
          5,
          5,
          8,
          15,
          8,
          9,
          7,
          7,
          0,
          14,
          0,
          3,
          13,
          6,
          10,
          5,
          15,
          5,
          16,
          12,
          5,
          30,
          14,
          7,
          5,
          10,
          17,
          11,
          9,
          0,
          13,
          10,
          4,
          7,
          5,
          6,
          5,
          6,
          6,
          0,
          5,
          4,
          6,
          4,
          18,
          13,
          14,
          18,
          5,
          10,
          5,
          9,
          6,
          14,
          0,
          5,
          5,
          17,
          5,
          15,
          18,
          13,
          17,
          16,
          10,
          5,
          15,
          15,
          9,
          10,
          15,
          15,
          16,
          11,
          13,
          15,
          10,
          6,
          12,
          5,
          5,
          5,
          19,
          7,
          14,
          6,
          18,
          5,
          2,
          2,
          4,
          11,
          11,
          6,
          10,
          5,
          4,
          5,
          0,
          7,
          5,
          13,
          6,
          4,
          11,
          3,
          11,
          9,
          5,
          8,
          5,
          18,
          8,
          7,
          19,
          4,
          5,
          7,
          5,
          9,
          7,
          13,
          10,
          11,
          5,
          22,
          0,
          9,
          5,
          17,
          10,
          13,
          0,
          0,
          1,
          23,
          12,
          14,
          16,
          5,
          11,
          19,
          30,
          6,
          0,
          14,
          18,
          2,
          20,
          7,
          13,
          5,
          14,
          11,
          5,
          4,
          6,
          7,
          16,
          0,
          6,
          4,
          5,
          0,
          11,
          5,
          12,
          12,
          9,
          5,
          16,
          6,
          11,
          9,
          7,
          5,
          5,
          24,
          15,
          10,
          11,
          10,
          1,
          3,
          15,
          5,
          16,
          17,
          9,
          8,
          17,
          4,
          5,
          5,
          5,
          4,
          8,
          7,
          18,
          6,
          8,
          6,
          8,
          4,
          6,
          5,
          17,
          5,
          8,
          5,
          10,
          8,
          7,
          4,
          0,
          8,
          11,
          4,
          5,
          7,
          8,
          13,
          5,
          5,
          9,
          13,
          0,
          22,
          0,
          6,
          4,
          0,
          0,
          6,
          3,
          5,
          9,
          15,
          12,
          7,
          2,
          11,
          5,
          14,
          3,
          0,
          5,
          0,
          6,
          13,
          15,
          5,
          5,
          0,
          1,
          15,
          0,
          0,
          13,
          5,
          10,
          10,
          12,
          6,
          5,
          9,
          4,
          0,
          10,
          21,
          9,
          7,
          12,
          0,
          0,
          10,
          9,
          0,
          2,
          0,
          30,
          5,
          5,
          5,
          5,
          17,
          8,
          8,
          5,
          0,
          5,
          6,
          0,
          9,
          13,
          12,
          6,
          0,
          5,
          9,
          20,
          4,
          7,
          15,
          5,
          7,
          4,
          11,
          0,
          6,
          5,
          19,
          6,
          0,
          0,
          4,
          11,
          5,
          4,
          5,
          5,
          4,
          0,
          17,
          13,
          0,
          5,
          6,
          10,
          6,
          8,
          6,
          0,
          8,
          0,
          0,
          14,
          10,
          0,
          4,
          6,
          8,
          5,
          8,
          6,
          18,
          8,
          2,
          5,
          10,
          4,
          19,
          8,
          24,
          9,
          4,
          16,
          8,
          4,
          5,
          9,
          10,
          13,
          13,
          11,
          6,
          5,
          5,
          5,
          8,
          5,
          7,
          9,
          0,
          13,
          1,
          5,
          30,
          0,
          6,
          4,
          5,
          7,
          5,
          0,
          4,
          6,
          8,
          0,
          5,
          11,
          0,
          4,
          13,
          5,
          10,
          0,
          7,
          9,
          11,
          6,
          9,
          23,
          8,
          5,
          5,
          6,
          6,
          21,
          10,
          4,
          5,
          30,
          10,
          13,
          11,
          0,
          0,
          21,
          8,
          5,
          5,
          12,
          13,
          5,
          5,
          5,
          8,
          18,
          5,
          5,
          7,
          10,
          5,
          7,
          11,
          0,
          20,
          15,
          6,
          2,
          0,
          20,
          21,
          18,
          21,
          19,
          5,
          5,
          7,
          5,
          5,
          5,
          0,
          5,
          12,
          7,
          2,
          3,
          6,
          5,
          21,
          7,
          5,
          5,
          0,
          5,
          5,
          0,
          10,
          5,
          5,
          13,
          6,
          6,
          7,
          6,
          9,
          1,
          5,
          5,
          5,
          5,
          5,
          6,
          5,
          8,
          10,
          5,
          16,
          9,
          9,
          8,
          15,
          5,
          7,
          15,
          5,
          7,
          2,
          5,
          16,
          5,
          8,
          5,
          8,
          16,
          3,
          14,
          7,
          30,
          6,
          5,
          7,
          8,
          8,
          5,
          10,
          14,
          5,
          14,
          5,
          10,
          15,
          9,
          5,
          9,
          7,
          10,
          10,
          3,
          0,
          6,
          12,
          5,
          11,
          0,
          10,
          5,
          5,
          14,
          12,
          5,
          5,
          7,
          13,
          6,
          8,
          30,
          4,
          5,
          24,
          14,
          6,
          6,
          0,
          0,
          5,
          22,
          23,
          20,
          13,
          8,
          9,
          7,
          5,
          8,
          13,
          6,
          19,
          0,
          0,
          5,
          11,
          9,
          5,
          9,
          5,
          7,
          15,
          11,
          16,
          9,
          16,
          12,
          3,
          8,
          17,
          5,
          12,
          7,
          10,
          15,
          24,
          0,
          11,
          8,
          5,
          16,
          4,
          5,
          5,
          0,
          8,
          12,
          11,
          11,
          5,
          4,
          10,
          5,
          16,
          9,
          0,
          3,
          5,
          5,
          7,
          6,
          6,
          6,
          10,
          14,
          8,
          5,
          11,
          16,
          6,
          0,
          5,
          5,
          5,
          9,
          5,
          10,
          5,
          5,
          9,
          5,
          0,
          5,
          5,
          0,
          5,
          11,
          5,
          5,
          7,
          17,
          10,
          21,
          5,
          1,
          5,
          18,
          5,
          8,
          7,
          5,
          18,
          30,
          16,
          8,
          5,
          5,
          5,
          4,
          11,
          12,
          5,
          10,
          11,
          9,
          5,
          10,
          10,
          6,
          0,
          31,
          10,
          4,
          6,
          3,
          15,
          17,
          6,
          10,
          19,
          10,
          2,
          31,
          5,
          7,
          4,
          12,
          5,
          12,
          10,
          5,
          7,
          8,
          2,
          5,
          5,
          2,
          3,
          5,
          6,
          17,
          6,
          12,
          5,
          9,
          5,
          19,
          7,
          6,
          4,
          6,
          6,
          4,
          5,
          10,
          13,
          10,
          5,
          5,
          5,
          5,
          7,
          8,
          5,
          7,
          5,
          6,
          15,
          7,
          0,
          1,
          6,
          5,
          6,
          15,
          14,
          1,
          15,
          6,
          10,
          8,
          12,
          5,
          15,
          0,
          12,
          6,
          14,
          0,
          2,
          12,
          1,
          9,
          14,
          5,
          5,
          29,
          10,
          13,
          6,
          1,
          6,
          5,
          11,
          9,
          10,
          15,
          10,
          5,
          17,
          14,
          6,
          12,
          24,
          24,
          9,
          5,
          18,
          10,
          8,
          26,
          5,
          9,
          4,
          0,
          19,
          10,
          0,
          19,
          9,
          5,
          12,
          0,
          0,
          6,
          10,
          11,
          7,
          12,
          5,
          14,
          5,
          13,
          6,
          0,
          0,
          14,
          12,
          12,
          13,
          1,
          20,
          0,
          16,
          20,
          17,
          11,
          10,
          7,
          4,
          5
         ],
         "y": [
          0,
          0,
          400000,
          120000,
          0,
          0,
          410000,
          0,
          250000,
          150000,
          0,
          0,
          200000,
          200000,
          180000,
          0,
          200000,
          140000,
          0,
          0,
          120000,
          0,
          0,
          0,
          150000,
          300000,
          0,
          250000,
          0,
          0,
          0,
          0,
          0,
          0,
          200000,
          0,
          0,
          90000,
          150000,
          0,
          200000,
          0,
          300000,
          0,
          0,
          0,
          1000,
          0,
          120000,
          0,
          0,
          500000,
          0,
          200000,
          0,
          0,
          200000,
          0,
          0,
          0,
          250000,
          0,
          250000,
          0,
          300000,
          250000,
          200000,
          300000,
          200000,
          0,
          140000,
          0,
          200000,
          450000,
          0,
          0,
          600000,
          250000,
          180000,
          0,
          120000,
          150000,
          0,
          170000,
          300000,
          0,
          150000,
          350000,
          500000,
          0,
          0,
          0,
          150000,
          250000,
          140000,
          0,
          0,
          0,
          0,
          0,
          0,
          170000,
          0,
          0,
          0,
          150000,
          130000,
          120000,
          15000,
          120000,
          0,
          0,
          0,
          120000,
          150000,
          150000,
          200000,
          300000,
          0,
          100000,
          200000,
          0,
          0,
          150000,
          200000,
          95000,
          0,
          120000,
          0,
          150000,
          250000,
          150000,
          0,
          240000,
          400000,
          0,
          0,
          100000,
          0,
          90000,
          0,
          0,
          150000,
          0,
          0,
          0,
          200000,
          2000,
          150000,
          250000,
          0,
          200000,
          150000,
          0,
          0,
          0,
          250000,
          0,
          0,
          80000,
          0,
          0,
          150000,
          120000,
          130000,
          300000,
          0,
          0,
          0,
          0,
          200000,
          2000,
          120000,
          150000,
          0,
          0,
          150000,
          35000,
          300000,
          200000,
          0,
          200000,
          150000,
          0,
          0,
          250000,
          0,
          200000,
          200000,
          0,
          150000,
          0,
          300000,
          0,
          30000,
          0,
          0,
          0,
          0,
          0,
          200000,
          0,
          0,
          250000,
          0,
          200000,
          0,
          200000,
          0,
          0,
          300000,
          500000,
          0,
          0,
          180000,
          0,
          0,
          220000,
          0,
          0,
          0,
          250000,
          0,
          0,
          180000,
          0,
          0,
          200000,
          0,
          0,
          0,
          0,
          0,
          90000,
          0,
          200000,
          0,
          0,
          120000,
          150000,
          100000,
          200000,
          0,
          0,
          0,
          120000,
          0,
          0,
          300000,
          0,
          0,
          100000,
          0,
          200000,
          0,
          0,
          150000,
          0,
          0,
          300000,
          70000,
          500000,
          90000,
          90000,
          180000,
          180000,
          200000,
          0,
          110000,
          75000,
          0,
          0,
          0,
          250000,
          100000,
          0,
          115000,
          150000,
          200000,
          260000,
          0,
          0,
          100000,
          250000,
          0,
          0,
          0,
          0,
          0,
          0,
          100000,
          0,
          0,
          0,
          0,
          0,
          0,
          3000,
          0,
          0,
          70000,
          0,
          0,
          0,
          0,
          100000,
          250000,
          150000,
          200000,
          120000,
          300000,
          90000,
          40000,
          0,
          150000,
          0,
          120000,
          90000,
          0,
          100000,
          195167,
          0,
          0,
          0,
          0,
          0,
          90000,
          143000,
          100000,
          150000,
          40000,
          0,
          0,
          0,
          0,
          120000,
          200000,
          0,
          0,
          0,
          0,
          160000,
          0,
          0,
          300000,
          0,
          0,
          110000,
          0,
          0,
          170000,
          0,
          0,
          150000,
          150000,
          200000,
          0,
          0,
          0,
          150000,
          186000,
          120000,
          0,
          80000,
          180000,
          120000,
          0,
          140000,
          150000,
          0,
          150000,
          80000,
          0,
          150000,
          120000,
          0,
          0,
          0,
          0,
          0,
          0,
          0,
          0,
          0,
          150000,
          0,
          0,
          0,
          200000,
          0,
          150000,
          150000,
          200000,
          200000,
          0,
          160000,
          0,
          0,
          130000,
          80000,
          80000,
          0,
          0,
          160000,
          0,
          148500,
          200000,
          300000,
          80000,
          0,
          0,
          0,
          150000,
          60000,
          0,
          0,
          0,
          0,
          230000,
          0,
          0,
          0,
          0,
          350000,
          0,
          0,
          1500,
          130000,
          120000,
          0,
          600000,
          200000,
          0,
          0,
          0,
          0,
          500000,
          0,
          200000,
          0,
          200000,
          150000,
          300000,
          160000,
          0,
          180000,
          0,
          0,
          150000,
          250000,
          0,
          0,
          0,
          600000,
          800000,
          300000,
          0,
          0,
          250000,
          150000,
          400000,
          150000,
          0,
          150000,
          0,
          75000,
          0,
          150000,
          0,
          150000,
          0,
          70000,
          0,
          80000,
          0,
          80000,
          150000,
          0,
          160000,
          0,
          0,
          120000,
          0,
          100000,
          250000,
          0,
          0,
          0,
          120000,
          0,
          0,
          0,
          0,
          0,
          0,
          0,
          0,
          0,
          150000,
          0,
          150000,
          0,
          0,
          130000,
          150000,
          700000,
          0,
          130000,
          0,
          130000,
          0,
          0,
          0,
          0,
          0,
          0,
          0,
          0,
          300000,
          65000,
          0,
          0,
          0,
          50000,
          0,
          60000,
          180000,
          250000,
          130000,
          0,
          100000,
          0,
          120000,
          0,
          0,
          0,
          0,
          0,
          0,
          55000,
          0,
          0,
          150000,
          0,
          0,
          120000,
          65000,
          150000,
          300000,
          90000,
          120000,
          300000,
          0,
          0,
          0,
          0,
          100000,
          0,
          80000,
          300000,
          0,
          100000,
          50000,
          0,
          0,
          0,
          90000,
          0,
          100000,
          0,
          0,
          0,
          220000,
          63000,
          0,
          150000,
          0,
          0,
          0,
          250000,
          150000,
          150000,
          100000,
          100000,
          80000,
          0,
          0,
          100000,
          200000,
          300000,
          0,
          0,
          250000,
          200000,
          0,
          200000,
          0,
          0,
          0,
          0,
          0,
          0,
          120000,
          0,
          150000,
          0,
          0,
          0,
          0,
          0,
          150000,
          150000,
          0,
          150000,
          500000,
          0,
          0,
          100000,
          50000,
          220000,
          0,
          0,
          0,
          105000,
          60000,
          70000,
          0,
          200000,
          60000,
          200000,
          200000,
          250000,
          0,
          100000,
          100000,
          40000,
          0,
          0,
          140000,
          150000,
          0,
          250000,
          0,
          0,
          120000,
          0,
          0,
          700000,
          200000,
          0,
          60000,
          80000,
          150000,
          100000,
          0,
          150000,
          150000,
          0,
          0,
          0,
          0,
          80000,
          0,
          0,
          100000,
          0,
          400000,
          100000,
          90000,
          91954,
          150000,
          0,
          180000,
          120000,
          0,
          0,
          0,
          100000,
          0,
          0,
          0,
          100000,
          150000,
          40000,
          0,
          120000,
          0,
          0,
          90000,
          0,
          0,
          0,
          0,
          0,
          400000,
          0,
          200000,
          60000,
          0,
          150000,
          120000,
          0,
          0,
          4500,
          0,
          0,
          5000,
          87000,
          120000,
          0,
          50000,
          0,
          88000,
          0,
          0,
          100000,
          200000,
          0,
          0,
          150000,
          0,
          120000,
          0,
          0,
          0,
          0,
          0,
          180000,
          0,
          0,
          0,
          0,
          0,
          35000,
          80000,
          0,
          80000,
          70000,
          0,
          0,
          90000,
          0,
          90000,
          0,
          70000,
          0,
          130000,
          0,
          150000,
          0,
          90000,
          130000,
          40000,
          0,
          0,
          150000,
          0,
          120000,
          150000,
          0,
          0,
          0,
          0,
          0,
          0,
          0,
          0,
          0,
          1500,
          0,
          0,
          0,
          80000,
          0,
          35000,
          0,
          90000,
          500000,
          112000,
          100000,
          0,
          60000,
          120000,
          120000,
          100000,
          60000,
          0,
          80000,
          0,
          240000,
          150000,
          0,
          0,
          0,
          0,
          0,
          0,
          0,
          0,
          80000,
          0,
          92000,
          0,
          0,
          0,
          0,
          50000,
          100000,
          0,
          0,
          150000,
          0,
          80000,
          150000,
          250000,
          120000,
          85000,
          0,
          90000,
          0,
          160000,
          160000,
          350000,
          120000,
          90000,
          0,
          120000,
          180000,
          70000,
          0,
          240000,
          0,
          90000,
          60000,
          0,
          0,
          70000,
          200000,
          0,
          100000,
          0,
          120000,
          0,
          0,
          60000,
          0,
          0,
          55000,
          120000,
          58300,
          0,
          0,
          55000,
          0,
          180000,
          200000,
          0,
          0,
          200000,
          0,
          150000,
          300000,
          120000,
          0,
          180000,
          230000,
          80000,
          130000,
          0,
          70000,
          0,
          100000,
          0,
          300000,
          0,
          40000,
          0,
          80000,
          0,
          150000,
          0,
          0,
          130000,
          0,
          0,
          0,
          0,
          150000,
          0,
          0,
          70000,
          200000,
          115000,
          0,
          200000,
          0,
          0,
          0,
          60000,
          0,
          0,
          0,
          300000,
          0,
          180000,
          60000,
          0,
          120000,
          80000,
          80000,
          300000,
          0,
          150000,
          0,
          300000,
          100000,
          0,
          150000,
          0,
          320000,
          220000,
          30000,
          100000,
          0,
          0,
          100000,
          120000,
          0,
          150000,
          200000,
          100000,
          0,
          0,
          300000,
          0,
          0,
          220000,
          150000,
          0,
          120000,
          0,
          200000,
          0,
          0,
          300000,
          0,
          200000,
          600000,
          0,
          0,
          200000,
          70000,
          170000,
          100000,
          45000,
          200000,
          100000,
          140000,
          0,
          0,
          300000,
          120000,
          0,
          92000,
          55000,
          0,
          200000,
          0,
          50000,
          75000,
          250000,
          150000,
          0,
          75000,
          300000,
          0,
          0,
          70000,
          4000,
          0,
          50000,
          180000,
          80000,
          150000,
          500000,
          80000,
          180000,
          300000,
          0,
          0,
          350000,
          0,
          5000,
          45000,
          0,
          120000,
          0,
          300000,
          250000,
          250000,
          80000,
          120000,
          0,
          100000,
          0,
          0,
          0,
          0,
          4000,
          0,
          0,
          10000,
          120000,
          120000,
          90000,
          400000,
          0,
          130000,
          100000,
          35000,
          0,
          0,
          40500,
          0,
          0,
          0,
          0,
          40000,
          20000,
          0,
          0,
          0,
          65000,
          0,
          0,
          0,
          0,
          150000,
          0,
          0,
          80000,
          160000,
          0,
          200000,
          60000,
          0,
          110000,
          110000,
          150000,
          0,
          190000,
          70000,
          0,
          150000,
          0,
          0,
          0,
          150000,
          250000,
          150000,
          70000,
          0,
          65000,
          0,
          0,
          0,
          120000,
          0,
          0,
          0,
          150000,
          0,
          130000,
          0,
          50000,
          0,
          0,
          0,
          0,
          0,
          180000,
          60000,
          0,
          0,
          130000,
          0,
          0,
          65000,
          250000,
          0,
          60000,
          55000,
          0,
          100000,
          0,
          0,
          0,
          0,
          45000,
          100000,
          0,
          100000,
          0,
          40000,
          0,
          0,
          0,
          150000,
          100000,
          0,
          120000,
          0,
          0,
          60000,
          0,
          0,
          1500,
          0,
          120000,
          0,
          0,
          200000,
          0,
          0,
          0,
          0,
          0,
          0,
          0,
          150000,
          0,
          45000,
          0,
          450000,
          0,
          200000,
          0,
          80000,
          120000,
          120000,
          80000,
          100000,
          0,
          380000,
          0,
          60000,
          60000,
          0,
          0,
          210000,
          120000,
          110000,
          55000,
          0,
          220000,
          0,
          0,
          0,
          150000,
          0,
          100000,
          0,
          80000,
          120000,
          0,
          180000,
          75000,
          0,
          0,
          120000,
          0,
          120000,
          250000,
          0,
          0,
          0,
          0,
          0,
          0,
          0,
          0,
          0,
          80000,
          300000,
          40000,
          0,
          0,
          160000,
          50000,
          100000,
          0,
          0,
          0,
          70000,
          100000,
          500000,
          80000,
          0,
          300000,
          270000,
          0,
          0,
          250000,
          0,
          0,
          0,
          0,
          0,
          0,
          130000,
          25000,
          0,
          15000,
          140000,
          0,
          0,
          70000,
          150000,
          150000,
          0,
          80000,
          0,
          0,
          0,
          0,
          150000,
          180000,
          0,
          0,
          0,
          0,
          300000,
          0,
          40000,
          100000,
          0,
          0,
          0,
          40000,
          150000,
          0,
          0,
          500000,
          60000,
          50000,
          0,
          0,
          0,
          0,
          120000,
          150000,
          0,
          0,
          80000,
          250000,
          0,
          0,
          250000,
          0,
          0,
          0,
          200000,
          0,
          80000,
          200000,
          150000,
          120000,
          200000,
          0,
          140000,
          122800,
          0,
          0,
          200000,
          0,
          0,
          50000,
          180000,
          40000,
          80000,
          0,
          0,
          0,
          0,
          0,
          0,
          0,
          0,
          0,
          150000,
          0,
          0,
          150000,
          300000,
          200000,
          0,
          0,
          0,
          80000,
          0,
          0,
          40000,
          200000,
          80000,
          150000,
          70000,
          80000,
          200000,
          150000,
          0,
          55000,
          0,
          0,
          40000,
          110000,
          40000,
          72000,
          0,
          90000,
          0,
          0,
          0,
          0,
          0,
          90000,
          0,
          150000,
          0,
          0,
          120000,
          120000,
          100000,
          300000,
          200000,
          0,
          40000,
          400000,
          45000,
          200000,
          350000,
          80000,
          150000,
          0,
          70000,
          80000,
          180000,
          0,
          80000,
          250000,
          0,
          0,
          0,
          120000,
          0,
          0,
          0,
          120000,
          70000,
          120000,
          0,
          72000,
          70000,
          300000,
          0,
          0,
          350000,
          200000,
          120000,
          0,
          95000,
          80000,
          100000,
          200000,
          60000,
          140000,
          80000,
          0,
          100000,
          80000,
          70000,
          250000,
          0,
          80000,
          80000,
          0,
          4200,
          170000,
          60000,
          120000,
          90000,
          120000,
          160000,
          0,
          0,
          0,
          0,
          170000,
          0,
          0,
          160000,
          0,
          0,
          150000,
          200000,
          140000,
          88600,
          1500,
          300000,
          0,
          180000,
          120000,
          0,
          80000,
          250000,
          0,
          75000,
          0,
          270000,
          0,
          60000,
          0,
          0,
          200000,
          80000,
          0,
          0,
          260000,
          750000,
          0,
          0,
          150000,
          25000,
          0,
          0,
          300000,
          0,
          0,
          65000,
          90000,
          0,
          100000,
          0,
          0,
          0,
          0,
          200000,
          64000,
          0,
          150000,
          120000,
          0,
          73080,
          290000,
          0,
          0,
          0,
          0,
          120000,
          0,
          125000,
          0,
          0,
          250000,
          110000,
          150000,
          0,
          0,
          0,
          0,
          0,
          0,
          0,
          85000,
          0,
          150000,
          0,
          300000,
          0,
          60000,
          0,
          0,
          130000,
          0,
          60000,
          0,
          60000,
          170000,
          0,
          0,
          0,
          120000,
          0,
          100000,
          0,
          0,
          0,
          0,
          0,
          0,
          0,
          0,
          60000,
          250000,
          7000,
          0,
          0,
          180000,
          0,
          0,
          0,
          0,
          0,
          150000,
          30000,
          0,
          0,
          0,
          0,
          0,
          0,
          0,
          500000,
          90000,
          0,
          0,
          0,
          0,
          0,
          80000,
          0,
          40000,
          0,
          0,
          500000,
          170000,
          0,
          25000,
          0,
          50000,
          300000,
          249000,
          80000,
          60000,
          0,
          0,
          0,
          120000,
          60000,
          0,
          0,
          400000,
          150000,
          0,
          0,
          0,
          0,
          0,
          0,
          0,
          100000,
          300000,
          250000,
          0,
          70000,
          0,
          0,
          0,
          0,
          0,
          3000,
          0,
          0,
          0,
          0,
          80000,
          0,
          0,
          0,
          90000,
          350000,
          200000,
          0,
          130000,
          0,
          0,
          75000,
          0,
          64000,
          120000,
          150000,
          120000,
          120000,
          0,
          110000,
          400000,
          90000,
          0,
          150000,
          0,
          0,
          0,
          110000,
          0,
          0,
          160000,
          0,
          0,
          0,
          0,
          0,
          0,
          100000,
          90000,
          0,
          0,
          0,
          0,
          80000,
          0,
          500000,
          90000,
          500000,
          0,
          0,
          90000,
          400000,
          0,
          400000,
          0,
          105000,
          150000,
          0,
          180000,
          500000,
          100000,
          60000,
          85000,
          0,
          220000,
          35000,
          120000,
          0,
          0,
          90000,
          70000,
          0,
          0,
          0,
          100000,
          0,
          0,
          180000,
          0,
          60000,
          20000,
          0,
          0,
          150000,
          100000,
          0,
          0,
          0,
          150000,
          120000,
          4500,
          350000,
          0,
          0,
          500000,
          0,
          650000,
          400000,
          0,
          350000,
          0,
          400000,
          0,
          0,
          300000,
          0,
          300000,
          0,
          0,
          180000,
          650000,
          0,
          0,
          0,
          0,
          0,
          200000,
          0,
          200000,
          0,
          200000,
          0,
          0,
          0,
          0,
          400000,
          120000,
          0,
          0,
          250000,
          100000,
          0,
          0,
          0,
          0
         ]
        },
        {
         "name": "from",
         "type": "bar",
         "x": [
          5,
          5,
          12,
          9,
          0,
          0,
          28,
          5,
          19,
          13,
          11,
          9,
          19,
          12,
          0,
          8,
          21,
          9,
          5,
          7,
          11,
          5,
          4,
          13,
          6,
          7,
          15,
          8,
          0,
          5,
          8,
          10,
          0,
          14,
          5,
          0,
          26,
          24,
          5,
          0,
          7,
          7,
          22,
          5,
          7,
          6,
          14,
          3,
          0,
          18,
          18,
          26,
          8,
          18,
          11,
          6,
          12,
          20,
          8,
          0,
          18,
          6,
          23,
          16,
          18,
          6,
          10,
          7,
          10,
          5,
          8,
          0,
          5,
          0,
          5,
          9,
          15,
          17,
          14,
          5,
          2,
          0,
          8,
          16,
          12,
          17,
          9,
          5,
          0,
          0,
          8,
          7,
          20,
          11,
          0,
          0,
          5,
          0,
          4,
          8,
          6,
          25,
          5,
          12,
          7,
          7,
          5,
          5,
          29,
          8,
          5,
          16,
          7,
          5,
          15,
          10,
          8,
          18,
          8,
          14,
          5,
          0,
          5,
          6,
          20,
          0,
          0,
          11,
          6,
          15,
          30,
          7,
          4,
          10,
          12,
          8,
          12,
          4,
          5,
          13,
          1,
          20,
          5,
          14,
          2,
          10,
          5,
          9,
          8,
          10,
          11,
          5,
          6,
          8,
          25,
          11,
          12,
          20,
          14,
          10,
          10,
          5,
          5,
          11,
          14,
          6,
          5,
          12,
          7,
          9,
          6,
          6,
          5,
          7,
          6,
          9,
          11,
          7,
          5,
          5,
          5,
          8,
          16,
          9,
          0,
          5,
          5,
          5,
          12,
          5,
          7,
          4,
          10,
          4,
          11,
          29,
          12,
          6,
          10,
          5,
          1,
          12,
          8,
          5,
          6,
          5,
          5,
          0,
          25,
          8,
          5,
          10,
          5,
          14,
          9,
          9,
          0,
          9,
          5,
          15,
          17,
          13,
          6,
          3,
          18,
          5,
          9,
          5,
          4,
          2,
          5,
          5,
          0,
          4,
          20,
          5,
          5,
          5,
          11,
          16,
          5,
          5,
          19,
          5,
          11,
          15,
          20,
          3,
          0,
          4,
          4,
          14,
          4,
          5,
          30,
          5,
          5,
          5,
          5,
          13,
          6,
          5,
          7,
          5,
          12,
          14,
          8,
          5,
          6,
          12,
          0,
          8,
          12,
          6,
          4,
          7,
          13,
          10,
          16,
          8,
          5,
          10,
          5,
          17,
          5,
          5,
          19,
          15,
          18,
          5,
          18,
          20,
          5,
          16,
          0,
          18,
          13,
          16,
          5,
          11,
          22,
          12,
          6,
          16,
          5,
          17,
          8,
          23,
          5,
          9,
          3,
          0,
          8,
          1,
          7,
          6,
          13,
          4,
          0,
          10,
          3,
          8,
          1,
          8,
          10,
          18,
          7,
          6,
          15,
          4,
          18,
          6,
          3,
          7,
          4,
          4,
          11,
          13,
          7,
          10,
          0,
          15,
          7,
          9,
          30,
          5,
          13,
          5,
          0,
          16,
          8,
          7,
          6,
          10,
          5,
          30,
          6,
          1,
          5,
          5,
          4,
          0,
          5,
          17,
          11,
          21,
          0,
          5,
          6,
          10,
          19,
          7,
          27,
          5,
          11,
          10,
          9,
          9,
          10,
          1,
          0,
          12,
          5,
          17,
          5,
          5,
          5,
          8,
          16,
          5,
          0,
          12,
          18,
          5,
          11,
          2,
          5,
          5,
          5,
          5,
          5,
          6,
          15,
          14,
          15,
          8,
          17,
          4,
          18,
          5,
          5,
          5,
          8,
          5,
          9,
          17,
          5,
          21,
          0,
          18,
          8,
          12,
          6,
          16,
          7,
          6,
          12,
          12,
          14,
          14,
          0,
          7,
          11,
          7,
          4,
          3,
          10,
          5,
          8,
          0,
          8,
          12,
          7,
          7,
          5,
          13,
          0,
          5,
          8,
          10,
          16,
          11,
          10,
          4,
          5,
          10,
          7,
          5,
          5,
          5,
          24,
          6,
          9,
          8,
          0,
          8,
          17,
          18,
          15,
          13,
          7,
          0,
          0,
          10,
          7,
          5,
          13,
          30,
          9,
          8,
          0,
          0,
          7,
          0,
          5,
          3,
          8,
          5,
          6,
          8,
          8,
          15,
          13,
          7,
          4,
          0,
          12,
          2,
          15,
          12,
          9,
          5,
          3,
          1,
          7,
          7,
          18,
          6,
          11,
          22,
          0,
          0,
          4,
          3,
          17,
          6,
          0,
          7,
          6,
          14,
          7,
          30,
          5,
          1,
          10,
          8,
          8,
          6,
          0,
          21,
          4,
          5,
          14,
          14,
          18,
          0,
          5,
          1,
          6,
          4,
          0,
          5,
          0,
          5,
          10,
          5,
          8,
          17,
          6,
          11,
          6,
          12,
          5,
          10,
          11,
          5,
          8,
          5,
          5,
          11,
          9,
          13,
          31,
          14,
          7,
          15,
          7,
          17,
          14,
          21,
          4,
          19,
          0,
          6,
          9,
          5,
          13,
          6,
          5,
          7,
          18,
          5,
          5,
          9,
          15,
          10,
          0,
          9,
          25,
          7,
          0,
          14,
          5,
          10,
          6,
          10,
          10,
          5,
          30,
          5,
          13,
          3,
          4,
          0,
          28,
          10,
          13,
          18,
          7,
          5,
          7,
          31,
          10,
          5,
          4,
          22,
          5,
          6,
          6,
          10,
          15,
          7,
          5,
          18,
          9,
          9,
          5,
          1,
          13,
          15,
          9,
          0,
          18,
          9,
          5,
          5,
          1,
          14,
          9,
          10,
          2,
          14,
          13,
          12,
          5,
          4,
          7,
          18,
          5,
          6,
          5,
          5,
          0,
          9,
          9,
          4,
          7,
          16,
          4,
          29,
          18,
          7,
          12,
          9,
          23,
          10,
          5,
          18,
          17,
          1,
          0,
          29,
          28,
          5,
          6,
          9,
          5,
          10,
          3,
          11,
          0,
          13,
          9,
          0,
          0,
          19,
          0,
          10,
          1,
          14,
          15,
          6,
          0,
          12,
          0,
          9,
          8,
          11,
          5,
          6,
          15,
          30,
          8,
          3,
          3,
          5,
          5,
          23,
          8,
          5,
          12,
          8,
          23,
          20,
          12,
          7,
          11,
          5,
          4,
          18,
          18,
          16,
          13,
          6,
          5,
          12,
          5,
          1,
          3,
          4,
          5,
          9,
          7,
          9,
          5,
          15,
          5,
          5,
          7,
          14,
          20,
          15,
          10,
          5,
          0,
          5,
          5,
          11,
          2,
          11,
          9,
          7,
          11,
          6,
          5,
          7,
          5,
          7,
          0,
          3,
          4,
          5,
          6,
          5,
          3,
          1,
          21,
          9,
          9,
          4,
          30,
          21,
          15,
          0,
          5,
          15,
          5,
          17,
          5,
          10,
          9,
          6,
          6,
          7,
          8,
          5,
          14,
          30,
          15,
          3,
          18,
          0,
          20,
          15,
          0,
          7,
          0,
          1,
          0,
          3,
          7,
          10,
          17,
          5,
          5,
          5,
          2,
          0,
          7,
          8,
          13,
          5,
          4,
          6,
          10,
          5,
          16,
          4,
          6,
          18,
          4,
          5,
          2,
          9,
          5,
          17,
          7,
          11,
          13,
          5,
          11,
          2,
          5,
          7,
          4,
          1,
          3,
          11,
          6,
          6,
          7,
          20,
          0,
          1,
          8,
          8,
          10,
          5,
          0,
          6,
          13,
          4,
          5,
          5,
          7,
          7,
          14,
          12,
          0,
          6,
          5,
          4,
          14,
          5,
          6,
          8,
          17,
          5,
          6,
          5,
          12,
          5,
          0,
          10,
          5,
          14,
          5,
          6,
          5,
          11,
          5,
          5,
          8,
          15,
          8,
          9,
          7,
          7,
          0,
          14,
          0,
          3,
          13,
          6,
          10,
          5,
          15,
          5,
          16,
          12,
          5,
          30,
          14,
          7,
          5,
          10,
          17,
          11,
          9,
          0,
          13,
          10,
          4,
          7,
          5,
          6,
          5,
          6,
          6,
          0,
          5,
          4,
          6,
          4,
          18,
          13,
          14,
          18,
          5,
          10,
          5,
          9,
          6,
          14,
          0,
          5,
          5,
          17,
          5,
          15,
          18,
          13,
          17,
          16,
          10,
          5,
          15,
          15,
          9,
          10,
          15,
          15,
          16,
          11,
          13,
          15,
          10,
          6,
          12,
          5,
          5,
          5,
          19,
          7,
          14,
          6,
          18,
          5,
          2,
          2,
          4,
          11,
          11,
          6,
          10,
          5,
          4,
          5,
          0,
          7,
          5,
          13,
          6,
          4,
          11,
          3,
          11,
          9,
          5,
          8,
          5,
          18,
          8,
          7,
          19,
          4,
          5,
          7,
          5,
          9,
          7,
          13,
          10,
          11,
          5,
          22,
          0,
          9,
          5,
          17,
          10,
          13,
          0,
          0,
          1,
          23,
          12,
          14,
          16,
          5,
          11,
          19,
          30,
          6,
          0,
          14,
          18,
          2,
          20,
          7,
          13,
          5,
          14,
          11,
          5,
          4,
          6,
          7,
          16,
          0,
          6,
          4,
          5,
          0,
          11,
          5,
          12,
          12,
          9,
          5,
          16,
          6,
          11,
          9,
          7,
          5,
          5,
          24,
          15,
          10,
          11,
          10,
          1,
          3,
          15,
          5,
          16,
          17,
          9,
          8,
          17,
          4,
          5,
          5,
          5,
          4,
          8,
          7,
          18,
          6,
          8,
          6,
          8,
          4,
          6,
          5,
          17,
          5,
          8,
          5,
          10,
          8,
          7,
          4,
          0,
          8,
          11,
          4,
          5,
          7,
          8,
          13,
          5,
          5,
          9,
          13,
          0,
          22,
          0,
          6,
          4,
          0,
          0,
          6,
          3,
          5,
          9,
          15,
          12,
          7,
          2,
          11,
          5,
          14,
          3,
          0,
          5,
          0,
          6,
          13,
          15,
          5,
          5,
          0,
          1,
          15,
          0,
          0,
          13,
          5,
          10,
          10,
          12,
          6,
          5,
          9,
          4,
          0,
          10,
          21,
          9,
          7,
          12,
          0,
          0,
          10,
          9,
          0,
          2,
          0,
          30,
          5,
          5,
          5,
          5,
          17,
          8,
          8,
          5,
          0,
          5,
          6,
          0,
          9,
          13,
          12,
          6,
          0,
          5,
          9,
          20,
          4,
          7,
          15,
          5,
          7,
          4,
          11,
          0,
          6,
          5,
          19,
          6,
          0,
          0,
          4,
          11,
          5,
          4,
          5,
          5,
          4,
          0,
          17,
          13,
          0,
          5,
          6,
          10,
          6,
          8,
          6,
          0,
          8,
          0,
          0,
          14,
          10,
          0,
          4,
          6,
          8,
          5,
          8,
          6,
          18,
          8,
          2,
          5,
          10,
          4,
          19,
          8,
          24,
          9,
          4,
          16,
          8,
          4,
          5,
          9,
          10,
          13,
          13,
          11,
          6,
          5,
          5,
          5,
          8,
          5,
          7,
          9,
          0,
          13,
          1,
          5,
          30,
          0,
          6,
          4,
          5,
          7,
          5,
          0,
          4,
          6,
          8,
          0,
          5,
          11,
          0,
          4,
          13,
          5,
          10,
          0,
          7,
          9,
          11,
          6,
          9,
          23,
          8,
          5,
          5,
          6,
          6,
          21,
          10,
          4,
          5,
          30,
          10,
          13,
          11,
          0,
          0,
          21,
          8,
          5,
          5,
          12,
          13,
          5,
          5,
          5,
          8,
          18,
          5,
          5,
          7,
          10,
          5,
          7,
          11,
          0,
          20,
          15,
          6,
          2,
          0,
          20,
          21,
          18,
          21,
          19,
          5,
          5,
          7,
          5,
          5,
          5,
          0,
          5,
          12,
          7,
          2,
          3,
          6,
          5,
          21,
          7,
          5,
          5,
          0,
          5,
          5,
          0,
          10,
          5,
          5,
          13,
          6,
          6,
          7,
          6,
          9,
          1,
          5,
          5,
          5,
          5,
          5,
          6,
          5,
          8,
          10,
          5,
          16,
          9,
          9,
          8,
          15,
          5,
          7,
          15,
          5,
          7,
          2,
          5,
          16,
          5,
          8,
          5,
          8,
          16,
          3,
          14,
          7,
          30,
          6,
          5,
          7,
          8,
          8,
          5,
          10,
          14,
          5,
          14,
          5,
          10,
          15,
          9,
          5,
          9,
          7,
          10,
          10,
          3,
          0,
          6,
          12,
          5,
          11,
          0,
          10,
          5,
          5,
          14,
          12,
          5,
          5,
          7,
          13,
          6,
          8,
          30,
          4,
          5,
          24,
          14,
          6,
          6,
          0,
          0,
          5,
          22,
          23,
          20,
          13,
          8,
          9,
          7,
          5,
          8,
          13,
          6,
          19,
          0,
          0,
          5,
          11,
          9,
          5,
          9,
          5,
          7,
          15,
          11,
          16,
          9,
          16,
          12,
          3,
          8,
          17,
          5,
          12,
          7,
          10,
          15,
          24,
          0,
          11,
          8,
          5,
          16,
          4,
          5,
          5,
          0,
          8,
          12,
          11,
          11,
          5,
          4,
          10,
          5,
          16,
          9,
          0,
          3,
          5,
          5,
          7,
          6,
          6,
          6,
          10,
          14,
          8,
          5,
          11,
          16,
          6,
          0,
          5,
          5,
          5,
          9,
          5,
          10,
          5,
          5,
          9,
          5,
          0,
          5,
          5,
          0,
          5,
          11,
          5,
          5,
          7,
          17,
          10,
          21,
          5,
          1,
          5,
          18,
          5,
          8,
          7,
          5,
          18,
          30,
          16,
          8,
          5,
          5,
          5,
          4,
          11,
          12,
          5,
          10,
          11,
          9,
          5,
          10,
          10,
          6,
          0,
          31,
          10,
          4,
          6,
          3,
          15,
          17,
          6,
          10,
          19,
          10,
          2,
          31,
          5,
          7,
          4,
          12,
          5,
          12,
          10,
          5,
          7,
          8,
          2,
          5,
          5,
          2,
          3,
          5,
          6,
          17,
          6,
          12,
          5,
          9,
          5,
          19,
          7,
          6,
          4,
          6,
          6,
          4,
          5,
          10,
          13,
          10,
          5,
          5,
          5,
          5,
          7,
          8,
          5,
          7,
          5,
          6,
          15,
          7,
          0,
          1,
          6,
          5,
          6,
          15,
          14,
          1,
          15,
          6,
          10,
          8,
          12,
          5,
          15,
          0,
          12,
          6,
          14,
          0,
          2,
          12,
          1,
          9,
          14,
          5,
          5,
          29,
          10,
          13,
          6,
          1,
          6,
          5,
          11,
          9,
          10,
          15,
          10,
          5,
          17,
          14,
          6,
          12,
          24,
          24,
          9,
          5,
          18,
          10,
          8,
          26,
          5,
          9,
          4,
          0,
          19,
          10,
          0,
          19,
          9,
          5,
          12,
          0,
          0,
          6,
          10,
          11,
          7,
          12,
          5,
          14,
          5,
          13,
          6,
          0,
          0,
          14,
          12,
          12,
          13,
          1,
          20,
          0,
          16,
          20,
          17,
          11,
          10,
          7,
          4,
          5
         ],
         "y": [
          120000,
          200000,
          200000,
          60000,
          10000,
          300000,
          153000,
          140000,
          150000,
          100000,
          250000,
          100000,
          200000,
          100000,
          150000,
          150000,
          120000,
          100000,
          150000,
          200000,
          80000,
          170000,
          150000,
          150000,
          120000,
          200000,
          200000,
          150000,
          100000,
          150000,
          120000,
          100000,
          150000,
          100000,
          160000,
          120000,
          200000,
          70000,
          80000,
          130000,
          120000,
          250000,
          250000,
          172500,
          120000,
          150000,
          250000,
          100000,
          100000,
          200000,
          200000,
          100000,
          150000,
          150000,
          200000,
          180000,
          130000,
          300000,
          120000,
          170000,
          80000,
          200000,
          120000,
          100000,
          130000,
          150000,
          120000,
          150000,
          100000,
          150000,
          50000,
          150000,
          150000,
          150000,
          200000,
          70000,
          250000,
          100000,
          150000,
          120000,
          80000,
          50000,
          150000,
          100000,
          150000,
          150000,
          100000,
          300000,
          150000,
          200000,
          100000,
          200000,
          50000,
          100000,
          100000,
          100000,
          100000,
          150000,
          130000,
          120000,
          500000,
          150000,
          150000,
          340000,
          200000,
          90000,
          90000,
          100000,
          5000,
          80000,
          150000,
          100000,
          150000,
          100000,
          100000,
          120000,
          100000,
          140000,
          150000,
          80000,
          200000,
          100000,
          150000,
          150000,
          100000,
          85000,
          150000,
          90000,
          87000,
          100000,
          150000,
          100000,
          100000,
          120000,
          150000,
          150000,
          130000,
          75000,
          100000,
          70000,
          130000,
          120000,
          100000,
          300000,
          50000,
          120000,
          120000,
          1500,
          100000,
          80000,
          20000,
          150000,
          120000,
          70000,
          120000,
          80000,
          90000,
          80000,
          80000,
          50000,
          75000,
          200000,
          80000,
          65000,
          85000,
          250000,
          250000,
          100000,
          70000,
          2400,
          100000,
          1500,
          100000,
          100000,
          80000,
          50000,
          100000,
          25000,
          200000,
          35000,
          100000,
          50000,
          120000,
          100000,
          250000,
          150000,
          70000,
          150000,
          180000,
          150000,
          80000,
          300000,
          150000,
          250000,
          20000,
          100000,
          120000,
          300000,
          100000,
          100000,
          200000,
          200000,
          420000,
          150000,
          200000,
          150000,
          420000,
          120000,
          300000,
          80000,
          190000,
          300000,
          250000,
          300000,
          150000,
          200000,
          250000,
          180000,
          180000,
          80000,
          150000,
          150000,
          150000,
          250000,
          90000,
          60000,
          100000,
          120000,
          80000,
          80000,
          150000,
          120000,
          250000,
          60000,
          100000,
          100000,
          150000,
          250000,
          70000,
          100000,
          70000,
          70000,
          160000,
          100000,
          150000,
          80000,
          40000,
          110000,
          200000,
          250000,
          100000,
          65000,
          260000,
          100000,
          250000,
          125000,
          120000,
          250000,
          250000,
          150000,
          50000,
          120000,
          70000,
          70000,
          131000,
          130000,
          100000,
          200000,
          70000,
          60000,
          130000,
          120000,
          150000,
          150000,
          50000,
          180000,
          105000,
          50000,
          120000,
          150000,
          180000,
          115000,
          60000,
          200000,
          100000,
          150000,
          80000,
          150000,
          80000,
          125000,
          70000,
          150000,
          150000,
          100000,
          70000,
          100000,
          60000,
          1000,
          150000,
          70000,
          50000,
          150000,
          70000,
          100000,
          200000,
          70000,
          180000,
          80000,
          80000,
          100000,
          100000,
          70000,
          22000,
          90000,
          80000,
          80000,
          70000,
          80000,
          90000,
          80000,
          141000,
          80000,
          200000,
          90000,
          150000,
          100000,
          60000,
          110000,
          50000,
          15000,
          25000,
          150000,
          200000,
          250000,
          150000,
          120000,
          80000,
          50000,
          190000,
          100000,
          100000,
          120000,
          100000,
          150000,
          150000,
          100000,
          100000,
          70000,
          200000,
          100000,
          100000,
          100000,
          100000,
          100000,
          80000,
          100000,
          200000,
          200000,
          150000,
          120000,
          87000,
          80000,
          100000,
          40000,
          150000,
          75000,
          150000,
          50000,
          100000,
          90000,
          80000,
          50000,
          100000,
          80000,
          80000,
          150000,
          80000,
          4000,
          150000,
          120000,
          55000,
          90000,
          150000,
          150000,
          120000,
          100000,
          140000,
          70000,
          120000,
          200000,
          60000,
          130000,
          100000,
          150000,
          90000,
          120000,
          150000,
          64000,
          110000,
          70000,
          40000,
          110000,
          100000,
          130000,
          75000,
          115500,
          100000,
          180000,
          60000,
          120000,
          150000,
          95000,
          100000,
          40000,
          100000,
          400000,
          700000,
          400000,
          210000,
          300000,
          200000,
          500000,
          200000,
          200000,
          300000,
          150000,
          1000,
          80000,
          100000,
          250000,
          400000,
          120000,
          160000,
          110000,
          250000,
          240000,
          100000,
          250000,
          120000,
          250000,
          150000,
          100000,
          200000,
          120000,
          200000,
          60000,
          100000,
          220000,
          100000,
          100000,
          200000,
          80000,
          300000,
          300000,
          500000,
          200000,
          150000,
          150000,
          90000,
          150000,
          150000,
          90000,
          100000,
          120000,
          120000,
          50000,
          100000,
          70000,
          200000,
          100000,
          100000,
          70000,
          50000,
          50000,
          180000,
          50000,
          100000,
          140000,
          90000,
          70000,
          60000,
          80000,
          80000,
          80000,
          200000,
          50000,
          250000,
          150000,
          100000,
          450000,
          150000,
          300000,
          60000,
          150000,
          90000,
          70000,
          250000,
          200000,
          40000,
          135000,
          100000,
          150000,
          70000,
          75000,
          50000,
          500000,
          120000,
          80000,
          50000,
          90000,
          80000,
          120000,
          150000,
          170000,
          50000,
          120000,
          200000,
          100000,
          200000,
          55000,
          70000,
          45000,
          130000,
          30000,
          90000,
          45000,
          100000,
          160000,
          120000,
          300000,
          70000,
          15000,
          40000,
          80000,
          0,
          70000,
          90000,
          150000,
          95000,
          55000,
          60000,
          80000,
          80000,
          80000,
          40000,
          80000,
          55000,
          100000,
          50000,
          60000,
          100000,
          150000,
          180000,
          35000,
          34000,
          150000,
          60000,
          40000,
          60000,
          100000,
          140000,
          70000,
          20000,
          80000,
          25000,
          120000,
          60000,
          55000,
          40000,
          140000,
          130000,
          40000,
          185000,
          60000,
          270000,
          70000,
          15000,
          300000,
          0,
          100000,
          60000,
          90000,
          60000,
          40000,
          50000,
          120000,
          80000,
          100000,
          50000,
          200000,
          70000,
          100000,
          120000,
          80000,
          90000,
          80000,
          45000,
          140000,
          100000,
          200000,
          50000,
          300000,
          100000,
          90000,
          70000,
          40000,
          60000,
          150000,
          250000,
          70000,
          70000,
          50000,
          35000,
          80000,
          300000,
          80000,
          150000,
          70000,
          30000,
          120000,
          1500,
          70000,
          70000,
          90000,
          40000,
          50000,
          155000,
          150000,
          40000,
          150000,
          80000,
          150000,
          100000,
          70000,
          65000,
          25000,
          100000,
          200000,
          140000,
          80000,
          400000,
          150000,
          120000,
          150000,
          50000,
          250000,
          250000,
          150000,
          60000,
          70000,
          40000,
          50000,
          90000,
          70000,
          200000,
          100000,
          70000,
          150000,
          100000,
          130000,
          150000,
          70000,
          150000,
          20000,
          65000,
          80000,
          300000,
          70000,
          50000,
          80460,
          100000,
          250000,
          100000,
          100000,
          300000,
          100000,
          80000,
          60000,
          150000,
          80000,
          100000,
          40000,
          130000,
          30000,
          100000,
          70000,
          150000,
          300000,
          80000,
          120000,
          80000,
          500000,
          50000,
          80000,
          200000,
          150000,
          80000,
          40000,
          150000,
          70000,
          60000,
          65000,
          80000,
          3000,
          500000,
          100000,
          2000,
          60000,
          60000,
          35000,
          20000,
          70000,
          60000,
          40000,
          20000,
          60000,
          50000,
          200000,
          120000,
          50000,
          90000,
          75000,
          50000,
          80000,
          90000,
          100000,
          120000,
          180000,
          52200,
          80000,
          200000,
          130000,
          50000,
          10000,
          80000,
          100000,
          60000,
          40000,
          50000,
          220000,
          60000,
          140000,
          50000,
          90000,
          50000,
          180000,
          100000,
          200000,
          100000,
          80000,
          40000,
          90000,
          30000,
          150000,
          70000,
          85000,
          115000,
          80000,
          100000,
          70000,
          90000,
          50000,
          50000,
          90000,
          70000,
          70000,
          140000,
          140000,
          300000,
          130000,
          80000,
          140000,
          70000,
          60000,
          30000,
          250000,
          40000,
          150000,
          70000,
          40000,
          120000,
          40000,
          90000,
          77000,
          50000,
          40000,
          65000,
          45000,
          149000,
          90000,
          100000,
          180000,
          15000,
          57000,
          100000,
          100000,
          120000,
          60000,
          45000,
          80000,
          80000,
          69000,
          100000,
          100000,
          1000,
          70000,
          50000,
          80000,
          50000,
          80000,
          60000,
          70000,
          60000,
          70000,
          200000,
          55000,
          70000,
          130000,
          50000,
          150000,
          90000,
          120000,
          200000,
          60000,
          70000,
          100000,
          100000,
          150000,
          50000,
          80000,
          120000,
          70000,
          60000,
          40000,
          120000,
          150000,
          60000,
          150000,
          70000,
          65000,
          200000,
          30000,
          60000,
          150000,
          45000,
          30000,
          0,
          50000,
          65000,
          50000,
          50000,
          50000,
          40000,
          50000,
          100000,
          120000,
          120000,
          200000,
          170000,
          150000,
          100000,
          250000,
          120000,
          60000,
          80000,
          180000,
          50000,
          50000,
          120000,
          50000,
          100000,
          60000,
          250000,
          100000,
          100000,
          20000,
          100000,
          80000,
          150000,
          70000,
          150000,
          180000,
          100000,
          60000,
          220000,
          100000,
          150000,
          100000,
          56000,
          9000,
          50000,
          80000,
          44500,
          100000,
          40000,
          120000,
          70000,
          100000,
          40000,
          150000,
          120000,
          150000,
          80000,
          70000,
          50000,
          20000,
          60000,
          45000,
          55000,
          50000,
          150000,
          150000,
          90000,
          80000,
          200000,
          100000,
          150000,
          80000,
          8000,
          75000,
          100000,
          10000,
          90000,
          90000,
          80000,
          80000,
          50000,
          70000,
          80000,
          80000,
          80000,
          70000,
          120000,
          100000,
          120000,
          120000,
          150000,
          100000,
          150000,
          70000,
          150000,
          120000,
          20000,
          101000,
          110000,
          50000,
          150000,
          200000,
          100000,
          100000,
          150000,
          40000,
          90000,
          70000,
          30000,
          150000,
          60000,
          100000,
          100000,
          150000,
          80000,
          60000,
          100000,
          92000,
          45000,
          30000,
          100000,
          60000,
          50000,
          75000,
          150000,
          50000,
          180000,
          65000,
          100000,
          80000,
          120000,
          50000,
          3000,
          200000,
          40000,
          150000,
          20000,
          80000,
          100000,
          70000,
          120000,
          150000,
          90000,
          60000,
          130000,
          150000,
          3000,
          20000,
          50000,
          80000,
          70000,
          200000,
          150000,
          100000,
          50000,
          70000,
          35000,
          60000,
          110000,
          140000,
          60000,
          150000,
          3000,
          100000,
          90000,
          10000,
          65000,
          70000,
          70000,
          120000,
          80000,
          75000,
          80000,
          15000,
          45000,
          100000,
          15000,
          60000,
          150000,
          70000,
          50000,
          30000,
          14000,
          20000,
          100000,
          25000,
          45000,
          50000,
          33000,
          80000,
          80000,
          82000,
          250000,
          70000,
          40000,
          60000,
          45000,
          170000,
          40000,
          45000,
          60000,
          60000,
          30000,
          120000,
          65000,
          45000,
          200000,
          100000,
          40000,
          4000,
          50000,
          70000,
          70000,
          100000,
          45000,
          220000,
          60000,
          40000,
          50000,
          55000,
          80000,
          100000,
          180000,
          80000,
          100000,
          3000,
          110000,
          120000,
          40000,
          75000,
          3000,
          100000,
          60000,
          70000,
          150000,
          60000,
          80000,
          100000,
          65000,
          200000,
          70000,
          30000,
          150000,
          90000,
          50000,
          30000,
          80000,
          80000,
          350000,
          120000,
          60000,
          80000,
          30000,
          60000,
          100000,
          80000,
          60000,
          40000,
          90000,
          100000,
          80000,
          90000,
          70000,
          150000,
          100000,
          36000,
          200000,
          60000,
          120000,
          200000,
          300000,
          120000,
          75000,
          100000,
          25000,
          100000,
          90000,
          50000,
          80000,
          150000,
          200000,
          110000,
          100000,
          100000,
          150000,
          35000,
          150000,
          300000,
          52000,
          100000,
          92000,
          60000,
          40000,
          60000,
          50000,
          25000,
          90000,
          100000,
          100000,
          60000,
          40000,
          120000,
          60000,
          150000,
          90000,
          80000,
          25000,
          300000,
          150000,
          30000,
          80000,
          150000,
          100000,
          100000,
          50000,
          100000,
          60000,
          100000,
          500000,
          150000,
          65000,
          80000,
          80000,
          60000,
          150000,
          80000,
          150000,
          185000,
          150000,
          100000,
          150000,
          60000,
          200000,
          140000,
          250000,
          150000,
          60000,
          150000,
          25000,
          40000,
          40000,
          100000,
          15000,
          80000,
          200000,
          100000,
          200000,
          50000,
          40000,
          150000,
          40000,
          110000,
          150000,
          200000,
          90000,
          60000,
          150000,
          100000,
          120000,
          120000,
          121800,
          300000,
          45000,
          100000,
          20000,
          50000,
          5000,
          140000,
          70000,
          200000,
          60000,
          40000,
          150000,
          100000,
          60000,
          90000,
          100000,
          45000,
          120000,
          140000,
          120000,
          120000,
          300000,
          1500,
          120000,
          170000,
          200000,
          30000,
          50000,
          200000,
          190000,
          70000,
          30000,
          100000,
          200000,
          3000,
          120000,
          55000,
          45000,
          177000,
          130000,
          80000,
          350000,
          80000,
          100000,
          100000,
          150000,
          65000,
          80000,
          150000,
          180000,
          90000,
          100000,
          60000,
          150000,
          100000,
          180000,
          60000,
          70000,
          60000,
          90000,
          140000,
          140000,
          120000,
          71000,
          70000,
          2500,
          70000,
          200000,
          120000,
          45000,
          100000,
          20000,
          50000,
          50000,
          30000,
          72000,
          100000,
          250000,
          120000,
          25000,
          120000,
          120000,
          70000,
          200000,
          55000,
          70000,
          200000,
          100000,
          30000,
          150000,
          180000,
          70000,
          45000,
          200000,
          40000,
          180000,
          70000,
          120000,
          60000,
          60000,
          100000,
          60000,
          120000,
          50000,
          0,
          120000,
          15000,
          70000,
          30000,
          65000,
          150000,
          10000,
          55000,
          100000,
          47000,
          150000,
          140000,
          50000,
          140000,
          130000,
          100000,
          65000,
          70000,
          80000,
          80000,
          80000,
          150000,
          60000,
          20000,
          300000,
          15000,
          140000,
          250000,
          60000,
          50000,
          350000,
          5000,
          60000,
          50000,
          15000,
          60000,
          90000,
          130000,
          150000,
          60000,
          90000,
          70000,
          100000,
          0,
          90000,
          50000,
          100000,
          100000,
          66000,
          40000,
          150000,
          80000,
          200000,
          150000,
          100000,
          90000,
          80000,
          50000,
          50000,
          60000,
          60000,
          40000,
          30000,
          40000,
          300000,
          80000,
          40000,
          50000,
          100000,
          8000,
          50000,
          60000,
          100000,
          2400,
          80000,
          20000,
          80000,
          45000,
          40000,
          100000,
          100000,
          150000,
          150000,
          150000,
          70000,
          50000,
          170000,
          70000,
          170000,
          100000,
          80000,
          150000,
          100000,
          88600,
          300000,
          150000,
          100000,
          150000,
          50000,
          75000,
          60000,
          150000,
          220000,
          45000,
          60000,
          180000,
          180000,
          30000,
          200000,
          100000,
          110000,
          70000,
          100000,
          65000,
          120000,
          500000,
          80000,
          250000,
          70000,
          15000,
          90000,
          200000,
          100000,
          70000,
          70000,
          40000,
          60000,
          150000,
          80000,
          150000,
          120000,
          100000,
          100000,
          90000,
          32000,
          45000,
          70000,
          60000,
          200000,
          60900,
          200000,
          85000,
          100000,
          80000,
          100000,
          100000,
          60000,
          75000,
          25000,
          250000,
          50000,
          110000,
          100000,
          140000,
          15000,
          140000,
          103448,
          105000,
          200000,
          180000,
          60000,
          100000,
          80000,
          110000,
          300000,
          65000,
          50000,
          100000,
          150000,
          80000,
          85000,
          30000,
          110000,
          20000,
          110000,
          120000,
          150000,
          250000,
          100000,
          150000,
          60000,
          250000,
          50000,
          100000,
          60000,
          100000,
          69000,
          300000,
          100000,
          40000,
          100000,
          5000,
          250000,
          150000,
          120000,
          300000,
          80000,
          100000,
          80000,
          90000,
          40000,
          15000,
          85000,
          3500,
          45000,
          120000,
          75000,
          100000,
          200000,
          250000,
          45000,
          100000,
          300000,
          170000,
          100000,
          30000,
          60000,
          80000,
          25000,
          120000,
          200000,
          250000,
          100000,
          50000,
          20000,
          120000,
          25000,
          200000,
          99000,
          60000,
          60000,
          150000,
          100000,
          70000,
          80000,
          40000,
          40000,
          90000,
          70000,
          50000,
          140000,
          150000,
          150000,
          200000,
          100000,
          200000,
          3500,
          60000,
          180000,
          180000,
          20000,
          30000,
          300000,
          72000,
          100000,
          100000,
          250000,
          2000,
          90000,
          70000,
          60000,
          80000,
          60000,
          250000,
          80000,
          140000,
          60000,
          150000,
          150000,
          300000,
          100000,
          250000,
          100000,
          60000,
          80000,
          32000,
          80000,
          60000,
          60000,
          90000,
          100000,
          70000,
          100000,
          60000,
          80000,
          120000,
          130000,
          150000,
          150000,
          90000,
          90000,
          30000,
          140000,
          50000,
          100000,
          120000,
          100000,
          100000,
          250000,
          60000,
          40000,
          100000,
          160000,
          150000,
          60000,
          50000,
          50000,
          150000,
          50000,
          150000,
          100000,
          60000,
          70000,
          80000,
          115000,
          80000,
          150000,
          105000,
          30000,
          150000,
          100000,
          100000,
          50000,
          42000,
          70000,
          60000,
          60000,
          15000,
          80000,
          300000,
          60000,
          90000,
          40000,
          80000,
          100000,
          45000,
          70000,
          40000,
          80000,
          150000,
          60000,
          50000,
          15000,
          120000,
          15000,
          75000,
          80000,
          300000,
          80000,
          80000,
          100000,
          120000,
          3000,
          220000,
          150000,
          200000,
          150000,
          120000,
          250000,
          300000,
          250000,
          250000,
          300000,
          200000,
          130000,
          110000,
          150000,
          200000,
          150000,
          200000,
          250000,
          120000,
          250000,
          250000,
          250000,
          1000,
          120000,
          155000,
          150000,
          200000,
          50000,
          250000,
          150000,
          150000,
          3000,
          200000,
          200000,
          200000,
          100000,
          150000,
          150000,
          100000,
          60000,
          100000,
          100000,
          100000,
          200000
         ]
        }
       ],
       "layout": {
        "template": {
         "data": {
          "bar": [
           {
            "error_x": {
             "color": "#2a3f5f"
            },
            "error_y": {
             "color": "#2a3f5f"
            },
            "marker": {
             "line": {
              "color": "#E5ECF6",
              "width": 0.5
             },
             "pattern": {
              "fillmode": "overlay",
              "size": 10,
              "solidity": 0.2
             }
            },
            "type": "bar"
           }
          ],
          "barpolar": [
           {
            "marker": {
             "line": {
              "color": "#E5ECF6",
              "width": 0.5
             },
             "pattern": {
              "fillmode": "overlay",
              "size": 10,
              "solidity": 0.2
             }
            },
            "type": "barpolar"
           }
          ],
          "carpet": [
           {
            "aaxis": {
             "endlinecolor": "#2a3f5f",
             "gridcolor": "white",
             "linecolor": "white",
             "minorgridcolor": "white",
             "startlinecolor": "#2a3f5f"
            },
            "baxis": {
             "endlinecolor": "#2a3f5f",
             "gridcolor": "white",
             "linecolor": "white",
             "minorgridcolor": "white",
             "startlinecolor": "#2a3f5f"
            },
            "type": "carpet"
           }
          ],
          "choropleth": [
           {
            "colorbar": {
             "outlinewidth": 0,
             "ticks": ""
            },
            "type": "choropleth"
           }
          ],
          "contour": [
           {
            "colorbar": {
             "outlinewidth": 0,
             "ticks": ""
            },
            "colorscale": [
             [
              0,
              "#0d0887"
             ],
             [
              0.1111111111111111,
              "#46039f"
             ],
             [
              0.2222222222222222,
              "#7201a8"
             ],
             [
              0.3333333333333333,
              "#9c179e"
             ],
             [
              0.4444444444444444,
              "#bd3786"
             ],
             [
              0.5555555555555556,
              "#d8576b"
             ],
             [
              0.6666666666666666,
              "#ed7953"
             ],
             [
              0.7777777777777778,
              "#fb9f3a"
             ],
             [
              0.8888888888888888,
              "#fdca26"
             ],
             [
              1,
              "#f0f921"
             ]
            ],
            "type": "contour"
           }
          ],
          "contourcarpet": [
           {
            "colorbar": {
             "outlinewidth": 0,
             "ticks": ""
            },
            "type": "contourcarpet"
           }
          ],
          "heatmap": [
           {
            "colorbar": {
             "outlinewidth": 0,
             "ticks": ""
            },
            "colorscale": [
             [
              0,
              "#0d0887"
             ],
             [
              0.1111111111111111,
              "#46039f"
             ],
             [
              0.2222222222222222,
              "#7201a8"
             ],
             [
              0.3333333333333333,
              "#9c179e"
             ],
             [
              0.4444444444444444,
              "#bd3786"
             ],
             [
              0.5555555555555556,
              "#d8576b"
             ],
             [
              0.6666666666666666,
              "#ed7953"
             ],
             [
              0.7777777777777778,
              "#fb9f3a"
             ],
             [
              0.8888888888888888,
              "#fdca26"
             ],
             [
              1,
              "#f0f921"
             ]
            ],
            "type": "heatmap"
           }
          ],
          "heatmapgl": [
           {
            "colorbar": {
             "outlinewidth": 0,
             "ticks": ""
            },
            "colorscale": [
             [
              0,
              "#0d0887"
             ],
             [
              0.1111111111111111,
              "#46039f"
             ],
             [
              0.2222222222222222,
              "#7201a8"
             ],
             [
              0.3333333333333333,
              "#9c179e"
             ],
             [
              0.4444444444444444,
              "#bd3786"
             ],
             [
              0.5555555555555556,
              "#d8576b"
             ],
             [
              0.6666666666666666,
              "#ed7953"
             ],
             [
              0.7777777777777778,
              "#fb9f3a"
             ],
             [
              0.8888888888888888,
              "#fdca26"
             ],
             [
              1,
              "#f0f921"
             ]
            ],
            "type": "heatmapgl"
           }
          ],
          "histogram": [
           {
            "marker": {
             "pattern": {
              "fillmode": "overlay",
              "size": 10,
              "solidity": 0.2
             }
            },
            "type": "histogram"
           }
          ],
          "histogram2d": [
           {
            "colorbar": {
             "outlinewidth": 0,
             "ticks": ""
            },
            "colorscale": [
             [
              0,
              "#0d0887"
             ],
             [
              0.1111111111111111,
              "#46039f"
             ],
             [
              0.2222222222222222,
              "#7201a8"
             ],
             [
              0.3333333333333333,
              "#9c179e"
             ],
             [
              0.4444444444444444,
              "#bd3786"
             ],
             [
              0.5555555555555556,
              "#d8576b"
             ],
             [
              0.6666666666666666,
              "#ed7953"
             ],
             [
              0.7777777777777778,
              "#fb9f3a"
             ],
             [
              0.8888888888888888,
              "#fdca26"
             ],
             [
              1,
              "#f0f921"
             ]
            ],
            "type": "histogram2d"
           }
          ],
          "histogram2dcontour": [
           {
            "colorbar": {
             "outlinewidth": 0,
             "ticks": ""
            },
            "colorscale": [
             [
              0,
              "#0d0887"
             ],
             [
              0.1111111111111111,
              "#46039f"
             ],
             [
              0.2222222222222222,
              "#7201a8"
             ],
             [
              0.3333333333333333,
              "#9c179e"
             ],
             [
              0.4444444444444444,
              "#bd3786"
             ],
             [
              0.5555555555555556,
              "#d8576b"
             ],
             [
              0.6666666666666666,
              "#ed7953"
             ],
             [
              0.7777777777777778,
              "#fb9f3a"
             ],
             [
              0.8888888888888888,
              "#fdca26"
             ],
             [
              1,
              "#f0f921"
             ]
            ],
            "type": "histogram2dcontour"
           }
          ],
          "mesh3d": [
           {
            "colorbar": {
             "outlinewidth": 0,
             "ticks": ""
            },
            "type": "mesh3d"
           }
          ],
          "parcoords": [
           {
            "line": {
             "colorbar": {
              "outlinewidth": 0,
              "ticks": ""
             }
            },
            "type": "parcoords"
           }
          ],
          "pie": [
           {
            "automargin": true,
            "type": "pie"
           }
          ],
          "scatter": [
           {
            "fillpattern": {
             "fillmode": "overlay",
             "size": 10,
             "solidity": 0.2
            },
            "type": "scatter"
           }
          ],
          "scatter3d": [
           {
            "line": {
             "colorbar": {
              "outlinewidth": 0,
              "ticks": ""
             }
            },
            "marker": {
             "colorbar": {
              "outlinewidth": 0,
              "ticks": ""
             }
            },
            "type": "scatter3d"
           }
          ],
          "scattercarpet": [
           {
            "marker": {
             "colorbar": {
              "outlinewidth": 0,
              "ticks": ""
             }
            },
            "type": "scattercarpet"
           }
          ],
          "scattergeo": [
           {
            "marker": {
             "colorbar": {
              "outlinewidth": 0,
              "ticks": ""
             }
            },
            "type": "scattergeo"
           }
          ],
          "scattergl": [
           {
            "marker": {
             "colorbar": {
              "outlinewidth": 0,
              "ticks": ""
             }
            },
            "type": "scattergl"
           }
          ],
          "scattermapbox": [
           {
            "marker": {
             "colorbar": {
              "outlinewidth": 0,
              "ticks": ""
             }
            },
            "type": "scattermapbox"
           }
          ],
          "scatterpolar": [
           {
            "marker": {
             "colorbar": {
              "outlinewidth": 0,
              "ticks": ""
             }
            },
            "type": "scatterpolar"
           }
          ],
          "scatterpolargl": [
           {
            "marker": {
             "colorbar": {
              "outlinewidth": 0,
              "ticks": ""
             }
            },
            "type": "scatterpolargl"
           }
          ],
          "scatterternary": [
           {
            "marker": {
             "colorbar": {
              "outlinewidth": 0,
              "ticks": ""
             }
            },
            "type": "scatterternary"
           }
          ],
          "surface": [
           {
            "colorbar": {
             "outlinewidth": 0,
             "ticks": ""
            },
            "colorscale": [
             [
              0,
              "#0d0887"
             ],
             [
              0.1111111111111111,
              "#46039f"
             ],
             [
              0.2222222222222222,
              "#7201a8"
             ],
             [
              0.3333333333333333,
              "#9c179e"
             ],
             [
              0.4444444444444444,
              "#bd3786"
             ],
             [
              0.5555555555555556,
              "#d8576b"
             ],
             [
              0.6666666666666666,
              "#ed7953"
             ],
             [
              0.7777777777777778,
              "#fb9f3a"
             ],
             [
              0.8888888888888888,
              "#fdca26"
             ],
             [
              1,
              "#f0f921"
             ]
            ],
            "type": "surface"
           }
          ],
          "table": [
           {
            "cells": {
             "fill": {
              "color": "#EBF0F8"
             },
             "line": {
              "color": "white"
             }
            },
            "header": {
             "fill": {
              "color": "#C8D4E3"
             },
             "line": {
              "color": "white"
             }
            },
            "type": "table"
           }
          ]
         },
         "layout": {
          "annotationdefaults": {
           "arrowcolor": "#2a3f5f",
           "arrowhead": 0,
           "arrowwidth": 1
          },
          "autotypenumbers": "strict",
          "coloraxis": {
           "colorbar": {
            "outlinewidth": 0,
            "ticks": ""
           }
          },
          "colorscale": {
           "diverging": [
            [
             0,
             "#8e0152"
            ],
            [
             0.1,
             "#c51b7d"
            ],
            [
             0.2,
             "#de77ae"
            ],
            [
             0.3,
             "#f1b6da"
            ],
            [
             0.4,
             "#fde0ef"
            ],
            [
             0.5,
             "#f7f7f7"
            ],
            [
             0.6,
             "#e6f5d0"
            ],
            [
             0.7,
             "#b8e186"
            ],
            [
             0.8,
             "#7fbc41"
            ],
            [
             0.9,
             "#4d9221"
            ],
            [
             1,
             "#276419"
            ]
           ],
           "sequential": [
            [
             0,
             "#0d0887"
            ],
            [
             0.1111111111111111,
             "#46039f"
            ],
            [
             0.2222222222222222,
             "#7201a8"
            ],
            [
             0.3333333333333333,
             "#9c179e"
            ],
            [
             0.4444444444444444,
             "#bd3786"
            ],
            [
             0.5555555555555556,
             "#d8576b"
            ],
            [
             0.6666666666666666,
             "#ed7953"
            ],
            [
             0.7777777777777778,
             "#fb9f3a"
            ],
            [
             0.8888888888888888,
             "#fdca26"
            ],
            [
             1,
             "#f0f921"
            ]
           ],
           "sequentialminus": [
            [
             0,
             "#0d0887"
            ],
            [
             0.1111111111111111,
             "#46039f"
            ],
            [
             0.2222222222222222,
             "#7201a8"
            ],
            [
             0.3333333333333333,
             "#9c179e"
            ],
            [
             0.4444444444444444,
             "#bd3786"
            ],
            [
             0.5555555555555556,
             "#d8576b"
            ],
            [
             0.6666666666666666,
             "#ed7953"
            ],
            [
             0.7777777777777778,
             "#fb9f3a"
            ],
            [
             0.8888888888888888,
             "#fdca26"
            ],
            [
             1,
             "#f0f921"
            ]
           ]
          },
          "colorway": [
           "#636efa",
           "#EF553B",
           "#00cc96",
           "#ab63fa",
           "#FFA15A",
           "#19d3f3",
           "#FF6692",
           "#B6E880",
           "#FF97FF",
           "#FECB52"
          ],
          "font": {
           "color": "#2a3f5f"
          },
          "geo": {
           "bgcolor": "white",
           "lakecolor": "white",
           "landcolor": "#E5ECF6",
           "showlakes": true,
           "showland": true,
           "subunitcolor": "white"
          },
          "hoverlabel": {
           "align": "left"
          },
          "hovermode": "closest",
          "mapbox": {
           "style": "light"
          },
          "paper_bgcolor": "white",
          "plot_bgcolor": "#E5ECF6",
          "polar": {
           "angularaxis": {
            "gridcolor": "white",
            "linecolor": "white",
            "ticks": ""
           },
           "bgcolor": "#E5ECF6",
           "radialaxis": {
            "gridcolor": "white",
            "linecolor": "white",
            "ticks": ""
           }
          },
          "scene": {
           "xaxis": {
            "backgroundcolor": "#E5ECF6",
            "gridcolor": "white",
            "gridwidth": 2,
            "linecolor": "white",
            "showbackground": true,
            "ticks": "",
            "zerolinecolor": "white"
           },
           "yaxis": {
            "backgroundcolor": "#E5ECF6",
            "gridcolor": "white",
            "gridwidth": 2,
            "linecolor": "white",
            "showbackground": true,
            "ticks": "",
            "zerolinecolor": "white"
           },
           "zaxis": {
            "backgroundcolor": "#E5ECF6",
            "gridcolor": "white",
            "gridwidth": 2,
            "linecolor": "white",
            "showbackground": true,
            "ticks": "",
            "zerolinecolor": "white"
           }
          },
          "shapedefaults": {
           "line": {
            "color": "#2a3f5f"
           }
          },
          "ternary": {
           "aaxis": {
            "gridcolor": "white",
            "linecolor": "white",
            "ticks": ""
           },
           "baxis": {
            "gridcolor": "white",
            "linecolor": "white",
            "ticks": ""
           },
           "bgcolor": "#E5ECF6",
           "caxis": {
            "gridcolor": "white",
            "linecolor": "white",
            "ticks": ""
           }
          },
          "title": {
           "x": 0.05
          },
          "xaxis": {
           "automargin": true,
           "gridcolor": "white",
           "linecolor": "white",
           "ticks": "",
           "title": {
            "standoff": 15
           },
           "zerolinecolor": "white",
           "zerolinewidth": 2
          },
          "yaxis": {
           "automargin": true,
           "gridcolor": "white",
           "linecolor": "white",
           "ticks": "",
           "title": {
            "standoff": 15
           },
           "zerolinecolor": "white",
           "zerolinewidth": 2
          }
         }
        },
        "title": {
         "text": "Зависимость размера заработной платы от количества"
        },
        "xaxis": {
         "title": {
          "text": "Число тегов"
         }
        },
        "yaxis": {
         "title": {
          "text": "Зарплаты"
         }
        }
       }
      }
     },
     "metadata": {},
     "output_type": "display_data"
    }
   ],
   "source": [
    "df = data[data[\"from\"]<1_000_000]\n",
    "\n",
    "fig = go.Figure()\n",
    "fig.add_trace(go.Bar(x=df[\"tags_list_len\"], y=df[\"upto\"], name=\"upto\"))\n",
    "fig.add_trace(go.Bar(x=df[\"tags_list_len\"], y=df[\"from\"], name=\"from\"))\n",
    "fig.update_layout(\n",
    "    title_text=\"Зависимость размера заработной платы от количества тегов\",\n",
    "    xaxis_title=\"Число тегов\",\n",
    "    yaxis_title=\"Зарплаты\")\n",
    "fig.show()\n"
   ]
  },
  {
   "cell_type": "markdown",
   "metadata": {},
   "source": [
    "Видим, что соискатели указывают чаще всего от 4 до 10 тегов"
   ]
  },
  {
   "cell_type": "code",
   "execution_count": 152,
   "metadata": {},
   "outputs": [
    {
     "data": {
      "application/vnd.plotly.v1+json": {
       "config": {
        "plotlyServerURL": "https://plot.ly"
       },
       "data": [
        {
         "type": "bar",
         "x": [
          5,
          4,
          4,
          2,
          2,
          1,
          9,
          2,
          2,
          4,
          2,
          1,
          5,
          1,
          16,
          19,
          1,
          13,
          27,
          2,
          1,
          1,
          6,
          1,
          57,
          1,
          1,
          25,
          1,
          101,
          1,
          1,
          11,
          1,
          1,
          111,
          1,
          1,
          18,
          1,
          2,
          106,
          1,
          2,
          15,
          1,
          141,
          1,
          1,
          6,
          2,
          1,
          61,
          2,
          2,
          1,
          243,
          1,
          1,
          3,
          16,
          3,
          1,
          106,
          1,
          2,
          23,
          1,
          1,
          26,
          1,
          1,
          198,
          1,
          2,
          5,
          9,
          1,
          1,
          26,
          2,
          3,
          97,
          1,
          6,
          1,
          55,
          1,
          1,
          40,
          1,
          3,
          4,
          2,
          1,
          8,
          1
         ],
         "y": [
          0,
          1000,
          1500,
          2000,
          2400,
          2500,
          3000,
          3500,
          4000,
          5000,
          8000,
          9000,
          10000,
          14000,
          15000,
          20000,
          22000,
          25000,
          30000,
          32000,
          33000,
          34000,
          35000,
          36000,
          40000,
          42000,
          44500,
          45000,
          47000,
          50000,
          52000,
          52200,
          55000,
          56000,
          57000,
          60000,
          60900,
          64000,
          65000,
          66000,
          69000,
          70000,
          71000,
          72000,
          75000,
          77000,
          80000,
          80460,
          82000,
          85000,
          87000,
          88600,
          90000,
          92000,
          95000,
          99000,
          100000,
          101000,
          103448,
          105000,
          110000,
          115000,
          115500,
          120000,
          121800,
          125000,
          130000,
          131000,
          135000,
          140000,
          141000,
          149000,
          150000,
          153000,
          155000,
          160000,
          170000,
          172500,
          177000,
          180000,
          185000,
          190000,
          200000,
          210000,
          220000,
          240000,
          250000,
          260000,
          270000,
          300000,
          340000,
          350000,
          400000,
          420000,
          450000,
          500000,
          700000
         ]
        }
       ],
       "layout": {
        "template": {
         "data": {
          "bar": [
           {
            "error_x": {
             "color": "#2a3f5f"
            },
            "error_y": {
             "color": "#2a3f5f"
            },
            "marker": {
             "line": {
              "color": "#E5ECF6",
              "width": 0.5
             },
             "pattern": {
              "fillmode": "overlay",
              "size": 10,
              "solidity": 0.2
             }
            },
            "type": "bar"
           }
          ],
          "barpolar": [
           {
            "marker": {
             "line": {
              "color": "#E5ECF6",
              "width": 0.5
             },
             "pattern": {
              "fillmode": "overlay",
              "size": 10,
              "solidity": 0.2
             }
            },
            "type": "barpolar"
           }
          ],
          "carpet": [
           {
            "aaxis": {
             "endlinecolor": "#2a3f5f",
             "gridcolor": "white",
             "linecolor": "white",
             "minorgridcolor": "white",
             "startlinecolor": "#2a3f5f"
            },
            "baxis": {
             "endlinecolor": "#2a3f5f",
             "gridcolor": "white",
             "linecolor": "white",
             "minorgridcolor": "white",
             "startlinecolor": "#2a3f5f"
            },
            "type": "carpet"
           }
          ],
          "choropleth": [
           {
            "colorbar": {
             "outlinewidth": 0,
             "ticks": ""
            },
            "type": "choropleth"
           }
          ],
          "contour": [
           {
            "colorbar": {
             "outlinewidth": 0,
             "ticks": ""
            },
            "colorscale": [
             [
              0,
              "#0d0887"
             ],
             [
              0.1111111111111111,
              "#46039f"
             ],
             [
              0.2222222222222222,
              "#7201a8"
             ],
             [
              0.3333333333333333,
              "#9c179e"
             ],
             [
              0.4444444444444444,
              "#bd3786"
             ],
             [
              0.5555555555555556,
              "#d8576b"
             ],
             [
              0.6666666666666666,
              "#ed7953"
             ],
             [
              0.7777777777777778,
              "#fb9f3a"
             ],
             [
              0.8888888888888888,
              "#fdca26"
             ],
             [
              1,
              "#f0f921"
             ]
            ],
            "type": "contour"
           }
          ],
          "contourcarpet": [
           {
            "colorbar": {
             "outlinewidth": 0,
             "ticks": ""
            },
            "type": "contourcarpet"
           }
          ],
          "heatmap": [
           {
            "colorbar": {
             "outlinewidth": 0,
             "ticks": ""
            },
            "colorscale": [
             [
              0,
              "#0d0887"
             ],
             [
              0.1111111111111111,
              "#46039f"
             ],
             [
              0.2222222222222222,
              "#7201a8"
             ],
             [
              0.3333333333333333,
              "#9c179e"
             ],
             [
              0.4444444444444444,
              "#bd3786"
             ],
             [
              0.5555555555555556,
              "#d8576b"
             ],
             [
              0.6666666666666666,
              "#ed7953"
             ],
             [
              0.7777777777777778,
              "#fb9f3a"
             ],
             [
              0.8888888888888888,
              "#fdca26"
             ],
             [
              1,
              "#f0f921"
             ]
            ],
            "type": "heatmap"
           }
          ],
          "heatmapgl": [
           {
            "colorbar": {
             "outlinewidth": 0,
             "ticks": ""
            },
            "colorscale": [
             [
              0,
              "#0d0887"
             ],
             [
              0.1111111111111111,
              "#46039f"
             ],
             [
              0.2222222222222222,
              "#7201a8"
             ],
             [
              0.3333333333333333,
              "#9c179e"
             ],
             [
              0.4444444444444444,
              "#bd3786"
             ],
             [
              0.5555555555555556,
              "#d8576b"
             ],
             [
              0.6666666666666666,
              "#ed7953"
             ],
             [
              0.7777777777777778,
              "#fb9f3a"
             ],
             [
              0.8888888888888888,
              "#fdca26"
             ],
             [
              1,
              "#f0f921"
             ]
            ],
            "type": "heatmapgl"
           }
          ],
          "histogram": [
           {
            "marker": {
             "pattern": {
              "fillmode": "overlay",
              "size": 10,
              "solidity": 0.2
             }
            },
            "type": "histogram"
           }
          ],
          "histogram2d": [
           {
            "colorbar": {
             "outlinewidth": 0,
             "ticks": ""
            },
            "colorscale": [
             [
              0,
              "#0d0887"
             ],
             [
              0.1111111111111111,
              "#46039f"
             ],
             [
              0.2222222222222222,
              "#7201a8"
             ],
             [
              0.3333333333333333,
              "#9c179e"
             ],
             [
              0.4444444444444444,
              "#bd3786"
             ],
             [
              0.5555555555555556,
              "#d8576b"
             ],
             [
              0.6666666666666666,
              "#ed7953"
             ],
             [
              0.7777777777777778,
              "#fb9f3a"
             ],
             [
              0.8888888888888888,
              "#fdca26"
             ],
             [
              1,
              "#f0f921"
             ]
            ],
            "type": "histogram2d"
           }
          ],
          "histogram2dcontour": [
           {
            "colorbar": {
             "outlinewidth": 0,
             "ticks": ""
            },
            "colorscale": [
             [
              0,
              "#0d0887"
             ],
             [
              0.1111111111111111,
              "#46039f"
             ],
             [
              0.2222222222222222,
              "#7201a8"
             ],
             [
              0.3333333333333333,
              "#9c179e"
             ],
             [
              0.4444444444444444,
              "#bd3786"
             ],
             [
              0.5555555555555556,
              "#d8576b"
             ],
             [
              0.6666666666666666,
              "#ed7953"
             ],
             [
              0.7777777777777778,
              "#fb9f3a"
             ],
             [
              0.8888888888888888,
              "#fdca26"
             ],
             [
              1,
              "#f0f921"
             ]
            ],
            "type": "histogram2dcontour"
           }
          ],
          "mesh3d": [
           {
            "colorbar": {
             "outlinewidth": 0,
             "ticks": ""
            },
            "type": "mesh3d"
           }
          ],
          "parcoords": [
           {
            "line": {
             "colorbar": {
              "outlinewidth": 0,
              "ticks": ""
             }
            },
            "type": "parcoords"
           }
          ],
          "pie": [
           {
            "automargin": true,
            "type": "pie"
           }
          ],
          "scatter": [
           {
            "fillpattern": {
             "fillmode": "overlay",
             "size": 10,
             "solidity": 0.2
            },
            "type": "scatter"
           }
          ],
          "scatter3d": [
           {
            "line": {
             "colorbar": {
              "outlinewidth": 0,
              "ticks": ""
             }
            },
            "marker": {
             "colorbar": {
              "outlinewidth": 0,
              "ticks": ""
             }
            },
            "type": "scatter3d"
           }
          ],
          "scattercarpet": [
           {
            "marker": {
             "colorbar": {
              "outlinewidth": 0,
              "ticks": ""
             }
            },
            "type": "scattercarpet"
           }
          ],
          "scattergeo": [
           {
            "marker": {
             "colorbar": {
              "outlinewidth": 0,
              "ticks": ""
             }
            },
            "type": "scattergeo"
           }
          ],
          "scattergl": [
           {
            "marker": {
             "colorbar": {
              "outlinewidth": 0,
              "ticks": ""
             }
            },
            "type": "scattergl"
           }
          ],
          "scattermapbox": [
           {
            "marker": {
             "colorbar": {
              "outlinewidth": 0,
              "ticks": ""
             }
            },
            "type": "scattermapbox"
           }
          ],
          "scatterpolar": [
           {
            "marker": {
             "colorbar": {
              "outlinewidth": 0,
              "ticks": ""
             }
            },
            "type": "scatterpolar"
           }
          ],
          "scatterpolargl": [
           {
            "marker": {
             "colorbar": {
              "outlinewidth": 0,
              "ticks": ""
             }
            },
            "type": "scatterpolargl"
           }
          ],
          "scatterternary": [
           {
            "marker": {
             "colorbar": {
              "outlinewidth": 0,
              "ticks": ""
             }
            },
            "type": "scatterternary"
           }
          ],
          "surface": [
           {
            "colorbar": {
             "outlinewidth": 0,
             "ticks": ""
            },
            "colorscale": [
             [
              0,
              "#0d0887"
             ],
             [
              0.1111111111111111,
              "#46039f"
             ],
             [
              0.2222222222222222,
              "#7201a8"
             ],
             [
              0.3333333333333333,
              "#9c179e"
             ],
             [
              0.4444444444444444,
              "#bd3786"
             ],
             [
              0.5555555555555556,
              "#d8576b"
             ],
             [
              0.6666666666666666,
              "#ed7953"
             ],
             [
              0.7777777777777778,
              "#fb9f3a"
             ],
             [
              0.8888888888888888,
              "#fdca26"
             ],
             [
              1,
              "#f0f921"
             ]
            ],
            "type": "surface"
           }
          ],
          "table": [
           {
            "cells": {
             "fill": {
              "color": "#EBF0F8"
             },
             "line": {
              "color": "white"
             }
            },
            "header": {
             "fill": {
              "color": "#C8D4E3"
             },
             "line": {
              "color": "white"
             }
            },
            "type": "table"
           }
          ]
         },
         "layout": {
          "annotationdefaults": {
           "arrowcolor": "#2a3f5f",
           "arrowhead": 0,
           "arrowwidth": 1
          },
          "autotypenumbers": "strict",
          "coloraxis": {
           "colorbar": {
            "outlinewidth": 0,
            "ticks": ""
           }
          },
          "colorscale": {
           "diverging": [
            [
             0,
             "#8e0152"
            ],
            [
             0.1,
             "#c51b7d"
            ],
            [
             0.2,
             "#de77ae"
            ],
            [
             0.3,
             "#f1b6da"
            ],
            [
             0.4,
             "#fde0ef"
            ],
            [
             0.5,
             "#f7f7f7"
            ],
            [
             0.6,
             "#e6f5d0"
            ],
            [
             0.7,
             "#b8e186"
            ],
            [
             0.8,
             "#7fbc41"
            ],
            [
             0.9,
             "#4d9221"
            ],
            [
             1,
             "#276419"
            ]
           ],
           "sequential": [
            [
             0,
             "#0d0887"
            ],
            [
             0.1111111111111111,
             "#46039f"
            ],
            [
             0.2222222222222222,
             "#7201a8"
            ],
            [
             0.3333333333333333,
             "#9c179e"
            ],
            [
             0.4444444444444444,
             "#bd3786"
            ],
            [
             0.5555555555555556,
             "#d8576b"
            ],
            [
             0.6666666666666666,
             "#ed7953"
            ],
            [
             0.7777777777777778,
             "#fb9f3a"
            ],
            [
             0.8888888888888888,
             "#fdca26"
            ],
            [
             1,
             "#f0f921"
            ]
           ],
           "sequentialminus": [
            [
             0,
             "#0d0887"
            ],
            [
             0.1111111111111111,
             "#46039f"
            ],
            [
             0.2222222222222222,
             "#7201a8"
            ],
            [
             0.3333333333333333,
             "#9c179e"
            ],
            [
             0.4444444444444444,
             "#bd3786"
            ],
            [
             0.5555555555555556,
             "#d8576b"
            ],
            [
             0.6666666666666666,
             "#ed7953"
            ],
            [
             0.7777777777777778,
             "#fb9f3a"
            ],
            [
             0.8888888888888888,
             "#fdca26"
            ],
            [
             1,
             "#f0f921"
            ]
           ]
          },
          "colorway": [
           "#636efa",
           "#EF553B",
           "#00cc96",
           "#ab63fa",
           "#FFA15A",
           "#19d3f3",
           "#FF6692",
           "#B6E880",
           "#FF97FF",
           "#FECB52"
          ],
          "font": {
           "color": "#2a3f5f"
          },
          "geo": {
           "bgcolor": "white",
           "lakecolor": "white",
           "landcolor": "#E5ECF6",
           "showlakes": true,
           "showland": true,
           "subunitcolor": "white"
          },
          "hoverlabel": {
           "align": "left"
          },
          "hovermode": "closest",
          "mapbox": {
           "style": "light"
          },
          "paper_bgcolor": "white",
          "plot_bgcolor": "#E5ECF6",
          "polar": {
           "angularaxis": {
            "gridcolor": "white",
            "linecolor": "white",
            "ticks": ""
           },
           "bgcolor": "#E5ECF6",
           "radialaxis": {
            "gridcolor": "white",
            "linecolor": "white",
            "ticks": ""
           }
          },
          "scene": {
           "xaxis": {
            "backgroundcolor": "#E5ECF6",
            "gridcolor": "white",
            "gridwidth": 2,
            "linecolor": "white",
            "showbackground": true,
            "ticks": "",
            "zerolinecolor": "white"
           },
           "yaxis": {
            "backgroundcolor": "#E5ECF6",
            "gridcolor": "white",
            "gridwidth": 2,
            "linecolor": "white",
            "showbackground": true,
            "ticks": "",
            "zerolinecolor": "white"
           },
           "zaxis": {
            "backgroundcolor": "#E5ECF6",
            "gridcolor": "white",
            "gridwidth": 2,
            "linecolor": "white",
            "showbackground": true,
            "ticks": "",
            "zerolinecolor": "white"
           }
          },
          "shapedefaults": {
           "line": {
            "color": "#2a3f5f"
           }
          },
          "ternary": {
           "aaxis": {
            "gridcolor": "white",
            "linecolor": "white",
            "ticks": ""
           },
           "baxis": {
            "gridcolor": "white",
            "linecolor": "white",
            "ticks": ""
           },
           "bgcolor": "#E5ECF6",
           "caxis": {
            "gridcolor": "white",
            "linecolor": "white",
            "ticks": ""
           }
          },
          "title": {
           "x": 0.05
          },
          "xaxis": {
           "automargin": true,
           "gridcolor": "white",
           "linecolor": "white",
           "ticks": "",
           "title": {
            "standoff": 15
           },
           "zerolinecolor": "white",
           "zerolinewidth": 2
          },
          "yaxis": {
           "automargin": true,
           "gridcolor": "white",
           "linecolor": "white",
           "ticks": "",
           "title": {
            "standoff": 15
           },
           "zerolinecolor": "white",
           "zerolinewidth": 2
          }
         }
        }
       }
      }
     },
     "metadata": {},
     "output_type": "display_data"
    }
   ],
   "source": [
    "df = data[data[\"from\"]<5_000_000]\n",
    "df = df.groupby(\"from\").agg({'tags_list': 'count'})\n",
    "df = df.sort_values(by=\"from\").reset_index()\n",
    "fig = go.Figure()\n",
    "fig.add_trace(go.Bar(x=df[\"tags_list\"], y=df[\"from\"]))\n",
    "fig.show()"
   ]
  },
  {
   "cell_type": "code",
   "execution_count": 153,
   "metadata": {},
   "outputs": [
    {
     "data": {
      "text/plain": [
       "array([ 5, 12,  9,  0, 28, 19, 13, 11,  8, 21,  7,  4,  6, 15, 10, 14, 26,\n",
       "       24, 22,  3, 18, 20, 23, 16, 17,  2, 25, 29, 30,  1, 27, 31])"
      ]
     },
     "execution_count": 153,
     "metadata": {},
     "output_type": "execute_result"
    }
   ],
   "source": [
    "data[\"tags_list_len\"].unique()"
   ]
  },
  {
   "cell_type": "code",
   "execution_count": 154,
   "metadata": {},
   "outputs": [
    {
     "data": {
      "text/plain": [
       "1865"
      ]
     },
     "execution_count": 154,
     "metadata": {},
     "output_type": "execute_result"
    }
   ],
   "source": [
    "\n",
    "all_tags = []\n",
    "for tags in data['tags_list']:\n",
    "    for tag in tags:\n",
    "        all_tags.append(tag)\n",
    "len(set(all_tags))"
   ]
  },
  {
   "cell_type": "code",
   "execution_count": 155,
   "metadata": {},
   "outputs": [
    {
     "data": {
      "text/html": [
       "<div>\n",
       "<style scoped>\n",
       "    .dataframe tbody tr th:only-of-type {\n",
       "        vertical-align: middle;\n",
       "    }\n",
       "\n",
       "    .dataframe tbody tr th {\n",
       "        vertical-align: top;\n",
       "    }\n",
       "\n",
       "    .dataframe thead th {\n",
       "        text-align: right;\n",
       "    }\n",
       "</style>\n",
       "<table border=\"1\" class=\"dataframe\">\n",
       "  <thead>\n",
       "    <tr style=\"text-align: right;\">\n",
       "      <th></th>\n",
       "      <th>index</th>\n",
       "      <th>experience</th>\n",
       "      <th>description</th>\n",
       "      <th>salary</th>\n",
       "      <th>tags_list</th>\n",
       "      <th>tags_list_len</th>\n",
       "      <th>from</th>\n",
       "      <th>upto</th>\n",
       "      <th>currency</th>\n",
       "      <th>fulladress</th>\n",
       "    </tr>\n",
       "  </thead>\n",
       "  <tbody>\n",
       "    <tr>\n",
       "      <th>110</th>\n",
       "      <td>110</td>\n",
       "      <td>3–6 лет</td>\n",
       "      <td>Производственно-торговая группа \"Aquanet\" - од...</td>\n",
       "      <td>от 150 000 руб. на руки</td>\n",
       "      <td>[Маркетинговые исследования, Маркетинговые ком...</td>\n",
       "      <td>5</td>\n",
       "      <td>150000.0</td>\n",
       "      <td>0.0</td>\n",
       "      <td>руб</td>\n",
       "      <td>Москва</td>\n",
       "    </tr>\n",
       "  </tbody>\n",
       "</table>\n",
       "</div>"
      ],
      "text/plain": [
       "     index experience                                        description  \\\n",
       "110    110    3–6 лет  Производственно-торговая группа \"Aquanet\" - од...   \n",
       "\n",
       "                      salary  \\\n",
       "110  от 150 000 руб. на руки   \n",
       "\n",
       "                                             tags_list  tags_list_len  \\\n",
       "110  [Маркетинговые исследования, Маркетинговые ком...              5   \n",
       "\n",
       "         from  upto currency fulladress  \n",
       "110  150000.0   0.0      руб     Москва  "
      ]
     },
     "execution_count": 155,
     "metadata": {},
     "output_type": "execute_result"
    }
   ],
   "source": [
    "data.sample()"
   ]
  },
  {
   "cell_type": "markdown",
   "metadata": {},
   "source": [
    "Нам очень интересна зависимость между зарплатой и необходимым стеком навыков. Построим график столбчатой диаграммы из средней начальной зарплаты, ее отклонения и уникальных тегов"
   ]
  },
  {
   "cell_type": "code",
   "execution_count": 156,
   "metadata": {},
   "outputs": [
    {
     "name": "stdout",
     "output_type": "stream",
     "text": [
      "Число уникальных тегов в data: 1865\n"
     ]
    },
    {
     "data": {
      "application/vnd.plotly.v1+json": {
       "config": {
        "plotlyServerURL": "https://plot.ly"
       },
       "data": [
        {
         "type": "bar",
         "x": [
          "perconadb",
          "js/css/html",
          "lumen 5.5",
          "jQuery",
          "gitlab (git + ci)",
          "Хорошие организаторские способности",
          "flutter",
          "elk",
          "Франщиза",
          "CDP",
          "Партнёрки",
          "CPA-сети",
          "COO",
          "Планирование бюджета",
          "DRY",
          "Опыт работы более 10 лет",
          "Продажа кредитных продуктов",
          "Продажа страховых продуктов",
          "Самодисциплина",
          "Привлечение новых дистрибьюторов",
          "Atlassian Confluence",
          "1c",
          "1С программирование",
          "Собственная розница",
          "Постановка задач",
          "Умение работать с большим количеством информации",
          "Ипотечное страхование",
          "продажа транспорта",
          "Увеличение прибыли",
          "Управление",
          "Госпитальные закупки",
          "HL-Блок",
          "Оптимизация каналов продаж",
          "EDT",
          "Redis",
          "ASA",
          "API",
          "RTPengine",
          "Openresty",
          "Teamplayer",
          "ASO",
          "1С: Управление предприятием",
          "Развитие сети присутствия",
          "C/C++",
          "Самозанятость",
          "БАДы",
          "Внимательность к деталям",
          "Венчурное финансирование",
          "Управление контентом интернет-магазина",
          "MC Excel",
          "M&A",
          "Французский — C1 — Продвинутый",
          "Франчайзинг",
          "Lua",
          "Kamailio",
          "Фармацевтическая химия",
          "Асинхронное программирование",
          "RethinkDB",
          "SHA",
          "Performance Marketing",
          "Разработка продукта RnD",
          "Разработка ПО",
          "Agile Project Management",
          "Product Development",
          "OpenOffice",
          "Юнит-экономика",
          "Творческий подход к продажам",
          "Опыт работы с сетевыми клиентами",
          "Лекарственные препараты",
          "Clickhouse",
          "Freeswitch",
          "Государственные структуры",
          "Моделирование бизнес процессов",
          "хороший соцпакет.",
          "релокация оплачивается",
          "Мобильные приложения",
          "Организационное развитие",
          "способность работать с большими массивами информации",
          "Backend",
          "Проектные продажи",
          "Опционы",
          "Международный рынок",
          "Транзакционная документация",
          "Планирование и формирование маркетингового бюджета",
          "Стратегический анализ",
          "Описание бизнес-процессов",
          "Оптимизация кода",
          "Стратегический менеджмент",
          "Affiliate",
          "Оптимизация логистических процессов",
          "Медиабаинг",
          "Логическое мышление",
          "AV",
          "Управление сервисом",
          "Tableau",
          "Дистрибьюция",
          "Логистический менеджмент",
          "Data Analysis",
          "Управление качеством",
          "Повышение KPIs"
         ],
         "y": [
          250000,
          250000,
          250000,
          250000,
          250000,
          250000,
          250000,
          250000,
          250000,
          250000,
          250000,
          250000,
          250000,
          250000,
          250000,
          250000,
          250000,
          250000,
          250000,
          250000,
          250000,
          250000,
          250000,
          250000,
          250000,
          250000,
          250000,
          250000,
          250000,
          250000,
          250000,
          250000,
          250000,
          250000,
          275000,
          300000,
          300000,
          300000,
          300000,
          300000,
          300000,
          300000,
          300000,
          300000,
          300000,
          300000,
          300000,
          300000,
          300000,
          300000,
          300000,
          300000,
          300000,
          300000,
          300000,
          300000,
          300000,
          300000,
          300000,
          300000,
          300000,
          300000,
          300000,
          300000,
          300000,
          300000,
          300000,
          300000,
          300000,
          300000,
          300000,
          300000,
          300000,
          300000,
          300000,
          300000,
          300000,
          300000,
          300000,
          300000,
          300000,
          300000,
          300000,
          300000,
          300000,
          300000,
          300000,
          306000,
          335000,
          350000,
          375000,
          375000,
          500000,
          500000,
          500000,
          500000,
          500000,
          500000,
          500000,
          500000
         ]
        },
        {
         "type": "scatter",
         "x": [
          "perconadb",
          "js/css/html",
          "lumen 5.5",
          "jQuery",
          "gitlab (git + ci)",
          "Хорошие организаторские способности",
          "flutter",
          "elk",
          "Франщиза",
          "CDP",
          "Партнёрки",
          "CPA-сети",
          "COO",
          "Планирование бюджета",
          "DRY",
          "Опыт работы более 10 лет",
          "Продажа кредитных продуктов",
          "Продажа страховых продуктов",
          "Самодисциплина",
          "Привлечение новых дистрибьюторов",
          "Atlassian Confluence",
          "1c",
          "1С программирование",
          "Собственная розница",
          "Постановка задач",
          "Умение работать с большим количеством информации",
          "Ипотечное страхование",
          "продажа транспорта",
          "Увеличение прибыли",
          "Управление",
          "Госпитальные закупки",
          "HL-Блок",
          "Оптимизация каналов продаж",
          "EDT",
          "Redis",
          "ASA",
          "API",
          "RTPengine",
          "Openresty",
          "Teamplayer",
          "ASO",
          "1С: Управление предприятием",
          "Развитие сети присутствия",
          "C/C++",
          "Самозанятость",
          "БАДы",
          "Внимательность к деталям",
          "Венчурное финансирование",
          "Управление контентом интернет-магазина",
          "MC Excel",
          "M&A",
          "Французский — C1 — Продвинутый",
          "Франчайзинг",
          "Lua",
          "Kamailio",
          "Фармацевтическая химия",
          "Асинхронное программирование",
          "RethinkDB",
          "SHA",
          "Performance Marketing",
          "Разработка продукта RnD",
          "Разработка ПО",
          "Agile Project Management",
          "Product Development",
          "OpenOffice",
          "Юнит-экономика",
          "Творческий подход к продажам",
          "Опыт работы с сетевыми клиентами",
          "Лекарственные препараты",
          "Clickhouse",
          "Freeswitch",
          "Государственные структуры",
          "Моделирование бизнес процессов",
          "хороший соцпакет.",
          "релокация оплачивается",
          "Мобильные приложения",
          "Организационное развитие",
          "способность работать с большими массивами информации",
          "Backend",
          "Проектные продажи",
          "Опционы",
          "Международный рынок",
          "Транзакционная документация",
          "Планирование и формирование маркетингового бюджета",
          "Стратегический анализ",
          "Описание бизнес-процессов",
          "Оптимизация кода",
          "Стратегический менеджмент",
          "Affiliate",
          "Оптимизация логистических процессов",
          "Медиабаинг",
          "Логическое мышление",
          "AV",
          "Управление сервисом",
          "Tableau",
          "Дистрибьюция",
          "Логистический менеджмент",
          "Data Analysis",
          "Управление качеством",
          "Повышение KPIs"
         ],
         "y": [
          0,
          0,
          0,
          0,
          0,
          0,
          0,
          0,
          0,
          0,
          0,
          0,
          0,
          0,
          0,
          0,
          0,
          0,
          0,
          0,
          0,
          0,
          0,
          0,
          0,
          0,
          0,
          0,
          0,
          0,
          0,
          0,
          0,
          0,
          25000,
          0,
          0,
          0,
          0,
          0,
          0,
          0,
          0,
          0,
          0,
          0,
          0,
          0,
          0,
          0,
          0,
          0,
          0,
          0,
          0,
          0,
          0,
          0,
          0,
          0,
          0,
          0,
          0,
          0,
          0,
          0,
          0,
          0,
          0,
          0,
          0,
          0,
          0,
          0,
          0,
          0,
          0,
          0,
          0,
          0,
          0,
          0,
          0,
          0,
          0,
          0,
          0,
          161691.0634512619,
          115000,
          150000,
          75000,
          125000,
          0,
          0,
          0,
          0,
          0,
          0,
          0,
          0
         ]
        }
       ],
       "layout": {
        "template": {
         "data": {
          "bar": [
           {
            "error_x": {
             "color": "#2a3f5f"
            },
            "error_y": {
             "color": "#2a3f5f"
            },
            "marker": {
             "line": {
              "color": "#E5ECF6",
              "width": 0.5
             },
             "pattern": {
              "fillmode": "overlay",
              "size": 10,
              "solidity": 0.2
             }
            },
            "type": "bar"
           }
          ],
          "barpolar": [
           {
            "marker": {
             "line": {
              "color": "#E5ECF6",
              "width": 0.5
             },
             "pattern": {
              "fillmode": "overlay",
              "size": 10,
              "solidity": 0.2
             }
            },
            "type": "barpolar"
           }
          ],
          "carpet": [
           {
            "aaxis": {
             "endlinecolor": "#2a3f5f",
             "gridcolor": "white",
             "linecolor": "white",
             "minorgridcolor": "white",
             "startlinecolor": "#2a3f5f"
            },
            "baxis": {
             "endlinecolor": "#2a3f5f",
             "gridcolor": "white",
             "linecolor": "white",
             "minorgridcolor": "white",
             "startlinecolor": "#2a3f5f"
            },
            "type": "carpet"
           }
          ],
          "choropleth": [
           {
            "colorbar": {
             "outlinewidth": 0,
             "ticks": ""
            },
            "type": "choropleth"
           }
          ],
          "contour": [
           {
            "colorbar": {
             "outlinewidth": 0,
             "ticks": ""
            },
            "colorscale": [
             [
              0,
              "#0d0887"
             ],
             [
              0.1111111111111111,
              "#46039f"
             ],
             [
              0.2222222222222222,
              "#7201a8"
             ],
             [
              0.3333333333333333,
              "#9c179e"
             ],
             [
              0.4444444444444444,
              "#bd3786"
             ],
             [
              0.5555555555555556,
              "#d8576b"
             ],
             [
              0.6666666666666666,
              "#ed7953"
             ],
             [
              0.7777777777777778,
              "#fb9f3a"
             ],
             [
              0.8888888888888888,
              "#fdca26"
             ],
             [
              1,
              "#f0f921"
             ]
            ],
            "type": "contour"
           }
          ],
          "contourcarpet": [
           {
            "colorbar": {
             "outlinewidth": 0,
             "ticks": ""
            },
            "type": "contourcarpet"
           }
          ],
          "heatmap": [
           {
            "colorbar": {
             "outlinewidth": 0,
             "ticks": ""
            },
            "colorscale": [
             [
              0,
              "#0d0887"
             ],
             [
              0.1111111111111111,
              "#46039f"
             ],
             [
              0.2222222222222222,
              "#7201a8"
             ],
             [
              0.3333333333333333,
              "#9c179e"
             ],
             [
              0.4444444444444444,
              "#bd3786"
             ],
             [
              0.5555555555555556,
              "#d8576b"
             ],
             [
              0.6666666666666666,
              "#ed7953"
             ],
             [
              0.7777777777777778,
              "#fb9f3a"
             ],
             [
              0.8888888888888888,
              "#fdca26"
             ],
             [
              1,
              "#f0f921"
             ]
            ],
            "type": "heatmap"
           }
          ],
          "heatmapgl": [
           {
            "colorbar": {
             "outlinewidth": 0,
             "ticks": ""
            },
            "colorscale": [
             [
              0,
              "#0d0887"
             ],
             [
              0.1111111111111111,
              "#46039f"
             ],
             [
              0.2222222222222222,
              "#7201a8"
             ],
             [
              0.3333333333333333,
              "#9c179e"
             ],
             [
              0.4444444444444444,
              "#bd3786"
             ],
             [
              0.5555555555555556,
              "#d8576b"
             ],
             [
              0.6666666666666666,
              "#ed7953"
             ],
             [
              0.7777777777777778,
              "#fb9f3a"
             ],
             [
              0.8888888888888888,
              "#fdca26"
             ],
             [
              1,
              "#f0f921"
             ]
            ],
            "type": "heatmapgl"
           }
          ],
          "histogram": [
           {
            "marker": {
             "pattern": {
              "fillmode": "overlay",
              "size": 10,
              "solidity": 0.2
             }
            },
            "type": "histogram"
           }
          ],
          "histogram2d": [
           {
            "colorbar": {
             "outlinewidth": 0,
             "ticks": ""
            },
            "colorscale": [
             [
              0,
              "#0d0887"
             ],
             [
              0.1111111111111111,
              "#46039f"
             ],
             [
              0.2222222222222222,
              "#7201a8"
             ],
             [
              0.3333333333333333,
              "#9c179e"
             ],
             [
              0.4444444444444444,
              "#bd3786"
             ],
             [
              0.5555555555555556,
              "#d8576b"
             ],
             [
              0.6666666666666666,
              "#ed7953"
             ],
             [
              0.7777777777777778,
              "#fb9f3a"
             ],
             [
              0.8888888888888888,
              "#fdca26"
             ],
             [
              1,
              "#f0f921"
             ]
            ],
            "type": "histogram2d"
           }
          ],
          "histogram2dcontour": [
           {
            "colorbar": {
             "outlinewidth": 0,
             "ticks": ""
            },
            "colorscale": [
             [
              0,
              "#0d0887"
             ],
             [
              0.1111111111111111,
              "#46039f"
             ],
             [
              0.2222222222222222,
              "#7201a8"
             ],
             [
              0.3333333333333333,
              "#9c179e"
             ],
             [
              0.4444444444444444,
              "#bd3786"
             ],
             [
              0.5555555555555556,
              "#d8576b"
             ],
             [
              0.6666666666666666,
              "#ed7953"
             ],
             [
              0.7777777777777778,
              "#fb9f3a"
             ],
             [
              0.8888888888888888,
              "#fdca26"
             ],
             [
              1,
              "#f0f921"
             ]
            ],
            "type": "histogram2dcontour"
           }
          ],
          "mesh3d": [
           {
            "colorbar": {
             "outlinewidth": 0,
             "ticks": ""
            },
            "type": "mesh3d"
           }
          ],
          "parcoords": [
           {
            "line": {
             "colorbar": {
              "outlinewidth": 0,
              "ticks": ""
             }
            },
            "type": "parcoords"
           }
          ],
          "pie": [
           {
            "automargin": true,
            "type": "pie"
           }
          ],
          "scatter": [
           {
            "fillpattern": {
             "fillmode": "overlay",
             "size": 10,
             "solidity": 0.2
            },
            "type": "scatter"
           }
          ],
          "scatter3d": [
           {
            "line": {
             "colorbar": {
              "outlinewidth": 0,
              "ticks": ""
             }
            },
            "marker": {
             "colorbar": {
              "outlinewidth": 0,
              "ticks": ""
             }
            },
            "type": "scatter3d"
           }
          ],
          "scattercarpet": [
           {
            "marker": {
             "colorbar": {
              "outlinewidth": 0,
              "ticks": ""
             }
            },
            "type": "scattercarpet"
           }
          ],
          "scattergeo": [
           {
            "marker": {
             "colorbar": {
              "outlinewidth": 0,
              "ticks": ""
             }
            },
            "type": "scattergeo"
           }
          ],
          "scattergl": [
           {
            "marker": {
             "colorbar": {
              "outlinewidth": 0,
              "ticks": ""
             }
            },
            "type": "scattergl"
           }
          ],
          "scattermapbox": [
           {
            "marker": {
             "colorbar": {
              "outlinewidth": 0,
              "ticks": ""
             }
            },
            "type": "scattermapbox"
           }
          ],
          "scatterpolar": [
           {
            "marker": {
             "colorbar": {
              "outlinewidth": 0,
              "ticks": ""
             }
            },
            "type": "scatterpolar"
           }
          ],
          "scatterpolargl": [
           {
            "marker": {
             "colorbar": {
              "outlinewidth": 0,
              "ticks": ""
             }
            },
            "type": "scatterpolargl"
           }
          ],
          "scatterternary": [
           {
            "marker": {
             "colorbar": {
              "outlinewidth": 0,
              "ticks": ""
             }
            },
            "type": "scatterternary"
           }
          ],
          "surface": [
           {
            "colorbar": {
             "outlinewidth": 0,
             "ticks": ""
            },
            "colorscale": [
             [
              0,
              "#0d0887"
             ],
             [
              0.1111111111111111,
              "#46039f"
             ],
             [
              0.2222222222222222,
              "#7201a8"
             ],
             [
              0.3333333333333333,
              "#9c179e"
             ],
             [
              0.4444444444444444,
              "#bd3786"
             ],
             [
              0.5555555555555556,
              "#d8576b"
             ],
             [
              0.6666666666666666,
              "#ed7953"
             ],
             [
              0.7777777777777778,
              "#fb9f3a"
             ],
             [
              0.8888888888888888,
              "#fdca26"
             ],
             [
              1,
              "#f0f921"
             ]
            ],
            "type": "surface"
           }
          ],
          "table": [
           {
            "cells": {
             "fill": {
              "color": "#EBF0F8"
             },
             "line": {
              "color": "white"
             }
            },
            "header": {
             "fill": {
              "color": "#C8D4E3"
             },
             "line": {
              "color": "white"
             }
            },
            "type": "table"
           }
          ]
         },
         "layout": {
          "annotationdefaults": {
           "arrowcolor": "#2a3f5f",
           "arrowhead": 0,
           "arrowwidth": 1
          },
          "autotypenumbers": "strict",
          "coloraxis": {
           "colorbar": {
            "outlinewidth": 0,
            "ticks": ""
           }
          },
          "colorscale": {
           "diverging": [
            [
             0,
             "#8e0152"
            ],
            [
             0.1,
             "#c51b7d"
            ],
            [
             0.2,
             "#de77ae"
            ],
            [
             0.3,
             "#f1b6da"
            ],
            [
             0.4,
             "#fde0ef"
            ],
            [
             0.5,
             "#f7f7f7"
            ],
            [
             0.6,
             "#e6f5d0"
            ],
            [
             0.7,
             "#b8e186"
            ],
            [
             0.8,
             "#7fbc41"
            ],
            [
             0.9,
             "#4d9221"
            ],
            [
             1,
             "#276419"
            ]
           ],
           "sequential": [
            [
             0,
             "#0d0887"
            ],
            [
             0.1111111111111111,
             "#46039f"
            ],
            [
             0.2222222222222222,
             "#7201a8"
            ],
            [
             0.3333333333333333,
             "#9c179e"
            ],
            [
             0.4444444444444444,
             "#bd3786"
            ],
            [
             0.5555555555555556,
             "#d8576b"
            ],
            [
             0.6666666666666666,
             "#ed7953"
            ],
            [
             0.7777777777777778,
             "#fb9f3a"
            ],
            [
             0.8888888888888888,
             "#fdca26"
            ],
            [
             1,
             "#f0f921"
            ]
           ],
           "sequentialminus": [
            [
             0,
             "#0d0887"
            ],
            [
             0.1111111111111111,
             "#46039f"
            ],
            [
             0.2222222222222222,
             "#7201a8"
            ],
            [
             0.3333333333333333,
             "#9c179e"
            ],
            [
             0.4444444444444444,
             "#bd3786"
            ],
            [
             0.5555555555555556,
             "#d8576b"
            ],
            [
             0.6666666666666666,
             "#ed7953"
            ],
            [
             0.7777777777777778,
             "#fb9f3a"
            ],
            [
             0.8888888888888888,
             "#fdca26"
            ],
            [
             1,
             "#f0f921"
            ]
           ]
          },
          "colorway": [
           "#636efa",
           "#EF553B",
           "#00cc96",
           "#ab63fa",
           "#FFA15A",
           "#19d3f3",
           "#FF6692",
           "#B6E880",
           "#FF97FF",
           "#FECB52"
          ],
          "font": {
           "color": "#2a3f5f"
          },
          "geo": {
           "bgcolor": "white",
           "lakecolor": "white",
           "landcolor": "#E5ECF6",
           "showlakes": true,
           "showland": true,
           "subunitcolor": "white"
          },
          "hoverlabel": {
           "align": "left"
          },
          "hovermode": "closest",
          "mapbox": {
           "style": "light"
          },
          "paper_bgcolor": "white",
          "plot_bgcolor": "#E5ECF6",
          "polar": {
           "angularaxis": {
            "gridcolor": "white",
            "linecolor": "white",
            "ticks": ""
           },
           "bgcolor": "#E5ECF6",
           "radialaxis": {
            "gridcolor": "white",
            "linecolor": "white",
            "ticks": ""
           }
          },
          "scene": {
           "xaxis": {
            "backgroundcolor": "#E5ECF6",
            "gridcolor": "white",
            "gridwidth": 2,
            "linecolor": "white",
            "showbackground": true,
            "ticks": "",
            "zerolinecolor": "white"
           },
           "yaxis": {
            "backgroundcolor": "#E5ECF6",
            "gridcolor": "white",
            "gridwidth": 2,
            "linecolor": "white",
            "showbackground": true,
            "ticks": "",
            "zerolinecolor": "white"
           },
           "zaxis": {
            "backgroundcolor": "#E5ECF6",
            "gridcolor": "white",
            "gridwidth": 2,
            "linecolor": "white",
            "showbackground": true,
            "ticks": "",
            "zerolinecolor": "white"
           }
          },
          "shapedefaults": {
           "line": {
            "color": "#2a3f5f"
           }
          },
          "ternary": {
           "aaxis": {
            "gridcolor": "white",
            "linecolor": "white",
            "ticks": ""
           },
           "baxis": {
            "gridcolor": "white",
            "linecolor": "white",
            "ticks": ""
           },
           "bgcolor": "#E5ECF6",
           "caxis": {
            "gridcolor": "white",
            "linecolor": "white",
            "ticks": ""
           }
          },
          "title": {
           "x": 0.05
          },
          "xaxis": {
           "automargin": true,
           "gridcolor": "white",
           "linecolor": "white",
           "ticks": "",
           "title": {
            "standoff": 15
           },
           "zerolinecolor": "white",
           "zerolinewidth": 2
          },
          "yaxis": {
           "automargin": true,
           "gridcolor": "white",
           "linecolor": "white",
           "ticks": "",
           "title": {
            "standoff": 15
           },
           "zerolinecolor": "white",
           "zerolinewidth": 2
          }
         }
        }
       }
      }
     },
     "metadata": {},
     "output_type": "display_data"
    }
   ],
   "source": [
    "df = data.explode('tags_list')\n",
    "\n",
    "grouped_df = df.groupby([\"tags_list\"]).agg({\"tags_list\": \"count\"})\n",
    "grouped_df.columns = [\"count\"]\n",
    "grouped_df['from_mean'] = df.groupby('tags_list')['from'].apply(lambda x: x.sum()/len(x)).values\n",
    "grouped_df['from_list'] = df.groupby('tags_list')['from'].apply(list).values\n",
    "grouped_df['from_std'] = grouped_df['from_list'].apply(np.std)\n",
    "print(f\"Число уникальных тегов в data: {len(grouped_df)}\")\n",
    "grouped_df = grouped_df.reset_index().sort_values(by=\"from_mean\")[-100:]\n",
    "fig = go.Figure()\n",
    "fig.add_trace(go.Bar(x=grouped_df[\"tags_list\"], y=grouped_df[\"from_mean\"]))\n",
    "fig.add_trace(go.Scatter(x=grouped_df[\"tags_list\"], y=grouped_df[\"from_std\"]))\n",
    "fig.show()"
   ]
  },
  {
   "cell_type": "markdown",
   "metadata": {},
   "source": [
    "Рассмотрим интересный случай поближе"
   ]
  },
  {
   "cell_type": "code",
   "execution_count": 157,
   "metadata": {},
   "outputs": [
    {
     "data": {
      "application/vnd.plotly.v1+json": {
       "config": {
        "plotlyServerURL": "https://plot.ly"
       },
       "data": [
        {
         "type": "bar",
         "x": [
          "Опционы",
          "Международный рынок",
          "Транзакционная документация",
          "Планирование и формирование маркетингового бюджета",
          "Стратегический анализ",
          "Описание бизнес-процессов",
          "Оптимизация кода",
          "Стратегический менеджмент",
          "Affiliate",
          "Оптимизация логистических процессов",
          "Медиабаинг",
          "Логическое мышление",
          "AV",
          "Управление сервисом",
          "Tableau",
          "Дистрибьюция",
          "Логистический менеджмент",
          "Data Analysis",
          "Управление качеством",
          "Повышение KPIs"
         ],
         "y": [
          300000,
          300000,
          300000,
          300000,
          300000,
          300000,
          300000,
          306000,
          335000,
          350000,
          375000,
          375000,
          500000,
          500000,
          500000,
          500000,
          500000,
          500000,
          500000,
          500000
         ]
        },
        {
         "type": "scatter",
         "x": [
          "Опционы",
          "Международный рынок",
          "Транзакционная документация",
          "Планирование и формирование маркетингового бюджета",
          "Стратегический анализ",
          "Описание бизнес-процессов",
          "Оптимизация кода",
          "Стратегический менеджмент",
          "Affiliate",
          "Оптимизация логистических процессов",
          "Медиабаинг",
          "Логическое мышление",
          "AV",
          "Управление сервисом",
          "Tableau",
          "Дистрибьюция",
          "Логистический менеджмент",
          "Data Analysis",
          "Управление качеством",
          "Повышение KPIs"
         ],
         "y": [
          0,
          0,
          0,
          0,
          0,
          0,
          0,
          161691.0634512619,
          115000,
          150000,
          75000,
          125000,
          0,
          0,
          0,
          0,
          0,
          0,
          0,
          0
         ]
        }
       ],
       "layout": {
        "template": {
         "data": {
          "bar": [
           {
            "error_x": {
             "color": "#2a3f5f"
            },
            "error_y": {
             "color": "#2a3f5f"
            },
            "marker": {
             "line": {
              "color": "#E5ECF6",
              "width": 0.5
             },
             "pattern": {
              "fillmode": "overlay",
              "size": 10,
              "solidity": 0.2
             }
            },
            "type": "bar"
           }
          ],
          "barpolar": [
           {
            "marker": {
             "line": {
              "color": "#E5ECF6",
              "width": 0.5
             },
             "pattern": {
              "fillmode": "overlay",
              "size": 10,
              "solidity": 0.2
             }
            },
            "type": "barpolar"
           }
          ],
          "carpet": [
           {
            "aaxis": {
             "endlinecolor": "#2a3f5f",
             "gridcolor": "white",
             "linecolor": "white",
             "minorgridcolor": "white",
             "startlinecolor": "#2a3f5f"
            },
            "baxis": {
             "endlinecolor": "#2a3f5f",
             "gridcolor": "white",
             "linecolor": "white",
             "minorgridcolor": "white",
             "startlinecolor": "#2a3f5f"
            },
            "type": "carpet"
           }
          ],
          "choropleth": [
           {
            "colorbar": {
             "outlinewidth": 0,
             "ticks": ""
            },
            "type": "choropleth"
           }
          ],
          "contour": [
           {
            "colorbar": {
             "outlinewidth": 0,
             "ticks": ""
            },
            "colorscale": [
             [
              0,
              "#0d0887"
             ],
             [
              0.1111111111111111,
              "#46039f"
             ],
             [
              0.2222222222222222,
              "#7201a8"
             ],
             [
              0.3333333333333333,
              "#9c179e"
             ],
             [
              0.4444444444444444,
              "#bd3786"
             ],
             [
              0.5555555555555556,
              "#d8576b"
             ],
             [
              0.6666666666666666,
              "#ed7953"
             ],
             [
              0.7777777777777778,
              "#fb9f3a"
             ],
             [
              0.8888888888888888,
              "#fdca26"
             ],
             [
              1,
              "#f0f921"
             ]
            ],
            "type": "contour"
           }
          ],
          "contourcarpet": [
           {
            "colorbar": {
             "outlinewidth": 0,
             "ticks": ""
            },
            "type": "contourcarpet"
           }
          ],
          "heatmap": [
           {
            "colorbar": {
             "outlinewidth": 0,
             "ticks": ""
            },
            "colorscale": [
             [
              0,
              "#0d0887"
             ],
             [
              0.1111111111111111,
              "#46039f"
             ],
             [
              0.2222222222222222,
              "#7201a8"
             ],
             [
              0.3333333333333333,
              "#9c179e"
             ],
             [
              0.4444444444444444,
              "#bd3786"
             ],
             [
              0.5555555555555556,
              "#d8576b"
             ],
             [
              0.6666666666666666,
              "#ed7953"
             ],
             [
              0.7777777777777778,
              "#fb9f3a"
             ],
             [
              0.8888888888888888,
              "#fdca26"
             ],
             [
              1,
              "#f0f921"
             ]
            ],
            "type": "heatmap"
           }
          ],
          "heatmapgl": [
           {
            "colorbar": {
             "outlinewidth": 0,
             "ticks": ""
            },
            "colorscale": [
             [
              0,
              "#0d0887"
             ],
             [
              0.1111111111111111,
              "#46039f"
             ],
             [
              0.2222222222222222,
              "#7201a8"
             ],
             [
              0.3333333333333333,
              "#9c179e"
             ],
             [
              0.4444444444444444,
              "#bd3786"
             ],
             [
              0.5555555555555556,
              "#d8576b"
             ],
             [
              0.6666666666666666,
              "#ed7953"
             ],
             [
              0.7777777777777778,
              "#fb9f3a"
             ],
             [
              0.8888888888888888,
              "#fdca26"
             ],
             [
              1,
              "#f0f921"
             ]
            ],
            "type": "heatmapgl"
           }
          ],
          "histogram": [
           {
            "marker": {
             "pattern": {
              "fillmode": "overlay",
              "size": 10,
              "solidity": 0.2
             }
            },
            "type": "histogram"
           }
          ],
          "histogram2d": [
           {
            "colorbar": {
             "outlinewidth": 0,
             "ticks": ""
            },
            "colorscale": [
             [
              0,
              "#0d0887"
             ],
             [
              0.1111111111111111,
              "#46039f"
             ],
             [
              0.2222222222222222,
              "#7201a8"
             ],
             [
              0.3333333333333333,
              "#9c179e"
             ],
             [
              0.4444444444444444,
              "#bd3786"
             ],
             [
              0.5555555555555556,
              "#d8576b"
             ],
             [
              0.6666666666666666,
              "#ed7953"
             ],
             [
              0.7777777777777778,
              "#fb9f3a"
             ],
             [
              0.8888888888888888,
              "#fdca26"
             ],
             [
              1,
              "#f0f921"
             ]
            ],
            "type": "histogram2d"
           }
          ],
          "histogram2dcontour": [
           {
            "colorbar": {
             "outlinewidth": 0,
             "ticks": ""
            },
            "colorscale": [
             [
              0,
              "#0d0887"
             ],
             [
              0.1111111111111111,
              "#46039f"
             ],
             [
              0.2222222222222222,
              "#7201a8"
             ],
             [
              0.3333333333333333,
              "#9c179e"
             ],
             [
              0.4444444444444444,
              "#bd3786"
             ],
             [
              0.5555555555555556,
              "#d8576b"
             ],
             [
              0.6666666666666666,
              "#ed7953"
             ],
             [
              0.7777777777777778,
              "#fb9f3a"
             ],
             [
              0.8888888888888888,
              "#fdca26"
             ],
             [
              1,
              "#f0f921"
             ]
            ],
            "type": "histogram2dcontour"
           }
          ],
          "mesh3d": [
           {
            "colorbar": {
             "outlinewidth": 0,
             "ticks": ""
            },
            "type": "mesh3d"
           }
          ],
          "parcoords": [
           {
            "line": {
             "colorbar": {
              "outlinewidth": 0,
              "ticks": ""
             }
            },
            "type": "parcoords"
           }
          ],
          "pie": [
           {
            "automargin": true,
            "type": "pie"
           }
          ],
          "scatter": [
           {
            "fillpattern": {
             "fillmode": "overlay",
             "size": 10,
             "solidity": 0.2
            },
            "type": "scatter"
           }
          ],
          "scatter3d": [
           {
            "line": {
             "colorbar": {
              "outlinewidth": 0,
              "ticks": ""
             }
            },
            "marker": {
             "colorbar": {
              "outlinewidth": 0,
              "ticks": ""
             }
            },
            "type": "scatter3d"
           }
          ],
          "scattercarpet": [
           {
            "marker": {
             "colorbar": {
              "outlinewidth": 0,
              "ticks": ""
             }
            },
            "type": "scattercarpet"
           }
          ],
          "scattergeo": [
           {
            "marker": {
             "colorbar": {
              "outlinewidth": 0,
              "ticks": ""
             }
            },
            "type": "scattergeo"
           }
          ],
          "scattergl": [
           {
            "marker": {
             "colorbar": {
              "outlinewidth": 0,
              "ticks": ""
             }
            },
            "type": "scattergl"
           }
          ],
          "scattermapbox": [
           {
            "marker": {
             "colorbar": {
              "outlinewidth": 0,
              "ticks": ""
             }
            },
            "type": "scattermapbox"
           }
          ],
          "scatterpolar": [
           {
            "marker": {
             "colorbar": {
              "outlinewidth": 0,
              "ticks": ""
             }
            },
            "type": "scatterpolar"
           }
          ],
          "scatterpolargl": [
           {
            "marker": {
             "colorbar": {
              "outlinewidth": 0,
              "ticks": ""
             }
            },
            "type": "scatterpolargl"
           }
          ],
          "scatterternary": [
           {
            "marker": {
             "colorbar": {
              "outlinewidth": 0,
              "ticks": ""
             }
            },
            "type": "scatterternary"
           }
          ],
          "surface": [
           {
            "colorbar": {
             "outlinewidth": 0,
             "ticks": ""
            },
            "colorscale": [
             [
              0,
              "#0d0887"
             ],
             [
              0.1111111111111111,
              "#46039f"
             ],
             [
              0.2222222222222222,
              "#7201a8"
             ],
             [
              0.3333333333333333,
              "#9c179e"
             ],
             [
              0.4444444444444444,
              "#bd3786"
             ],
             [
              0.5555555555555556,
              "#d8576b"
             ],
             [
              0.6666666666666666,
              "#ed7953"
             ],
             [
              0.7777777777777778,
              "#fb9f3a"
             ],
             [
              0.8888888888888888,
              "#fdca26"
             ],
             [
              1,
              "#f0f921"
             ]
            ],
            "type": "surface"
           }
          ],
          "table": [
           {
            "cells": {
             "fill": {
              "color": "#EBF0F8"
             },
             "line": {
              "color": "white"
             }
            },
            "header": {
             "fill": {
              "color": "#C8D4E3"
             },
             "line": {
              "color": "white"
             }
            },
            "type": "table"
           }
          ]
         },
         "layout": {
          "annotationdefaults": {
           "arrowcolor": "#2a3f5f",
           "arrowhead": 0,
           "arrowwidth": 1
          },
          "autotypenumbers": "strict",
          "coloraxis": {
           "colorbar": {
            "outlinewidth": 0,
            "ticks": ""
           }
          },
          "colorscale": {
           "diverging": [
            [
             0,
             "#8e0152"
            ],
            [
             0.1,
             "#c51b7d"
            ],
            [
             0.2,
             "#de77ae"
            ],
            [
             0.3,
             "#f1b6da"
            ],
            [
             0.4,
             "#fde0ef"
            ],
            [
             0.5,
             "#f7f7f7"
            ],
            [
             0.6,
             "#e6f5d0"
            ],
            [
             0.7,
             "#b8e186"
            ],
            [
             0.8,
             "#7fbc41"
            ],
            [
             0.9,
             "#4d9221"
            ],
            [
             1,
             "#276419"
            ]
           ],
           "sequential": [
            [
             0,
             "#0d0887"
            ],
            [
             0.1111111111111111,
             "#46039f"
            ],
            [
             0.2222222222222222,
             "#7201a8"
            ],
            [
             0.3333333333333333,
             "#9c179e"
            ],
            [
             0.4444444444444444,
             "#bd3786"
            ],
            [
             0.5555555555555556,
             "#d8576b"
            ],
            [
             0.6666666666666666,
             "#ed7953"
            ],
            [
             0.7777777777777778,
             "#fb9f3a"
            ],
            [
             0.8888888888888888,
             "#fdca26"
            ],
            [
             1,
             "#f0f921"
            ]
           ],
           "sequentialminus": [
            [
             0,
             "#0d0887"
            ],
            [
             0.1111111111111111,
             "#46039f"
            ],
            [
             0.2222222222222222,
             "#7201a8"
            ],
            [
             0.3333333333333333,
             "#9c179e"
            ],
            [
             0.4444444444444444,
             "#bd3786"
            ],
            [
             0.5555555555555556,
             "#d8576b"
            ],
            [
             0.6666666666666666,
             "#ed7953"
            ],
            [
             0.7777777777777778,
             "#fb9f3a"
            ],
            [
             0.8888888888888888,
             "#fdca26"
            ],
            [
             1,
             "#f0f921"
            ]
           ]
          },
          "colorway": [
           "#636efa",
           "#EF553B",
           "#00cc96",
           "#ab63fa",
           "#FFA15A",
           "#19d3f3",
           "#FF6692",
           "#B6E880",
           "#FF97FF",
           "#FECB52"
          ],
          "font": {
           "color": "#2a3f5f"
          },
          "geo": {
           "bgcolor": "white",
           "lakecolor": "white",
           "landcolor": "#E5ECF6",
           "showlakes": true,
           "showland": true,
           "subunitcolor": "white"
          },
          "hoverlabel": {
           "align": "left"
          },
          "hovermode": "closest",
          "mapbox": {
           "style": "light"
          },
          "paper_bgcolor": "white",
          "plot_bgcolor": "#E5ECF6",
          "polar": {
           "angularaxis": {
            "gridcolor": "white",
            "linecolor": "white",
            "ticks": ""
           },
           "bgcolor": "#E5ECF6",
           "radialaxis": {
            "gridcolor": "white",
            "linecolor": "white",
            "ticks": ""
           }
          },
          "scene": {
           "xaxis": {
            "backgroundcolor": "#E5ECF6",
            "gridcolor": "white",
            "gridwidth": 2,
            "linecolor": "white",
            "showbackground": true,
            "ticks": "",
            "zerolinecolor": "white"
           },
           "yaxis": {
            "backgroundcolor": "#E5ECF6",
            "gridcolor": "white",
            "gridwidth": 2,
            "linecolor": "white",
            "showbackground": true,
            "ticks": "",
            "zerolinecolor": "white"
           },
           "zaxis": {
            "backgroundcolor": "#E5ECF6",
            "gridcolor": "white",
            "gridwidth": 2,
            "linecolor": "white",
            "showbackground": true,
            "ticks": "",
            "zerolinecolor": "white"
           }
          },
          "shapedefaults": {
           "line": {
            "color": "#2a3f5f"
           }
          },
          "ternary": {
           "aaxis": {
            "gridcolor": "white",
            "linecolor": "white",
            "ticks": ""
           },
           "baxis": {
            "gridcolor": "white",
            "linecolor": "white",
            "ticks": ""
           },
           "bgcolor": "#E5ECF6",
           "caxis": {
            "gridcolor": "white",
            "linecolor": "white",
            "ticks": ""
           }
          },
          "title": {
           "x": 0.05
          },
          "xaxis": {
           "automargin": true,
           "gridcolor": "white",
           "linecolor": "white",
           "ticks": "",
           "title": {
            "standoff": 15
           },
           "zerolinecolor": "white",
           "zerolinewidth": 2
          },
          "yaxis": {
           "automargin": true,
           "gridcolor": "white",
           "linecolor": "white",
           "ticks": "",
           "title": {
            "standoff": 15
           },
           "zerolinecolor": "white",
           "zerolinewidth": 2
          }
         }
        }
       }
      }
     },
     "metadata": {},
     "output_type": "display_data"
    }
   ],
   "source": [
    "grouped_df = grouped_df.reset_index().sort_values(by=\"from_mean\")[-20:]\n",
    "fig = go.Figure()\n",
    "fig.add_trace(go.Bar(x=grouped_df[\"tags_list\"], y=grouped_df[\"from_mean\"]))\n",
    "fig.add_trace(go.Scatter(x=grouped_df[\"tags_list\"], y=grouped_df[\"from_std\"]))\n",
    "fig.show()"
   ]
  },
  {
   "cell_type": "markdown",
   "metadata": {},
   "source": [
    "Можем предположить, что навыки с большим отклонением средней заработной платы необходимы на разных уровнях должностей. Интересно, что самые \"дорогие\" теги связаны со сферами продаж, аналитики данных, менеджмента и управления"
   ]
  },
  {
   "cell_type": "markdown",
   "metadata": {},
   "source": [
    "Число людей без опыта"
   ]
  },
  {
   "cell_type": "code",
   "execution_count": 158,
   "metadata": {},
   "outputs": [
    {
     "data": {
      "text/plain": [
       "151"
      ]
     },
     "execution_count": 158,
     "metadata": {},
     "output_type": "execute_result"
    }
   ],
   "source": [
    "df = data[data[\"experience\"] == \"не требуется\"]\n",
    "len(df)"
   ]
  },
  {
   "cell_type": "markdown",
   "metadata": {},
   "source": [
    "Так как вакансий без тегов достаточно много, хочется рассмотреть и их"
   ]
  },
  {
   "cell_type": "code",
   "execution_count": 159,
   "metadata": {},
   "outputs": [
    {
     "name": "stdout",
     "output_type": "stream",
     "text": [
      "Index(['1–3 года', '3–6 лет', 'более 6 лет', 'не требуется'], dtype='object', name='experience') experience\n",
      "1–3 года        63\n",
      "3–6 лет         55\n",
      "более 6 лет     22\n",
      "не требуется    14\n",
      "Name: count, dtype: int64\n"
     ]
    },
    {
     "data": {
      "application/vnd.plotly.v1+json": {
       "config": {
        "plotlyServerURL": "https://plot.ly"
       },
       "data": [
        {
         "name": "С тегами",
         "type": "histogram",
         "x": [
          "1–3 года",
          "3–6 лет",
          "более 6 лет",
          "1–3 года",
          "более 6 лет",
          "3–6 лет",
          "3–6 лет",
          "3–6 лет",
          "более 6 лет",
          "3–6 лет",
          "более 6 лет",
          "1–3 года",
          "более 6 лет",
          "3–6 лет",
          "не требуется",
          "3–6 лет",
          "более 6 лет",
          "более 6 лет",
          "3–6 лет",
          "3–6 лет",
          "1–3 года",
          "3–6 лет",
          "3–6 лет",
          "3–6 лет",
          "3–6 лет",
          "3–6 лет",
          "1–3 года",
          "3–6 лет",
          "3–6 лет",
          "3–6 лет",
          "1–3 года",
          "3–6 лет",
          "1–3 года",
          "3–6 лет",
          "1–3 года",
          "более 6 лет",
          "1–3 года",
          "1–3 года",
          "1–3 года",
          "3–6 лет",
          "более 6 лет",
          "3–6 лет",
          "3–6 лет",
          "более 6 лет",
          "3–6 лет",
          "1–3 года",
          "3–6 лет",
          "1–3 года",
          "более 6 лет",
          "более 6 лет",
          "более 6 лет",
          "3–6 лет",
          "1–3 года",
          "более 6 лет",
          "более 6 лет",
          "более 6 лет",
          "не требуется",
          "1–3 года",
          "3–6 лет",
          "1–3 года",
          "1–3 года",
          "1–3 года",
          "3–6 лет",
          "3–6 лет",
          "3–6 лет",
          "3–6 лет",
          "3–6 лет",
          "3–6 лет",
          "3–6 лет",
          "3–6 лет",
          "1–3 года",
          "3–6 лет",
          "не требуется",
          "1–3 года",
          "3–6 лет",
          "1–3 года",
          "более 6 лет",
          "1–3 года",
          "3–6 лет",
          "более 6 лет",
          "1–3 года",
          "1–3 года",
          "1–3 года",
          "1–3 года",
          "3–6 лет",
          "3–6 лет",
          "1–3 года",
          "3–6 лет",
          "более 6 лет",
          "3–6 лет",
          "1–3 года",
          "1–3 года",
          "1–3 года",
          "3–6 лет",
          "1–3 года",
          "3–6 лет",
          "1–3 года",
          "3–6 лет",
          "3–6 лет",
          "3–6 лет",
          "3–6 лет",
          "3–6 лет",
          "3–6 лет",
          "более 6 лет",
          "более 6 лет",
          "1–3 года",
          "1–3 года",
          "1–3 года",
          "более 6 лет",
          "3–6 лет",
          "3–6 лет",
          "3–6 лет",
          "более 6 лет",
          "1–3 года",
          "1–3 года",
          "3–6 лет",
          "1–3 года",
          "более 6 лет",
          "3–6 лет",
          "3–6 лет",
          "3–6 лет",
          "3–6 лет",
          "1–3 года",
          "3–6 лет",
          "3–6 лет",
          "3–6 лет",
          "1–3 года",
          "1–3 года",
          "1–3 года",
          "3–6 лет",
          "3–6 лет",
          "1–3 года",
          "3–6 лет",
          "1–3 года",
          "3–6 лет",
          "более 6 лет",
          "3–6 лет",
          "1–3 года",
          "1–3 года",
          "1–3 года",
          "3–6 лет",
          "3–6 лет",
          "1–3 года",
          "более 6 лет",
          "1–3 года",
          "1–3 года",
          "1–3 года",
          "3–6 лет",
          "3–6 лет",
          "3–6 лет",
          "1–3 года",
          "1–3 года",
          "1–3 года",
          "1–3 года",
          "1–3 года",
          "3–6 лет",
          "3–6 лет",
          "3–6 лет",
          "1–3 года",
          "1–3 года",
          "1–3 года",
          "3–6 лет",
          "1–3 года",
          "3–6 лет",
          "более 6 лет",
          "более 6 лет",
          "3–6 лет",
          "1–3 года",
          "3–6 лет",
          "1–3 года",
          "более 6 лет",
          "3–6 лет",
          "1–3 года",
          "3–6 лет",
          "1–3 года",
          "1–3 года",
          "3–6 лет",
          "1–3 года",
          "3–6 лет",
          "3–6 лет",
          "3–6 лет",
          "3–6 лет",
          "3–6 лет",
          "3–6 лет",
          "3–6 лет",
          "3–6 лет",
          "1–3 года",
          "3–6 лет",
          "более 6 лет",
          "более 6 лет",
          "3–6 лет",
          "более 6 лет",
          "более 6 лет",
          "более 6 лет",
          "3–6 лет",
          "3–6 лет",
          "3–6 лет",
          "3–6 лет",
          "1–3 года",
          "1–3 года",
          "3–6 лет",
          "3–6 лет",
          "3–6 лет",
          "3–6 лет",
          "более 6 лет",
          "1–3 года",
          "более 6 лет",
          "3–6 лет",
          "3–6 лет",
          "3–6 лет",
          "3–6 лет",
          "3–6 лет",
          "более 6 лет",
          "3–6 лет",
          "3–6 лет",
          "более 6 лет",
          "3–6 лет",
          "более 6 лет",
          "3–6 лет",
          "1–3 года",
          "1–3 года",
          "более 6 лет",
          "более 6 лет",
          "3–6 лет",
          "3–6 лет",
          "3–6 лет",
          "3–6 лет",
          "1–3 года",
          "1–3 года",
          "3–6 лет",
          "3–6 лет",
          "более 6 лет",
          "более 6 лет",
          "1–3 года",
          "3–6 лет",
          "3–6 лет",
          "3–6 лет",
          "3–6 лет",
          "3–6 лет",
          "3–6 лет",
          "1–3 года",
          "3–6 лет",
          "3–6 лет",
          "3–6 лет",
          "3–6 лет",
          "3–6 лет",
          "1–3 года",
          "3–6 лет",
          "3–6 лет",
          "3–6 лет",
          "1–3 года",
          "1–3 года",
          "3–6 лет",
          "1–3 года",
          "1–3 года",
          "3–6 лет",
          "3–6 лет",
          "3–6 лет",
          "3–6 лет",
          "1–3 года",
          "1–3 года",
          "3–6 лет",
          "не требуется",
          "1–3 года",
          "3–6 лет",
          "3–6 лет",
          "3–6 лет",
          "1–3 года",
          "1–3 года",
          "1–3 года",
          "1–3 года",
          "1–3 года",
          "3–6 лет",
          "3–6 лет",
          "1–3 года",
          "3–6 лет",
          "3–6 лет",
          "1–3 года",
          "3–6 лет",
          "1–3 года",
          "3–6 лет",
          "1–3 года",
          "3–6 лет",
          "3–6 лет",
          "3–6 лет",
          "3–6 лет",
          "1–3 года",
          "3–6 лет",
          "3–6 лет",
          "3–6 лет",
          "1–3 года",
          "3–6 лет",
          "3–6 лет",
          "1–3 года",
          "1–3 года",
          "3–6 лет",
          "1–3 года",
          "3–6 лет",
          "1–3 года",
          "1–3 года",
          "1–3 года",
          "3–6 лет",
          "1–3 года",
          "1–3 года",
          "3–6 лет",
          "1–3 года",
          "более 6 лет",
          "3–6 лет",
          "3–6 лет",
          "3–6 лет",
          "более 6 лет",
          "1–3 года",
          "1–3 года",
          "1–3 года",
          "1–3 года",
          "3–6 лет",
          "3–6 лет",
          "1–3 года",
          "1–3 года",
          "1–3 года",
          "3–6 лет",
          "3–6 лет",
          "3–6 лет",
          "3–6 лет",
          "3–6 лет",
          "3–6 лет",
          "1–3 года",
          "3–6 лет",
          "1–3 года",
          "1–3 года",
          "1–3 года",
          "3–6 лет",
          "3–6 лет",
          "3–6 лет",
          "1–3 года",
          "3–6 лет",
          "3–6 лет",
          "не требуется",
          "3–6 лет",
          "3–6 лет",
          "3–6 лет",
          "3–6 лет",
          "1–3 года",
          "3–6 лет",
          "3–6 лет",
          "3–6 лет",
          "3–6 лет",
          "1–3 года",
          "3–6 лет",
          "3–6 лет",
          "3–6 лет",
          "3–6 лет",
          "3–6 лет",
          "1–3 года",
          "1–3 года",
          "более 6 лет",
          "3–6 лет",
          "1–3 года",
          "1–3 года",
          "не требуется",
          "1–3 года",
          "1–3 года",
          "3–6 лет",
          "1–3 года",
          "1–3 года",
          "1–3 года",
          "более 6 лет",
          "1–3 года",
          "более 6 лет",
          "1–3 года",
          "3–6 лет",
          "1–3 года",
          "3–6 лет",
          "3–6 лет",
          "1–3 года",
          "1–3 года",
          "1–3 года",
          "более 6 лет",
          "1–3 года",
          "3–6 лет",
          "1–3 года",
          "3–6 лет",
          "1–3 года",
          "3–6 лет",
          "3–6 лет",
          "1–3 года",
          "3–6 лет",
          "1–3 года",
          "1–3 года",
          "3–6 лет",
          "3–6 лет",
          "1–3 года",
          "1–3 года",
          "3–6 лет",
          "3–6 лет",
          "3–6 лет",
          "3–6 лет",
          "1–3 года",
          "3–6 лет",
          "1–3 года",
          "1–3 года",
          "3–6 лет",
          "1–3 года",
          "3–6 лет",
          "более 6 лет",
          "1–3 года",
          "1–3 года",
          "3–6 лет",
          "1–3 года",
          "3–6 лет",
          "1–3 года",
          "1–3 года",
          "3–6 лет",
          "1–3 года",
          "1–3 года",
          "3–6 лет",
          "более 6 лет",
          "3–6 лет",
          "3–6 лет",
          "более 6 лет",
          "3–6 лет",
          "более 6 лет",
          "3–6 лет",
          "более 6 лет",
          "3–6 лет",
          "3–6 лет",
          "1–3 года",
          "1–3 года",
          "более 6 лет",
          "3–6 лет",
          "1–3 года",
          "1–3 года",
          "1–3 года",
          "3–6 лет",
          "3–6 лет",
          "3–6 лет",
          "1–3 года",
          "3–6 лет",
          "более 6 лет",
          "3–6 лет",
          "3–6 лет",
          "3–6 лет",
          "более 6 лет",
          "3–6 лет",
          "1–3 года",
          "1–3 года",
          "3–6 лет",
          "более 6 лет",
          "1–3 года",
          "1–3 года",
          "более 6 лет",
          "1–3 года",
          "более 6 лет",
          "3–6 лет",
          "более 6 лет",
          "3–6 лет",
          "1–3 года",
          "3–6 лет",
          "1–3 года",
          "более 6 лет",
          "более 6 лет",
          "1–3 года",
          "3–6 лет",
          "1–3 года",
          "не требуется",
          "1–3 года",
          "3–6 лет",
          "3–6 лет",
          "3–6 лет",
          "1–3 года",
          "3–6 лет",
          "1–3 года",
          "не требуется",
          "1–3 года",
          "3–6 лет",
          "1–3 года",
          "1–3 года",
          "не требуется",
          "3–6 лет",
          "1–3 года",
          "1–3 года",
          "более 6 лет",
          "3–6 лет",
          "1–3 года",
          "3–6 лет",
          "1–3 года",
          "более 6 лет",
          "3–6 лет",
          "1–3 года",
          "3–6 лет",
          "3–6 лет",
          "1–3 года",
          "1–3 года",
          "1–3 года",
          "3–6 лет",
          "1–3 года",
          "3–6 лет",
          "3–6 лет",
          "не требуется",
          "1–3 года",
          "более 6 лет",
          "3–6 лет",
          "3–6 лет",
          "1–3 года",
          "1–3 года",
          "более 6 лет",
          "1–3 года",
          "1–3 года",
          "1–3 года",
          "3–6 лет",
          "3–6 лет",
          "более 6 лет",
          "1–3 года",
          "3–6 лет",
          "3–6 лет",
          "1–3 года",
          "не требуется",
          "1–3 года",
          "3–6 лет",
          "1–3 года",
          "3–6 лет",
          "1–3 года",
          "3–6 лет",
          "1–3 года",
          "1–3 года",
          "не требуется",
          "3–6 лет",
          "1–3 года",
          "3–6 лет",
          "более 6 лет",
          "не требуется",
          "не требуется",
          "не требуется",
          "3–6 лет",
          "1–3 года",
          "1–3 года",
          "3–6 лет",
          "3–6 лет",
          "3–6 лет",
          "не требуется",
          "1–3 года",
          "1–3 года",
          "1–3 года",
          "1–3 года",
          "1–3 года",
          "1–3 года",
          "1–3 года",
          "1–3 года",
          "1–3 года",
          "1–3 года",
          "1–3 года",
          "3–6 лет",
          "3–6 лет",
          "не требуется",
          "не требуется",
          "1–3 года",
          "1–3 года",
          "1–3 года",
          "не требуется",
          "3–6 лет",
          "3–6 лет",
          "1–3 года",
          "3–6 лет",
          "1–3 года",
          "не требуется",
          "1–3 года",
          "3–6 лет",
          "не требуется",
          "1–3 года",
          "не требуется",
          "3–6 лет",
          "1–3 года",
          "3–6 лет",
          "не требуется",
          "3–6 лет",
          "не требуется",
          "не требуется",
          "1–3 года",
          "не требуется",
          "1–3 года",
          "1–3 года",
          "3–6 лет",
          "1–3 года",
          "1–3 года",
          "3–6 лет",
          "3–6 лет",
          "1–3 года",
          "3–6 лет",
          "1–3 года",
          "более 6 лет",
          "не требуется",
          "более 6 лет",
          "3–6 лет",
          "1–3 года",
          "1–3 года",
          "1–3 года",
          "не требуется",
          "1–3 года",
          "1–3 года",
          "3–6 лет",
          "не требуется",
          "3–6 лет",
          "1–3 года",
          "1–3 года",
          "3–6 лет",
          "1–3 года",
          "1–3 года",
          "не требуется",
          "1–3 года",
          "3–6 лет",
          "1–3 года",
          "1–3 года",
          "1–3 года",
          "3–6 лет",
          "1–3 года",
          "3–6 лет",
          "3–6 лет",
          "1–3 года",
          "1–3 года",
          "3–6 лет",
          "3–6 лет",
          "3–6 лет",
          "1–3 года",
          "1–3 года",
          "1–3 года",
          "3–6 лет",
          "1–3 года",
          "3–6 лет",
          "1–3 года",
          "3–6 лет",
          "3–6 лет",
          "1–3 года",
          "3–6 лет",
          "3–6 лет",
          "3–6 лет",
          "1–3 года",
          "1–3 года",
          "3–6 лет",
          "3–6 лет",
          "1–3 года",
          "3–6 лет",
          "3–6 лет",
          "3–6 лет",
          "не требуется",
          "1–3 года",
          "3–6 лет",
          "3–6 лет",
          "не требуется",
          "3–6 лет",
          "1–3 года",
          "1–3 года",
          "3–6 лет",
          "3–6 лет",
          "1–3 года",
          "3–6 лет",
          "3–6 лет",
          "3–6 лет",
          "3–6 лет",
          "1–3 года",
          "3–6 лет",
          "3–6 лет",
          "1–3 года",
          "3–6 лет",
          "не требуется",
          "1–3 года",
          "1–3 года",
          "3–6 лет",
          "1–3 года",
          "1–3 года",
          "1–3 года",
          "1–3 года",
          "3–6 лет",
          "3–6 лет",
          "3–6 лет",
          "1–3 года",
          "3–6 лет",
          "3–6 лет",
          "1–3 года",
          "1–3 года",
          "3–6 лет",
          "3–6 лет",
          "1–3 года",
          "более 6 лет",
          "1–3 года",
          "1–3 года",
          "1–3 года",
          "3–6 лет",
          "3–6 лет",
          "1–3 года",
          "1–3 года",
          "1–3 года",
          "3–6 лет",
          "не требуется",
          "3–6 лет",
          "3–6 лет",
          "3–6 лет",
          "1–3 года",
          "3–6 лет",
          "3–6 лет",
          "1–3 года",
          "1–3 года",
          "1–3 года",
          "1–3 года",
          "3–6 лет",
          "более 6 лет",
          "1–3 года",
          "3–6 лет",
          "1–3 года",
          "1–3 года",
          "1–3 года",
          "1–3 года",
          "1–3 года",
          "1–3 года",
          "1–3 года",
          "не требуется",
          "3–6 лет",
          "1–3 года",
          "1–3 года",
          "3–6 лет",
          "1–3 года",
          "3–6 лет",
          "1–3 года",
          "1–3 года",
          "3–6 лет",
          "1–3 года",
          "более 6 лет",
          "1–3 года",
          "более 6 лет",
          "не требуется",
          "3–6 лет",
          "1–3 года",
          "3–6 лет",
          "1–3 года",
          "не требуется",
          "3–6 лет",
          "1–3 года",
          "не требуется",
          "3–6 лет",
          "1–3 года",
          "3–6 лет",
          "1–3 года",
          "1–3 года",
          "1–3 года",
          "1–3 года",
          "3–6 лет",
          "3–6 лет",
          "3–6 лет",
          "3–6 лет",
          "1–3 года",
          "1–3 года",
          "1–3 года",
          "1–3 года",
          "1–3 года",
          "1–3 года",
          "3–6 лет",
          "1–3 года",
          "1–3 года",
          "3–6 лет",
          "3–6 лет",
          "1–3 года",
          "1–3 года",
          "1–3 года",
          "3–6 лет",
          "3–6 лет",
          "1–3 года",
          "1–3 года",
          "1–3 года",
          "3–6 лет",
          "1–3 года",
          "более 6 лет",
          "1–3 года",
          "1–3 года",
          "1–3 года",
          "1–3 года",
          "1–3 года",
          "3–6 лет",
          "не требуется",
          "не требуется",
          "1–3 года",
          "1–3 года",
          "3–6 лет",
          "не требуется",
          "3–6 лет",
          "1–3 года",
          "1–3 года",
          "3–6 лет",
          "не требуется",
          "1–3 года",
          "1–3 года",
          "1–3 года",
          "3–6 лет",
          "3–6 лет",
          "не требуется",
          "не требуется",
          "не требуется",
          "3–6 лет",
          "3–6 лет",
          "не требуется",
          "1–3 года",
          "1–3 года",
          "1–3 года",
          "1–3 года",
          "не требуется",
          "более 6 лет",
          "1–3 года",
          "1–3 года",
          "1–3 года",
          "3–6 лет",
          "1–3 года",
          "1–3 года",
          "1–3 года",
          "1–3 года",
          "не требуется",
          "1–3 года",
          "3–6 лет",
          "1–3 года",
          "3–6 лет",
          "3–6 лет",
          "не требуется",
          "1–3 года",
          "3–6 лет",
          "3–6 лет",
          "3–6 лет",
          "1–3 года",
          "не требуется",
          "1–3 года",
          "3–6 лет",
          "1–3 года",
          "1–3 года",
          "1–3 года",
          "более 6 лет",
          "1–3 года",
          "3–6 лет",
          "1–3 года",
          "1–3 года",
          "3–6 лет",
          "не требуется",
          "3–6 лет",
          "1–3 года",
          "1–3 года",
          "не требуется",
          "1–3 года",
          "1–3 года",
          "3–6 лет",
          "3–6 лет",
          "1–3 года",
          "1–3 года",
          "1–3 года",
          "не требуется",
          "1–3 года",
          "1–3 года",
          "3–6 лет",
          "1–3 года",
          "не требуется",
          "1–3 года",
          "3–6 лет",
          "1–3 года",
          "3–6 лет",
          "более 6 лет",
          "3–6 лет",
          "1–3 года",
          "3–6 лет",
          "3–6 лет",
          "1–3 года",
          "1–3 года",
          "1–3 года",
          "1–3 года",
          "не требуется",
          "1–3 года",
          "1–3 года",
          "3–6 лет",
          "1–3 года",
          "более 6 лет",
          "3–6 лет",
          "1–3 года",
          "1–3 года",
          "не требуется",
          "1–3 года",
          "более 6 лет",
          "3–6 лет",
          "3–6 лет",
          "3–6 лет",
          "1–3 года",
          "1–3 года",
          "более 6 лет",
          "не требуется",
          "1–3 года",
          "1–3 года",
          "1–3 года",
          "1–3 года",
          "1–3 года",
          "3–6 лет",
          "1–3 года",
          "3–6 лет",
          "1–3 года",
          "3–6 лет",
          "3–6 лет",
          "более 6 лет",
          "1–3 года",
          "более 6 лет",
          "1–3 года",
          "1–3 года",
          "3–6 лет",
          "1–3 года",
          "1–3 года",
          "1–3 года",
          "1–3 года",
          "1–3 года",
          "1–3 года",
          "1–3 года",
          "3–6 лет",
          "1–3 года",
          "3–6 лет",
          "1–3 года",
          "3–6 лет",
          "3–6 лет",
          "1–3 года",
          "1–3 года",
          "более 6 лет",
          "1–3 года",
          "более 6 лет",
          "не требуется",
          "1–3 года",
          "3–6 лет",
          "1–3 года",
          "3–6 лет",
          "1–3 года",
          "1–3 года",
          "1–3 года",
          "1–3 года",
          "1–3 года",
          "3–6 лет",
          "1–3 года",
          "3–6 лет",
          "3–6 лет",
          "1–3 года",
          "1–3 года",
          "1–3 года",
          "3–6 лет",
          "3–6 лет",
          "1–3 года",
          "3–6 лет",
          "не требуется",
          "3–6 лет",
          "не требуется",
          "1–3 года",
          "3–6 лет",
          "1–3 года",
          "3–6 лет",
          "1–3 года",
          "3–6 лет",
          "1–3 года",
          "1–3 года",
          "1–3 года",
          "1–3 года",
          "3–6 лет",
          "1–3 года",
          "3–6 лет",
          "3–6 лет",
          "1–3 года",
          "не требуется",
          "не требуется",
          "1–3 года",
          "1–3 года",
          "1–3 года",
          "1–3 года",
          "1–3 года",
          "1–3 года",
          "1–3 года",
          "1–3 года",
          "3–6 лет",
          "3–6 лет",
          "3–6 лет",
          "1–3 года",
          "1–3 года",
          "1–3 года",
          "3–6 лет",
          "1–3 года",
          "3–6 лет",
          "1–3 года",
          "1–3 года",
          "3–6 лет",
          "не требуется",
          "не требуется",
          "не требуется",
          "3–6 лет",
          "3–6 лет",
          "1–3 года",
          "1–3 года",
          "1–3 года",
          "3–6 лет",
          "3–6 лет",
          "более 6 лет",
          "1–3 года",
          "1–3 года",
          "1–3 года",
          "3–6 лет",
          "3–6 лет",
          "3–6 лет",
          "3–6 лет",
          "1–3 года",
          "1–3 года",
          "не требуется",
          "1–3 года",
          "1–3 года",
          "3–6 лет",
          "1–3 года",
          "3–6 лет",
          "3–6 лет",
          "3–6 лет",
          "3–6 лет",
          "не требуется",
          "не требуется",
          "1–3 года",
          "3–6 лет",
          "1–3 года",
          "3–6 лет",
          "не требуется",
          "3–6 лет",
          "не требуется",
          "1–3 года",
          "3–6 лет",
          "не требуется",
          "1–3 года",
          "3–6 лет",
          "3–6 лет",
          "1–3 года",
          "1–3 года",
          "1–3 года",
          "1–3 года",
          "3–6 лет",
          "не требуется",
          "не требуется",
          "не требуется",
          "1–3 года",
          "1–3 года",
          "3–6 лет",
          "1–3 года",
          "1–3 года",
          "1–3 года",
          "1–3 года",
          "не требуется",
          "1–3 года",
          "более 6 лет",
          "не требуется",
          "1–3 года",
          "1–3 года",
          "1–3 года",
          "3–6 лет",
          "3–6 лет",
          "не требуется",
          "1–3 года",
          "1–3 года",
          "1–3 года",
          "1–3 года",
          "3–6 лет",
          "1–3 года",
          "3–6 лет",
          "1–3 года",
          "1–3 года",
          "1–3 года",
          "3–6 лет",
          "1–3 года",
          "1–3 года",
          "3–6 лет",
          "1–3 года",
          "1–3 года",
          "3–6 лет",
          "3–6 лет",
          "1–3 года",
          "1–3 года",
          "более 6 лет",
          "1–3 года",
          "1–3 года",
          "1–3 года",
          "1–3 года",
          "1–3 года",
          "1–3 года",
          "не требуется",
          "1–3 года",
          "3–6 лет",
          "3–6 лет",
          "1–3 года",
          "1–3 года",
          "не требуется",
          "1–3 года",
          "1–3 года",
          "не требуется",
          "3–6 лет",
          "1–3 года",
          "не требуется",
          "не требуется",
          "1–3 года",
          "1–3 года",
          "3–6 лет",
          "1–3 года",
          "3–6 лет",
          "1–3 года",
          "1–3 года",
          "1–3 года",
          "1–3 года",
          "3–6 лет",
          "1–3 года",
          "не требуется",
          "1–3 года",
          "1–3 года",
          "3–6 лет",
          "1–3 года",
          "1–3 года",
          "не требуется",
          "3–6 лет",
          "не требуется",
          "3–6 лет",
          "не требуется",
          "1–3 года",
          "1–3 года",
          "не требуется",
          "3–6 лет",
          "1–3 года",
          "1–3 года",
          "не требуется",
          "3–6 лет",
          "1–3 года",
          "не требуется",
          "3–6 лет",
          "3–6 лет",
          "1–3 года",
          "3–6 лет",
          "1–3 года",
          "3–6 лет",
          "1–3 года",
          "1–3 года",
          "3–6 лет",
          "более 6 лет",
          "1–3 года",
          "1–3 года",
          "1–3 года",
          "1–3 года",
          "1–3 года",
          "1–3 года",
          "1–3 года",
          "1–3 года",
          "1–3 года",
          "1–3 года",
          "не требуется",
          "1–3 года",
          "1–3 года",
          "более 6 лет",
          "1–3 года",
          "3–6 лет",
          "1–3 года",
          "3–6 лет",
          "не требуется",
          "более 6 лет",
          "3–6 лет",
          "1–3 года",
          "1–3 года",
          "3–6 лет",
          "1–3 года",
          "1–3 года",
          "1–3 года",
          "1–3 года",
          "1–3 года",
          "1–3 года",
          "не требуется",
          "3–6 лет",
          "1–3 года",
          "1–3 года",
          "3–6 лет",
          "более 6 лет",
          "3–6 лет",
          "1–3 года",
          "3–6 лет",
          "не требуется",
          "1–3 года",
          "1–3 года",
          "3–6 лет",
          "1–3 года",
          "1–3 года",
          "1–3 года",
          "3–6 лет",
          "3–6 лет",
          "1–3 года",
          "3–6 лет",
          "1–3 года",
          "не требуется",
          "не требуется",
          "3–6 лет",
          "1–3 года",
          "1–3 года",
          "3–6 лет",
          "1–3 года",
          "3–6 лет",
          "1–3 года",
          "1–3 года",
          "3–6 лет",
          "1–3 года",
          "3–6 лет",
          "1–3 года",
          "3–6 лет",
          "1–3 года",
          "1–3 года",
          "3–6 лет",
          "1–3 года",
          "1–3 года",
          "1–3 года",
          "1–3 года",
          "более 6 лет",
          "1–3 года",
          "более 6 лет",
          "не требуется",
          "1–3 года",
          "не требуется",
          "3–6 лет",
          "не требуется",
          "1–3 года",
          "1–3 года",
          "1–3 года",
          "более 6 лет",
          "1–3 года",
          "1–3 года",
          "1–3 года",
          "1–3 года",
          "1–3 года",
          "3–6 лет",
          "1–3 года",
          "3–6 лет",
          "не требуется",
          "3–6 лет",
          "1–3 года",
          "не требуется",
          "3–6 лет",
          "более 6 лет",
          "1–3 года",
          "1–3 года",
          "3–6 лет",
          "3–6 лет",
          "3–6 лет",
          "1–3 года",
          "1–3 года",
          "3–6 лет",
          "3–6 лет",
          "3–6 лет",
          "не требуется",
          "не требуется",
          "3–6 лет",
          "1–3 года",
          "1–3 года",
          "3–6 лет",
          "1–3 года",
          "3–6 лет",
          "не требуется",
          "1–3 года",
          "1–3 года",
          "3–6 лет",
          "1–3 года",
          "3–6 лет",
          "3–6 лет",
          "3–6 лет",
          "3–6 лет",
          "3–6 лет",
          "3–6 лет",
          "1–3 года",
          "не требуется",
          "3–6 лет",
          "не требуется",
          "1–3 года",
          "1–3 года",
          "более 6 лет",
          "1–3 года",
          "1–3 года",
          "3–6 лет",
          "1–3 года",
          "1–3 года",
          "1–3 года",
          "1–3 года",
          "1–3 года",
          "1–3 года",
          "не требуется",
          "не требуется",
          "1–3 года",
          "не требуется",
          "1–3 года",
          "1–3 года",
          "3–6 лет",
          "1–3 года",
          "не требуется",
          "3–6 лет",
          "не требуется",
          "1–3 года",
          "1–3 года",
          "1–3 года",
          "1–3 года",
          "3–6 лет",
          "1–3 года",
          "не требуется",
          "3–6 лет",
          "не требуется",
          "3–6 лет",
          "не требуется",
          "1–3 года",
          "1–3 года",
          "3–6 лет",
          "3–6 лет",
          "3–6 лет",
          "1–3 года",
          "1–3 года",
          "1–3 года",
          "1–3 года",
          "1–3 года",
          "1–3 года",
          "1–3 года",
          "1–3 года",
          "не требуется",
          "3–6 лет",
          "1–3 года",
          "1–3 года",
          "1–3 года",
          "1–3 года",
          "1–3 года",
          "1–3 года",
          "1–3 года",
          "1–3 года",
          "1–3 года",
          "1–3 года",
          "1–3 года",
          "1–3 года",
          "1–3 года",
          "1–3 года",
          "1–3 года",
          "1–3 года",
          "3–6 лет",
          "не требуется",
          "3–6 лет",
          "1–3 года",
          "1–3 года",
          "3–6 лет",
          "1–3 года",
          "1–3 года",
          "3–6 лет",
          "не требуется",
          "не требуется",
          "не требуется",
          "не требуется",
          "не требуется",
          "3–6 лет",
          "не требуется",
          "не требуется",
          "3–6 лет",
          "3–6 лет",
          "3–6 лет",
          "1–3 года",
          "1–3 года",
          "1–3 года",
          "1–3 года",
          "1–3 года",
          "3–6 лет",
          "1–3 года",
          "более 6 лет",
          "1–3 года",
          "1–3 года",
          "1–3 года",
          "3–6 лет",
          "1–3 года",
          "3–6 лет",
          "3–6 лет",
          "3–6 лет",
          "3–6 лет",
          "1–3 года",
          "1–3 года",
          "1–3 года",
          "1–3 года",
          "3–6 лет",
          "1–3 года",
          "1–3 года",
          "1–3 года",
          "более 6 лет",
          "1–3 года",
          "1–3 года",
          "1–3 года",
          "1–3 года",
          "1–3 года",
          "не требуется",
          "1–3 года",
          "1–3 года",
          "3–6 лет",
          "1–3 года",
          "не требуется",
          "1–3 года",
          "3–6 лет",
          "3–6 лет",
          "более 6 лет",
          "3–6 лет",
          "1–3 года",
          "3–6 лет",
          "более 6 лет",
          "3–6 лет",
          "1–3 года",
          "3–6 лет",
          "1–3 года",
          "1–3 года",
          "3–6 лет",
          "1–3 года",
          "более 6 лет",
          "3–6 лет",
          "1–3 года",
          "1–3 года",
          "3–6 лет",
          "3–6 лет",
          "3–6 лет",
          "1–3 года",
          "1–3 года",
          "1–3 года",
          "1–3 года",
          "более 6 лет",
          "1–3 года",
          "3–6 лет",
          "более 6 лет",
          "3–6 лет",
          "3–6 лет",
          "3–6 лет",
          "более 6 лет",
          "1–3 года",
          "1–3 года",
          "1–3 года",
          "1–3 года",
          "3–6 лет",
          "более 6 лет",
          "1–3 года",
          "3–6 лет",
          "1–3 года",
          "1–3 года",
          "1–3 года",
          "3–6 лет",
          "1–3 года",
          "1–3 года",
          "1–3 года",
          "3–6 лет",
          "1–3 года",
          "1–3 года",
          "3–6 лет",
          "1–3 года",
          "3–6 лет",
          "3–6 лет",
          "3–6 лет",
          "3–6 лет",
          "1–3 года",
          "1–3 года",
          "1–3 года",
          "1–3 года",
          "3–6 лет",
          "1–3 года",
          "3–6 лет",
          "3–6 лет",
          "3–6 лет",
          "более 6 лет",
          "1–3 года",
          "1–3 года",
          "1–3 года",
          "1–3 года",
          "не требуется",
          "1–3 года",
          "3–6 лет",
          "3–6 лет",
          "1–3 года",
          "3–6 лет",
          "не требуется",
          "1–3 года",
          "более 6 лет",
          "1–3 года",
          "более 6 лет",
          "1–3 года",
          "1–3 года",
          "3–6 лет",
          "более 6 лет",
          "3–6 лет",
          "более 6 лет",
          "1–3 года",
          "1–3 года",
          "1–3 года",
          "не требуется",
          "3–6 лет",
          "1–3 года",
          "1–3 года",
          "3–6 лет",
          "не требуется",
          "3–6 лет",
          "3–6 лет",
          "1–3 года",
          "3–6 лет",
          "3–6 лет",
          "3–6 лет",
          "1–3 года",
          "более 6 лет",
          "3–6 лет",
          "1–3 года",
          "1–3 года",
          "3–6 лет",
          "1–3 года",
          "3–6 лет",
          "1–3 года",
          "1–3 года",
          "более 6 лет",
          "более 6 лет",
          "3–6 лет",
          "3–6 лет",
          "1–3 года",
          "более 6 лет",
          "1–3 года",
          "1–3 года",
          "3–6 лет",
          "1–3 года",
          "1–3 года",
          "1–3 года",
          "1–3 года",
          "3–6 лет",
          "не требуется",
          "3–6 лет",
          "1–3 года",
          "1–3 года",
          "3–6 лет",
          "3–6 лет",
          "не требуется",
          "3–6 лет",
          "1–3 года",
          "1–3 года",
          "3–6 лет",
          "не требуется",
          "1–3 года",
          "3–6 лет",
          "1–3 года",
          "3–6 лет",
          "3–6 лет",
          "более 6 лет",
          "1–3 года",
          "1–3 года",
          "не требуется",
          "1–3 года",
          "не требуется",
          "1–3 года",
          "1–3 года",
          "не требуется",
          "не требуется",
          "3–6 лет",
          "1–3 года",
          "1–3 года",
          "1–3 года",
          "1–3 года",
          "1–3 года",
          "1–3 года",
          "не требуется",
          "3–6 лет",
          "1–3 года",
          "3–6 лет",
          "3–6 лет",
          "более 6 лет",
          "не требуется",
          "3–6 лет",
          "3–6 лет",
          "3–6 лет",
          "3–6 лет",
          "3–6 лет",
          "не требуется",
          "1–3 года",
          "3–6 лет",
          "1–3 года",
          "1–3 года",
          "3–6 лет",
          "3–6 лет",
          "1–3 года",
          "1–3 года",
          "1–3 года",
          "1–3 года",
          "1–3 года",
          "1–3 года",
          "1–3 года",
          "1–3 года",
          "3–6 лет",
          "1–3 года",
          "3–6 лет",
          "3–6 лет",
          "3–6 лет",
          "1–3 года",
          "1–3 года",
          "1–3 года",
          "не требуется",
          "1–3 года",
          "1–3 года",
          "1–3 года",
          "не требуется",
          "1–3 года",
          "3–6 лет",
          "3–6 лет",
          "3–6 лет",
          "3–6 лет",
          "1–3 года",
          "1–3 года",
          "3–6 лет",
          "1–3 года",
          "1–3 года",
          "3–6 лет",
          "1–3 года",
          "1–3 года",
          "1–3 года",
          "3–6 лет",
          "1–3 года",
          "1–3 года",
          "3–6 лет",
          "1–3 года",
          "3–6 лет",
          "3–6 лет",
          "1–3 года",
          "1–3 года",
          "1–3 года",
          "1–3 года",
          "не требуется",
          "1–3 года",
          "1–3 года",
          "не требуется",
          "1–3 года",
          "1–3 года",
          "1–3 года",
          "3–6 лет",
          "1–3 года",
          "1–3 года",
          "не требуется",
          "1–3 года",
          "не требуется",
          "не требуется",
          "1–3 года",
          "3–6 лет",
          "не требуется",
          "1–3 года",
          "не требуется",
          "1–3 года",
          "не требуется",
          "1–3 года",
          "1–3 года",
          "не требуется",
          "не требуется",
          "3–6 лет",
          "3–6 лет",
          "3–6 лет",
          "3–6 лет",
          "3–6 лет",
          "3–6 лет",
          "3–6 лет",
          "1–3 года",
          "1–3 года",
          "1–3 года",
          "1–3 года",
          "3–6 лет",
          "1–3 года",
          "1–3 года",
          "1–3 года",
          "3–6 лет",
          "не требуется",
          "1–3 года",
          "1–3 года",
          "более 6 лет",
          "1–3 года",
          "более 6 лет",
          "1–3 года",
          "3–6 лет",
          "3–6 лет",
          "более 6 лет",
          "более 6 лет",
          "более 6 лет",
          "3–6 лет",
          "3–6 лет",
          "3–6 лет",
          "3–6 лет",
          "более 6 лет",
          "более 6 лет",
          "1–3 года",
          "3–6 лет",
          "3–6 лет",
          "1–3 года",
          "3–6 лет",
          "3–6 лет",
          "более 6 лет",
          "1–3 года",
          "более 6 лет",
          "3–6 лет",
          "3–6 лет",
          "более 6 лет",
          "3–6 лет",
          "3–6 лет",
          "3–6 лет",
          "1–3 года",
          "более 6 лет",
          "3–6 лет",
          "1–3 года",
          "3–6 лет",
          "3–6 лет",
          "3–6 лет",
          "3–6 лет",
          "3–6 лет",
          "3–6 лет",
          "3–6 лет",
          "1–3 года",
          "3–6 лет",
          "3–6 лет",
          "1–3 года",
          "3–6 лет",
          "3–6 лет",
          "1–3 года",
          "3–6 лет",
          "3–6 лет"
         ]
        },
        {
         "name": "Без тегов",
         "type": "bar",
         "x": [
          "1–3 года",
          "3–6 лет",
          "более 6 лет",
          "не требуется"
         ],
         "y": [
          63,
          55,
          22,
          14
         ]
        }
       ],
       "layout": {
        "template": {
         "data": {
          "bar": [
           {
            "error_x": {
             "color": "#2a3f5f"
            },
            "error_y": {
             "color": "#2a3f5f"
            },
            "marker": {
             "line": {
              "color": "#E5ECF6",
              "width": 0.5
             },
             "pattern": {
              "fillmode": "overlay",
              "size": 10,
              "solidity": 0.2
             }
            },
            "type": "bar"
           }
          ],
          "barpolar": [
           {
            "marker": {
             "line": {
              "color": "#E5ECF6",
              "width": 0.5
             },
             "pattern": {
              "fillmode": "overlay",
              "size": 10,
              "solidity": 0.2
             }
            },
            "type": "barpolar"
           }
          ],
          "carpet": [
           {
            "aaxis": {
             "endlinecolor": "#2a3f5f",
             "gridcolor": "white",
             "linecolor": "white",
             "minorgridcolor": "white",
             "startlinecolor": "#2a3f5f"
            },
            "baxis": {
             "endlinecolor": "#2a3f5f",
             "gridcolor": "white",
             "linecolor": "white",
             "minorgridcolor": "white",
             "startlinecolor": "#2a3f5f"
            },
            "type": "carpet"
           }
          ],
          "choropleth": [
           {
            "colorbar": {
             "outlinewidth": 0,
             "ticks": ""
            },
            "type": "choropleth"
           }
          ],
          "contour": [
           {
            "colorbar": {
             "outlinewidth": 0,
             "ticks": ""
            },
            "colorscale": [
             [
              0,
              "#0d0887"
             ],
             [
              0.1111111111111111,
              "#46039f"
             ],
             [
              0.2222222222222222,
              "#7201a8"
             ],
             [
              0.3333333333333333,
              "#9c179e"
             ],
             [
              0.4444444444444444,
              "#bd3786"
             ],
             [
              0.5555555555555556,
              "#d8576b"
             ],
             [
              0.6666666666666666,
              "#ed7953"
             ],
             [
              0.7777777777777778,
              "#fb9f3a"
             ],
             [
              0.8888888888888888,
              "#fdca26"
             ],
             [
              1,
              "#f0f921"
             ]
            ],
            "type": "contour"
           }
          ],
          "contourcarpet": [
           {
            "colorbar": {
             "outlinewidth": 0,
             "ticks": ""
            },
            "type": "contourcarpet"
           }
          ],
          "heatmap": [
           {
            "colorbar": {
             "outlinewidth": 0,
             "ticks": ""
            },
            "colorscale": [
             [
              0,
              "#0d0887"
             ],
             [
              0.1111111111111111,
              "#46039f"
             ],
             [
              0.2222222222222222,
              "#7201a8"
             ],
             [
              0.3333333333333333,
              "#9c179e"
             ],
             [
              0.4444444444444444,
              "#bd3786"
             ],
             [
              0.5555555555555556,
              "#d8576b"
             ],
             [
              0.6666666666666666,
              "#ed7953"
             ],
             [
              0.7777777777777778,
              "#fb9f3a"
             ],
             [
              0.8888888888888888,
              "#fdca26"
             ],
             [
              1,
              "#f0f921"
             ]
            ],
            "type": "heatmap"
           }
          ],
          "heatmapgl": [
           {
            "colorbar": {
             "outlinewidth": 0,
             "ticks": ""
            },
            "colorscale": [
             [
              0,
              "#0d0887"
             ],
             [
              0.1111111111111111,
              "#46039f"
             ],
             [
              0.2222222222222222,
              "#7201a8"
             ],
             [
              0.3333333333333333,
              "#9c179e"
             ],
             [
              0.4444444444444444,
              "#bd3786"
             ],
             [
              0.5555555555555556,
              "#d8576b"
             ],
             [
              0.6666666666666666,
              "#ed7953"
             ],
             [
              0.7777777777777778,
              "#fb9f3a"
             ],
             [
              0.8888888888888888,
              "#fdca26"
             ],
             [
              1,
              "#f0f921"
             ]
            ],
            "type": "heatmapgl"
           }
          ],
          "histogram": [
           {
            "marker": {
             "pattern": {
              "fillmode": "overlay",
              "size": 10,
              "solidity": 0.2
             }
            },
            "type": "histogram"
           }
          ],
          "histogram2d": [
           {
            "colorbar": {
             "outlinewidth": 0,
             "ticks": ""
            },
            "colorscale": [
             [
              0,
              "#0d0887"
             ],
             [
              0.1111111111111111,
              "#46039f"
             ],
             [
              0.2222222222222222,
              "#7201a8"
             ],
             [
              0.3333333333333333,
              "#9c179e"
             ],
             [
              0.4444444444444444,
              "#bd3786"
             ],
             [
              0.5555555555555556,
              "#d8576b"
             ],
             [
              0.6666666666666666,
              "#ed7953"
             ],
             [
              0.7777777777777778,
              "#fb9f3a"
             ],
             [
              0.8888888888888888,
              "#fdca26"
             ],
             [
              1,
              "#f0f921"
             ]
            ],
            "type": "histogram2d"
           }
          ],
          "histogram2dcontour": [
           {
            "colorbar": {
             "outlinewidth": 0,
             "ticks": ""
            },
            "colorscale": [
             [
              0,
              "#0d0887"
             ],
             [
              0.1111111111111111,
              "#46039f"
             ],
             [
              0.2222222222222222,
              "#7201a8"
             ],
             [
              0.3333333333333333,
              "#9c179e"
             ],
             [
              0.4444444444444444,
              "#bd3786"
             ],
             [
              0.5555555555555556,
              "#d8576b"
             ],
             [
              0.6666666666666666,
              "#ed7953"
             ],
             [
              0.7777777777777778,
              "#fb9f3a"
             ],
             [
              0.8888888888888888,
              "#fdca26"
             ],
             [
              1,
              "#f0f921"
             ]
            ],
            "type": "histogram2dcontour"
           }
          ],
          "mesh3d": [
           {
            "colorbar": {
             "outlinewidth": 0,
             "ticks": ""
            },
            "type": "mesh3d"
           }
          ],
          "parcoords": [
           {
            "line": {
             "colorbar": {
              "outlinewidth": 0,
              "ticks": ""
             }
            },
            "type": "parcoords"
           }
          ],
          "pie": [
           {
            "automargin": true,
            "type": "pie"
           }
          ],
          "scatter": [
           {
            "fillpattern": {
             "fillmode": "overlay",
             "size": 10,
             "solidity": 0.2
            },
            "type": "scatter"
           }
          ],
          "scatter3d": [
           {
            "line": {
             "colorbar": {
              "outlinewidth": 0,
              "ticks": ""
             }
            },
            "marker": {
             "colorbar": {
              "outlinewidth": 0,
              "ticks": ""
             }
            },
            "type": "scatter3d"
           }
          ],
          "scattercarpet": [
           {
            "marker": {
             "colorbar": {
              "outlinewidth": 0,
              "ticks": ""
             }
            },
            "type": "scattercarpet"
           }
          ],
          "scattergeo": [
           {
            "marker": {
             "colorbar": {
              "outlinewidth": 0,
              "ticks": ""
             }
            },
            "type": "scattergeo"
           }
          ],
          "scattergl": [
           {
            "marker": {
             "colorbar": {
              "outlinewidth": 0,
              "ticks": ""
             }
            },
            "type": "scattergl"
           }
          ],
          "scattermapbox": [
           {
            "marker": {
             "colorbar": {
              "outlinewidth": 0,
              "ticks": ""
             }
            },
            "type": "scattermapbox"
           }
          ],
          "scatterpolar": [
           {
            "marker": {
             "colorbar": {
              "outlinewidth": 0,
              "ticks": ""
             }
            },
            "type": "scatterpolar"
           }
          ],
          "scatterpolargl": [
           {
            "marker": {
             "colorbar": {
              "outlinewidth": 0,
              "ticks": ""
             }
            },
            "type": "scatterpolargl"
           }
          ],
          "scatterternary": [
           {
            "marker": {
             "colorbar": {
              "outlinewidth": 0,
              "ticks": ""
             }
            },
            "type": "scatterternary"
           }
          ],
          "surface": [
           {
            "colorbar": {
             "outlinewidth": 0,
             "ticks": ""
            },
            "colorscale": [
             [
              0,
              "#0d0887"
             ],
             [
              0.1111111111111111,
              "#46039f"
             ],
             [
              0.2222222222222222,
              "#7201a8"
             ],
             [
              0.3333333333333333,
              "#9c179e"
             ],
             [
              0.4444444444444444,
              "#bd3786"
             ],
             [
              0.5555555555555556,
              "#d8576b"
             ],
             [
              0.6666666666666666,
              "#ed7953"
             ],
             [
              0.7777777777777778,
              "#fb9f3a"
             ],
             [
              0.8888888888888888,
              "#fdca26"
             ],
             [
              1,
              "#f0f921"
             ]
            ],
            "type": "surface"
           }
          ],
          "table": [
           {
            "cells": {
             "fill": {
              "color": "#EBF0F8"
             },
             "line": {
              "color": "white"
             }
            },
            "header": {
             "fill": {
              "color": "#C8D4E3"
             },
             "line": {
              "color": "white"
             }
            },
            "type": "table"
           }
          ]
         },
         "layout": {
          "annotationdefaults": {
           "arrowcolor": "#2a3f5f",
           "arrowhead": 0,
           "arrowwidth": 1
          },
          "autotypenumbers": "strict",
          "coloraxis": {
           "colorbar": {
            "outlinewidth": 0,
            "ticks": ""
           }
          },
          "colorscale": {
           "diverging": [
            [
             0,
             "#8e0152"
            ],
            [
             0.1,
             "#c51b7d"
            ],
            [
             0.2,
             "#de77ae"
            ],
            [
             0.3,
             "#f1b6da"
            ],
            [
             0.4,
             "#fde0ef"
            ],
            [
             0.5,
             "#f7f7f7"
            ],
            [
             0.6,
             "#e6f5d0"
            ],
            [
             0.7,
             "#b8e186"
            ],
            [
             0.8,
             "#7fbc41"
            ],
            [
             0.9,
             "#4d9221"
            ],
            [
             1,
             "#276419"
            ]
           ],
           "sequential": [
            [
             0,
             "#0d0887"
            ],
            [
             0.1111111111111111,
             "#46039f"
            ],
            [
             0.2222222222222222,
             "#7201a8"
            ],
            [
             0.3333333333333333,
             "#9c179e"
            ],
            [
             0.4444444444444444,
             "#bd3786"
            ],
            [
             0.5555555555555556,
             "#d8576b"
            ],
            [
             0.6666666666666666,
             "#ed7953"
            ],
            [
             0.7777777777777778,
             "#fb9f3a"
            ],
            [
             0.8888888888888888,
             "#fdca26"
            ],
            [
             1,
             "#f0f921"
            ]
           ],
           "sequentialminus": [
            [
             0,
             "#0d0887"
            ],
            [
             0.1111111111111111,
             "#46039f"
            ],
            [
             0.2222222222222222,
             "#7201a8"
            ],
            [
             0.3333333333333333,
             "#9c179e"
            ],
            [
             0.4444444444444444,
             "#bd3786"
            ],
            [
             0.5555555555555556,
             "#d8576b"
            ],
            [
             0.6666666666666666,
             "#ed7953"
            ],
            [
             0.7777777777777778,
             "#fb9f3a"
            ],
            [
             0.8888888888888888,
             "#fdca26"
            ],
            [
             1,
             "#f0f921"
            ]
           ]
          },
          "colorway": [
           "#636efa",
           "#EF553B",
           "#00cc96",
           "#ab63fa",
           "#FFA15A",
           "#19d3f3",
           "#FF6692",
           "#B6E880",
           "#FF97FF",
           "#FECB52"
          ],
          "font": {
           "color": "#2a3f5f"
          },
          "geo": {
           "bgcolor": "white",
           "lakecolor": "white",
           "landcolor": "#E5ECF6",
           "showlakes": true,
           "showland": true,
           "subunitcolor": "white"
          },
          "hoverlabel": {
           "align": "left"
          },
          "hovermode": "closest",
          "mapbox": {
           "style": "light"
          },
          "paper_bgcolor": "white",
          "plot_bgcolor": "#E5ECF6",
          "polar": {
           "angularaxis": {
            "gridcolor": "white",
            "linecolor": "white",
            "ticks": ""
           },
           "bgcolor": "#E5ECF6",
           "radialaxis": {
            "gridcolor": "white",
            "linecolor": "white",
            "ticks": ""
           }
          },
          "scene": {
           "xaxis": {
            "backgroundcolor": "#E5ECF6",
            "gridcolor": "white",
            "gridwidth": 2,
            "linecolor": "white",
            "showbackground": true,
            "ticks": "",
            "zerolinecolor": "white"
           },
           "yaxis": {
            "backgroundcolor": "#E5ECF6",
            "gridcolor": "white",
            "gridwidth": 2,
            "linecolor": "white",
            "showbackground": true,
            "ticks": "",
            "zerolinecolor": "white"
           },
           "zaxis": {
            "backgroundcolor": "#E5ECF6",
            "gridcolor": "white",
            "gridwidth": 2,
            "linecolor": "white",
            "showbackground": true,
            "ticks": "",
            "zerolinecolor": "white"
           }
          },
          "shapedefaults": {
           "line": {
            "color": "#2a3f5f"
           }
          },
          "ternary": {
           "aaxis": {
            "gridcolor": "white",
            "linecolor": "white",
            "ticks": ""
           },
           "baxis": {
            "gridcolor": "white",
            "linecolor": "white",
            "ticks": ""
           },
           "bgcolor": "#E5ECF6",
           "caxis": {
            "gridcolor": "white",
            "linecolor": "white",
            "ticks": ""
           }
          },
          "title": {
           "x": 0.05
          },
          "xaxis": {
           "automargin": true,
           "gridcolor": "white",
           "linecolor": "white",
           "ticks": "",
           "title": {
            "standoff": 15
           },
           "zerolinecolor": "white",
           "zerolinewidth": 2
          },
          "yaxis": {
           "automargin": true,
           "gridcolor": "white",
           "linecolor": "white",
           "ticks": "",
           "title": {
            "standoff": 15
           },
           "zerolinecolor": "white",
           "zerolinewidth": 2
          }
         }
        }
       }
      }
     },
     "metadata": {},
     "output_type": "display_data"
    }
   ],
   "source": [
    "df = data[data[\"tags_list\"].apply(lambda x: '' in x)]\n",
    "print(df[\"experience\"].value_counts().keys(), df[\"experience\"].value_counts())\n",
    "fig = go.Figure()\n",
    "fig.add_trace(go.Histogram(name=\"С тегами\", x=data[\"experience\"]))\n",
    "fig.add_trace(go.Bar(name=\"Без тегов\",x=df[\"experience\"].value_counts().keys(), y=df[\"experience\"].value_counts()))\n",
    "fig.show()"
   ]
  },
  {
   "cell_type": "markdown",
   "metadata": {},
   "source": [
    "### Resume_data."
   ]
  },
  {
   "cell_type": "code",
   "execution_count": 160,
   "metadata": {},
   "outputs": [
    {
     "data": {
      "text/html": [
       "<div>\n",
       "<style scoped>\n",
       "    .dataframe tbody tr th:only-of-type {\n",
       "        vertical-align: middle;\n",
       "    }\n",
       "\n",
       "    .dataframe tbody tr th {\n",
       "        vertical-align: top;\n",
       "    }\n",
       "\n",
       "    .dataframe thead th {\n",
       "        text-align: right;\n",
       "    }\n",
       "</style>\n",
       "<table border=\"1\" class=\"dataframe\">\n",
       "  <thead>\n",
       "    <tr style=\"text-align: right;\">\n",
       "      <th></th>\n",
       "      <th>currency</th>\n",
       "      <th>count</th>\n",
       "    </tr>\n",
       "  </thead>\n",
       "  <tbody>\n",
       "    <tr>\n",
       "      <th>0</th>\n",
       "      <td>EUR</td>\n",
       "      <td>5</td>\n",
       "    </tr>\n",
       "    <tr>\n",
       "      <th>1</th>\n",
       "      <td>USD</td>\n",
       "      <td>28</td>\n",
       "    </tr>\n",
       "    <tr>\n",
       "      <th>2</th>\n",
       "      <td>не указана</td>\n",
       "      <td>1</td>\n",
       "    </tr>\n",
       "    <tr>\n",
       "      <th>3</th>\n",
       "      <td>руб</td>\n",
       "      <td>1673</td>\n",
       "    </tr>\n",
       "    <tr>\n",
       "      <th>4</th>\n",
       "      <td>сум</td>\n",
       "      <td>2</td>\n",
       "    </tr>\n",
       "  </tbody>\n",
       "</table>\n",
       "</div>"
      ],
      "text/plain": [
       "     currency  count\n",
       "0         EUR      5\n",
       "1         USD     28\n",
       "2  не указана      1\n",
       "3         руб   1673\n",
       "4         сум      2"
      ]
     },
     "execution_count": 160,
     "metadata": {},
     "output_type": "execute_result"
    }
   ],
   "source": [
    "df = data.groupby(\"currency\").agg({\"currency\": \"count\"})\n",
    "df.columns = [\"count\"]\n",
    "df.reset_index()"
   ]
  },
  {
   "cell_type": "code",
   "execution_count": 161,
   "metadata": {},
   "outputs": [
    {
     "name": "stdout",
     "output_type": "stream",
     "text": [
      "Число уникальных заголовков в resume_data: 1285\n"
     ]
    },
    {
     "data": {
      "application/vnd.plotly.v1+json": {
       "config": {
        "plotlyServerURL": "https://plot.ly"
       },
       "data": [
        {
         "type": "bar",
         "x": [
          "Директор по маркетингу",
          "Руководитель отдела маркетинга",
          "Руководитель отдела маркетинга и рекламы",
          "Директор по маркетингу и рекламе",
          "Директор по маркетингу, рекламе и PR",
          "Директор по маркетингу и развитию",
          "Директор по продажам и маркетингу",
          "Руководитель отдела рекламы и маркетинга",
          "Маркетолог",
          "Директор по маркетингу и продажам",
          "Коммерческий директор",
          "Директор по маркетингу и PR",
          "Директор по развитию бизнеса",
          "Директор по развитию и маркетингу",
          "Руководитель отдела маркетинга и PR",
          "Директор по развитию",
          "Интернет-маркетолог",
          "Директор по продажам",
          "Marketing director",
          "Руководитель отдела маркетинга и развития"
         ],
         "y": [
          487,
          429,
          198,
          122,
          60,
          54,
          48,
          39,
          37,
          37,
          35,
          34,
          23,
          20,
          18,
          16,
          16,
          15,
          14,
          14
         ]
        }
       ],
       "layout": {
        "template": {
         "data": {
          "bar": [
           {
            "error_x": {
             "color": "#2a3f5f"
            },
            "error_y": {
             "color": "#2a3f5f"
            },
            "marker": {
             "line": {
              "color": "#E5ECF6",
              "width": 0.5
             },
             "pattern": {
              "fillmode": "overlay",
              "size": 10,
              "solidity": 0.2
             }
            },
            "type": "bar"
           }
          ],
          "barpolar": [
           {
            "marker": {
             "line": {
              "color": "#E5ECF6",
              "width": 0.5
             },
             "pattern": {
              "fillmode": "overlay",
              "size": 10,
              "solidity": 0.2
             }
            },
            "type": "barpolar"
           }
          ],
          "carpet": [
           {
            "aaxis": {
             "endlinecolor": "#2a3f5f",
             "gridcolor": "white",
             "linecolor": "white",
             "minorgridcolor": "white",
             "startlinecolor": "#2a3f5f"
            },
            "baxis": {
             "endlinecolor": "#2a3f5f",
             "gridcolor": "white",
             "linecolor": "white",
             "minorgridcolor": "white",
             "startlinecolor": "#2a3f5f"
            },
            "type": "carpet"
           }
          ],
          "choropleth": [
           {
            "colorbar": {
             "outlinewidth": 0,
             "ticks": ""
            },
            "type": "choropleth"
           }
          ],
          "contour": [
           {
            "colorbar": {
             "outlinewidth": 0,
             "ticks": ""
            },
            "colorscale": [
             [
              0,
              "#0d0887"
             ],
             [
              0.1111111111111111,
              "#46039f"
             ],
             [
              0.2222222222222222,
              "#7201a8"
             ],
             [
              0.3333333333333333,
              "#9c179e"
             ],
             [
              0.4444444444444444,
              "#bd3786"
             ],
             [
              0.5555555555555556,
              "#d8576b"
             ],
             [
              0.6666666666666666,
              "#ed7953"
             ],
             [
              0.7777777777777778,
              "#fb9f3a"
             ],
             [
              0.8888888888888888,
              "#fdca26"
             ],
             [
              1,
              "#f0f921"
             ]
            ],
            "type": "contour"
           }
          ],
          "contourcarpet": [
           {
            "colorbar": {
             "outlinewidth": 0,
             "ticks": ""
            },
            "type": "contourcarpet"
           }
          ],
          "heatmap": [
           {
            "colorbar": {
             "outlinewidth": 0,
             "ticks": ""
            },
            "colorscale": [
             [
              0,
              "#0d0887"
             ],
             [
              0.1111111111111111,
              "#46039f"
             ],
             [
              0.2222222222222222,
              "#7201a8"
             ],
             [
              0.3333333333333333,
              "#9c179e"
             ],
             [
              0.4444444444444444,
              "#bd3786"
             ],
             [
              0.5555555555555556,
              "#d8576b"
             ],
             [
              0.6666666666666666,
              "#ed7953"
             ],
             [
              0.7777777777777778,
              "#fb9f3a"
             ],
             [
              0.8888888888888888,
              "#fdca26"
             ],
             [
              1,
              "#f0f921"
             ]
            ],
            "type": "heatmap"
           }
          ],
          "heatmapgl": [
           {
            "colorbar": {
             "outlinewidth": 0,
             "ticks": ""
            },
            "colorscale": [
             [
              0,
              "#0d0887"
             ],
             [
              0.1111111111111111,
              "#46039f"
             ],
             [
              0.2222222222222222,
              "#7201a8"
             ],
             [
              0.3333333333333333,
              "#9c179e"
             ],
             [
              0.4444444444444444,
              "#bd3786"
             ],
             [
              0.5555555555555556,
              "#d8576b"
             ],
             [
              0.6666666666666666,
              "#ed7953"
             ],
             [
              0.7777777777777778,
              "#fb9f3a"
             ],
             [
              0.8888888888888888,
              "#fdca26"
             ],
             [
              1,
              "#f0f921"
             ]
            ],
            "type": "heatmapgl"
           }
          ],
          "histogram": [
           {
            "marker": {
             "pattern": {
              "fillmode": "overlay",
              "size": 10,
              "solidity": 0.2
             }
            },
            "type": "histogram"
           }
          ],
          "histogram2d": [
           {
            "colorbar": {
             "outlinewidth": 0,
             "ticks": ""
            },
            "colorscale": [
             [
              0,
              "#0d0887"
             ],
             [
              0.1111111111111111,
              "#46039f"
             ],
             [
              0.2222222222222222,
              "#7201a8"
             ],
             [
              0.3333333333333333,
              "#9c179e"
             ],
             [
              0.4444444444444444,
              "#bd3786"
             ],
             [
              0.5555555555555556,
              "#d8576b"
             ],
             [
              0.6666666666666666,
              "#ed7953"
             ],
             [
              0.7777777777777778,
              "#fb9f3a"
             ],
             [
              0.8888888888888888,
              "#fdca26"
             ],
             [
              1,
              "#f0f921"
             ]
            ],
            "type": "histogram2d"
           }
          ],
          "histogram2dcontour": [
           {
            "colorbar": {
             "outlinewidth": 0,
             "ticks": ""
            },
            "colorscale": [
             [
              0,
              "#0d0887"
             ],
             [
              0.1111111111111111,
              "#46039f"
             ],
             [
              0.2222222222222222,
              "#7201a8"
             ],
             [
              0.3333333333333333,
              "#9c179e"
             ],
             [
              0.4444444444444444,
              "#bd3786"
             ],
             [
              0.5555555555555556,
              "#d8576b"
             ],
             [
              0.6666666666666666,
              "#ed7953"
             ],
             [
              0.7777777777777778,
              "#fb9f3a"
             ],
             [
              0.8888888888888888,
              "#fdca26"
             ],
             [
              1,
              "#f0f921"
             ]
            ],
            "type": "histogram2dcontour"
           }
          ],
          "mesh3d": [
           {
            "colorbar": {
             "outlinewidth": 0,
             "ticks": ""
            },
            "type": "mesh3d"
           }
          ],
          "parcoords": [
           {
            "line": {
             "colorbar": {
              "outlinewidth": 0,
              "ticks": ""
             }
            },
            "type": "parcoords"
           }
          ],
          "pie": [
           {
            "automargin": true,
            "type": "pie"
           }
          ],
          "scatter": [
           {
            "fillpattern": {
             "fillmode": "overlay",
             "size": 10,
             "solidity": 0.2
            },
            "type": "scatter"
           }
          ],
          "scatter3d": [
           {
            "line": {
             "colorbar": {
              "outlinewidth": 0,
              "ticks": ""
             }
            },
            "marker": {
             "colorbar": {
              "outlinewidth": 0,
              "ticks": ""
             }
            },
            "type": "scatter3d"
           }
          ],
          "scattercarpet": [
           {
            "marker": {
             "colorbar": {
              "outlinewidth": 0,
              "ticks": ""
             }
            },
            "type": "scattercarpet"
           }
          ],
          "scattergeo": [
           {
            "marker": {
             "colorbar": {
              "outlinewidth": 0,
              "ticks": ""
             }
            },
            "type": "scattergeo"
           }
          ],
          "scattergl": [
           {
            "marker": {
             "colorbar": {
              "outlinewidth": 0,
              "ticks": ""
             }
            },
            "type": "scattergl"
           }
          ],
          "scattermapbox": [
           {
            "marker": {
             "colorbar": {
              "outlinewidth": 0,
              "ticks": ""
             }
            },
            "type": "scattermapbox"
           }
          ],
          "scatterpolar": [
           {
            "marker": {
             "colorbar": {
              "outlinewidth": 0,
              "ticks": ""
             }
            },
            "type": "scatterpolar"
           }
          ],
          "scatterpolargl": [
           {
            "marker": {
             "colorbar": {
              "outlinewidth": 0,
              "ticks": ""
             }
            },
            "type": "scatterpolargl"
           }
          ],
          "scatterternary": [
           {
            "marker": {
             "colorbar": {
              "outlinewidth": 0,
              "ticks": ""
             }
            },
            "type": "scatterternary"
           }
          ],
          "surface": [
           {
            "colorbar": {
             "outlinewidth": 0,
             "ticks": ""
            },
            "colorscale": [
             [
              0,
              "#0d0887"
             ],
             [
              0.1111111111111111,
              "#46039f"
             ],
             [
              0.2222222222222222,
              "#7201a8"
             ],
             [
              0.3333333333333333,
              "#9c179e"
             ],
             [
              0.4444444444444444,
              "#bd3786"
             ],
             [
              0.5555555555555556,
              "#d8576b"
             ],
             [
              0.6666666666666666,
              "#ed7953"
             ],
             [
              0.7777777777777778,
              "#fb9f3a"
             ],
             [
              0.8888888888888888,
              "#fdca26"
             ],
             [
              1,
              "#f0f921"
             ]
            ],
            "type": "surface"
           }
          ],
          "table": [
           {
            "cells": {
             "fill": {
              "color": "#EBF0F8"
             },
             "line": {
              "color": "white"
             }
            },
            "header": {
             "fill": {
              "color": "#C8D4E3"
             },
             "line": {
              "color": "white"
             }
            },
            "type": "table"
           }
          ]
         },
         "layout": {
          "annotationdefaults": {
           "arrowcolor": "#2a3f5f",
           "arrowhead": 0,
           "arrowwidth": 1
          },
          "autotypenumbers": "strict",
          "coloraxis": {
           "colorbar": {
            "outlinewidth": 0,
            "ticks": ""
           }
          },
          "colorscale": {
           "diverging": [
            [
             0,
             "#8e0152"
            ],
            [
             0.1,
             "#c51b7d"
            ],
            [
             0.2,
             "#de77ae"
            ],
            [
             0.3,
             "#f1b6da"
            ],
            [
             0.4,
             "#fde0ef"
            ],
            [
             0.5,
             "#f7f7f7"
            ],
            [
             0.6,
             "#e6f5d0"
            ],
            [
             0.7,
             "#b8e186"
            ],
            [
             0.8,
             "#7fbc41"
            ],
            [
             0.9,
             "#4d9221"
            ],
            [
             1,
             "#276419"
            ]
           ],
           "sequential": [
            [
             0,
             "#0d0887"
            ],
            [
             0.1111111111111111,
             "#46039f"
            ],
            [
             0.2222222222222222,
             "#7201a8"
            ],
            [
             0.3333333333333333,
             "#9c179e"
            ],
            [
             0.4444444444444444,
             "#bd3786"
            ],
            [
             0.5555555555555556,
             "#d8576b"
            ],
            [
             0.6666666666666666,
             "#ed7953"
            ],
            [
             0.7777777777777778,
             "#fb9f3a"
            ],
            [
             0.8888888888888888,
             "#fdca26"
            ],
            [
             1,
             "#f0f921"
            ]
           ],
           "sequentialminus": [
            [
             0,
             "#0d0887"
            ],
            [
             0.1111111111111111,
             "#46039f"
            ],
            [
             0.2222222222222222,
             "#7201a8"
            ],
            [
             0.3333333333333333,
             "#9c179e"
            ],
            [
             0.4444444444444444,
             "#bd3786"
            ],
            [
             0.5555555555555556,
             "#d8576b"
            ],
            [
             0.6666666666666666,
             "#ed7953"
            ],
            [
             0.7777777777777778,
             "#fb9f3a"
            ],
            [
             0.8888888888888888,
             "#fdca26"
            ],
            [
             1,
             "#f0f921"
            ]
           ]
          },
          "colorway": [
           "#636efa",
           "#EF553B",
           "#00cc96",
           "#ab63fa",
           "#FFA15A",
           "#19d3f3",
           "#FF6692",
           "#B6E880",
           "#FF97FF",
           "#FECB52"
          ],
          "font": {
           "color": "#2a3f5f"
          },
          "geo": {
           "bgcolor": "white",
           "lakecolor": "white",
           "landcolor": "#E5ECF6",
           "showlakes": true,
           "showland": true,
           "subunitcolor": "white"
          },
          "hoverlabel": {
           "align": "left"
          },
          "hovermode": "closest",
          "mapbox": {
           "style": "light"
          },
          "paper_bgcolor": "white",
          "plot_bgcolor": "#E5ECF6",
          "polar": {
           "angularaxis": {
            "gridcolor": "white",
            "linecolor": "white",
            "ticks": ""
           },
           "bgcolor": "#E5ECF6",
           "radialaxis": {
            "gridcolor": "white",
            "linecolor": "white",
            "ticks": ""
           }
          },
          "scene": {
           "xaxis": {
            "backgroundcolor": "#E5ECF6",
            "gridcolor": "white",
            "gridwidth": 2,
            "linecolor": "white",
            "showbackground": true,
            "ticks": "",
            "zerolinecolor": "white"
           },
           "yaxis": {
            "backgroundcolor": "#E5ECF6",
            "gridcolor": "white",
            "gridwidth": 2,
            "linecolor": "white",
            "showbackground": true,
            "ticks": "",
            "zerolinecolor": "white"
           },
           "zaxis": {
            "backgroundcolor": "#E5ECF6",
            "gridcolor": "white",
            "gridwidth": 2,
            "linecolor": "white",
            "showbackground": true,
            "ticks": "",
            "zerolinecolor": "white"
           }
          },
          "shapedefaults": {
           "line": {
            "color": "#2a3f5f"
           }
          },
          "ternary": {
           "aaxis": {
            "gridcolor": "white",
            "linecolor": "white",
            "ticks": ""
           },
           "baxis": {
            "gridcolor": "white",
            "linecolor": "white",
            "ticks": ""
           },
           "bgcolor": "#E5ECF6",
           "caxis": {
            "gridcolor": "white",
            "linecolor": "white",
            "ticks": ""
           }
          },
          "title": {
           "x": 0.05
          },
          "xaxis": {
           "automargin": true,
           "gridcolor": "white",
           "linecolor": "white",
           "ticks": "",
           "title": {
            "standoff": 15
           },
           "zerolinecolor": "white",
           "zerolinewidth": 2
          },
          "yaxis": {
           "automargin": true,
           "gridcolor": "white",
           "linecolor": "white",
           "ticks": "",
           "title": {
            "standoff": 15
           },
           "zerolinecolor": "white",
           "zerolinewidth": 2
          }
         }
        }
       }
      }
     },
     "metadata": {},
     "output_type": "display_data"
    }
   ],
   "source": [
    "resume_data.sample()\n",
    "df = resume_data.groupby(resume_data[\"title\"]).agg({\"title\": \"count\"})\n",
    "df.columns = [\"count\"]\n",
    "df = df.sort_values(by=\"count\", ascending=False).reset_index()\n",
    "print(f\"Число уникальных заголовков в resume_data: {len(df)}\")\n",
    "df = df[:20]\n",
    "fig = go.Figure()\n",
    "fig.add_trace(go.Bar(x=df[\"title\"], y=df[\"count\"]))\n",
    "fig.show()"
   ]
  },
  {
   "cell_type": "markdown",
   "metadata": {},
   "source": [
    "Видим, что значительное большинство соискателей нацелено на руководящие должности  и маркетинг"
   ]
  },
  {
   "cell_type": "markdown",
   "metadata": {},
   "source": [
    "На всякий случай рассмотрим и независящий от соискателей gender\n"
   ]
  },
  {
   "cell_type": "code",
   "execution_count": 162,
   "metadata": {},
   "outputs": [
    {
     "name": "stderr",
     "output_type": "stream",
     "text": [
      "C:\\Users\\leedm\\AppData\\Local\\Temp\\ipykernel_22744\\3655850233.py:7: SettingWithCopyWarning:\n",
      "\n",
      "\n",
      "A value is trying to be set on a copy of a slice from a DataFrame.\n",
      "Try using .loc[row_indexer,col_indexer] = value instead\n",
      "\n",
      "See the caveats in the documentation: https://pandas.pydata.org/pandas-docs/stable/user_guide/indexing.html#returning-a-view-versus-a-copy\n",
      "\n"
     ]
    },
    {
     "data": {
      "application/vnd.plotly.v1+json": {
       "config": {
        "plotlyServerURL": "https://plot.ly"
       },
       "data": [
        {
         "name": "Мужчины",
         "type": "bar",
         "x": [
          21,
          22,
          23,
          24,
          25,
          26,
          27,
          28,
          29,
          30,
          31,
          32,
          33,
          34,
          35,
          36,
          37,
          38,
          39,
          40,
          41,
          42,
          43,
          44,
          45,
          46,
          47,
          48,
          49,
          50,
          51,
          52,
          53,
          54,
          55,
          56,
          57,
          58,
          59,
          60,
          61,
          62,
          63,
          66,
          67,
          71
         ],
         "y": [
          21,
          22,
          23,
          24,
          25,
          26,
          27,
          28,
          29,
          30,
          31,
          32,
          33,
          34,
          35,
          36,
          37,
          38,
          39,
          40,
          41,
          42,
          43,
          44,
          45,
          46,
          47,
          48,
          49,
          50,
          51,
          52,
          53,
          54,
          55,
          56,
          57,
          58,
          59,
          60,
          61,
          62,
          63,
          66,
          67,
          71
         ]
        },
        {
         "name": "Женщины",
         "type": "bar",
         "x": [
          19,
          20,
          21,
          22,
          23,
          24,
          25,
          26,
          27,
          28,
          29,
          30,
          31,
          32,
          33,
          34,
          35,
          36,
          37,
          38,
          39,
          40,
          41,
          42,
          43,
          44,
          45,
          46,
          47,
          48,
          49,
          50,
          51,
          52,
          53,
          54,
          55,
          56,
          58,
          59,
          61,
          65
         ],
         "y": [
          19,
          20,
          21,
          22,
          23,
          24,
          25,
          26,
          27,
          28,
          29,
          30,
          31,
          32,
          33,
          34,
          35,
          36,
          37,
          38,
          39,
          40,
          41,
          42,
          43,
          44,
          45,
          46,
          47,
          48,
          49,
          50,
          51,
          52,
          53,
          54,
          55,
          56,
          58,
          59,
          61,
          65
         ]
        }
       ],
       "layout": {
        "template": {
         "data": {
          "bar": [
           {
            "error_x": {
             "color": "#2a3f5f"
            },
            "error_y": {
             "color": "#2a3f5f"
            },
            "marker": {
             "line": {
              "color": "#E5ECF6",
              "width": 0.5
             },
             "pattern": {
              "fillmode": "overlay",
              "size": 10,
              "solidity": 0.2
             }
            },
            "type": "bar"
           }
          ],
          "barpolar": [
           {
            "marker": {
             "line": {
              "color": "#E5ECF6",
              "width": 0.5
             },
             "pattern": {
              "fillmode": "overlay",
              "size": 10,
              "solidity": 0.2
             }
            },
            "type": "barpolar"
           }
          ],
          "carpet": [
           {
            "aaxis": {
             "endlinecolor": "#2a3f5f",
             "gridcolor": "white",
             "linecolor": "white",
             "minorgridcolor": "white",
             "startlinecolor": "#2a3f5f"
            },
            "baxis": {
             "endlinecolor": "#2a3f5f",
             "gridcolor": "white",
             "linecolor": "white",
             "minorgridcolor": "white",
             "startlinecolor": "#2a3f5f"
            },
            "type": "carpet"
           }
          ],
          "choropleth": [
           {
            "colorbar": {
             "outlinewidth": 0,
             "ticks": ""
            },
            "type": "choropleth"
           }
          ],
          "contour": [
           {
            "colorbar": {
             "outlinewidth": 0,
             "ticks": ""
            },
            "colorscale": [
             [
              0,
              "#0d0887"
             ],
             [
              0.1111111111111111,
              "#46039f"
             ],
             [
              0.2222222222222222,
              "#7201a8"
             ],
             [
              0.3333333333333333,
              "#9c179e"
             ],
             [
              0.4444444444444444,
              "#bd3786"
             ],
             [
              0.5555555555555556,
              "#d8576b"
             ],
             [
              0.6666666666666666,
              "#ed7953"
             ],
             [
              0.7777777777777778,
              "#fb9f3a"
             ],
             [
              0.8888888888888888,
              "#fdca26"
             ],
             [
              1,
              "#f0f921"
             ]
            ],
            "type": "contour"
           }
          ],
          "contourcarpet": [
           {
            "colorbar": {
             "outlinewidth": 0,
             "ticks": ""
            },
            "type": "contourcarpet"
           }
          ],
          "heatmap": [
           {
            "colorbar": {
             "outlinewidth": 0,
             "ticks": ""
            },
            "colorscale": [
             [
              0,
              "#0d0887"
             ],
             [
              0.1111111111111111,
              "#46039f"
             ],
             [
              0.2222222222222222,
              "#7201a8"
             ],
             [
              0.3333333333333333,
              "#9c179e"
             ],
             [
              0.4444444444444444,
              "#bd3786"
             ],
             [
              0.5555555555555556,
              "#d8576b"
             ],
             [
              0.6666666666666666,
              "#ed7953"
             ],
             [
              0.7777777777777778,
              "#fb9f3a"
             ],
             [
              0.8888888888888888,
              "#fdca26"
             ],
             [
              1,
              "#f0f921"
             ]
            ],
            "type": "heatmap"
           }
          ],
          "heatmapgl": [
           {
            "colorbar": {
             "outlinewidth": 0,
             "ticks": ""
            },
            "colorscale": [
             [
              0,
              "#0d0887"
             ],
             [
              0.1111111111111111,
              "#46039f"
             ],
             [
              0.2222222222222222,
              "#7201a8"
             ],
             [
              0.3333333333333333,
              "#9c179e"
             ],
             [
              0.4444444444444444,
              "#bd3786"
             ],
             [
              0.5555555555555556,
              "#d8576b"
             ],
             [
              0.6666666666666666,
              "#ed7953"
             ],
             [
              0.7777777777777778,
              "#fb9f3a"
             ],
             [
              0.8888888888888888,
              "#fdca26"
             ],
             [
              1,
              "#f0f921"
             ]
            ],
            "type": "heatmapgl"
           }
          ],
          "histogram": [
           {
            "marker": {
             "pattern": {
              "fillmode": "overlay",
              "size": 10,
              "solidity": 0.2
             }
            },
            "type": "histogram"
           }
          ],
          "histogram2d": [
           {
            "colorbar": {
             "outlinewidth": 0,
             "ticks": ""
            },
            "colorscale": [
             [
              0,
              "#0d0887"
             ],
             [
              0.1111111111111111,
              "#46039f"
             ],
             [
              0.2222222222222222,
              "#7201a8"
             ],
             [
              0.3333333333333333,
              "#9c179e"
             ],
             [
              0.4444444444444444,
              "#bd3786"
             ],
             [
              0.5555555555555556,
              "#d8576b"
             ],
             [
              0.6666666666666666,
              "#ed7953"
             ],
             [
              0.7777777777777778,
              "#fb9f3a"
             ],
             [
              0.8888888888888888,
              "#fdca26"
             ],
             [
              1,
              "#f0f921"
             ]
            ],
            "type": "histogram2d"
           }
          ],
          "histogram2dcontour": [
           {
            "colorbar": {
             "outlinewidth": 0,
             "ticks": ""
            },
            "colorscale": [
             [
              0,
              "#0d0887"
             ],
             [
              0.1111111111111111,
              "#46039f"
             ],
             [
              0.2222222222222222,
              "#7201a8"
             ],
             [
              0.3333333333333333,
              "#9c179e"
             ],
             [
              0.4444444444444444,
              "#bd3786"
             ],
             [
              0.5555555555555556,
              "#d8576b"
             ],
             [
              0.6666666666666666,
              "#ed7953"
             ],
             [
              0.7777777777777778,
              "#fb9f3a"
             ],
             [
              0.8888888888888888,
              "#fdca26"
             ],
             [
              1,
              "#f0f921"
             ]
            ],
            "type": "histogram2dcontour"
           }
          ],
          "mesh3d": [
           {
            "colorbar": {
             "outlinewidth": 0,
             "ticks": ""
            },
            "type": "mesh3d"
           }
          ],
          "parcoords": [
           {
            "line": {
             "colorbar": {
              "outlinewidth": 0,
              "ticks": ""
             }
            },
            "type": "parcoords"
           }
          ],
          "pie": [
           {
            "automargin": true,
            "type": "pie"
           }
          ],
          "scatter": [
           {
            "fillpattern": {
             "fillmode": "overlay",
             "size": 10,
             "solidity": 0.2
            },
            "type": "scatter"
           }
          ],
          "scatter3d": [
           {
            "line": {
             "colorbar": {
              "outlinewidth": 0,
              "ticks": ""
             }
            },
            "marker": {
             "colorbar": {
              "outlinewidth": 0,
              "ticks": ""
             }
            },
            "type": "scatter3d"
           }
          ],
          "scattercarpet": [
           {
            "marker": {
             "colorbar": {
              "outlinewidth": 0,
              "ticks": ""
             }
            },
            "type": "scattercarpet"
           }
          ],
          "scattergeo": [
           {
            "marker": {
             "colorbar": {
              "outlinewidth": 0,
              "ticks": ""
             }
            },
            "type": "scattergeo"
           }
          ],
          "scattergl": [
           {
            "marker": {
             "colorbar": {
              "outlinewidth": 0,
              "ticks": ""
             }
            },
            "type": "scattergl"
           }
          ],
          "scattermapbox": [
           {
            "marker": {
             "colorbar": {
              "outlinewidth": 0,
              "ticks": ""
             }
            },
            "type": "scattermapbox"
           }
          ],
          "scatterpolar": [
           {
            "marker": {
             "colorbar": {
              "outlinewidth": 0,
              "ticks": ""
             }
            },
            "type": "scatterpolar"
           }
          ],
          "scatterpolargl": [
           {
            "marker": {
             "colorbar": {
              "outlinewidth": 0,
              "ticks": ""
             }
            },
            "type": "scatterpolargl"
           }
          ],
          "scatterternary": [
           {
            "marker": {
             "colorbar": {
              "outlinewidth": 0,
              "ticks": ""
             }
            },
            "type": "scatterternary"
           }
          ],
          "surface": [
           {
            "colorbar": {
             "outlinewidth": 0,
             "ticks": ""
            },
            "colorscale": [
             [
              0,
              "#0d0887"
             ],
             [
              0.1111111111111111,
              "#46039f"
             ],
             [
              0.2222222222222222,
              "#7201a8"
             ],
             [
              0.3333333333333333,
              "#9c179e"
             ],
             [
              0.4444444444444444,
              "#bd3786"
             ],
             [
              0.5555555555555556,
              "#d8576b"
             ],
             [
              0.6666666666666666,
              "#ed7953"
             ],
             [
              0.7777777777777778,
              "#fb9f3a"
             ],
             [
              0.8888888888888888,
              "#fdca26"
             ],
             [
              1,
              "#f0f921"
             ]
            ],
            "type": "surface"
           }
          ],
          "table": [
           {
            "cells": {
             "fill": {
              "color": "#EBF0F8"
             },
             "line": {
              "color": "white"
             }
            },
            "header": {
             "fill": {
              "color": "#C8D4E3"
             },
             "line": {
              "color": "white"
             }
            },
            "type": "table"
           }
          ]
         },
         "layout": {
          "annotationdefaults": {
           "arrowcolor": "#2a3f5f",
           "arrowhead": 0,
           "arrowwidth": 1
          },
          "autotypenumbers": "strict",
          "coloraxis": {
           "colorbar": {
            "outlinewidth": 0,
            "ticks": ""
           }
          },
          "colorscale": {
           "diverging": [
            [
             0,
             "#8e0152"
            ],
            [
             0.1,
             "#c51b7d"
            ],
            [
             0.2,
             "#de77ae"
            ],
            [
             0.3,
             "#f1b6da"
            ],
            [
             0.4,
             "#fde0ef"
            ],
            [
             0.5,
             "#f7f7f7"
            ],
            [
             0.6,
             "#e6f5d0"
            ],
            [
             0.7,
             "#b8e186"
            ],
            [
             0.8,
             "#7fbc41"
            ],
            [
             0.9,
             "#4d9221"
            ],
            [
             1,
             "#276419"
            ]
           ],
           "sequential": [
            [
             0,
             "#0d0887"
            ],
            [
             0.1111111111111111,
             "#46039f"
            ],
            [
             0.2222222222222222,
             "#7201a8"
            ],
            [
             0.3333333333333333,
             "#9c179e"
            ],
            [
             0.4444444444444444,
             "#bd3786"
            ],
            [
             0.5555555555555556,
             "#d8576b"
            ],
            [
             0.6666666666666666,
             "#ed7953"
            ],
            [
             0.7777777777777778,
             "#fb9f3a"
            ],
            [
             0.8888888888888888,
             "#fdca26"
            ],
            [
             1,
             "#f0f921"
            ]
           ],
           "sequentialminus": [
            [
             0,
             "#0d0887"
            ],
            [
             0.1111111111111111,
             "#46039f"
            ],
            [
             0.2222222222222222,
             "#7201a8"
            ],
            [
             0.3333333333333333,
             "#9c179e"
            ],
            [
             0.4444444444444444,
             "#bd3786"
            ],
            [
             0.5555555555555556,
             "#d8576b"
            ],
            [
             0.6666666666666666,
             "#ed7953"
            ],
            [
             0.7777777777777778,
             "#fb9f3a"
            ],
            [
             0.8888888888888888,
             "#fdca26"
            ],
            [
             1,
             "#f0f921"
            ]
           ]
          },
          "colorway": [
           "#636efa",
           "#EF553B",
           "#00cc96",
           "#ab63fa",
           "#FFA15A",
           "#19d3f3",
           "#FF6692",
           "#B6E880",
           "#FF97FF",
           "#FECB52"
          ],
          "font": {
           "color": "#2a3f5f"
          },
          "geo": {
           "bgcolor": "white",
           "lakecolor": "white",
           "landcolor": "#E5ECF6",
           "showlakes": true,
           "showland": true,
           "subunitcolor": "white"
          },
          "hoverlabel": {
           "align": "left"
          },
          "hovermode": "closest",
          "mapbox": {
           "style": "light"
          },
          "paper_bgcolor": "white",
          "plot_bgcolor": "#E5ECF6",
          "polar": {
           "angularaxis": {
            "gridcolor": "white",
            "linecolor": "white",
            "ticks": ""
           },
           "bgcolor": "#E5ECF6",
           "radialaxis": {
            "gridcolor": "white",
            "linecolor": "white",
            "ticks": ""
           }
          },
          "scene": {
           "xaxis": {
            "backgroundcolor": "#E5ECF6",
            "gridcolor": "white",
            "gridwidth": 2,
            "linecolor": "white",
            "showbackground": true,
            "ticks": "",
            "zerolinecolor": "white"
           },
           "yaxis": {
            "backgroundcolor": "#E5ECF6",
            "gridcolor": "white",
            "gridwidth": 2,
            "linecolor": "white",
            "showbackground": true,
            "ticks": "",
            "zerolinecolor": "white"
           },
           "zaxis": {
            "backgroundcolor": "#E5ECF6",
            "gridcolor": "white",
            "gridwidth": 2,
            "linecolor": "white",
            "showbackground": true,
            "ticks": "",
            "zerolinecolor": "white"
           }
          },
          "shapedefaults": {
           "line": {
            "color": "#2a3f5f"
           }
          },
          "ternary": {
           "aaxis": {
            "gridcolor": "white",
            "linecolor": "white",
            "ticks": ""
           },
           "baxis": {
            "gridcolor": "white",
            "linecolor": "white",
            "ticks": ""
           },
           "bgcolor": "#E5ECF6",
           "caxis": {
            "gridcolor": "white",
            "linecolor": "white",
            "ticks": ""
           }
          },
          "title": {
           "x": 0.05
          },
          "xaxis": {
           "automargin": true,
           "gridcolor": "white",
           "linecolor": "white",
           "ticks": "",
           "title": {
            "standoff": 15
           },
           "zerolinecolor": "white",
           "zerolinewidth": 2
          },
          "yaxis": {
           "automargin": true,
           "gridcolor": "white",
           "linecolor": "white",
           "ticks": "",
           "title": {
            "standoff": 15
           },
           "zerolinecolor": "white",
           "zerolinewidth": 2
          }
         }
        }
       }
      }
     },
     "metadata": {},
     "output_type": "display_data"
    }
   ],
   "source": [
    "\n",
    "df = resume_data.loc[resume_data[\"salary\"]<1000000]\n",
    "df1 = df.loc[df[\"gender\"]==\"Мужчина\"]\n",
    "df2 = df.loc[df[\"gender\"]==\"Женщина\"]\n",
    "df1 = df1.groupby(\"age\").agg({\"age\": \"mean\"})\n",
    "df2 = df2.groupby(\"age\").agg({\"age\": \"mean\"})\n",
    "\n",
    "df[\"gender\"] = resume_data[\"gender\"]\n",
    "\n",
    "fig = go.Figure()\n",
    "fig.add_trace(go.Bar(name=\"Мужчины\", x=df1.index, y=df1[\"age\"]))\n",
    "fig.add_trace(go.Bar(name=\"Женщины\", x=df2.index, y=df2[\"age\"]))\n",
    "fig.show()"
   ]
  },
  {
   "cell_type": "code",
   "execution_count": 163,
   "metadata": {},
   "outputs": [
    {
     "data": {
      "text/html": [
       "<div>\n",
       "<style scoped>\n",
       "    .dataframe tbody tr th:only-of-type {\n",
       "        vertical-align: middle;\n",
       "    }\n",
       "\n",
       "    .dataframe tbody tr th {\n",
       "        vertical-align: top;\n",
       "    }\n",
       "\n",
       "    .dataframe thead th {\n",
       "        text-align: right;\n",
       "    }\n",
       "</style>\n",
       "<table border=\"1\" class=\"dataframe\">\n",
       "  <thead>\n",
       "    <tr style=\"text-align: right;\">\n",
       "      <th></th>\n",
       "      <th>gender</th>\n",
       "    </tr>\n",
       "    <tr>\n",
       "      <th>gender</th>\n",
       "      <th></th>\n",
       "    </tr>\n",
       "  </thead>\n",
       "  <tbody>\n",
       "    <tr>\n",
       "      <th>Женщина</th>\n",
       "      <td>1646</td>\n",
       "    </tr>\n",
       "    <tr>\n",
       "      <th>Мужчина</th>\n",
       "      <td>1653</td>\n",
       "    </tr>\n",
       "    <tr>\n",
       "      <th>Пол не указан</th>\n",
       "      <td>3</td>\n",
       "    </tr>\n",
       "  </tbody>\n",
       "</table>\n",
       "</div>"
      ],
      "text/plain": [
       "               gender\n",
       "gender               \n",
       "Женщина          1646\n",
       "Мужчина          1653\n",
       "Пол не указан       3"
      ]
     },
     "execution_count": 163,
     "metadata": {},
     "output_type": "execute_result"
    }
   ],
   "source": [
    "resume_data.groupby([\"gender\"]).agg({\"gender\": \"count\"})"
   ]
  },
  {
   "cell_type": "code",
   "execution_count": 164,
   "metadata": {},
   "outputs": [
    {
     "data": {
      "text/html": [
       "\n",
       "        <iframe\n",
       "            width=\"100%\"\n",
       "            height=\"650\"\n",
       "            src=\"http://127.0.0.1:8050/\"\n",
       "            frameborder=\"0\"\n",
       "            allowfullscreen\n",
       "            \n",
       "        ></iframe>\n",
       "        "
      ],
      "text/plain": [
       "<IPython.lib.display.IFrame at 0x19abdf56960>"
      ]
     },
     "metadata": {},
     "output_type": "display_data"
    }
   ],
   "source": [
    "df = resume_data[resume_data[\"salary\"]<1000000]\n",
    "\n",
    "app = Dash(\"Salary\")\n",
    "\n",
    "dropdown = dcc.Dropdown([100_000, 200_000, 300_000, 400_000, 1_000_000], clearable=False)\n",
    "\n",
    "graph = dcc.Graph()\n",
    "\n",
    "app.layout = html.Div([html.H4(\"Зависимость размера заработной платы от пола\"), dropdown, graph])\n",
    "\n",
    "@callback(Output(graph, \"figure\"), Input(dropdown, \"value\"))\n",
    "def update_bar_chart(salary):\n",
    "    mask = df[\"salary\"] < salary\n",
    "    fig = px.bar(df[mask], x=\"age\", y=\"salary\", color=\"gender\", barmode=\"group\")\n",
    "    return fig\n",
    "\n",
    "app.run_server(debug=True)"
   ]
  },
  {
   "cell_type": "code",
   "execution_count": 165,
   "metadata": {},
   "outputs": [
    {
     "data": {
      "text/html": [
       "<div>\n",
       "<style scoped>\n",
       "    .dataframe tbody tr th:only-of-type {\n",
       "        vertical-align: middle;\n",
       "    }\n",
       "\n",
       "    .dataframe tbody tr th {\n",
       "        vertical-align: top;\n",
       "    }\n",
       "\n",
       "    .dataframe thead th {\n",
       "        text-align: right;\n",
       "    }\n",
       "</style>\n",
       "<table border=\"1\" class=\"dataframe\">\n",
       "  <thead>\n",
       "    <tr style=\"text-align: right;\">\n",
       "      <th></th>\n",
       "      <th>gender</th>\n",
       "    </tr>\n",
       "    <tr>\n",
       "      <th>gender</th>\n",
       "      <th></th>\n",
       "    </tr>\n",
       "  </thead>\n",
       "  <tbody>\n",
       "    <tr>\n",
       "      <th>Женщина</th>\n",
       "      <td>1305</td>\n",
       "    </tr>\n",
       "    <tr>\n",
       "      <th>Мужчина</th>\n",
       "      <td>1060</td>\n",
       "    </tr>\n",
       "    <tr>\n",
       "      <th>Пол не указан</th>\n",
       "      <td>3</td>\n",
       "    </tr>\n",
       "  </tbody>\n",
       "</table>\n",
       "</div>"
      ],
      "text/plain": [
       "               gender\n",
       "gender               \n",
       "Женщина          1305\n",
       "Мужчина          1060\n",
       "Пол не указан       3"
      ]
     },
     "execution_count": 165,
     "metadata": {},
     "output_type": "execute_result"
    }
   ],
   "source": [
    "resume_data[resume_data[\"salary\"]<300000].groupby([\"gender\"]).agg({\"gender\": \"count\"})"
   ]
  },
  {
   "cell_type": "markdown",
   "metadata": {},
   "source": [
    "На первый взгляд кажется, что при равенстве количества мужских и женских вакансий, женщины оценивают свою зарплату меньше, чем мужчины. Однако в срезе зарплат до 300_000 рублей мужчины оценивают свою зарплату меньше, чем женщины, правда это также в силу того, что в этом срезе количество женщин на 30% больше, чем мужчин.\n",
    "\n",
    "Кроме того в пределах наших данных можно предположить, что в Москве женщины менее заинтересованны в поиске работы после 55 лет"
   ]
  },
  {
   "cell_type": "markdown",
   "metadata": {},
   "source": [
    "# Вывод\n",
    "\n",
    "### Данные и предобработка\n",
    "\n",
    "\n",
    "### Вакансии\n",
    "* Ожидаемо рост зарплаты напрямую зависит от опыта\n",
    "* В вакансиях с тегами оптимизация логистических операций, Affiliate, стратегический менеджмент, медиабаинг наблюдается повышенное отклонение std по среднему значению начальной зарплаты. Предположительно так как эти навыки могут пригодится сотрудникам самых разных уровней\n",
    "* С ростом зарплаты вакансии все чаще предполагают организационную деятельность\n",
    "\n",
    "### Резюме\n",
    "* Интересно, что большинство соискателей нацелено на руководящие должности и маркетинг\n",
    "* Половина соискателей в возрасте от 32 до 41 года\n",
    "* Равное количество мужчин и женщин\n",
    "* В основном соискатели указывают чаще всего от 4 до 10 тегов\n",
    "* Мужчины соискатели как правило оценивают свою зарплату больше, чем женщины\n",
    "* Удалены вакансии с неестественными параметрами (например, вакансии с зарплатой большей 5 млн при низком опыте)\n",
    "\n",
    "### Комментарий\n",
    "Можно еще провести анализ соответствия тегов из resume_data с тегами из data. В выводе получим отношение ожидания работодателей к возможностям соискателей(однако мы уже видим, что работадатели ищут людей с тегами, примущим руководящим должностям, см. Вывод.Вакансии и Вывод.Резюме). Также с помощью geopy можно переформатировать адреса из city и city2 в координаты и составить гексогональную карту"
   ]
  }
 ],
 "metadata": {
  "kernelspec": {
   "display_name": "Python 3",
   "language": "python",
   "name": "python3"
  },
  "language_info": {
   "codemirror_mode": {
    "name": "ipython",
    "version": 3
   },
   "file_extension": ".py",
   "mimetype": "text/x-python",
   "name": "python",
   "nbconvert_exporter": "python",
   "pygments_lexer": "ipython3",
   "version": "3.12.4"
  }
 },
 "nbformat": 4,
 "nbformat_minor": 2
}
